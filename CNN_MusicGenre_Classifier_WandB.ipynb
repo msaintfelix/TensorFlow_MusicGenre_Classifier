{
 "cells": [
  {
   "cell_type": "markdown",
   "metadata": {},
   "source": [
    "## Music genre classifier with TensorFlow"
   ]
  },
  {
   "cell_type": "markdown",
   "metadata": {},
   "source": [
    "The objective of this project is to classify 30 sec wav files by genre using a TensorFlow CNN model. The GTZAN dataset can be found here:\n",
    "\n",
    "https://www.kaggle.com/andradaolteanu/gtzan-dataset-music-genre-classification\n",
    "\n",
    "To classify audio samples, we will preprocess them by calculating their MFCC, which is a temporal representation of the energy for each perceived frequency band. In this case, we are choosing 13 bands."
   ]
  },
  {
   "cell_type": "code",
   "execution_count": 1,
   "metadata": {},
   "outputs": [],
   "source": [
    "import os\n",
    "import json\n",
    "import numpy as np\n",
    "import librosa\n",
    "import matplotlib.pyplot as plt\n",
    "from sklearn.model_selection import train_test_split\n",
    "import tensorflow as tf\n",
    "\n",
    "import wandb\n",
    "from wandb.keras import WandbCallback"
   ]
  },
  {
   "cell_type": "code",
   "execution_count": 2,
   "metadata": {},
   "outputs": [
    {
     "name": "stderr",
     "output_type": "stream",
     "text": [
      "\u001b[34m\u001b[1mwandb\u001b[0m: Currently logged in as: \u001b[33mmsaintfelix\u001b[0m (use `wandb login --relogin` to force relogin)\n"
     ]
    },
    {
     "data": {
      "text/html": [
       "wandb version 0.13.2 is available!  To upgrade, please run:\n",
       " $ pip install wandb --upgrade"
      ],
      "text/plain": [
       "<IPython.core.display.HTML object>"
      ]
     },
     "metadata": {},
     "output_type": "display_data"
    },
    {
     "data": {
      "text/html": [
       "Tracking run with wandb version 0.12.11"
      ],
      "text/plain": [
       "<IPython.core.display.HTML object>"
      ]
     },
     "metadata": {},
     "output_type": "display_data"
    },
    {
     "data": {
      "text/html": [
       "Run data is saved locally in <code>/Users/msf/GitHub/TensorFlow_MusicGenre_Classifier/wandb/run-20220828_125959-2t8bvftb</code>"
      ],
      "text/plain": [
       "<IPython.core.display.HTML object>"
      ]
     },
     "metadata": {},
     "output_type": "display_data"
    },
    {
     "data": {
      "text/html": [
       "Syncing run <strong><a href=\"https://wandb.ai/msaintfelix/Genre-Classifier-WandB/runs/2t8bvftb\" target=\"_blank\">royal-dew-2</a></strong> to <a href=\"https://wandb.ai/msaintfelix/Genre-Classifier-WandB\" target=\"_blank\">Weights & Biases</a> (<a href=\"https://wandb.me/run\" target=\"_blank\">docs</a>)<br/>"
      ],
      "text/plain": [
       "<IPython.core.display.HTML object>"
      ]
     },
     "metadata": {},
     "output_type": "display_data"
    }
   ],
   "source": [
    "run = wandb.init(\n",
    "    project='Genre-Classifier-WandB',\n",
    "    config={\n",
    "    \"learning_rate\": 0.001,\n",
    "    \"epochs\": 15,\n",
    "    \"batch_size\": 32,\n",
    "    \"loss_function\": \"sparse_categorical_crossentropy\",\n",
    "    \"architecture\": \"CNN\",\n",
    "    \"dataset\": \"GTZAN\"\n",
    "    })\n",
    "\n",
    "config = wandb.config"
   ]
  },
  {
   "cell_type": "code",
   "execution_count": 3,
   "metadata": {},
   "outputs": [],
   "source": [
    "# Dataset location\n",
    "SOURCE_PATH = 'Dataset/genres_original/'\n",
    "\n",
    "# Path to labels and processed data file, json format.\n",
    "JSON_PATH = 'data.json'\n",
    "\n",
    "# Sampling rate.\n",
    "sr = 22050\n",
    "\n",
    "# Let's make sure all files have the same amount of samples, pick a duration right under 30 seconds.\n",
    "TOTAL_SAMPLES = 29 * sr\n",
    "\n",
    "# The dataset contains 999 files. Lets make it bigger. \n",
    "# X amount of slices => X times more training examples.\n",
    "NUM_SLICES = 10\n",
    "SAMPLES_PER_SLICE = int(TOTAL_SAMPLES / NUM_SLICES)"
   ]
  },
  {
   "cell_type": "code",
   "execution_count": 4,
   "metadata": {},
   "outputs": [],
   "source": [
    "def preprocess_data(source_path, json_path):\n",
    "\n",
    "    # Let's create a dictionary of labels and processed data.\n",
    "    mydict = {\n",
    "        \"labels\": [],\n",
    "        \"mfcc\": []\n",
    "        }\n",
    "\n",
    "    # Let's browse each file, slice it and generate the 13 band mfcc for each slice.\n",
    "    for i, (dirpath, dirnames, filenames) in enumerate(os.walk(source_path)):\n",
    "\n",
    "        for file in filenames:\n",
    "            song, sr = librosa.load(os.path.join(dirpath, file), duration=29)\n",
    "\n",
    "            for s in range(NUM_SLICES):\n",
    "                start_sample = SAMPLES_PER_SLICE * s\n",
    "                end_sample = start_sample + SAMPLES_PER_SLICE\n",
    "                mfcc = librosa.feature.mfcc(y=song[start_sample:end_sample], sr=sr, n_mfcc=13)\n",
    "                mfcc = mfcc.T\n",
    "                mydict[\"labels\"].append(i-1)\n",
    "                mydict[\"mfcc\"].append(mfcc.tolist())\n",
    "\n",
    "    # Let's write the dictionary in a json file.    \n",
    "    with open(json_path, 'w') as f:\n",
    "        json.dump(mydict, f)\n",
    "    f.close()"
   ]
  },
  {
   "cell_type": "code",
   "execution_count": 5,
   "metadata": {},
   "outputs": [],
   "source": [
    "def load_data(json_path):\n",
    "\n",
    "    with open(json_path, 'r') as f:\n",
    "        data = json.load(f)\n",
    "    f.close()\n",
    "\n",
    "    # Let's load our data into numpy arrays for TensorFlow compatibility.\n",
    "    X = np.array(data[\"mfcc\"])\n",
    "    y = np.array(data[\"labels\"])\n",
    "    print(X.shape)\n",
    "\n",
    "    return X, y"
   ]
  },
  {
   "cell_type": "code",
   "execution_count": 6,
   "metadata": {},
   "outputs": [],
   "source": [
    "def prepare_datasets(inputs, targets, split_size):\n",
    "    \n",
    "    # Creating a validation set and a test set.\n",
    "    inputs_train, inputs_val, targets_train, targets_val = train_test_split(inputs, targets, test_size=split_size)\n",
    "    inputs_train, inputs_test, targets_train, targets_test = train_test_split(inputs_train, targets_train, test_size=split_size)\n",
    "    \n",
    "    # Our CNN model expects 3D input shape.\n",
    "    inputs_train = inputs_train[..., np.newaxis]\n",
    "    inputs_val = inputs_val[..., np.newaxis]\n",
    "    inputs_test = inputs_test[..., np.newaxis]\n",
    "    \n",
    "    return inputs_train, inputs_val, inputs_test, targets_train, targets_val, targets_test"
   ]
  },
  {
   "cell_type": "code",
   "execution_count": 7,
   "metadata": {},
   "outputs": [],
   "source": [
    "def design_model(input_shape):\n",
    "\n",
    "    # Let's design the model architecture.\n",
    "    model = tf.keras.models.Sequential([\n",
    "        \n",
    "        tf.keras.layers.Conv2D(32, (3,3), activation='relu', input_shape=input_shape),\n",
    "        tf.keras.layers.MaxPooling2D((3,3), strides=(2,2), padding='same'),\n",
    "        tf.keras.layers.BatchNormalization(),\n",
    "        \n",
    "        tf.keras.layers.Conv2D(32, (3,3), activation='relu'),\n",
    "        tf.keras.layers.MaxPooling2D((3,3), strides=(2,2), padding='same'),\n",
    "        tf.keras.layers.BatchNormalization(),\n",
    "        \n",
    "        tf.keras.layers.Conv2D(32, (2,2), activation='relu'),\n",
    "        tf.keras.layers.MaxPooling2D((3,3), strides=(2,2), padding='same'),\n",
    "        tf.keras.layers.BatchNormalization(),\n",
    "        tf.keras.layers.Dropout(0.3),\n",
    "        \n",
    "        tf.keras.layers.Flatten(),\n",
    "        tf.keras.layers.Dense(64, activation='relu'), \n",
    "        tf.keras.layers.Dense(len(np.unique(targets)), activation='softmax')\n",
    "    ])\n",
    "\n",
    "    return model"
   ]
  },
  {
   "cell_type": "code",
   "execution_count": 8,
   "metadata": {},
   "outputs": [],
   "source": [
    "def make_prediction(model, X, y, idx):\n",
    "    \n",
    "    genre_dict = {\n",
    "        0 : \"blues\",\n",
    "        1 : \"classical\",\n",
    "        2 : \"country\",\n",
    "        3 : \"disco\",\n",
    "        4 : \"hiphop\",\n",
    "        5 : \"jazz\",\n",
    "        6 : \"metal\",\n",
    "        7 : \"pop\",\n",
    "        8 : \"reggae\",\n",
    "        9 : \"rock\",\n",
    "        }\n",
    "        \n",
    "    predictions = model.predict(X)\n",
    "    genre = np.argmax(predictions[idx])\n",
    "    \n",
    "    print(\"\\n---Now testing the model for one audio file---\\nThe model predicts: {}, and ground truth is: {}.\\n\".format(genre_dict[genre], genre_dict[y[idx]]))"
   ]
  },
  {
   "cell_type": "code",
   "execution_count": 9,
   "metadata": {},
   "outputs": [],
   "source": [
    "def plot_performance(hist):\n",
    "    \n",
    "    acc = hist.history['acc']\n",
    "    val_acc = hist.history['val_acc']\n",
    "    loss = hist.history['loss']\n",
    "    val_loss = hist.history['val_loss']\n",
    "\n",
    "    epochs = range(len(acc))\n",
    "\n",
    "    plt.plot(epochs, acc, 'r', label='Training accuracy')\n",
    "    plt.plot(epochs, val_acc, 'b', label='Validation accuracy')\n",
    "    plt.title('Training and validation accuracy')\n",
    "    plt.legend()\n",
    "    plt.figure()\n",
    "\n",
    "    plt.plot(epochs, loss, 'r', label='Training Loss')\n",
    "    plt.plot(epochs, val_loss, 'b', label='Validation Loss')\n",
    "    plt.title('Training and validation loss')\n",
    "    plt.legend()\n",
    "\n",
    "    plt.show()"
   ]
  },
  {
   "cell_type": "code",
   "execution_count": 10,
   "metadata": {},
   "outputs": [
    {
     "name": "stdout",
     "output_type": "stream",
     "text": [
      "(9990, 125, 13)\n",
      "Model: \"sequential\"\n",
      "_________________________________________________________________\n",
      "Layer (type)                 Output Shape              Param #   \n",
      "=================================================================\n",
      "conv2d (Conv2D)              (None, 123, 11, 32)       320       \n",
      "_________________________________________________________________\n",
      "max_pooling2d (MaxPooling2D) (None, 62, 6, 32)         0         \n",
      "_________________________________________________________________\n",
      "batch_normalization (BatchNo (None, 62, 6, 32)         128       \n",
      "_________________________________________________________________\n",
      "conv2d_1 (Conv2D)            (None, 60, 4, 32)         9248      \n",
      "_________________________________________________________________\n",
      "max_pooling2d_1 (MaxPooling2 (None, 30, 2, 32)         0         \n",
      "_________________________________________________________________\n",
      "batch_normalization_1 (Batch (None, 30, 2, 32)         128       \n",
      "_________________________________________________________________\n",
      "conv2d_2 (Conv2D)            (None, 29, 1, 32)         4128      \n",
      "_________________________________________________________________\n",
      "max_pooling2d_2 (MaxPooling2 (None, 15, 1, 32)         0         \n",
      "_________________________________________________________________\n",
      "batch_normalization_2 (Batch (None, 15, 1, 32)         128       \n",
      "_________________________________________________________________\n",
      "dropout (Dropout)            (None, 15, 1, 32)         0         \n",
      "_________________________________________________________________\n",
      "flatten (Flatten)            (None, 480)               0         \n",
      "_________________________________________________________________\n",
      "dense (Dense)                (None, 64)                30784     \n",
      "_________________________________________________________________\n",
      "dense_1 (Dense)              (None, 10)                650       \n",
      "=================================================================\n",
      "Total params: 45,514\n",
      "Trainable params: 45,322\n",
      "Non-trainable params: 192\n",
      "_________________________________________________________________\n",
      "Epoch 1/15\n",
      "200/200 [==============================] - 9s 41ms/step - loss: 1.8625 - acc: 0.3809 - val_loss: 1.6760 - val_acc: 0.3869\n",
      "Epoch 2/15\n",
      "200/200 [==============================] - 8s 39ms/step - loss: 1.1972 - acc: 0.5717 - val_loss: 1.2570 - val_acc: 0.5576\n",
      "Epoch 3/15\n",
      "200/200 [==============================] - 8s 40ms/step - loss: 0.9814 - acc: 0.6517 - val_loss: 0.9819 - val_acc: 0.6667\n",
      "Epoch 4/15\n",
      "200/200 [==============================] - 8s 40ms/step - loss: 0.8560 - acc: 0.7049 - val_loss: 0.9354 - val_acc: 0.6837\n",
      "Epoch 5/15\n",
      "200/200 [==============================] - 8s 40ms/step - loss: 0.7815 - acc: 0.7220 - val_loss: 1.0399 - val_acc: 0.6682\n",
      "Epoch 6/15\n",
      "200/200 [==============================] - 8s 40ms/step - loss: 0.7162 - acc: 0.7505 - val_loss: 1.2435 - val_acc: 0.6081\n",
      "Epoch 7/15\n",
      "200/200 [==============================] - 8s 40ms/step - loss: 0.6325 - acc: 0.7752 - val_loss: 1.0400 - val_acc: 0.6802\n",
      "Epoch 8/15\n",
      "200/200 [==============================] - 8s 40ms/step - loss: 0.5956 - acc: 0.7960 - val_loss: 0.9270 - val_acc: 0.7037\n",
      "Epoch 9/15\n",
      "200/200 [==============================] - 8s 40ms/step - loss: 0.5521 - acc: 0.8040 - val_loss: 0.8678 - val_acc: 0.7262\n",
      "Epoch 10/15\n",
      "200/200 [==============================] - 8s 40ms/step - loss: 0.5096 - acc: 0.8108 - val_loss: 0.7482 - val_acc: 0.7513\n",
      "Epoch 11/15\n",
      "200/200 [==============================] - 8s 40ms/step - loss: 0.4879 - acc: 0.8263 - val_loss: 0.8796 - val_acc: 0.7212\n",
      "Epoch 12/15\n",
      "200/200 [==============================] - 9s 44ms/step - loss: 0.4720 - acc: 0.8303 - val_loss: 0.9878 - val_acc: 0.6987\n",
      "Epoch 13/15\n",
      "200/200 [==============================] - 9s 43ms/step - loss: 0.4414 - acc: 0.8439 - val_loss: 0.9410 - val_acc: 0.7192\n",
      "Epoch 14/15\n",
      "200/200 [==============================] - 8s 42ms/step - loss: 0.3929 - acc: 0.8580 - val_loss: 0.8293 - val_acc: 0.7593\n",
      "Epoch 15/15\n",
      "200/200 [==============================] - 8s 42ms/step - loss: 0.3797 - acc: 0.8674 - val_loss: 0.7912 - val_acc: 0.7643\n"
     ]
    },
    {
     "data": {
      "image/png": "[encoded data removed]",
      "text/plain": [
       "<Figure size 432x288 with 1 Axes>"
      ]
     },
     "metadata": {
      "needs_background": "light"
     },
     "output_type": "display_data"
    },
    {
     "data": {
      "image/png": "[encoded data removed]",
      "text/plain": [
       "<Figure size 432x288 with 1 Axes>"
      ]
     },
     "metadata": {
      "needs_background": "light"
     },
     "output_type": "display_data"
    },
    {
     "name": "stdout",
     "output_type": "stream",
     "text": [
      "\n",
      "---Now testing the model for one audio file---\n",
      "The model predicts: reggae, and ground truth is: reggae.\n",
      "\n"
     ]
    }
   ],
   "source": [
    "\n",
    "if __name__ == \"__main__\":\n",
    "\n",
    "    #preprocess_data(source_path=SOURCE_PATH, json_path=JSON_PATH)\n",
    "    \n",
    "    inputs, targets = load_data(json_path=JSON_PATH)\n",
    "        \n",
    "    Xtrain, Xval, Xtest, ytrain, yval, ytest = prepare_datasets(inputs, targets, 0.2)\n",
    "\n",
    "    input_shape = (Xtrain.shape[1], Xtrain.shape[2], 1)\n",
    "    model = design_model(input_shape)\n",
    "\n",
    "    # Selection of the optimizer, loss type and metrics for performance evaluation.\n",
    "    model.compile(optimizer = tf.keras.optimizers.RMSprop(lr=config.learning_rate),\n",
    "                     loss=config.loss_function,\n",
    "                     metrics = ['acc']\n",
    "                     )\n",
    "\n",
    "    model.summary()\n",
    "\n",
    "    # Training the model.\n",
    "    history = model.fit(Xtrain, ytrain,\n",
    "                        validation_data=(Xval, yval),\n",
    "                        epochs=config.epochs,\n",
    "                        batch_size=config.batch_size,\n",
    "                        callbacks=[WandbCallback()]\n",
    "                        )\n",
    "\n",
    "    plot_performance(history)\n",
    "\n",
    "    # Testing the model on never seen before data.\n",
    "    make_prediction(model, Xtest, ytest, 24)"
   ]
  },
  {
   "cell_type": "code",
   "execution_count": null,
   "metadata": {},
   "outputs": [],
   "source": []
  }
 ],
 "metadata": {
  "kernelspec": {
   "display_name": "Python 3",
   "language": "python",
   "name": "python3"
  },
  "language_info": {
   "codemirror_mode": {
    "name": "ipython",
    "version": 3
   },
   "file_extension": ".py",
   "mimetype": "text/x-python",
   "name": "python",
   "nbconvert_exporter": "python",
   "pygments_lexer": "ipython3",
   "version": "3.8.5"
  }
 },
 "nbformat": 4,
 "nbformat_minor": 4
}
