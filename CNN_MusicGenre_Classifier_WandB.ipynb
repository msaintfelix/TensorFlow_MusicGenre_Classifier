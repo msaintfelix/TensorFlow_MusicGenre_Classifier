{
 "cells": [
  {
   "cell_type": "markdown",
   "metadata": {},
   "source": [
    "## Music Genre Classifier With TensorFlow"
   ]
  },
  {
   "cell_type": "markdown",
   "metadata": {},
   "source": [
    "The objective of this project is to classify 30 sec wav files by genre using a TensorFlow CNN model. The GTZAN dataset can be found here:\n",
    "\n",
    "https://www.kaggle.com/andradaolteanu/gtzan-dataset-music-genre-classification\n",
    "\n",
    "To classify audio samples, we will preprocess them by calculating their MFCC, which is a temporal representation of the energy for each perceived frequency band. In this case, we are choosing 13 bands."
   ]
  },
  {
   "cell_type": "code",
   "execution_count": 1,
   "metadata": {},
   "outputs": [],
   "source": [
    "import os\n",
    "import json\n",
    "import numpy as np\n",
    "import librosa\n",
    "import matplotlib.pyplot as plt\n",
    "from sklearn.model_selection import train_test_split\n",
    "import tensorflow as tf\n",
    "\n",
    "import wandb\n",
    "from wandb.keras import WandbCallback"
   ]
  },
  {
   "cell_type": "code",
   "execution_count": 3,
   "metadata": {},
   "outputs": [],
   "source": [
    "sweep_config = {\n",
    "    'method': 'random', #grid, random\n",
    "    'metric': {\n",
    "      'name': 'acc',\n",
    "      'goal': 'maximize'   \n",
    "    },\n",
    "    'parameters': {\n",
    "        'epochs': {\n",
    "            'values': [5, 10, 15]\n",
    "        },\n",
    "        'batch_size': {\n",
    "            'values': [32, 64]\n",
    "        },\n",
    "        'dropout': {\n",
    "            'values': [0.3, 0.4, 0.5]\n",
    "        },\n",
    "        'conv_layer_size': {\n",
    "            'values': [16, 32, 64]\n",
    "        },\n",
    "        #'weight_decay': {\n",
    "        #    'values': [0.0005, 0.005, 0.05]\n",
    "        #},\n",
    "        'learning_rate': {\n",
    "            'values': [1e-2, 1e-3, 1e-4, 3e-4, 3e-5, 1e-5]\n",
    "        },\n",
    "        #'optimizer': {\n",
    "        #    'values': ['adam', 'nadam', 'sgd', 'rmsprop']\n",
    "        #},\n",
    "        #'activation': {\n",
    "        #    'values': ['relu', 'elu', 'selu', 'softmax']\n",
    "        #}\n",
    "    }\n",
    "}"
   ]
  },
  {
   "cell_type": "code",
   "execution_count": 4,
   "metadata": {},
   "outputs": [
    {
     "name": "stdout",
     "output_type": "stream",
     "text": [
      "Create sweep with ID: e7xdbkpy\n",
      "Sweep URL: https://wandb.ai/msaintfelix/Sweeps-Genre-Classifier/sweeps/e7xdbkpy\n"
     ]
    }
   ],
   "source": [
    "sweep_id = wandb.sweep(sweep_config, entity=\"msaintfelix\", project=\"Sweeps-Genre-Classifier\")"
   ]
  },
  {
   "cell_type": "code",
   "execution_count": 5,
   "metadata": {},
   "outputs": [],
   "source": [
    "# Dataset location\n",
    "SOURCE_PATH = 'Dataset/genres_original/'\n",
    "\n",
    "# Path to labels and processed data file, json format.\n",
    "JSON_PATH = 'data.json'\n",
    "\n",
    "# Sampling rate.\n",
    "sr = 22050\n",
    "\n",
    "# Let's make sure all files have the same amount of samples, pick a duration right under 30 seconds.\n",
    "TOTAL_SAMPLES = 29 * sr\n",
    "\n",
    "# The dataset contains 999 files. Lets make it bigger. \n",
    "# X amount of slices => X times more training examples.\n",
    "NUM_SLICES = 10\n",
    "SAMPLES_PER_SLICE = int(TOTAL_SAMPLES / NUM_SLICES)"
   ]
  },
  {
   "cell_type": "code",
   "execution_count": 6,
   "metadata": {},
   "outputs": [],
   "source": [
    "def preprocess_data(source_path, json_path):\n",
    "\n",
    "    # Let's create a dictionary of labels and processed data.\n",
    "    mydict = {\n",
    "        \"labels\": [],\n",
    "        \"mfcc\": []\n",
    "        }\n",
    "\n",
    "    # Let's browse each file, slice it and generate the 13 band mfcc for each slice.\n",
    "    for i, (dirpath, dirnames, filenames) in enumerate(os.walk(source_path)):\n",
    "\n",
    "        for file in filenames:\n",
    "            song, sr = librosa.load(os.path.join(dirpath, file), duration=29)\n",
    "\n",
    "            for s in range(NUM_SLICES):\n",
    "                start_sample = SAMPLES_PER_SLICE * s\n",
    "                end_sample = start_sample + SAMPLES_PER_SLICE\n",
    "                mfcc = librosa.feature.mfcc(y=song[start_sample:end_sample], sr=sr, n_mfcc=13)\n",
    "                mfcc = mfcc.T\n",
    "                mydict[\"labels\"].append(i-1)\n",
    "                mydict[\"mfcc\"].append(mfcc.tolist())\n",
    "\n",
    "    # Let's write the dictionary in a json file.    \n",
    "    with open(json_path, 'w') as f:\n",
    "        json.dump(mydict, f)\n",
    "    f.close()"
   ]
  },
  {
   "cell_type": "code",
   "execution_count": 7,
   "metadata": {},
   "outputs": [],
   "source": [
    "def load_data(json_path):\n",
    "\n",
    "    with open(json_path, 'r') as f:\n",
    "        data = json.load(f)\n",
    "    f.close()\n",
    "\n",
    "    # Let's load our data into numpy arrays for TensorFlow compatibility.\n",
    "    X = np.array(data[\"mfcc\"])\n",
    "    y = np.array(data[\"labels\"])\n",
    "    print(X.shape)\n",
    "\n",
    "    return X, y"
   ]
  },
  {
   "cell_type": "code",
   "execution_count": 8,
   "metadata": {},
   "outputs": [],
   "source": [
    "def prepare_datasets(inputs, targets, split_size):\n",
    "    \n",
    "    # Creating a validation set and a test set.\n",
    "    inputs_train, inputs_val, targets_train, targets_val = train_test_split(inputs, targets, test_size=split_size)\n",
    "    inputs_train, inputs_test, targets_train, targets_test = train_test_split(inputs_train, targets_train, test_size=split_size)\n",
    "    \n",
    "    # Our CNN model expects 3D input shape.\n",
    "    inputs_train = inputs_train[..., np.newaxis]\n",
    "    inputs_val = inputs_val[..., np.newaxis]\n",
    "    inputs_test = inputs_test[..., np.newaxis]\n",
    "    \n",
    "    return inputs_train, inputs_val, inputs_test, targets_train, targets_val, targets_test"
   ]
  },
  {
   "cell_type": "code",
   "execution_count": 9,
   "metadata": {},
   "outputs": [],
   "source": [
    "def make_prediction(model, X, y, idx):\n",
    "    \n",
    "    genre_dict = {\n",
    "        0 : \"blues\",\n",
    "        1 : \"classical\",\n",
    "        2 : \"country\",\n",
    "        3 : \"disco\",\n",
    "        4 : \"hiphop\",\n",
    "        5 : \"jazz\",\n",
    "        6 : \"metal\",\n",
    "        7 : \"pop\",\n",
    "        8 : \"reggae\",\n",
    "        9 : \"rock\",\n",
    "        }\n",
    "        \n",
    "    predictions = model.predict(X)\n",
    "    genre = np.argmax(predictions[idx])\n",
    "    \n",
    "    print(\"\\n---Now testing the model for one audio file---\\nThe model predicts: {}, and ground truth is: {}.\\n\".format(genre_dict[genre], genre_dict[y[idx]]))"
   ]
  },
  {
   "cell_type": "code",
   "execution_count": 10,
   "metadata": {},
   "outputs": [],
   "source": [
    "def train():\n",
    "    # Default values for hyper-parameters we're going to sweep over\n",
    "    config_defaults = {\n",
    "        'epochs': 5,\n",
    "        'batch_size': 32,\n",
    "        'weight_decay': 0.0005,\n",
    "        'learning_rate': 1e-3,\n",
    "        'activation': 'relu',\n",
    "        'optimizer': 'nadam',\n",
    "        'hidden_layer_size': 64,\n",
    "        'conv_layer_size': 32,\n",
    "        'dropout': 0.5,\n",
    "        'momentum': 0.9,\n",
    "        'seed': 42\n",
    "    }\n",
    "\n",
    "    # Initialize a new wandb run\n",
    "    wandb.init(config=config_defaults)\n",
    "    \n",
    "    # Config is a variable that holds and saves hyperparameters and inputs\n",
    "    config = wandb.config\n",
    "\n",
    "    #preprocess_data(source_path=SOURCE_PATH, json_path=JSON_PATH)\n",
    "    \n",
    "    inputs, targets = load_data(json_path=JSON_PATH)\n",
    "        \n",
    "    Xtrain, Xval, Xtest, ytrain, yval, ytest = prepare_datasets(inputs, targets, 0.2)\n",
    "\n",
    "    input_shape = (Xtrain.shape[1], Xtrain.shape[2], 1)\n",
    "    \n",
    "    model = tf.keras.models.Sequential([\n",
    "        \n",
    "        tf.keras.layers.Conv2D(config.conv_layer_size, (3,3), activation='relu', input_shape=input_shape),\n",
    "        tf.keras.layers.MaxPooling2D((3,3), strides=(2,2), padding='same'),\n",
    "        tf.keras.layers.BatchNormalization(),\n",
    "        \n",
    "        tf.keras.layers.Conv2D(config.conv_layer_size, (3,3), activation='relu'),\n",
    "        tf.keras.layers.MaxPooling2D((3,3), strides=(2,2), padding='same'),\n",
    "        tf.keras.layers.BatchNormalization(),\n",
    "        \n",
    "        tf.keras.layers.Conv2D(config.conv_layer_size, (2,2), activation='relu'),\n",
    "        tf.keras.layers.MaxPooling2D((3,3), strides=(2,2), padding='same'),\n",
    "        tf.keras.layers.BatchNormalization(),\n",
    "        tf.keras.layers.Dropout(config.dropout),\n",
    "        \n",
    "        tf.keras.layers.Flatten(),\n",
    "        tf.keras.layers.Dense(config.hidden_layer_size, activation='relu'), \n",
    "        tf.keras.layers.Dense(len(np.unique(targets)), activation='softmax')\n",
    "    ])\n",
    "\n",
    "    # Selection of the optimizer, loss type and metrics for performance evaluation.\n",
    "    model.compile(optimizer = tf.keras.optimizers.RMSprop(lr=config.learning_rate),\n",
    "                     loss='sparse_categorical_crossentropy',\n",
    "                     metrics = ['acc']\n",
    "                     )\n",
    "\n",
    "    model.summary()\n",
    "\n",
    "    # Training the model.\n",
    "    history = model.fit(Xtrain, ytrain,\n",
    "                        validation_data=(Xval, yval),\n",
    "                        epochs=config.epochs,\n",
    "                        batch_size=config.batch_size,\n",
    "                        callbacks=[WandbCallback()]\n",
    "                        )\n",
    "\n",
    "    # Testing the model on never seen before data.\n",
    "    make_prediction(model, Xtest, ytest, 24)"
   ]
  },
  {
   "cell_type": "code",
   "execution_count": 11,
   "metadata": {},
   "outputs": [
    {
     "name": "stderr",
     "output_type": "stream",
     "text": [
      "\u001b[34m\u001b[1mwandb\u001b[0m: Agent Starting Run: mgm4mu2d with config:\n",
      "\u001b[34m\u001b[1mwandb\u001b[0m: \tbatch_size: 32\n",
      "\u001b[34m\u001b[1mwandb\u001b[0m: \tconv_layer_size: 32\n",
      "\u001b[34m\u001b[1mwandb\u001b[0m: \tdropout: 0.4\n",
      "\u001b[34m\u001b[1mwandb\u001b[0m: \tepochs: 15\n",
      "\u001b[34m\u001b[1mwandb\u001b[0m: \tlearning_rate: 0.01\n",
      "\u001b[34m\u001b[1mwandb\u001b[0m: Currently logged in as: \u001b[33mmsaintfelix\u001b[0m (use `wandb login --relogin` to force relogin)\n"
     ]
    },
    {
     "data": {
      "text/html": [
       "wandb version 0.13.2 is available!  To upgrade, please run:\n",
       " $ pip install wandb --upgrade"
      ],
      "text/plain": [
       "<IPython.core.display.HTML object>"
      ]
     },
     "metadata": {},
     "output_type": "display_data"
    },
    {
     "data": {
      "text/html": [
       "Tracking run with wandb version 0.12.11"
      ],
      "text/plain": [
       "<IPython.core.display.HTML object>"
      ]
     },
     "metadata": {},
     "output_type": "display_data"
    },
    {
     "data": {
      "text/html": [
       "Run data is saved locally in <code>/Users/msf/GitHub/TensorFlow_MusicGenre_Classifier/wandb/run-20220829_195915-mgm4mu2d</code>"
      ],
      "text/plain": [
       "<IPython.core.display.HTML object>"
      ]
     },
     "metadata": {},
     "output_type": "display_data"
    },
    {
     "data": {
      "text/html": [
       "Syncing run <strong><a href=\"https://wandb.ai/msaintfelix/Sweeps-Genre-Classifier/runs/mgm4mu2d\" target=\"_blank\">summer-sweep-1</a></strong> to <a href=\"https://wandb.ai/msaintfelix/Sweeps-Genre-Classifier\" target=\"_blank\">Weights & Biases</a> (<a href=\"https://wandb.me/run\" target=\"_blank\">docs</a>)<br/>Sweep page:  <a href=\"https://wandb.ai/msaintfelix/Sweeps-Genre-Classifier/sweeps/e7xdbkpy\" target=\"_blank\">https://wandb.ai/msaintfelix/Sweeps-Genre-Classifier/sweeps/e7xdbkpy</a>"
      ],
      "text/plain": [
       "<IPython.core.display.HTML object>"
      ]
     },
     "metadata": {},
     "output_type": "display_data"
    },
    {
     "name": "stdout",
     "output_type": "stream",
     "text": [
      "(9990, 125, 13)\n",
      "Model: \"sequential\"\n",
      "_________________________________________________________________\n",
      "Layer (type)                 Output Shape              Param #   \n",
      "=================================================================\n",
      "conv2d (Conv2D)              (None, 123, 11, 32)       320       \n",
      "_________________________________________________________________\n",
      "max_pooling2d (MaxPooling2D) (None, 62, 6, 32)         0         \n",
      "_________________________________________________________________\n",
      "batch_normalization (BatchNo (None, 62, 6, 32)         128       \n",
      "_________________________________________________________________\n",
      "conv2d_1 (Conv2D)            (None, 60, 4, 32)         9248      \n",
      "_________________________________________________________________\n",
      "max_pooling2d_1 (MaxPooling2 (None, 30, 2, 32)         0         \n",
      "_________________________________________________________________\n",
      "batch_normalization_1 (Batch (None, 30, 2, 32)         128       \n",
      "_________________________________________________________________\n",
      "conv2d_2 (Conv2D)            (None, 29, 1, 32)         4128      \n",
      "_________________________________________________________________\n",
      "max_pooling2d_2 (MaxPooling2 (None, 15, 1, 32)         0         \n",
      "_________________________________________________________________\n",
      "batch_normalization_2 (Batch (None, 15, 1, 32)         128       \n",
      "_________________________________________________________________\n",
      "dropout (Dropout)            (None, 15, 1, 32)         0         \n",
      "_________________________________________________________________\n",
      "flatten (Flatten)            (None, 480)               0         \n",
      "_________________________________________________________________\n",
      "dense (Dense)                (None, 64)                30784     \n",
      "_________________________________________________________________\n",
      "dense_1 (Dense)              (None, 10)                650       \n",
      "=================================================================\n",
      "Total params: 45,514\n",
      "Trainable params: 45,322\n",
      "Non-trainable params: 192\n",
      "_________________________________________________________________\n",
      "Epoch 1/15\n",
      "200/200 [==============================] - 10s 44ms/step - loss: 2.5289 - acc: 0.3168 - val_loss: 4.2968 - val_acc: 0.3303\n",
      "Epoch 2/15\n",
      "200/200 [==============================] - 8s 38ms/step - loss: 1.4421 - acc: 0.4738 - val_loss: 1.4497 - val_acc: 0.5265\n",
      "Epoch 3/15\n",
      "200/200 [==============================] - 8s 39ms/step - loss: 1.3234 - acc: 0.5276 - val_loss: 2.2571 - val_acc: 0.4980\n",
      "Epoch 4/15\n",
      "200/200 [==============================] - 10s 50ms/step - loss: 1.2345 - acc: 0.5638 - val_loss: 1.4221 - val_acc: 0.5606\n",
      "Epoch 5/15\n",
      "200/200 [==============================] - 9s 44ms/step - loss: 1.1623 - acc: 0.5863 - val_loss: 0.9697 - val_acc: 0.6496\n",
      "Epoch 6/15\n",
      "200/200 [==============================] - 9s 45ms/step - loss: 1.0937 - acc: 0.6063 - val_loss: 1.2463 - val_acc: 0.6051\n",
      "Epoch 7/15\n",
      "200/200 [==============================] - 9s 46ms/step - loss: 1.0221 - acc: 0.6500 - val_loss: 1.1638 - val_acc: 0.6011\n",
      "Epoch 8/15\n",
      "200/200 [==============================] - 11s 54ms/step - loss: 0.9900 - acc: 0.6552 - val_loss: 1.0429 - val_acc: 0.6286\n",
      "Epoch 9/15\n",
      "200/200 [==============================] - 10s 48ms/step - loss: 1.0006 - acc: 0.6596 - val_loss: 1.0769 - val_acc: 0.6451\n",
      "Epoch 10/15\n",
      "200/200 [==============================] - 8s 42ms/step - loss: 0.9532 - acc: 0.6738 - val_loss: 1.2906 - val_acc: 0.6071\n",
      "Epoch 11/15\n",
      "200/200 [==============================] - 8s 40ms/step - loss: 0.9273 - acc: 0.6801 - val_loss: 0.9045 - val_acc: 0.7087\n",
      "Epoch 12/15\n",
      "200/200 [==============================] - 9s 46ms/step - loss: 0.9243 - acc: 0.6881 - val_loss: 1.0579 - val_acc: 0.6907\n",
      "Epoch 13/15\n",
      "200/200 [==============================] - 10s 48ms/step - loss: 0.8944 - acc: 0.6919 - val_loss: 1.5536 - val_acc: 0.5896\n",
      "Epoch 14/15\n",
      "200/200 [==============================] - 10s 52ms/step - loss: 0.8851 - acc: 0.7087 - val_loss: 0.9946 - val_acc: 0.6722\n",
      "Epoch 15/15\n",
      "200/200 [==============================] - 9s 47ms/step - loss: 0.8301 - acc: 0.7208 - val_loss: 1.3330 - val_acc: 0.6607\n",
      "\n",
      "---Now testing the model for one audio file---\n",
      "The model predicts: blues, and ground truth is: blues.\n",
      "\n",
      "\n"
     ]
    },
    {
     "data": {
      "text/html": [
       "Waiting for W&B process to finish... <strong style=\"color:green\">(success).</strong>"
      ],
      "text/plain": [
       "<IPython.core.display.HTML object>"
      ]
     },
     "metadata": {},
     "output_type": "display_data"
    },
    {
     "data": {
      "application/vnd.jupyter.widget-view+json": {
       "model_id": "",
       "version_major": 2,
       "version_minor": 0
      },
      "text/plain": [
       "VBox(children=(Label(value='0.419 MB of 0.419 MB uploaded (0.000 MB deduped)\\r'), FloatProgress(value=1.0, max…"
      ]
     },
     "metadata": {},
     "output_type": "display_data"
    },
    {
     "data": {
      "text/html": [
       "<style>\n",
       "    table.wandb td:nth-child(1) { padding: 0 10px; text-align: right }\n",
       "    .wandb-row { display: flex; flex-direction: row; flex-wrap: wrap; width: 100% }\n",
       "    .wandb-col { display: flex; flex-direction: column; flex-basis: 100%; flex: 1; padding: 10px; }\n",
       "    </style>\n",
       "<div class=\"wandb-row\"><div class=\"wandb-col\"><h3>Run history:</h3><br/><table class=\"wandb\"><tr><td>acc</td><td>▁▃▄▅▆▆▆▇▇▇▇▇███</td></tr><tr><td>epoch</td><td>▁▁▂▃▃▃▄▅▅▅▆▇▇▇█</td></tr><tr><td>loss</td><td>█▅▄▃▃▂▂▂▂▂▁▁▁▁▁</td></tr><tr><td>val_acc</td><td>▁▅▄▅▇▆▆▇▇▆██▆▇▇</td></tr><tr><td>val_loss</td><td>█▂▄▂▁▂▂▁▁▂▁▁▂▁▂</td></tr></table><br/></div><div class=\"wandb-col\"><h3>Run summary:</h3><br/><table class=\"wandb\"><tr><td>acc</td><td>0.71219</td></tr><tr><td>best_epoch</td><td>10</td></tr><tr><td>best_val_loss</td><td>0.90448</td></tr><tr><td>epoch</td><td>14</td></tr><tr><td>loss</td><td>0.88044</td></tr><tr><td>val_acc</td><td>0.66066</td></tr><tr><td>val_loss</td><td>1.33296</td></tr></table><br/></div></div>"
      ],
      "text/plain": [
       "<IPython.core.display.HTML object>"
      ]
     },
     "metadata": {},
     "output_type": "display_data"
    },
    {
     "data": {
      "text/html": [
       "Synced <strong style=\"color:#cdcd00\">summer-sweep-1</strong>: <a href=\"https://wandb.ai/msaintfelix/Sweeps-Genre-Classifier/runs/mgm4mu2d\" target=\"_blank\">https://wandb.ai/msaintfelix/Sweeps-Genre-Classifier/runs/mgm4mu2d</a><br/>Synced 6 W&B file(s), 1 media file(s), 0 artifact file(s) and 1 other file(s)"
      ],
      "text/plain": [
       "<IPython.core.display.HTML object>"
      ]
     },
     "metadata": {},
     "output_type": "display_data"
    },
    {
     "data": {
      "text/html": [
       "Find logs at: <code>./wandb/run-20220829_195915-mgm4mu2d/logs</code>"
      ],
      "text/plain": [
       "<IPython.core.display.HTML object>"
      ]
     },
     "metadata": {},
     "output_type": "display_data"
    },
    {
     "name": "stderr",
     "output_type": "stream",
     "text": [
      "\u001b[34m\u001b[1mwandb\u001b[0m: Agent Starting Run: 8gixp2c4 with config:\n",
      "\u001b[34m\u001b[1mwandb\u001b[0m: \tbatch_size: 64\n",
      "\u001b[34m\u001b[1mwandb\u001b[0m: \tconv_layer_size: 16\n",
      "\u001b[34m\u001b[1mwandb\u001b[0m: \tdropout: 0.3\n",
      "\u001b[34m\u001b[1mwandb\u001b[0m: \tepochs: 15\n",
      "\u001b[34m\u001b[1mwandb\u001b[0m: \tlearning_rate: 1e-05\n"
     ]
    },
    {
     "data": {
      "text/html": [
       "wandb version 0.13.2 is available!  To upgrade, please run:\n",
       " $ pip install wandb --upgrade"
      ],
      "text/plain": [
       "<IPython.core.display.HTML object>"
      ]
     },
     "metadata": {},
     "output_type": "display_data"
    },
    {
     "data": {
      "text/html": [
       "Tracking run with wandb version 0.12.11"
      ],
      "text/plain": [
       "<IPython.core.display.HTML object>"
      ]
     },
     "metadata": {},
     "output_type": "display_data"
    },
    {
     "data": {
      "text/html": [
       "Run data is saved locally in <code>/Users/msf/GitHub/TensorFlow_MusicGenre_Classifier/wandb/run-20220829_200157-8gixp2c4</code>"
      ],
      "text/plain": [
       "<IPython.core.display.HTML object>"
      ]
     },
     "metadata": {},
     "output_type": "display_data"
    },
    {
     "data": {
      "text/html": [
       "Syncing run <strong><a href=\"https://wandb.ai/msaintfelix/Sweeps-Genre-Classifier/runs/8gixp2c4\" target=\"_blank\">woven-sweep-2</a></strong> to <a href=\"https://wandb.ai/msaintfelix/Sweeps-Genre-Classifier\" target=\"_blank\">Weights & Biases</a> (<a href=\"https://wandb.me/run\" target=\"_blank\">docs</a>)<br/>Sweep page:  <a href=\"https://wandb.ai/msaintfelix/Sweeps-Genre-Classifier/sweeps/e7xdbkpy\" target=\"_blank\">https://wandb.ai/msaintfelix/Sweeps-Genre-Classifier/sweeps/e7xdbkpy</a>"
      ],
      "text/plain": [
       "<IPython.core.display.HTML object>"
      ]
     },
     "metadata": {},
     "output_type": "display_data"
    },
    {
     "name": "stdout",
     "output_type": "stream",
     "text": [
      "(9990, 125, 13)\n",
      "Model: \"sequential\"\n",
      "_________________________________________________________________\n",
      "Layer (type)                 Output Shape              Param #   \n",
      "=================================================================\n",
      "conv2d (Conv2D)              (None, 123, 11, 16)       160       \n",
      "_________________________________________________________________\n",
      "max_pooling2d (MaxPooling2D) (None, 62, 6, 16)         0         \n",
      "_________________________________________________________________\n",
      "batch_normalization (BatchNo (None, 62, 6, 16)         64        \n",
      "_________________________________________________________________\n",
      "conv2d_1 (Conv2D)            (None, 60, 4, 16)         2320      \n",
      "_________________________________________________________________\n",
      "max_pooling2d_1 (MaxPooling2 (None, 30, 2, 16)         0         \n",
      "_________________________________________________________________\n",
      "batch_normalization_1 (Batch (None, 30, 2, 16)         64        \n",
      "_________________________________________________________________\n",
      "conv2d_2 (Conv2D)            (None, 29, 1, 16)         1040      \n",
      "_________________________________________________________________\n",
      "max_pooling2d_2 (MaxPooling2 (None, 15, 1, 16)         0         \n",
      "_________________________________________________________________\n",
      "batch_normalization_2 (Batch (None, 15, 1, 16)         64        \n",
      "_________________________________________________________________\n",
      "dropout (Dropout)            (None, 15, 1, 16)         0         \n",
      "_________________________________________________________________\n",
      "flatten (Flatten)            (None, 240)               0         \n",
      "_________________________________________________________________\n",
      "dense (Dense)                (None, 64)                15424     \n",
      "_________________________________________________________________\n",
      "dense_1 (Dense)              (None, 10)                650       \n",
      "=================================================================\n",
      "Total params: 19,786\n",
      "Trainable params: 19,690\n",
      "Non-trainable params: 96\n",
      "_________________________________________________________________\n",
      "Epoch 1/15\n",
      "100/100 [==============================] - 5s 45ms/step - loss: 3.0676 - acc: 0.1051 - val_loss: 2.8002 - val_acc: 0.0941\n",
      "Epoch 2/15\n",
      "100/100 [==============================] - 4s 43ms/step - loss: 2.9294 - acc: 0.1072 - val_loss: 2.5742 - val_acc: 0.1086\n",
      "Epoch 3/15\n",
      "100/100 [==============================] - 4s 43ms/step - loss: 2.8334 - acc: 0.1235 - val_loss: 2.4957 - val_acc: 0.1431\n",
      "Epoch 4/15\n",
      "100/100 [==============================] - 4s 43ms/step - loss: 2.7243 - acc: 0.1280 - val_loss: 2.4283 - val_acc: 0.1622\n",
      "Epoch 5/15\n",
      "100/100 [==============================] - 4s 45ms/step - loss: 2.5971 - acc: 0.1460 - val_loss: 2.3597 - val_acc: 0.1912\n",
      "Epoch 6/15\n",
      "100/100 [==============================] - 4s 45ms/step - loss: 2.5388 - acc: 0.1621 - val_loss: 2.2976 - val_acc: 0.2077\n",
      "Epoch 7/15\n",
      "100/100 [==============================] - 4s 45ms/step - loss: 2.4437 - acc: 0.1843 - val_loss: 2.2431 - val_acc: 0.2342\n",
      "Epoch 8/15\n",
      "100/100 [==============================] - 5s 45ms/step - loss: 2.3710 - acc: 0.2149 - val_loss: 2.1975 - val_acc: 0.2513\n",
      "Epoch 9/15\n",
      "100/100 [==============================] - 4s 45ms/step - loss: 2.3411 - acc: 0.2166 - val_loss: 2.1580 - val_acc: 0.2668\n",
      "Epoch 10/15\n",
      "100/100 [==============================] - 4s 45ms/step - loss: 2.3261 - acc: 0.2257 - val_loss: 2.1214 - val_acc: 0.2823\n",
      "Epoch 11/15\n",
      "100/100 [==============================] - 5s 46ms/step - loss: 2.2392 - acc: 0.2377 - val_loss: 2.0887 - val_acc: 0.2883\n",
      "Epoch 12/15\n",
      "100/100 [==============================] - 5s 46ms/step - loss: 2.2047 - acc: 0.2593 - val_loss: 2.0600 - val_acc: 0.2983\n",
      "Epoch 13/15\n",
      "100/100 [==============================] - 5s 46ms/step - loss: 2.1923 - acc: 0.2603 - val_loss: 2.0323 - val_acc: 0.3068\n",
      "Epoch 14/15\n",
      "100/100 [==============================] - 5s 46ms/step - loss: 2.1514 - acc: 0.2824 - val_loss: 2.0067 - val_acc: 0.3108\n",
      "Epoch 15/15\n",
      "100/100 [==============================] - 5s 46ms/step - loss: 2.0995 - acc: 0.2843 - val_loss: 1.9809 - val_acc: 0.3213\n",
      "\n",
      "---Now testing the model for one audio file---\n",
      "The model predicts: metal, and ground truth is: classical.\n",
      "\n",
      "\n"
     ]
    },
    {
     "data": {
      "text/html": [
       "Waiting for W&B process to finish... <strong style=\"color:green\">(success).</strong>"
      ],
      "text/plain": [
       "<IPython.core.display.HTML object>"
      ]
     },
     "metadata": {},
     "output_type": "display_data"
    },
    {
     "data": {
      "application/vnd.jupyter.widget-view+json": {
       "model_id": "",
       "version_major": 2,
       "version_minor": 0
      },
      "text/plain": [
       "VBox(children=(Label(value='0.224 MB of 0.224 MB uploaded (0.000 MB deduped)\\r'), FloatProgress(value=1.0, max…"
      ]
     },
     "metadata": {},
     "output_type": "display_data"
    },
    {
     "data": {
      "text/html": [
       "<style>\n",
       "    table.wandb td:nth-child(1) { padding: 0 10px; text-align: right }\n",
       "    .wandb-row { display: flex; flex-direction: row; flex-wrap: wrap; width: 100% }\n",
       "    .wandb-col { display: flex; flex-direction: column; flex-basis: 100%; flex: 1; padding: 10px; }\n",
       "    </style>\n",
       "<div class=\"wandb-row\"><div class=\"wandb-col\"><h3>Run history:</h3><br/><table class=\"wandb\"><tr><td>acc</td><td>▁▁▂▂▃▄▄▅▆▆▆▇███</td></tr><tr><td>epoch</td><td>▁▁▂▃▃▃▄▅▅▅▆▇▇▇█</td></tr><tr><td>loss</td><td>█▇▆▅▄▄▃▃▃▂▂▂▁▁▁</td></tr><tr><td>val_acc</td><td>▁▁▃▃▄▅▅▆▆▇▇▇███</td></tr><tr><td>val_loss</td><td>█▆▅▅▄▄▃▃▃▂▂▂▁▁▁</td></tr></table><br/></div><div class=\"wandb-col\"><h3>Run summary:</h3><br/><table class=\"wandb\"><tr><td>acc</td><td>0.27859</td></tr><tr><td>best_epoch</td><td>14</td></tr><tr><td>best_val_loss</td><td>1.9809</td></tr><tr><td>epoch</td><td>14</td></tr><tr><td>loss</td><td>2.12075</td></tr><tr><td>val_acc</td><td>0.32132</td></tr><tr><td>val_loss</td><td>1.9809</td></tr></table><br/></div></div>"
      ],
      "text/plain": [
       "<IPython.core.display.HTML object>"
      ]
     },
     "metadata": {},
     "output_type": "display_data"
    },
    {
     "data": {
      "text/html": [
       "Synced <strong style=\"color:#cdcd00\">woven-sweep-2</strong>: <a href=\"https://wandb.ai/msaintfelix/Sweeps-Genre-Classifier/runs/8gixp2c4\" target=\"_blank\">https://wandb.ai/msaintfelix/Sweeps-Genre-Classifier/runs/8gixp2c4</a><br/>Synced 6 W&B file(s), 1 media file(s), 0 artifact file(s) and 1 other file(s)"
      ],
      "text/plain": [
       "<IPython.core.display.HTML object>"
      ]
     },
     "metadata": {},
     "output_type": "display_data"
    },
    {
     "data": {
      "text/html": [
       "Find logs at: <code>./wandb/run-20220829_200157-8gixp2c4/logs</code>"
      ],
      "text/plain": [
       "<IPython.core.display.HTML object>"
      ]
     },
     "metadata": {},
     "output_type": "display_data"
    },
    {
     "name": "stderr",
     "output_type": "stream",
     "text": [
      "\u001b[34m\u001b[1mwandb\u001b[0m: Agent Starting Run: agsrv2qw with config:\n",
      "\u001b[34m\u001b[1mwandb\u001b[0m: \tbatch_size: 64\n",
      "\u001b[34m\u001b[1mwandb\u001b[0m: \tconv_layer_size: 32\n",
      "\u001b[34m\u001b[1mwandb\u001b[0m: \tdropout: 0.4\n",
      "\u001b[34m\u001b[1mwandb\u001b[0m: \tepochs: 10\n",
      "\u001b[34m\u001b[1mwandb\u001b[0m: \tlearning_rate: 3e-05\n"
     ]
    },
    {
     "data": {
      "text/html": [
       "wandb version 0.13.2 is available!  To upgrade, please run:\n",
       " $ pip install wandb --upgrade"
      ],
      "text/plain": [
       "<IPython.core.display.HTML object>"
      ]
     },
     "metadata": {},
     "output_type": "display_data"
    },
    {
     "data": {
      "text/html": [
       "Tracking run with wandb version 0.12.11"
      ],
      "text/plain": [
       "<IPython.core.display.HTML object>"
      ]
     },
     "metadata": {},
     "output_type": "display_data"
    },
    {
     "data": {
      "text/html": [
       "Run data is saved locally in <code>/Users/msf/GitHub/TensorFlow_MusicGenre_Classifier/wandb/run-20220829_200337-agsrv2qw</code>"
      ],
      "text/plain": [
       "<IPython.core.display.HTML object>"
      ]
     },
     "metadata": {},
     "output_type": "display_data"
    },
    {
     "data": {
      "text/html": [
       "Syncing run <strong><a href=\"https://wandb.ai/msaintfelix/Sweeps-Genre-Classifier/runs/agsrv2qw\" target=\"_blank\">chocolate-sweep-3</a></strong> to <a href=\"https://wandb.ai/msaintfelix/Sweeps-Genre-Classifier\" target=\"_blank\">Weights & Biases</a> (<a href=\"https://wandb.me/run\" target=\"_blank\">docs</a>)<br/>Sweep page:  <a href=\"https://wandb.ai/msaintfelix/Sweeps-Genre-Classifier/sweeps/e7xdbkpy\" target=\"_blank\">https://wandb.ai/msaintfelix/Sweeps-Genre-Classifier/sweeps/e7xdbkpy</a>"
      ],
      "text/plain": [
       "<IPython.core.display.HTML object>"
      ]
     },
     "metadata": {},
     "output_type": "display_data"
    },
    {
     "name": "stdout",
     "output_type": "stream",
     "text": [
      "(9990, 125, 13)\n",
      "Model: \"sequential\"\n",
      "_________________________________________________________________\n",
      "Layer (type)                 Output Shape              Param #   \n",
      "=================================================================\n",
      "conv2d (Conv2D)              (None, 123, 11, 32)       320       \n",
      "_________________________________________________________________\n",
      "max_pooling2d (MaxPooling2D) (None, 62, 6, 32)         0         \n",
      "_________________________________________________________________\n",
      "batch_normalization (BatchNo (None, 62, 6, 32)         128       \n",
      "_________________________________________________________________\n",
      "conv2d_1 (Conv2D)            (None, 60, 4, 32)         9248      \n",
      "_________________________________________________________________\n",
      "max_pooling2d_1 (MaxPooling2 (None, 30, 2, 32)         0         \n",
      "_________________________________________________________________\n",
      "batch_normalization_1 (Batch (None, 30, 2, 32)         128       \n",
      "_________________________________________________________________\n",
      "conv2d_2 (Conv2D)            (None, 29, 1, 32)         4128      \n",
      "_________________________________________________________________\n",
      "max_pooling2d_2 (MaxPooling2 (None, 15, 1, 32)         0         \n",
      "_________________________________________________________________\n",
      "batch_normalization_2 (Batch (None, 15, 1, 32)         128       \n",
      "_________________________________________________________________\n",
      "dropout (Dropout)            (None, 15, 1, 32)         0         \n",
      "_________________________________________________________________\n",
      "flatten (Flatten)            (None, 480)               0         \n",
      "_________________________________________________________________\n",
      "dense (Dense)                (None, 64)                30784     \n",
      "_________________________________________________________________\n",
      "dense_1 (Dense)              (None, 10)                650       \n",
      "=================================================================\n",
      "Total params: 45,514\n",
      "Trainable params: 45,322\n",
      "Non-trainable params: 192\n",
      "_________________________________________________________________\n",
      "Epoch 1/10\n",
      "100/100 [==============================] - 8s 74ms/step - loss: 3.3575 - acc: 0.1107 - val_loss: 2.5246 - val_acc: 0.1161\n",
      "Epoch 2/10\n",
      "100/100 [==============================] - 7s 72ms/step - loss: 2.7514 - acc: 0.1747 - val_loss: 2.0576 - val_acc: 0.2723\n",
      "Epoch 3/10\n",
      "100/100 [==============================] - 7s 72ms/step - loss: 2.4303 - acc: 0.2403 - val_loss: 1.8852 - val_acc: 0.3208\n",
      "Epoch 4/10\n",
      "100/100 [==============================] - 7s 73ms/step - loss: 2.1934 - acc: 0.2841 - val_loss: 1.7842 - val_acc: 0.3549\n",
      "Epoch 5/10\n",
      "100/100 [==============================] - 7s 73ms/step - loss: 1.9908 - acc: 0.3392 - val_loss: 1.6958 - val_acc: 0.3859\n",
      "Epoch 6/10\n",
      "100/100 [==============================] - 7s 73ms/step - loss: 1.9260 - acc: 0.3558 - val_loss: 1.6186 - val_acc: 0.4104\n",
      "Epoch 7/10\n",
      "100/100 [==============================] - 8s 77ms/step - loss: 1.8144 - acc: 0.3749 - val_loss: 1.5587 - val_acc: 0.4319\n",
      "Epoch 8/10\n",
      "100/100 [==============================] - 8s 77ms/step - loss: 1.7417 - acc: 0.3893 - val_loss: 1.5222 - val_acc: 0.4429\n",
      "Epoch 9/10\n",
      "100/100 [==============================] - 9s 91ms/step - loss: 1.6880 - acc: 0.4103 - val_loss: 1.4708 - val_acc: 0.4575\n",
      "Epoch 10/10\n",
      "100/100 [==============================] - 10s 102ms/step - loss: 1.6137 - acc: 0.4312 - val_loss: 1.4377 - val_acc: 0.4745\n",
      "\n",
      "---Now testing the model for one audio file---\n",
      "The model predicts: disco, and ground truth is: pop.\n",
      "\n",
      "\n"
     ]
    },
    {
     "data": {
      "text/html": [
       "Waiting for W&B process to finish... <strong style=\"color:green\">(success).</strong>"
      ],
      "text/plain": [
       "<IPython.core.display.HTML object>"
      ]
     },
     "metadata": {},
     "output_type": "display_data"
    },
    {
     "data": {
      "application/vnd.jupyter.widget-view+json": {
       "model_id": "",
       "version_major": 2,
       "version_minor": 0
      },
      "text/plain": [
       "VBox(children=(Label(value='0.419 MB of 0.419 MB uploaded (0.000 MB deduped)\\r'), FloatProgress(value=1.0, max…"
      ]
     },
     "metadata": {},
     "output_type": "display_data"
    },
    {
     "data": {
      "text/html": [
       "<style>\n",
       "    table.wandb td:nth-child(1) { padding: 0 10px; text-align: right }\n",
       "    .wandb-row { display: flex; flex-direction: row; flex-wrap: wrap; width: 100% }\n",
       "    .wandb-col { display: flex; flex-direction: column; flex-basis: 100%; flex: 1; padding: 10px; }\n",
       "    </style>\n",
       "<div class=\"wandb-row\"><div class=\"wandb-col\"><h3>Run history:</h3><br/><table class=\"wandb\"><tr><td>acc</td><td>▁▃▄▅▆▆▇▇██</td></tr><tr><td>epoch</td><td>▁▂▃▃▄▅▆▆▇█</td></tr><tr><td>loss</td><td>█▆▄▃▃▂▂▁▁▁</td></tr><tr><td>val_acc</td><td>▁▄▅▆▆▇▇▇██</td></tr><tr><td>val_loss</td><td>█▅▄▃▃▂▂▂▁▁</td></tr></table><br/></div><div class=\"wandb-col\"><h3>Run summary:</h3><br/><table class=\"wandb\"><tr><td>acc</td><td>0.43047</td></tr><tr><td>best_epoch</td><td>9</td></tr><tr><td>best_val_loss</td><td>1.4377</td></tr><tr><td>epoch</td><td>9</td></tr><tr><td>loss</td><td>1.62563</td></tr><tr><td>val_acc</td><td>0.47447</td></tr><tr><td>val_loss</td><td>1.4377</td></tr></table><br/></div></div>"
      ],
      "text/plain": [
       "<IPython.core.display.HTML object>"
      ]
     },
     "metadata": {},
     "output_type": "display_data"
    },
    {
     "data": {
      "text/html": [
       "Synced <strong style=\"color:#cdcd00\">chocolate-sweep-3</strong>: <a href=\"https://wandb.ai/msaintfelix/Sweeps-Genre-Classifier/runs/agsrv2qw\" target=\"_blank\">https://wandb.ai/msaintfelix/Sweeps-Genre-Classifier/runs/agsrv2qw</a><br/>Synced 6 W&B file(s), 1 media file(s), 0 artifact file(s) and 1 other file(s)"
      ],
      "text/plain": [
       "<IPython.core.display.HTML object>"
      ]
     },
     "metadata": {},
     "output_type": "display_data"
    },
    {
     "data": {
      "text/html": [
       "Find logs at: <code>./wandb/run-20220829_200337-agsrv2qw/logs</code>"
      ],
      "text/plain": [
       "<IPython.core.display.HTML object>"
      ]
     },
     "metadata": {},
     "output_type": "display_data"
    },
    {
     "name": "stderr",
     "output_type": "stream",
     "text": [
      "\u001b[34m\u001b[1mwandb\u001b[0m: Agent Starting Run: qexlkz4k with config:\n",
      "\u001b[34m\u001b[1mwandb\u001b[0m: \tbatch_size: 32\n",
      "\u001b[34m\u001b[1mwandb\u001b[0m: \tconv_layer_size: 16\n",
      "\u001b[34m\u001b[1mwandb\u001b[0m: \tdropout: 0.5\n",
      "\u001b[34m\u001b[1mwandb\u001b[0m: \tepochs: 5\n",
      "\u001b[34m\u001b[1mwandb\u001b[0m: \tlearning_rate: 0.0001\n"
     ]
    },
    {
     "data": {
      "text/html": [
       "wandb version 0.13.2 is available!  To upgrade, please run:\n",
       " $ pip install wandb --upgrade"
      ],
      "text/plain": [
       "<IPython.core.display.HTML object>"
      ]
     },
     "metadata": {},
     "output_type": "display_data"
    },
    {
     "data": {
      "text/html": [
       "Tracking run with wandb version 0.12.11"
      ],
      "text/plain": [
       "<IPython.core.display.HTML object>"
      ]
     },
     "metadata": {},
     "output_type": "display_data"
    },
    {
     "data": {
      "text/html": [
       "Run data is saved locally in <code>/Users/msf/GitHub/TensorFlow_MusicGenre_Classifier/wandb/run-20220829_200525-qexlkz4k</code>"
      ],
      "text/plain": [
       "<IPython.core.display.HTML object>"
      ]
     },
     "metadata": {},
     "output_type": "display_data"
    },
    {
     "data": {
      "text/html": [
       "Syncing run <strong><a href=\"https://wandb.ai/msaintfelix/Sweeps-Genre-Classifier/runs/qexlkz4k\" target=\"_blank\">eager-sweep-4</a></strong> to <a href=\"https://wandb.ai/msaintfelix/Sweeps-Genre-Classifier\" target=\"_blank\">Weights & Biases</a> (<a href=\"https://wandb.me/run\" target=\"_blank\">docs</a>)<br/>Sweep page:  <a href=\"https://wandb.ai/msaintfelix/Sweeps-Genre-Classifier/sweeps/e7xdbkpy\" target=\"_blank\">https://wandb.ai/msaintfelix/Sweeps-Genre-Classifier/sweeps/e7xdbkpy</a>"
      ],
      "text/plain": [
       "<IPython.core.display.HTML object>"
      ]
     },
     "metadata": {},
     "output_type": "display_data"
    },
    {
     "name": "stdout",
     "output_type": "stream",
     "text": [
      "(9990, 125, 13)\n",
      "Model: \"sequential\"\n",
      "_________________________________________________________________\n",
      "Layer (type)                 Output Shape              Param #   \n",
      "=================================================================\n",
      "conv2d (Conv2D)              (None, 123, 11, 16)       160       \n",
      "_________________________________________________________________\n",
      "max_pooling2d (MaxPooling2D) (None, 62, 6, 16)         0         \n",
      "_________________________________________________________________\n",
      "batch_normalization (BatchNo (None, 62, 6, 16)         64        \n",
      "_________________________________________________________________\n",
      "conv2d_1 (Conv2D)            (None, 60, 4, 16)         2320      \n",
      "_________________________________________________________________\n",
      "max_pooling2d_1 (MaxPooling2 (None, 30, 2, 16)         0         \n",
      "_________________________________________________________________\n",
      "batch_normalization_1 (Batch (None, 30, 2, 16)         64        \n",
      "_________________________________________________________________\n",
      "conv2d_2 (Conv2D)            (None, 29, 1, 16)         1040      \n",
      "_________________________________________________________________\n",
      "max_pooling2d_2 (MaxPooling2 (None, 15, 1, 16)         0         \n",
      "_________________________________________________________________\n",
      "batch_normalization_2 (Batch (None, 15, 1, 16)         64        \n",
      "_________________________________________________________________\n",
      "dropout (Dropout)            (None, 15, 1, 16)         0         \n",
      "_________________________________________________________________\n",
      "flatten (Flatten)            (None, 240)               0         \n",
      "_________________________________________________________________\n",
      "dense (Dense)                (None, 64)                15424     \n",
      "_________________________________________________________________\n",
      "dense_1 (Dense)              (None, 10)                650       \n",
      "=================================================================\n",
      "Total params: 19,786\n",
      "Trainable params: 19,690\n",
      "Non-trainable params: 96\n",
      "_________________________________________________________________\n",
      "Epoch 1/5\n",
      "200/200 [==============================] - 6s 25ms/step - loss: 2.9444 - acc: 0.1224 - val_loss: 2.0248 - val_acc: 0.2843\n",
      "Epoch 2/5\n",
      "200/200 [==============================] - 6s 28ms/step - loss: 2.3319 - acc: 0.2305 - val_loss: 1.8056 - val_acc: 0.3483\n",
      "Epoch 3/5\n",
      "200/200 [==============================] - 7s 35ms/step - loss: 2.0745 - acc: 0.2867 - val_loss: 1.6945 - val_acc: 0.3839\n",
      "Epoch 4/5\n",
      "200/200 [==============================] - 6s 28ms/step - loss: 1.8959 - acc: 0.3291 - val_loss: 1.5970 - val_acc: 0.4154\n",
      "Epoch 5/5\n",
      "200/200 [==============================] - 6s 30ms/step - loss: 1.7773 - acc: 0.3692 - val_loss: 1.5295 - val_acc: 0.4364\n",
      "\n",
      "---Now testing the model for one audio file---\n",
      "The model predicts: classical, and ground truth is: metal.\n",
      "\n",
      "\n"
     ]
    },
    {
     "data": {
      "text/html": [
       "Waiting for W&B process to finish... <strong style=\"color:green\">(success).</strong>"
      ],
      "text/plain": [
       "<IPython.core.display.HTML object>"
      ]
     },
     "metadata": {},
     "output_type": "display_data"
    },
    {
     "data": {
      "application/vnd.jupyter.widget-view+json": {
       "model_id": "",
       "version_major": 2,
       "version_minor": 0
      },
      "text/plain": [
       "VBox(children=(Label(value='0.224 MB of 0.224 MB uploaded (0.000 MB deduped)\\r'), FloatProgress(value=1.0, max…"
      ]
     },
     "metadata": {},
     "output_type": "display_data"
    },
    {
     "data": {
      "text/html": [
       "<style>\n",
       "    table.wandb td:nth-child(1) { padding: 0 10px; text-align: right }\n",
       "    .wandb-row { display: flex; flex-direction: row; flex-wrap: wrap; width: 100% }\n",
       "    .wandb-col { display: flex; flex-direction: column; flex-basis: 100%; flex: 1; padding: 10px; }\n",
       "    </style>\n",
       "<div class=\"wandb-row\"><div class=\"wandb-col\"><h3>Run history:</h3><br/><table class=\"wandb\"><tr><td>acc</td><td>▁▄▆▇█</td></tr><tr><td>epoch</td><td>▁▃▅▆█</td></tr><tr><td>loss</td><td>█▅▃▂▁</td></tr><tr><td>val_acc</td><td>▁▄▆▇█</td></tr><tr><td>val_loss</td><td>█▅▃▂▁</td></tr></table><br/></div><div class=\"wandb-col\"><h3>Run summary:</h3><br/><table class=\"wandb\"><tr><td>acc</td><td>0.37025</td></tr><tr><td>best_epoch</td><td>4</td></tr><tr><td>best_val_loss</td><td>1.52946</td></tr><tr><td>epoch</td><td>4</td></tr><tr><td>loss</td><td>1.7641</td></tr><tr><td>val_acc</td><td>0.43644</td></tr><tr><td>val_loss</td><td>1.52946</td></tr></table><br/></div></div>"
      ],
      "text/plain": [
       "<IPython.core.display.HTML object>"
      ]
     },
     "metadata": {},
     "output_type": "display_data"
    },
    {
     "data": {
      "text/html": [
       "Synced <strong style=\"color:#cdcd00\">eager-sweep-4</strong>: <a href=\"https://wandb.ai/msaintfelix/Sweeps-Genre-Classifier/runs/qexlkz4k\" target=\"_blank\">https://wandb.ai/msaintfelix/Sweeps-Genre-Classifier/runs/qexlkz4k</a><br/>Synced 6 W&B file(s), 1 media file(s), 0 artifact file(s) and 1 other file(s)"
      ],
      "text/plain": [
       "<IPython.core.display.HTML object>"
      ]
     },
     "metadata": {},
     "output_type": "display_data"
    },
    {
     "data": {
      "text/html": [
       "Find logs at: <code>./wandb/run-20220829_200525-qexlkz4k/logs</code>"
      ],
      "text/plain": [
       "<IPython.core.display.HTML object>"
      ]
     },
     "metadata": {},
     "output_type": "display_data"
    },
    {
     "name": "stderr",
     "output_type": "stream",
     "text": [
      "\u001b[34m\u001b[1mwandb\u001b[0m: Agent Starting Run: diywiqs2 with config:\n",
      "\u001b[34m\u001b[1mwandb\u001b[0m: \tbatch_size: 64\n",
      "\u001b[34m\u001b[1mwandb\u001b[0m: \tconv_layer_size: 32\n",
      "\u001b[34m\u001b[1mwandb\u001b[0m: \tdropout: 0.4\n",
      "\u001b[34m\u001b[1mwandb\u001b[0m: \tepochs: 10\n",
      "\u001b[34m\u001b[1mwandb\u001b[0m: \tlearning_rate: 3e-05\n"
     ]
    },
    {
     "data": {
      "text/html": [
       "wandb version 0.13.2 is available!  To upgrade, please run:\n",
       " $ pip install wandb --upgrade"
      ],
      "text/plain": [
       "<IPython.core.display.HTML object>"
      ]
     },
     "metadata": {},
     "output_type": "display_data"
    },
    {
     "data": {
      "text/html": [
       "Tracking run with wandb version 0.12.11"
      ],
      "text/plain": [
       "<IPython.core.display.HTML object>"
      ]
     },
     "metadata": {},
     "output_type": "display_data"
    },
    {
     "data": {
      "text/html": [
       "Run data is saved locally in <code>/Users/msf/GitHub/TensorFlow_MusicGenre_Classifier/wandb/run-20220829_200622-diywiqs2</code>"
      ],
      "text/plain": [
       "<IPython.core.display.HTML object>"
      ]
     },
     "metadata": {},
     "output_type": "display_data"
    },
    {
     "data": {
      "text/html": [
       "Syncing run <strong><a href=\"https://wandb.ai/msaintfelix/Sweeps-Genre-Classifier/runs/diywiqs2\" target=\"_blank\">legendary-sweep-5</a></strong> to <a href=\"https://wandb.ai/msaintfelix/Sweeps-Genre-Classifier\" target=\"_blank\">Weights & Biases</a> (<a href=\"https://wandb.me/run\" target=\"_blank\">docs</a>)<br/>Sweep page:  <a href=\"https://wandb.ai/msaintfelix/Sweeps-Genre-Classifier/sweeps/e7xdbkpy\" target=\"_blank\">https://wandb.ai/msaintfelix/Sweeps-Genre-Classifier/sweeps/e7xdbkpy</a>"
      ],
      "text/plain": [
       "<IPython.core.display.HTML object>"
      ]
     },
     "metadata": {},
     "output_type": "display_data"
    },
    {
     "name": "stdout",
     "output_type": "stream",
     "text": [
      "(9990, 125, 13)\n",
      "Model: \"sequential\"\n",
      "_________________________________________________________________\n",
      "Layer (type)                 Output Shape              Param #   \n",
      "=================================================================\n",
      "conv2d (Conv2D)              (None, 123, 11, 32)       320       \n",
      "_________________________________________________________________\n",
      "max_pooling2d (MaxPooling2D) (None, 62, 6, 32)         0         \n",
      "_________________________________________________________________\n",
      "batch_normalization (BatchNo (None, 62, 6, 32)         128       \n",
      "_________________________________________________________________\n",
      "conv2d_1 (Conv2D)            (None, 60, 4, 32)         9248      \n",
      "_________________________________________________________________\n",
      "max_pooling2d_1 (MaxPooling2 (None, 30, 2, 32)         0         \n",
      "_________________________________________________________________\n",
      "batch_normalization_1 (Batch (None, 30, 2, 32)         128       \n",
      "_________________________________________________________________\n",
      "conv2d_2 (Conv2D)            (None, 29, 1, 32)         4128      \n",
      "_________________________________________________________________\n",
      "max_pooling2d_2 (MaxPooling2 (None, 15, 1, 32)         0         \n",
      "_________________________________________________________________\n",
      "batch_normalization_2 (Batch (None, 15, 1, 32)         128       \n",
      "_________________________________________________________________\n",
      "dropout (Dropout)            (None, 15, 1, 32)         0         \n",
      "_________________________________________________________________\n",
      "flatten (Flatten)            (None, 480)               0         \n",
      "_________________________________________________________________\n",
      "dense (Dense)                (None, 64)                30784     \n",
      "_________________________________________________________________\n",
      "dense_1 (Dense)              (None, 10)                650       \n",
      "=================================================================\n",
      "Total params: 45,514\n",
      "Trainable params: 45,322\n",
      "Non-trainable params: 192\n",
      "_________________________________________________________________\n",
      "Epoch 1/10\n",
      "100/100 [==============================] - 9s 81ms/step - loss: 3.1030 - acc: 0.1320 - val_loss: 2.4564 - val_acc: 0.1707\n",
      "Epoch 2/10\n",
      "100/100 [==============================] - 8s 77ms/step - loss: 2.6792 - acc: 0.2019 - val_loss: 2.1454 - val_acc: 0.2828\n",
      "Epoch 3/10\n",
      "100/100 [==============================] - 8s 79ms/step - loss: 2.4257 - acc: 0.2581 - val_loss: 1.9650 - val_acc: 0.3473\n",
      "Epoch 4/10\n",
      "100/100 [==============================] - 8s 78ms/step - loss: 2.2312 - acc: 0.2860 - val_loss: 1.8391 - val_acc: 0.3829\n",
      "Epoch 5/10\n",
      "100/100 [==============================] - 9s 88ms/step - loss: 2.0886 - acc: 0.3265 - val_loss: 1.7466 - val_acc: 0.4079\n",
      "Epoch 6/10\n",
      "100/100 [==============================] - 9s 90ms/step - loss: 1.9968 - acc: 0.3473 - val_loss: 1.6795 - val_acc: 0.4204\n",
      "Epoch 7/10\n",
      "100/100 [==============================] - 8s 83ms/step - loss: 1.8843 - acc: 0.3757 - val_loss: 1.6109 - val_acc: 0.4404\n",
      "Epoch 8/10\n",
      "100/100 [==============================] - 8s 78ms/step - loss: 1.7794 - acc: 0.3917 - val_loss: 1.5570 - val_acc: 0.4494\n",
      "Epoch 9/10\n",
      "100/100 [==============================] - 8s 79ms/step - loss: 1.7259 - acc: 0.4060 - val_loss: 1.5146 - val_acc: 0.4615\n",
      "Epoch 10/10\n",
      "100/100 [==============================] - 8s 78ms/step - loss: 1.7066 - acc: 0.4122 - val_loss: 1.4769 - val_acc: 0.4690\n",
      "\n",
      "---Now testing the model for one audio file---\n",
      "The model predicts: blues, and ground truth is: blues.\n",
      "\n",
      "\n"
     ]
    },
    {
     "data": {
      "text/html": [
       "Waiting for W&B process to finish... <strong style=\"color:green\">(success).</strong>"
      ],
      "text/plain": [
       "<IPython.core.display.HTML object>"
      ]
     },
     "metadata": {},
     "output_type": "display_data"
    },
    {
     "data": {
      "application/vnd.jupyter.widget-view+json": {
       "model_id": "",
       "version_major": 2,
       "version_minor": 0
      },
      "text/plain": [
       "VBox(children=(Label(value='0.419 MB of 0.419 MB uploaded (0.000 MB deduped)\\r'), FloatProgress(value=1.0, max…"
      ]
     },
     "metadata": {},
     "output_type": "display_data"
    },
    {
     "data": {
      "text/html": [
       "<style>\n",
       "    table.wandb td:nth-child(1) { padding: 0 10px; text-align: right }\n",
       "    .wandb-row { display: flex; flex-direction: row; flex-wrap: wrap; width: 100% }\n",
       "    .wandb-col { display: flex; flex-direction: column; flex-basis: 100%; flex: 1; padding: 10px; }\n",
       "    </style>\n",
       "<div class=\"wandb-row\"><div class=\"wandb-col\"><h3>Run history:</h3><br/><table class=\"wandb\"><tr><td>acc</td><td>▁▃▄▅▆▆▇▇██</td></tr><tr><td>epoch</td><td>▁▂▃▃▄▅▆▆▇█</td></tr><tr><td>loss</td><td>█▆▅▄▃▂▂▂▁▁</td></tr><tr><td>val_acc</td><td>▁▄▅▆▇▇▇███</td></tr><tr><td>val_loss</td><td>█▆▄▄▃▂▂▂▁▁</td></tr></table><br/></div><div class=\"wandb-col\"><h3>Run summary:</h3><br/><table class=\"wandb\"><tr><td>acc</td><td>0.41796</td></tr><tr><td>best_epoch</td><td>9</td></tr><tr><td>best_val_loss</td><td>1.47686</td></tr><tr><td>epoch</td><td>9</td></tr><tr><td>loss</td><td>1.67187</td></tr><tr><td>val_acc</td><td>0.46897</td></tr><tr><td>val_loss</td><td>1.47686</td></tr></table><br/></div></div>"
      ],
      "text/plain": [
       "<IPython.core.display.HTML object>"
      ]
     },
     "metadata": {},
     "output_type": "display_data"
    },
    {
     "data": {
      "text/html": [
       "Synced <strong style=\"color:#cdcd00\">legendary-sweep-5</strong>: <a href=\"https://wandb.ai/msaintfelix/Sweeps-Genre-Classifier/runs/diywiqs2\" target=\"_blank\">https://wandb.ai/msaintfelix/Sweeps-Genre-Classifier/runs/diywiqs2</a><br/>Synced 6 W&B file(s), 1 media file(s), 0 artifact file(s) and 1 other file(s)"
      ],
      "text/plain": [
       "<IPython.core.display.HTML object>"
      ]
     },
     "metadata": {},
     "output_type": "display_data"
    },
    {
     "data": {
      "text/html": [
       "Find logs at: <code>./wandb/run-20220829_200622-diywiqs2/logs</code>"
      ],
      "text/plain": [
       "<IPython.core.display.HTML object>"
      ]
     },
     "metadata": {},
     "output_type": "display_data"
    },
    {
     "name": "stderr",
     "output_type": "stream",
     "text": [
      "\u001b[34m\u001b[1mwandb\u001b[0m: Agent Starting Run: 4j6h23n4 with config:\n",
      "\u001b[34m\u001b[1mwandb\u001b[0m: \tbatch_size: 32\n",
      "\u001b[34m\u001b[1mwandb\u001b[0m: \tconv_layer_size: 32\n",
      "\u001b[34m\u001b[1mwandb\u001b[0m: \tdropout: 0.5\n",
      "\u001b[34m\u001b[1mwandb\u001b[0m: \tepochs: 5\n",
      "\u001b[34m\u001b[1mwandb\u001b[0m: \tlearning_rate: 0.001\n"
     ]
    },
    {
     "data": {
      "text/html": [
       "wandb version 0.13.2 is available!  To upgrade, please run:\n",
       " $ pip install wandb --upgrade"
      ],
      "text/plain": [
       "<IPython.core.display.HTML object>"
      ]
     },
     "metadata": {},
     "output_type": "display_data"
    },
    {
     "data": {
      "text/html": [
       "Tracking run with wandb version 0.12.11"
      ],
      "text/plain": [
       "<IPython.core.display.HTML object>"
      ]
     },
     "metadata": {},
     "output_type": "display_data"
    },
    {
     "data": {
      "text/html": [
       "Run data is saved locally in <code>/Users/msf/GitHub/TensorFlow_MusicGenre_Classifier/wandb/run-20220829_200818-4j6h23n4</code>"
      ],
      "text/plain": [
       "<IPython.core.display.HTML object>"
      ]
     },
     "metadata": {},
     "output_type": "display_data"
    },
    {
     "data": {
      "text/html": [
       "Syncing run <strong><a href=\"https://wandb.ai/msaintfelix/Sweeps-Genre-Classifier/runs/4j6h23n4\" target=\"_blank\">blooming-sweep-6</a></strong> to <a href=\"https://wandb.ai/msaintfelix/Sweeps-Genre-Classifier\" target=\"_blank\">Weights & Biases</a> (<a href=\"https://wandb.me/run\" target=\"_blank\">docs</a>)<br/>Sweep page:  <a href=\"https://wandb.ai/msaintfelix/Sweeps-Genre-Classifier/sweeps/e7xdbkpy\" target=\"_blank\">https://wandb.ai/msaintfelix/Sweeps-Genre-Classifier/sweeps/e7xdbkpy</a>"
      ],
      "text/plain": [
       "<IPython.core.display.HTML object>"
      ]
     },
     "metadata": {},
     "output_type": "display_data"
    },
    {
     "name": "stdout",
     "output_type": "stream",
     "text": [
      "(9990, 125, 13)\n",
      "Model: \"sequential\"\n",
      "_________________________________________________________________\n",
      "Layer (type)                 Output Shape              Param #   \n",
      "=================================================================\n",
      "conv2d (Conv2D)              (None, 123, 11, 32)       320       \n",
      "_________________________________________________________________\n",
      "max_pooling2d (MaxPooling2D) (None, 62, 6, 32)         0         \n",
      "_________________________________________________________________\n",
      "batch_normalization (BatchNo (None, 62, 6, 32)         128       \n",
      "_________________________________________________________________\n",
      "conv2d_1 (Conv2D)            (None, 60, 4, 32)         9248      \n",
      "_________________________________________________________________\n",
      "max_pooling2d_1 (MaxPooling2 (None, 30, 2, 32)         0         \n",
      "_________________________________________________________________\n",
      "batch_normalization_1 (Batch (None, 30, 2, 32)         128       \n",
      "_________________________________________________________________\n",
      "conv2d_2 (Conv2D)            (None, 29, 1, 32)         4128      \n",
      "_________________________________________________________________\n",
      "max_pooling2d_2 (MaxPooling2 (None, 15, 1, 32)         0         \n",
      "_________________________________________________________________\n",
      "batch_normalization_2 (Batch (None, 15, 1, 32)         128       \n",
      "_________________________________________________________________\n",
      "dropout (Dropout)            (None, 15, 1, 32)         0         \n",
      "_________________________________________________________________\n",
      "flatten (Flatten)            (None, 480)               0         \n",
      "_________________________________________________________________\n",
      "dense (Dense)                (None, 64)                30784     \n",
      "_________________________________________________________________\n",
      "dense_1 (Dense)              (None, 10)                650       \n",
      "=================================================================\n",
      "Total params: 45,514\n",
      "Trainable params: 45,322\n",
      "Non-trainable params: 192\n",
      "_________________________________________________________________\n",
      "Epoch 1/5\n",
      "200/200 [==============================] - 9s 40ms/step - loss: 2.1346 - acc: 0.3162 - val_loss: 1.5196 - val_acc: 0.4610\n",
      "Epoch 2/5\n",
      "200/200 [==============================] - 8s 40ms/step - loss: 1.3185 - acc: 0.5303 - val_loss: 1.2699 - val_acc: 0.5551\n",
      "Epoch 3/5\n",
      "200/200 [==============================] - 8s 40ms/step - loss: 1.1224 - acc: 0.6004 - val_loss: 1.1211 - val_acc: 0.6316\n",
      "Epoch 4/5\n",
      "200/200 [==============================] - 8s 41ms/step - loss: 0.9754 - acc: 0.6503 - val_loss: 1.0059 - val_acc: 0.6667\n",
      "Epoch 5/5\n",
      "200/200 [==============================] - 8s 41ms/step - loss: 0.8978 - acc: 0.6826 - val_loss: 1.0025 - val_acc: 0.6587\n",
      "\n",
      "---Now testing the model for one audio file---\n",
      "The model predicts: hiphop, and ground truth is: hiphop.\n",
      "\n",
      "\n"
     ]
    },
    {
     "data": {
      "text/html": [
       "Waiting for W&B process to finish... <strong style=\"color:green\">(success).</strong>"
      ],
      "text/plain": [
       "<IPython.core.display.HTML object>"
      ]
     },
     "metadata": {},
     "output_type": "display_data"
    },
    {
     "data": {
      "application/vnd.jupyter.widget-view+json": {
       "model_id": "",
       "version_major": 2,
       "version_minor": 0
      },
      "text/plain": [
       "VBox(children=(Label(value='0.419 MB of 0.419 MB uploaded (0.000 MB deduped)\\r'), FloatProgress(value=1.0, max…"
      ]
     },
     "metadata": {},
     "output_type": "display_data"
    },
    {
     "data": {
      "text/html": [
       "<style>\n",
       "    table.wandb td:nth-child(1) { padding: 0 10px; text-align: right }\n",
       "    .wandb-row { display: flex; flex-direction: row; flex-wrap: wrap; width: 100% }\n",
       "    .wandb-col { display: flex; flex-direction: column; flex-basis: 100%; flex: 1; padding: 10px; }\n",
       "    </style>\n",
       "<div class=\"wandb-row\"><div class=\"wandb-col\"><h3>Run history:</h3><br/><table class=\"wandb\"><tr><td>acc</td><td>▁▄▆▇█</td></tr><tr><td>epoch</td><td>▁▃▅▆█</td></tr><tr><td>loss</td><td>█▄▂▂▁</td></tr><tr><td>val_acc</td><td>▁▄▇██</td></tr><tr><td>val_loss</td><td>█▅▃▁▁</td></tr></table><br/></div><div class=\"wandb-col\"><h3>Run summary:</h3><br/><table class=\"wandb\"><tr><td>acc</td><td>0.68528</td></tr><tr><td>best_epoch</td><td>4</td></tr><tr><td>best_val_loss</td><td>1.0025</td></tr><tr><td>epoch</td><td>4</td></tr><tr><td>loss</td><td>0.8921</td></tr><tr><td>val_acc</td><td>0.65866</td></tr><tr><td>val_loss</td><td>1.0025</td></tr></table><br/></div></div>"
      ],
      "text/plain": [
       "<IPython.core.display.HTML object>"
      ]
     },
     "metadata": {},
     "output_type": "display_data"
    },
    {
     "data": {
      "text/html": [
       "Synced <strong style=\"color:#cdcd00\">blooming-sweep-6</strong>: <a href=\"https://wandb.ai/msaintfelix/Sweeps-Genre-Classifier/runs/4j6h23n4\" target=\"_blank\">https://wandb.ai/msaintfelix/Sweeps-Genre-Classifier/runs/4j6h23n4</a><br/>Synced 6 W&B file(s), 1 media file(s), 0 artifact file(s) and 1 other file(s)"
      ],
      "text/plain": [
       "<IPython.core.display.HTML object>"
      ]
     },
     "metadata": {},
     "output_type": "display_data"
    },
    {
     "data": {
      "text/html": [
       "Find logs at: <code>./wandb/run-20220829_200818-4j6h23n4/logs</code>"
      ],
      "text/plain": [
       "<IPython.core.display.HTML object>"
      ]
     },
     "metadata": {},
     "output_type": "display_data"
    },
    {
     "name": "stderr",
     "output_type": "stream",
     "text": [
      "\u001b[34m\u001b[1mwandb\u001b[0m: Agent Starting Run: gg86o5uy with config:\n",
      "\u001b[34m\u001b[1mwandb\u001b[0m: \tbatch_size: 64\n",
      "\u001b[34m\u001b[1mwandb\u001b[0m: \tconv_layer_size: 32\n",
      "\u001b[34m\u001b[1mwandb\u001b[0m: \tdropout: 0.5\n",
      "\u001b[34m\u001b[1mwandb\u001b[0m: \tepochs: 15\n",
      "\u001b[34m\u001b[1mwandb\u001b[0m: \tlearning_rate: 0.0003\n"
     ]
    },
    {
     "data": {
      "text/html": [
       "wandb version 0.13.2 is available!  To upgrade, please run:\n",
       " $ pip install wandb --upgrade"
      ],
      "text/plain": [
       "<IPython.core.display.HTML object>"
      ]
     },
     "metadata": {},
     "output_type": "display_data"
    },
    {
     "data": {
      "text/html": [
       "Tracking run with wandb version 0.12.11"
      ],
      "text/plain": [
       "<IPython.core.display.HTML object>"
      ]
     },
     "metadata": {},
     "output_type": "display_data"
    },
    {
     "data": {
      "text/html": [
       "Run data is saved locally in <code>/Users/msf/GitHub/TensorFlow_MusicGenre_Classifier/wandb/run-20220829_200932-gg86o5uy</code>"
      ],
      "text/plain": [
       "<IPython.core.display.HTML object>"
      ]
     },
     "metadata": {},
     "output_type": "display_data"
    },
    {
     "data": {
      "text/html": [
       "Syncing run <strong><a href=\"https://wandb.ai/msaintfelix/Sweeps-Genre-Classifier/runs/gg86o5uy\" target=\"_blank\">hearty-sweep-7</a></strong> to <a href=\"https://wandb.ai/msaintfelix/Sweeps-Genre-Classifier\" target=\"_blank\">Weights & Biases</a> (<a href=\"https://wandb.me/run\" target=\"_blank\">docs</a>)<br/>Sweep page:  <a href=\"https://wandb.ai/msaintfelix/Sweeps-Genre-Classifier/sweeps/e7xdbkpy\" target=\"_blank\">https://wandb.ai/msaintfelix/Sweeps-Genre-Classifier/sweeps/e7xdbkpy</a>"
      ],
      "text/plain": [
       "<IPython.core.display.HTML object>"
      ]
     },
     "metadata": {},
     "output_type": "display_data"
    },
    {
     "name": "stdout",
     "output_type": "stream",
     "text": [
      "(9990, 125, 13)\n",
      "Model: \"sequential\"\n",
      "_________________________________________________________________\n",
      "Layer (type)                 Output Shape              Param #   \n",
      "=================================================================\n",
      "conv2d (Conv2D)              (None, 123, 11, 32)       320       \n",
      "_________________________________________________________________\n",
      "max_pooling2d (MaxPooling2D) (None, 62, 6, 32)         0         \n",
      "_________________________________________________________________\n",
      "batch_normalization (BatchNo (None, 62, 6, 32)         128       \n",
      "_________________________________________________________________\n",
      "conv2d_1 (Conv2D)            (None, 60, 4, 32)         9248      \n",
      "_________________________________________________________________\n",
      "max_pooling2d_1 (MaxPooling2 (None, 30, 2, 32)         0         \n",
      "_________________________________________________________________\n",
      "batch_normalization_1 (Batch (None, 30, 2, 32)         128       \n",
      "_________________________________________________________________\n",
      "conv2d_2 (Conv2D)            (None, 29, 1, 32)         4128      \n",
      "_________________________________________________________________\n",
      "max_pooling2d_2 (MaxPooling2 (None, 15, 1, 32)         0         \n",
      "_________________________________________________________________\n",
      "batch_normalization_2 (Batch (None, 15, 1, 32)         128       \n",
      "_________________________________________________________________\n",
      "dropout (Dropout)            (None, 15, 1, 32)         0         \n",
      "_________________________________________________________________\n",
      "flatten (Flatten)            (None, 480)               0         \n",
      "_________________________________________________________________\n",
      "dense (Dense)                (None, 64)                30784     \n",
      "_________________________________________________________________\n",
      "dense_1 (Dense)              (None, 10)                650       \n",
      "=================================================================\n",
      "Total params: 45,514\n",
      "Trainable params: 45,322\n",
      "Non-trainable params: 192\n",
      "_________________________________________________________________\n",
      "Epoch 1/15\n",
      "100/100 [==============================] - 8s 72ms/step - loss: 2.5829 - acc: 0.2200 - val_loss: 2.0084 - val_acc: 0.2958\n",
      "Epoch 2/15\n",
      "100/100 [==============================] - 7s 71ms/step - loss: 1.6852 - acc: 0.4051 - val_loss: 1.5620 - val_acc: 0.4214\n",
      "Epoch 3/15\n",
      "100/100 [==============================] - 7s 71ms/step - loss: 1.4341 - acc: 0.5051 - val_loss: 1.2397 - val_acc: 0.5556\n",
      "Epoch 4/15\n",
      "100/100 [==============================] - 7s 72ms/step - loss: 1.3047 - acc: 0.5391 - val_loss: 1.1493 - val_acc: 0.5841\n",
      "Epoch 5/15\n",
      "100/100 [==============================] - 7s 72ms/step - loss: 1.2266 - acc: 0.5620 - val_loss: 1.0617 - val_acc: 0.6216\n",
      "Epoch 6/15\n",
      "100/100 [==============================] - 7s 72ms/step - loss: 1.1161 - acc: 0.6060 - val_loss: 1.0558 - val_acc: 0.6376\n",
      "Epoch 7/15\n",
      "100/100 [==============================] - 7s 74ms/step - loss: 1.0814 - acc: 0.6154 - val_loss: 0.9597 - val_acc: 0.6547\n",
      "Epoch 8/15\n",
      "100/100 [==============================] - 7s 75ms/step - loss: 0.9876 - acc: 0.6451 - val_loss: 1.0050 - val_acc: 0.6421\n",
      "Epoch 9/15\n",
      "100/100 [==============================] - 7s 75ms/step - loss: 0.9719 - acc: 0.6560 - val_loss: 0.8948 - val_acc: 0.6892\n",
      "Epoch 10/15\n",
      "100/100 [==============================] - 7s 73ms/step - loss: 0.9164 - acc: 0.6743 - val_loss: 0.8841 - val_acc: 0.6747\n",
      "Epoch 11/15\n",
      "100/100 [==============================] - 7s 74ms/step - loss: 0.8890 - acc: 0.6838 - val_loss: 0.8774 - val_acc: 0.6902\n",
      "Epoch 12/15\n",
      "100/100 [==============================] - 7s 74ms/step - loss: 0.8371 - acc: 0.7029 - val_loss: 0.9248 - val_acc: 0.6907\n",
      "Epoch 13/15\n",
      "100/100 [==============================] - 7s 74ms/step - loss: 0.8320 - acc: 0.6956 - val_loss: 0.8398 - val_acc: 0.7077\n",
      "Epoch 14/15\n",
      "100/100 [==============================] - 7s 74ms/step - loss: 0.7843 - acc: 0.7253 - val_loss: 0.8092 - val_acc: 0.7262\n",
      "Epoch 15/15\n",
      "100/100 [==============================] - 7s 75ms/step - loss: 0.7790 - acc: 0.7304 - val_loss: 0.7826 - val_acc: 0.7262\n",
      "\n",
      "---Now testing the model for one audio file---\n",
      "The model predicts: classical, and ground truth is: classical.\n",
      "\n",
      "\n"
     ]
    },
    {
     "data": {
      "text/html": [
       "Waiting for W&B process to finish... <strong style=\"color:green\">(success).</strong>"
      ],
      "text/plain": [
       "<IPython.core.display.HTML object>"
      ]
     },
     "metadata": {},
     "output_type": "display_data"
    },
    {
     "data": {
      "application/vnd.jupyter.widget-view+json": {
       "model_id": "",
       "version_major": 2,
       "version_minor": 0
      },
      "text/plain": [
       "VBox(children=(Label(value='0.419 MB of 0.419 MB uploaded (0.000 MB deduped)\\r'), FloatProgress(value=1.0, max…"
      ]
     },
     "metadata": {},
     "output_type": "display_data"
    },
    {
     "data": {
      "text/html": [
       "<style>\n",
       "    table.wandb td:nth-child(1) { padding: 0 10px; text-align: right }\n",
       "    .wandb-row { display: flex; flex-direction: row; flex-wrap: wrap; width: 100% }\n",
       "    .wandb-col { display: flex; flex-direction: column; flex-basis: 100%; flex: 1; padding: 10px; }\n",
       "    </style>\n",
       "<div class=\"wandb-row\"><div class=\"wandb-col\"><h3>Run history:</h3><br/><table class=\"wandb\"><tr><td>acc</td><td>▁▃▅▅▆▆▆▇▇▇▇████</td></tr><tr><td>epoch</td><td>▁▁▂▃▃▃▄▅▅▅▆▇▇▇█</td></tr><tr><td>loss</td><td>█▅▄▃▃▃▂▂▂▂▂▁▁▁▁</td></tr><tr><td>val_acc</td><td>▁▃▅▆▆▇▇▇▇▇▇▇███</td></tr><tr><td>val_loss</td><td>█▅▄▃▃▃▂▂▂▂▂▂▁▁▁</td></tr></table><br/></div><div class=\"wandb-col\"><h3>Run summary:</h3><br/><table class=\"wandb\"><tr><td>acc</td><td>0.7283</td></tr><tr><td>best_epoch</td><td>14</td></tr><tr><td>best_val_loss</td><td>0.78256</td></tr><tr><td>epoch</td><td>14</td></tr><tr><td>loss</td><td>0.7722</td></tr><tr><td>val_acc</td><td>0.72623</td></tr><tr><td>val_loss</td><td>0.78256</td></tr></table><br/></div></div>"
      ],
      "text/plain": [
       "<IPython.core.display.HTML object>"
      ]
     },
     "metadata": {},
     "output_type": "display_data"
    },
    {
     "data": {
      "text/html": [
       "Synced <strong style=\"color:#cdcd00\">hearty-sweep-7</strong>: <a href=\"https://wandb.ai/msaintfelix/Sweeps-Genre-Classifier/runs/gg86o5uy\" target=\"_blank\">https://wandb.ai/msaintfelix/Sweeps-Genre-Classifier/runs/gg86o5uy</a><br/>Synced 6 W&B file(s), 1 media file(s), 0 artifact file(s) and 1 other file(s)"
      ],
      "text/plain": [
       "<IPython.core.display.HTML object>"
      ]
     },
     "metadata": {},
     "output_type": "display_data"
    },
    {
     "data": {
      "text/html": [
       "Find logs at: <code>./wandb/run-20220829_200932-gg86o5uy/logs</code>"
      ],
      "text/plain": [
       "<IPython.core.display.HTML object>"
      ]
     },
     "metadata": {},
     "output_type": "display_data"
    },
    {
     "name": "stderr",
     "output_type": "stream",
     "text": [
      "\u001b[34m\u001b[1mwandb\u001b[0m: Agent Starting Run: xy85zs4c with config:\n",
      "\u001b[34m\u001b[1mwandb\u001b[0m: \tbatch_size: 64\n",
      "\u001b[34m\u001b[1mwandb\u001b[0m: \tconv_layer_size: 16\n",
      "\u001b[34m\u001b[1mwandb\u001b[0m: \tdropout: 0.5\n",
      "\u001b[34m\u001b[1mwandb\u001b[0m: \tepochs: 10\n",
      "\u001b[34m\u001b[1mwandb\u001b[0m: \tlearning_rate: 0.0003\n"
     ]
    },
    {
     "data": {
      "text/html": [
       "wandb version 0.13.2 is available!  To upgrade, please run:\n",
       " $ pip install wandb --upgrade"
      ],
      "text/plain": [
       "<IPython.core.display.HTML object>"
      ]
     },
     "metadata": {},
     "output_type": "display_data"
    },
    {
     "data": {
      "text/html": [
       "Tracking run with wandb version 0.12.11"
      ],
      "text/plain": [
       "<IPython.core.display.HTML object>"
      ]
     },
     "metadata": {},
     "output_type": "display_data"
    },
    {
     "data": {
      "text/html": [
       "Run data is saved locally in <code>/Users/msf/GitHub/TensorFlow_MusicGenre_Classifier/wandb/run-20220829_201152-xy85zs4c</code>"
      ],
      "text/plain": [
       "<IPython.core.display.HTML object>"
      ]
     },
     "metadata": {},
     "output_type": "display_data"
    },
    {
     "data": {
      "text/html": [
       "Syncing run <strong><a href=\"https://wandb.ai/msaintfelix/Sweeps-Genre-Classifier/runs/xy85zs4c\" target=\"_blank\">earnest-sweep-8</a></strong> to <a href=\"https://wandb.ai/msaintfelix/Sweeps-Genre-Classifier\" target=\"_blank\">Weights & Biases</a> (<a href=\"https://wandb.me/run\" target=\"_blank\">docs</a>)<br/>Sweep page:  <a href=\"https://wandb.ai/msaintfelix/Sweeps-Genre-Classifier/sweeps/e7xdbkpy\" target=\"_blank\">https://wandb.ai/msaintfelix/Sweeps-Genre-Classifier/sweeps/e7xdbkpy</a>"
      ],
      "text/plain": [
       "<IPython.core.display.HTML object>"
      ]
     },
     "metadata": {},
     "output_type": "display_data"
    },
    {
     "name": "stdout",
     "output_type": "stream",
     "text": [
      "(9990, 125, 13)\n",
      "Model: \"sequential\"\n",
      "_________________________________________________________________\n",
      "Layer (type)                 Output Shape              Param #   \n",
      "=================================================================\n",
      "conv2d (Conv2D)              (None, 123, 11, 16)       160       \n",
      "_________________________________________________________________\n",
      "max_pooling2d (MaxPooling2D) (None, 62, 6, 16)         0         \n",
      "_________________________________________________________________\n",
      "batch_normalization (BatchNo (None, 62, 6, 16)         64        \n",
      "_________________________________________________________________\n",
      "conv2d_1 (Conv2D)            (None, 60, 4, 16)         2320      \n",
      "_________________________________________________________________\n",
      "max_pooling2d_1 (MaxPooling2 (None, 30, 2, 16)         0         \n",
      "_________________________________________________________________\n",
      "batch_normalization_1 (Batch (None, 30, 2, 16)         64        \n",
      "_________________________________________________________________\n",
      "conv2d_2 (Conv2D)            (None, 29, 1, 16)         1040      \n",
      "_________________________________________________________________\n",
      "max_pooling2d_2 (MaxPooling2 (None, 15, 1, 16)         0         \n",
      "_________________________________________________________________\n",
      "batch_normalization_2 (Batch (None, 15, 1, 16)         64        \n",
      "_________________________________________________________________\n",
      "dropout (Dropout)            (None, 15, 1, 16)         0         \n",
      "_________________________________________________________________\n",
      "flatten (Flatten)            (None, 240)               0         \n",
      "_________________________________________________________________\n",
      "dense (Dense)                (None, 64)                15424     \n",
      "_________________________________________________________________\n",
      "dense_1 (Dense)              (None, 10)                650       \n",
      "=================================================================\n",
      "Total params: 19,786\n",
      "Trainable params: 19,690\n",
      "Non-trainable params: 96\n",
      "_________________________________________________________________\n",
      "Epoch 1/10\n",
      "100/100 [==============================] - 5s 45ms/step - loss: 2.7851 - acc: 0.1694 - val_loss: 2.0484 - val_acc: 0.2853\n",
      "Epoch 2/10\n",
      "100/100 [==============================] - 4s 43ms/step - loss: 2.0027 - acc: 0.3274 - val_loss: 1.6587 - val_acc: 0.3974\n",
      "Epoch 3/10\n",
      "100/100 [==============================] - 4s 43ms/step - loss: 1.7254 - acc: 0.3809 - val_loss: 1.4317 - val_acc: 0.4820\n",
      "Epoch 4/10\n",
      "100/100 [==============================] - 4s 43ms/step - loss: 1.5866 - acc: 0.4330 - val_loss: 1.3410 - val_acc: 0.5220\n",
      "Epoch 5/10\n",
      "100/100 [==============================] - 4s 43ms/step - loss: 1.4597 - acc: 0.4777 - val_loss: 1.2662 - val_acc: 0.5460\n",
      "Epoch 6/10\n",
      "100/100 [==============================] - 4s 43ms/step - loss: 1.3940 - acc: 0.4912 - val_loss: 1.3102 - val_acc: 0.5235\n",
      "Epoch 7/10\n",
      "100/100 [==============================] - 4s 44ms/step - loss: 1.3382 - acc: 0.5192 - val_loss: 1.1790 - val_acc: 0.5681\n",
      "Epoch 8/10\n",
      "100/100 [==============================] - 5s 46ms/step - loss: 1.3021 - acc: 0.5314 - val_loss: 1.1336 - val_acc: 0.5801\n",
      "Epoch 9/10\n",
      "100/100 [==============================] - 5s 46ms/step - loss: 1.2496 - acc: 0.5372 - val_loss: 1.1035 - val_acc: 0.5896\n",
      "Epoch 10/10\n",
      "100/100 [==============================] - 5s 45ms/step - loss: 1.1954 - acc: 0.5613 - val_loss: 1.1075 - val_acc: 0.5851\n",
      "\n",
      "---Now testing the model for one audio file---\n",
      "The model predicts: reggae, and ground truth is: disco.\n",
      "\n",
      "\n"
     ]
    },
    {
     "data": {
      "text/html": [
       "Waiting for W&B process to finish... <strong style=\"color:green\">(success).</strong>"
      ],
      "text/plain": [
       "<IPython.core.display.HTML object>"
      ]
     },
     "metadata": {},
     "output_type": "display_data"
    },
    {
     "data": {
      "application/vnd.jupyter.widget-view+json": {
       "model_id": "",
       "version_major": 2,
       "version_minor": 0
      },
      "text/plain": [
       "VBox(children=(Label(value='0.224 MB of 0.224 MB uploaded (0.000 MB deduped)\\r'), FloatProgress(value=1.0, max…"
      ]
     },
     "metadata": {},
     "output_type": "display_data"
    },
    {
     "data": {
      "text/html": [
       "<style>\n",
       "    table.wandb td:nth-child(1) { padding: 0 10px; text-align: right }\n",
       "    .wandb-row { display: flex; flex-direction: row; flex-wrap: wrap; width: 100% }\n",
       "    .wandb-col { display: flex; flex-direction: column; flex-basis: 100%; flex: 1; padding: 10px; }\n",
       "    </style>\n",
       "<div class=\"wandb-row\"><div class=\"wandb-col\"><h3>Run history:</h3><br/><table class=\"wandb\"><tr><td>acc</td><td>▁▃▅▆▆▇▇▇██</td></tr><tr><td>epoch</td><td>▁▂▃▃▄▅▆▆▇█</td></tr><tr><td>loss</td><td>█▅▄▃▂▂▂▁▁▁</td></tr><tr><td>val_acc</td><td>▁▄▆▆▇▆████</td></tr><tr><td>val_loss</td><td>█▅▃▃▂▃▂▁▁▁</td></tr></table><br/></div><div class=\"wandb-col\"><h3>Run summary:</h3><br/><table class=\"wandb\"><tr><td>acc</td><td>0.56499</td></tr><tr><td>best_epoch</td><td>8</td></tr><tr><td>best_val_loss</td><td>1.10353</td></tr><tr><td>epoch</td><td>9</td></tr><tr><td>loss</td><td>1.19565</td></tr><tr><td>val_acc</td><td>0.58509</td></tr><tr><td>val_loss</td><td>1.1075</td></tr></table><br/></div></div>"
      ],
      "text/plain": [
       "<IPython.core.display.HTML object>"
      ]
     },
     "metadata": {},
     "output_type": "display_data"
    },
    {
     "data": {
      "text/html": [
       "Synced <strong style=\"color:#cdcd00\">earnest-sweep-8</strong>: <a href=\"https://wandb.ai/msaintfelix/Sweeps-Genre-Classifier/runs/xy85zs4c\" target=\"_blank\">https://wandb.ai/msaintfelix/Sweeps-Genre-Classifier/runs/xy85zs4c</a><br/>Synced 6 W&B file(s), 1 media file(s), 0 artifact file(s) and 1 other file(s)"
      ],
      "text/plain": [
       "<IPython.core.display.HTML object>"
      ]
     },
     "metadata": {},
     "output_type": "display_data"
    },
    {
     "data": {
      "text/html": [
       "Find logs at: <code>./wandb/run-20220829_201152-xy85zs4c/logs</code>"
      ],
      "text/plain": [
       "<IPython.core.display.HTML object>"
      ]
     },
     "metadata": {},
     "output_type": "display_data"
    },
    {
     "name": "stderr",
     "output_type": "stream",
     "text": [
      "\u001b[34m\u001b[1mwandb\u001b[0m: Agent Starting Run: 1yqly5w8 with config:\n",
      "\u001b[34m\u001b[1mwandb\u001b[0m: \tbatch_size: 32\n",
      "\u001b[34m\u001b[1mwandb\u001b[0m: \tconv_layer_size: 32\n",
      "\u001b[34m\u001b[1mwandb\u001b[0m: \tdropout: 0.4\n",
      "\u001b[34m\u001b[1mwandb\u001b[0m: \tepochs: 15\n",
      "\u001b[34m\u001b[1mwandb\u001b[0m: \tlearning_rate: 0.0003\n"
     ]
    },
    {
     "data": {
      "text/html": [
       "wandb version 0.13.2 is available!  To upgrade, please run:\n",
       " $ pip install wandb --upgrade"
      ],
      "text/plain": [
       "<IPython.core.display.HTML object>"
      ]
     },
     "metadata": {},
     "output_type": "display_data"
    },
    {
     "data": {
      "text/html": [
       "Tracking run with wandb version 0.12.11"
      ],
      "text/plain": [
       "<IPython.core.display.HTML object>"
      ]
     },
     "metadata": {},
     "output_type": "display_data"
    },
    {
     "data": {
      "text/html": [
       "Run data is saved locally in <code>/Users/msf/GitHub/TensorFlow_MusicGenre_Classifier/wandb/run-20220829_201304-1yqly5w8</code>"
      ],
      "text/plain": [
       "<IPython.core.display.HTML object>"
      ]
     },
     "metadata": {},
     "output_type": "display_data"
    },
    {
     "data": {
      "text/html": [
       "Syncing run <strong><a href=\"https://wandb.ai/msaintfelix/Sweeps-Genre-Classifier/runs/1yqly5w8\" target=\"_blank\">olive-sweep-9</a></strong> to <a href=\"https://wandb.ai/msaintfelix/Sweeps-Genre-Classifier\" target=\"_blank\">Weights & Biases</a> (<a href=\"https://wandb.me/run\" target=\"_blank\">docs</a>)<br/>Sweep page:  <a href=\"https://wandb.ai/msaintfelix/Sweeps-Genre-Classifier/sweeps/e7xdbkpy\" target=\"_blank\">https://wandb.ai/msaintfelix/Sweeps-Genre-Classifier/sweeps/e7xdbkpy</a>"
      ],
      "text/plain": [
       "<IPython.core.display.HTML object>"
      ]
     },
     "metadata": {},
     "output_type": "display_data"
    },
    {
     "name": "stdout",
     "output_type": "stream",
     "text": [
      "(9990, 125, 13)\n",
      "Model: \"sequential\"\n",
      "_________________________________________________________________\n",
      "Layer (type)                 Output Shape              Param #   \n",
      "=================================================================\n",
      "conv2d (Conv2D)              (None, 123, 11, 32)       320       \n",
      "_________________________________________________________________\n",
      "max_pooling2d (MaxPooling2D) (None, 62, 6, 32)         0         \n",
      "_________________________________________________________________\n",
      "batch_normalization (BatchNo (None, 62, 6, 32)         128       \n",
      "_________________________________________________________________\n",
      "conv2d_1 (Conv2D)            (None, 60, 4, 32)         9248      \n",
      "_________________________________________________________________\n",
      "max_pooling2d_1 (MaxPooling2 (None, 30, 2, 32)         0         \n",
      "_________________________________________________________________\n",
      "batch_normalization_1 (Batch (None, 30, 2, 32)         128       \n",
      "_________________________________________________________________\n",
      "conv2d_2 (Conv2D)            (None, 29, 1, 32)         4128      \n",
      "_________________________________________________________________\n",
      "max_pooling2d_2 (MaxPooling2 (None, 15, 1, 32)         0         \n",
      "_________________________________________________________________\n",
      "batch_normalization_2 (Batch (None, 15, 1, 32)         128       \n",
      "_________________________________________________________________\n",
      "dropout (Dropout)            (None, 15, 1, 32)         0         \n",
      "_________________________________________________________________\n",
      "flatten (Flatten)            (None, 480)               0         \n",
      "_________________________________________________________________\n",
      "dense (Dense)                (None, 64)                30784     \n",
      "_________________________________________________________________\n",
      "dense_1 (Dense)              (None, 10)                650       \n",
      "=================================================================\n",
      "Total params: 45,514\n",
      "Trainable params: 45,322\n",
      "Non-trainable params: 192\n",
      "_________________________________________________________________\n",
      "Epoch 1/15\n",
      "200/200 [==============================] - 9s 39ms/step - loss: 2.3136 - acc: 0.2603 - val_loss: 1.5195 - val_acc: 0.4414\n",
      "Epoch 2/15\n",
      "200/200 [==============================] - 8s 40ms/step - loss: 1.5191 - acc: 0.4541 - val_loss: 1.2291 - val_acc: 0.5526\n",
      "Epoch 3/15\n",
      "200/200 [==============================] - 9s 44ms/step - loss: 1.2874 - acc: 0.5349 - val_loss: 1.1125 - val_acc: 0.5926\n",
      "Epoch 4/15\n",
      "200/200 [==============================] - 9s 43ms/step - loss: 1.1611 - acc: 0.5855 - val_loss: 1.0540 - val_acc: 0.6341\n",
      "Epoch 5/15\n",
      "200/200 [==============================] - 9s 44ms/step - loss: 1.0283 - acc: 0.6312 - val_loss: 0.9845 - val_acc: 0.6592\n",
      "Epoch 6/15\n",
      "200/200 [==============================] - 8s 42ms/step - loss: 0.9714 - acc: 0.6516 - val_loss: 0.9356 - val_acc: 0.6837\n",
      "Epoch 7/15\n",
      "200/200 [==============================] - 9s 44ms/step - loss: 0.9160 - acc: 0.6755 - val_loss: 0.8995 - val_acc: 0.6907\n",
      "Epoch 8/15\n",
      "200/200 [==============================] - 9s 44ms/step - loss: 0.8299 - acc: 0.7147 - val_loss: 0.9555 - val_acc: 0.6512\n",
      "Epoch 9/15\n",
      "200/200 [==============================] - 8s 42ms/step - loss: 0.7763 - acc: 0.7256 - val_loss: 0.8425 - val_acc: 0.7157\n",
      "Epoch 10/15\n",
      "200/200 [==============================] - 8s 42ms/step - loss: 0.7493 - acc: 0.7393 - val_loss: 0.8430 - val_acc: 0.7102\n",
      "Epoch 11/15\n",
      "200/200 [==============================] - 8s 42ms/step - loss: 0.6923 - acc: 0.7558 - val_loss: 0.7793 - val_acc: 0.7367\n",
      "Epoch 12/15\n",
      "200/200 [==============================] - 8s 41ms/step - loss: 0.6861 - acc: 0.7528 - val_loss: 0.8309 - val_acc: 0.7162\n",
      "Epoch 13/15\n",
      "200/200 [==============================] - 8s 41ms/step - loss: 0.6655 - acc: 0.7568 - val_loss: 0.7514 - val_acc: 0.7523\n",
      "Epoch 14/15\n",
      "200/200 [==============================] - 8s 42ms/step - loss: 0.6357 - acc: 0.7763 - val_loss: 0.7379 - val_acc: 0.7503\n",
      "Epoch 15/15\n",
      "200/200 [==============================] - 8s 41ms/step - loss: 0.6118 - acc: 0.7811 - val_loss: 0.8005 - val_acc: 0.7337\n",
      "\n",
      "---Now testing the model for one audio file---\n",
      "The model predicts: rock, and ground truth is: rock.\n",
      "\n",
      "\n"
     ]
    },
    {
     "data": {
      "text/html": [
       "Waiting for W&B process to finish... <strong style=\"color:green\">(success).</strong>"
      ],
      "text/plain": [
       "<IPython.core.display.HTML object>"
      ]
     },
     "metadata": {},
     "output_type": "display_data"
    },
    {
     "data": {
      "application/vnd.jupyter.widget-view+json": {
       "model_id": "",
       "version_major": 2,
       "version_minor": 0
      },
      "text/plain": [
       "VBox(children=(Label(value='0.419 MB of 0.419 MB uploaded (0.000 MB deduped)\\r'), FloatProgress(value=1.0, max…"
      ]
     },
     "metadata": {},
     "output_type": "display_data"
    },
    {
     "data": {
      "text/html": [
       "<style>\n",
       "    table.wandb td:nth-child(1) { padding: 0 10px; text-align: right }\n",
       "    .wandb-row { display: flex; flex-direction: row; flex-wrap: wrap; width: 100% }\n",
       "    .wandb-col { display: flex; flex-direction: column; flex-basis: 100%; flex: 1; padding: 10px; }\n",
       "    </style>\n",
       "<div class=\"wandb-row\"><div class=\"wandb-col\"><h3>Run history:</h3><br/><table class=\"wandb\"><tr><td>acc</td><td>▁▃▄▅▆▆▆▇▇▇▇████</td></tr><tr><td>epoch</td><td>▁▁▂▃▃▃▄▅▅▅▆▇▇▇█</td></tr><tr><td>loss</td><td>█▅▄▄▃▃▂▂▂▂▁▁▁▁▁</td></tr><tr><td>val_acc</td><td>▁▄▄▅▆▆▇▆▇▇█▇███</td></tr><tr><td>val_loss</td><td>█▅▄▄▃▃▂▃▂▂▁▂▁▁▂</td></tr></table><br/></div><div class=\"wandb-col\"><h3>Run summary:</h3><br/><table class=\"wandb\"><tr><td>acc</td><td>0.77647</td></tr><tr><td>best_epoch</td><td>13</td></tr><tr><td>best_val_loss</td><td>0.73795</td></tr><tr><td>epoch</td><td>14</td></tr><tr><td>loss</td><td>0.63517</td></tr><tr><td>val_acc</td><td>0.73373</td></tr><tr><td>val_loss</td><td>0.80046</td></tr></table><br/></div></div>"
      ],
      "text/plain": [
       "<IPython.core.display.HTML object>"
      ]
     },
     "metadata": {},
     "output_type": "display_data"
    },
    {
     "data": {
      "text/html": [
       "Synced <strong style=\"color:#cdcd00\">olive-sweep-9</strong>: <a href=\"https://wandb.ai/msaintfelix/Sweeps-Genre-Classifier/runs/1yqly5w8\" target=\"_blank\">https://wandb.ai/msaintfelix/Sweeps-Genre-Classifier/runs/1yqly5w8</a><br/>Synced 6 W&B file(s), 1 media file(s), 0 artifact file(s) and 1 other file(s)"
      ],
      "text/plain": [
       "<IPython.core.display.HTML object>"
      ]
     },
     "metadata": {},
     "output_type": "display_data"
    },
    {
     "data": {
      "text/html": [
       "Find logs at: <code>./wandb/run-20220829_201304-1yqly5w8/logs</code>"
      ],
      "text/plain": [
       "<IPython.core.display.HTML object>"
      ]
     },
     "metadata": {},
     "output_type": "display_data"
    },
    {
     "name": "stderr",
     "output_type": "stream",
     "text": [
      "\u001b[34m\u001b[1mwandb\u001b[0m: Agent Starting Run: 7euck0jq with config:\n",
      "\u001b[34m\u001b[1mwandb\u001b[0m: \tbatch_size: 32\n",
      "\u001b[34m\u001b[1mwandb\u001b[0m: \tconv_layer_size: 64\n",
      "\u001b[34m\u001b[1mwandb\u001b[0m: \tdropout: 0.5\n",
      "\u001b[34m\u001b[1mwandb\u001b[0m: \tepochs: 15\n",
      "\u001b[34m\u001b[1mwandb\u001b[0m: \tlearning_rate: 0.001\n"
     ]
    },
    {
     "data": {
      "text/html": [
       "wandb version 0.13.2 is available!  To upgrade, please run:\n",
       " $ pip install wandb --upgrade"
      ],
      "text/plain": [
       "<IPython.core.display.HTML object>"
      ]
     },
     "metadata": {},
     "output_type": "display_data"
    },
    {
     "data": {
      "text/html": [
       "Tracking run with wandb version 0.12.11"
      ],
      "text/plain": [
       "<IPython.core.display.HTML object>"
      ]
     },
     "metadata": {},
     "output_type": "display_data"
    },
    {
     "data": {
      "text/html": [
       "Run data is saved locally in <code>/Users/msf/GitHub/TensorFlow_MusicGenre_Classifier/wandb/run-20220829_201539-7euck0jq</code>"
      ],
      "text/plain": [
       "<IPython.core.display.HTML object>"
      ]
     },
     "metadata": {},
     "output_type": "display_data"
    },
    {
     "data": {
      "text/html": [
       "Syncing run <strong><a href=\"https://wandb.ai/msaintfelix/Sweeps-Genre-Classifier/runs/7euck0jq\" target=\"_blank\">stellar-sweep-10</a></strong> to <a href=\"https://wandb.ai/msaintfelix/Sweeps-Genre-Classifier\" target=\"_blank\">Weights & Biases</a> (<a href=\"https://wandb.me/run\" target=\"_blank\">docs</a>)<br/>Sweep page:  <a href=\"https://wandb.ai/msaintfelix/Sweeps-Genre-Classifier/sweeps/e7xdbkpy\" target=\"_blank\">https://wandb.ai/msaintfelix/Sweeps-Genre-Classifier/sweeps/e7xdbkpy</a>"
      ],
      "text/plain": [
       "<IPython.core.display.HTML object>"
      ]
     },
     "metadata": {},
     "output_type": "display_data"
    },
    {
     "name": "stdout",
     "output_type": "stream",
     "text": [
      "(9990, 125, 13)\n",
      "Model: \"sequential\"\n",
      "_________________________________________________________________\n",
      "Layer (type)                 Output Shape              Param #   \n",
      "=================================================================\n",
      "conv2d (Conv2D)              (None, 123, 11, 64)       640       \n",
      "_________________________________________________________________\n",
      "max_pooling2d (MaxPooling2D) (None, 62, 6, 64)         0         \n",
      "_________________________________________________________________\n",
      "batch_normalization (BatchNo (None, 62, 6, 64)         256       \n",
      "_________________________________________________________________\n",
      "conv2d_1 (Conv2D)            (None, 60, 4, 64)         36928     \n",
      "_________________________________________________________________\n",
      "max_pooling2d_1 (MaxPooling2 (None, 30, 2, 64)         0         \n",
      "_________________________________________________________________\n",
      "batch_normalization_1 (Batch (None, 30, 2, 64)         256       \n",
      "_________________________________________________________________\n",
      "conv2d_2 (Conv2D)            (None, 29, 1, 64)         16448     \n",
      "_________________________________________________________________\n",
      "max_pooling2d_2 (MaxPooling2 (None, 15, 1, 64)         0         \n",
      "_________________________________________________________________\n",
      "batch_normalization_2 (Batch (None, 15, 1, 64)         256       \n",
      "_________________________________________________________________\n",
      "dropout (Dropout)            (None, 15, 1, 64)         0         \n",
      "_________________________________________________________________\n",
      "flatten (Flatten)            (None, 960)               0         \n",
      "_________________________________________________________________\n",
      "dense (Dense)                (None, 64)                61504     \n",
      "_________________________________________________________________\n",
      "dense_1 (Dense)              (None, 10)                650       \n",
      "=================================================================\n",
      "Total params: 116,938\n",
      "Trainable params: 116,554\n",
      "Non-trainable params: 384\n",
      "_________________________________________________________________\n",
      "Epoch 1/15\n",
      "200/200 [==============================] - 15s 73ms/step - loss: 1.9728 - acc: 0.3654 - val_loss: 1.5602 - val_acc: 0.4870\n",
      "Epoch 2/15\n",
      "200/200 [==============================] - 15s 74ms/step - loss: 1.2832 - acc: 0.5516 - val_loss: 1.2435 - val_acc: 0.5896\n",
      "Epoch 3/15\n",
      "200/200 [==============================] - 16s 79ms/step - loss: 1.0642 - acc: 0.6142 - val_loss: 1.0193 - val_acc: 0.6406\n",
      "Epoch 4/15\n",
      "200/200 [==============================] - 15s 77ms/step - loss: 0.9063 - acc: 0.6812 - val_loss: 1.0722 - val_acc: 0.6627\n",
      "Epoch 5/15\n",
      "200/200 [==============================] - 15s 77ms/step - loss: 0.8106 - acc: 0.7132 - val_loss: 0.9498 - val_acc: 0.6862\n",
      "Epoch 6/15\n",
      "200/200 [==============================] - 15s 77ms/step - loss: 0.7390 - acc: 0.7443 - val_loss: 0.8287 - val_acc: 0.7212\n",
      "Epoch 7/15\n",
      "200/200 [==============================] - 16s 78ms/step - loss: 0.6773 - acc: 0.7588 - val_loss: 0.8990 - val_acc: 0.7027\n",
      "Epoch 8/15\n",
      "200/200 [==============================] - 15s 77ms/step - loss: 0.5943 - acc: 0.7836 - val_loss: 0.8261 - val_acc: 0.7427\n",
      "Epoch 9/15\n",
      "200/200 [==============================] - 16s 78ms/step - loss: 0.5810 - acc: 0.8013 - val_loss: 0.7386 - val_acc: 0.7477\n",
      "Epoch 10/15\n",
      "200/200 [==============================] - 16s 79ms/step - loss: 0.5400 - acc: 0.8096 - val_loss: 0.6767 - val_acc: 0.7798\n",
      "Epoch 11/15\n",
      "200/200 [==============================] - 16s 79ms/step - loss: 0.4872 - acc: 0.8348 - val_loss: 0.9523 - val_acc: 0.7272\n",
      "Epoch 12/15\n",
      "200/200 [==============================] - 16s 78ms/step - loss: 0.4578 - acc: 0.8345 - val_loss: 0.8501 - val_acc: 0.7442\n",
      "Epoch 13/15\n",
      "200/200 [==============================] - 16s 78ms/step - loss: 0.4394 - acc: 0.8475 - val_loss: 0.7355 - val_acc: 0.7788\n",
      "Epoch 14/15\n",
      "200/200 [==============================] - 16s 78ms/step - loss: 0.4034 - acc: 0.8518 - val_loss: 0.7302 - val_acc: 0.7803\n",
      "Epoch 15/15\n",
      "200/200 [==============================] - 16s 79ms/step - loss: 0.3871 - acc: 0.8592 - val_loss: 0.8073 - val_acc: 0.7603\n",
      "\n",
      "---Now testing the model for one audio file---\n",
      "The model predicts: metal, and ground truth is: blues.\n",
      "\n",
      "\n"
     ]
    },
    {
     "data": {
      "text/html": [
       "Waiting for W&B process to finish... <strong style=\"color:green\">(success).</strong>"
      ],
      "text/plain": [
       "<IPython.core.display.HTML object>"
      ]
     },
     "metadata": {},
     "output_type": "display_data"
    },
    {
     "data": {
      "application/vnd.jupyter.widget-view+json": {
       "model_id": "",
       "version_major": 2,
       "version_minor": 0
      },
      "text/plain": [
       "VBox(children=(Label(value='0.965 MB of 0.965 MB uploaded (0.000 MB deduped)\\r'), FloatProgress(value=1.0, max…"
      ]
     },
     "metadata": {},
     "output_type": "display_data"
    },
    {
     "data": {
      "text/html": [
       "<style>\n",
       "    table.wandb td:nth-child(1) { padding: 0 10px; text-align: right }\n",
       "    .wandb-row { display: flex; flex-direction: row; flex-wrap: wrap; width: 100% }\n",
       "    .wandb-col { display: flex; flex-direction: column; flex-basis: 100%; flex: 1; padding: 10px; }\n",
       "    </style>\n",
       "<div class=\"wandb-row\"><div class=\"wandb-col\"><h3>Run history:</h3><br/><table class=\"wandb\"><tr><td>acc</td><td>▁▃▄▅▆▆▆▇▇▇█████</td></tr><tr><td>epoch</td><td>▁▁▂▃▃▃▄▅▅▅▆▇▇▇█</td></tr><tr><td>loss</td><td>█▆▅▄▃▃▃▂▂▂▂▁▁▁▁</td></tr><tr><td>val_acc</td><td>▁▃▅▅▆▇▆▇▇█▇▇███</td></tr><tr><td>val_loss</td><td>█▅▄▄▃▂▃▂▁▁▃▂▁▁▂</td></tr></table><br/></div><div class=\"wandb-col\"><h3>Run summary:</h3><br/><table class=\"wandb\"><tr><td>acc</td><td>0.85797</td></tr><tr><td>best_epoch</td><td>9</td></tr><tr><td>best_val_loss</td><td>0.67674</td></tr><tr><td>epoch</td><td>14</td></tr><tr><td>loss</td><td>0.40009</td></tr><tr><td>val_acc</td><td>0.76026</td></tr><tr><td>val_loss</td><td>0.80728</td></tr></table><br/></div></div>"
      ],
      "text/plain": [
       "<IPython.core.display.HTML object>"
      ]
     },
     "metadata": {},
     "output_type": "display_data"
    },
    {
     "data": {
      "text/html": [
       "Synced <strong style=\"color:#cdcd00\">stellar-sweep-10</strong>: <a href=\"https://wandb.ai/msaintfelix/Sweeps-Genre-Classifier/runs/7euck0jq\" target=\"_blank\">https://wandb.ai/msaintfelix/Sweeps-Genre-Classifier/runs/7euck0jq</a><br/>Synced 6 W&B file(s), 1 media file(s), 0 artifact file(s) and 1 other file(s)"
      ],
      "text/plain": [
       "<IPython.core.display.HTML object>"
      ]
     },
     "metadata": {},
     "output_type": "display_data"
    },
    {
     "data": {
      "text/html": [
       "Find logs at: <code>./wandb/run-20220829_201539-7euck0jq/logs</code>"
      ],
      "text/plain": [
       "<IPython.core.display.HTML object>"
      ]
     },
     "metadata": {},
     "output_type": "display_data"
    },
    {
     "name": "stderr",
     "output_type": "stream",
     "text": [
      "\u001b[34m\u001b[1mwandb\u001b[0m: Agent Starting Run: k60uk3lw with config:\n",
      "\u001b[34m\u001b[1mwandb\u001b[0m: \tbatch_size: 32\n",
      "\u001b[34m\u001b[1mwandb\u001b[0m: \tconv_layer_size: 16\n",
      "\u001b[34m\u001b[1mwandb\u001b[0m: \tdropout: 0.5\n",
      "\u001b[34m\u001b[1mwandb\u001b[0m: \tepochs: 15\n",
      "\u001b[34m\u001b[1mwandb\u001b[0m: \tlearning_rate: 0.001\n"
     ]
    },
    {
     "data": {
      "text/html": [
       "wandb version 0.13.2 is available!  To upgrade, please run:\n",
       " $ pip install wandb --upgrade"
      ],
      "text/plain": [
       "<IPython.core.display.HTML object>"
      ]
     },
     "metadata": {},
     "output_type": "display_data"
    },
    {
     "data": {
      "text/html": [
       "Tracking run with wandb version 0.12.11"
      ],
      "text/plain": [
       "<IPython.core.display.HTML object>"
      ]
     },
     "metadata": {},
     "output_type": "display_data"
    },
    {
     "data": {
      "text/html": [
       "Run data is saved locally in <code>/Users/msf/GitHub/TensorFlow_MusicGenre_Classifier/wandb/run-20220829_202002-k60uk3lw</code>"
      ],
      "text/plain": [
       "<IPython.core.display.HTML object>"
      ]
     },
     "metadata": {},
     "output_type": "display_data"
    },
    {
     "data": {
      "text/html": [
       "Syncing run <strong><a href=\"https://wandb.ai/msaintfelix/Sweeps-Genre-Classifier/runs/k60uk3lw\" target=\"_blank\">fresh-sweep-11</a></strong> to <a href=\"https://wandb.ai/msaintfelix/Sweeps-Genre-Classifier\" target=\"_blank\">Weights & Biases</a> (<a href=\"https://wandb.me/run\" target=\"_blank\">docs</a>)<br/>Sweep page:  <a href=\"https://wandb.ai/msaintfelix/Sweeps-Genre-Classifier/sweeps/e7xdbkpy\" target=\"_blank\">https://wandb.ai/msaintfelix/Sweeps-Genre-Classifier/sweeps/e7xdbkpy</a>"
      ],
      "text/plain": [
       "<IPython.core.display.HTML object>"
      ]
     },
     "metadata": {},
     "output_type": "display_data"
    },
    {
     "name": "stdout",
     "output_type": "stream",
     "text": [
      "(9990, 125, 13)\n",
      "Model: \"sequential\"\n",
      "_________________________________________________________________\n",
      "Layer (type)                 Output Shape              Param #   \n",
      "=================================================================\n",
      "conv2d (Conv2D)              (None, 123, 11, 16)       160       \n",
      "_________________________________________________________________\n",
      "max_pooling2d (MaxPooling2D) (None, 62, 6, 16)         0         \n",
      "_________________________________________________________________\n",
      "batch_normalization (BatchNo (None, 62, 6, 16)         64        \n",
      "_________________________________________________________________\n",
      "conv2d_1 (Conv2D)            (None, 60, 4, 16)         2320      \n",
      "_________________________________________________________________\n",
      "max_pooling2d_1 (MaxPooling2 (None, 30, 2, 16)         0         \n",
      "_________________________________________________________________\n",
      "batch_normalization_1 (Batch (None, 30, 2, 16)         64        \n",
      "_________________________________________________________________\n",
      "conv2d_2 (Conv2D)            (None, 29, 1, 16)         1040      \n",
      "_________________________________________________________________\n",
      "max_pooling2d_2 (MaxPooling2 (None, 15, 1, 16)         0         \n",
      "_________________________________________________________________\n",
      "batch_normalization_2 (Batch (None, 15, 1, 16)         64        \n",
      "_________________________________________________________________\n",
      "dropout (Dropout)            (None, 15, 1, 16)         0         \n",
      "_________________________________________________________________\n",
      "flatten (Flatten)            (None, 240)               0         \n",
      "_________________________________________________________________\n",
      "dense (Dense)                (None, 64)                15424     \n",
      "_________________________________________________________________\n",
      "dense_1 (Dense)              (None, 10)                650       \n",
      "=================================================================\n",
      "Total params: 19,786\n",
      "Trainable params: 19,690\n",
      "Non-trainable params: 96\n",
      "_________________________________________________________________\n",
      "Epoch 1/15\n",
      "200/200 [==============================] - 6s 25ms/step - loss: 2.1128 - acc: 0.3046 - val_loss: 1.5818 - val_acc: 0.4600\n",
      "Epoch 2/15\n",
      "200/200 [==============================] - 5s 24ms/step - loss: 1.4658 - acc: 0.4718 - val_loss: 1.3041 - val_acc: 0.5365\n",
      "Epoch 3/15\n",
      "200/200 [==============================] - 5s 24ms/step - loss: 1.2939 - acc: 0.5306 - val_loss: 1.1251 - val_acc: 0.5866\n",
      "Epoch 4/15\n",
      "200/200 [==============================] - 5s 24ms/step - loss: 1.1868 - acc: 0.5623 - val_loss: 1.0651 - val_acc: 0.6061\n",
      "Epoch 5/15\n",
      "200/200 [==============================] - 5s 24ms/step - loss: 1.1085 - acc: 0.6039 - val_loss: 1.0175 - val_acc: 0.6151\n",
      "Epoch 6/15\n",
      "200/200 [==============================] - 5s 25ms/step - loss: 1.0843 - acc: 0.6136 - val_loss: 1.2217 - val_acc: 0.5871\n",
      "Epoch 7/15\n",
      "200/200 [==============================] - 5s 25ms/step - loss: 1.0030 - acc: 0.6394 - val_loss: 1.1489 - val_acc: 0.5806\n",
      "Epoch 8/15\n",
      "200/200 [==============================] - 5s 24ms/step - loss: 0.9826 - acc: 0.6439 - val_loss: 0.9562 - val_acc: 0.6547\n",
      "Epoch 9/15\n",
      "200/200 [==============================] - 5s 24ms/step - loss: 0.9369 - acc: 0.6663 - val_loss: 0.9139 - val_acc: 0.6747\n",
      "Epoch 10/15\n",
      "200/200 [==============================] - 5s 24ms/step - loss: 0.9188 - acc: 0.6736 - val_loss: 0.8915 - val_acc: 0.6807\n",
      "Epoch 11/15\n",
      "200/200 [==============================] - 5s 25ms/step - loss: 0.8511 - acc: 0.7010 - val_loss: 0.9716 - val_acc: 0.6582\n",
      "Epoch 12/15\n",
      "200/200 [==============================] - 5s 25ms/step - loss: 0.8301 - acc: 0.7017 - val_loss: 1.0570 - val_acc: 0.6381\n",
      "Epoch 13/15\n",
      "200/200 [==============================] - 5s 25ms/step - loss: 0.8186 - acc: 0.7102 - val_loss: 0.8420 - val_acc: 0.6947\n",
      "Epoch 14/15\n",
      "200/200 [==============================] - 5s 24ms/step - loss: 0.8466 - acc: 0.7046 - val_loss: 0.7910 - val_acc: 0.7097\n",
      "Epoch 15/15\n",
      "200/200 [==============================] - 5s 24ms/step - loss: 0.8096 - acc: 0.7093 - val_loss: 1.0797 - val_acc: 0.6321\n",
      "\n",
      "---Now testing the model for one audio file---\n",
      "The model predicts: classical, and ground truth is: classical.\n",
      "\n",
      "\n"
     ]
    },
    {
     "data": {
      "text/html": [
       "Waiting for W&B process to finish... <strong style=\"color:green\">(success).</strong>"
      ],
      "text/plain": [
       "<IPython.core.display.HTML object>"
      ]
     },
     "metadata": {},
     "output_type": "display_data"
    },
    {
     "data": {
      "application/vnd.jupyter.widget-view+json": {
       "model_id": "",
       "version_major": 2,
       "version_minor": 0
      },
      "text/plain": [
       "VBox(children=(Label(value='0.224 MB of 0.224 MB uploaded (0.000 MB deduped)\\r'), FloatProgress(value=1.0, max…"
      ]
     },
     "metadata": {},
     "output_type": "display_data"
    },
    {
     "data": {
      "text/html": [
       "<style>\n",
       "    table.wandb td:nth-child(1) { padding: 0 10px; text-align: right }\n",
       "    .wandb-row { display: flex; flex-direction: row; flex-wrap: wrap; width: 100% }\n",
       "    .wandb-col { display: flex; flex-direction: column; flex-basis: 100%; flex: 1; padding: 10px; }\n",
       "    </style>\n",
       "<div class=\"wandb-row\"><div class=\"wandb-col\"><h3>Run history:</h3><br/><table class=\"wandb\"><tr><td>acc</td><td>▁▃▄▅▆▆▆▇▇▇█████</td></tr><tr><td>epoch</td><td>▁▁▂▃▃▃▄▅▅▅▆▇▇▇█</td></tr><tr><td>loss</td><td>█▅▄▃▃▃▂▂▂▂▂▁▁▁▁</td></tr><tr><td>val_acc</td><td>▁▃▅▅▅▅▄▆▇▇▇▆██▆</td></tr><tr><td>val_loss</td><td>█▆▄▃▃▅▄▂▂▂▃▃▁▁▄</td></tr></table><br/></div><div class=\"wandb-col\"><h3>Run summary:</h3><br/><table class=\"wandb\"><tr><td>acc</td><td>0.71109</td></tr><tr><td>best_epoch</td><td>13</td></tr><tr><td>best_val_loss</td><td>0.79102</td></tr><tr><td>epoch</td><td>14</td></tr><tr><td>loss</td><td>0.808</td></tr><tr><td>val_acc</td><td>0.63213</td></tr><tr><td>val_loss</td><td>1.07969</td></tr></table><br/></div></div>"
      ],
      "text/plain": [
       "<IPython.core.display.HTML object>"
      ]
     },
     "metadata": {},
     "output_type": "display_data"
    },
    {
     "data": {
      "text/html": [
       "Synced <strong style=\"color:#cdcd00\">fresh-sweep-11</strong>: <a href=\"https://wandb.ai/msaintfelix/Sweeps-Genre-Classifier/runs/k60uk3lw\" target=\"_blank\">https://wandb.ai/msaintfelix/Sweeps-Genre-Classifier/runs/k60uk3lw</a><br/>Synced 6 W&B file(s), 1 media file(s), 0 artifact file(s) and 1 other file(s)"
      ],
      "text/plain": [
       "<IPython.core.display.HTML object>"
      ]
     },
     "metadata": {},
     "output_type": "display_data"
    },
    {
     "data": {
      "text/html": [
       "Find logs at: <code>./wandb/run-20220829_202002-k60uk3lw/logs</code>"
      ],
      "text/plain": [
       "<IPython.core.display.HTML object>"
      ]
     },
     "metadata": {},
     "output_type": "display_data"
    },
    {
     "name": "stderr",
     "output_type": "stream",
     "text": [
      "\u001b[34m\u001b[1mwandb\u001b[0m: Agent Starting Run: wg3y04a3 with config:\n",
      "\u001b[34m\u001b[1mwandb\u001b[0m: \tbatch_size: 64\n",
      "\u001b[34m\u001b[1mwandb\u001b[0m: \tconv_layer_size: 16\n",
      "\u001b[34m\u001b[1mwandb\u001b[0m: \tdropout: 0.5\n",
      "\u001b[34m\u001b[1mwandb\u001b[0m: \tepochs: 10\n",
      "\u001b[34m\u001b[1mwandb\u001b[0m: \tlearning_rate: 3e-05\n"
     ]
    },
    {
     "data": {
      "text/html": [
       "wandb version 0.13.2 is available!  To upgrade, please run:\n",
       " $ pip install wandb --upgrade"
      ],
      "text/plain": [
       "<IPython.core.display.HTML object>"
      ]
     },
     "metadata": {},
     "output_type": "display_data"
    },
    {
     "data": {
      "text/html": [
       "Tracking run with wandb version 0.12.11"
      ],
      "text/plain": [
       "<IPython.core.display.HTML object>"
      ]
     },
     "metadata": {},
     "output_type": "display_data"
    },
    {
     "data": {
      "text/html": [
       "Run data is saved locally in <code>/Users/msf/GitHub/TensorFlow_MusicGenre_Classifier/wandb/run-20220829_202144-wg3y04a3</code>"
      ],
      "text/plain": [
       "<IPython.core.display.HTML object>"
      ]
     },
     "metadata": {},
     "output_type": "display_data"
    },
    {
     "data": {
      "text/html": [
       "Syncing run <strong><a href=\"https://wandb.ai/msaintfelix/Sweeps-Genre-Classifier/runs/wg3y04a3\" target=\"_blank\">eternal-sweep-12</a></strong> to <a href=\"https://wandb.ai/msaintfelix/Sweeps-Genre-Classifier\" target=\"_blank\">Weights & Biases</a> (<a href=\"https://wandb.me/run\" target=\"_blank\">docs</a>)<br/>Sweep page:  <a href=\"https://wandb.ai/msaintfelix/Sweeps-Genre-Classifier/sweeps/e7xdbkpy\" target=\"_blank\">https://wandb.ai/msaintfelix/Sweeps-Genre-Classifier/sweeps/e7xdbkpy</a>"
      ],
      "text/plain": [
       "<IPython.core.display.HTML object>"
      ]
     },
     "metadata": {},
     "output_type": "display_data"
    },
    {
     "name": "stdout",
     "output_type": "stream",
     "text": [
      "(9990, 125, 13)\n",
      "Model: \"sequential\"\n",
      "_________________________________________________________________\n",
      "Layer (type)                 Output Shape              Param #   \n",
      "=================================================================\n",
      "conv2d (Conv2D)              (None, 123, 11, 16)       160       \n",
      "_________________________________________________________________\n",
      "max_pooling2d (MaxPooling2D) (None, 62, 6, 16)         0         \n",
      "_________________________________________________________________\n",
      "batch_normalization (BatchNo (None, 62, 6, 16)         64        \n",
      "_________________________________________________________________\n",
      "conv2d_1 (Conv2D)            (None, 60, 4, 16)         2320      \n",
      "_________________________________________________________________\n",
      "max_pooling2d_1 (MaxPooling2 (None, 30, 2, 16)         0         \n",
      "_________________________________________________________________\n",
      "batch_normalization_1 (Batch (None, 30, 2, 16)         64        \n",
      "_________________________________________________________________\n",
      "conv2d_2 (Conv2D)            (None, 29, 1, 16)         1040      \n",
      "_________________________________________________________________\n",
      "max_pooling2d_2 (MaxPooling2 (None, 15, 1, 16)         0         \n",
      "_________________________________________________________________\n",
      "batch_normalization_2 (Batch (None, 15, 1, 16)         64        \n",
      "_________________________________________________________________\n",
      "dropout (Dropout)            (None, 15, 1, 16)         0         \n",
      "_________________________________________________________________\n",
      "flatten (Flatten)            (None, 240)               0         \n",
      "_________________________________________________________________\n",
      "dense (Dense)                (None, 64)                15424     \n",
      "_________________________________________________________________\n",
      "dense_1 (Dense)              (None, 10)                650       \n",
      "=================================================================\n",
      "Total params: 19,786\n",
      "Trainable params: 19,690\n",
      "Non-trainable params: 96\n",
      "_________________________________________________________________\n",
      "Epoch 1/10\n",
      "100/100 [==============================] - 5s 45ms/step - loss: 3.1486 - acc: 0.1159 - val_loss: 2.4204 - val_acc: 0.1401\n",
      "Epoch 2/10\n",
      "100/100 [==============================] - 4s 43ms/step - loss: 2.9256 - acc: 0.1390 - val_loss: 2.2712 - val_acc: 0.2042\n",
      "Epoch 3/10\n",
      "100/100 [==============================] - 4s 44ms/step - loss: 2.7207 - acc: 0.1648 - val_loss: 2.1927 - val_acc: 0.2407\n",
      "Epoch 4/10\n",
      "100/100 [==============================] - 4s 44ms/step - loss: 2.5708 - acc: 0.1740 - val_loss: 2.1232 - val_acc: 0.2643\n",
      "Epoch 5/10\n",
      "100/100 [==============================] - 4s 45ms/step - loss: 2.4381 - acc: 0.2196 - val_loss: 2.0566 - val_acc: 0.2883\n",
      "Epoch 6/10\n",
      "100/100 [==============================] - 4s 44ms/step - loss: 2.3839 - acc: 0.2386 - val_loss: 2.0020 - val_acc: 0.3093\n",
      "Epoch 7/10\n",
      "100/100 [==============================] - 5s 45ms/step - loss: 2.3308 - acc: 0.2411 - val_loss: 1.9534 - val_acc: 0.3218\n",
      "Epoch 8/10\n",
      "100/100 [==============================] - 5s 45ms/step - loss: 2.2436 - acc: 0.2661 - val_loss: 1.9107 - val_acc: 0.3353\n",
      "Epoch 9/10\n",
      "100/100 [==============================] - 5s 45ms/step - loss: 2.2091 - acc: 0.2763 - val_loss: 1.8726 - val_acc: 0.3418\n",
      "Epoch 10/10\n",
      "100/100 [==============================] - 5s 47ms/step - loss: 2.1493 - acc: 0.2761 - val_loss: 1.8365 - val_acc: 0.3478\n",
      "\n",
      "---Now testing the model for one audio file---\n",
      "The model predicts: blues, and ground truth is: rock.\n",
      "\n",
      "\n"
     ]
    },
    {
     "data": {
      "text/html": [
       "Waiting for W&B process to finish... <strong style=\"color:green\">(success).</strong>"
      ],
      "text/plain": [
       "<IPython.core.display.HTML object>"
      ]
     },
     "metadata": {},
     "output_type": "display_data"
    },
    {
     "data": {
      "application/vnd.jupyter.widget-view+json": {
       "model_id": "",
       "version_major": 2,
       "version_minor": 0
      },
      "text/plain": [
       "VBox(children=(Label(value='0.224 MB of 0.224 MB uploaded (0.000 MB deduped)\\r'), FloatProgress(value=1.0, max…"
      ]
     },
     "metadata": {},
     "output_type": "display_data"
    },
    {
     "data": {
      "text/html": [
       "<style>\n",
       "    table.wandb td:nth-child(1) { padding: 0 10px; text-align: right }\n",
       "    .wandb-row { display: flex; flex-direction: row; flex-wrap: wrap; width: 100% }\n",
       "    .wandb-col { display: flex; flex-direction: column; flex-basis: 100%; flex: 1; padding: 10px; }\n",
       "    </style>\n",
       "<div class=\"wandb-row\"><div class=\"wandb-col\"><h3>Run history:</h3><br/><table class=\"wandb\"><tr><td>acc</td><td>▁▂▃▄▅▆▇▇██</td></tr><tr><td>epoch</td><td>▁▂▃▃▄▅▆▆▇█</td></tr><tr><td>loss</td><td>█▆▅▄▃▃▂▂▁▁</td></tr><tr><td>val_acc</td><td>▁▃▄▅▆▇▇███</td></tr><tr><td>val_loss</td><td>█▆▅▄▄▃▂▂▁▁</td></tr></table><br/></div><div class=\"wandb-col\"><h3>Run summary:</h3><br/><table class=\"wandb\"><tr><td>acc</td><td>0.28484</td></tr><tr><td>best_epoch</td><td>9</td></tr><tr><td>best_val_loss</td><td>1.8365</td></tr><tr><td>epoch</td><td>9</td></tr><tr><td>loss</td><td>2.13771</td></tr><tr><td>val_acc</td><td>0.34785</td></tr><tr><td>val_loss</td><td>1.8365</td></tr></table><br/></div></div>"
      ],
      "text/plain": [
       "<IPython.core.display.HTML object>"
      ]
     },
     "metadata": {},
     "output_type": "display_data"
    },
    {
     "data": {
      "text/html": [
       "Synced <strong style=\"color:#cdcd00\">eternal-sweep-12</strong>: <a href=\"https://wandb.ai/msaintfelix/Sweeps-Genre-Classifier/runs/wg3y04a3\" target=\"_blank\">https://wandb.ai/msaintfelix/Sweeps-Genre-Classifier/runs/wg3y04a3</a><br/>Synced 6 W&B file(s), 1 media file(s), 0 artifact file(s) and 1 other file(s)"
      ],
      "text/plain": [
       "<IPython.core.display.HTML object>"
      ]
     },
     "metadata": {},
     "output_type": "display_data"
    },
    {
     "data": {
      "text/html": [
       "Find logs at: <code>./wandb/run-20220829_202144-wg3y04a3/logs</code>"
      ],
      "text/plain": [
       "<IPython.core.display.HTML object>"
      ]
     },
     "metadata": {},
     "output_type": "display_data"
    },
    {
     "name": "stderr",
     "output_type": "stream",
     "text": [
      "\u001b[34m\u001b[1mwandb\u001b[0m: Agent Starting Run: 0j112svm with config:\n",
      "\u001b[34m\u001b[1mwandb\u001b[0m: \tbatch_size: 64\n",
      "\u001b[34m\u001b[1mwandb\u001b[0m: \tconv_layer_size: 64\n",
      "\u001b[34m\u001b[1mwandb\u001b[0m: \tdropout: 0.4\n",
      "\u001b[34m\u001b[1mwandb\u001b[0m: \tepochs: 10\n",
      "\u001b[34m\u001b[1mwandb\u001b[0m: \tlearning_rate: 0.0001\n"
     ]
    },
    {
     "data": {
      "text/html": [
       "wandb version 0.13.2 is available!  To upgrade, please run:\n",
       " $ pip install wandb --upgrade"
      ],
      "text/plain": [
       "<IPython.core.display.HTML object>"
      ]
     },
     "metadata": {},
     "output_type": "display_data"
    },
    {
     "data": {
      "text/html": [
       "Tracking run with wandb version 0.12.11"
      ],
      "text/plain": [
       "<IPython.core.display.HTML object>"
      ]
     },
     "metadata": {},
     "output_type": "display_data"
    },
    {
     "data": {
      "text/html": [
       "Run data is saved locally in <code>/Users/msf/GitHub/TensorFlow_MusicGenre_Classifier/wandb/run-20220829_202256-0j112svm</code>"
      ],
      "text/plain": [
       "<IPython.core.display.HTML object>"
      ]
     },
     "metadata": {},
     "output_type": "display_data"
    },
    {
     "data": {
      "text/html": [
       "Syncing run <strong><a href=\"https://wandb.ai/msaintfelix/Sweeps-Genre-Classifier/runs/0j112svm\" target=\"_blank\">skilled-sweep-13</a></strong> to <a href=\"https://wandb.ai/msaintfelix/Sweeps-Genre-Classifier\" target=\"_blank\">Weights & Biases</a> (<a href=\"https://wandb.me/run\" target=\"_blank\">docs</a>)<br/>Sweep page:  <a href=\"https://wandb.ai/msaintfelix/Sweeps-Genre-Classifier/sweeps/e7xdbkpy\" target=\"_blank\">https://wandb.ai/msaintfelix/Sweeps-Genre-Classifier/sweeps/e7xdbkpy</a>"
      ],
      "text/plain": [
       "<IPython.core.display.HTML object>"
      ]
     },
     "metadata": {},
     "output_type": "display_data"
    },
    {
     "name": "stdout",
     "output_type": "stream",
     "text": [
      "(9990, 125, 13)\n",
      "Model: \"sequential\"\n",
      "_________________________________________________________________\n",
      "Layer (type)                 Output Shape              Param #   \n",
      "=================================================================\n",
      "conv2d (Conv2D)              (None, 123, 11, 64)       640       \n",
      "_________________________________________________________________\n",
      "max_pooling2d (MaxPooling2D) (None, 62, 6, 64)         0         \n",
      "_________________________________________________________________\n",
      "batch_normalization (BatchNo (None, 62, 6, 64)         256       \n",
      "_________________________________________________________________\n",
      "conv2d_1 (Conv2D)            (None, 60, 4, 64)         36928     \n",
      "_________________________________________________________________\n",
      "max_pooling2d_1 (MaxPooling2 (None, 30, 2, 64)         0         \n",
      "_________________________________________________________________\n",
      "batch_normalization_1 (Batch (None, 30, 2, 64)         256       \n",
      "_________________________________________________________________\n",
      "conv2d_2 (Conv2D)            (None, 29, 1, 64)         16448     \n",
      "_________________________________________________________________\n",
      "max_pooling2d_2 (MaxPooling2 (None, 15, 1, 64)         0         \n",
      "_________________________________________________________________\n",
      "batch_normalization_2 (Batch (None, 15, 1, 64)         256       \n",
      "_________________________________________________________________\n",
      "dropout (Dropout)            (None, 15, 1, 64)         0         \n",
      "_________________________________________________________________\n",
      "flatten (Flatten)            (None, 960)               0         \n",
      "_________________________________________________________________\n",
      "dense (Dense)                (None, 64)                61504     \n",
      "_________________________________________________________________\n",
      "dense_1 (Dense)              (None, 10)                650       \n",
      "=================================================================\n",
      "Total params: 116,938\n",
      "Trainable params: 116,554\n",
      "Non-trainable params: 384\n",
      "_________________________________________________________________\n",
      "Epoch 1/10\n",
      "100/100 [==============================] - 14s 132ms/step - loss: 2.6997 - acc: 0.1965 - val_loss: 2.0396 - val_acc: 0.3028\n",
      "Epoch 2/10\n",
      "100/100 [==============================] - 13s 132ms/step - loss: 1.8067 - acc: 0.3965 - val_loss: 1.5018 - val_acc: 0.4630\n",
      "Epoch 3/10\n",
      "100/100 [==============================] - 13s 134ms/step - loss: 1.5418 - acc: 0.4829 - val_loss: 1.3098 - val_acc: 0.5275\n",
      "Epoch 4/10\n",
      "100/100 [==============================] - 13s 131ms/step - loss: 1.3756 - acc: 0.5285 - val_loss: 1.1746 - val_acc: 0.5886\n",
      "Epoch 5/10\n",
      "100/100 [==============================] - 13s 132ms/step - loss: 1.2563 - acc: 0.5750 - val_loss: 1.0928 - val_acc: 0.6111\n",
      "Epoch 6/10\n",
      "100/100 [==============================] - 13s 133ms/step - loss: 1.1796 - acc: 0.5855 - val_loss: 1.0394 - val_acc: 0.6276\n",
      "Epoch 7/10\n",
      "100/100 [==============================] - 13s 134ms/step - loss: 1.0780 - acc: 0.6191 - val_loss: 1.0171 - val_acc: 0.6391\n",
      "Epoch 8/10\n",
      "100/100 [==============================] - 13s 134ms/step - loss: 1.0112 - acc: 0.6406 - val_loss: 0.9659 - val_acc: 0.6496\n",
      "Epoch 9/10\n",
      "100/100 [==============================] - 16s 164ms/step - loss: 0.9773 - acc: 0.6488 - val_loss: 0.9244 - val_acc: 0.6772\n",
      "Epoch 10/10\n",
      "100/100 [==============================] - 14s 138ms/step - loss: 0.9128 - acc: 0.6837 - val_loss: 0.8924 - val_acc: 0.6867\n",
      "\n",
      "---Now testing the model for one audio file---\n",
      "The model predicts: rock, and ground truth is: rock.\n",
      "\n",
      "\n"
     ]
    },
    {
     "data": {
      "text/html": [
       "Waiting for W&B process to finish... <strong style=\"color:green\">(success).</strong>"
      ],
      "text/plain": [
       "<IPython.core.display.HTML object>"
      ]
     },
     "metadata": {},
     "output_type": "display_data"
    },
    {
     "data": {
      "application/vnd.jupyter.widget-view+json": {
       "model_id": "",
       "version_major": 2,
       "version_minor": 0
      },
      "text/plain": [
       "VBox(children=(Label(value='0.965 MB of 0.965 MB uploaded (0.000 MB deduped)\\r'), FloatProgress(value=1.0, max…"
      ]
     },
     "metadata": {},
     "output_type": "display_data"
    },
    {
     "data": {
      "text/html": [
       "<style>\n",
       "    table.wandb td:nth-child(1) { padding: 0 10px; text-align: right }\n",
       "    .wandb-row { display: flex; flex-direction: row; flex-wrap: wrap; width: 100% }\n",
       "    .wandb-col { display: flex; flex-direction: column; flex-basis: 100%; flex: 1; padding: 10px; }\n",
       "    </style>\n",
       "<div class=\"wandb-row\"><div class=\"wandb-col\"><h3>Run history:</h3><br/><table class=\"wandb\"><tr><td>acc</td><td>▁▃▅▅▆▆▇▇██</td></tr><tr><td>epoch</td><td>▁▂▃▃▄▅▆▆▇█</td></tr><tr><td>loss</td><td>█▅▄▃▃▂▂▂▁▁</td></tr><tr><td>val_acc</td><td>▁▄▅▆▇▇▇▇██</td></tr><tr><td>val_loss</td><td>█▅▄▃▂▂▂▁▁▁</td></tr></table><br/></div><div class=\"wandb-col\"><h3>Run summary:</h3><br/><table class=\"wandb\"><tr><td>acc</td><td>0.68184</td></tr><tr><td>best_epoch</td><td>9</td></tr><tr><td>best_val_loss</td><td>0.89237</td></tr><tr><td>epoch</td><td>9</td></tr><tr><td>loss</td><td>0.90853</td></tr><tr><td>val_acc</td><td>0.68669</td></tr><tr><td>val_loss</td><td>0.89237</td></tr></table><br/></div></div>"
      ],
      "text/plain": [
       "<IPython.core.display.HTML object>"
      ]
     },
     "metadata": {},
     "output_type": "display_data"
    },
    {
     "data": {
      "text/html": [
       "Synced <strong style=\"color:#cdcd00\">skilled-sweep-13</strong>: <a href=\"https://wandb.ai/msaintfelix/Sweeps-Genre-Classifier/runs/0j112svm\" target=\"_blank\">https://wandb.ai/msaintfelix/Sweeps-Genre-Classifier/runs/0j112svm</a><br/>Synced 6 W&B file(s), 1 media file(s), 0 artifact file(s) and 1 other file(s)"
      ],
      "text/plain": [
       "<IPython.core.display.HTML object>"
      ]
     },
     "metadata": {},
     "output_type": "display_data"
    },
    {
     "data": {
      "text/html": [
       "Find logs at: <code>./wandb/run-20220829_202256-0j112svm/logs</code>"
      ],
      "text/plain": [
       "<IPython.core.display.HTML object>"
      ]
     },
     "metadata": {},
     "output_type": "display_data"
    },
    {
     "name": "stderr",
     "output_type": "stream",
     "text": [
      "\u001b[34m\u001b[1mwandb\u001b[0m: Agent Starting Run: 0oxervwx with config:\n",
      "\u001b[34m\u001b[1mwandb\u001b[0m: \tbatch_size: 32\n",
      "\u001b[34m\u001b[1mwandb\u001b[0m: \tconv_layer_size: 32\n",
      "\u001b[34m\u001b[1mwandb\u001b[0m: \tdropout: 0.4\n",
      "\u001b[34m\u001b[1mwandb\u001b[0m: \tepochs: 10\n",
      "\u001b[34m\u001b[1mwandb\u001b[0m: \tlearning_rate: 0.001\n"
     ]
    },
    {
     "data": {
      "text/html": [
       "wandb version 0.13.2 is available!  To upgrade, please run:\n",
       " $ pip install wandb --upgrade"
      ],
      "text/plain": [
       "<IPython.core.display.HTML object>"
      ]
     },
     "metadata": {},
     "output_type": "display_data"
    },
    {
     "data": {
      "text/html": [
       "Tracking run with wandb version 0.12.11"
      ],
      "text/plain": [
       "<IPython.core.display.HTML object>"
      ]
     },
     "metadata": {},
     "output_type": "display_data"
    },
    {
     "data": {
      "text/html": [
       "Run data is saved locally in <code>/Users/msf/GitHub/TensorFlow_MusicGenre_Classifier/wandb/run-20220829_202543-0oxervwx</code>"
      ],
      "text/plain": [
       "<IPython.core.display.HTML object>"
      ]
     },
     "metadata": {},
     "output_type": "display_data"
    },
    {
     "data": {
      "text/html": [
       "Syncing run <strong><a href=\"https://wandb.ai/msaintfelix/Sweeps-Genre-Classifier/runs/0oxervwx\" target=\"_blank\">iconic-sweep-14</a></strong> to <a href=\"https://wandb.ai/msaintfelix/Sweeps-Genre-Classifier\" target=\"_blank\">Weights & Biases</a> (<a href=\"https://wandb.me/run\" target=\"_blank\">docs</a>)<br/>Sweep page:  <a href=\"https://wandb.ai/msaintfelix/Sweeps-Genre-Classifier/sweeps/e7xdbkpy\" target=\"_blank\">https://wandb.ai/msaintfelix/Sweeps-Genre-Classifier/sweeps/e7xdbkpy</a>"
      ],
      "text/plain": [
       "<IPython.core.display.HTML object>"
      ]
     },
     "metadata": {},
     "output_type": "display_data"
    },
    {
     "name": "stdout",
     "output_type": "stream",
     "text": [
      "(9990, 125, 13)\n",
      "Model: \"sequential\"\n",
      "_________________________________________________________________\n",
      "Layer (type)                 Output Shape              Param #   \n",
      "=================================================================\n",
      "conv2d (Conv2D)              (None, 123, 11, 32)       320       \n",
      "_________________________________________________________________\n",
      "max_pooling2d (MaxPooling2D) (None, 62, 6, 32)         0         \n",
      "_________________________________________________________________\n",
      "batch_normalization (BatchNo (None, 62, 6, 32)         128       \n",
      "_________________________________________________________________\n",
      "conv2d_1 (Conv2D)            (None, 60, 4, 32)         9248      \n",
      "_________________________________________________________________\n",
      "max_pooling2d_1 (MaxPooling2 (None, 30, 2, 32)         0         \n",
      "_________________________________________________________________\n",
      "batch_normalization_1 (Batch (None, 30, 2, 32)         128       \n",
      "_________________________________________________________________\n",
      "conv2d_2 (Conv2D)            (None, 29, 1, 32)         4128      \n",
      "_________________________________________________________________\n",
      "max_pooling2d_2 (MaxPooling2 (None, 15, 1, 32)         0         \n",
      "_________________________________________________________________\n",
      "batch_normalization_2 (Batch (None, 15, 1, 32)         128       \n",
      "_________________________________________________________________\n",
      "dropout (Dropout)            (None, 15, 1, 32)         0         \n",
      "_________________________________________________________________\n",
      "flatten (Flatten)            (None, 480)               0         \n",
      "_________________________________________________________________\n",
      "dense (Dense)                (None, 64)                30784     \n",
      "_________________________________________________________________\n",
      "dense_1 (Dense)              (None, 10)                650       \n",
      "=================================================================\n",
      "Total params: 45,514\n",
      "Trainable params: 45,322\n",
      "Non-trainable params: 192\n",
      "_________________________________________________________________\n",
      "Epoch 1/10\n",
      "200/200 [==============================] - 8s 39ms/step - loss: 1.8739 - acc: 0.3612 - val_loss: 1.6034 - val_acc: 0.4494\n",
      "Epoch 2/10\n",
      "200/200 [==============================] - 8s 38ms/step - loss: 1.2782 - acc: 0.5562 - val_loss: 1.2037 - val_acc: 0.5646\n",
      "Epoch 3/10\n",
      "200/200 [==============================] - 8s 40ms/step - loss: 1.0570 - acc: 0.6175 - val_loss: 1.1978 - val_acc: 0.5736\n",
      "Epoch 4/10\n",
      "200/200 [==============================] - 8s 40ms/step - loss: 0.9455 - acc: 0.6691 - val_loss: 1.0660 - val_acc: 0.6371\n",
      "Epoch 5/10\n",
      "200/200 [==============================] - 8s 40ms/step - loss: 0.8432 - acc: 0.7033 - val_loss: 1.3188 - val_acc: 0.5891\n",
      "Epoch 6/10\n",
      "200/200 [==============================] - 8s 41ms/step - loss: 0.7791 - acc: 0.7344 - val_loss: 1.1214 - val_acc: 0.6391\n",
      "Epoch 7/10\n",
      "200/200 [==============================] - 8s 40ms/step - loss: 0.7356 - acc: 0.7444 - val_loss: 0.8056 - val_acc: 0.7317\n",
      "Epoch 8/10\n",
      "200/200 [==============================] - 8s 40ms/step - loss: 0.6781 - acc: 0.7647 - val_loss: 0.8083 - val_acc: 0.7292\n",
      "Epoch 9/10\n",
      "200/200 [==============================] - 8s 40ms/step - loss: 0.6490 - acc: 0.7719 - val_loss: 0.8105 - val_acc: 0.7382\n",
      "Epoch 10/10\n",
      "200/200 [==============================] - 8s 40ms/step - loss: 0.6210 - acc: 0.7745 - val_loss: 0.7560 - val_acc: 0.7543\n",
      "\n",
      "---Now testing the model for one audio file---\n",
      "The model predicts: metal, and ground truth is: classical.\n",
      "\n",
      "\n"
     ]
    },
    {
     "data": {
      "text/html": [
       "Waiting for W&B process to finish... <strong style=\"color:green\">(success).</strong>"
      ],
      "text/plain": [
       "<IPython.core.display.HTML object>"
      ]
     },
     "metadata": {},
     "output_type": "display_data"
    },
    {
     "data": {
      "application/vnd.jupyter.widget-view+json": {
       "model_id": "",
       "version_major": 2,
       "version_minor": 0
      },
      "text/plain": [
       "VBox(children=(Label(value='0.419 MB of 0.419 MB uploaded (0.000 MB deduped)\\r'), FloatProgress(value=1.0, max…"
      ]
     },
     "metadata": {},
     "output_type": "display_data"
    },
    {
     "data": {
      "text/html": [
       "<style>\n",
       "    table.wandb td:nth-child(1) { padding: 0 10px; text-align: right }\n",
       "    .wandb-row { display: flex; flex-direction: row; flex-wrap: wrap; width: 100% }\n",
       "    .wandb-col { display: flex; flex-direction: column; flex-basis: 100%; flex: 1; padding: 10px; }\n",
       "    </style>\n",
       "<div class=\"wandb-row\"><div class=\"wandb-col\"><h3>Run history:</h3><br/><table class=\"wandb\"><tr><td>acc</td><td>▁▄▅▆▆▇▇███</td></tr><tr><td>epoch</td><td>▁▂▃▃▄▅▆▆▇█</td></tr><tr><td>loss</td><td>█▅▄▃▃▂▂▁▁▁</td></tr><tr><td>val_acc</td><td>▁▄▄▅▄▅▇▇██</td></tr><tr><td>val_loss</td><td>█▅▅▄▆▄▁▁▁▁</td></tr></table><br/></div><div class=\"wandb-col\"><h3>Run summary:</h3><br/><table class=\"wandb\"><tr><td>acc</td><td>0.77882</td></tr><tr><td>best_epoch</td><td>9</td></tr><tr><td>best_val_loss</td><td>0.75601</td></tr><tr><td>epoch</td><td>9</td></tr><tr><td>loss</td><td>0.62699</td></tr><tr><td>val_acc</td><td>0.75425</td></tr><tr><td>val_loss</td><td>0.75601</td></tr></table><br/></div></div>"
      ],
      "text/plain": [
       "<IPython.core.display.HTML object>"
      ]
     },
     "metadata": {},
     "output_type": "display_data"
    },
    {
     "data": {
      "text/html": [
       "Synced <strong style=\"color:#cdcd00\">iconic-sweep-14</strong>: <a href=\"https://wandb.ai/msaintfelix/Sweeps-Genre-Classifier/runs/0oxervwx\" target=\"_blank\">https://wandb.ai/msaintfelix/Sweeps-Genre-Classifier/runs/0oxervwx</a><br/>Synced 6 W&B file(s), 1 media file(s), 0 artifact file(s) and 1 other file(s)"
      ],
      "text/plain": [
       "<IPython.core.display.HTML object>"
      ]
     },
     "metadata": {},
     "output_type": "display_data"
    },
    {
     "data": {
      "text/html": [
       "Find logs at: <code>./wandb/run-20220829_202543-0oxervwx/logs</code>"
      ],
      "text/plain": [
       "<IPython.core.display.HTML object>"
      ]
     },
     "metadata": {},
     "output_type": "display_data"
    },
    {
     "name": "stderr",
     "output_type": "stream",
     "text": [
      "\u001b[34m\u001b[1mwandb\u001b[0m: Agent Starting Run: xqacm67s with config:\n",
      "\u001b[34m\u001b[1mwandb\u001b[0m: \tbatch_size: 32\n",
      "\u001b[34m\u001b[1mwandb\u001b[0m: \tconv_layer_size: 16\n",
      "\u001b[34m\u001b[1mwandb\u001b[0m: \tdropout: 0.3\n",
      "\u001b[34m\u001b[1mwandb\u001b[0m: \tepochs: 10\n",
      "\u001b[34m\u001b[1mwandb\u001b[0m: \tlearning_rate: 3e-05\n"
     ]
    },
    {
     "data": {
      "text/html": [
       "wandb version 0.13.2 is available!  To upgrade, please run:\n",
       " $ pip install wandb --upgrade"
      ],
      "text/plain": [
       "<IPython.core.display.HTML object>"
      ]
     },
     "metadata": {},
     "output_type": "display_data"
    },
    {
     "data": {
      "text/html": [
       "Tracking run with wandb version 0.12.11"
      ],
      "text/plain": [
       "<IPython.core.display.HTML object>"
      ]
     },
     "metadata": {},
     "output_type": "display_data"
    },
    {
     "data": {
      "text/html": [
       "Run data is saved locally in <code>/Users/msf/GitHub/TensorFlow_MusicGenre_Classifier/wandb/run-20220829_202734-xqacm67s</code>"
      ],
      "text/plain": [
       "<IPython.core.display.HTML object>"
      ]
     },
     "metadata": {},
     "output_type": "display_data"
    },
    {
     "data": {
      "text/html": [
       "Syncing run <strong><a href=\"https://wandb.ai/msaintfelix/Sweeps-Genre-Classifier/runs/xqacm67s\" target=\"_blank\">silver-sweep-15</a></strong> to <a href=\"https://wandb.ai/msaintfelix/Sweeps-Genre-Classifier\" target=\"_blank\">Weights & Biases</a> (<a href=\"https://wandb.me/run\" target=\"_blank\">docs</a>)<br/>Sweep page:  <a href=\"https://wandb.ai/msaintfelix/Sweeps-Genre-Classifier/sweeps/e7xdbkpy\" target=\"_blank\">https://wandb.ai/msaintfelix/Sweeps-Genre-Classifier/sweeps/e7xdbkpy</a>"
      ],
      "text/plain": [
       "<IPython.core.display.HTML object>"
      ]
     },
     "metadata": {},
     "output_type": "display_data"
    },
    {
     "name": "stdout",
     "output_type": "stream",
     "text": [
      "(9990, 125, 13)\n",
      "Model: \"sequential\"\n",
      "_________________________________________________________________\n",
      "Layer (type)                 Output Shape              Param #   \n",
      "=================================================================\n",
      "conv2d (Conv2D)              (None, 123, 11, 16)       160       \n",
      "_________________________________________________________________\n",
      "max_pooling2d (MaxPooling2D) (None, 62, 6, 16)         0         \n",
      "_________________________________________________________________\n",
      "batch_normalization (BatchNo (None, 62, 6, 16)         64        \n",
      "_________________________________________________________________\n",
      "conv2d_1 (Conv2D)            (None, 60, 4, 16)         2320      \n",
      "_________________________________________________________________\n",
      "max_pooling2d_1 (MaxPooling2 (None, 30, 2, 16)         0         \n",
      "_________________________________________________________________\n",
      "batch_normalization_1 (Batch (None, 30, 2, 16)         64        \n",
      "_________________________________________________________________\n",
      "conv2d_2 (Conv2D)            (None, 29, 1, 16)         1040      \n",
      "_________________________________________________________________\n",
      "max_pooling2d_2 (MaxPooling2 (None, 15, 1, 16)         0         \n",
      "_________________________________________________________________\n",
      "batch_normalization_2 (Batch (None, 15, 1, 16)         64        \n",
      "_________________________________________________________________\n",
      "dropout (Dropout)            (None, 15, 1, 16)         0         \n",
      "_________________________________________________________________\n",
      "flatten (Flatten)            (None, 240)               0         \n",
      "_________________________________________________________________\n",
      "dense (Dense)                (None, 64)                15424     \n",
      "_________________________________________________________________\n",
      "dense_1 (Dense)              (None, 10)                650       \n",
      "=================================================================\n",
      "Total params: 19,786\n",
      "Trainable params: 19,690\n",
      "Non-trainable params: 96\n",
      "_________________________________________________________________\n",
      "Epoch 1/10\n",
      "200/200 [==============================] - 6s 25ms/step - loss: 2.7147 - acc: 0.1382 - val_loss: 2.2586 - val_acc: 0.1922\n",
      "Epoch 2/10\n",
      "200/200 [==============================] - 5s 24ms/step - loss: 2.3960 - acc: 0.2197 - val_loss: 2.0087 - val_acc: 0.2888\n",
      "Epoch 3/10\n",
      "200/200 [==============================] - 5s 24ms/step - loss: 2.1712 - acc: 0.2649 - val_loss: 1.8520 - val_acc: 0.3268\n",
      "Epoch 4/10\n",
      "200/200 [==============================] - 5s 24ms/step - loss: 1.9828 - acc: 0.3079 - val_loss: 1.7472 - val_acc: 0.3514\n",
      "Epoch 5/10\n",
      "200/200 [==============================] - 5s 24ms/step - loss: 1.8845 - acc: 0.3367 - val_loss: 1.6692 - val_acc: 0.3749\n",
      "Epoch 6/10\n",
      "200/200 [==============================] - 5s 25ms/step - loss: 1.8110 - acc: 0.3574 - val_loss: 1.6079 - val_acc: 0.3959\n",
      "Epoch 7/10\n",
      "200/200 [==============================] - 5s 25ms/step - loss: 1.7446 - acc: 0.3725 - val_loss: 1.5573 - val_acc: 0.4139\n",
      "Epoch 8/10\n",
      "200/200 [==============================] - 5s 25ms/step - loss: 1.7106 - acc: 0.3760 - val_loss: 1.5135 - val_acc: 0.4304\n",
      "Epoch 9/10\n",
      "200/200 [==============================] - 5s 25ms/step - loss: 1.6583 - acc: 0.3923 - val_loss: 1.4767 - val_acc: 0.4570\n",
      "Epoch 10/10\n",
      "200/200 [==============================] - 5s 24ms/step - loss: 1.6132 - acc: 0.4029 - val_loss: 1.4467 - val_acc: 0.4685\n",
      "\n",
      "---Now testing the model for one audio file---\n",
      "The model predicts: rock, and ground truth is: rock.\n",
      "\n",
      "\n"
     ]
    },
    {
     "data": {
      "text/html": [
       "Waiting for W&B process to finish... <strong style=\"color:green\">(success).</strong>"
      ],
      "text/plain": [
       "<IPython.core.display.HTML object>"
      ]
     },
     "metadata": {},
     "output_type": "display_data"
    },
    {
     "data": {
      "application/vnd.jupyter.widget-view+json": {
       "model_id": "",
       "version_major": 2,
       "version_minor": 0
      },
      "text/plain": [
       "VBox(children=(Label(value='0.224 MB of 0.224 MB uploaded (0.000 MB deduped)\\r'), FloatProgress(value=1.0, max…"
      ]
     },
     "metadata": {},
     "output_type": "display_data"
    },
    {
     "data": {
      "text/html": [
       "<style>\n",
       "    table.wandb td:nth-child(1) { padding: 0 10px; text-align: right }\n",
       "    .wandb-row { display: flex; flex-direction: row; flex-wrap: wrap; width: 100% }\n",
       "    .wandb-col { display: flex; flex-direction: column; flex-basis: 100%; flex: 1; padding: 10px; }\n",
       "    </style>\n",
       "<div class=\"wandb-row\"><div class=\"wandb-col\"><h3>Run history:</h3><br/><table class=\"wandb\"><tr><td>acc</td><td>▁▃▄▅▆▆▇▇██</td></tr><tr><td>epoch</td><td>▁▂▃▃▄▅▆▆▇█</td></tr><tr><td>loss</td><td>█▆▅▃▃▂▂▂▁▁</td></tr><tr><td>val_acc</td><td>▁▃▄▅▆▆▇▇██</td></tr><tr><td>val_loss</td><td>█▆▄▄▃▂▂▂▁▁</td></tr></table><br/></div><div class=\"wandb-col\"><h3>Run summary:</h3><br/><table class=\"wandb\"><tr><td>acc</td><td>0.40654</td></tr><tr><td>best_epoch</td><td>9</td></tr><tr><td>best_val_loss</td><td>1.44672</td></tr><tr><td>epoch</td><td>9</td></tr><tr><td>loss</td><td>1.62176</td></tr><tr><td>val_acc</td><td>0.46847</td></tr><tr><td>val_loss</td><td>1.44672</td></tr></table><br/></div></div>"
      ],
      "text/plain": [
       "<IPython.core.display.HTML object>"
      ]
     },
     "metadata": {},
     "output_type": "display_data"
    },
    {
     "data": {
      "text/html": [
       "Synced <strong style=\"color:#cdcd00\">silver-sweep-15</strong>: <a href=\"https://wandb.ai/msaintfelix/Sweeps-Genre-Classifier/runs/xqacm67s\" target=\"_blank\">https://wandb.ai/msaintfelix/Sweeps-Genre-Classifier/runs/xqacm67s</a><br/>Synced 6 W&B file(s), 1 media file(s), 0 artifact file(s) and 1 other file(s)"
      ],
      "text/plain": [
       "<IPython.core.display.HTML object>"
      ]
     },
     "metadata": {},
     "output_type": "display_data"
    },
    {
     "data": {
      "text/html": [
       "Find logs at: <code>./wandb/run-20220829_202734-xqacm67s/logs</code>"
      ],
      "text/plain": [
       "<IPython.core.display.HTML object>"
      ]
     },
     "metadata": {},
     "output_type": "display_data"
    },
    {
     "name": "stderr",
     "output_type": "stream",
     "text": [
      "\u001b[34m\u001b[1mwandb\u001b[0m: Sweep Agent: Waiting for job.\n",
      "\u001b[34m\u001b[1mwandb\u001b[0m: Job received.\n",
      "\u001b[34m\u001b[1mwandb\u001b[0m: Agent Starting Run: rfi7gcyx with config:\n",
      "\u001b[34m\u001b[1mwandb\u001b[0m: \tbatch_size: 64\n",
      "\u001b[34m\u001b[1mwandb\u001b[0m: \tconv_layer_size: 64\n",
      "\u001b[34m\u001b[1mwandb\u001b[0m: \tdropout: 0.5\n",
      "\u001b[34m\u001b[1mwandb\u001b[0m: \tepochs: 15\n",
      "\u001b[34m\u001b[1mwandb\u001b[0m: \tlearning_rate: 1e-05\n"
     ]
    },
    {
     "data": {
      "text/html": [
       "wandb version 0.13.2 is available!  To upgrade, please run:\n",
       " $ pip install wandb --upgrade"
      ],
      "text/plain": [
       "<IPython.core.display.HTML object>"
      ]
     },
     "metadata": {},
     "output_type": "display_data"
    },
    {
     "data": {
      "text/html": [
       "Tracking run with wandb version 0.12.11"
      ],
      "text/plain": [
       "<IPython.core.display.HTML object>"
      ]
     },
     "metadata": {},
     "output_type": "display_data"
    },
    {
     "data": {
      "text/html": [
       "Run data is saved locally in <code>/Users/msf/GitHub/TensorFlow_MusicGenre_Classifier/wandb/run-20220829_202901-rfi7gcyx</code>"
      ],
      "text/plain": [
       "<IPython.core.display.HTML object>"
      ]
     },
     "metadata": {},
     "output_type": "display_data"
    },
    {
     "data": {
      "text/html": [
       "Syncing run <strong><a href=\"https://wandb.ai/msaintfelix/Sweeps-Genre-Classifier/runs/rfi7gcyx\" target=\"_blank\">deft-sweep-16</a></strong> to <a href=\"https://wandb.ai/msaintfelix/Sweeps-Genre-Classifier\" target=\"_blank\">Weights & Biases</a> (<a href=\"https://wandb.me/run\" target=\"_blank\">docs</a>)<br/>Sweep page:  <a href=\"https://wandb.ai/msaintfelix/Sweeps-Genre-Classifier/sweeps/e7xdbkpy\" target=\"_blank\">https://wandb.ai/msaintfelix/Sweeps-Genre-Classifier/sweeps/e7xdbkpy</a>"
      ],
      "text/plain": [
       "<IPython.core.display.HTML object>"
      ]
     },
     "metadata": {},
     "output_type": "display_data"
    },
    {
     "name": "stdout",
     "output_type": "stream",
     "text": [
      "(9990, 125, 13)\n",
      "Model: \"sequential\"\n",
      "_________________________________________________________________\n",
      "Layer (type)                 Output Shape              Param #   \n",
      "=================================================================\n",
      "conv2d (Conv2D)              (None, 123, 11, 64)       640       \n",
      "_________________________________________________________________\n",
      "max_pooling2d (MaxPooling2D) (None, 62, 6, 64)         0         \n",
      "_________________________________________________________________\n",
      "batch_normalization (BatchNo (None, 62, 6, 64)         256       \n",
      "_________________________________________________________________\n",
      "conv2d_1 (Conv2D)            (None, 60, 4, 64)         36928     \n",
      "_________________________________________________________________\n",
      "max_pooling2d_1 (MaxPooling2 (None, 30, 2, 64)         0         \n",
      "_________________________________________________________________\n",
      "batch_normalization_1 (Batch (None, 30, 2, 64)         256       \n",
      "_________________________________________________________________\n",
      "conv2d_2 (Conv2D)            (None, 29, 1, 64)         16448     \n",
      "_________________________________________________________________\n",
      "max_pooling2d_2 (MaxPooling2 (None, 15, 1, 64)         0         \n",
      "_________________________________________________________________\n",
      "batch_normalization_2 (Batch (None, 15, 1, 64)         256       \n",
      "_________________________________________________________________\n",
      "dropout (Dropout)            (None, 15, 1, 64)         0         \n",
      "_________________________________________________________________\n",
      "flatten (Flatten)            (None, 960)               0         \n",
      "_________________________________________________________________\n",
      "dense (Dense)                (None, 64)                61504     \n",
      "_________________________________________________________________\n",
      "dense_1 (Dense)              (None, 10)                650       \n",
      "=================================================================\n",
      "Total params: 116,938\n",
      "Trainable params: 116,554\n",
      "Non-trainable params: 384\n",
      "_________________________________________________________________\n",
      "Epoch 1/15\n",
      "100/100 [==============================] - 16s 154ms/step - loss: 3.2173 - acc: 0.1093 - val_loss: 2.4810 - val_acc: 0.0886\n",
      "Epoch 2/15\n",
      "100/100 [==============================] - 14s 137ms/step - loss: 2.9061 - acc: 0.1423 - val_loss: 2.2275 - val_acc: 0.1877\n",
      "Epoch 3/15\n",
      "100/100 [==============================] - 13s 132ms/step - loss: 2.7127 - acc: 0.1732 - val_loss: 2.0713 - val_acc: 0.2748\n",
      "Epoch 4/15\n",
      "100/100 [==============================] - 14s 134ms/step - loss: 2.4910 - acc: 0.2276 - val_loss: 1.9667 - val_acc: 0.3388\n",
      "Epoch 5/15\n",
      "100/100 [==============================] - 13s 132ms/step - loss: 2.3677 - acc: 0.2618 - val_loss: 1.8941 - val_acc: 0.3609\n",
      "Epoch 6/15\n",
      "100/100 [==============================] - 13s 135ms/step - loss: 2.3119 - acc: 0.2784 - val_loss: 1.8285 - val_acc: 0.3789\n",
      "Epoch 7/15\n",
      "100/100 [==============================] - 13s 129ms/step - loss: 2.1774 - acc: 0.3152 - val_loss: 1.7726 - val_acc: 0.3934\n",
      "Epoch 8/15\n",
      "100/100 [==============================] - 13s 127ms/step - loss: 2.1355 - acc: 0.3330 - val_loss: 1.7256 - val_acc: 0.4024\n",
      "Epoch 9/15\n",
      "100/100 [==============================] - 13s 127ms/step - loss: 2.0757 - acc: 0.3328 - val_loss: 1.6823 - val_acc: 0.4154\n",
      "Epoch 10/15\n",
      "100/100 [==============================] - 13s 128ms/step - loss: 2.0282 - acc: 0.3533 - val_loss: 1.6463 - val_acc: 0.4254\n",
      "Epoch 11/15\n",
      "100/100 [==============================] - 13s 127ms/step - loss: 1.9699 - acc: 0.3727 - val_loss: 1.6130 - val_acc: 0.4329\n",
      "Epoch 12/15\n",
      "100/100 [==============================] - 13s 127ms/step - loss: 1.9639 - acc: 0.3635 - val_loss: 1.5813 - val_acc: 0.4429\n",
      "Epoch 13/15\n",
      "100/100 [==============================] - 13s 128ms/step - loss: 1.8962 - acc: 0.3633 - val_loss: 1.5508 - val_acc: 0.4515\n",
      "Epoch 14/15\n",
      "100/100 [==============================] - 13s 126ms/step - loss: 1.8789 - acc: 0.3802 - val_loss: 1.5219 - val_acc: 0.4580\n",
      "Epoch 15/15\n",
      "100/100 [==============================] - 13s 127ms/step - loss: 1.8025 - acc: 0.3950 - val_loss: 1.4996 - val_acc: 0.4675\n",
      "\n",
      "---Now testing the model for one audio file---\n",
      "The model predicts: classical, and ground truth is: classical.\n",
      "\n",
      "\n"
     ]
    },
    {
     "data": {
      "text/html": [
       "Waiting for W&B process to finish... <strong style=\"color:green\">(success).</strong>"
      ],
      "text/plain": [
       "<IPython.core.display.HTML object>"
      ]
     },
     "metadata": {},
     "output_type": "display_data"
    },
    {
     "data": {
      "application/vnd.jupyter.widget-view+json": {
       "model_id": "",
       "version_major": 2,
       "version_minor": 0
      },
      "text/plain": [
       "VBox(children=(Label(value='0.965 MB of 0.965 MB uploaded (0.000 MB deduped)\\r'), FloatProgress(value=1.0, max…"
      ]
     },
     "metadata": {},
     "output_type": "display_data"
    },
    {
     "data": {
      "text/html": [
       "<style>\n",
       "    table.wandb td:nth-child(1) { padding: 0 10px; text-align: right }\n",
       "    .wandb-row { display: flex; flex-direction: row; flex-wrap: wrap; width: 100% }\n",
       "    .wandb-col { display: flex; flex-direction: column; flex-basis: 100%; flex: 1; padding: 10px; }\n",
       "    </style>\n",
       "<div class=\"wandb-row\"><div class=\"wandb-col\"><h3>Run history:</h3><br/><table class=\"wandb\"><tr><td>acc</td><td>▁▂▃▄▅▅▆▆▇▇▇▇▇██</td></tr><tr><td>epoch</td><td>▁▁▂▃▃▃▄▅▅▅▆▇▇▇█</td></tr><tr><td>loss</td><td>█▇▅▅▄▃▃▃▂▂▂▂▁▁▁</td></tr><tr><td>val_acc</td><td>▁▃▄▆▆▆▇▇▇▇▇████</td></tr><tr><td>val_loss</td><td>█▆▅▄▄▃▃▃▂▂▂▂▁▁▁</td></tr></table><br/></div><div class=\"wandb-col\"><h3>Run summary:</h3><br/><table class=\"wandb\"><tr><td>acc</td><td>0.3959</td></tr><tr><td>best_epoch</td><td>14</td></tr><tr><td>best_val_loss</td><td>1.4996</td></tr><tr><td>epoch</td><td>14</td></tr><tr><td>loss</td><td>1.79807</td></tr><tr><td>val_acc</td><td>0.46747</td></tr><tr><td>val_loss</td><td>1.4996</td></tr></table><br/></div></div>"
      ],
      "text/plain": [
       "<IPython.core.display.HTML object>"
      ]
     },
     "metadata": {},
     "output_type": "display_data"
    },
    {
     "data": {
      "text/html": [
       "Synced <strong style=\"color:#cdcd00\">deft-sweep-16</strong>: <a href=\"https://wandb.ai/msaintfelix/Sweeps-Genre-Classifier/runs/rfi7gcyx\" target=\"_blank\">https://wandb.ai/msaintfelix/Sweeps-Genre-Classifier/runs/rfi7gcyx</a><br/>Synced 6 W&B file(s), 1 media file(s), 0 artifact file(s) and 1 other file(s)"
      ],
      "text/plain": [
       "<IPython.core.display.HTML object>"
      ]
     },
     "metadata": {},
     "output_type": "display_data"
    },
    {
     "data": {
      "text/html": [
       "Find logs at: <code>./wandb/run-20220829_202901-rfi7gcyx/logs</code>"
      ],
      "text/plain": [
       "<IPython.core.display.HTML object>"
      ]
     },
     "metadata": {},
     "output_type": "display_data"
    },
    {
     "name": "stderr",
     "output_type": "stream",
     "text": [
      "\u001b[34m\u001b[1mwandb\u001b[0m: Agent Starting Run: 98zapd6m with config:\n",
      "\u001b[34m\u001b[1mwandb\u001b[0m: \tbatch_size: 32\n",
      "\u001b[34m\u001b[1mwandb\u001b[0m: \tconv_layer_size: 32\n",
      "\u001b[34m\u001b[1mwandb\u001b[0m: \tdropout: 0.4\n",
      "\u001b[34m\u001b[1mwandb\u001b[0m: \tepochs: 5\n",
      "\u001b[34m\u001b[1mwandb\u001b[0m: \tlearning_rate: 1e-05\n"
     ]
    },
    {
     "data": {
      "text/html": [
       "wandb version 0.13.2 is available!  To upgrade, please run:\n",
       " $ pip install wandb --upgrade"
      ],
      "text/plain": [
       "<IPython.core.display.HTML object>"
      ]
     },
     "metadata": {},
     "output_type": "display_data"
    },
    {
     "data": {
      "text/html": [
       "Tracking run with wandb version 0.12.11"
      ],
      "text/plain": [
       "<IPython.core.display.HTML object>"
      ]
     },
     "metadata": {},
     "output_type": "display_data"
    },
    {
     "data": {
      "text/html": [
       "Run data is saved locally in <code>/Users/msf/GitHub/TensorFlow_MusicGenre_Classifier/wandb/run-20220829_203250-98zapd6m</code>"
      ],
      "text/plain": [
       "<IPython.core.display.HTML object>"
      ]
     },
     "metadata": {},
     "output_type": "display_data"
    },
    {
     "data": {
      "text/html": [
       "Syncing run <strong><a href=\"https://wandb.ai/msaintfelix/Sweeps-Genre-Classifier/runs/98zapd6m\" target=\"_blank\">glowing-sweep-17</a></strong> to <a href=\"https://wandb.ai/msaintfelix/Sweeps-Genre-Classifier\" target=\"_blank\">Weights & Biases</a> (<a href=\"https://wandb.me/run\" target=\"_blank\">docs</a>)<br/>Sweep page:  <a href=\"https://wandb.ai/msaintfelix/Sweeps-Genre-Classifier/sweeps/e7xdbkpy\" target=\"_blank\">https://wandb.ai/msaintfelix/Sweeps-Genre-Classifier/sweeps/e7xdbkpy</a>"
      ],
      "text/plain": [
       "<IPython.core.display.HTML object>"
      ]
     },
     "metadata": {},
     "output_type": "display_data"
    },
    {
     "name": "stdout",
     "output_type": "stream",
     "text": [
      "(9990, 125, 13)\n",
      "Model: \"sequential\"\n",
      "_________________________________________________________________\n",
      "Layer (type)                 Output Shape              Param #   \n",
      "=================================================================\n",
      "conv2d (Conv2D)              (None, 123, 11, 32)       320       \n",
      "_________________________________________________________________\n",
      "max_pooling2d (MaxPooling2D) (None, 62, 6, 32)         0         \n",
      "_________________________________________________________________\n",
      "batch_normalization (BatchNo (None, 62, 6, 32)         128       \n",
      "_________________________________________________________________\n",
      "conv2d_1 (Conv2D)            (None, 60, 4, 32)         9248      \n",
      "_________________________________________________________________\n",
      "max_pooling2d_1 (MaxPooling2 (None, 30, 2, 32)         0         \n",
      "_________________________________________________________________\n",
      "batch_normalization_1 (Batch (None, 30, 2, 32)         128       \n",
      "_________________________________________________________________\n",
      "conv2d_2 (Conv2D)            (None, 29, 1, 32)         4128      \n",
      "_________________________________________________________________\n",
      "max_pooling2d_2 (MaxPooling2 (None, 15, 1, 32)         0         \n",
      "_________________________________________________________________\n",
      "batch_normalization_2 (Batch (None, 15, 1, 32)         128       \n",
      "_________________________________________________________________\n",
      "dropout (Dropout)            (None, 15, 1, 32)         0         \n",
      "_________________________________________________________________\n",
      "flatten (Flatten)            (None, 480)               0         \n",
      "_________________________________________________________________\n",
      "dense (Dense)                (None, 64)                30784     \n",
      "_________________________________________________________________\n",
      "dense_1 (Dense)              (None, 10)                650       \n",
      "=================================================================\n",
      "Total params: 45,514\n",
      "Trainable params: 45,322\n",
      "Non-trainable params: 192\n",
      "_________________________________________________________________\n",
      "Epoch 1/5\n",
      "200/200 [==============================] - 8s 39ms/step - loss: 3.3482 - acc: 0.1045 - val_loss: 2.4560 - val_acc: 0.1316\n",
      "Epoch 2/5\n",
      "200/200 [==============================] - 8s 38ms/step - loss: 3.0272 - acc: 0.1301 - val_loss: 2.4058 - val_acc: 0.1682\n",
      "Epoch 3/5\n",
      "200/200 [==============================] - 8s 38ms/step - loss: 2.7611 - acc: 0.1580 - val_loss: 2.2601 - val_acc: 0.2222\n",
      "Epoch 4/5\n",
      "200/200 [==============================] - 8s 40ms/step - loss: 2.5601 - acc: 0.1972 - val_loss: 2.1186 - val_acc: 0.2843\n",
      "Epoch 5/5\n",
      "200/200 [==============================] - 8s 40ms/step - loss: 2.4298 - acc: 0.2244 - val_loss: 2.0052 - val_acc: 0.3258\n",
      "\n",
      "---Now testing the model for one audio file---\n",
      "The model predicts: hiphop, and ground truth is: reggae.\n",
      "\n",
      "\n"
     ]
    },
    {
     "data": {
      "text/html": [
       "Waiting for W&B process to finish... <strong style=\"color:green\">(success).</strong>"
      ],
      "text/plain": [
       "<IPython.core.display.HTML object>"
      ]
     },
     "metadata": {},
     "output_type": "display_data"
    },
    {
     "data": {
      "application/vnd.jupyter.widget-view+json": {
       "model_id": "",
       "version_major": 2,
       "version_minor": 0
      },
      "text/plain": [
       "VBox(children=(Label(value='0.419 MB of 0.419 MB uploaded (0.000 MB deduped)\\r'), FloatProgress(value=1.0, max…"
      ]
     },
     "metadata": {},
     "output_type": "display_data"
    },
    {
     "data": {
      "text/html": [
       "<style>\n",
       "    table.wandb td:nth-child(1) { padding: 0 10px; text-align: right }\n",
       "    .wandb-row { display: flex; flex-direction: row; flex-wrap: wrap; width: 100% }\n",
       "    .wandb-col { display: flex; flex-direction: column; flex-basis: 100%; flex: 1; padding: 10px; }\n",
       "    </style>\n",
       "<div class=\"wandb-row\"><div class=\"wandb-col\"><h3>Run history:</h3><br/><table class=\"wandb\"><tr><td>acc</td><td>▁▂▄▆█</td></tr><tr><td>epoch</td><td>▁▃▅▆█</td></tr><tr><td>loss</td><td>█▆▄▂▁</td></tr><tr><td>val_acc</td><td>▁▂▄▇█</td></tr><tr><td>val_loss</td><td>█▇▅▃▁</td></tr></table><br/></div><div class=\"wandb-col\"><h3>Run summary:</h3><br/><table class=\"wandb\"><tr><td>acc</td><td>0.2423</td></tr><tr><td>best_epoch</td><td>4</td></tr><tr><td>best_val_loss</td><td>2.00518</td></tr><tr><td>epoch</td><td>4</td></tr><tr><td>loss</td><td>2.37491</td></tr><tr><td>val_acc</td><td>0.32583</td></tr><tr><td>val_loss</td><td>2.00518</td></tr></table><br/></div></div>"
      ],
      "text/plain": [
       "<IPython.core.display.HTML object>"
      ]
     },
     "metadata": {},
     "output_type": "display_data"
    },
    {
     "data": {
      "text/html": [
       "Synced <strong style=\"color:#cdcd00\">glowing-sweep-17</strong>: <a href=\"https://wandb.ai/msaintfelix/Sweeps-Genre-Classifier/runs/98zapd6m\" target=\"_blank\">https://wandb.ai/msaintfelix/Sweeps-Genre-Classifier/runs/98zapd6m</a><br/>Synced 6 W&B file(s), 1 media file(s), 0 artifact file(s) and 1 other file(s)"
      ],
      "text/plain": [
       "<IPython.core.display.HTML object>"
      ]
     },
     "metadata": {},
     "output_type": "display_data"
    },
    {
     "data": {
      "text/html": [
       "Find logs at: <code>./wandb/run-20220829_203250-98zapd6m/logs</code>"
      ],
      "text/plain": [
       "<IPython.core.display.HTML object>"
      ]
     },
     "metadata": {},
     "output_type": "display_data"
    },
    {
     "name": "stderr",
     "output_type": "stream",
     "text": [
      "\u001b[34m\u001b[1mwandb\u001b[0m: Agent Starting Run: rg2idakt with config:\n",
      "\u001b[34m\u001b[1mwandb\u001b[0m: \tbatch_size: 64\n",
      "\u001b[34m\u001b[1mwandb\u001b[0m: \tconv_layer_size: 32\n",
      "\u001b[34m\u001b[1mwandb\u001b[0m: \tdropout: 0.3\n",
      "\u001b[34m\u001b[1mwandb\u001b[0m: \tepochs: 10\n",
      "\u001b[34m\u001b[1mwandb\u001b[0m: \tlearning_rate: 0.001\n"
     ]
    },
    {
     "data": {
      "text/html": [
       "wandb version 0.13.2 is available!  To upgrade, please run:\n",
       " $ pip install wandb --upgrade"
      ],
      "text/plain": [
       "<IPython.core.display.HTML object>"
      ]
     },
     "metadata": {},
     "output_type": "display_data"
    },
    {
     "data": {
      "text/html": [
       "Tracking run with wandb version 0.12.11"
      ],
      "text/plain": [
       "<IPython.core.display.HTML object>"
      ]
     },
     "metadata": {},
     "output_type": "display_data"
    },
    {
     "data": {
      "text/html": [
       "Run data is saved locally in <code>/Users/msf/GitHub/TensorFlow_MusicGenre_Classifier/wandb/run-20220829_203356-rg2idakt</code>"
      ],
      "text/plain": [
       "<IPython.core.display.HTML object>"
      ]
     },
     "metadata": {},
     "output_type": "display_data"
    },
    {
     "data": {
      "text/html": [
       "Syncing run <strong><a href=\"https://wandb.ai/msaintfelix/Sweeps-Genre-Classifier/runs/rg2idakt\" target=\"_blank\">good-sweep-18</a></strong> to <a href=\"https://wandb.ai/msaintfelix/Sweeps-Genre-Classifier\" target=\"_blank\">Weights & Biases</a> (<a href=\"https://wandb.me/run\" target=\"_blank\">docs</a>)<br/>Sweep page:  <a href=\"https://wandb.ai/msaintfelix/Sweeps-Genre-Classifier/sweeps/e7xdbkpy\" target=\"_blank\">https://wandb.ai/msaintfelix/Sweeps-Genre-Classifier/sweeps/e7xdbkpy</a>"
      ],
      "text/plain": [
       "<IPython.core.display.HTML object>"
      ]
     },
     "metadata": {},
     "output_type": "display_data"
    },
    {
     "name": "stdout",
     "output_type": "stream",
     "text": [
      "(9990, 125, 13)\n",
      "Model: \"sequential\"\n",
      "_________________________________________________________________\n",
      "Layer (type)                 Output Shape              Param #   \n",
      "=================================================================\n",
      "conv2d (Conv2D)              (None, 123, 11, 32)       320       \n",
      "_________________________________________________________________\n",
      "max_pooling2d (MaxPooling2D) (None, 62, 6, 32)         0         \n",
      "_________________________________________________________________\n",
      "batch_normalization (BatchNo (None, 62, 6, 32)         128       \n",
      "_________________________________________________________________\n",
      "conv2d_1 (Conv2D)            (None, 60, 4, 32)         9248      \n",
      "_________________________________________________________________\n",
      "max_pooling2d_1 (MaxPooling2 (None, 30, 2, 32)         0         \n",
      "_________________________________________________________________\n",
      "batch_normalization_1 (Batch (None, 30, 2, 32)         128       \n",
      "_________________________________________________________________\n",
      "conv2d_2 (Conv2D)            (None, 29, 1, 32)         4128      \n",
      "_________________________________________________________________\n",
      "max_pooling2d_2 (MaxPooling2 (None, 15, 1, 32)         0         \n",
      "_________________________________________________________________\n",
      "batch_normalization_2 (Batch (None, 15, 1, 32)         128       \n",
      "_________________________________________________________________\n",
      "dropout (Dropout)            (None, 15, 1, 32)         0         \n",
      "_________________________________________________________________\n",
      "flatten (Flatten)            (None, 480)               0         \n",
      "_________________________________________________________________\n",
      "dense (Dense)                (None, 64)                30784     \n",
      "_________________________________________________________________\n",
      "dense_1 (Dense)              (None, 10)                650       \n",
      "=================================================================\n",
      "Total params: 45,514\n",
      "Trainable params: 45,322\n",
      "Non-trainable params: 192\n",
      "_________________________________________________________________\n",
      "Epoch 1/10\n",
      "100/100 [==============================] - 8s 72ms/step - loss: 1.9075 - acc: 0.3517 - val_loss: 2.5644 - val_acc: 0.2307\n",
      "Epoch 2/10\n",
      "100/100 [==============================] - 7s 72ms/step - loss: 1.1975 - acc: 0.5668 - val_loss: 1.1799 - val_acc: 0.5841\n",
      "Epoch 3/10\n",
      "100/100 [==============================] - 7s 72ms/step - loss: 0.9964 - acc: 0.6502 - val_loss: 0.9310 - val_acc: 0.6587\n",
      "Epoch 4/10\n",
      "100/100 [==============================] - 7s 73ms/step - loss: 0.8857 - acc: 0.6804 - val_loss: 0.8638 - val_acc: 0.7047\n",
      "Epoch 5/10\n",
      "100/100 [==============================] - 7s 73ms/step - loss: 0.7465 - acc: 0.7336 - val_loss: 0.9579 - val_acc: 0.6602\n",
      "Epoch 6/10\n",
      "100/100 [==============================] - 7s 73ms/step - loss: 0.7225 - acc: 0.7507 - val_loss: 0.8754 - val_acc: 0.7027\n",
      "Epoch 7/10\n",
      "100/100 [==============================] - 7s 73ms/step - loss: 0.6404 - acc: 0.7712 - val_loss: 0.8371 - val_acc: 0.7092\n",
      "Epoch 8/10\n",
      "100/100 [==============================] - 7s 73ms/step - loss: 0.5854 - acc: 0.7938 - val_loss: 0.8139 - val_acc: 0.7162\n",
      "Epoch 9/10\n",
      "100/100 [==============================] - 8s 76ms/step - loss: 0.5754 - acc: 0.8008 - val_loss: 0.7237 - val_acc: 0.7407\n",
      "Epoch 10/10\n",
      "100/100 [==============================] - 7s 70ms/step - loss: 0.4936 - acc: 0.8262 - val_loss: 1.0241 - val_acc: 0.6972\n",
      "\n",
      "---Now testing the model for one audio file---\n",
      "The model predicts: classical, and ground truth is: pop.\n",
      "\n",
      "\n"
     ]
    },
    {
     "data": {
      "text/html": [
       "Waiting for W&B process to finish... <strong style=\"color:green\">(success).</strong>"
      ],
      "text/plain": [
       "<IPython.core.display.HTML object>"
      ]
     },
     "metadata": {},
     "output_type": "display_data"
    },
    {
     "data": {
      "application/vnd.jupyter.widget-view+json": {
       "model_id": "",
       "version_major": 2,
       "version_minor": 0
      },
      "text/plain": [
       "VBox(children=(Label(value='0.419 MB of 0.419 MB uploaded (0.000 MB deduped)\\r'), FloatProgress(value=1.0, max…"
      ]
     },
     "metadata": {},
     "output_type": "display_data"
    },
    {
     "data": {
      "text/html": [
       "<style>\n",
       "    table.wandb td:nth-child(1) { padding: 0 10px; text-align: right }\n",
       "    .wandb-row { display: flex; flex-direction: row; flex-wrap: wrap; width: 100% }\n",
       "    .wandb-col { display: flex; flex-direction: column; flex-basis: 100%; flex: 1; padding: 10px; }\n",
       "    </style>\n",
       "<div class=\"wandb-row\"><div class=\"wandb-col\"><h3>Run history:</h3><br/><table class=\"wandb\"><tr><td>acc</td><td>▁▄▅▆▆▇▇▇██</td></tr><tr><td>epoch</td><td>▁▂▃▃▄▅▆▆▇█</td></tr><tr><td>loss</td><td>█▅▄▃▃▂▂▂▁▁</td></tr><tr><td>val_acc</td><td>▁▆▇█▇▇███▇</td></tr><tr><td>val_loss</td><td>█▃▂▂▂▂▁▁▁▂</td></tr></table><br/></div><div class=\"wandb-col\"><h3>Run summary:</h3><br/><table class=\"wandb\"><tr><td>acc</td><td>0.81621</td></tr><tr><td>best_epoch</td><td>8</td></tr><tr><td>best_val_loss</td><td>0.72369</td></tr><tr><td>epoch</td><td>9</td></tr><tr><td>loss</td><td>0.5142</td></tr><tr><td>val_acc</td><td>0.6972</td></tr><tr><td>val_loss</td><td>1.02406</td></tr></table><br/></div></div>"
      ],
      "text/plain": [
       "<IPython.core.display.HTML object>"
      ]
     },
     "metadata": {},
     "output_type": "display_data"
    },
    {
     "data": {
      "text/html": [
       "Synced <strong style=\"color:#cdcd00\">good-sweep-18</strong>: <a href=\"https://wandb.ai/msaintfelix/Sweeps-Genre-Classifier/runs/rg2idakt\" target=\"_blank\">https://wandb.ai/msaintfelix/Sweeps-Genre-Classifier/runs/rg2idakt</a><br/>Synced 6 W&B file(s), 1 media file(s), 0 artifact file(s) and 1 other file(s)"
      ],
      "text/plain": [
       "<IPython.core.display.HTML object>"
      ]
     },
     "metadata": {},
     "output_type": "display_data"
    },
    {
     "data": {
      "text/html": [
       "Find logs at: <code>./wandb/run-20220829_203356-rg2idakt/logs</code>"
      ],
      "text/plain": [
       "<IPython.core.display.HTML object>"
      ]
     },
     "metadata": {},
     "output_type": "display_data"
    },
    {
     "name": "stderr",
     "output_type": "stream",
     "text": [
      "\u001b[34m\u001b[1mwandb\u001b[0m: Agent Starting Run: pi9gw43k with config:\n",
      "\u001b[34m\u001b[1mwandb\u001b[0m: \tbatch_size: 64\n",
      "\u001b[34m\u001b[1mwandb\u001b[0m: \tconv_layer_size: 16\n",
      "\u001b[34m\u001b[1mwandb\u001b[0m: \tdropout: 0.3\n",
      "\u001b[34m\u001b[1mwandb\u001b[0m: \tepochs: 5\n",
      "\u001b[34m\u001b[1mwandb\u001b[0m: \tlearning_rate: 3e-05\n"
     ]
    },
    {
     "data": {
      "text/html": [
       "wandb version 0.13.2 is available!  To upgrade, please run:\n",
       " $ pip install wandb --upgrade"
      ],
      "text/plain": [
       "<IPython.core.display.HTML object>"
      ]
     },
     "metadata": {},
     "output_type": "display_data"
    },
    {
     "data": {
      "text/html": [
       "Tracking run with wandb version 0.12.11"
      ],
      "text/plain": [
       "<IPython.core.display.HTML object>"
      ]
     },
     "metadata": {},
     "output_type": "display_data"
    },
    {
     "data": {
      "text/html": [
       "Run data is saved locally in <code>/Users/msf/GitHub/TensorFlow_MusicGenre_Classifier/wandb/run-20220829_203534-pi9gw43k</code>"
      ],
      "text/plain": [
       "<IPython.core.display.HTML object>"
      ]
     },
     "metadata": {},
     "output_type": "display_data"
    },
    {
     "data": {
      "text/html": [
       "Syncing run <strong><a href=\"https://wandb.ai/msaintfelix/Sweeps-Genre-Classifier/runs/pi9gw43k\" target=\"_blank\">dauntless-sweep-19</a></strong> to <a href=\"https://wandb.ai/msaintfelix/Sweeps-Genre-Classifier\" target=\"_blank\">Weights & Biases</a> (<a href=\"https://wandb.me/run\" target=\"_blank\">docs</a>)<br/>Sweep page:  <a href=\"https://wandb.ai/msaintfelix/Sweeps-Genre-Classifier/sweeps/e7xdbkpy\" target=\"_blank\">https://wandb.ai/msaintfelix/Sweeps-Genre-Classifier/sweeps/e7xdbkpy</a>"
      ],
      "text/plain": [
       "<IPython.core.display.HTML object>"
      ]
     },
     "metadata": {},
     "output_type": "display_data"
    },
    {
     "name": "stdout",
     "output_type": "stream",
     "text": [
      "(9990, 125, 13)\n",
      "Model: \"sequential\"\n",
      "_________________________________________________________________\n",
      "Layer (type)                 Output Shape              Param #   \n",
      "=================================================================\n",
      "conv2d (Conv2D)              (None, 123, 11, 16)       160       \n",
      "_________________________________________________________________\n",
      "max_pooling2d (MaxPooling2D) (None, 62, 6, 16)         0         \n",
      "_________________________________________________________________\n",
      "batch_normalization (BatchNo (None, 62, 6, 16)         64        \n",
      "_________________________________________________________________\n",
      "conv2d_1 (Conv2D)            (None, 60, 4, 16)         2320      \n",
      "_________________________________________________________________\n",
      "max_pooling2d_1 (MaxPooling2 (None, 30, 2, 16)         0         \n",
      "_________________________________________________________________\n",
      "batch_normalization_1 (Batch (None, 30, 2, 16)         64        \n",
      "_________________________________________________________________\n",
      "conv2d_2 (Conv2D)            (None, 29, 1, 16)         1040      \n",
      "_________________________________________________________________\n",
      "max_pooling2d_2 (MaxPooling2 (None, 15, 1, 16)         0         \n",
      "_________________________________________________________________\n",
      "batch_normalization_2 (Batch (None, 15, 1, 16)         64        \n",
      "_________________________________________________________________\n",
      "dropout (Dropout)            (None, 15, 1, 16)         0         \n",
      "_________________________________________________________________\n",
      "flatten (Flatten)            (None, 240)               0         \n",
      "_________________________________________________________________\n",
      "dense (Dense)                (None, 64)                15424     \n",
      "_________________________________________________________________\n",
      "dense_1 (Dense)              (None, 10)                650       \n",
      "=================================================================\n",
      "Total params: 19,786\n",
      "Trainable params: 19,690\n",
      "Non-trainable params: 96\n",
      "_________________________________________________________________\n",
      "Epoch 1/5\n",
      "100/100 [==============================] - 6s 49ms/step - loss: 2.8452 - acc: 0.1058 - val_loss: 2.3454 - val_acc: 0.1441\n",
      "Epoch 2/5\n",
      "100/100 [==============================] - 5s 49ms/step - loss: 2.5986 - acc: 0.1533 - val_loss: 2.1859 - val_acc: 0.2117\n",
      "Epoch 3/5\n",
      "100/100 [==============================] - 5s 48ms/step - loss: 2.3968 - acc: 0.1864 - val_loss: 2.0608 - val_acc: 0.2628\n",
      "Epoch 4/5\n",
      "100/100 [==============================] - 5s 47ms/step - loss: 2.2545 - acc: 0.2290 - val_loss: 1.9785 - val_acc: 0.3058\n",
      "Epoch 5/5\n",
      "100/100 [==============================] - 5s 47ms/step - loss: 2.1437 - acc: 0.2546 - val_loss: 1.9149 - val_acc: 0.3443\n",
      "\n",
      "---Now testing the model for one audio file---\n",
      "The model predicts: blues, and ground truth is: country.\n",
      "\n",
      "\n"
     ]
    },
    {
     "data": {
      "text/html": [
       "Waiting for W&B process to finish... <strong style=\"color:green\">(success).</strong>"
      ],
      "text/plain": [
       "<IPython.core.display.HTML object>"
      ]
     },
     "metadata": {},
     "output_type": "display_data"
    },
    {
     "data": {
      "application/vnd.jupyter.widget-view+json": {
       "model_id": "",
       "version_major": 2,
       "version_minor": 0
      },
      "text/plain": [
       "VBox(children=(Label(value='0.224 MB of 0.224 MB uploaded (0.000 MB deduped)\\r'), FloatProgress(value=1.0, max…"
      ]
     },
     "metadata": {},
     "output_type": "display_data"
    },
    {
     "data": {
      "text/html": [
       "<style>\n",
       "    table.wandb td:nth-child(1) { padding: 0 10px; text-align: right }\n",
       "    .wandb-row { display: flex; flex-direction: row; flex-wrap: wrap; width: 100% }\n",
       "    .wandb-col { display: flex; flex-direction: column; flex-basis: 100%; flex: 1; padding: 10px; }\n",
       "    </style>\n",
       "<div class=\"wandb-row\"><div class=\"wandb-col\"><h3>Run history:</h3><br/><table class=\"wandb\"><tr><td>acc</td><td>▁▃▅▇█</td></tr><tr><td>epoch</td><td>▁▃▅▆█</td></tr><tr><td>loss</td><td>█▅▃▂▁</td></tr><tr><td>val_acc</td><td>▁▃▅▇█</td></tr><tr><td>val_loss</td><td>█▅▃▂▁</td></tr></table><br/></div><div class=\"wandb-col\"><h3>Run summary:</h3><br/><table class=\"wandb\"><tr><td>acc</td><td>0.26169</td></tr><tr><td>best_epoch</td><td>4</td></tr><tr><td>best_val_loss</td><td>1.91491</td></tr><tr><td>epoch</td><td>4</td></tr><tr><td>loss</td><td>2.13314</td></tr><tr><td>val_acc</td><td>0.34434</td></tr><tr><td>val_loss</td><td>1.91491</td></tr></table><br/></div></div>"
      ],
      "text/plain": [
       "<IPython.core.display.HTML object>"
      ]
     },
     "metadata": {},
     "output_type": "display_data"
    },
    {
     "data": {
      "text/html": [
       "Synced <strong style=\"color:#cdcd00\">dauntless-sweep-19</strong>: <a href=\"https://wandb.ai/msaintfelix/Sweeps-Genre-Classifier/runs/pi9gw43k\" target=\"_blank\">https://wandb.ai/msaintfelix/Sweeps-Genre-Classifier/runs/pi9gw43k</a><br/>Synced 6 W&B file(s), 1 media file(s), 0 artifact file(s) and 1 other file(s)"
      ],
      "text/plain": [
       "<IPython.core.display.HTML object>"
      ]
     },
     "metadata": {},
     "output_type": "display_data"
    },
    {
     "data": {
      "text/html": [
       "Find logs at: <code>./wandb/run-20220829_203534-pi9gw43k/logs</code>"
      ],
      "text/plain": [
       "<IPython.core.display.HTML object>"
      ]
     },
     "metadata": {},
     "output_type": "display_data"
    },
    {
     "name": "stderr",
     "output_type": "stream",
     "text": [
      "\u001b[34m\u001b[1mwandb\u001b[0m: Agent Starting Run: eizfk11s with config:\n",
      "\u001b[34m\u001b[1mwandb\u001b[0m: \tbatch_size: 32\n",
      "\u001b[34m\u001b[1mwandb\u001b[0m: \tconv_layer_size: 32\n",
      "\u001b[34m\u001b[1mwandb\u001b[0m: \tdropout: 0.4\n",
      "\u001b[34m\u001b[1mwandb\u001b[0m: \tepochs: 10\n",
      "\u001b[34m\u001b[1mwandb\u001b[0m: \tlearning_rate: 0.001\n"
     ]
    },
    {
     "data": {
      "text/html": [
       "wandb version 0.13.2 is available!  To upgrade, please run:\n",
       " $ pip install wandb --upgrade"
      ],
      "text/plain": [
       "<IPython.core.display.HTML object>"
      ]
     },
     "metadata": {},
     "output_type": "display_data"
    },
    {
     "data": {
      "text/html": [
       "Tracking run with wandb version 0.12.11"
      ],
      "text/plain": [
       "<IPython.core.display.HTML object>"
      ]
     },
     "metadata": {},
     "output_type": "display_data"
    },
    {
     "data": {
      "text/html": [
       "Run data is saved locally in <code>/Users/msf/GitHub/TensorFlow_MusicGenre_Classifier/wandb/run-20220829_203625-eizfk11s</code>"
      ],
      "text/plain": [
       "<IPython.core.display.HTML object>"
      ]
     },
     "metadata": {},
     "output_type": "display_data"
    },
    {
     "data": {
      "text/html": [
       "Syncing run <strong><a href=\"https://wandb.ai/msaintfelix/Sweeps-Genre-Classifier/runs/eizfk11s\" target=\"_blank\">efficient-sweep-20</a></strong> to <a href=\"https://wandb.ai/msaintfelix/Sweeps-Genre-Classifier\" target=\"_blank\">Weights & Biases</a> (<a href=\"https://wandb.me/run\" target=\"_blank\">docs</a>)<br/>Sweep page:  <a href=\"https://wandb.ai/msaintfelix/Sweeps-Genre-Classifier/sweeps/e7xdbkpy\" target=\"_blank\">https://wandb.ai/msaintfelix/Sweeps-Genre-Classifier/sweeps/e7xdbkpy</a>"
      ],
      "text/plain": [
       "<IPython.core.display.HTML object>"
      ]
     },
     "metadata": {},
     "output_type": "display_data"
    },
    {
     "name": "stdout",
     "output_type": "stream",
     "text": [
      "(9990, 125, 13)\n",
      "Model: \"sequential\"\n",
      "_________________________________________________________________\n",
      "Layer (type)                 Output Shape              Param #   \n",
      "=================================================================\n",
      "conv2d (Conv2D)              (None, 123, 11, 32)       320       \n",
      "_________________________________________________________________\n",
      "max_pooling2d (MaxPooling2D) (None, 62, 6, 32)         0         \n",
      "_________________________________________________________________\n",
      "batch_normalization (BatchNo (None, 62, 6, 32)         128       \n",
      "_________________________________________________________________\n",
      "conv2d_1 (Conv2D)            (None, 60, 4, 32)         9248      \n",
      "_________________________________________________________________\n",
      "max_pooling2d_1 (MaxPooling2 (None, 30, 2, 32)         0         \n",
      "_________________________________________________________________\n",
      "batch_normalization_1 (Batch (None, 30, 2, 32)         128       \n",
      "_________________________________________________________________\n",
      "conv2d_2 (Conv2D)            (None, 29, 1, 32)         4128      \n",
      "_________________________________________________________________\n",
      "max_pooling2d_2 (MaxPooling2 (None, 15, 1, 32)         0         \n",
      "_________________________________________________________________\n",
      "batch_normalization_2 (Batch (None, 15, 1, 32)         128       \n",
      "_________________________________________________________________\n",
      "dropout (Dropout)            (None, 15, 1, 32)         0         \n",
      "_________________________________________________________________\n",
      "flatten (Flatten)            (None, 480)               0         \n",
      "_________________________________________________________________\n",
      "dense (Dense)                (None, 64)                30784     \n",
      "_________________________________________________________________\n",
      "dense_1 (Dense)              (None, 10)                650       \n",
      "=================================================================\n",
      "Total params: 45,514\n",
      "Trainable params: 45,322\n",
      "Non-trainable params: 192\n",
      "_________________________________________________________________\n",
      "Epoch 1/10\n",
      "200/200 [==============================] - 9s 41ms/step - loss: 2.0511 - acc: 0.3421 - val_loss: 1.4364 - val_acc: 0.4885\n",
      "Epoch 2/10\n",
      "200/200 [==============================] - 8s 42ms/step - loss: 1.2648 - acc: 0.5459 - val_loss: 1.2212 - val_acc: 0.5636\n",
      "Epoch 3/10\n",
      "200/200 [==============================] - 8s 40ms/step - loss: 1.0510 - acc: 0.6268 - val_loss: 1.0278 - val_acc: 0.6391\n",
      "Epoch 4/10\n",
      "200/200 [==============================] - 8s 41ms/step - loss: 0.9305 - acc: 0.6743 - val_loss: 0.9561 - val_acc: 0.6722\n",
      "Epoch 5/10\n",
      "200/200 [==============================] - 8s 41ms/step - loss: 0.8518 - acc: 0.6966 - val_loss: 0.8647 - val_acc: 0.7022\n",
      "Epoch 6/10\n",
      "200/200 [==============================] - 8s 42ms/step - loss: 0.7867 - acc: 0.7159 - val_loss: 0.9261 - val_acc: 0.6812\n",
      "Epoch 7/10\n",
      "200/200 [==============================] - 8s 41ms/step - loss: 0.7270 - acc: 0.7424 - val_loss: 0.8706 - val_acc: 0.6947\n",
      "Epoch 8/10\n",
      "200/200 [==============================] - 8s 42ms/step - loss: 0.6845 - acc: 0.7645 - val_loss: 0.7827 - val_acc: 0.7377\n",
      "Epoch 9/10\n",
      "200/200 [==============================] - 8s 41ms/step - loss: 0.6138 - acc: 0.7792 - val_loss: 0.8193 - val_acc: 0.7307\n",
      "Epoch 10/10\n",
      "200/200 [==============================] - 8s 41ms/step - loss: 0.5886 - acc: 0.7892 - val_loss: 0.7698 - val_acc: 0.7412\n",
      "\n",
      "---Now testing the model for one audio file---\n",
      "The model predicts: pop, and ground truth is: disco.\n",
      "\n",
      "\n"
     ]
    },
    {
     "data": {
      "text/html": [
       "Waiting for W&B process to finish... <strong style=\"color:green\">(success).</strong>"
      ],
      "text/plain": [
       "<IPython.core.display.HTML object>"
      ]
     },
     "metadata": {},
     "output_type": "display_data"
    },
    {
     "data": {
      "application/vnd.jupyter.widget-view+json": {
       "model_id": "",
       "version_major": 2,
       "version_minor": 0
      },
      "text/plain": [
       "VBox(children=(Label(value='0.419 MB of 0.419 MB uploaded (0.000 MB deduped)\\r'), FloatProgress(value=1.0, max…"
      ]
     },
     "metadata": {},
     "output_type": "display_data"
    },
    {
     "data": {
      "text/html": [
       "<style>\n",
       "    table.wandb td:nth-child(1) { padding: 0 10px; text-align: right }\n",
       "    .wandb-row { display: flex; flex-direction: row; flex-wrap: wrap; width: 100% }\n",
       "    .wandb-col { display: flex; flex-direction: column; flex-basis: 100%; flex: 1; padding: 10px; }\n",
       "    </style>\n",
       "<div class=\"wandb-row\"><div class=\"wandb-col\"><h3>Run history:</h3><br/><table class=\"wandb\"><tr><td>acc</td><td>▁▄▅▆▆▇▇▇██</td></tr><tr><td>epoch</td><td>▁▂▃▃▄▅▆▆▇█</td></tr><tr><td>loss</td><td>█▅▄▃▂▂▂▂▁▁</td></tr><tr><td>val_acc</td><td>▁▃▅▆▇▆▇███</td></tr><tr><td>val_loss</td><td>█▆▄▃▂▃▂▁▂▁</td></tr></table><br/></div><div class=\"wandb-col\"><h3>Run summary:</h3><br/><table class=\"wandb\"><tr><td>acc</td><td>0.78602</td></tr><tr><td>best_epoch</td><td>9</td></tr><tr><td>best_val_loss</td><td>0.76979</td></tr><tr><td>epoch</td><td>9</td></tr><tr><td>loss</td><td>0.59245</td></tr><tr><td>val_acc</td><td>0.74124</td></tr><tr><td>val_loss</td><td>0.76979</td></tr></table><br/></div></div>"
      ],
      "text/plain": [
       "<IPython.core.display.HTML object>"
      ]
     },
     "metadata": {},
     "output_type": "display_data"
    },
    {
     "data": {
      "text/html": [
       "Synced <strong style=\"color:#cdcd00\">efficient-sweep-20</strong>: <a href=\"https://wandb.ai/msaintfelix/Sweeps-Genre-Classifier/runs/eizfk11s\" target=\"_blank\">https://wandb.ai/msaintfelix/Sweeps-Genre-Classifier/runs/eizfk11s</a><br/>Synced 6 W&B file(s), 1 media file(s), 0 artifact file(s) and 1 other file(s)"
      ],
      "text/plain": [
       "<IPython.core.display.HTML object>"
      ]
     },
     "metadata": {},
     "output_type": "display_data"
    },
    {
     "data": {
      "text/html": [
       "Find logs at: <code>./wandb/run-20220829_203625-eizfk11s/logs</code>"
      ],
      "text/plain": [
       "<IPython.core.display.HTML object>"
      ]
     },
     "metadata": {},
     "output_type": "display_data"
    },
    {
     "name": "stderr",
     "output_type": "stream",
     "text": [
      "\u001b[34m\u001b[1mwandb\u001b[0m: Agent Starting Run: i7iw7b9q with config:\n",
      "\u001b[34m\u001b[1mwandb\u001b[0m: \tbatch_size: 64\n",
      "\u001b[34m\u001b[1mwandb\u001b[0m: \tconv_layer_size: 32\n",
      "\u001b[34m\u001b[1mwandb\u001b[0m: \tdropout: 0.3\n",
      "\u001b[34m\u001b[1mwandb\u001b[0m: \tepochs: 10\n",
      "\u001b[34m\u001b[1mwandb\u001b[0m: \tlearning_rate: 0.01\n"
     ]
    },
    {
     "data": {
      "text/html": [
       "wandb version 0.13.2 is available!  To upgrade, please run:\n",
       " $ pip install wandb --upgrade"
      ],
      "text/plain": [
       "<IPython.core.display.HTML object>"
      ]
     },
     "metadata": {},
     "output_type": "display_data"
    },
    {
     "data": {
      "text/html": [
       "Tracking run with wandb version 0.12.11"
      ],
      "text/plain": [
       "<IPython.core.display.HTML object>"
      ]
     },
     "metadata": {},
     "output_type": "display_data"
    },
    {
     "data": {
      "text/html": [
       "Run data is saved locally in <code>/Users/msf/GitHub/TensorFlow_MusicGenre_Classifier/wandb/run-20220829_203819-i7iw7b9q</code>"
      ],
      "text/plain": [
       "<IPython.core.display.HTML object>"
      ]
     },
     "metadata": {},
     "output_type": "display_data"
    },
    {
     "data": {
      "text/html": [
       "Syncing run <strong><a href=\"https://wandb.ai/msaintfelix/Sweeps-Genre-Classifier/runs/i7iw7b9q\" target=\"_blank\">fragrant-sweep-21</a></strong> to <a href=\"https://wandb.ai/msaintfelix/Sweeps-Genre-Classifier\" target=\"_blank\">Weights & Biases</a> (<a href=\"https://wandb.me/run\" target=\"_blank\">docs</a>)<br/>Sweep page:  <a href=\"https://wandb.ai/msaintfelix/Sweeps-Genre-Classifier/sweeps/e7xdbkpy\" target=\"_blank\">https://wandb.ai/msaintfelix/Sweeps-Genre-Classifier/sweeps/e7xdbkpy</a>"
      ],
      "text/plain": [
       "<IPython.core.display.HTML object>"
      ]
     },
     "metadata": {},
     "output_type": "display_data"
    },
    {
     "name": "stdout",
     "output_type": "stream",
     "text": [
      "(9990, 125, 13)\n",
      "Model: \"sequential\"\n",
      "_________________________________________________________________\n",
      "Layer (type)                 Output Shape              Param #   \n",
      "=================================================================\n",
      "conv2d (Conv2D)              (None, 123, 11, 32)       320       \n",
      "_________________________________________________________________\n",
      "max_pooling2d (MaxPooling2D) (None, 62, 6, 32)         0         \n",
      "_________________________________________________________________\n",
      "batch_normalization (BatchNo (None, 62, 6, 32)         128       \n",
      "_________________________________________________________________\n",
      "conv2d_1 (Conv2D)            (None, 60, 4, 32)         9248      \n",
      "_________________________________________________________________\n",
      "max_pooling2d_1 (MaxPooling2 (None, 30, 2, 32)         0         \n",
      "_________________________________________________________________\n",
      "batch_normalization_1 (Batch (None, 30, 2, 32)         128       \n",
      "_________________________________________________________________\n",
      "conv2d_2 (Conv2D)            (None, 29, 1, 32)         4128      \n",
      "_________________________________________________________________\n",
      "max_pooling2d_2 (MaxPooling2 (None, 15, 1, 32)         0         \n",
      "_________________________________________________________________\n",
      "batch_normalization_2 (Batch (None, 15, 1, 32)         128       \n",
      "_________________________________________________________________\n",
      "dropout (Dropout)            (None, 15, 1, 32)         0         \n",
      "_________________________________________________________________\n",
      "flatten (Flatten)            (None, 480)               0         \n",
      "_________________________________________________________________\n",
      "dense (Dense)                (None, 64)                30784     \n",
      "_________________________________________________________________\n",
      "dense_1 (Dense)              (None, 10)                650       \n",
      "=================================================================\n",
      "Total params: 45,514\n",
      "Trainable params: 45,322\n",
      "Non-trainable params: 192\n",
      "_________________________________________________________________\n",
      "Epoch 1/10\n",
      "100/100 [==============================] - 9s 81ms/step - loss: 2.5460 - acc: 0.3238 - val_loss: 5.3921 - val_acc: 0.2963\n",
      "Epoch 2/10\n",
      "100/100 [==============================] - 7s 74ms/step - loss: 1.3289 - acc: 0.5301 - val_loss: 3.9007 - val_acc: 0.3604\n",
      "Epoch 3/10\n",
      "100/100 [==============================] - 7s 73ms/step - loss: 1.1345 - acc: 0.5975 - val_loss: 2.0269 - val_acc: 0.4745\n",
      "Epoch 4/10\n",
      "100/100 [==============================] - 7s 72ms/step - loss: 1.0330 - acc: 0.6392 - val_loss: 1.1340 - val_acc: 0.6341\n",
      "Epoch 5/10\n",
      "100/100 [==============================] - 7s 74ms/step - loss: 0.9154 - acc: 0.6673 - val_loss: 1.6220 - val_acc: 0.5816\n",
      "Epoch 6/10\n",
      "100/100 [==============================] - 8s 77ms/step - loss: 0.8650 - acc: 0.6981 - val_loss: 1.7282 - val_acc: 0.5000\n",
      "Epoch 7/10\n",
      "100/100 [==============================] - 8s 75ms/step - loss: 0.8113 - acc: 0.7168 - val_loss: 1.2326 - val_acc: 0.6632\n",
      "Epoch 8/10\n",
      "100/100 [==============================] - 8s 76ms/step - loss: 0.7803 - acc: 0.7269 - val_loss: 0.9907 - val_acc: 0.6947\n",
      "Epoch 9/10\n",
      "100/100 [==============================] - 7s 73ms/step - loss: 0.7317 - acc: 0.7474 - val_loss: 1.0430 - val_acc: 0.6912\n",
      "Epoch 10/10\n",
      "100/100 [==============================] - 8s 77ms/step - loss: 0.6862 - acc: 0.7607 - val_loss: 0.9927 - val_acc: 0.6682\n",
      "\n",
      "---Now testing the model for one audio file---\n",
      "The model predicts: hiphop, and ground truth is: metal.\n",
      "\n",
      "\n"
     ]
    },
    {
     "data": {
      "text/html": [
       "Waiting for W&B process to finish... <strong style=\"color:green\">(success).</strong>"
      ],
      "text/plain": [
       "<IPython.core.display.HTML object>"
      ]
     },
     "metadata": {},
     "output_type": "display_data"
    },
    {
     "data": {
      "application/vnd.jupyter.widget-view+json": {
       "model_id": "",
       "version_major": 2,
       "version_minor": 0
      },
      "text/plain": [
       "VBox(children=(Label(value='0.419 MB of 0.419 MB uploaded (0.000 MB deduped)\\r'), FloatProgress(value=1.0, max…"
      ]
     },
     "metadata": {},
     "output_type": "display_data"
    },
    {
     "data": {
      "text/html": [
       "<style>\n",
       "    table.wandb td:nth-child(1) { padding: 0 10px; text-align: right }\n",
       "    .wandb-row { display: flex; flex-direction: row; flex-wrap: wrap; width: 100% }\n",
       "    .wandb-col { display: flex; flex-direction: column; flex-basis: 100%; flex: 1; padding: 10px; }\n",
       "    </style>\n",
       "<div class=\"wandb-row\"><div class=\"wandb-col\"><h3>Run history:</h3><br/><table class=\"wandb\"><tr><td>acc</td><td>▁▄▅▆▆▇▇▇██</td></tr><tr><td>epoch</td><td>▁▂▃▃▄▅▆▆▇█</td></tr><tr><td>loss</td><td>█▅▄▃▂▂▂▁▁▁</td></tr><tr><td>val_acc</td><td>▁▂▄▇▆▅▇███</td></tr><tr><td>val_loss</td><td>█▆▃▁▂▂▁▁▁▁</td></tr></table><br/></div><div class=\"wandb-col\"><h3>Run summary:</h3><br/><table class=\"wandb\"><tr><td>acc</td><td>0.75598</td></tr><tr><td>best_epoch</td><td>7</td></tr><tr><td>best_val_loss</td><td>0.99073</td></tr><tr><td>epoch</td><td>9</td></tr><tr><td>loss</td><td>0.70778</td></tr><tr><td>val_acc</td><td>0.66817</td></tr><tr><td>val_loss</td><td>0.99267</td></tr></table><br/></div></div>"
      ],
      "text/plain": [
       "<IPython.core.display.HTML object>"
      ]
     },
     "metadata": {},
     "output_type": "display_data"
    },
    {
     "data": {
      "text/html": [
       "Synced <strong style=\"color:#cdcd00\">fragrant-sweep-21</strong>: <a href=\"https://wandb.ai/msaintfelix/Sweeps-Genre-Classifier/runs/i7iw7b9q\" target=\"_blank\">https://wandb.ai/msaintfelix/Sweeps-Genre-Classifier/runs/i7iw7b9q</a><br/>Synced 6 W&B file(s), 1 media file(s), 0 artifact file(s) and 1 other file(s)"
      ],
      "text/plain": [
       "<IPython.core.display.HTML object>"
      ]
     },
     "metadata": {},
     "output_type": "display_data"
    },
    {
     "data": {
      "text/html": [
       "Find logs at: <code>./wandb/run-20220829_203819-i7iw7b9q/logs</code>"
      ],
      "text/plain": [
       "<IPython.core.display.HTML object>"
      ]
     },
     "metadata": {},
     "output_type": "display_data"
    },
    {
     "name": "stderr",
     "output_type": "stream",
     "text": [
      "\u001b[34m\u001b[1mwandb\u001b[0m: Sweep Agent: Waiting for job.\n",
      "\u001b[34m\u001b[1mwandb\u001b[0m: Job received.\n",
      "\u001b[34m\u001b[1mwandb\u001b[0m: Agent Starting Run: mvtu6b3g with config:\n",
      "\u001b[34m\u001b[1mwandb\u001b[0m: \tbatch_size: 32\n",
      "\u001b[34m\u001b[1mwandb\u001b[0m: \tconv_layer_size: 64\n",
      "\u001b[34m\u001b[1mwandb\u001b[0m: \tdropout: 0.3\n",
      "\u001b[34m\u001b[1mwandb\u001b[0m: \tepochs: 15\n",
      "\u001b[34m\u001b[1mwandb\u001b[0m: \tlearning_rate: 0.0001\n"
     ]
    },
    {
     "data": {
      "text/html": [
       "wandb version 0.13.2 is available!  To upgrade, please run:\n",
       " $ pip install wandb --upgrade"
      ],
      "text/plain": [
       "<IPython.core.display.HTML object>"
      ]
     },
     "metadata": {},
     "output_type": "display_data"
    },
    {
     "data": {
      "text/html": [
       "Tracking run with wandb version 0.12.11"
      ],
      "text/plain": [
       "<IPython.core.display.HTML object>"
      ]
     },
     "metadata": {},
     "output_type": "display_data"
    },
    {
     "data": {
      "text/html": [
       "Run data is saved locally in <code>/Users/msf/GitHub/TensorFlow_MusicGenre_Classifier/wandb/run-20220829_204013-mvtu6b3g</code>"
      ],
      "text/plain": [
       "<IPython.core.display.HTML object>"
      ]
     },
     "metadata": {},
     "output_type": "display_data"
    },
    {
     "data": {
      "text/html": [
       "Syncing run <strong><a href=\"https://wandb.ai/msaintfelix/Sweeps-Genre-Classifier/runs/mvtu6b3g\" target=\"_blank\">solar-sweep-22</a></strong> to <a href=\"https://wandb.ai/msaintfelix/Sweeps-Genre-Classifier\" target=\"_blank\">Weights & Biases</a> (<a href=\"https://wandb.me/run\" target=\"_blank\">docs</a>)<br/>Sweep page:  <a href=\"https://wandb.ai/msaintfelix/Sweeps-Genre-Classifier/sweeps/e7xdbkpy\" target=\"_blank\">https://wandb.ai/msaintfelix/Sweeps-Genre-Classifier/sweeps/e7xdbkpy</a>"
      ],
      "text/plain": [
       "<IPython.core.display.HTML object>"
      ]
     },
     "metadata": {},
     "output_type": "display_data"
    },
    {
     "name": "stdout",
     "output_type": "stream",
     "text": [
      "(9990, 125, 13)\n",
      "Model: \"sequential\"\n",
      "_________________________________________________________________\n",
      "Layer (type)                 Output Shape              Param #   \n",
      "=================================================================\n",
      "conv2d (Conv2D)              (None, 123, 11, 64)       640       \n",
      "_________________________________________________________________\n",
      "max_pooling2d (MaxPooling2D) (None, 62, 6, 64)         0         \n",
      "_________________________________________________________________\n",
      "batch_normalization (BatchNo (None, 62, 6, 64)         256       \n",
      "_________________________________________________________________\n",
      "conv2d_1 (Conv2D)            (None, 60, 4, 64)         36928     \n",
      "_________________________________________________________________\n",
      "max_pooling2d_1 (MaxPooling2 (None, 30, 2, 64)         0         \n",
      "_________________________________________________________________\n",
      "batch_normalization_1 (Batch (None, 30, 2, 64)         256       \n",
      "_________________________________________________________________\n",
      "conv2d_2 (Conv2D)            (None, 29, 1, 64)         16448     \n",
      "_________________________________________________________________\n",
      "max_pooling2d_2 (MaxPooling2 (None, 15, 1, 64)         0         \n",
      "_________________________________________________________________\n",
      "batch_normalization_2 (Batch (None, 15, 1, 64)         256       \n",
      "_________________________________________________________________\n",
      "dropout (Dropout)            (None, 15, 1, 64)         0         \n",
      "_________________________________________________________________\n",
      "flatten (Flatten)            (None, 960)               0         \n",
      "_________________________________________________________________\n",
      "dense (Dense)                (None, 64)                61504     \n",
      "_________________________________________________________________\n",
      "dense_1 (Dense)              (None, 10)                650       \n",
      "=================================================================\n",
      "Total params: 116,938\n",
      "Trainable params: 116,554\n",
      "Non-trainable params: 384\n",
      "_________________________________________________________________\n",
      "Epoch 1/15\n",
      "200/200 [==============================] - 16s 77ms/step - loss: 2.4942 - acc: 0.2359 - val_loss: 1.5870 - val_acc: 0.4114\n",
      "Epoch 2/15\n",
      "200/200 [==============================] - 15s 77ms/step - loss: 1.5332 - acc: 0.4611 - val_loss: 1.3585 - val_acc: 0.5040\n",
      "Epoch 3/15\n",
      "200/200 [==============================] - 15s 76ms/step - loss: 1.3509 - acc: 0.5186 - val_loss: 1.2589 - val_acc: 0.5405\n",
      "Epoch 4/15\n",
      "200/200 [==============================] - 15s 77ms/step - loss: 1.1815 - acc: 0.5761 - val_loss: 1.1406 - val_acc: 0.5846\n",
      "Epoch 5/15\n",
      "200/200 [==============================] - 15s 76ms/step - loss: 1.1087 - acc: 0.6109 - val_loss: 1.0615 - val_acc: 0.6141\n",
      "Epoch 6/15\n",
      "200/200 [==============================] - 15s 77ms/step - loss: 0.9912 - acc: 0.6437 - val_loss: 1.0495 - val_acc: 0.6291\n",
      "Epoch 7/15\n",
      "200/200 [==============================] - 15s 76ms/step - loss: 0.9358 - acc: 0.6660 - val_loss: 0.9676 - val_acc: 0.6527\n",
      "Epoch 8/15\n",
      "200/200 [==============================] - 15s 77ms/step - loss: 0.8467 - acc: 0.7096 - val_loss: 0.9599 - val_acc: 0.6597\n",
      "Epoch 9/15\n",
      "200/200 [==============================] - 15s 77ms/step - loss: 0.8169 - acc: 0.7229 - val_loss: 0.9221 - val_acc: 0.6697\n",
      "Epoch 10/15\n",
      "200/200 [==============================] - 15s 74ms/step - loss: 0.7669 - acc: 0.7318 - val_loss: 0.9091 - val_acc: 0.6837\n",
      "Epoch 11/15\n",
      "200/200 [==============================] - 14s 72ms/step - loss: 0.7262 - acc: 0.7467 - val_loss: 0.8826 - val_acc: 0.6922\n",
      "Epoch 12/15\n",
      "200/200 [==============================] - 14s 72ms/step - loss: 0.6701 - acc: 0.7754 - val_loss: 0.8276 - val_acc: 0.7102\n",
      "Epoch 13/15\n",
      "200/200 [==============================] - 14s 72ms/step - loss: 0.6465 - acc: 0.7763 - val_loss: 0.8108 - val_acc: 0.7152\n",
      "Epoch 14/15\n",
      "200/200 [==============================] - 14s 72ms/step - loss: 0.5990 - acc: 0.7915 - val_loss: 0.8530 - val_acc: 0.7027\n",
      "Epoch 15/15\n",
      "200/200 [==============================] - 14s 72ms/step - loss: 0.5808 - acc: 0.7947 - val_loss: 0.8752 - val_acc: 0.7037\n",
      "\n",
      "---Now testing the model for one audio file---\n",
      "The model predicts: pop, and ground truth is: pop.\n",
      "\n",
      "\n"
     ]
    },
    {
     "data": {
      "text/html": [
       "Waiting for W&B process to finish... <strong style=\"color:green\">(success).</strong>"
      ],
      "text/plain": [
       "<IPython.core.display.HTML object>"
      ]
     },
     "metadata": {},
     "output_type": "display_data"
    },
    {
     "data": {
      "application/vnd.jupyter.widget-view+json": {
       "model_id": "",
       "version_major": 2,
       "version_minor": 0
      },
      "text/plain": [
       "VBox(children=(Label(value='0.965 MB of 0.965 MB uploaded (0.000 MB deduped)\\r'), FloatProgress(value=1.0, max…"
      ]
     },
     "metadata": {},
     "output_type": "display_data"
    },
    {
     "data": {
      "text/html": [
       "<style>\n",
       "    table.wandb td:nth-child(1) { padding: 0 10px; text-align: right }\n",
       "    .wandb-row { display: flex; flex-direction: row; flex-wrap: wrap; width: 100% }\n",
       "    .wandb-col { display: flex; flex-direction: column; flex-basis: 100%; flex: 1; padding: 10px; }\n",
       "    </style>\n",
       "<div class=\"wandb-row\"><div class=\"wandb-col\"><h3>Run history:</h3><br/><table class=\"wandb\"><tr><td>acc</td><td>▁▃▄▅▅▆▆▇▇▇▇████</td></tr><tr><td>epoch</td><td>▁▁▂▃▃▃▄▅▅▅▆▇▇▇█</td></tr><tr><td>loss</td><td>█▅▄▄▃▃▃▂▂▂▂▁▁▁▁</td></tr><tr><td>val_acc</td><td>▁▃▄▅▆▆▇▇▇▇▇████</td></tr><tr><td>val_loss</td><td>█▆▅▄▃▃▂▂▂▂▂▁▁▁▂</td></tr></table><br/></div><div class=\"wandb-col\"><h3>Run summary:</h3><br/><table class=\"wandb\"><tr><td>acc</td><td>0.79524</td></tr><tr><td>best_epoch</td><td>12</td></tr><tr><td>best_val_loss</td><td>0.81082</td></tr><tr><td>epoch</td><td>14</td></tr><tr><td>loss</td><td>0.59597</td></tr><tr><td>val_acc</td><td>0.7037</td></tr><tr><td>val_loss</td><td>0.87517</td></tr></table><br/></div></div>"
      ],
      "text/plain": [
       "<IPython.core.display.HTML object>"
      ]
     },
     "metadata": {},
     "output_type": "display_data"
    },
    {
     "data": {
      "text/html": [
       "Synced <strong style=\"color:#cdcd00\">solar-sweep-22</strong>: <a href=\"https://wandb.ai/msaintfelix/Sweeps-Genre-Classifier/runs/mvtu6b3g\" target=\"_blank\">https://wandb.ai/msaintfelix/Sweeps-Genre-Classifier/runs/mvtu6b3g</a><br/>Synced 6 W&B file(s), 1 media file(s), 0 artifact file(s) and 1 other file(s)"
      ],
      "text/plain": [
       "<IPython.core.display.HTML object>"
      ]
     },
     "metadata": {},
     "output_type": "display_data"
    },
    {
     "data": {
      "text/html": [
       "Find logs at: <code>./wandb/run-20220829_204013-mvtu6b3g/logs</code>"
      ],
      "text/plain": [
       "<IPython.core.display.HTML object>"
      ]
     },
     "metadata": {},
     "output_type": "display_data"
    },
    {
     "name": "stderr",
     "output_type": "stream",
     "text": [
      "\u001b[34m\u001b[1mwandb\u001b[0m: Agent Starting Run: 97poonz8 with config:\n",
      "\u001b[34m\u001b[1mwandb\u001b[0m: \tbatch_size: 64\n",
      "\u001b[34m\u001b[1mwandb\u001b[0m: \tconv_layer_size: 64\n",
      "\u001b[34m\u001b[1mwandb\u001b[0m: \tdropout: 0.3\n",
      "\u001b[34m\u001b[1mwandb\u001b[0m: \tepochs: 5\n",
      "\u001b[34m\u001b[1mwandb\u001b[0m: \tlearning_rate: 0.01\n"
     ]
    },
    {
     "data": {
      "text/html": [
       "wandb version 0.13.2 is available!  To upgrade, please run:\n",
       " $ pip install wandb --upgrade"
      ],
      "text/plain": [
       "<IPython.core.display.HTML object>"
      ]
     },
     "metadata": {},
     "output_type": "display_data"
    },
    {
     "data": {
      "text/html": [
       "Tracking run with wandb version 0.12.11"
      ],
      "text/plain": [
       "<IPython.core.display.HTML object>"
      ]
     },
     "metadata": {},
     "output_type": "display_data"
    },
    {
     "data": {
      "text/html": [
       "Run data is saved locally in <code>/Users/msf/GitHub/TensorFlow_MusicGenre_Classifier/wandb/run-20220829_204432-97poonz8</code>"
      ],
      "text/plain": [
       "<IPython.core.display.HTML object>"
      ]
     },
     "metadata": {},
     "output_type": "display_data"
    },
    {
     "data": {
      "text/html": [
       "Syncing run <strong><a href=\"https://wandb.ai/msaintfelix/Sweeps-Genre-Classifier/runs/97poonz8\" target=\"_blank\">solar-sweep-23</a></strong> to <a href=\"https://wandb.ai/msaintfelix/Sweeps-Genre-Classifier\" target=\"_blank\">Weights & Biases</a> (<a href=\"https://wandb.me/run\" target=\"_blank\">docs</a>)<br/>Sweep page:  <a href=\"https://wandb.ai/msaintfelix/Sweeps-Genre-Classifier/sweeps/e7xdbkpy\" target=\"_blank\">https://wandb.ai/msaintfelix/Sweeps-Genre-Classifier/sweeps/e7xdbkpy</a>"
      ],
      "text/plain": [
       "<IPython.core.display.HTML object>"
      ]
     },
     "metadata": {},
     "output_type": "display_data"
    },
    {
     "name": "stdout",
     "output_type": "stream",
     "text": [
      "(9990, 125, 13)\n",
      "Model: \"sequential\"\n",
      "_________________________________________________________________\n",
      "Layer (type)                 Output Shape              Param #   \n",
      "=================================================================\n",
      "conv2d (Conv2D)              (None, 123, 11, 64)       640       \n",
      "_________________________________________________________________\n",
      "max_pooling2d (MaxPooling2D) (None, 62, 6, 64)         0         \n",
      "_________________________________________________________________\n",
      "batch_normalization (BatchNo (None, 62, 6, 64)         256       \n",
      "_________________________________________________________________\n",
      "conv2d_1 (Conv2D)            (None, 60, 4, 64)         36928     \n",
      "_________________________________________________________________\n",
      "max_pooling2d_1 (MaxPooling2 (None, 30, 2, 64)         0         \n",
      "_________________________________________________________________\n",
      "batch_normalization_1 (Batch (None, 30, 2, 64)         256       \n",
      "_________________________________________________________________\n",
      "conv2d_2 (Conv2D)            (None, 29, 1, 64)         16448     \n",
      "_________________________________________________________________\n",
      "max_pooling2d_2 (MaxPooling2 (None, 15, 1, 64)         0         \n",
      "_________________________________________________________________\n",
      "batch_normalization_2 (Batch (None, 15, 1, 64)         256       \n",
      "_________________________________________________________________\n",
      "dropout (Dropout)            (None, 15, 1, 64)         0         \n",
      "_________________________________________________________________\n",
      "flatten (Flatten)            (None, 960)               0         \n",
      "_________________________________________________________________\n",
      "dense (Dense)                (None, 64)                61504     \n",
      "_________________________________________________________________\n",
      "dense_1 (Dense)              (None, 10)                650       \n",
      "=================================================================\n",
      "Total params: 116,938\n",
      "Trainable params: 116,554\n",
      "Non-trainable params: 384\n",
      "_________________________________________________________________\n",
      "Epoch 1/5\n",
      "100/100 [==============================] - 14s 132ms/step - loss: 3.6494 - acc: 0.2868 - val_loss: 22.8689 - val_acc: 0.1341\n",
      "Epoch 2/5\n",
      "100/100 [==============================] - 13s 130ms/step - loss: 1.4615 - acc: 0.4728 - val_loss: 6.4751 - val_acc: 0.3358\n",
      "Epoch 3/5\n",
      "100/100 [==============================] - 13s 130ms/step - loss: 1.2391 - acc: 0.5601 - val_loss: 11.3270 - val_acc: 0.3463\n",
      "Epoch 4/5\n",
      "100/100 [==============================] - 14s 136ms/step - loss: 1.1431 - acc: 0.5899 - val_loss: 6.0269 - val_acc: 0.2878\n",
      "Epoch 5/5\n",
      "100/100 [==============================] - 13s 133ms/step - loss: 1.0525 - acc: 0.6394 - val_loss: 2.4981 - val_acc: 0.4885\n",
      "\n",
      "---Now testing the model for one audio file---\n",
      "The model predicts: disco, and ground truth is: rock.\n",
      "\n",
      "\n"
     ]
    },
    {
     "data": {
      "text/html": [
       "Waiting for W&B process to finish... <strong style=\"color:green\">(success).</strong>"
      ],
      "text/plain": [
       "<IPython.core.display.HTML object>"
      ]
     },
     "metadata": {},
     "output_type": "display_data"
    },
    {
     "data": {
      "application/vnd.jupyter.widget-view+json": {
       "model_id": "",
       "version_major": 2,
       "version_minor": 0
      },
      "text/plain": [
       "VBox(children=(Label(value='0.965 MB of 0.965 MB uploaded (0.000 MB deduped)\\r'), FloatProgress(value=1.0, max…"
      ]
     },
     "metadata": {},
     "output_type": "display_data"
    },
    {
     "data": {
      "text/html": [
       "<style>\n",
       "    table.wandb td:nth-child(1) { padding: 0 10px; text-align: right }\n",
       "    .wandb-row { display: flex; flex-direction: row; flex-wrap: wrap; width: 100% }\n",
       "    .wandb-col { display: flex; flex-direction: column; flex-basis: 100%; flex: 1; padding: 10px; }\n",
       "    </style>\n",
       "<div class=\"wandb-row\"><div class=\"wandb-col\"><h3>Run history:</h3><br/><table class=\"wandb\"><tr><td>acc</td><td>▁▄▆▇█</td></tr><tr><td>epoch</td><td>▁▃▅▆█</td></tr><tr><td>loss</td><td>█▃▂▁▁</td></tr><tr><td>val_acc</td><td>▁▅▅▄█</td></tr><tr><td>val_loss</td><td>█▂▄▂▁</td></tr></table><br/></div><div class=\"wandb-col\"><h3>Run summary:</h3><br/><table class=\"wandb\"><tr><td>acc</td><td>0.64727</td></tr><tr><td>best_epoch</td><td>4</td></tr><tr><td>best_val_loss</td><td>2.4981</td></tr><tr><td>epoch</td><td>4</td></tr><tr><td>loss</td><td>1.02792</td></tr><tr><td>val_acc</td><td>0.48849</td></tr><tr><td>val_loss</td><td>2.4981</td></tr></table><br/></div></div>"
      ],
      "text/plain": [
       "<IPython.core.display.HTML object>"
      ]
     },
     "metadata": {},
     "output_type": "display_data"
    },
    {
     "data": {
      "text/html": [
       "Synced <strong style=\"color:#cdcd00\">solar-sweep-23</strong>: <a href=\"https://wandb.ai/msaintfelix/Sweeps-Genre-Classifier/runs/97poonz8\" target=\"_blank\">https://wandb.ai/msaintfelix/Sweeps-Genre-Classifier/runs/97poonz8</a><br/>Synced 6 W&B file(s), 1 media file(s), 0 artifact file(s) and 1 other file(s)"
      ],
      "text/plain": [
       "<IPython.core.display.HTML object>"
      ]
     },
     "metadata": {},
     "output_type": "display_data"
    },
    {
     "data": {
      "text/html": [
       "Find logs at: <code>./wandb/run-20220829_204432-97poonz8/logs</code>"
      ],
      "text/plain": [
       "<IPython.core.display.HTML object>"
      ]
     },
     "metadata": {},
     "output_type": "display_data"
    },
    {
     "name": "stderr",
     "output_type": "stream",
     "text": [
      "\u001b[34m\u001b[1mwandb\u001b[0m: Sweep Agent: Waiting for job.\n",
      "\u001b[34m\u001b[1mwandb\u001b[0m: Job received.\n",
      "\u001b[34m\u001b[1mwandb\u001b[0m: Agent Starting Run: i1b7udll with config:\n",
      "\u001b[34m\u001b[1mwandb\u001b[0m: \tbatch_size: 32\n",
      "\u001b[34m\u001b[1mwandb\u001b[0m: \tconv_layer_size: 16\n",
      "\u001b[34m\u001b[1mwandb\u001b[0m: \tdropout: 0.4\n",
      "\u001b[34m\u001b[1mwandb\u001b[0m: \tepochs: 15\n",
      "\u001b[34m\u001b[1mwandb\u001b[0m: \tlearning_rate: 0.0001\n"
     ]
    },
    {
     "data": {
      "text/html": [
       "wandb version 0.13.2 is available!  To upgrade, please run:\n",
       " $ pip install wandb --upgrade"
      ],
      "text/plain": [
       "<IPython.core.display.HTML object>"
      ]
     },
     "metadata": {},
     "output_type": "display_data"
    },
    {
     "data": {
      "text/html": [
       "Tracking run with wandb version 0.12.11"
      ],
      "text/plain": [
       "<IPython.core.display.HTML object>"
      ]
     },
     "metadata": {},
     "output_type": "display_data"
    },
    {
     "data": {
      "text/html": [
       "Run data is saved locally in <code>/Users/msf/GitHub/TensorFlow_MusicGenre_Classifier/wandb/run-20220829_204613-i1b7udll</code>"
      ],
      "text/plain": [
       "<IPython.core.display.HTML object>"
      ]
     },
     "metadata": {},
     "output_type": "display_data"
    },
    {
     "data": {
      "text/html": [
       "Syncing run <strong><a href=\"https://wandb.ai/msaintfelix/Sweeps-Genre-Classifier/runs/i1b7udll\" target=\"_blank\">usual-sweep-24</a></strong> to <a href=\"https://wandb.ai/msaintfelix/Sweeps-Genre-Classifier\" target=\"_blank\">Weights & Biases</a> (<a href=\"https://wandb.me/run\" target=\"_blank\">docs</a>)<br/>Sweep page:  <a href=\"https://wandb.ai/msaintfelix/Sweeps-Genre-Classifier/sweeps/e7xdbkpy\" target=\"_blank\">https://wandb.ai/msaintfelix/Sweeps-Genre-Classifier/sweeps/e7xdbkpy</a>"
      ],
      "text/plain": [
       "<IPython.core.display.HTML object>"
      ]
     },
     "metadata": {},
     "output_type": "display_data"
    },
    {
     "name": "stdout",
     "output_type": "stream",
     "text": [
      "(9990, 125, 13)\n",
      "Model: \"sequential\"\n",
      "_________________________________________________________________\n",
      "Layer (type)                 Output Shape              Param #   \n",
      "=================================================================\n",
      "conv2d (Conv2D)              (None, 123, 11, 16)       160       \n",
      "_________________________________________________________________\n",
      "max_pooling2d (MaxPooling2D) (None, 62, 6, 16)         0         \n",
      "_________________________________________________________________\n",
      "batch_normalization (BatchNo (None, 62, 6, 16)         64        \n",
      "_________________________________________________________________\n",
      "conv2d_1 (Conv2D)            (None, 60, 4, 16)         2320      \n",
      "_________________________________________________________________\n",
      "max_pooling2d_1 (MaxPooling2 (None, 30, 2, 16)         0         \n",
      "_________________________________________________________________\n",
      "batch_normalization_1 (Batch (None, 30, 2, 16)         64        \n",
      "_________________________________________________________________\n",
      "conv2d_2 (Conv2D)            (None, 29, 1, 16)         1040      \n",
      "_________________________________________________________________\n",
      "max_pooling2d_2 (MaxPooling2 (None, 15, 1, 16)         0         \n",
      "_________________________________________________________________\n",
      "batch_normalization_2 (Batch (None, 15, 1, 16)         64        \n",
      "_________________________________________________________________\n",
      "dropout (Dropout)            (None, 15, 1, 16)         0         \n",
      "_________________________________________________________________\n",
      "flatten (Flatten)            (None, 240)               0         \n",
      "_________________________________________________________________\n",
      "dense (Dense)                (None, 64)                15424     \n",
      "_________________________________________________________________\n",
      "dense_1 (Dense)              (None, 10)                650       \n",
      "=================================================================\n",
      "Total params: 19,786\n",
      "Trainable params: 19,690\n",
      "Non-trainable params: 96\n",
      "_________________________________________________________________\n",
      "Epoch 1/15\n",
      "200/200 [==============================] - 6s 24ms/step - loss: 2.8496 - acc: 0.1292 - val_loss: 2.0212 - val_acc: 0.2808\n",
      "Epoch 2/15\n",
      "200/200 [==============================] - 5s 24ms/step - loss: 2.1352 - acc: 0.2803 - val_loss: 1.7398 - val_acc: 0.3689\n",
      "Epoch 3/15\n",
      "200/200 [==============================] - 5s 23ms/step - loss: 1.8399 - acc: 0.3500 - val_loss: 1.5787 - val_acc: 0.4224\n",
      "Epoch 4/15\n",
      "200/200 [==============================] - 5s 23ms/step - loss: 1.7446 - acc: 0.3704 - val_loss: 1.4920 - val_acc: 0.4469\n",
      "Epoch 5/15\n",
      "200/200 [==============================] - 5s 24ms/step - loss: 1.6232 - acc: 0.4076 - val_loss: 1.4326 - val_acc: 0.4580\n",
      "Epoch 6/15\n",
      "200/200 [==============================] - 5s 24ms/step - loss: 1.5556 - acc: 0.4324 - val_loss: 1.3795 - val_acc: 0.4825\n",
      "Epoch 7/15\n",
      "200/200 [==============================] - 5s 25ms/step - loss: 1.4707 - acc: 0.4653 - val_loss: 1.3494 - val_acc: 0.4900\n",
      "Epoch 8/15\n",
      "200/200 [==============================] - 5s 24ms/step - loss: 1.4278 - acc: 0.4726 - val_loss: 1.3056 - val_acc: 0.5080\n",
      "Epoch 9/15\n",
      "200/200 [==============================] - 5s 24ms/step - loss: 1.3768 - acc: 0.5022 - val_loss: 1.2781 - val_acc: 0.5175\n",
      "Epoch 10/15\n",
      "200/200 [==============================] - 5s 24ms/step - loss: 1.4032 - acc: 0.4782 - val_loss: 1.2619 - val_acc: 0.5270\n",
      "Epoch 11/15\n",
      "200/200 [==============================] - 5s 24ms/step - loss: 1.3471 - acc: 0.5081 - val_loss: 1.2325 - val_acc: 0.5415\n",
      "Epoch 12/15\n",
      "200/200 [==============================] - 5s 24ms/step - loss: 1.3134 - acc: 0.5236 - val_loss: 1.2027 - val_acc: 0.5586\n",
      "Epoch 13/15\n",
      "200/200 [==============================] - 5s 25ms/step - loss: 1.2981 - acc: 0.5273 - val_loss: 1.1769 - val_acc: 0.5621\n",
      "Epoch 14/15\n",
      "200/200 [==============================] - 5s 25ms/step - loss: 1.2681 - acc: 0.5454 - val_loss: 1.1609 - val_acc: 0.5771\n",
      "Epoch 15/15\n",
      "200/200 [==============================] - 5s 24ms/step - loss: 1.2478 - acc: 0.5477 - val_loss: 1.1662 - val_acc: 0.5706\n",
      "\n",
      "---Now testing the model for one audio file---\n",
      "The model predicts: metal, and ground truth is: metal.\n",
      "\n",
      "\n"
     ]
    },
    {
     "data": {
      "text/html": [
       "Waiting for W&B process to finish... <strong style=\"color:green\">(success).</strong>"
      ],
      "text/plain": [
       "<IPython.core.display.HTML object>"
      ]
     },
     "metadata": {},
     "output_type": "display_data"
    },
    {
     "data": {
      "application/vnd.jupyter.widget-view+json": {
       "model_id": "",
       "version_major": 2,
       "version_minor": 0
      },
      "text/plain": [
       "VBox(children=(Label(value='0.224 MB of 0.224 MB uploaded (0.000 MB deduped)\\r'), FloatProgress(value=1.0, max…"
      ]
     },
     "metadata": {},
     "output_type": "display_data"
    },
    {
     "data": {
      "text/html": [
       "<style>\n",
       "    table.wandb td:nth-child(1) { padding: 0 10px; text-align: right }\n",
       "    .wandb-row { display: flex; flex-direction: row; flex-wrap: wrap; width: 100% }\n",
       "    .wandb-col { display: flex; flex-direction: column; flex-basis: 100%; flex: 1; padding: 10px; }\n",
       "    </style>\n",
       "<div class=\"wandb-row\"><div class=\"wandb-col\"><h3>Run history:</h3><br/><table class=\"wandb\"><tr><td>acc</td><td>▁▃▄▅▅▆▆▇▇▇▇▇███</td></tr><tr><td>epoch</td><td>▁▁▂▃▃▃▄▅▅▅▆▇▇▇█</td></tr><tr><td>loss</td><td>█▅▄▃▃▃▂▂▂▂▂▁▁▁▁</td></tr><tr><td>val_acc</td><td>▁▃▄▅▅▆▆▆▇▇▇████</td></tr><tr><td>val_loss</td><td>█▆▄▄▃▃▃▂▂▂▂▁▁▁▁</td></tr></table><br/></div><div class=\"wandb-col\"><h3>Run summary:</h3><br/><table class=\"wandb\"><tr><td>acc</td><td>0.55467</td></tr><tr><td>best_epoch</td><td>13</td></tr><tr><td>best_val_loss</td><td>1.16086</td></tr><tr><td>epoch</td><td>14</td></tr><tr><td>loss</td><td>1.2243</td></tr><tr><td>val_acc</td><td>0.57057</td></tr><tr><td>val_loss</td><td>1.16621</td></tr></table><br/></div></div>"
      ],
      "text/plain": [
       "<IPython.core.display.HTML object>"
      ]
     },
     "metadata": {},
     "output_type": "display_data"
    },
    {
     "data": {
      "text/html": [
       "Synced <strong style=\"color:#cdcd00\">usual-sweep-24</strong>: <a href=\"https://wandb.ai/msaintfelix/Sweeps-Genre-Classifier/runs/i1b7udll\" target=\"_blank\">https://wandb.ai/msaintfelix/Sweeps-Genre-Classifier/runs/i1b7udll</a><br/>Synced 6 W&B file(s), 1 media file(s), 0 artifact file(s) and 1 other file(s)"
      ],
      "text/plain": [
       "<IPython.core.display.HTML object>"
      ]
     },
     "metadata": {},
     "output_type": "display_data"
    },
    {
     "data": {
      "text/html": [
       "Find logs at: <code>./wandb/run-20220829_204613-i1b7udll/logs</code>"
      ],
      "text/plain": [
       "<IPython.core.display.HTML object>"
      ]
     },
     "metadata": {},
     "output_type": "display_data"
    },
    {
     "name": "stderr",
     "output_type": "stream",
     "text": [
      "\u001b[34m\u001b[1mwandb\u001b[0m: Agent Starting Run: 28vmwgbx with config:\n",
      "\u001b[34m\u001b[1mwandb\u001b[0m: \tbatch_size: 64\n",
      "\u001b[34m\u001b[1mwandb\u001b[0m: \tconv_layer_size: 64\n",
      "\u001b[34m\u001b[1mwandb\u001b[0m: \tdropout: 0.4\n",
      "\u001b[34m\u001b[1mwandb\u001b[0m: \tepochs: 15\n",
      "\u001b[34m\u001b[1mwandb\u001b[0m: \tlearning_rate: 0.01\n"
     ]
    },
    {
     "data": {
      "text/html": [
       "wandb version 0.13.2 is available!  To upgrade, please run:\n",
       " $ pip install wandb --upgrade"
      ],
      "text/plain": [
       "<IPython.core.display.HTML object>"
      ]
     },
     "metadata": {},
     "output_type": "display_data"
    },
    {
     "data": {
      "text/html": [
       "Tracking run with wandb version 0.12.11"
      ],
      "text/plain": [
       "<IPython.core.display.HTML object>"
      ]
     },
     "metadata": {},
     "output_type": "display_data"
    },
    {
     "data": {
      "text/html": [
       "Run data is saved locally in <code>/Users/msf/GitHub/TensorFlow_MusicGenre_Classifier/wandb/run-20220829_204756-28vmwgbx</code>"
      ],
      "text/plain": [
       "<IPython.core.display.HTML object>"
      ]
     },
     "metadata": {},
     "output_type": "display_data"
    },
    {
     "data": {
      "text/html": [
       "Syncing run <strong><a href=\"https://wandb.ai/msaintfelix/Sweeps-Genre-Classifier/runs/28vmwgbx\" target=\"_blank\">major-sweep-25</a></strong> to <a href=\"https://wandb.ai/msaintfelix/Sweeps-Genre-Classifier\" target=\"_blank\">Weights & Biases</a> (<a href=\"https://wandb.me/run\" target=\"_blank\">docs</a>)<br/>Sweep page:  <a href=\"https://wandb.ai/msaintfelix/Sweeps-Genre-Classifier/sweeps/e7xdbkpy\" target=\"_blank\">https://wandb.ai/msaintfelix/Sweeps-Genre-Classifier/sweeps/e7xdbkpy</a>"
      ],
      "text/plain": [
       "<IPython.core.display.HTML object>"
      ]
     },
     "metadata": {},
     "output_type": "display_data"
    },
    {
     "name": "stdout",
     "output_type": "stream",
     "text": [
      "(9990, 125, 13)\n",
      "Model: \"sequential\"\n",
      "_________________________________________________________________\n",
      "Layer (type)                 Output Shape              Param #   \n",
      "=================================================================\n",
      "conv2d (Conv2D)              (None, 123, 11, 64)       640       \n",
      "_________________________________________________________________\n",
      "max_pooling2d (MaxPooling2D) (None, 62, 6, 64)         0         \n",
      "_________________________________________________________________\n",
      "batch_normalization (BatchNo (None, 62, 6, 64)         256       \n",
      "_________________________________________________________________\n",
      "conv2d_1 (Conv2D)            (None, 60, 4, 64)         36928     \n",
      "_________________________________________________________________\n",
      "max_pooling2d_1 (MaxPooling2 (None, 30, 2, 64)         0         \n",
      "_________________________________________________________________\n",
      "batch_normalization_1 (Batch (None, 30, 2, 64)         256       \n",
      "_________________________________________________________________\n",
      "conv2d_2 (Conv2D)            (None, 29, 1, 64)         16448     \n",
      "_________________________________________________________________\n",
      "max_pooling2d_2 (MaxPooling2 (None, 15, 1, 64)         0         \n",
      "_________________________________________________________________\n",
      "batch_normalization_2 (Batch (None, 15, 1, 64)         256       \n",
      "_________________________________________________________________\n",
      "dropout (Dropout)            (None, 15, 1, 64)         0         \n",
      "_________________________________________________________________\n",
      "flatten (Flatten)            (None, 960)               0         \n",
      "_________________________________________________________________\n",
      "dense (Dense)                (None, 64)                61504     \n",
      "_________________________________________________________________\n",
      "dense_1 (Dense)              (None, 10)                650       \n",
      "=================================================================\n",
      "Total params: 116,938\n",
      "Trainable params: 116,554\n",
      "Non-trainable params: 384\n",
      "_________________________________________________________________\n",
      "Epoch 1/15\n",
      "100/100 [==============================] - 14s 130ms/step - loss: 3.3103 - acc: 0.3032 - val_loss: 21.5678 - val_acc: 0.2377\n",
      "Epoch 2/15\n",
      "100/100 [==============================] - 12s 125ms/step - loss: 1.4666 - acc: 0.4590 - val_loss: 3.6786 - val_acc: 0.3794\n",
      "Epoch 3/15\n",
      "100/100 [==============================] - 12s 124ms/step - loss: 1.2425 - acc: 0.5443 - val_loss: 3.4719 - val_acc: 0.3729\n",
      "Epoch 4/15\n",
      "100/100 [==============================] - 13s 128ms/step - loss: 1.1546 - acc: 0.5886 - val_loss: 2.2123 - val_acc: 0.4930\n",
      "Epoch 5/15\n",
      "100/100 [==============================] - 13s 126ms/step - loss: 1.0568 - acc: 0.6184 - val_loss: 2.1171 - val_acc: 0.5100\n",
      "Epoch 6/15\n",
      "100/100 [==============================] - 12s 123ms/step - loss: 0.9666 - acc: 0.6548 - val_loss: 1.1975 - val_acc: 0.6346\n",
      "Epoch 7/15\n",
      "100/100 [==============================] - 12s 125ms/step - loss: 0.9265 - acc: 0.6797 - val_loss: 0.9359 - val_acc: 0.6922\n",
      "Epoch 8/15\n",
      "100/100 [==============================] - 13s 126ms/step - loss: 0.8851 - acc: 0.7007 - val_loss: 1.6793 - val_acc: 0.5796\n",
      "Epoch 9/15\n",
      "100/100 [==============================] - 13s 125ms/step - loss: 0.8409 - acc: 0.7106 - val_loss: 0.9160 - val_acc: 0.6817\n",
      "Epoch 10/15\n",
      "100/100 [==============================] - 13s 125ms/step - loss: 0.7865 - acc: 0.7276 - val_loss: 0.9060 - val_acc: 0.6827\n",
      "Epoch 11/15\n",
      "100/100 [==============================] - 13s 126ms/step - loss: 0.7586 - acc: 0.7403 - val_loss: 0.9614 - val_acc: 0.7212\n",
      "Epoch 12/15\n",
      "100/100 [==============================] - 13s 126ms/step - loss: 0.7055 - acc: 0.7563 - val_loss: 0.9686 - val_acc: 0.6712\n",
      "Epoch 13/15\n",
      "100/100 [==============================] - 13s 125ms/step - loss: 0.7270 - acc: 0.7604 - val_loss: 0.7895 - val_acc: 0.7322\n",
      "Epoch 14/15\n",
      "100/100 [==============================] - 13s 126ms/step - loss: 0.6637 - acc: 0.7722 - val_loss: 1.1277 - val_acc: 0.6502\n",
      "Epoch 15/15\n",
      "100/100 [==============================] - 13s 128ms/step - loss: 0.6547 - acc: 0.7861 - val_loss: 1.3325 - val_acc: 0.6607\n",
      "\n",
      "---Now testing the model for one audio file---\n",
      "The model predicts: jazz, and ground truth is: jazz.\n",
      "\n",
      "\n"
     ]
    },
    {
     "data": {
      "text/html": [
       "Waiting for W&B process to finish... <strong style=\"color:green\">(success).</strong>"
      ],
      "text/plain": [
       "<IPython.core.display.HTML object>"
      ]
     },
     "metadata": {},
     "output_type": "display_data"
    },
    {
     "data": {
      "application/vnd.jupyter.widget-view+json": {
       "model_id": "",
       "version_major": 2,
       "version_minor": 0
      },
      "text/plain": [
       "VBox(children=(Label(value='0.965 MB of 0.965 MB uploaded (0.000 MB deduped)\\r'), FloatProgress(value=1.0, max…"
      ]
     },
     "metadata": {},
     "output_type": "display_data"
    },
    {
     "data": {
      "text/html": [
       "<style>\n",
       "    table.wandb td:nth-child(1) { padding: 0 10px; text-align: right }\n",
       "    .wandb-row { display: flex; flex-direction: row; flex-wrap: wrap; width: 100% }\n",
       "    .wandb-col { display: flex; flex-direction: column; flex-basis: 100%; flex: 1; padding: 10px; }\n",
       "    </style>\n",
       "<div class=\"wandb-row\"><div class=\"wandb-col\"><h3>Run history:</h3><br/><table class=\"wandb\"><tr><td>acc</td><td>▁▃▄▅▅▆▆▇▇▇▇████</td></tr><tr><td>epoch</td><td>▁▁▂▃▃▃▄▅▅▅▆▇▇▇█</td></tr><tr><td>loss</td><td>█▄▄▃▃▂▂▂▂▂▁▁▁▁▁</td></tr><tr><td>val_acc</td><td>▁▃▃▅▅▇▇▆▇▇█▇█▇▇</td></tr><tr><td>val_loss</td><td>█▂▂▁▁▁▁▁▁▁▁▁▁▁▁</td></tr></table><br/></div><div class=\"wandb-col\"><h3>Run summary:</h3><br/><table class=\"wandb\"><tr><td>acc</td><td>0.77898</td></tr><tr><td>best_epoch</td><td>12</td></tr><tr><td>best_val_loss</td><td>0.78949</td></tr><tr><td>epoch</td><td>14</td></tr><tr><td>loss</td><td>0.66316</td></tr><tr><td>val_acc</td><td>0.66066</td></tr><tr><td>val_loss</td><td>1.33253</td></tr></table><br/></div></div>"
      ],
      "text/plain": [
       "<IPython.core.display.HTML object>"
      ]
     },
     "metadata": {},
     "output_type": "display_data"
    },
    {
     "data": {
      "text/html": [
       "Synced <strong style=\"color:#cdcd00\">major-sweep-25</strong>: <a href=\"https://wandb.ai/msaintfelix/Sweeps-Genre-Classifier/runs/28vmwgbx\" target=\"_blank\">https://wandb.ai/msaintfelix/Sweeps-Genre-Classifier/runs/28vmwgbx</a><br/>Synced 6 W&B file(s), 1 media file(s), 0 artifact file(s) and 1 other file(s)"
      ],
      "text/plain": [
       "<IPython.core.display.HTML object>"
      ]
     },
     "metadata": {},
     "output_type": "display_data"
    },
    {
     "data": {
      "text/html": [
       "Find logs at: <code>./wandb/run-20220829_204756-28vmwgbx/logs</code>"
      ],
      "text/plain": [
       "<IPython.core.display.HTML object>"
      ]
     },
     "metadata": {},
     "output_type": "display_data"
    },
    {
     "name": "stderr",
     "output_type": "stream",
     "text": [
      "\u001b[34m\u001b[1mwandb\u001b[0m: Agent Starting Run: 77ccwwwc with config:\n",
      "\u001b[34m\u001b[1mwandb\u001b[0m: \tbatch_size: 64\n",
      "\u001b[34m\u001b[1mwandb\u001b[0m: \tconv_layer_size: 64\n",
      "\u001b[34m\u001b[1mwandb\u001b[0m: \tdropout: 0.4\n",
      "\u001b[34m\u001b[1mwandb\u001b[0m: \tepochs: 10\n",
      "\u001b[34m\u001b[1mwandb\u001b[0m: \tlearning_rate: 3e-05\n"
     ]
    },
    {
     "data": {
      "text/html": [
       "wandb version 0.13.2 is available!  To upgrade, please run:\n",
       " $ pip install wandb --upgrade"
      ],
      "text/plain": [
       "<IPython.core.display.HTML object>"
      ]
     },
     "metadata": {},
     "output_type": "display_data"
    },
    {
     "data": {
      "text/html": [
       "Tracking run with wandb version 0.12.11"
      ],
      "text/plain": [
       "<IPython.core.display.HTML object>"
      ]
     },
     "metadata": {},
     "output_type": "display_data"
    },
    {
     "data": {
      "text/html": [
       "Run data is saved locally in <code>/Users/msf/GitHub/TensorFlow_MusicGenre_Classifier/wandb/run-20220829_205136-77ccwwwc</code>"
      ],
      "text/plain": [
       "<IPython.core.display.HTML object>"
      ]
     },
     "metadata": {},
     "output_type": "display_data"
    },
    {
     "data": {
      "text/html": [
       "Syncing run <strong><a href=\"https://wandb.ai/msaintfelix/Sweeps-Genre-Classifier/runs/77ccwwwc\" target=\"_blank\">dazzling-sweep-26</a></strong> to <a href=\"https://wandb.ai/msaintfelix/Sweeps-Genre-Classifier\" target=\"_blank\">Weights & Biases</a> (<a href=\"https://wandb.me/run\" target=\"_blank\">docs</a>)<br/>Sweep page:  <a href=\"https://wandb.ai/msaintfelix/Sweeps-Genre-Classifier/sweeps/e7xdbkpy\" target=\"_blank\">https://wandb.ai/msaintfelix/Sweeps-Genre-Classifier/sweeps/e7xdbkpy</a>"
      ],
      "text/plain": [
       "<IPython.core.display.HTML object>"
      ]
     },
     "metadata": {},
     "output_type": "display_data"
    },
    {
     "name": "stdout",
     "output_type": "stream",
     "text": [
      "(9990, 125, 13)\n",
      "Model: \"sequential\"\n",
      "_________________________________________________________________\n",
      "Layer (type)                 Output Shape              Param #   \n",
      "=================================================================\n",
      "conv2d (Conv2D)              (None, 123, 11, 64)       640       \n",
      "_________________________________________________________________\n",
      "max_pooling2d (MaxPooling2D) (None, 62, 6, 64)         0         \n",
      "_________________________________________________________________\n",
      "batch_normalization (BatchNo (None, 62, 6, 64)         256       \n",
      "_________________________________________________________________\n",
      "conv2d_1 (Conv2D)            (None, 60, 4, 64)         36928     \n",
      "_________________________________________________________________\n",
      "max_pooling2d_1 (MaxPooling2 (None, 30, 2, 64)         0         \n",
      "_________________________________________________________________\n",
      "batch_normalization_1 (Batch (None, 30, 2, 64)         256       \n",
      "_________________________________________________________________\n",
      "conv2d_2 (Conv2D)            (None, 29, 1, 64)         16448     \n",
      "_________________________________________________________________\n",
      "max_pooling2d_2 (MaxPooling2 (None, 15, 1, 64)         0         \n",
      "_________________________________________________________________\n",
      "batch_normalization_2 (Batch (None, 15, 1, 64)         256       \n",
      "_________________________________________________________________\n",
      "dropout (Dropout)            (None, 15, 1, 64)         0         \n",
      "_________________________________________________________________\n",
      "flatten (Flatten)            (None, 960)               0         \n",
      "_________________________________________________________________\n",
      "dense (Dense)                (None, 64)                61504     \n",
      "_________________________________________________________________\n",
      "dense_1 (Dense)              (None, 10)                650       \n",
      "=================================================================\n",
      "Total params: 116,938\n",
      "Trainable params: 116,554\n",
      "Non-trainable params: 384\n",
      "_________________________________________________________________\n",
      "Epoch 1/10\n",
      "100/100 [==============================] - 13s 126ms/step - loss: 2.9592 - acc: 0.1282 - val_loss: 2.3464 - val_acc: 0.1857\n",
      "Epoch 2/10\n",
      "100/100 [==============================] - 13s 125ms/step - loss: 2.2897 - acc: 0.2670 - val_loss: 1.8733 - val_acc: 0.3433\n",
      "Epoch 3/10\n",
      "100/100 [==============================] - 12s 123ms/step - loss: 1.9634 - acc: 0.3467 - val_loss: 1.6219 - val_acc: 0.4084\n",
      "Epoch 4/10\n",
      "100/100 [==============================] - 12s 123ms/step - loss: 1.7854 - acc: 0.3819 - val_loss: 1.4979 - val_acc: 0.4489\n",
      "Epoch 5/10\n",
      "100/100 [==============================] - 12s 123ms/step - loss: 1.6958 - acc: 0.4110 - val_loss: 1.4120 - val_acc: 0.4770\n",
      "Epoch 6/10\n",
      "100/100 [==============================] - 12s 123ms/step - loss: 1.6037 - acc: 0.4361 - val_loss: 1.3438 - val_acc: 0.5035\n",
      "Epoch 7/10\n",
      "100/100 [==============================] - 12s 122ms/step - loss: 1.5425 - acc: 0.4546 - val_loss: 1.2988 - val_acc: 0.5325\n",
      "Epoch 8/10\n",
      "100/100 [==============================] - 12s 123ms/step - loss: 1.4781 - acc: 0.4733 - val_loss: 1.2575 - val_acc: 0.5455\n",
      "Epoch 9/10\n",
      "100/100 [==============================] - 12s 123ms/step - loss: 1.3901 - acc: 0.5091 - val_loss: 1.2178 - val_acc: 0.5606\n",
      "Epoch 10/10\n",
      "100/100 [==============================] - 12s 124ms/step - loss: 1.3550 - acc: 0.5230 - val_loss: 1.1886 - val_acc: 0.5681\n",
      "\n",
      "---Now testing the model for one audio file---\n",
      "The model predicts: metal, and ground truth is: classical.\n",
      "\n",
      "\n"
     ]
    },
    {
     "data": {
      "text/html": [
       "Waiting for W&B process to finish... <strong style=\"color:green\">(success).</strong>"
      ],
      "text/plain": [
       "<IPython.core.display.HTML object>"
      ]
     },
     "metadata": {},
     "output_type": "display_data"
    },
    {
     "data": {
      "application/vnd.jupyter.widget-view+json": {
       "model_id": "",
       "version_major": 2,
       "version_minor": 0
      },
      "text/plain": [
       "VBox(children=(Label(value='0.965 MB of 0.965 MB uploaded (0.000 MB deduped)\\r'), FloatProgress(value=1.0, max…"
      ]
     },
     "metadata": {},
     "output_type": "display_data"
    },
    {
     "data": {
      "text/html": [
       "<style>\n",
       "    table.wandb td:nth-child(1) { padding: 0 10px; text-align: right }\n",
       "    .wandb-row { display: flex; flex-direction: row; flex-wrap: wrap; width: 100% }\n",
       "    .wandb-col { display: flex; flex-direction: column; flex-basis: 100%; flex: 1; padding: 10px; }\n",
       "    </style>\n",
       "<div class=\"wandb-row\"><div class=\"wandb-col\"><h3>Run history:</h3><br/><table class=\"wandb\"><tr><td>acc</td><td>▁▃▅▅▆▆▇▇██</td></tr><tr><td>epoch</td><td>▁▂▃▃▄▅▆▆▇█</td></tr><tr><td>loss</td><td>█▅▄▃▃▂▂▂▁▁</td></tr><tr><td>val_acc</td><td>▁▄▅▆▆▇▇███</td></tr><tr><td>val_loss</td><td>█▅▄▃▂▂▂▁▁▁</td></tr></table><br/></div><div class=\"wandb-col\"><h3>Run summary:</h3><br/><table class=\"wandb\"><tr><td>acc</td><td>0.52776</td></tr><tr><td>best_epoch</td><td>9</td></tr><tr><td>best_val_loss</td><td>1.18859</td></tr><tr><td>epoch</td><td>9</td></tr><tr><td>loss</td><td>1.34167</td></tr><tr><td>val_acc</td><td>0.56807</td></tr><tr><td>val_loss</td><td>1.18859</td></tr></table><br/></div></div>"
      ],
      "text/plain": [
       "<IPython.core.display.HTML object>"
      ]
     },
     "metadata": {},
     "output_type": "display_data"
    },
    {
     "data": {
      "text/html": [
       "Synced <strong style=\"color:#cdcd00\">dazzling-sweep-26</strong>: <a href=\"https://wandb.ai/msaintfelix/Sweeps-Genre-Classifier/runs/77ccwwwc\" target=\"_blank\">https://wandb.ai/msaintfelix/Sweeps-Genre-Classifier/runs/77ccwwwc</a><br/>Synced 6 W&B file(s), 1 media file(s), 0 artifact file(s) and 1 other file(s)"
      ],
      "text/plain": [
       "<IPython.core.display.HTML object>"
      ]
     },
     "metadata": {},
     "output_type": "display_data"
    },
    {
     "data": {
      "text/html": [
       "Find logs at: <code>./wandb/run-20220829_205136-77ccwwwc/logs</code>"
      ],
      "text/plain": [
       "<IPython.core.display.HTML object>"
      ]
     },
     "metadata": {},
     "output_type": "display_data"
    },
    {
     "name": "stderr",
     "output_type": "stream",
     "text": [
      "\u001b[34m\u001b[1mwandb\u001b[0m: Agent Starting Run: u4lo18d8 with config:\n",
      "\u001b[34m\u001b[1mwandb\u001b[0m: \tbatch_size: 32\n",
      "\u001b[34m\u001b[1mwandb\u001b[0m: \tconv_layer_size: 32\n",
      "\u001b[34m\u001b[1mwandb\u001b[0m: \tdropout: 0.3\n",
      "\u001b[34m\u001b[1mwandb\u001b[0m: \tepochs: 5\n",
      "\u001b[34m\u001b[1mwandb\u001b[0m: \tlearning_rate: 0.0003\n"
     ]
    },
    {
     "data": {
      "text/html": [
       "wandb version 0.13.2 is available!  To upgrade, please run:\n",
       " $ pip install wandb --upgrade"
      ],
      "text/plain": [
       "<IPython.core.display.HTML object>"
      ]
     },
     "metadata": {},
     "output_type": "display_data"
    },
    {
     "data": {
      "text/html": [
       "Tracking run with wandb version 0.12.11"
      ],
      "text/plain": [
       "<IPython.core.display.HTML object>"
      ]
     },
     "metadata": {},
     "output_type": "display_data"
    },
    {
     "data": {
      "text/html": [
       "Run data is saved locally in <code>/Users/msf/GitHub/TensorFlow_MusicGenre_Classifier/wandb/run-20220829_205407-u4lo18d8</code>"
      ],
      "text/plain": [
       "<IPython.core.display.HTML object>"
      ]
     },
     "metadata": {},
     "output_type": "display_data"
    },
    {
     "data": {
      "text/html": [
       "Syncing run <strong><a href=\"https://wandb.ai/msaintfelix/Sweeps-Genre-Classifier/runs/u4lo18d8\" target=\"_blank\">cerulean-sweep-27</a></strong> to <a href=\"https://wandb.ai/msaintfelix/Sweeps-Genre-Classifier\" target=\"_blank\">Weights & Biases</a> (<a href=\"https://wandb.me/run\" target=\"_blank\">docs</a>)<br/>Sweep page:  <a href=\"https://wandb.ai/msaintfelix/Sweeps-Genre-Classifier/sweeps/e7xdbkpy\" target=\"_blank\">https://wandb.ai/msaintfelix/Sweeps-Genre-Classifier/sweeps/e7xdbkpy</a>"
      ],
      "text/plain": [
       "<IPython.core.display.HTML object>"
      ]
     },
     "metadata": {},
     "output_type": "display_data"
    },
    {
     "name": "stdout",
     "output_type": "stream",
     "text": [
      "(9990, 125, 13)\n",
      "Model: \"sequential\"\n",
      "_________________________________________________________________\n",
      "Layer (type)                 Output Shape              Param #   \n",
      "=================================================================\n",
      "conv2d (Conv2D)              (None, 123, 11, 32)       320       \n",
      "_________________________________________________________________\n",
      "max_pooling2d (MaxPooling2D) (None, 62, 6, 32)         0         \n",
      "_________________________________________________________________\n",
      "batch_normalization (BatchNo (None, 62, 6, 32)         128       \n",
      "_________________________________________________________________\n",
      "conv2d_1 (Conv2D)            (None, 60, 4, 32)         9248      \n",
      "_________________________________________________________________\n",
      "max_pooling2d_1 (MaxPooling2 (None, 30, 2, 32)         0         \n",
      "_________________________________________________________________\n",
      "batch_normalization_1 (Batch (None, 30, 2, 32)         128       \n",
      "_________________________________________________________________\n",
      "conv2d_2 (Conv2D)            (None, 29, 1, 32)         4128      \n",
      "_________________________________________________________________\n",
      "max_pooling2d_2 (MaxPooling2 (None, 15, 1, 32)         0         \n",
      "_________________________________________________________________\n",
      "batch_normalization_2 (Batch (None, 15, 1, 32)         128       \n",
      "_________________________________________________________________\n",
      "dropout (Dropout)            (None, 15, 1, 32)         0         \n",
      "_________________________________________________________________\n",
      "flatten (Flatten)            (None, 480)               0         \n",
      "_________________________________________________________________\n",
      "dense (Dense)                (None, 64)                30784     \n",
      "_________________________________________________________________\n",
      "dense_1 (Dense)              (None, 10)                650       \n",
      "=================================================================\n",
      "Total params: 45,514\n",
      "Trainable params: 45,322\n",
      "Non-trainable params: 192\n",
      "_________________________________________________________________\n",
      "Epoch 1/5\n",
      "200/200 [==============================] - 8s 39ms/step - loss: 2.1518 - acc: 0.2888 - val_loss: 1.4151 - val_acc: 0.4820\n",
      "Epoch 2/5\n",
      "200/200 [==============================] - 8s 38ms/step - loss: 1.3737 - acc: 0.4982 - val_loss: 1.1718 - val_acc: 0.5851\n",
      "Epoch 3/5\n",
      "200/200 [==============================] - 8s 38ms/step - loss: 1.1867 - acc: 0.5680 - val_loss: 1.0804 - val_acc: 0.6131\n",
      "Epoch 4/5\n",
      "200/200 [==============================] - 8s 38ms/step - loss: 1.0901 - acc: 0.6112 - val_loss: 1.0313 - val_acc: 0.6426\n",
      "Epoch 5/5\n",
      "200/200 [==============================] - 8s 38ms/step - loss: 1.0048 - acc: 0.6446 - val_loss: 0.9548 - val_acc: 0.6642\n",
      "\n",
      "---Now testing the model for one audio file---\n",
      "The model predicts: rock, and ground truth is: hiphop.\n",
      "\n",
      "\n"
     ]
    },
    {
     "data": {
      "text/html": [
       "Waiting for W&B process to finish... <strong style=\"color:green\">(success).</strong>"
      ],
      "text/plain": [
       "<IPython.core.display.HTML object>"
      ]
     },
     "metadata": {},
     "output_type": "display_data"
    },
    {
     "data": {
      "application/vnd.jupyter.widget-view+json": {
       "model_id": "",
       "version_major": 2,
       "version_minor": 0
      },
      "text/plain": [
       "VBox(children=(Label(value='0.419 MB of 0.419 MB uploaded (0.000 MB deduped)\\r'), FloatProgress(value=1.0, max…"
      ]
     },
     "metadata": {},
     "output_type": "display_data"
    },
    {
     "data": {
      "text/html": [
       "<style>\n",
       "    table.wandb td:nth-child(1) { padding: 0 10px; text-align: right }\n",
       "    .wandb-row { display: flex; flex-direction: row; flex-wrap: wrap; width: 100% }\n",
       "    .wandb-col { display: flex; flex-direction: column; flex-basis: 100%; flex: 1; padding: 10px; }\n",
       "    </style>\n",
       "<div class=\"wandb-row\"><div class=\"wandb-col\"><h3>Run history:</h3><br/><table class=\"wandb\"><tr><td>acc</td><td>▁▄▆▇█</td></tr><tr><td>epoch</td><td>▁▃▅▆█</td></tr><tr><td>loss</td><td>█▄▃▂▁</td></tr><tr><td>val_acc</td><td>▁▅▆▇█</td></tr><tr><td>val_loss</td><td>█▄▃▂▁</td></tr></table><br/></div><div class=\"wandb-col\"><h3>Run summary:</h3><br/><table class=\"wandb\"><tr><td>acc</td><td>0.65681</td></tr><tr><td>best_epoch</td><td>4</td></tr><tr><td>best_val_loss</td><td>0.95481</td></tr><tr><td>epoch</td><td>4</td></tr><tr><td>loss</td><td>0.96584</td></tr><tr><td>val_acc</td><td>0.66416</td></tr><tr><td>val_loss</td><td>0.95481</td></tr></table><br/></div></div>"
      ],
      "text/plain": [
       "<IPython.core.display.HTML object>"
      ]
     },
     "metadata": {},
     "output_type": "display_data"
    },
    {
     "data": {
      "text/html": [
       "Synced <strong style=\"color:#cdcd00\">cerulean-sweep-27</strong>: <a href=\"https://wandb.ai/msaintfelix/Sweeps-Genre-Classifier/runs/u4lo18d8\" target=\"_blank\">https://wandb.ai/msaintfelix/Sweeps-Genre-Classifier/runs/u4lo18d8</a><br/>Synced 6 W&B file(s), 1 media file(s), 0 artifact file(s) and 1 other file(s)"
      ],
      "text/plain": [
       "<IPython.core.display.HTML object>"
      ]
     },
     "metadata": {},
     "output_type": "display_data"
    },
    {
     "data": {
      "text/html": [
       "Find logs at: <code>./wandb/run-20220829_205407-u4lo18d8/logs</code>"
      ],
      "text/plain": [
       "<IPython.core.display.HTML object>"
      ]
     },
     "metadata": {},
     "output_type": "display_data"
    },
    {
     "name": "stderr",
     "output_type": "stream",
     "text": [
      "\u001b[34m\u001b[1mwandb\u001b[0m: Agent Starting Run: zguhvl3b with config:\n",
      "\u001b[34m\u001b[1mwandb\u001b[0m: \tbatch_size: 32\n",
      "\u001b[34m\u001b[1mwandb\u001b[0m: \tconv_layer_size: 32\n",
      "\u001b[34m\u001b[1mwandb\u001b[0m: \tdropout: 0.5\n",
      "\u001b[34m\u001b[1mwandb\u001b[0m: \tepochs: 10\n",
      "\u001b[34m\u001b[1mwandb\u001b[0m: \tlearning_rate: 1e-05\n"
     ]
    },
    {
     "data": {
      "text/html": [
       "wandb version 0.13.2 is available!  To upgrade, please run:\n",
       " $ pip install wandb --upgrade"
      ],
      "text/plain": [
       "<IPython.core.display.HTML object>"
      ]
     },
     "metadata": {},
     "output_type": "display_data"
    },
    {
     "data": {
      "text/html": [
       "Tracking run with wandb version 0.12.11"
      ],
      "text/plain": [
       "<IPython.core.display.HTML object>"
      ]
     },
     "metadata": {},
     "output_type": "display_data"
    },
    {
     "data": {
      "text/html": [
       "Run data is saved locally in <code>/Users/msf/GitHub/TensorFlow_MusicGenre_Classifier/wandb/run-20220829_205513-zguhvl3b</code>"
      ],
      "text/plain": [
       "<IPython.core.display.HTML object>"
      ]
     },
     "metadata": {},
     "output_type": "display_data"
    },
    {
     "data": {
      "text/html": [
       "Syncing run <strong><a href=\"https://wandb.ai/msaintfelix/Sweeps-Genre-Classifier/runs/zguhvl3b\" target=\"_blank\">kind-sweep-28</a></strong> to <a href=\"https://wandb.ai/msaintfelix/Sweeps-Genre-Classifier\" target=\"_blank\">Weights & Biases</a> (<a href=\"https://wandb.me/run\" target=\"_blank\">docs</a>)<br/>Sweep page:  <a href=\"https://wandb.ai/msaintfelix/Sweeps-Genre-Classifier/sweeps/e7xdbkpy\" target=\"_blank\">https://wandb.ai/msaintfelix/Sweeps-Genre-Classifier/sweeps/e7xdbkpy</a>"
      ],
      "text/plain": [
       "<IPython.core.display.HTML object>"
      ]
     },
     "metadata": {},
     "output_type": "display_data"
    },
    {
     "name": "stdout",
     "output_type": "stream",
     "text": [
      "(9990, 125, 13)\n",
      "Model: \"sequential\"\n",
      "_________________________________________________________________\n",
      "Layer (type)                 Output Shape              Param #   \n",
      "=================================================================\n",
      "conv2d (Conv2D)              (None, 123, 11, 32)       320       \n",
      "_________________________________________________________________\n",
      "max_pooling2d (MaxPooling2D) (None, 62, 6, 32)         0         \n",
      "_________________________________________________________________\n",
      "batch_normalization (BatchNo (None, 62, 6, 32)         128       \n",
      "_________________________________________________________________\n",
      "conv2d_1 (Conv2D)            (None, 60, 4, 32)         9248      \n",
      "_________________________________________________________________\n",
      "max_pooling2d_1 (MaxPooling2 (None, 30, 2, 32)         0         \n",
      "_________________________________________________________________\n",
      "batch_normalization_1 (Batch (None, 30, 2, 32)         128       \n",
      "_________________________________________________________________\n",
      "conv2d_2 (Conv2D)            (None, 29, 1, 32)         4128      \n",
      "_________________________________________________________________\n",
      "max_pooling2d_2 (MaxPooling2 (None, 15, 1, 32)         0         \n",
      "_________________________________________________________________\n",
      "batch_normalization_2 (Batch (None, 15, 1, 32)         128       \n",
      "_________________________________________________________________\n",
      "dropout (Dropout)            (None, 15, 1, 32)         0         \n",
      "_________________________________________________________________\n",
      "flatten (Flatten)            (None, 480)               0         \n",
      "_________________________________________________________________\n",
      "dense (Dense)                (None, 64)                30784     \n",
      "_________________________________________________________________\n",
      "dense_1 (Dense)              (None, 10)                650       \n",
      "=================================================================\n",
      "Total params: 45,514\n",
      "Trainable params: 45,322\n",
      "Non-trainable params: 192\n",
      "_________________________________________________________________\n",
      "Epoch 1/10\n",
      "200/200 [==============================] - 9s 40ms/step - loss: 3.4206 - acc: 0.1122 - val_loss: 2.3898 - val_acc: 0.1597\n",
      "Epoch 2/10\n",
      "200/200 [==============================] - 8s 38ms/step - loss: 3.1924 - acc: 0.1436 - val_loss: 2.3142 - val_acc: 0.2277\n",
      "Epoch 3/10\n",
      "200/200 [==============================] - 7s 37ms/step - loss: 2.9132 - acc: 0.1662 - val_loss: 2.1935 - val_acc: 0.2798\n",
      "Epoch 4/10\n",
      "200/200 [==============================] - 8s 38ms/step - loss: 2.7643 - acc: 0.1999 - val_loss: 2.0736 - val_acc: 0.3123\n",
      "Epoch 5/10\n",
      "200/200 [==============================] - 8s 38ms/step - loss: 2.5941 - acc: 0.2272 - val_loss: 1.9876 - val_acc: 0.3338\n",
      "Epoch 6/10\n",
      "200/200 [==============================] - 8s 39ms/step - loss: 2.4643 - acc: 0.2486 - val_loss: 1.9135 - val_acc: 0.3403\n",
      "Epoch 7/10\n",
      "200/200 [==============================] - 8s 39ms/step - loss: 2.3583 - acc: 0.2707 - val_loss: 1.8545 - val_acc: 0.3488\n",
      "Epoch 8/10\n",
      "200/200 [==============================] - 8s 40ms/step - loss: 2.2855 - acc: 0.2805 - val_loss: 1.7994 - val_acc: 0.3599\n",
      "Epoch 9/10\n",
      "200/200 [==============================] - 8s 40ms/step - loss: 2.2272 - acc: 0.2960 - val_loss: 1.7431 - val_acc: 0.3709\n",
      "Epoch 10/10\n",
      "200/200 [==============================] - 8s 40ms/step - loss: 2.1621 - acc: 0.3093 - val_loss: 1.7087 - val_acc: 0.3759\n",
      "\n",
      "---Now testing the model for one audio file---\n",
      "The model predicts: jazz, and ground truth is: rock.\n",
      "\n",
      "\n"
     ]
    },
    {
     "data": {
      "text/html": [
       "Waiting for W&B process to finish... <strong style=\"color:green\">(success).</strong>"
      ],
      "text/plain": [
       "<IPython.core.display.HTML object>"
      ]
     },
     "metadata": {},
     "output_type": "display_data"
    },
    {
     "data": {
      "application/vnd.jupyter.widget-view+json": {
       "model_id": "",
       "version_major": 2,
       "version_minor": 0
      },
      "text/plain": [
       "VBox(children=(Label(value='0.419 MB of 0.419 MB uploaded (0.000 MB deduped)\\r'), FloatProgress(value=1.0, max…"
      ]
     },
     "metadata": {},
     "output_type": "display_data"
    },
    {
     "data": {
      "text/html": [
       "<style>\n",
       "    table.wandb td:nth-child(1) { padding: 0 10px; text-align: right }\n",
       "    .wandb-row { display: flex; flex-direction: row; flex-wrap: wrap; width: 100% }\n",
       "    .wandb-col { display: flex; flex-direction: column; flex-basis: 100%; flex: 1; padding: 10px; }\n",
       "    </style>\n",
       "<div class=\"wandb-row\"><div class=\"wandb-col\"><h3>Run history:</h3><br/><table class=\"wandb\"><tr><td>acc</td><td>▁▂▃▄▅▆▇▇██</td></tr><tr><td>epoch</td><td>▁▂▃▃▄▅▆▆▇█</td></tr><tr><td>loss</td><td>█▇▅▄▃▃▂▂▁▁</td></tr><tr><td>val_acc</td><td>▁▃▅▆▇▇▇▇██</td></tr><tr><td>val_loss</td><td>█▇▆▅▄▃▂▂▁▁</td></tr></table><br/></div><div class=\"wandb-col\"><h3>Run summary:</h3><br/><table class=\"wandb\"><tr><td>acc</td><td>0.31409</td></tr><tr><td>best_epoch</td><td>9</td></tr><tr><td>best_val_loss</td><td>1.70867</td></tr><tr><td>epoch</td><td>9</td></tr><tr><td>loss</td><td>2.11488</td></tr><tr><td>val_acc</td><td>0.37588</td></tr><tr><td>val_loss</td><td>1.70867</td></tr></table><br/></div></div>"
      ],
      "text/plain": [
       "<IPython.core.display.HTML object>"
      ]
     },
     "metadata": {},
     "output_type": "display_data"
    },
    {
     "data": {
      "text/html": [
       "Synced <strong style=\"color:#cdcd00\">kind-sweep-28</strong>: <a href=\"https://wandb.ai/msaintfelix/Sweeps-Genre-Classifier/runs/zguhvl3b\" target=\"_blank\">https://wandb.ai/msaintfelix/Sweeps-Genre-Classifier/runs/zguhvl3b</a><br/>Synced 6 W&B file(s), 1 media file(s), 0 artifact file(s) and 1 other file(s)"
      ],
      "text/plain": [
       "<IPython.core.display.HTML object>"
      ]
     },
     "metadata": {},
     "output_type": "display_data"
    },
    {
     "data": {
      "text/html": [
       "Find logs at: <code>./wandb/run-20220829_205513-zguhvl3b/logs</code>"
      ],
      "text/plain": [
       "<IPython.core.display.HTML object>"
      ]
     },
     "metadata": {},
     "output_type": "display_data"
    },
    {
     "name": "stderr",
     "output_type": "stream",
     "text": [
      "\u001b[34m\u001b[1mwandb\u001b[0m: Agent Starting Run: vyvkkonz with config:\n",
      "\u001b[34m\u001b[1mwandb\u001b[0m: \tbatch_size: 32\n",
      "\u001b[34m\u001b[1mwandb\u001b[0m: \tconv_layer_size: 64\n",
      "\u001b[34m\u001b[1mwandb\u001b[0m: \tdropout: 0.5\n",
      "\u001b[34m\u001b[1mwandb\u001b[0m: \tepochs: 10\n",
      "\u001b[34m\u001b[1mwandb\u001b[0m: \tlearning_rate: 0.0001\n"
     ]
    },
    {
     "data": {
      "text/html": [
       "wandb version 0.13.2 is available!  To upgrade, please run:\n",
       " $ pip install wandb --upgrade"
      ],
      "text/plain": [
       "<IPython.core.display.HTML object>"
      ]
     },
     "metadata": {},
     "output_type": "display_data"
    },
    {
     "data": {
      "text/html": [
       "Tracking run with wandb version 0.12.11"
      ],
      "text/plain": [
       "<IPython.core.display.HTML object>"
      ]
     },
     "metadata": {},
     "output_type": "display_data"
    },
    {
     "data": {
      "text/html": [
       "Run data is saved locally in <code>/Users/msf/GitHub/TensorFlow_MusicGenre_Classifier/wandb/run-20220829_205658-vyvkkonz</code>"
      ],
      "text/plain": [
       "<IPython.core.display.HTML object>"
      ]
     },
     "metadata": {},
     "output_type": "display_data"
    },
    {
     "data": {
      "text/html": [
       "Syncing run <strong><a href=\"https://wandb.ai/msaintfelix/Sweeps-Genre-Classifier/runs/vyvkkonz\" target=\"_blank\">good-sweep-29</a></strong> to <a href=\"https://wandb.ai/msaintfelix/Sweeps-Genre-Classifier\" target=\"_blank\">Weights & Biases</a> (<a href=\"https://wandb.me/run\" target=\"_blank\">docs</a>)<br/>Sweep page:  <a href=\"https://wandb.ai/msaintfelix/Sweeps-Genre-Classifier/sweeps/e7xdbkpy\" target=\"_blank\">https://wandb.ai/msaintfelix/Sweeps-Genre-Classifier/sweeps/e7xdbkpy</a>"
      ],
      "text/plain": [
       "<IPython.core.display.HTML object>"
      ]
     },
     "metadata": {},
     "output_type": "display_data"
    },
    {
     "name": "stdout",
     "output_type": "stream",
     "text": [
      "(9990, 125, 13)\n",
      "Model: \"sequential\"\n",
      "_________________________________________________________________\n",
      "Layer (type)                 Output Shape              Param #   \n",
      "=================================================================\n",
      "conv2d (Conv2D)              (None, 123, 11, 64)       640       \n",
      "_________________________________________________________________\n",
      "max_pooling2d (MaxPooling2D) (None, 62, 6, 64)         0         \n",
      "_________________________________________________________________\n",
      "batch_normalization (BatchNo (None, 62, 6, 64)         256       \n",
      "_________________________________________________________________\n",
      "conv2d_1 (Conv2D)            (None, 60, 4, 64)         36928     \n",
      "_________________________________________________________________\n",
      "max_pooling2d_1 (MaxPooling2 (None, 30, 2, 64)         0         \n",
      "_________________________________________________________________\n",
      "batch_normalization_1 (Batch (None, 30, 2, 64)         256       \n",
      "_________________________________________________________________\n",
      "conv2d_2 (Conv2D)            (None, 29, 1, 64)         16448     \n",
      "_________________________________________________________________\n",
      "max_pooling2d_2 (MaxPooling2 (None, 15, 1, 64)         0         \n",
      "_________________________________________________________________\n",
      "batch_normalization_2 (Batch (None, 15, 1, 64)         256       \n",
      "_________________________________________________________________\n",
      "dropout (Dropout)            (None, 15, 1, 64)         0         \n",
      "_________________________________________________________________\n",
      "flatten (Flatten)            (None, 960)               0         \n",
      "_________________________________________________________________\n",
      "dense (Dense)                (None, 64)                61504     \n",
      "_________________________________________________________________\n",
      "dense_1 (Dense)              (None, 10)                650       \n",
      "=================================================================\n",
      "Total params: 116,938\n",
      "Trainable params: 116,554\n",
      "Non-trainable params: 384\n",
      "_________________________________________________________________\n",
      "Epoch 1/10\n",
      "200/200 [==============================] - 16s 74ms/step - loss: 3.0101 - acc: 0.1993 - val_loss: 1.6550 - val_acc: 0.4164\n",
      "Epoch 2/10\n",
      "200/200 [==============================] - 14s 70ms/step - loss: 1.8537 - acc: 0.3829 - val_loss: 1.3516 - val_acc: 0.5180\n",
      "Epoch 3/10\n",
      "200/200 [==============================] - 14s 70ms/step - loss: 1.5342 - acc: 0.4775 - val_loss: 1.2470 - val_acc: 0.5435\n",
      "Epoch 4/10\n",
      "200/200 [==============================] - 14s 70ms/step - loss: 1.3904 - acc: 0.5154 - val_loss: 1.1807 - val_acc: 0.5811\n",
      "Epoch 5/10\n",
      "200/200 [==============================] - 14s 71ms/step - loss: 1.2194 - acc: 0.5716 - val_loss: 1.0825 - val_acc: 0.5996\n",
      "Epoch 6/10\n",
      "200/200 [==============================] - 14s 72ms/step - loss: 1.1558 - acc: 0.6004 - val_loss: 1.0307 - val_acc: 0.6341\n",
      "Epoch 7/10\n",
      "200/200 [==============================] - 14s 71ms/step - loss: 1.1046 - acc: 0.6129 - val_loss: 0.9637 - val_acc: 0.6652\n",
      "Epoch 8/10\n",
      "200/200 [==============================] - 14s 70ms/step - loss: 1.0152 - acc: 0.6401 - val_loss: 0.9549 - val_acc: 0.6737\n",
      "Epoch 9/10\n",
      "200/200 [==============================] - 14s 70ms/step - loss: 0.9889 - acc: 0.6540 - val_loss: 0.9052 - val_acc: 0.6897\n",
      "Epoch 10/10\n",
      "200/200 [==============================] - 14s 70ms/step - loss: 0.9133 - acc: 0.6756 - val_loss: 0.8647 - val_acc: 0.6957\n",
      "\n",
      "---Now testing the model for one audio file---\n",
      "The model predicts: disco, and ground truth is: disco.\n",
      "\n",
      "\n"
     ]
    },
    {
     "data": {
      "text/html": [
       "Waiting for W&B process to finish... <strong style=\"color:green\">(success).</strong>"
      ],
      "text/plain": [
       "<IPython.core.display.HTML object>"
      ]
     },
     "metadata": {},
     "output_type": "display_data"
    },
    {
     "data": {
      "application/vnd.jupyter.widget-view+json": {
       "model_id": "",
       "version_major": 2,
       "version_minor": 0
      },
      "text/plain": [
       "VBox(children=(Label(value='0.965 MB of 0.965 MB uploaded (0.000 MB deduped)\\r'), FloatProgress(value=1.0, max…"
      ]
     },
     "metadata": {},
     "output_type": "display_data"
    },
    {
     "data": {
      "text/html": [
       "<style>\n",
       "    table.wandb td:nth-child(1) { padding: 0 10px; text-align: right }\n",
       "    .wandb-row { display: flex; flex-direction: row; flex-wrap: wrap; width: 100% }\n",
       "    .wandb-col { display: flex; flex-direction: column; flex-basis: 100%; flex: 1; padding: 10px; }\n",
       "    </style>\n",
       "<div class=\"wandb-row\"><div class=\"wandb-col\"><h3>Run history:</h3><br/><table class=\"wandb\"><tr><td>acc</td><td>▁▃▅▅▆▇▇▇██</td></tr><tr><td>epoch</td><td>▁▂▃▃▄▅▆▆▇█</td></tr><tr><td>loss</td><td>█▅▄▃▂▂▂▁▁▁</td></tr><tr><td>val_acc</td><td>▁▄▄▅▆▆▇▇██</td></tr><tr><td>val_loss</td><td>█▅▄▄▃▂▂▂▁▁</td></tr></table><br/></div><div class=\"wandb-col\"><h3>Run summary:</h3><br/><table class=\"wandb\"><tr><td>acc</td><td>0.68121</td></tr><tr><td>best_epoch</td><td>9</td></tr><tr><td>best_val_loss</td><td>0.86467</td></tr><tr><td>epoch</td><td>9</td></tr><tr><td>loss</td><td>0.89937</td></tr><tr><td>val_acc</td><td>0.6957</td></tr><tr><td>val_loss</td><td>0.86467</td></tr></table><br/></div></div>"
      ],
      "text/plain": [
       "<IPython.core.display.HTML object>"
      ]
     },
     "metadata": {},
     "output_type": "display_data"
    },
    {
     "data": {
      "text/html": [
       "Synced <strong style=\"color:#cdcd00\">good-sweep-29</strong>: <a href=\"https://wandb.ai/msaintfelix/Sweeps-Genre-Classifier/runs/vyvkkonz\" target=\"_blank\">https://wandb.ai/msaintfelix/Sweeps-Genre-Classifier/runs/vyvkkonz</a><br/>Synced 6 W&B file(s), 1 media file(s), 0 artifact file(s) and 1 other file(s)"
      ],
      "text/plain": [
       "<IPython.core.display.HTML object>"
      ]
     },
     "metadata": {},
     "output_type": "display_data"
    },
    {
     "data": {
      "text/html": [
       "Find logs at: <code>./wandb/run-20220829_205658-vyvkkonz/logs</code>"
      ],
      "text/plain": [
       "<IPython.core.display.HTML object>"
      ]
     },
     "metadata": {},
     "output_type": "display_data"
    },
    {
     "name": "stderr",
     "output_type": "stream",
     "text": [
      "\u001b[34m\u001b[1mwandb\u001b[0m: Agent Starting Run: fu0kd9bw with config:\n",
      "\u001b[34m\u001b[1mwandb\u001b[0m: \tbatch_size: 64\n",
      "\u001b[34m\u001b[1mwandb\u001b[0m: \tconv_layer_size: 32\n",
      "\u001b[34m\u001b[1mwandb\u001b[0m: \tdropout: 0.5\n",
      "\u001b[34m\u001b[1mwandb\u001b[0m: \tepochs: 15\n",
      "\u001b[34m\u001b[1mwandb\u001b[0m: \tlearning_rate: 0.001\n"
     ]
    },
    {
     "data": {
      "text/html": [
       "wandb version 0.13.2 is available!  To upgrade, please run:\n",
       " $ pip install wandb --upgrade"
      ],
      "text/plain": [
       "<IPython.core.display.HTML object>"
      ]
     },
     "metadata": {},
     "output_type": "display_data"
    },
    {
     "data": {
      "text/html": [
       "Tracking run with wandb version 0.12.11"
      ],
      "text/plain": [
       "<IPython.core.display.HTML object>"
      ]
     },
     "metadata": {},
     "output_type": "display_data"
    },
    {
     "data": {
      "text/html": [
       "Run data is saved locally in <code>/Users/msf/GitHub/TensorFlow_MusicGenre_Classifier/wandb/run-20220829_205949-fu0kd9bw</code>"
      ],
      "text/plain": [
       "<IPython.core.display.HTML object>"
      ]
     },
     "metadata": {},
     "output_type": "display_data"
    },
    {
     "data": {
      "text/html": [
       "Syncing run <strong><a href=\"https://wandb.ai/msaintfelix/Sweeps-Genre-Classifier/runs/fu0kd9bw\" target=\"_blank\">serene-sweep-30</a></strong> to <a href=\"https://wandb.ai/msaintfelix/Sweeps-Genre-Classifier\" target=\"_blank\">Weights & Biases</a> (<a href=\"https://wandb.me/run\" target=\"_blank\">docs</a>)<br/>Sweep page:  <a href=\"https://wandb.ai/msaintfelix/Sweeps-Genre-Classifier/sweeps/e7xdbkpy\" target=\"_blank\">https://wandb.ai/msaintfelix/Sweeps-Genre-Classifier/sweeps/e7xdbkpy</a>"
      ],
      "text/plain": [
       "<IPython.core.display.HTML object>"
      ]
     },
     "metadata": {},
     "output_type": "display_data"
    },
    {
     "name": "stdout",
     "output_type": "stream",
     "text": [
      "(9990, 125, 13)\n",
      "Model: \"sequential\"\n",
      "_________________________________________________________________\n",
      "Layer (type)                 Output Shape              Param #   \n",
      "=================================================================\n",
      "conv2d (Conv2D)              (None, 123, 11, 32)       320       \n",
      "_________________________________________________________________\n",
      "max_pooling2d (MaxPooling2D) (None, 62, 6, 32)         0         \n",
      "_________________________________________________________________\n",
      "batch_normalization (BatchNo (None, 62, 6, 32)         128       \n",
      "_________________________________________________________________\n",
      "conv2d_1 (Conv2D)            (None, 60, 4, 32)         9248      \n",
      "_________________________________________________________________\n",
      "max_pooling2d_1 (MaxPooling2 (None, 30, 2, 32)         0         \n",
      "_________________________________________________________________\n",
      "batch_normalization_1 (Batch (None, 30, 2, 32)         128       \n",
      "_________________________________________________________________\n",
      "conv2d_2 (Conv2D)            (None, 29, 1, 32)         4128      \n",
      "_________________________________________________________________\n",
      "max_pooling2d_2 (MaxPooling2 (None, 15, 1, 32)         0         \n",
      "_________________________________________________________________\n",
      "batch_normalization_2 (Batch (None, 15, 1, 32)         128       \n",
      "_________________________________________________________________\n",
      "dropout (Dropout)            (None, 15, 1, 32)         0         \n",
      "_________________________________________________________________\n",
      "flatten (Flatten)            (None, 480)               0         \n",
      "_________________________________________________________________\n",
      "dense (Dense)                (None, 64)                30784     \n",
      "_________________________________________________________________\n",
      "dense_1 (Dense)              (None, 10)                650       \n",
      "=================================================================\n",
      "Total params: 45,514\n",
      "Trainable params: 45,322\n",
      "Non-trainable params: 192\n",
      "_________________________________________________________________\n",
      "Epoch 1/15\n",
      "100/100 [==============================] - 8s 77ms/step - loss: 2.1534 - acc: 0.3199 - val_loss: 2.7294 - val_acc: 0.2553\n",
      "Epoch 2/15\n",
      "100/100 [==============================] - 8s 76ms/step - loss: 1.3514 - acc: 0.5239 - val_loss: 1.2843 - val_acc: 0.5355\n",
      "Epoch 3/15\n",
      "100/100 [==============================] - 8s 76ms/step - loss: 1.1634 - acc: 0.5868 - val_loss: 1.2407 - val_acc: 0.5511\n",
      "Epoch 4/15\n",
      "100/100 [==============================] - 8s 77ms/step - loss: 1.0414 - acc: 0.6341 - val_loss: 1.3970 - val_acc: 0.5275\n",
      "Epoch 5/15\n",
      "100/100 [==============================] - 8s 76ms/step - loss: 0.9188 - acc: 0.6816 - val_loss: 1.0202 - val_acc: 0.6426\n",
      "Epoch 6/15\n",
      "100/100 [==============================] - 7s 75ms/step - loss: 0.8607 - acc: 0.7004 - val_loss: 1.0158 - val_acc: 0.6471\n",
      "Epoch 7/15\n",
      "100/100 [==============================] - 7s 74ms/step - loss: 0.8143 - acc: 0.7079 - val_loss: 0.9115 - val_acc: 0.6842\n",
      "Epoch 8/15\n",
      "100/100 [==============================] - 8s 75ms/step - loss: 0.7284 - acc: 0.7472 - val_loss: 0.8462 - val_acc: 0.7032\n",
      "Epoch 9/15\n",
      "100/100 [==============================] - 8s 75ms/step - loss: 0.7024 - acc: 0.7501 - val_loss: 0.8078 - val_acc: 0.7267\n",
      "Epoch 10/15\n",
      "100/100 [==============================] - 7s 75ms/step - loss: 0.6518 - acc: 0.7681 - val_loss: 0.8188 - val_acc: 0.7287\n",
      "Epoch 11/15\n",
      "100/100 [==============================] - 7s 75ms/step - loss: 0.6380 - acc: 0.7787 - val_loss: 0.9648 - val_acc: 0.6802\n",
      "Epoch 12/15\n",
      "100/100 [==============================] - 7s 75ms/step - loss: 0.6096 - acc: 0.7843 - val_loss: 0.8505 - val_acc: 0.7312\n",
      "Epoch 13/15\n",
      "100/100 [==============================] - 7s 74ms/step - loss: 0.5794 - acc: 0.7969 - val_loss: 0.8091 - val_acc: 0.7212\n",
      "Epoch 14/15\n",
      "100/100 [==============================] - 7s 71ms/step - loss: 0.5658 - acc: 0.7957 - val_loss: 0.7411 - val_acc: 0.7563\n",
      "Epoch 15/15\n",
      "100/100 [==============================] - 7s 73ms/step - loss: 0.5310 - acc: 0.8138 - val_loss: 0.8740 - val_acc: 0.7087\n",
      "\n",
      "---Now testing the model for one audio file---\n",
      "The model predicts: blues, and ground truth is: blues.\n",
      "\n",
      "\n"
     ]
    },
    {
     "data": {
      "text/html": [
       "Waiting for W&B process to finish... <strong style=\"color:green\">(success).</strong>"
      ],
      "text/plain": [
       "<IPython.core.display.HTML object>"
      ]
     },
     "metadata": {},
     "output_type": "display_data"
    },
    {
     "data": {
      "application/vnd.jupyter.widget-view+json": {
       "model_id": "",
       "version_major": 2,
       "version_minor": 0
      },
      "text/plain": [
       "VBox(children=(Label(value='0.419 MB of 0.419 MB uploaded (0.000 MB deduped)\\r'), FloatProgress(value=1.0, max…"
      ]
     },
     "metadata": {},
     "output_type": "display_data"
    },
    {
     "data": {
      "text/html": [
       "<style>\n",
       "    table.wandb td:nth-child(1) { padding: 0 10px; text-align: right }\n",
       "    .wandb-row { display: flex; flex-direction: row; flex-wrap: wrap; width: 100% }\n",
       "    .wandb-col { display: flex; flex-direction: column; flex-basis: 100%; flex: 1; padding: 10px; }\n",
       "    </style>\n",
       "<div class=\"wandb-row\"><div class=\"wandb-col\"><h3>Run history:</h3><br/><table class=\"wandb\"><tr><td>acc</td><td>▁▃▄▅▆▆▆▇▇▇▇▇███</td></tr><tr><td>epoch</td><td>▁▁▂▃▃▃▄▅▅▅▆▇▇▇█</td></tr><tr><td>loss</td><td>█▅▄▄▃▃▂▂▂▂▂▂▁▁▁</td></tr><tr><td>val_acc</td><td>▁▅▅▅▆▆▇▇██▇███▇</td></tr><tr><td>val_loss</td><td>█▃▃▃▂▂▂▁▁▁▂▁▁▁▁</td></tr></table><br/></div><div class=\"wandb-col\"><h3>Run summary:</h3><br/><table class=\"wandb\"><tr><td>acc</td><td>0.80776</td></tr><tr><td>best_epoch</td><td>13</td></tr><tr><td>best_val_loss</td><td>0.74115</td></tr><tr><td>epoch</td><td>14</td></tr><tr><td>loss</td><td>0.54816</td></tr><tr><td>val_acc</td><td>0.70871</td></tr><tr><td>val_loss</td><td>0.87405</td></tr></table><br/></div></div>"
      ],
      "text/plain": [
       "<IPython.core.display.HTML object>"
      ]
     },
     "metadata": {},
     "output_type": "display_data"
    },
    {
     "data": {
      "text/html": [
       "Synced <strong style=\"color:#cdcd00\">serene-sweep-30</strong>: <a href=\"https://wandb.ai/msaintfelix/Sweeps-Genre-Classifier/runs/fu0kd9bw\" target=\"_blank\">https://wandb.ai/msaintfelix/Sweeps-Genre-Classifier/runs/fu0kd9bw</a><br/>Synced 6 W&B file(s), 1 media file(s), 0 artifact file(s) and 1 other file(s)"
      ],
      "text/plain": [
       "<IPython.core.display.HTML object>"
      ]
     },
     "metadata": {},
     "output_type": "display_data"
    },
    {
     "data": {
      "text/html": [
       "Find logs at: <code>./wandb/run-20220829_205949-fu0kd9bw/logs</code>"
      ],
      "text/plain": [
       "<IPython.core.display.HTML object>"
      ]
     },
     "metadata": {},
     "output_type": "display_data"
    },
    {
     "name": "stderr",
     "output_type": "stream",
     "text": [
      "\u001b[34m\u001b[1mwandb\u001b[0m: Sweep Agent: Waiting for job.\n",
      "\u001b[34m\u001b[1mwandb\u001b[0m: Job received.\n",
      "\u001b[34m\u001b[1mwandb\u001b[0m: Agent Starting Run: pwmy6z54 with config:\n",
      "\u001b[34m\u001b[1mwandb\u001b[0m: \tbatch_size: 32\n",
      "\u001b[34m\u001b[1mwandb\u001b[0m: \tconv_layer_size: 32\n",
      "\u001b[34m\u001b[1mwandb\u001b[0m: \tdropout: 0.3\n",
      "\u001b[34m\u001b[1mwandb\u001b[0m: \tepochs: 5\n",
      "\u001b[34m\u001b[1mwandb\u001b[0m: \tlearning_rate: 0.0001\n"
     ]
    },
    {
     "data": {
      "text/html": [
       "wandb version 0.13.2 is available!  To upgrade, please run:\n",
       " $ pip install wandb --upgrade"
      ],
      "text/plain": [
       "<IPython.core.display.HTML object>"
      ]
     },
     "metadata": {},
     "output_type": "display_data"
    },
    {
     "data": {
      "text/html": [
       "Tracking run with wandb version 0.12.11"
      ],
      "text/plain": [
       "<IPython.core.display.HTML object>"
      ]
     },
     "metadata": {},
     "output_type": "display_data"
    },
    {
     "data": {
      "text/html": [
       "Run data is saved locally in <code>/Users/msf/GitHub/TensorFlow_MusicGenre_Classifier/wandb/run-20220829_210219-pwmy6z54</code>"
      ],
      "text/plain": [
       "<IPython.core.display.HTML object>"
      ]
     },
     "metadata": {},
     "output_type": "display_data"
    },
    {
     "data": {
      "text/html": [
       "Syncing run <strong><a href=\"https://wandb.ai/msaintfelix/Sweeps-Genre-Classifier/runs/pwmy6z54\" target=\"_blank\">astral-sweep-31</a></strong> to <a href=\"https://wandb.ai/msaintfelix/Sweeps-Genre-Classifier\" target=\"_blank\">Weights & Biases</a> (<a href=\"https://wandb.me/run\" target=\"_blank\">docs</a>)<br/>Sweep page:  <a href=\"https://wandb.ai/msaintfelix/Sweeps-Genre-Classifier/sweeps/e7xdbkpy\" target=\"_blank\">https://wandb.ai/msaintfelix/Sweeps-Genre-Classifier/sweeps/e7xdbkpy</a>"
      ],
      "text/plain": [
       "<IPython.core.display.HTML object>"
      ]
     },
     "metadata": {},
     "output_type": "display_data"
    },
    {
     "name": "stdout",
     "output_type": "stream",
     "text": [
      "(9990, 125, 13)\n",
      "Model: \"sequential\"\n",
      "_________________________________________________________________\n",
      "Layer (type)                 Output Shape              Param #   \n",
      "=================================================================\n",
      "conv2d (Conv2D)              (None, 123, 11, 32)       320       \n",
      "_________________________________________________________________\n",
      "max_pooling2d (MaxPooling2D) (None, 62, 6, 32)         0         \n",
      "_________________________________________________________________\n",
      "batch_normalization (BatchNo (None, 62, 6, 32)         128       \n",
      "_________________________________________________________________\n",
      "conv2d_1 (Conv2D)            (None, 60, 4, 32)         9248      \n",
      "_________________________________________________________________\n",
      "max_pooling2d_1 (MaxPooling2 (None, 30, 2, 32)         0         \n",
      "_________________________________________________________________\n",
      "batch_normalization_1 (Batch (None, 30, 2, 32)         128       \n",
      "_________________________________________________________________\n",
      "conv2d_2 (Conv2D)            (None, 29, 1, 32)         4128      \n",
      "_________________________________________________________________\n",
      "max_pooling2d_2 (MaxPooling2 (None, 15, 1, 32)         0         \n",
      "_________________________________________________________________\n",
      "batch_normalization_2 (Batch (None, 15, 1, 32)         128       \n",
      "_________________________________________________________________\n",
      "dropout (Dropout)            (None, 15, 1, 32)         0         \n",
      "_________________________________________________________________\n",
      "flatten (Flatten)            (None, 480)               0         \n",
      "_________________________________________________________________\n",
      "dense (Dense)                (None, 64)                30784     \n",
      "_________________________________________________________________\n",
      "dense_1 (Dense)              (None, 10)                650       \n",
      "=================================================================\n",
      "Total params: 45,514\n",
      "Trainable params: 45,322\n",
      "Non-trainable params: 192\n",
      "_________________________________________________________________\n",
      "Epoch 1/5\n",
      "200/200 [==============================] - 9s 39ms/step - loss: 2.5330 - acc: 0.1665 - val_loss: 1.8829 - val_acc: 0.3498\n",
      "Epoch 2/5\n",
      "200/200 [==============================] - 8s 40ms/step - loss: 1.8256 - acc: 0.3672 - val_loss: 1.5700 - val_acc: 0.4424\n",
      "Epoch 3/5\n",
      "200/200 [==============================] - 8s 39ms/step - loss: 1.6183 - acc: 0.4168 - val_loss: 1.4216 - val_acc: 0.4895\n",
      "Epoch 4/5\n",
      "200/200 [==============================] - 8s 40ms/step - loss: 1.4546 - acc: 0.4864 - val_loss: 1.3366 - val_acc: 0.5290\n",
      "Epoch 5/5\n",
      "200/200 [==============================] - 8s 40ms/step - loss: 1.3360 - acc: 0.5241 - val_loss: 1.2726 - val_acc: 0.5490\n",
      "\n",
      "---Now testing the model for one audio file---\n",
      "The model predicts: jazz, and ground truth is: jazz.\n",
      "\n",
      "\n"
     ]
    },
    {
     "data": {
      "text/html": [
       "Waiting for W&B process to finish... <strong style=\"color:green\">(success).</strong>"
      ],
      "text/plain": [
       "<IPython.core.display.HTML object>"
      ]
     },
     "metadata": {},
     "output_type": "display_data"
    },
    {
     "data": {
      "application/vnd.jupyter.widget-view+json": {
       "model_id": "",
       "version_major": 2,
       "version_minor": 0
      },
      "text/plain": [
       "VBox(children=(Label(value='0.419 MB of 0.419 MB uploaded (0.000 MB deduped)\\r'), FloatProgress(value=1.0, max…"
      ]
     },
     "metadata": {},
     "output_type": "display_data"
    },
    {
     "data": {
      "text/html": [
       "<style>\n",
       "    table.wandb td:nth-child(1) { padding: 0 10px; text-align: right }\n",
       "    .wandb-row { display: flex; flex-direction: row; flex-wrap: wrap; width: 100% }\n",
       "    .wandb-col { display: flex; flex-direction: column; flex-basis: 100%; flex: 1; padding: 10px; }\n",
       "    </style>\n",
       "<div class=\"wandb-row\"><div class=\"wandb-col\"><h3>Run history:</h3><br/><table class=\"wandb\"><tr><td>acc</td><td>▁▅▆▇█</td></tr><tr><td>epoch</td><td>▁▃▅▆█</td></tr><tr><td>loss</td><td>█▄▃▂▁</td></tr><tr><td>val_acc</td><td>▁▄▆▇█</td></tr><tr><td>val_loss</td><td>█▄▃▂▁</td></tr></table><br/></div><div class=\"wandb-col\"><h3>Run summary:</h3><br/><table class=\"wandb\"><tr><td>acc</td><td>0.51838</td></tr><tr><td>best_epoch</td><td>4</td></tr><tr><td>best_val_loss</td><td>1.27257</td></tr><tr><td>epoch</td><td>4</td></tr><tr><td>loss</td><td>1.34368</td></tr><tr><td>val_acc</td><td>0.54905</td></tr><tr><td>val_loss</td><td>1.27257</td></tr></table><br/></div></div>"
      ],
      "text/plain": [
       "<IPython.core.display.HTML object>"
      ]
     },
     "metadata": {},
     "output_type": "display_data"
    },
    {
     "data": {
      "text/html": [
       "Synced <strong style=\"color:#cdcd00\">astral-sweep-31</strong>: <a href=\"https://wandb.ai/msaintfelix/Sweeps-Genre-Classifier/runs/pwmy6z54\" target=\"_blank\">https://wandb.ai/msaintfelix/Sweeps-Genre-Classifier/runs/pwmy6z54</a><br/>Synced 6 W&B file(s), 1 media file(s), 0 artifact file(s) and 1 other file(s)"
      ],
      "text/plain": [
       "<IPython.core.display.HTML object>"
      ]
     },
     "metadata": {},
     "output_type": "display_data"
    },
    {
     "data": {
      "text/html": [
       "Find logs at: <code>./wandb/run-20220829_210219-pwmy6z54/logs</code>"
      ],
      "text/plain": [
       "<IPython.core.display.HTML object>"
      ]
     },
     "metadata": {},
     "output_type": "display_data"
    },
    {
     "name": "stderr",
     "output_type": "stream",
     "text": [
      "\u001b[34m\u001b[1mwandb\u001b[0m: Agent Starting Run: 3kfjfbax with config:\n",
      "\u001b[34m\u001b[1mwandb\u001b[0m: \tbatch_size: 64\n",
      "\u001b[34m\u001b[1mwandb\u001b[0m: \tconv_layer_size: 64\n",
      "\u001b[34m\u001b[1mwandb\u001b[0m: \tdropout: 0.5\n",
      "\u001b[34m\u001b[1mwandb\u001b[0m: \tepochs: 10\n",
      "\u001b[34m\u001b[1mwandb\u001b[0m: \tlearning_rate: 0.001\n"
     ]
    },
    {
     "data": {
      "text/html": [
       "wandb version 0.13.2 is available!  To upgrade, please run:\n",
       " $ pip install wandb --upgrade"
      ],
      "text/plain": [
       "<IPython.core.display.HTML object>"
      ]
     },
     "metadata": {},
     "output_type": "display_data"
    },
    {
     "data": {
      "text/html": [
       "Tracking run with wandb version 0.12.11"
      ],
      "text/plain": [
       "<IPython.core.display.HTML object>"
      ]
     },
     "metadata": {},
     "output_type": "display_data"
    },
    {
     "data": {
      "text/html": [
       "Run data is saved locally in <code>/Users/msf/GitHub/TensorFlow_MusicGenre_Classifier/wandb/run-20220829_210325-3kfjfbax</code>"
      ],
      "text/plain": [
       "<IPython.core.display.HTML object>"
      ]
     },
     "metadata": {},
     "output_type": "display_data"
    },
    {
     "data": {
      "text/html": [
       "Syncing run <strong><a href=\"https://wandb.ai/msaintfelix/Sweeps-Genre-Classifier/runs/3kfjfbax\" target=\"_blank\">super-sweep-32</a></strong> to <a href=\"https://wandb.ai/msaintfelix/Sweeps-Genre-Classifier\" target=\"_blank\">Weights & Biases</a> (<a href=\"https://wandb.me/run\" target=\"_blank\">docs</a>)<br/>Sweep page:  <a href=\"https://wandb.ai/msaintfelix/Sweeps-Genre-Classifier/sweeps/e7xdbkpy\" target=\"_blank\">https://wandb.ai/msaintfelix/Sweeps-Genre-Classifier/sweeps/e7xdbkpy</a>"
      ],
      "text/plain": [
       "<IPython.core.display.HTML object>"
      ]
     },
     "metadata": {},
     "output_type": "display_data"
    },
    {
     "name": "stdout",
     "output_type": "stream",
     "text": [
      "(9990, 125, 13)\n",
      "Model: \"sequential\"\n",
      "_________________________________________________________________\n",
      "Layer (type)                 Output Shape              Param #   \n",
      "=================================================================\n",
      "conv2d (Conv2D)              (None, 123, 11, 64)       640       \n",
      "_________________________________________________________________\n",
      "max_pooling2d (MaxPooling2D) (None, 62, 6, 64)         0         \n",
      "_________________________________________________________________\n",
      "batch_normalization (BatchNo (None, 62, 6, 64)         256       \n",
      "_________________________________________________________________\n",
      "conv2d_1 (Conv2D)            (None, 60, 4, 64)         36928     \n",
      "_________________________________________________________________\n",
      "max_pooling2d_1 (MaxPooling2 (None, 30, 2, 64)         0         \n",
      "_________________________________________________________________\n",
      "batch_normalization_1 (Batch (None, 30, 2, 64)         256       \n",
      "_________________________________________________________________\n",
      "conv2d_2 (Conv2D)            (None, 29, 1, 64)         16448     \n",
      "_________________________________________________________________\n",
      "max_pooling2d_2 (MaxPooling2 (None, 15, 1, 64)         0         \n",
      "_________________________________________________________________\n",
      "batch_normalization_2 (Batch (None, 15, 1, 64)         256       \n",
      "_________________________________________________________________\n",
      "dropout (Dropout)            (None, 15, 1, 64)         0         \n",
      "_________________________________________________________________\n",
      "flatten (Flatten)            (None, 960)               0         \n",
      "_________________________________________________________________\n",
      "dense (Dense)                (None, 64)                61504     \n",
      "_________________________________________________________________\n",
      "dense_1 (Dense)              (None, 10)                650       \n",
      "=================================================================\n",
      "Total params: 116,938\n",
      "Trainable params: 116,554\n",
      "Non-trainable params: 384\n",
      "_________________________________________________________________\n",
      "Epoch 1/10\n",
      "100/100 [==============================] - 13s 126ms/step - loss: 2.0186 - acc: 0.3410 - val_loss: 2.4570 - val_acc: 0.3223\n",
      "Epoch 2/10\n",
      "100/100 [==============================] - 12s 124ms/step - loss: 1.2796 - acc: 0.5585 - val_loss: 1.3973 - val_acc: 0.5556\n",
      "Epoch 3/10\n",
      "100/100 [==============================] - 13s 125ms/step - loss: 1.0286 - acc: 0.6469 - val_loss: 1.1421 - val_acc: 0.5821\n",
      "Epoch 4/10\n",
      "100/100 [==============================] - 12s 124ms/step - loss: 0.8961 - acc: 0.6897 - val_loss: 0.9645 - val_acc: 0.6562\n",
      "Epoch 5/10\n",
      "100/100 [==============================] - 13s 128ms/step - loss: 0.7681 - acc: 0.7241 - val_loss: 0.9879 - val_acc: 0.6617\n",
      "Epoch 6/10\n",
      "100/100 [==============================] - 13s 126ms/step - loss: 0.6925 - acc: 0.7630 - val_loss: 0.9263 - val_acc: 0.6867\n",
      "Epoch 7/10\n",
      "100/100 [==============================] - 13s 126ms/step - loss: 0.6182 - acc: 0.7785 - val_loss: 0.9536 - val_acc: 0.6937\n",
      "Epoch 8/10\n",
      "100/100 [==============================] - 13s 127ms/step - loss: 0.5867 - acc: 0.7973 - val_loss: 0.7363 - val_acc: 0.7452\n",
      "Epoch 9/10\n",
      "100/100 [==============================] - 13s 128ms/step - loss: 0.5211 - acc: 0.8232 - val_loss: 0.8092 - val_acc: 0.7312\n",
      "Epoch 10/10\n",
      "100/100 [==============================] - 13s 128ms/step - loss: 0.4749 - acc: 0.8271 - val_loss: 0.7664 - val_acc: 0.7382\n",
      "\n",
      "---Now testing the model for one audio file---\n",
      "The model predicts: reggae, and ground truth is: classical.\n",
      "\n",
      "\n"
     ]
    },
    {
     "data": {
      "text/html": [
       "Waiting for W&B process to finish... <strong style=\"color:green\">(success).</strong>"
      ],
      "text/plain": [
       "<IPython.core.display.HTML object>"
      ]
     },
     "metadata": {},
     "output_type": "display_data"
    },
    {
     "data": {
      "application/vnd.jupyter.widget-view+json": {
       "model_id": "",
       "version_major": 2,
       "version_minor": 0
      },
      "text/plain": [
       "VBox(children=(Label(value='0.965 MB of 0.965 MB uploaded (0.000 MB deduped)\\r'), FloatProgress(value=1.0, max…"
      ]
     },
     "metadata": {},
     "output_type": "display_data"
    },
    {
     "data": {
      "text/html": [
       "<style>\n",
       "    table.wandb td:nth-child(1) { padding: 0 10px; text-align: right }\n",
       "    .wandb-row { display: flex; flex-direction: row; flex-wrap: wrap; width: 100% }\n",
       "    .wandb-col { display: flex; flex-direction: column; flex-basis: 100%; flex: 1; padding: 10px; }\n",
       "    </style>\n",
       "<div class=\"wandb-row\"><div class=\"wandb-col\"><h3>Run history:</h3><br/><table class=\"wandb\"><tr><td>acc</td><td>▁▄▅▆▆▇▇███</td></tr><tr><td>epoch</td><td>▁▂▃▃▄▅▆▆▇█</td></tr><tr><td>loss</td><td>█▅▄▃▃▂▂▁▁▁</td></tr><tr><td>val_acc</td><td>▁▅▅▇▇▇▇███</td></tr><tr><td>val_loss</td><td>█▄▃▂▂▂▂▁▁▁</td></tr></table><br/></div><div class=\"wandb-col\"><h3>Run summary:</h3><br/><table class=\"wandb\"><tr><td>acc</td><td>0.82059</td></tr><tr><td>best_epoch</td><td>7</td></tr><tr><td>best_val_loss</td><td>0.73625</td></tr><tr><td>epoch</td><td>9</td></tr><tr><td>loss</td><td>0.49781</td></tr><tr><td>val_acc</td><td>0.73824</td></tr><tr><td>val_loss</td><td>0.76644</td></tr></table><br/></div></div>"
      ],
      "text/plain": [
       "<IPython.core.display.HTML object>"
      ]
     },
     "metadata": {},
     "output_type": "display_data"
    },
    {
     "data": {
      "text/html": [
       "Synced <strong style=\"color:#cdcd00\">super-sweep-32</strong>: <a href=\"https://wandb.ai/msaintfelix/Sweeps-Genre-Classifier/runs/3kfjfbax\" target=\"_blank\">https://wandb.ai/msaintfelix/Sweeps-Genre-Classifier/runs/3kfjfbax</a><br/>Synced 6 W&B file(s), 1 media file(s), 0 artifact file(s) and 1 other file(s)"
      ],
      "text/plain": [
       "<IPython.core.display.HTML object>"
      ]
     },
     "metadata": {},
     "output_type": "display_data"
    },
    {
     "data": {
      "text/html": [
       "Find logs at: <code>./wandb/run-20220829_210325-3kfjfbax/logs</code>"
      ],
      "text/plain": [
       "<IPython.core.display.HTML object>"
      ]
     },
     "metadata": {},
     "output_type": "display_data"
    },
    {
     "name": "stderr",
     "output_type": "stream",
     "text": [
      "\u001b[34m\u001b[1mwandb\u001b[0m: Agent Starting Run: l25o39ja with config:\n",
      "\u001b[34m\u001b[1mwandb\u001b[0m: \tbatch_size: 32\n",
      "\u001b[34m\u001b[1mwandb\u001b[0m: \tconv_layer_size: 64\n",
      "\u001b[34m\u001b[1mwandb\u001b[0m: \tdropout: 0.5\n",
      "\u001b[34m\u001b[1mwandb\u001b[0m: \tepochs: 5\n",
      "\u001b[34m\u001b[1mwandb\u001b[0m: \tlearning_rate: 0.0001\n"
     ]
    },
    {
     "data": {
      "text/html": [
       "wandb version 0.13.2 is available!  To upgrade, please run:\n",
       " $ pip install wandb --upgrade"
      ],
      "text/plain": [
       "<IPython.core.display.HTML object>"
      ]
     },
     "metadata": {},
     "output_type": "display_data"
    },
    {
     "data": {
      "text/html": [
       "Tracking run with wandb version 0.12.11"
      ],
      "text/plain": [
       "<IPython.core.display.HTML object>"
      ]
     },
     "metadata": {},
     "output_type": "display_data"
    },
    {
     "data": {
      "text/html": [
       "Run data is saved locally in <code>/Users/msf/GitHub/TensorFlow_MusicGenre_Classifier/wandb/run-20220829_210558-l25o39ja</code>"
      ],
      "text/plain": [
       "<IPython.core.display.HTML object>"
      ]
     },
     "metadata": {},
     "output_type": "display_data"
    },
    {
     "data": {
      "text/html": [
       "Syncing run <strong><a href=\"https://wandb.ai/msaintfelix/Sweeps-Genre-Classifier/runs/l25o39ja\" target=\"_blank\">happy-sweep-33</a></strong> to <a href=\"https://wandb.ai/msaintfelix/Sweeps-Genre-Classifier\" target=\"_blank\">Weights & Biases</a> (<a href=\"https://wandb.me/run\" target=\"_blank\">docs</a>)<br/>Sweep page:  <a href=\"https://wandb.ai/msaintfelix/Sweeps-Genre-Classifier/sweeps/e7xdbkpy\" target=\"_blank\">https://wandb.ai/msaintfelix/Sweeps-Genre-Classifier/sweeps/e7xdbkpy</a>"
      ],
      "text/plain": [
       "<IPython.core.display.HTML object>"
      ]
     },
     "metadata": {},
     "output_type": "display_data"
    },
    {
     "name": "stdout",
     "output_type": "stream",
     "text": [
      "(9990, 125, 13)\n",
      "Model: \"sequential\"\n",
      "_________________________________________________________________\n",
      "Layer (type)                 Output Shape              Param #   \n",
      "=================================================================\n",
      "conv2d (Conv2D)              (None, 123, 11, 64)       640       \n",
      "_________________________________________________________________\n",
      "max_pooling2d (MaxPooling2D) (None, 62, 6, 64)         0         \n",
      "_________________________________________________________________\n",
      "batch_normalization (BatchNo (None, 62, 6, 64)         256       \n",
      "_________________________________________________________________\n",
      "conv2d_1 (Conv2D)            (None, 60, 4, 64)         36928     \n",
      "_________________________________________________________________\n",
      "max_pooling2d_1 (MaxPooling2 (None, 30, 2, 64)         0         \n",
      "_________________________________________________________________\n",
      "batch_normalization_1 (Batch (None, 30, 2, 64)         256       \n",
      "_________________________________________________________________\n",
      "conv2d_2 (Conv2D)            (None, 29, 1, 64)         16448     \n",
      "_________________________________________________________________\n",
      "max_pooling2d_2 (MaxPooling2 (None, 15, 1, 64)         0         \n",
      "_________________________________________________________________\n",
      "batch_normalization_2 (Batch (None, 15, 1, 64)         256       \n",
      "_________________________________________________________________\n",
      "dropout (Dropout)            (None, 15, 1, 64)         0         \n",
      "_________________________________________________________________\n",
      "flatten (Flatten)            (None, 960)               0         \n",
      "_________________________________________________________________\n",
      "dense (Dense)                (None, 64)                61504     \n",
      "_________________________________________________________________\n",
      "dense_1 (Dense)              (None, 10)                650       \n",
      "=================================================================\n",
      "Total params: 116,938\n",
      "Trainable params: 116,554\n",
      "Non-trainable params: 384\n",
      "_________________________________________________________________\n",
      "Epoch 1/5\n",
      "200/200 [==============================] - 16s 77ms/step - loss: 2.6650 - acc: 0.2359 - val_loss: 1.6177 - val_acc: 0.4364\n",
      "Epoch 2/5\n",
      "200/200 [==============================] - 15s 77ms/step - loss: 1.7809 - acc: 0.4107 - val_loss: 1.3837 - val_acc: 0.5150\n",
      "Epoch 3/5\n",
      "200/200 [==============================] - 15s 76ms/step - loss: 1.5169 - acc: 0.4701 - val_loss: 1.2452 - val_acc: 0.5641\n",
      "Epoch 4/5\n",
      "200/200 [==============================] - 15s 76ms/step - loss: 1.3558 - acc: 0.5207 - val_loss: 1.1910 - val_acc: 0.5796\n",
      "Epoch 5/5\n",
      "200/200 [==============================] - 15s 76ms/step - loss: 1.2769 - acc: 0.5567 - val_loss: 1.1264 - val_acc: 0.6036\n",
      "\n",
      "---Now testing the model for one audio file---\n",
      "The model predicts: hiphop, and ground truth is: hiphop.\n",
      "\n",
      "\n"
     ]
    },
    {
     "data": {
      "text/html": [
       "Waiting for W&B process to finish... <strong style=\"color:green\">(success).</strong>"
      ],
      "text/plain": [
       "<IPython.core.display.HTML object>"
      ]
     },
     "metadata": {},
     "output_type": "display_data"
    },
    {
     "data": {
      "application/vnd.jupyter.widget-view+json": {
       "model_id": "",
       "version_major": 2,
       "version_minor": 0
      },
      "text/plain": [
       "VBox(children=(Label(value='0.965 MB of 0.965 MB uploaded (0.000 MB deduped)\\r'), FloatProgress(value=1.0, max…"
      ]
     },
     "metadata": {},
     "output_type": "display_data"
    },
    {
     "data": {
      "text/html": [
       "<style>\n",
       "    table.wandb td:nth-child(1) { padding: 0 10px; text-align: right }\n",
       "    .wandb-row { display: flex; flex-direction: row; flex-wrap: wrap; width: 100% }\n",
       "    .wandb-col { display: flex; flex-direction: column; flex-basis: 100%; flex: 1; padding: 10px; }\n",
       "    </style>\n",
       "<div class=\"wandb-row\"><div class=\"wandb-col\"><h3>Run history:</h3><br/><table class=\"wandb\"><tr><td>acc</td><td>▁▄▆▇█</td></tr><tr><td>epoch</td><td>▁▃▅▆█</td></tr><tr><td>loss</td><td>█▄▃▂▁</td></tr><tr><td>val_acc</td><td>▁▄▆▇█</td></tr><tr><td>val_loss</td><td>█▅▃▂▁</td></tr></table><br/></div><div class=\"wandb-col\"><h3>Run summary:</h3><br/><table class=\"wandb\"><tr><td>acc</td><td>0.56359</td></tr><tr><td>best_epoch</td><td>4</td></tr><tr><td>best_val_loss</td><td>1.12644</td></tr><tr><td>epoch</td><td>4</td></tr><tr><td>loss</td><td>1.24852</td></tr><tr><td>val_acc</td><td>0.6036</td></tr><tr><td>val_loss</td><td>1.12644</td></tr></table><br/></div></div>"
      ],
      "text/plain": [
       "<IPython.core.display.HTML object>"
      ]
     },
     "metadata": {},
     "output_type": "display_data"
    },
    {
     "data": {
      "text/html": [
       "Synced <strong style=\"color:#cdcd00\">happy-sweep-33</strong>: <a href=\"https://wandb.ai/msaintfelix/Sweeps-Genre-Classifier/runs/l25o39ja\" target=\"_blank\">https://wandb.ai/msaintfelix/Sweeps-Genre-Classifier/runs/l25o39ja</a><br/>Synced 6 W&B file(s), 1 media file(s), 0 artifact file(s) and 1 other file(s)"
      ],
      "text/plain": [
       "<IPython.core.display.HTML object>"
      ]
     },
     "metadata": {},
     "output_type": "display_data"
    },
    {
     "data": {
      "text/html": [
       "Find logs at: <code>./wandb/run-20220829_210558-l25o39ja/logs</code>"
      ],
      "text/plain": [
       "<IPython.core.display.HTML object>"
      ]
     },
     "metadata": {},
     "output_type": "display_data"
    },
    {
     "name": "stderr",
     "output_type": "stream",
     "text": [
      "\u001b[34m\u001b[1mwandb\u001b[0m: Agent Starting Run: zuwuy9az with config:\n",
      "\u001b[34m\u001b[1mwandb\u001b[0m: \tbatch_size: 32\n",
      "\u001b[34m\u001b[1mwandb\u001b[0m: \tconv_layer_size: 16\n",
      "\u001b[34m\u001b[1mwandb\u001b[0m: \tdropout: 0.4\n",
      "\u001b[34m\u001b[1mwandb\u001b[0m: \tepochs: 10\n",
      "\u001b[34m\u001b[1mwandb\u001b[0m: \tlearning_rate: 0.001\n"
     ]
    },
    {
     "data": {
      "text/html": [
       "wandb version 0.13.2 is available!  To upgrade, please run:\n",
       " $ pip install wandb --upgrade"
      ],
      "text/plain": [
       "<IPython.core.display.HTML object>"
      ]
     },
     "metadata": {},
     "output_type": "display_data"
    },
    {
     "data": {
      "text/html": [
       "Tracking run with wandb version 0.12.11"
      ],
      "text/plain": [
       "<IPython.core.display.HTML object>"
      ]
     },
     "metadata": {},
     "output_type": "display_data"
    },
    {
     "data": {
      "text/html": [
       "Run data is saved locally in <code>/Users/msf/GitHub/TensorFlow_MusicGenre_Classifier/wandb/run-20220829_210745-zuwuy9az</code>"
      ],
      "text/plain": [
       "<IPython.core.display.HTML object>"
      ]
     },
     "metadata": {},
     "output_type": "display_data"
    },
    {
     "data": {
      "text/html": [
       "Syncing run <strong><a href=\"https://wandb.ai/msaintfelix/Sweeps-Genre-Classifier/runs/zuwuy9az\" target=\"_blank\">eager-sweep-34</a></strong> to <a href=\"https://wandb.ai/msaintfelix/Sweeps-Genre-Classifier\" target=\"_blank\">Weights & Biases</a> (<a href=\"https://wandb.me/run\" target=\"_blank\">docs</a>)<br/>Sweep page:  <a href=\"https://wandb.ai/msaintfelix/Sweeps-Genre-Classifier/sweeps/e7xdbkpy\" target=\"_blank\">https://wandb.ai/msaintfelix/Sweeps-Genre-Classifier/sweeps/e7xdbkpy</a>"
      ],
      "text/plain": [
       "<IPython.core.display.HTML object>"
      ]
     },
     "metadata": {},
     "output_type": "display_data"
    },
    {
     "name": "stdout",
     "output_type": "stream",
     "text": [
      "(9990, 125, 13)\n",
      "Model: \"sequential\"\n",
      "_________________________________________________________________\n",
      "Layer (type)                 Output Shape              Param #   \n",
      "=================================================================\n",
      "conv2d (Conv2D)              (None, 123, 11, 16)       160       \n",
      "_________________________________________________________________\n",
      "max_pooling2d (MaxPooling2D) (None, 62, 6, 16)         0         \n",
      "_________________________________________________________________\n",
      "batch_normalization (BatchNo (None, 62, 6, 16)         64        \n",
      "_________________________________________________________________\n",
      "conv2d_1 (Conv2D)            (None, 60, 4, 16)         2320      \n",
      "_________________________________________________________________\n",
      "max_pooling2d_1 (MaxPooling2 (None, 30, 2, 16)         0         \n",
      "_________________________________________________________________\n",
      "batch_normalization_1 (Batch (None, 30, 2, 16)         64        \n",
      "_________________________________________________________________\n",
      "conv2d_2 (Conv2D)            (None, 29, 1, 16)         1040      \n",
      "_________________________________________________________________\n",
      "max_pooling2d_2 (MaxPooling2 (None, 15, 1, 16)         0         \n",
      "_________________________________________________________________\n",
      "batch_normalization_2 (Batch (None, 15, 1, 16)         64        \n",
      "_________________________________________________________________\n",
      "dropout (Dropout)            (None, 15, 1, 16)         0         \n",
      "_________________________________________________________________\n",
      "flatten (Flatten)            (None, 240)               0         \n",
      "_________________________________________________________________\n",
      "dense (Dense)                (None, 64)                15424     \n",
      "_________________________________________________________________\n",
      "dense_1 (Dense)              (None, 10)                650       \n",
      "=================================================================\n",
      "Total params: 19,786\n",
      "Trainable params: 19,690\n",
      "Non-trainable params: 96\n",
      "_________________________________________________________________\n",
      "Epoch 1/10\n",
      "200/200 [==============================] - 5s 24ms/step - loss: 2.0779 - acc: 0.3044 - val_loss: 1.4906 - val_acc: 0.4530\n",
      "Epoch 2/10\n",
      "200/200 [==============================] - 5s 23ms/step - loss: 1.3727 - acc: 0.5005 - val_loss: 1.1773 - val_acc: 0.5596\n",
      "Epoch 3/10\n",
      "200/200 [==============================] - 5s 24ms/step - loss: 1.2139 - acc: 0.5719 - val_loss: 1.1229 - val_acc: 0.5901\n",
      "Epoch 4/10\n",
      "200/200 [==============================] - 5s 24ms/step - loss: 1.0673 - acc: 0.6220 - val_loss: 1.0654 - val_acc: 0.6206\n",
      "Epoch 5/10\n",
      "200/200 [==============================] - 5s 25ms/step - loss: 1.0286 - acc: 0.6439 - val_loss: 0.9371 - val_acc: 0.6727\n",
      "Epoch 6/10\n",
      "200/200 [==============================] - 5s 24ms/step - loss: 0.9557 - acc: 0.6671 - val_loss: 0.9042 - val_acc: 0.6902\n",
      "Epoch 7/10\n",
      "200/200 [==============================] - 5s 25ms/step - loss: 0.9570 - acc: 0.6643 - val_loss: 0.9633 - val_acc: 0.6592\n",
      "Epoch 8/10\n",
      "200/200 [==============================] - 5s 25ms/step - loss: 0.9256 - acc: 0.6720 - val_loss: 0.8863 - val_acc: 0.6962\n",
      "Epoch 9/10\n",
      "200/200 [==============================] - 5s 25ms/step - loss: 0.8643 - acc: 0.6943 - val_loss: 0.9169 - val_acc: 0.6772\n",
      "Epoch 10/10\n",
      "200/200 [==============================] - 5s 25ms/step - loss: 0.8684 - acc: 0.6929 - val_loss: 0.9027 - val_acc: 0.6837\n",
      "\n",
      "---Now testing the model for one audio file---\n",
      "The model predicts: jazz, and ground truth is: jazz.\n",
      "\n",
      "\n"
     ]
    },
    {
     "data": {
      "text/html": [
       "Waiting for W&B process to finish... <strong style=\"color:green\">(success).</strong>"
      ],
      "text/plain": [
       "<IPython.core.display.HTML object>"
      ]
     },
     "metadata": {},
     "output_type": "display_data"
    },
    {
     "data": {
      "application/vnd.jupyter.widget-view+json": {
       "model_id": "",
       "version_major": 2,
       "version_minor": 0
      },
      "text/plain": [
       "VBox(children=(Label(value='0.224 MB of 0.224 MB uploaded (0.000 MB deduped)\\r'), FloatProgress(value=1.0, max…"
      ]
     },
     "metadata": {},
     "output_type": "display_data"
    },
    {
     "data": {
      "text/html": [
       "<style>\n",
       "    table.wandb td:nth-child(1) { padding: 0 10px; text-align: right }\n",
       "    .wandb-row { display: flex; flex-direction: row; flex-wrap: wrap; width: 100% }\n",
       "    .wandb-col { display: flex; flex-direction: column; flex-basis: 100%; flex: 1; padding: 10px; }\n",
       "    </style>\n",
       "<div class=\"wandb-row\"><div class=\"wandb-col\"><h3>Run history:</h3><br/><table class=\"wandb\"><tr><td>acc</td><td>▁▄▅▆▇▇▇███</td></tr><tr><td>epoch</td><td>▁▂▃▃▄▅▆▆▇█</td></tr><tr><td>loss</td><td>█▅▄▃▂▂▂▁▁▁</td></tr><tr><td>val_acc</td><td>▁▄▅▆▇█▇█▇█</td></tr><tr><td>val_loss</td><td>█▄▄▃▂▁▂▁▁▁</td></tr></table><br/></div><div class=\"wandb-col\"><h3>Run summary:</h3><br/><table class=\"wandb\"><tr><td>acc</td><td>0.69983</td></tr><tr><td>best_epoch</td><td>7</td></tr><tr><td>best_val_loss</td><td>0.88629</td></tr><tr><td>epoch</td><td>9</td></tr><tr><td>loss</td><td>0.84848</td></tr><tr><td>val_acc</td><td>0.68368</td></tr><tr><td>val_loss</td><td>0.90266</td></tr></table><br/></div></div>"
      ],
      "text/plain": [
       "<IPython.core.display.HTML object>"
      ]
     },
     "metadata": {},
     "output_type": "display_data"
    },
    {
     "data": {
      "text/html": [
       "Synced <strong style=\"color:#cdcd00\">eager-sweep-34</strong>: <a href=\"https://wandb.ai/msaintfelix/Sweeps-Genre-Classifier/runs/zuwuy9az\" target=\"_blank\">https://wandb.ai/msaintfelix/Sweeps-Genre-Classifier/runs/zuwuy9az</a><br/>Synced 6 W&B file(s), 1 media file(s), 0 artifact file(s) and 1 other file(s)"
      ],
      "text/plain": [
       "<IPython.core.display.HTML object>"
      ]
     },
     "metadata": {},
     "output_type": "display_data"
    },
    {
     "data": {
      "text/html": [
       "Find logs at: <code>./wandb/run-20220829_210745-zuwuy9az/logs</code>"
      ],
      "text/plain": [
       "<IPython.core.display.HTML object>"
      ]
     },
     "metadata": {},
     "output_type": "display_data"
    },
    {
     "name": "stderr",
     "output_type": "stream",
     "text": [
      "\u001b[34m\u001b[1mwandb\u001b[0m: Agent Starting Run: 1m7uxqn3 with config:\n",
      "\u001b[34m\u001b[1mwandb\u001b[0m: \tbatch_size: 64\n",
      "\u001b[34m\u001b[1mwandb\u001b[0m: \tconv_layer_size: 32\n",
      "\u001b[34m\u001b[1mwandb\u001b[0m: \tdropout: 0.5\n",
      "\u001b[34m\u001b[1mwandb\u001b[0m: \tepochs: 15\n",
      "\u001b[34m\u001b[1mwandb\u001b[0m: \tlearning_rate: 0.01\n"
     ]
    },
    {
     "data": {
      "text/html": [
       "wandb version 0.13.2 is available!  To upgrade, please run:\n",
       " $ pip install wandb --upgrade"
      ],
      "text/plain": [
       "<IPython.core.display.HTML object>"
      ]
     },
     "metadata": {},
     "output_type": "display_data"
    },
    {
     "data": {
      "text/html": [
       "Tracking run with wandb version 0.12.11"
      ],
      "text/plain": [
       "<IPython.core.display.HTML object>"
      ]
     },
     "metadata": {},
     "output_type": "display_data"
    },
    {
     "data": {
      "text/html": [
       "Run data is saved locally in <code>/Users/msf/GitHub/TensorFlow_MusicGenre_Classifier/wandb/run-20220829_210902-1m7uxqn3</code>"
      ],
      "text/plain": [
       "<IPython.core.display.HTML object>"
      ]
     },
     "metadata": {},
     "output_type": "display_data"
    },
    {
     "data": {
      "text/html": [
       "Syncing run <strong><a href=\"https://wandb.ai/msaintfelix/Sweeps-Genre-Classifier/runs/1m7uxqn3\" target=\"_blank\">proud-sweep-35</a></strong> to <a href=\"https://wandb.ai/msaintfelix/Sweeps-Genre-Classifier\" target=\"_blank\">Weights & Biases</a> (<a href=\"https://wandb.me/run\" target=\"_blank\">docs</a>)<br/>Sweep page:  <a href=\"https://wandb.ai/msaintfelix/Sweeps-Genre-Classifier/sweeps/e7xdbkpy\" target=\"_blank\">https://wandb.ai/msaintfelix/Sweeps-Genre-Classifier/sweeps/e7xdbkpy</a>"
      ],
      "text/plain": [
       "<IPython.core.display.HTML object>"
      ]
     },
     "metadata": {},
     "output_type": "display_data"
    },
    {
     "name": "stdout",
     "output_type": "stream",
     "text": [
      "(9990, 125, 13)\n",
      "Model: \"sequential\"\n",
      "_________________________________________________________________\n",
      "Layer (type)                 Output Shape              Param #   \n",
      "=================================================================\n",
      "conv2d (Conv2D)              (None, 123, 11, 32)       320       \n",
      "_________________________________________________________________\n",
      "max_pooling2d (MaxPooling2D) (None, 62, 6, 32)         0         \n",
      "_________________________________________________________________\n",
      "batch_normalization (BatchNo (None, 62, 6, 32)         128       \n",
      "_________________________________________________________________\n",
      "conv2d_1 (Conv2D)            (None, 60, 4, 32)         9248      \n",
      "_________________________________________________________________\n",
      "max_pooling2d_1 (MaxPooling2 (None, 30, 2, 32)         0         \n",
      "_________________________________________________________________\n",
      "batch_normalization_1 (Batch (None, 30, 2, 32)         128       \n",
      "_________________________________________________________________\n",
      "conv2d_2 (Conv2D)            (None, 29, 1, 32)         4128      \n",
      "_________________________________________________________________\n",
      "max_pooling2d_2 (MaxPooling2 (None, 15, 1, 32)         0         \n",
      "_________________________________________________________________\n",
      "batch_normalization_2 (Batch (None, 15, 1, 32)         128       \n",
      "_________________________________________________________________\n",
      "dropout (Dropout)            (None, 15, 1, 32)         0         \n",
      "_________________________________________________________________\n",
      "flatten (Flatten)            (None, 480)               0         \n",
      "_________________________________________________________________\n",
      "dense (Dense)                (None, 64)                30784     \n",
      "_________________________________________________________________\n",
      "dense_1 (Dense)              (None, 10)                650       \n",
      "=================================================================\n",
      "Total params: 45,514\n",
      "Trainable params: 45,322\n",
      "Non-trainable params: 192\n",
      "_________________________________________________________________\n",
      "Epoch 1/15\n",
      "100/100 [==============================] - 8s 75ms/step - loss: 2.5486 - acc: 0.3003 - val_loss: 8.4807 - val_acc: 0.2332\n",
      "Epoch 2/15\n",
      "100/100 [==============================] - 7s 74ms/step - loss: 1.3767 - acc: 0.5057 - val_loss: 5.9320 - val_acc: 0.2573\n",
      "Epoch 3/15\n",
      "100/100 [==============================] - 8s 76ms/step - loss: 1.2557 - acc: 0.5411 - val_loss: 1.6734 - val_acc: 0.5270\n",
      "Epoch 4/15\n",
      "100/100 [==============================] - 8s 76ms/step - loss: 1.0787 - acc: 0.6125 - val_loss: 1.3659 - val_acc: 0.5450\n",
      "Epoch 5/15\n",
      "100/100 [==============================] - 8s 76ms/step - loss: 1.0271 - acc: 0.6380 - val_loss: 1.1159 - val_acc: 0.6266\n",
      "Epoch 6/15\n",
      "100/100 [==============================] - 7s 75ms/step - loss: 0.9983 - acc: 0.6474 - val_loss: 1.4171 - val_acc: 0.5671\n",
      "Epoch 7/15\n",
      "100/100 [==============================] - 8s 75ms/step - loss: 0.9130 - acc: 0.6745 - val_loss: 1.3441 - val_acc: 0.5485\n",
      "Epoch 8/15\n",
      "100/100 [==============================] - 8s 75ms/step - loss: 0.8568 - acc: 0.6934 - val_loss: 1.7468 - val_acc: 0.5315\n",
      "Epoch 9/15\n",
      "100/100 [==============================] - 8s 75ms/step - loss: 0.8339 - acc: 0.7019 - val_loss: 0.9343 - val_acc: 0.7047\n",
      "Epoch 10/15\n",
      "100/100 [==============================] - 8s 75ms/step - loss: 0.8480 - acc: 0.7052 - val_loss: 1.0578 - val_acc: 0.6987\n",
      "Epoch 11/15\n",
      "100/100 [==============================] - 8s 75ms/step - loss: 0.7672 - acc: 0.7311 - val_loss: 1.4283 - val_acc: 0.5621\n",
      "Epoch 12/15\n",
      "100/100 [==============================] - 8s 75ms/step - loss: 0.7337 - acc: 0.7396 - val_loss: 1.1141 - val_acc: 0.6857\n",
      "Epoch 13/15\n",
      "100/100 [==============================] - 8s 75ms/step - loss: 0.7523 - acc: 0.7328 - val_loss: 0.8995 - val_acc: 0.6892\n",
      "Epoch 14/15\n",
      "100/100 [==============================] - 8s 75ms/step - loss: 0.7167 - acc: 0.7544 - val_loss: 1.4863 - val_acc: 0.6026\n",
      "Epoch 15/15\n",
      "100/100 [==============================] - 7s 75ms/step - loss: 0.6935 - acc: 0.7563 - val_loss: 1.0160 - val_acc: 0.6912\n",
      "\n",
      "---Now testing the model for one audio file---\n",
      "The model predicts: reggae, and ground truth is: reggae.\n",
      "\n",
      "\n"
     ]
    },
    {
     "data": {
      "text/html": [
       "Waiting for W&B process to finish... <strong style=\"color:green\">(success).</strong>"
      ],
      "text/plain": [
       "<IPython.core.display.HTML object>"
      ]
     },
     "metadata": {},
     "output_type": "display_data"
    },
    {
     "data": {
      "application/vnd.jupyter.widget-view+json": {
       "model_id": "",
       "version_major": 2,
       "version_minor": 0
      },
      "text/plain": [
       "VBox(children=(Label(value='0.419 MB of 0.419 MB uploaded (0.000 MB deduped)\\r'), FloatProgress(value=1.0, max…"
      ]
     },
     "metadata": {},
     "output_type": "display_data"
    },
    {
     "data": {
      "text/html": [
       "<style>\n",
       "    table.wandb td:nth-child(1) { padding: 0 10px; text-align: right }\n",
       "    .wandb-row { display: flex; flex-direction: row; flex-wrap: wrap; width: 100% }\n",
       "    .wandb-col { display: flex; flex-direction: column; flex-basis: 100%; flex: 1; padding: 10px; }\n",
       "    </style>\n",
       "<div class=\"wandb-row\"><div class=\"wandb-col\"><h3>Run history:</h3><br/><table class=\"wandb\"><tr><td>acc</td><td>▁▄▅▅▆▆▇▇▇▇█████</td></tr><tr><td>epoch</td><td>▁▁▂▃▃▃▄▅▅▅▆▇▇▇█</td></tr><tr><td>loss</td><td>█▅▄▃▃▃▂▂▂▂▁▁▁▁▁</td></tr><tr><td>val_acc</td><td>▁▁▅▆▇▆▆▅██▆██▆█</td></tr><tr><td>val_loss</td><td>█▆▂▁▁▁▁▂▁▁▁▁▁▂▁</td></tr></table><br/></div><div class=\"wandb-col\"><h3>Run summary:</h3><br/><table class=\"wandb\"><tr><td>acc</td><td>0.74894</td></tr><tr><td>best_epoch</td><td>12</td></tr><tr><td>best_val_loss</td><td>0.89949</td></tr><tr><td>epoch</td><td>14</td></tr><tr><td>loss</td><td>0.71072</td></tr><tr><td>val_acc</td><td>0.69119</td></tr><tr><td>val_loss</td><td>1.01596</td></tr></table><br/></div></div>"
      ],
      "text/plain": [
       "<IPython.core.display.HTML object>"
      ]
     },
     "metadata": {},
     "output_type": "display_data"
    },
    {
     "data": {
      "text/html": [
       "Synced <strong style=\"color:#cdcd00\">proud-sweep-35</strong>: <a href=\"https://wandb.ai/msaintfelix/Sweeps-Genre-Classifier/runs/1m7uxqn3\" target=\"_blank\">https://wandb.ai/msaintfelix/Sweeps-Genre-Classifier/runs/1m7uxqn3</a><br/>Synced 6 W&B file(s), 1 media file(s), 0 artifact file(s) and 1 other file(s)"
      ],
      "text/plain": [
       "<IPython.core.display.HTML object>"
      ]
     },
     "metadata": {},
     "output_type": "display_data"
    },
    {
     "data": {
      "text/html": [
       "Find logs at: <code>./wandb/run-20220829_210902-1m7uxqn3/logs</code>"
      ],
      "text/plain": [
       "<IPython.core.display.HTML object>"
      ]
     },
     "metadata": {},
     "output_type": "display_data"
    },
    {
     "name": "stderr",
     "output_type": "stream",
     "text": [
      "\u001b[34m\u001b[1mwandb\u001b[0m: Sweep Agent: Waiting for job.\n",
      "\u001b[34m\u001b[1mwandb\u001b[0m: Job received.\n",
      "\u001b[34m\u001b[1mwandb\u001b[0m: Agent Starting Run: clapqvr1 with config:\n",
      "\u001b[34m\u001b[1mwandb\u001b[0m: \tbatch_size: 64\n",
      "\u001b[34m\u001b[1mwandb\u001b[0m: \tconv_layer_size: 16\n",
      "\u001b[34m\u001b[1mwandb\u001b[0m: \tdropout: 0.5\n",
      "\u001b[34m\u001b[1mwandb\u001b[0m: \tepochs: 15\n",
      "\u001b[34m\u001b[1mwandb\u001b[0m: \tlearning_rate: 3e-05\n"
     ]
    },
    {
     "data": {
      "text/html": [
       "wandb version 0.13.2 is available!  To upgrade, please run:\n",
       " $ pip install wandb --upgrade"
      ],
      "text/plain": [
       "<IPython.core.display.HTML object>"
      ]
     },
     "metadata": {},
     "output_type": "display_data"
    },
    {
     "data": {
      "text/html": [
       "Tracking run with wandb version 0.12.11"
      ],
      "text/plain": [
       "<IPython.core.display.HTML object>"
      ]
     },
     "metadata": {},
     "output_type": "display_data"
    },
    {
     "data": {
      "text/html": [
       "Run data is saved locally in <code>/Users/msf/GitHub/TensorFlow_MusicGenre_Classifier/wandb/run-20220829_211130-clapqvr1</code>"
      ],
      "text/plain": [
       "<IPython.core.display.HTML object>"
      ]
     },
     "metadata": {},
     "output_type": "display_data"
    },
    {
     "data": {
      "text/html": [
       "Syncing run <strong><a href=\"https://wandb.ai/msaintfelix/Sweeps-Genre-Classifier/runs/clapqvr1\" target=\"_blank\">deep-sweep-36</a></strong> to <a href=\"https://wandb.ai/msaintfelix/Sweeps-Genre-Classifier\" target=\"_blank\">Weights & Biases</a> (<a href=\"https://wandb.me/run\" target=\"_blank\">docs</a>)<br/>Sweep page:  <a href=\"https://wandb.ai/msaintfelix/Sweeps-Genre-Classifier/sweeps/e7xdbkpy\" target=\"_blank\">https://wandb.ai/msaintfelix/Sweeps-Genre-Classifier/sweeps/e7xdbkpy</a>"
      ],
      "text/plain": [
       "<IPython.core.display.HTML object>"
      ]
     },
     "metadata": {},
     "output_type": "display_data"
    },
    {
     "name": "stdout",
     "output_type": "stream",
     "text": [
      "(9990, 125, 13)\n",
      "Model: \"sequential\"\n",
      "_________________________________________________________________\n",
      "Layer (type)                 Output Shape              Param #   \n",
      "=================================================================\n",
      "conv2d (Conv2D)              (None, 123, 11, 16)       160       \n",
      "_________________________________________________________________\n",
      "max_pooling2d (MaxPooling2D) (None, 62, 6, 16)         0         \n",
      "_________________________________________________________________\n",
      "batch_normalization (BatchNo (None, 62, 6, 16)         64        \n",
      "_________________________________________________________________\n",
      "conv2d_1 (Conv2D)            (None, 60, 4, 16)         2320      \n",
      "_________________________________________________________________\n",
      "max_pooling2d_1 (MaxPooling2 (None, 30, 2, 16)         0         \n",
      "_________________________________________________________________\n",
      "batch_normalization_1 (Batch (None, 30, 2, 16)         64        \n",
      "_________________________________________________________________\n",
      "conv2d_2 (Conv2D)            (None, 29, 1, 16)         1040      \n",
      "_________________________________________________________________\n",
      "max_pooling2d_2 (MaxPooling2 (None, 15, 1, 16)         0         \n",
      "_________________________________________________________________\n",
      "batch_normalization_2 (Batch (None, 15, 1, 16)         64        \n",
      "_________________________________________________________________\n",
      "dropout (Dropout)            (None, 15, 1, 16)         0         \n",
      "_________________________________________________________________\n",
      "flatten (Flatten)            (None, 240)               0         \n",
      "_________________________________________________________________\n",
      "dense (Dense)                (None, 64)                15424     \n",
      "_________________________________________________________________\n",
      "dense_1 (Dense)              (None, 10)                650       \n",
      "=================================================================\n",
      "Total params: 19,786\n",
      "Trainable params: 19,690\n",
      "Non-trainable params: 96\n",
      "_________________________________________________________________\n",
      "Epoch 1/15\n",
      "100/100 [==============================] - 5s 44ms/step - loss: 3.5781 - acc: 0.1073 - val_loss: 2.8560 - val_acc: 0.1061\n",
      "Epoch 2/15\n",
      "100/100 [==============================] - 4s 43ms/step - loss: 3.2475 - acc: 0.1156 - val_loss: 2.5412 - val_acc: 0.1301\n",
      "Epoch 3/15\n",
      "100/100 [==============================] - 4s 43ms/step - loss: 3.0480 - acc: 0.1266 - val_loss: 2.4280 - val_acc: 0.1732\n",
      "Epoch 4/15\n",
      "100/100 [==============================] - 4s 43ms/step - loss: 2.8387 - acc: 0.1606 - val_loss: 2.3304 - val_acc: 0.2122\n",
      "Epoch 5/15\n",
      "100/100 [==============================] - 4s 43ms/step - loss: 2.6805 - acc: 0.1886 - val_loss: 2.2398 - val_acc: 0.2487\n",
      "Epoch 6/15\n",
      "100/100 [==============================] - 5s 46ms/step - loss: 2.5980 - acc: 0.1953 - val_loss: 2.1591 - val_acc: 0.2788\n",
      "Epoch 7/15\n",
      "100/100 [==============================] - 4s 42ms/step - loss: 2.4787 - acc: 0.2185 - val_loss: 2.0842 - val_acc: 0.2948\n",
      "Epoch 8/15\n",
      "100/100 [==============================] - 4s 42ms/step - loss: 2.3580 - acc: 0.2454 - val_loss: 2.0240 - val_acc: 0.3048\n",
      "Epoch 9/15\n",
      "100/100 [==============================] - 4s 43ms/step - loss: 2.2771 - acc: 0.2673 - val_loss: 1.9715 - val_acc: 0.3143\n",
      "Epoch 10/15\n",
      "100/100 [==============================] - 4s 42ms/step - loss: 2.2444 - acc: 0.2658 - val_loss: 1.9263 - val_acc: 0.3253\n",
      "Epoch 11/15\n",
      "100/100 [==============================] - 4s 42ms/step - loss: 2.1935 - acc: 0.2719 - val_loss: 1.8829 - val_acc: 0.3318\n",
      "Epoch 12/15\n",
      "100/100 [==============================] - 4s 43ms/step - loss: 2.1384 - acc: 0.2973 - val_loss: 1.8449 - val_acc: 0.3408\n",
      "Epoch 13/15\n",
      "100/100 [==============================] - 4s 42ms/step - loss: 2.0590 - acc: 0.3130 - val_loss: 1.8077 - val_acc: 0.3483\n",
      "Epoch 14/15\n",
      "100/100 [==============================] - 4s 43ms/step - loss: 2.0453 - acc: 0.3080 - val_loss: 1.7734 - val_acc: 0.3554\n",
      "Epoch 15/15\n",
      "100/100 [==============================] - 4s 43ms/step - loss: 1.9866 - acc: 0.3261 - val_loss: 1.7441 - val_acc: 0.3714\n",
      "\n",
      "---Now testing the model for one audio file---\n",
      "The model predicts: pop, and ground truth is: country.\n",
      "\n",
      "\n"
     ]
    },
    {
     "data": {
      "text/html": [
       "Waiting for W&B process to finish... <strong style=\"color:green\">(success).</strong>"
      ],
      "text/plain": [
       "<IPython.core.display.HTML object>"
      ]
     },
     "metadata": {},
     "output_type": "display_data"
    },
    {
     "data": {
      "application/vnd.jupyter.widget-view+json": {
       "model_id": "",
       "version_major": 2,
       "version_minor": 0
      },
      "text/plain": [
       "VBox(children=(Label(value='0.224 MB of 0.224 MB uploaded (0.000 MB deduped)\\r'), FloatProgress(value=1.0, max…"
      ]
     },
     "metadata": {},
     "output_type": "display_data"
    },
    {
     "data": {
      "text/html": [
       "<style>\n",
       "    table.wandb td:nth-child(1) { padding: 0 10px; text-align: right }\n",
       "    .wandb-row { display: flex; flex-direction: row; flex-wrap: wrap; width: 100% }\n",
       "    .wandb-col { display: flex; flex-direction: column; flex-basis: 100%; flex: 1; padding: 10px; }\n",
       "    </style>\n",
       "<div class=\"wandb-row\"><div class=\"wandb-col\"><h3>Run history:</h3><br/><table class=\"wandb\"><tr><td>acc</td><td>▁▁▂▃▄▄▅▅▆▆▇▇▇▇█</td></tr><tr><td>epoch</td><td>▁▁▂▃▃▃▄▅▅▅▆▇▇▇█</td></tr><tr><td>loss</td><td>█▇▆▅▄▄▃▃▂▂▂▂▁▁▁</td></tr><tr><td>val_acc</td><td>▁▂▃▄▅▆▆▆▆▇▇▇▇██</td></tr><tr><td>val_loss</td><td>█▆▅▅▄▄▃▃▂▂▂▂▁▁▁</td></tr></table><br/></div><div class=\"wandb-col\"><h3>Run summary:</h3><br/><table class=\"wandb\"><tr><td>acc</td><td>0.32817</td></tr><tr><td>best_epoch</td><td>14</td></tr><tr><td>best_val_loss</td><td>1.7441</td></tr><tr><td>epoch</td><td>14</td></tr><tr><td>loss</td><td>1.98338</td></tr><tr><td>val_acc</td><td>0.37137</td></tr><tr><td>val_loss</td><td>1.7441</td></tr></table><br/></div></div>"
      ],
      "text/plain": [
       "<IPython.core.display.HTML object>"
      ]
     },
     "metadata": {},
     "output_type": "display_data"
    },
    {
     "data": {
      "text/html": [
       "Synced <strong style=\"color:#cdcd00\">deep-sweep-36</strong>: <a href=\"https://wandb.ai/msaintfelix/Sweeps-Genre-Classifier/runs/clapqvr1\" target=\"_blank\">https://wandb.ai/msaintfelix/Sweeps-Genre-Classifier/runs/clapqvr1</a><br/>Synced 6 W&B file(s), 1 media file(s), 0 artifact file(s) and 1 other file(s)"
      ],
      "text/plain": [
       "<IPython.core.display.HTML object>"
      ]
     },
     "metadata": {},
     "output_type": "display_data"
    },
    {
     "data": {
      "text/html": [
       "Find logs at: <code>./wandb/run-20220829_211130-clapqvr1/logs</code>"
      ],
      "text/plain": [
       "<IPython.core.display.HTML object>"
      ]
     },
     "metadata": {},
     "output_type": "display_data"
    },
    {
     "name": "stderr",
     "output_type": "stream",
     "text": [
      "\u001b[34m\u001b[1mwandb\u001b[0m: Agent Starting Run: z119jzwx with config:\n",
      "\u001b[34m\u001b[1mwandb\u001b[0m: \tbatch_size: 32\n",
      "\u001b[34m\u001b[1mwandb\u001b[0m: \tconv_layer_size: 32\n",
      "\u001b[34m\u001b[1mwandb\u001b[0m: \tdropout: 0.4\n",
      "\u001b[34m\u001b[1mwandb\u001b[0m: \tepochs: 15\n",
      "\u001b[34m\u001b[1mwandb\u001b[0m: \tlearning_rate: 0.01\n"
     ]
    },
    {
     "data": {
      "text/html": [
       "wandb version 0.13.2 is available!  To upgrade, please run:\n",
       " $ pip install wandb --upgrade"
      ],
      "text/plain": [
       "<IPython.core.display.HTML object>"
      ]
     },
     "metadata": {},
     "output_type": "display_data"
    },
    {
     "data": {
      "text/html": [
       "Tracking run with wandb version 0.12.11"
      ],
      "text/plain": [
       "<IPython.core.display.HTML object>"
      ]
     },
     "metadata": {},
     "output_type": "display_data"
    },
    {
     "data": {
      "text/html": [
       "Run data is saved locally in <code>/Users/msf/GitHub/TensorFlow_MusicGenre_Classifier/wandb/run-20220829_211303-z119jzwx</code>"
      ],
      "text/plain": [
       "<IPython.core.display.HTML object>"
      ]
     },
     "metadata": {},
     "output_type": "display_data"
    },
    {
     "data": {
      "text/html": [
       "Syncing run <strong><a href=\"https://wandb.ai/msaintfelix/Sweeps-Genre-Classifier/runs/z119jzwx\" target=\"_blank\">dutiful-sweep-37</a></strong> to <a href=\"https://wandb.ai/msaintfelix/Sweeps-Genre-Classifier\" target=\"_blank\">Weights & Biases</a> (<a href=\"https://wandb.me/run\" target=\"_blank\">docs</a>)<br/>Sweep page:  <a href=\"https://wandb.ai/msaintfelix/Sweeps-Genre-Classifier/sweeps/e7xdbkpy\" target=\"_blank\">https://wandb.ai/msaintfelix/Sweeps-Genre-Classifier/sweeps/e7xdbkpy</a>"
      ],
      "text/plain": [
       "<IPython.core.display.HTML object>"
      ]
     },
     "metadata": {},
     "output_type": "display_data"
    },
    {
     "name": "stdout",
     "output_type": "stream",
     "text": [
      "(9990, 125, 13)\n",
      "Model: \"sequential\"\n",
      "_________________________________________________________________\n",
      "Layer (type)                 Output Shape              Param #   \n",
      "=================================================================\n",
      "conv2d (Conv2D)              (None, 123, 11, 32)       320       \n",
      "_________________________________________________________________\n",
      "max_pooling2d (MaxPooling2D) (None, 62, 6, 32)         0         \n",
      "_________________________________________________________________\n",
      "batch_normalization (BatchNo (None, 62, 6, 32)         128       \n",
      "_________________________________________________________________\n",
      "conv2d_1 (Conv2D)            (None, 60, 4, 32)         9248      \n",
      "_________________________________________________________________\n",
      "max_pooling2d_1 (MaxPooling2 (None, 30, 2, 32)         0         \n",
      "_________________________________________________________________\n",
      "batch_normalization_1 (Batch (None, 30, 2, 32)         128       \n",
      "_________________________________________________________________\n",
      "conv2d_2 (Conv2D)            (None, 29, 1, 32)         4128      \n",
      "_________________________________________________________________\n",
      "max_pooling2d_2 (MaxPooling2 (None, 15, 1, 32)         0         \n",
      "_________________________________________________________________\n",
      "batch_normalization_2 (Batch (None, 15, 1, 32)         128       \n",
      "_________________________________________________________________\n",
      "dropout (Dropout)            (None, 15, 1, 32)         0         \n",
      "_________________________________________________________________\n",
      "flatten (Flatten)            (None, 480)               0         \n",
      "_________________________________________________________________\n",
      "dense (Dense)                (None, 64)                30784     \n",
      "_________________________________________________________________\n",
      "dense_1 (Dense)              (None, 10)                650       \n",
      "=================================================================\n",
      "Total params: 45,514\n",
      "Trainable params: 45,322\n",
      "Non-trainable params: 192\n",
      "_________________________________________________________________\n",
      "Epoch 1/15\n",
      "200/200 [==============================] - 8s 39ms/step - loss: 2.4400 - acc: 0.3151 - val_loss: 4.6788 - val_acc: 0.3458\n",
      "Epoch 2/15\n",
      "200/200 [==============================] - 8s 38ms/step - loss: 1.4404 - acc: 0.4848 - val_loss: 1.6255 - val_acc: 0.5020\n",
      "Epoch 3/15\n",
      "200/200 [==============================] - 8s 38ms/step - loss: 1.2742 - acc: 0.5499 - val_loss: 1.5447 - val_acc: 0.5465\n",
      "Epoch 4/15\n",
      "200/200 [==============================] - 8s 38ms/step - loss: 1.2037 - acc: 0.5736 - val_loss: 1.3508 - val_acc: 0.5485\n",
      "Epoch 5/15\n",
      "200/200 [==============================] - 8s 38ms/step - loss: 1.1446 - acc: 0.5923 - val_loss: 1.3591 - val_acc: 0.5335\n",
      "Epoch 6/15\n",
      "200/200 [==============================] - 8s 38ms/step - loss: 1.0516 - acc: 0.6320 - val_loss: 1.2276 - val_acc: 0.5846\n",
      "Epoch 7/15\n",
      "200/200 [==============================] - 8s 38ms/step - loss: 1.0286 - acc: 0.6286 - val_loss: 1.4343 - val_acc: 0.5100\n",
      "Epoch 8/15\n",
      "200/200 [==============================] - 8s 38ms/step - loss: 0.9923 - acc: 0.6470 - val_loss: 1.9848 - val_acc: 0.4515\n",
      "Epoch 9/15\n",
      "200/200 [==============================] - 8s 38ms/step - loss: 1.0090 - acc: 0.6518 - val_loss: 0.9400 - val_acc: 0.6642\n",
      "Epoch 10/15\n",
      "200/200 [==============================] - 8s 39ms/step - loss: 0.9587 - acc: 0.6612 - val_loss: 1.0788 - val_acc: 0.6642\n",
      "Epoch 11/15\n",
      "200/200 [==============================] - 8s 39ms/step - loss: 0.9384 - acc: 0.6758 - val_loss: 1.1824 - val_acc: 0.6341\n",
      "Epoch 12/15\n",
      "200/200 [==============================] - 8s 39ms/step - loss: 0.9355 - acc: 0.6978 - val_loss: 1.4533 - val_acc: 0.6121\n",
      "Epoch 13/15\n",
      "200/200 [==============================] - 8s 40ms/step - loss: 0.9167 - acc: 0.6868 - val_loss: 1.2073 - val_acc: 0.6096\n",
      "Epoch 14/15\n",
      "200/200 [==============================] - 8s 40ms/step - loss: 0.9328 - acc: 0.6902 - val_loss: 0.9759 - val_acc: 0.6732\n",
      "Epoch 15/15\n",
      "200/200 [==============================] - 8s 40ms/step - loss: 0.9257 - acc: 0.6955 - val_loss: 0.9773 - val_acc: 0.6712\n",
      "\n",
      "---Now testing the model for one audio file---\n",
      "The model predicts: jazz, and ground truth is: jazz.\n",
      "\n",
      "\n"
     ]
    },
    {
     "data": {
      "text/html": [
       "Waiting for W&B process to finish... <strong style=\"color:green\">(success).</strong>"
      ],
      "text/plain": [
       "<IPython.core.display.HTML object>"
      ]
     },
     "metadata": {},
     "output_type": "display_data"
    },
    {
     "data": {
      "application/vnd.jupyter.widget-view+json": {
       "model_id": "",
       "version_major": 2,
       "version_minor": 0
      },
      "text/plain": [
       "VBox(children=(Label(value='0.419 MB of 0.419 MB uploaded (0.000 MB deduped)\\r'), FloatProgress(value=1.0, max…"
      ]
     },
     "metadata": {},
     "output_type": "display_data"
    },
    {
     "data": {
      "text/html": [
       "<style>\n",
       "    table.wandb td:nth-child(1) { padding: 0 10px; text-align: right }\n",
       "    .wandb-row { display: flex; flex-direction: row; flex-wrap: wrap; width: 100% }\n",
       "    .wandb-col { display: flex; flex-direction: column; flex-basis: 100%; flex: 1; padding: 10px; }\n",
       "    </style>\n",
       "<div class=\"wandb-row\"><div class=\"wandb-col\"><h3>Run history:</h3><br/><table class=\"wandb\"><tr><td>acc</td><td>▁▃▅▅▆▆▆▇▇▇█████</td></tr><tr><td>epoch</td><td>▁▁▂▃▃▃▄▅▅▅▆▇▇▇█</td></tr><tr><td>loss</td><td>█▄▄▃▃▂▂▂▂▁▁▁▁▁▁</td></tr><tr><td>val_acc</td><td>▁▄▅▅▅▆▅▃██▇▇▇██</td></tr><tr><td>val_loss</td><td>█▂▂▂▂▂▂▃▁▁▁▂▂▁▁</td></tr></table><br/></div><div class=\"wandb-col\"><h3>Run summary:</h3><br/><table class=\"wandb\"><tr><td>acc</td><td>0.68747</td></tr><tr><td>best_epoch</td><td>8</td></tr><tr><td>best_val_loss</td><td>0.93998</td></tr><tr><td>epoch</td><td>14</td></tr><tr><td>loss</td><td>0.94511</td></tr><tr><td>val_acc</td><td>0.67117</td></tr><tr><td>val_loss</td><td>0.97728</td></tr></table><br/></div></div>"
      ],
      "text/plain": [
       "<IPython.core.display.HTML object>"
      ]
     },
     "metadata": {},
     "output_type": "display_data"
    },
    {
     "data": {
      "text/html": [
       "Synced <strong style=\"color:#cdcd00\">dutiful-sweep-37</strong>: <a href=\"https://wandb.ai/msaintfelix/Sweeps-Genre-Classifier/runs/z119jzwx\" target=\"_blank\">https://wandb.ai/msaintfelix/Sweeps-Genre-Classifier/runs/z119jzwx</a><br/>Synced 6 W&B file(s), 1 media file(s), 0 artifact file(s) and 1 other file(s)"
      ],
      "text/plain": [
       "<IPython.core.display.HTML object>"
      ]
     },
     "metadata": {},
     "output_type": "display_data"
    },
    {
     "data": {
      "text/html": [
       "Find logs at: <code>./wandb/run-20220829_211303-z119jzwx/logs</code>"
      ],
      "text/plain": [
       "<IPython.core.display.HTML object>"
      ]
     },
     "metadata": {},
     "output_type": "display_data"
    },
    {
     "name": "stderr",
     "output_type": "stream",
     "text": [
      "\u001b[34m\u001b[1mwandb\u001b[0m: Agent Starting Run: emys5ifs with config:\n",
      "\u001b[34m\u001b[1mwandb\u001b[0m: \tbatch_size: 64\n",
      "\u001b[34m\u001b[1mwandb\u001b[0m: \tconv_layer_size: 32\n",
      "\u001b[34m\u001b[1mwandb\u001b[0m: \tdropout: 0.5\n",
      "\u001b[34m\u001b[1mwandb\u001b[0m: \tepochs: 5\n",
      "\u001b[34m\u001b[1mwandb\u001b[0m: \tlearning_rate: 1e-05\n"
     ]
    },
    {
     "data": {
      "text/html": [
       "wandb version 0.13.2 is available!  To upgrade, please run:\n",
       " $ pip install wandb --upgrade"
      ],
      "text/plain": [
       "<IPython.core.display.HTML object>"
      ]
     },
     "metadata": {},
     "output_type": "display_data"
    },
    {
     "data": {
      "text/html": [
       "Tracking run with wandb version 0.12.11"
      ],
      "text/plain": [
       "<IPython.core.display.HTML object>"
      ]
     },
     "metadata": {},
     "output_type": "display_data"
    },
    {
     "data": {
      "text/html": [
       "Run data is saved locally in <code>/Users/msf/GitHub/TensorFlow_MusicGenre_Classifier/wandb/run-20220829_211527-emys5ifs</code>"
      ],
      "text/plain": [
       "<IPython.core.display.HTML object>"
      ]
     },
     "metadata": {},
     "output_type": "display_data"
    },
    {
     "data": {
      "text/html": [
       "Syncing run <strong><a href=\"https://wandb.ai/msaintfelix/Sweeps-Genre-Classifier/runs/emys5ifs\" target=\"_blank\">desert-sweep-38</a></strong> to <a href=\"https://wandb.ai/msaintfelix/Sweeps-Genre-Classifier\" target=\"_blank\">Weights & Biases</a> (<a href=\"https://wandb.me/run\" target=\"_blank\">docs</a>)<br/>Sweep page:  <a href=\"https://wandb.ai/msaintfelix/Sweeps-Genre-Classifier/sweeps/e7xdbkpy\" target=\"_blank\">https://wandb.ai/msaintfelix/Sweeps-Genre-Classifier/sweeps/e7xdbkpy</a>"
      ],
      "text/plain": [
       "<IPython.core.display.HTML object>"
      ]
     },
     "metadata": {},
     "output_type": "display_data"
    },
    {
     "name": "stdout",
     "output_type": "stream",
     "text": [
      "(9990, 125, 13)\n",
      "Model: \"sequential\"\n",
      "_________________________________________________________________\n",
      "Layer (type)                 Output Shape              Param #   \n",
      "=================================================================\n",
      "conv2d (Conv2D)              (None, 123, 11, 32)       320       \n",
      "_________________________________________________________________\n",
      "max_pooling2d (MaxPooling2D) (None, 62, 6, 32)         0         \n",
      "_________________________________________________________________\n",
      "batch_normalization (BatchNo (None, 62, 6, 32)         128       \n",
      "_________________________________________________________________\n",
      "conv2d_1 (Conv2D)            (None, 60, 4, 32)         9248      \n",
      "_________________________________________________________________\n",
      "max_pooling2d_1 (MaxPooling2 (None, 30, 2, 32)         0         \n",
      "_________________________________________________________________\n",
      "batch_normalization_1 (Batch (None, 30, 2, 32)         128       \n",
      "_________________________________________________________________\n",
      "conv2d_2 (Conv2D)            (None, 29, 1, 32)         4128      \n",
      "_________________________________________________________________\n",
      "max_pooling2d_2 (MaxPooling2 (None, 15, 1, 32)         0         \n",
      "_________________________________________________________________\n",
      "batch_normalization_2 (Batch (None, 15, 1, 32)         128       \n",
      "_________________________________________________________________\n",
      "dropout (Dropout)            (None, 15, 1, 32)         0         \n",
      "_________________________________________________________________\n",
      "flatten (Flatten)            (None, 480)               0         \n",
      "_________________________________________________________________\n",
      "dense (Dense)                (None, 64)                30784     \n",
      "_________________________________________________________________\n",
      "dense_1 (Dense)              (None, 10)                650       \n",
      "=================================================================\n",
      "Total params: 45,514\n",
      "Trainable params: 45,322\n",
      "Non-trainable params: 192\n",
      "_________________________________________________________________\n",
      "Epoch 1/5\n",
      "100/100 [==============================] - 8s 73ms/step - loss: 3.1368 - acc: 0.1111 - val_loss: 2.5554 - val_acc: 0.0971\n",
      "Epoch 2/5\n",
      "100/100 [==============================] - 7s 73ms/step - loss: 2.9511 - acc: 0.1203 - val_loss: 2.3408 - val_acc: 0.1607\n",
      "Epoch 3/5\n",
      "100/100 [==============================] - 7s 73ms/step - loss: 2.7876 - acc: 0.1534 - val_loss: 2.2392 - val_acc: 0.2052\n",
      "Epoch 4/5\n",
      "100/100 [==============================] - 7s 70ms/step - loss: 2.6979 - acc: 0.1658 - val_loss: 2.1625 - val_acc: 0.2427\n",
      "Epoch 5/5\n",
      "100/100 [==============================] - 7s 71ms/step - loss: 2.5718 - acc: 0.2008 - val_loss: 2.1004 - val_acc: 0.2753\n",
      "\n",
      "---Now testing the model for one audio file---\n",
      "The model predicts: metal, and ground truth is: country.\n",
      "\n",
      "\n"
     ]
    },
    {
     "data": {
      "text/html": [
       "Waiting for W&B process to finish... <strong style=\"color:green\">(success).</strong>"
      ],
      "text/plain": [
       "<IPython.core.display.HTML object>"
      ]
     },
     "metadata": {},
     "output_type": "display_data"
    },
    {
     "data": {
      "application/vnd.jupyter.widget-view+json": {
       "model_id": "",
       "version_major": 2,
       "version_minor": 0
      },
      "text/plain": [
       "VBox(children=(Label(value='0.419 MB of 0.419 MB uploaded (0.000 MB deduped)\\r'), FloatProgress(value=1.0, max…"
      ]
     },
     "metadata": {},
     "output_type": "display_data"
    },
    {
     "data": {
      "text/html": [
       "<style>\n",
       "    table.wandb td:nth-child(1) { padding: 0 10px; text-align: right }\n",
       "    .wandb-row { display: flex; flex-direction: row; flex-wrap: wrap; width: 100% }\n",
       "    .wandb-col { display: flex; flex-direction: column; flex-basis: 100%; flex: 1; padding: 10px; }\n",
       "    </style>\n",
       "<div class=\"wandb-row\"><div class=\"wandb-col\"><h3>Run history:</h3><br/><table class=\"wandb\"><tr><td>acc</td><td>▁▂▅▇█</td></tr><tr><td>epoch</td><td>▁▃▅▆█</td></tr><tr><td>loss</td><td>█▆▄▂▁</td></tr><tr><td>val_acc</td><td>▁▃▅▇█</td></tr><tr><td>val_loss</td><td>█▅▃▂▁</td></tr></table><br/></div><div class=\"wandb-col\"><h3>Run summary:</h3><br/><table class=\"wandb\"><tr><td>acc</td><td>0.19052</td></tr><tr><td>best_epoch</td><td>4</td></tr><tr><td>best_val_loss</td><td>2.10042</td></tr><tr><td>epoch</td><td>4</td></tr><tr><td>loss</td><td>2.58499</td></tr><tr><td>val_acc</td><td>0.27528</td></tr><tr><td>val_loss</td><td>2.10042</td></tr></table><br/></div></div>"
      ],
      "text/plain": [
       "<IPython.core.display.HTML object>"
      ]
     },
     "metadata": {},
     "output_type": "display_data"
    },
    {
     "data": {
      "text/html": [
       "Synced <strong style=\"color:#cdcd00\">desert-sweep-38</strong>: <a href=\"https://wandb.ai/msaintfelix/Sweeps-Genre-Classifier/runs/emys5ifs\" target=\"_blank\">https://wandb.ai/msaintfelix/Sweeps-Genre-Classifier/runs/emys5ifs</a><br/>Synced 6 W&B file(s), 1 media file(s), 0 artifact file(s) and 1 other file(s)"
      ],
      "text/plain": [
       "<IPython.core.display.HTML object>"
      ]
     },
     "metadata": {},
     "output_type": "display_data"
    },
    {
     "data": {
      "text/html": [
       "Find logs at: <code>./wandb/run-20220829_211527-emys5ifs/logs</code>"
      ],
      "text/plain": [
       "<IPython.core.display.HTML object>"
      ]
     },
     "metadata": {},
     "output_type": "display_data"
    },
    {
     "name": "stderr",
     "output_type": "stream",
     "text": [
      "\u001b[34m\u001b[1mwandb\u001b[0m: Sweep Agent: Waiting for job.\n",
      "\u001b[34m\u001b[1mwandb\u001b[0m: Job received.\n",
      "\u001b[34m\u001b[1mwandb\u001b[0m: Agent Starting Run: ow20qg78 with config:\n",
      "\u001b[34m\u001b[1mwandb\u001b[0m: \tbatch_size: 64\n",
      "\u001b[34m\u001b[1mwandb\u001b[0m: \tconv_layer_size: 16\n",
      "\u001b[34m\u001b[1mwandb\u001b[0m: \tdropout: 0.5\n",
      "\u001b[34m\u001b[1mwandb\u001b[0m: \tepochs: 10\n",
      "\u001b[34m\u001b[1mwandb\u001b[0m: \tlearning_rate: 0.001\n"
     ]
    },
    {
     "data": {
      "text/html": [
       "wandb version 0.13.2 is available!  To upgrade, please run:\n",
       " $ pip install wandb --upgrade"
      ],
      "text/plain": [
       "<IPython.core.display.HTML object>"
      ]
     },
     "metadata": {},
     "output_type": "display_data"
    },
    {
     "data": {
      "text/html": [
       "Tracking run with wandb version 0.12.11"
      ],
      "text/plain": [
       "<IPython.core.display.HTML object>"
      ]
     },
     "metadata": {},
     "output_type": "display_data"
    },
    {
     "data": {
      "text/html": [
       "Run data is saved locally in <code>/Users/msf/GitHub/TensorFlow_MusicGenre_Classifier/wandb/run-20220829_211639-ow20qg78</code>"
      ],
      "text/plain": [
       "<IPython.core.display.HTML object>"
      ]
     },
     "metadata": {},
     "output_type": "display_data"
    },
    {
     "data": {
      "text/html": [
       "Syncing run <strong><a href=\"https://wandb.ai/msaintfelix/Sweeps-Genre-Classifier/runs/ow20qg78\" target=\"_blank\">unique-sweep-39</a></strong> to <a href=\"https://wandb.ai/msaintfelix/Sweeps-Genre-Classifier\" target=\"_blank\">Weights & Biases</a> (<a href=\"https://wandb.me/run\" target=\"_blank\">docs</a>)<br/>Sweep page:  <a href=\"https://wandb.ai/msaintfelix/Sweeps-Genre-Classifier/sweeps/e7xdbkpy\" target=\"_blank\">https://wandb.ai/msaintfelix/Sweeps-Genre-Classifier/sweeps/e7xdbkpy</a>"
      ],
      "text/plain": [
       "<IPython.core.display.HTML object>"
      ]
     },
     "metadata": {},
     "output_type": "display_data"
    },
    {
     "name": "stdout",
     "output_type": "stream",
     "text": [
      "(9990, 125, 13)\n",
      "Model: \"sequential\"\n",
      "_________________________________________________________________\n",
      "Layer (type)                 Output Shape              Param #   \n",
      "=================================================================\n",
      "conv2d (Conv2D)              (None, 123, 11, 16)       160       \n",
      "_________________________________________________________________\n",
      "max_pooling2d (MaxPooling2D) (None, 62, 6, 16)         0         \n",
      "_________________________________________________________________\n",
      "batch_normalization (BatchNo (None, 62, 6, 16)         64        \n",
      "_________________________________________________________________\n",
      "conv2d_1 (Conv2D)            (None, 60, 4, 16)         2320      \n",
      "_________________________________________________________________\n",
      "max_pooling2d_1 (MaxPooling2 (None, 30, 2, 16)         0         \n",
      "_________________________________________________________________\n",
      "batch_normalization_1 (Batch (None, 30, 2, 16)         64        \n",
      "_________________________________________________________________\n",
      "conv2d_2 (Conv2D)            (None, 29, 1, 16)         1040      \n",
      "_________________________________________________________________\n",
      "max_pooling2d_2 (MaxPooling2 (None, 15, 1, 16)         0         \n",
      "_________________________________________________________________\n",
      "batch_normalization_2 (Batch (None, 15, 1, 16)         64        \n",
      "_________________________________________________________________\n",
      "dropout (Dropout)            (None, 15, 1, 16)         0         \n",
      "_________________________________________________________________\n",
      "flatten (Flatten)            (None, 240)               0         \n",
      "_________________________________________________________________\n",
      "dense (Dense)                (None, 64)                15424     \n",
      "_________________________________________________________________\n",
      "dense_1 (Dense)              (None, 10)                650       \n",
      "=================================================================\n",
      "Total params: 19,786\n",
      "Trainable params: 19,690\n",
      "Non-trainable params: 96\n",
      "_________________________________________________________________\n",
      "Epoch 1/10\n",
      "100/100 [==============================] - 5s 45ms/step - loss: 2.2758 - acc: 0.2632 - val_loss: 2.2941 - val_acc: 0.2307\n",
      "Epoch 2/10\n",
      "100/100 [==============================] - 5s 45ms/step - loss: 1.5123 - acc: 0.4491 - val_loss: 1.5594 - val_acc: 0.4134\n",
      "Epoch 3/10\n",
      "100/100 [==============================] - 5s 45ms/step - loss: 1.3164 - acc: 0.5178 - val_loss: 1.2195 - val_acc: 0.5556\n",
      "Epoch 4/10\n",
      "100/100 [==============================] - 4s 45ms/step - loss: 1.2026 - acc: 0.5689 - val_loss: 1.0892 - val_acc: 0.6171\n",
      "Epoch 5/10\n",
      "100/100 [==============================] - 4s 45ms/step - loss: 1.1061 - acc: 0.5950 - val_loss: 1.0871 - val_acc: 0.6241\n",
      "Epoch 6/10\n",
      "100/100 [==============================] - 4s 45ms/step - loss: 1.0251 - acc: 0.6378 - val_loss: 1.1224 - val_acc: 0.6031\n",
      "Epoch 7/10\n",
      "100/100 [==============================] - 4s 45ms/step - loss: 1.0042 - acc: 0.6464 - val_loss: 1.0804 - val_acc: 0.6136\n",
      "Epoch 8/10\n",
      "100/100 [==============================] - 5s 46ms/step - loss: 0.9456 - acc: 0.6668 - val_loss: 1.0442 - val_acc: 0.6306\n",
      "Epoch 9/10\n",
      "100/100 [==============================] - 4s 45ms/step - loss: 0.9078 - acc: 0.6728 - val_loss: 0.9556 - val_acc: 0.6557\n",
      "Epoch 10/10\n",
      "100/100 [==============================] - 5s 45ms/step - loss: 0.9202 - acc: 0.6665 - val_loss: 0.9233 - val_acc: 0.6792\n",
      "\n",
      "---Now testing the model for one audio file---\n",
      "The model predicts: country, and ground truth is: pop.\n",
      "\n",
      "\n"
     ]
    },
    {
     "data": {
      "text/html": [
       "Waiting for W&B process to finish... <strong style=\"color:green\">(success).</strong>"
      ],
      "text/plain": [
       "<IPython.core.display.HTML object>"
      ]
     },
     "metadata": {},
     "output_type": "display_data"
    },
    {
     "data": {
      "application/vnd.jupyter.widget-view+json": {
       "model_id": "",
       "version_major": 2,
       "version_minor": 0
      },
      "text/plain": [
       "VBox(children=(Label(value='0.123 MB of 0.123 MB uploaded (0.000 MB deduped)\\r'), FloatProgress(value=1.0, max…"
      ]
     },
     "metadata": {},
     "output_type": "display_data"
    },
    {
     "data": {
      "text/html": [
       "<style>\n",
       "    table.wandb td:nth-child(1) { padding: 0 10px; text-align: right }\n",
       "    .wandb-row { display: flex; flex-direction: row; flex-wrap: wrap; width: 100% }\n",
       "    .wandb-col { display: flex; flex-direction: column; flex-basis: 100%; flex: 1; padding: 10px; }\n",
       "    </style>\n",
       "<div class=\"wandb-row\"><div class=\"wandb-col\"><h3>Run history:</h3><br/><table class=\"wandb\"><tr><td>acc</td><td>▁▄▅▆▆▇▇███</td></tr><tr><td>epoch</td><td>▁▂▃▃▄▅▆▆▇█</td></tr><tr><td>loss</td><td>█▅▄▃▂▂▂▁▁▁</td></tr><tr><td>val_acc</td><td>▁▄▆▇▇▇▇▇██</td></tr><tr><td>val_loss</td><td>█▄▃▂▂▂▂▂▁▁</td></tr></table><br/></div><div class=\"wandb-col\"><h3>Run summary:</h3><br/><table class=\"wandb\"><tr><td>acc</td><td>0.67746</td></tr><tr><td>best_epoch</td><td>9</td></tr><tr><td>best_val_loss</td><td>0.9233</td></tr><tr><td>epoch</td><td>9</td></tr><tr><td>loss</td><td>0.89787</td></tr><tr><td>val_acc</td><td>0.67918</td></tr><tr><td>val_loss</td><td>0.9233</td></tr></table><br/></div></div>"
      ],
      "text/plain": [
       "<IPython.core.display.HTML object>"
      ]
     },
     "metadata": {},
     "output_type": "display_data"
    },
    {
     "data": {
      "text/html": [
       "Synced <strong style=\"color:#cdcd00\">unique-sweep-39</strong>: <a href=\"https://wandb.ai/msaintfelix/Sweeps-Genre-Classifier/runs/ow20qg78\" target=\"_blank\">https://wandb.ai/msaintfelix/Sweeps-Genre-Classifier/runs/ow20qg78</a><br/>Synced 6 W&B file(s), 1 media file(s), 0 artifact file(s) and 1 other file(s)"
      ],
      "text/plain": [
       "<IPython.core.display.HTML object>"
      ]
     },
     "metadata": {},
     "output_type": "display_data"
    },
    {
     "data": {
      "text/html": [
       "Find logs at: <code>./wandb/run-20220829_211639-ow20qg78/logs</code>"
      ],
      "text/plain": [
       "<IPython.core.display.HTML object>"
      ]
     },
     "metadata": {},
     "output_type": "display_data"
    },
    {
     "name": "stderr",
     "output_type": "stream",
     "text": [
      "\u001b[34m\u001b[1mwandb\u001b[0m: Agent Starting Run: w3v1cbg5 with config:\n",
      "\u001b[34m\u001b[1mwandb\u001b[0m: \tbatch_size: 64\n",
      "\u001b[34m\u001b[1mwandb\u001b[0m: \tconv_layer_size: 16\n",
      "\u001b[34m\u001b[1mwandb\u001b[0m: \tdropout: 0.3\n",
      "\u001b[34m\u001b[1mwandb\u001b[0m: \tepochs: 15\n",
      "\u001b[34m\u001b[1mwandb\u001b[0m: \tlearning_rate: 3e-05\n"
     ]
    },
    {
     "data": {
      "text/html": [
       "wandb version 0.13.2 is available!  To upgrade, please run:\n",
       " $ pip install wandb --upgrade"
      ],
      "text/plain": [
       "<IPython.core.display.HTML object>"
      ]
     },
     "metadata": {},
     "output_type": "display_data"
    },
    {
     "data": {
      "text/html": [
       "Tracking run with wandb version 0.12.11"
      ],
      "text/plain": [
       "<IPython.core.display.HTML object>"
      ]
     },
     "metadata": {},
     "output_type": "display_data"
    },
    {
     "data": {
      "text/html": [
       "Run data is saved locally in <code>/Users/msf/GitHub/TensorFlow_MusicGenre_Classifier/wandb/run-20220829_211750-w3v1cbg5</code>"
      ],
      "text/plain": [
       "<IPython.core.display.HTML object>"
      ]
     },
     "metadata": {},
     "output_type": "display_data"
    },
    {
     "data": {
      "text/html": [
       "Syncing run <strong><a href=\"https://wandb.ai/msaintfelix/Sweeps-Genre-Classifier/runs/w3v1cbg5\" target=\"_blank\">fearless-sweep-40</a></strong> to <a href=\"https://wandb.ai/msaintfelix/Sweeps-Genre-Classifier\" target=\"_blank\">Weights & Biases</a> (<a href=\"https://wandb.me/run\" target=\"_blank\">docs</a>)<br/>Sweep page:  <a href=\"https://wandb.ai/msaintfelix/Sweeps-Genre-Classifier/sweeps/e7xdbkpy\" target=\"_blank\">https://wandb.ai/msaintfelix/Sweeps-Genre-Classifier/sweeps/e7xdbkpy</a>"
      ],
      "text/plain": [
       "<IPython.core.display.HTML object>"
      ]
     },
     "metadata": {},
     "output_type": "display_data"
    },
    {
     "name": "stdout",
     "output_type": "stream",
     "text": [
      "(9990, 125, 13)\n",
      "Model: \"sequential\"\n",
      "_________________________________________________________________\n",
      "Layer (type)                 Output Shape              Param #   \n",
      "=================================================================\n",
      "conv2d (Conv2D)              (None, 123, 11, 16)       160       \n",
      "_________________________________________________________________\n",
      "max_pooling2d (MaxPooling2D) (None, 62, 6, 16)         0         \n",
      "_________________________________________________________________\n",
      "batch_normalization (BatchNo (None, 62, 6, 16)         64        \n",
      "_________________________________________________________________\n",
      "conv2d_1 (Conv2D)            (None, 60, 4, 16)         2320      \n",
      "_________________________________________________________________\n",
      "max_pooling2d_1 (MaxPooling2 (None, 30, 2, 16)         0         \n",
      "_________________________________________________________________\n",
      "batch_normalization_1 (Batch (None, 30, 2, 16)         64        \n",
      "_________________________________________________________________\n",
      "conv2d_2 (Conv2D)            (None, 29, 1, 16)         1040      \n",
      "_________________________________________________________________\n",
      "max_pooling2d_2 (MaxPooling2 (None, 15, 1, 16)         0         \n",
      "_________________________________________________________________\n",
      "batch_normalization_2 (Batch (None, 15, 1, 16)         64        \n",
      "_________________________________________________________________\n",
      "dropout (Dropout)            (None, 15, 1, 16)         0         \n",
      "_________________________________________________________________\n",
      "flatten (Flatten)            (None, 240)               0         \n",
      "_________________________________________________________________\n",
      "dense (Dense)                (None, 64)                15424     \n",
      "_________________________________________________________________\n",
      "dense_1 (Dense)              (None, 10)                650       \n",
      "=================================================================\n",
      "Total params: 19,786\n",
      "Trainable params: 19,690\n",
      "Non-trainable params: 96\n",
      "_________________________________________________________________\n",
      "Epoch 1/15\n",
      "100/100 [==============================] - 5s 45ms/step - loss: 2.9286 - acc: 0.1088 - val_loss: 2.4444 - val_acc: 0.1461\n",
      "Epoch 2/15\n",
      "100/100 [==============================] - 4s 45ms/step - loss: 2.7484 - acc: 0.1297 - val_loss: 2.3385 - val_acc: 0.1406\n",
      "Epoch 3/15\n",
      "100/100 [==============================] - 4s 44ms/step - loss: 2.5225 - acc: 0.1709 - val_loss: 2.2589 - val_acc: 0.1837\n",
      "Epoch 4/15\n",
      "100/100 [==============================] - 4s 44ms/step - loss: 2.3844 - acc: 0.1964 - val_loss: 2.1707 - val_acc: 0.2187\n",
      "Epoch 5/15\n",
      "100/100 [==============================] - 4s 44ms/step - loss: 2.2993 - acc: 0.2253 - val_loss: 2.0847 - val_acc: 0.2533\n",
      "Epoch 6/15\n",
      "100/100 [==============================] - 4s 44ms/step - loss: 2.1858 - acc: 0.2627 - val_loss: 2.0036 - val_acc: 0.2848\n",
      "Epoch 7/15\n",
      "100/100 [==============================] - 4s 45ms/step - loss: 2.1126 - acc: 0.2642 - val_loss: 1.9300 - val_acc: 0.3113\n",
      "Epoch 8/15\n",
      "100/100 [==============================] - 4s 44ms/step - loss: 2.0304 - acc: 0.2924 - val_loss: 1.8615 - val_acc: 0.3323\n",
      "Epoch 9/15\n",
      "100/100 [==============================] - 4s 44ms/step - loss: 1.9696 - acc: 0.3098 - val_loss: 1.8018 - val_acc: 0.3509\n",
      "Epoch 10/15\n",
      "100/100 [==============================] - 4s 44ms/step - loss: 1.9138 - acc: 0.3200 - val_loss: 1.7515 - val_acc: 0.3659\n",
      "Epoch 11/15\n",
      "100/100 [==============================] - 4s 45ms/step - loss: 1.8611 - acc: 0.3376 - val_loss: 1.7039 - val_acc: 0.3844\n",
      "Epoch 12/15\n",
      "100/100 [==============================] - 4s 42ms/step - loss: 1.8031 - acc: 0.3596 - val_loss: 1.6682 - val_acc: 0.3964\n",
      "Epoch 13/15\n",
      "100/100 [==============================] - 4s 43ms/step - loss: 1.7487 - acc: 0.3797 - val_loss: 1.6346 - val_acc: 0.4084\n",
      "Epoch 14/15\n",
      "100/100 [==============================] - 4s 43ms/step - loss: 1.7227 - acc: 0.3946 - val_loss: 1.6057 - val_acc: 0.4114\n",
      "Epoch 15/15\n",
      "100/100 [==============================] - 4s 43ms/step - loss: 1.7187 - acc: 0.3832 - val_loss: 1.5809 - val_acc: 0.4164\n",
      "\n",
      "---Now testing the model for one audio file---\n",
      "The model predicts: pop, and ground truth is: hiphop.\n",
      "\n",
      "\n"
     ]
    },
    {
     "data": {
      "text/html": [
       "Waiting for W&B process to finish... <strong style=\"color:green\">(success).</strong>"
      ],
      "text/plain": [
       "<IPython.core.display.HTML object>"
      ]
     },
     "metadata": {},
     "output_type": "display_data"
    },
    {
     "data": {
      "application/vnd.jupyter.widget-view+json": {
       "model_id": "",
       "version_major": 2,
       "version_minor": 0
      },
      "text/plain": [
       "VBox(children=(Label(value='0.224 MB of 0.224 MB uploaded (0.000 MB deduped)\\r'), FloatProgress(value=1.0, max…"
      ]
     },
     "metadata": {},
     "output_type": "display_data"
    },
    {
     "data": {
      "text/html": [
       "<style>\n",
       "    table.wandb td:nth-child(1) { padding: 0 10px; text-align: right }\n",
       "    .wandb-row { display: flex; flex-direction: row; flex-wrap: wrap; width: 100% }\n",
       "    .wandb-col { display: flex; flex-direction: column; flex-basis: 100%; flex: 1; padding: 10px; }\n",
       "    </style>\n",
       "<div class=\"wandb-row\"><div class=\"wandb-col\"><h3>Run history:</h3><br/><table class=\"wandb\"><tr><td>acc</td><td>▁▂▂▃▄▅▅▆▆▇▇▇███</td></tr><tr><td>epoch</td><td>▁▁▂▃▃▃▄▅▅▅▆▇▇▇█</td></tr><tr><td>loss</td><td>█▇▆▅▄▄▃▃▂▂▂▂▁▁▁</td></tr><tr><td>val_acc</td><td>▁▁▂▃▄▅▅▆▆▇▇▇███</td></tr><tr><td>val_loss</td><td>█▇▆▆▅▄▄▃▃▂▂▂▁▁▁</td></tr></table><br/></div><div class=\"wandb-col\"><h3>Run summary:</h3><br/><table class=\"wandb\"><tr><td>acc</td><td>0.3848</td></tr><tr><td>best_epoch</td><td>14</td></tr><tr><td>best_val_loss</td><td>1.58089</td></tr><tr><td>epoch</td><td>14</td></tr><tr><td>loss</td><td>1.71016</td></tr><tr><td>val_acc</td><td>0.41642</td></tr><tr><td>val_loss</td><td>1.58089</td></tr></table><br/></div></div>"
      ],
      "text/plain": [
       "<IPython.core.display.HTML object>"
      ]
     },
     "metadata": {},
     "output_type": "display_data"
    },
    {
     "data": {
      "text/html": [
       "Synced <strong style=\"color:#cdcd00\">fearless-sweep-40</strong>: <a href=\"https://wandb.ai/msaintfelix/Sweeps-Genre-Classifier/runs/w3v1cbg5\" target=\"_blank\">https://wandb.ai/msaintfelix/Sweeps-Genre-Classifier/runs/w3v1cbg5</a><br/>Synced 6 W&B file(s), 1 media file(s), 0 artifact file(s) and 1 other file(s)"
      ],
      "text/plain": [
       "<IPython.core.display.HTML object>"
      ]
     },
     "metadata": {},
     "output_type": "display_data"
    },
    {
     "data": {
      "text/html": [
       "Find logs at: <code>./wandb/run-20220829_211750-w3v1cbg5/logs</code>"
      ],
      "text/plain": [
       "<IPython.core.display.HTML object>"
      ]
     },
     "metadata": {},
     "output_type": "display_data"
    },
    {
     "name": "stderr",
     "output_type": "stream",
     "text": [
      "\u001b[34m\u001b[1mwandb\u001b[0m: Agent Starting Run: dyaz4ltp with config:\n",
      "\u001b[34m\u001b[1mwandb\u001b[0m: \tbatch_size: 64\n",
      "\u001b[34m\u001b[1mwandb\u001b[0m: \tconv_layer_size: 32\n",
      "\u001b[34m\u001b[1mwandb\u001b[0m: \tdropout: 0.3\n",
      "\u001b[34m\u001b[1mwandb\u001b[0m: \tepochs: 15\n",
      "\u001b[34m\u001b[1mwandb\u001b[0m: \tlearning_rate: 0.01\n"
     ]
    },
    {
     "data": {
      "text/html": [
       "wandb version 0.13.2 is available!  To upgrade, please run:\n",
       " $ pip install wandb --upgrade"
      ],
      "text/plain": [
       "<IPython.core.display.HTML object>"
      ]
     },
     "metadata": {},
     "output_type": "display_data"
    },
    {
     "data": {
      "text/html": [
       "Tracking run with wandb version 0.12.11"
      ],
      "text/plain": [
       "<IPython.core.display.HTML object>"
      ]
     },
     "metadata": {},
     "output_type": "display_data"
    },
    {
     "data": {
      "text/html": [
       "Run data is saved locally in <code>/Users/msf/GitHub/TensorFlow_MusicGenre_Classifier/wandb/run-20220829_211926-dyaz4ltp</code>"
      ],
      "text/plain": [
       "<IPython.core.display.HTML object>"
      ]
     },
     "metadata": {},
     "output_type": "display_data"
    },
    {
     "data": {
      "text/html": [
       "Syncing run <strong><a href=\"https://wandb.ai/msaintfelix/Sweeps-Genre-Classifier/runs/dyaz4ltp\" target=\"_blank\">vivid-sweep-41</a></strong> to <a href=\"https://wandb.ai/msaintfelix/Sweeps-Genre-Classifier\" target=\"_blank\">Weights & Biases</a> (<a href=\"https://wandb.me/run\" target=\"_blank\">docs</a>)<br/>Sweep page:  <a href=\"https://wandb.ai/msaintfelix/Sweeps-Genre-Classifier/sweeps/e7xdbkpy\" target=\"_blank\">https://wandb.ai/msaintfelix/Sweeps-Genre-Classifier/sweeps/e7xdbkpy</a>"
      ],
      "text/plain": [
       "<IPython.core.display.HTML object>"
      ]
     },
     "metadata": {},
     "output_type": "display_data"
    },
    {
     "name": "stdout",
     "output_type": "stream",
     "text": [
      "(9990, 125, 13)\n",
      "Model: \"sequential\"\n",
      "_________________________________________________________________\n",
      "Layer (type)                 Output Shape              Param #   \n",
      "=================================================================\n",
      "conv2d (Conv2D)              (None, 123, 11, 32)       320       \n",
      "_________________________________________________________________\n",
      "max_pooling2d (MaxPooling2D) (None, 62, 6, 32)         0         \n",
      "_________________________________________________________________\n",
      "batch_normalization (BatchNo (None, 62, 6, 32)         128       \n",
      "_________________________________________________________________\n",
      "conv2d_1 (Conv2D)            (None, 60, 4, 32)         9248      \n",
      "_________________________________________________________________\n",
      "max_pooling2d_1 (MaxPooling2 (None, 30, 2, 32)         0         \n",
      "_________________________________________________________________\n",
      "batch_normalization_1 (Batch (None, 30, 2, 32)         128       \n",
      "_________________________________________________________________\n",
      "conv2d_2 (Conv2D)            (None, 29, 1, 32)         4128      \n",
      "_________________________________________________________________\n",
      "max_pooling2d_2 (MaxPooling2 (None, 15, 1, 32)         0         \n",
      "_________________________________________________________________\n",
      "batch_normalization_2 (Batch (None, 15, 1, 32)         128       \n",
      "_________________________________________________________________\n",
      "dropout (Dropout)            (None, 15, 1, 32)         0         \n",
      "_________________________________________________________________\n",
      "flatten (Flatten)            (None, 480)               0         \n",
      "_________________________________________________________________\n",
      "dense (Dense)                (None, 64)                30784     \n",
      "_________________________________________________________________\n",
      "dense_1 (Dense)              (None, 10)                650       \n",
      "=================================================================\n",
      "Total params: 45,514\n",
      "Trainable params: 45,322\n",
      "Non-trainable params: 192\n",
      "_________________________________________________________________\n",
      "Epoch 1/15\n",
      "100/100 [==============================] - 8s 74ms/step - loss: 2.3850 - acc: 0.3329 - val_loss: 19.3676 - val_acc: 0.1522\n",
      "Epoch 2/15\n",
      "100/100 [==============================] - 7s 73ms/step - loss: 1.3491 - acc: 0.5046 - val_loss: 6.4877 - val_acc: 0.3018\n",
      "Epoch 3/15\n",
      "100/100 [==============================] - 7s 73ms/step - loss: 1.1800 - acc: 0.5774 - val_loss: 3.9241 - val_acc: 0.3769\n",
      "Epoch 4/15\n",
      "100/100 [==============================] - 7s 74ms/step - loss: 1.0679 - acc: 0.6250 - val_loss: 1.4365 - val_acc: 0.5631\n",
      "Epoch 5/15\n",
      "100/100 [==============================] - 7s 73ms/step - loss: 0.9933 - acc: 0.6491 - val_loss: 1.7960 - val_acc: 0.5440\n",
      "Epoch 6/15\n",
      "100/100 [==============================] - 7s 73ms/step - loss: 0.9157 - acc: 0.6710 - val_loss: 1.5654 - val_acc: 0.5350\n",
      "Epoch 7/15\n",
      "100/100 [==============================] - 7s 73ms/step - loss: 0.8691 - acc: 0.6946 - val_loss: 1.4938 - val_acc: 0.5581\n",
      "Epoch 8/15\n",
      "100/100 [==============================] - 7s 73ms/step - loss: 0.8369 - acc: 0.7012 - val_loss: 1.3853 - val_acc: 0.5951\n",
      "Epoch 9/15\n",
      "100/100 [==============================] - 7s 74ms/step - loss: 0.8017 - acc: 0.7108 - val_loss: 0.9692 - val_acc: 0.6847\n",
      "Epoch 10/15\n",
      "100/100 [==============================] - 7s 74ms/step - loss: 0.6993 - acc: 0.7504 - val_loss: 1.3543 - val_acc: 0.6547\n",
      "Epoch 11/15\n",
      "100/100 [==============================] - 7s 74ms/step - loss: 0.7351 - acc: 0.7491 - val_loss: 1.3276 - val_acc: 0.6316\n",
      "Epoch 12/15\n",
      "100/100 [==============================] - 7s 74ms/step - loss: 0.7037 - acc: 0.7590 - val_loss: 2.2149 - val_acc: 0.5030\n",
      "Epoch 13/15\n",
      "100/100 [==============================] - 7s 73ms/step - loss: 0.6803 - acc: 0.7596 - val_loss: 1.0269 - val_acc: 0.7092\n",
      "Epoch 14/15\n",
      "100/100 [==============================] - 7s 74ms/step - loss: 0.6573 - acc: 0.7793 - val_loss: 1.2986 - val_acc: 0.6672\n",
      "Epoch 15/15\n",
      "100/100 [==============================] - 7s 74ms/step - loss: 0.6328 - acc: 0.7802 - val_loss: 1.2489 - val_acc: 0.6507\n",
      "\n",
      "---Now testing the model for one audio file---\n",
      "The model predicts: pop, and ground truth is: pop.\n",
      "\n",
      "\n"
     ]
    },
    {
     "data": {
      "text/html": [
       "Waiting for W&B process to finish... <strong style=\"color:green\">(success).</strong>"
      ],
      "text/plain": [
       "<IPython.core.display.HTML object>"
      ]
     },
     "metadata": {},
     "output_type": "display_data"
    },
    {
     "data": {
      "application/vnd.jupyter.widget-view+json": {
       "model_id": "",
       "version_major": 2,
       "version_minor": 0
      },
      "text/plain": [
       "VBox(children=(Label(value='0.419 MB of 0.419 MB uploaded (0.000 MB deduped)\\r'), FloatProgress(value=1.0, max…"
      ]
     },
     "metadata": {},
     "output_type": "display_data"
    },
    {
     "data": {
      "text/html": [
       "<style>\n",
       "    table.wandb td:nth-child(1) { padding: 0 10px; text-align: right }\n",
       "    .wandb-row { display: flex; flex-direction: row; flex-wrap: wrap; width: 100% }\n",
       "    .wandb-col { display: flex; flex-direction: column; flex-basis: 100%; flex: 1; padding: 10px; }\n",
       "    </style>\n",
       "<div class=\"wandb-row\"><div class=\"wandb-col\"><h3>Run history:</h3><br/><table class=\"wandb\"><tr><td>acc</td><td>▁▃▅▅▆▆▇▇▇▇█████</td></tr><tr><td>epoch</td><td>▁▁▂▃▃▃▄▅▅▅▆▇▇▇█</td></tr><tr><td>loss</td><td>█▅▄▃▃▃▂▂▂▁▁▁▁▁▁</td></tr><tr><td>val_acc</td><td>▁▃▄▆▆▆▆▇█▇▇▅█▇▇</td></tr><tr><td>val_loss</td><td>█▃▂▁▁▁▁▁▁▁▁▁▁▁▁</td></tr></table><br/></div><div class=\"wandb-col\"><h3>Run summary:</h3><br/><table class=\"wandb\"><tr><td>acc</td><td>0.77303</td></tr><tr><td>best_epoch</td><td>8</td></tr><tr><td>best_val_loss</td><td>0.96915</td></tr><tr><td>epoch</td><td>14</td></tr><tr><td>loss</td><td>0.65466</td></tr><tr><td>val_acc</td><td>0.65065</td></tr><tr><td>val_loss</td><td>1.24889</td></tr></table><br/></div></div>"
      ],
      "text/plain": [
       "<IPython.core.display.HTML object>"
      ]
     },
     "metadata": {},
     "output_type": "display_data"
    },
    {
     "data": {
      "text/html": [
       "Synced <strong style=\"color:#cdcd00\">vivid-sweep-41</strong>: <a href=\"https://wandb.ai/msaintfelix/Sweeps-Genre-Classifier/runs/dyaz4ltp\" target=\"_blank\">https://wandb.ai/msaintfelix/Sweeps-Genre-Classifier/runs/dyaz4ltp</a><br/>Synced 6 W&B file(s), 1 media file(s), 0 artifact file(s) and 1 other file(s)"
      ],
      "text/plain": [
       "<IPython.core.display.HTML object>"
      ]
     },
     "metadata": {},
     "output_type": "display_data"
    },
    {
     "data": {
      "text/html": [
       "Find logs at: <code>./wandb/run-20220829_211926-dyaz4ltp/logs</code>"
      ],
      "text/plain": [
       "<IPython.core.display.HTML object>"
      ]
     },
     "metadata": {},
     "output_type": "display_data"
    },
    {
     "name": "stderr",
     "output_type": "stream",
     "text": [
      "\u001b[34m\u001b[1mwandb\u001b[0m: Agent Starting Run: wtkulao8 with config:\n",
      "\u001b[34m\u001b[1mwandb\u001b[0m: \tbatch_size: 32\n",
      "\u001b[34m\u001b[1mwandb\u001b[0m: \tconv_layer_size: 16\n",
      "\u001b[34m\u001b[1mwandb\u001b[0m: \tdropout: 0.4\n",
      "\u001b[34m\u001b[1mwandb\u001b[0m: \tepochs: 15\n",
      "\u001b[34m\u001b[1mwandb\u001b[0m: \tlearning_rate: 0.001\n"
     ]
    },
    {
     "data": {
      "text/html": [
       "wandb version 0.13.2 is available!  To upgrade, please run:\n",
       " $ pip install wandb --upgrade"
      ],
      "text/plain": [
       "<IPython.core.display.HTML object>"
      ]
     },
     "metadata": {},
     "output_type": "display_data"
    },
    {
     "data": {
      "text/html": [
       "Tracking run with wandb version 0.12.11"
      ],
      "text/plain": [
       "<IPython.core.display.HTML object>"
      ]
     },
     "metadata": {},
     "output_type": "display_data"
    },
    {
     "data": {
      "text/html": [
       "Run data is saved locally in <code>/Users/msf/GitHub/TensorFlow_MusicGenre_Classifier/wandb/run-20220829_212143-wtkulao8</code>"
      ],
      "text/plain": [
       "<IPython.core.display.HTML object>"
      ]
     },
     "metadata": {},
     "output_type": "display_data"
    },
    {
     "data": {
      "text/html": [
       "Syncing run <strong><a href=\"https://wandb.ai/msaintfelix/Sweeps-Genre-Classifier/runs/wtkulao8\" target=\"_blank\">young-sweep-42</a></strong> to <a href=\"https://wandb.ai/msaintfelix/Sweeps-Genre-Classifier\" target=\"_blank\">Weights & Biases</a> (<a href=\"https://wandb.me/run\" target=\"_blank\">docs</a>)<br/>Sweep page:  <a href=\"https://wandb.ai/msaintfelix/Sweeps-Genre-Classifier/sweeps/e7xdbkpy\" target=\"_blank\">https://wandb.ai/msaintfelix/Sweeps-Genre-Classifier/sweeps/e7xdbkpy</a>"
      ],
      "text/plain": [
       "<IPython.core.display.HTML object>"
      ]
     },
     "metadata": {},
     "output_type": "display_data"
    },
    {
     "name": "stdout",
     "output_type": "stream",
     "text": [
      "(9990, 125, 13)\n",
      "Model: \"sequential\"\n",
      "_________________________________________________________________\n",
      "Layer (type)                 Output Shape              Param #   \n",
      "=================================================================\n",
      "conv2d (Conv2D)              (None, 123, 11, 16)       160       \n",
      "_________________________________________________________________\n",
      "max_pooling2d (MaxPooling2D) (None, 62, 6, 16)         0         \n",
      "_________________________________________________________________\n",
      "batch_normalization (BatchNo (None, 62, 6, 16)         64        \n",
      "_________________________________________________________________\n",
      "conv2d_1 (Conv2D)            (None, 60, 4, 16)         2320      \n",
      "_________________________________________________________________\n",
      "max_pooling2d_1 (MaxPooling2 (None, 30, 2, 16)         0         \n",
      "_________________________________________________________________\n",
      "batch_normalization_1 (Batch (None, 30, 2, 16)         64        \n",
      "_________________________________________________________________\n",
      "conv2d_2 (Conv2D)            (None, 29, 1, 16)         1040      \n",
      "_________________________________________________________________\n",
      "max_pooling2d_2 (MaxPooling2 (None, 15, 1, 16)         0         \n",
      "_________________________________________________________________\n",
      "batch_normalization_2 (Batch (None, 15, 1, 16)         64        \n",
      "_________________________________________________________________\n",
      "dropout (Dropout)            (None, 15, 1, 16)         0         \n",
      "_________________________________________________________________\n",
      "flatten (Flatten)            (None, 240)               0         \n",
      "_________________________________________________________________\n",
      "dense (Dense)                (None, 64)                15424     \n",
      "_________________________________________________________________\n",
      "dense_1 (Dense)              (None, 10)                650       \n",
      "=================================================================\n",
      "Total params: 19,786\n",
      "Trainable params: 19,690\n",
      "Non-trainable params: 96\n",
      "_________________________________________________________________\n",
      "Epoch 1/15\n",
      "200/200 [==============================] - 6s 25ms/step - loss: 2.0973 - acc: 0.2920 - val_loss: 1.7018 - val_acc: 0.3804\n",
      "Epoch 2/15\n",
      "200/200 [==============================] - 5s 25ms/step - loss: 1.3991 - acc: 0.4946 - val_loss: 1.4791 - val_acc: 0.4585\n",
      "Epoch 3/15\n",
      "200/200 [==============================] - 5s 25ms/step - loss: 1.1998 - acc: 0.5518 - val_loss: 1.1437 - val_acc: 0.5856\n",
      "Epoch 4/15\n",
      "200/200 [==============================] - 5s 23ms/step - loss: 1.0961 - acc: 0.6229 - val_loss: 1.0427 - val_acc: 0.6366\n",
      "Epoch 5/15\n",
      "200/200 [==============================] - 5s 23ms/step - loss: 0.9944 - acc: 0.6358 - val_loss: 0.9448 - val_acc: 0.6657\n",
      "Epoch 6/15\n",
      "200/200 [==============================] - 5s 23ms/step - loss: 0.9495 - acc: 0.6621 - val_loss: 0.9199 - val_acc: 0.6802\n",
      "Epoch 7/15\n",
      "200/200 [==============================] - 5s 24ms/step - loss: 0.8771 - acc: 0.6959 - val_loss: 1.0385 - val_acc: 0.6461\n",
      "Epoch 8/15\n",
      "200/200 [==============================] - 5s 24ms/step - loss: 0.8448 - acc: 0.7026 - val_loss: 0.8762 - val_acc: 0.7012\n",
      "Epoch 9/15\n",
      "200/200 [==============================] - 5s 24ms/step - loss: 0.8180 - acc: 0.7126 - val_loss: 0.8370 - val_acc: 0.7197\n",
      "Epoch 10/15\n",
      "200/200 [==============================] - 5s 24ms/step - loss: 0.7905 - acc: 0.7173 - val_loss: 0.8026 - val_acc: 0.7337\n",
      "Epoch 11/15\n",
      "200/200 [==============================] - 5s 23ms/step - loss: 0.8122 - acc: 0.7082 - val_loss: 1.1159 - val_acc: 0.6476\n",
      "Epoch 12/15\n",
      "200/200 [==============================] - 5s 24ms/step - loss: 0.7588 - acc: 0.7313 - val_loss: 0.7851 - val_acc: 0.7442\n",
      "Epoch 13/15\n",
      "200/200 [==============================] - 5s 24ms/step - loss: 0.7418 - acc: 0.7366 - val_loss: 0.8161 - val_acc: 0.7302\n",
      "Epoch 14/15\n",
      "200/200 [==============================] - 5s 24ms/step - loss: 0.7399 - acc: 0.7354 - val_loss: 0.7752 - val_acc: 0.7412\n",
      "Epoch 15/15\n",
      "200/200 [==============================] - 5s 24ms/step - loss: 0.6670 - acc: 0.7647 - val_loss: 0.7190 - val_acc: 0.7618\n",
      "\n",
      "---Now testing the model for one audio file---\n",
      "The model predicts: blues, and ground truth is: reggae.\n",
      "\n",
      "\n"
     ]
    },
    {
     "data": {
      "text/html": [
       "Waiting for W&B process to finish... <strong style=\"color:green\">(success).</strong>"
      ],
      "text/plain": [
       "<IPython.core.display.HTML object>"
      ]
     },
     "metadata": {},
     "output_type": "display_data"
    },
    {
     "data": {
      "application/vnd.jupyter.widget-view+json": {
       "model_id": "",
       "version_major": 2,
       "version_minor": 0
      },
      "text/plain": [
       "VBox(children=(Label(value='0.224 MB of 0.224 MB uploaded (0.000 MB deduped)\\r'), FloatProgress(value=1.0, max…"
      ]
     },
     "metadata": {},
     "output_type": "display_data"
    },
    {
     "data": {
      "text/html": [
       "<style>\n",
       "    table.wandb td:nth-child(1) { padding: 0 10px; text-align: right }\n",
       "    .wandb-row { display: flex; flex-direction: row; flex-wrap: wrap; width: 100% }\n",
       "    .wandb-col { display: flex; flex-direction: column; flex-basis: 100%; flex: 1; padding: 10px; }\n",
       "    </style>\n",
       "<div class=\"wandb-row\"><div class=\"wandb-col\"><h3>Run history:</h3><br/><table class=\"wandb\"><tr><td>acc</td><td>▁▃▄▅▆▆▇▇▇▇▇████</td></tr><tr><td>epoch</td><td>▁▁▂▃▃▃▄▅▅▅▆▇▇▇█</td></tr><tr><td>loss</td><td>█▅▄▄▃▃▂▂▂▂▂▁▁▁▁</td></tr><tr><td>val_acc</td><td>▁▂▅▆▆▇▆▇▇▇▆█▇██</td></tr><tr><td>val_loss</td><td>█▆▄▃▃▂▃▂▂▂▄▁▂▁▁</td></tr></table><br/></div><div class=\"wandb-col\"><h3>Run summary:</h3><br/><table class=\"wandb\"><tr><td>acc</td><td>0.76114</td></tr><tr><td>best_epoch</td><td>14</td></tr><tr><td>best_val_loss</td><td>0.71901</td></tr><tr><td>epoch</td><td>14</td></tr><tr><td>loss</td><td>0.67295</td></tr><tr><td>val_acc</td><td>0.76176</td></tr><tr><td>val_loss</td><td>0.71901</td></tr></table><br/></div></div>"
      ],
      "text/plain": [
       "<IPython.core.display.HTML object>"
      ]
     },
     "metadata": {},
     "output_type": "display_data"
    },
    {
     "data": {
      "text/html": [
       "Synced <strong style=\"color:#cdcd00\">young-sweep-42</strong>: <a href=\"https://wandb.ai/msaintfelix/Sweeps-Genre-Classifier/runs/wtkulao8\" target=\"_blank\">https://wandb.ai/msaintfelix/Sweeps-Genre-Classifier/runs/wtkulao8</a><br/>Synced 6 W&B file(s), 1 media file(s), 0 artifact file(s) and 1 other file(s)"
      ],
      "text/plain": [
       "<IPython.core.display.HTML object>"
      ]
     },
     "metadata": {},
     "output_type": "display_data"
    },
    {
     "data": {
      "text/html": [
       "Find logs at: <code>./wandb/run-20220829_212143-wtkulao8/logs</code>"
      ],
      "text/plain": [
       "<IPython.core.display.HTML object>"
      ]
     },
     "metadata": {},
     "output_type": "display_data"
    },
    {
     "name": "stderr",
     "output_type": "stream",
     "text": [
      "\u001b[34m\u001b[1mwandb\u001b[0m: Agent Starting Run: gza8bqx0 with config:\n",
      "\u001b[34m\u001b[1mwandb\u001b[0m: \tbatch_size: 32\n",
      "\u001b[34m\u001b[1mwandb\u001b[0m: \tconv_layer_size: 64\n",
      "\u001b[34m\u001b[1mwandb\u001b[0m: \tdropout: 0.4\n",
      "\u001b[34m\u001b[1mwandb\u001b[0m: \tepochs: 10\n",
      "\u001b[34m\u001b[1mwandb\u001b[0m: \tlearning_rate: 0.01\n"
     ]
    },
    {
     "data": {
      "text/html": [
       "wandb version 0.13.2 is available!  To upgrade, please run:\n",
       " $ pip install wandb --upgrade"
      ],
      "text/plain": [
       "<IPython.core.display.HTML object>"
      ]
     },
     "metadata": {},
     "output_type": "display_data"
    },
    {
     "data": {
      "text/html": [
       "Tracking run with wandb version 0.12.11"
      ],
      "text/plain": [
       "<IPython.core.display.HTML object>"
      ]
     },
     "metadata": {},
     "output_type": "display_data"
    },
    {
     "data": {
      "text/html": [
       "Run data is saved locally in <code>/Users/msf/GitHub/TensorFlow_MusicGenre_Classifier/wandb/run-20220829_212325-gza8bqx0</code>"
      ],
      "text/plain": [
       "<IPython.core.display.HTML object>"
      ]
     },
     "metadata": {},
     "output_type": "display_data"
    },
    {
     "data": {
      "text/html": [
       "Syncing run <strong><a href=\"https://wandb.ai/msaintfelix/Sweeps-Genre-Classifier/runs/gza8bqx0\" target=\"_blank\">olive-sweep-43</a></strong> to <a href=\"https://wandb.ai/msaintfelix/Sweeps-Genre-Classifier\" target=\"_blank\">Weights & Biases</a> (<a href=\"https://wandb.me/run\" target=\"_blank\">docs</a>)<br/>Sweep page:  <a href=\"https://wandb.ai/msaintfelix/Sweeps-Genre-Classifier/sweeps/e7xdbkpy\" target=\"_blank\">https://wandb.ai/msaintfelix/Sweeps-Genre-Classifier/sweeps/e7xdbkpy</a>"
      ],
      "text/plain": [
       "<IPython.core.display.HTML object>"
      ]
     },
     "metadata": {},
     "output_type": "display_data"
    },
    {
     "name": "stdout",
     "output_type": "stream",
     "text": [
      "(9990, 125, 13)\n",
      "Model: \"sequential\"\n",
      "_________________________________________________________________\n",
      "Layer (type)                 Output Shape              Param #   \n",
      "=================================================================\n",
      "conv2d (Conv2D)              (None, 123, 11, 64)       640       \n",
      "_________________________________________________________________\n",
      "max_pooling2d (MaxPooling2D) (None, 62, 6, 64)         0         \n",
      "_________________________________________________________________\n",
      "batch_normalization (BatchNo (None, 62, 6, 64)         256       \n",
      "_________________________________________________________________\n",
      "conv2d_1 (Conv2D)            (None, 60, 4, 64)         36928     \n",
      "_________________________________________________________________\n",
      "max_pooling2d_1 (MaxPooling2 (None, 30, 2, 64)         0         \n",
      "_________________________________________________________________\n",
      "batch_normalization_1 (Batch (None, 30, 2, 64)         256       \n",
      "_________________________________________________________________\n",
      "conv2d_2 (Conv2D)            (None, 29, 1, 64)         16448     \n",
      "_________________________________________________________________\n",
      "max_pooling2d_2 (MaxPooling2 (None, 15, 1, 64)         0         \n",
      "_________________________________________________________________\n",
      "batch_normalization_2 (Batch (None, 15, 1, 64)         256       \n",
      "_________________________________________________________________\n",
      "dropout (Dropout)            (None, 15, 1, 64)         0         \n",
      "_________________________________________________________________\n",
      "flatten (Flatten)            (None, 960)               0         \n",
      "_________________________________________________________________\n",
      "dense (Dense)                (None, 64)                61504     \n",
      "_________________________________________________________________\n",
      "dense_1 (Dense)              (None, 10)                650       \n",
      "=================================================================\n",
      "Total params: 116,938\n",
      "Trainable params: 116,554\n",
      "Non-trainable params: 384\n",
      "_________________________________________________________________\n",
      "Epoch 1/10\n",
      "200/200 [==============================] - 16s 76ms/step - loss: 2.9431 - acc: 0.2997 - val_loss: 21.4080 - val_acc: 0.2432\n",
      "Epoch 2/10\n",
      "200/200 [==============================] - 15s 75ms/step - loss: 1.5158 - acc: 0.4465 - val_loss: 12.3454 - val_acc: 0.2913\n",
      "Epoch 3/10\n",
      "200/200 [==============================] - 15s 74ms/step - loss: 1.3669 - acc: 0.5204 - val_loss: 1.2795 - val_acc: 0.5430\n",
      "Epoch 4/10\n",
      "200/200 [==============================] - 14s 72ms/step - loss: 1.2231 - acc: 0.5694 - val_loss: 1.3913 - val_acc: 0.5475\n",
      "Epoch 5/10\n",
      "200/200 [==============================] - 14s 71ms/step - loss: 1.1748 - acc: 0.5893 - val_loss: 1.9662 - val_acc: 0.4640\n",
      "Epoch 6/10\n",
      "200/200 [==============================] - 14s 71ms/step - loss: 1.1221 - acc: 0.6074 - val_loss: 1.2357 - val_acc: 0.5996\n",
      "Epoch 7/10\n",
      "200/200 [==============================] - 14s 71ms/step - loss: 1.0540 - acc: 0.6360 - val_loss: 1.5228 - val_acc: 0.5495\n",
      "Epoch 8/10\n",
      "200/200 [==============================] - 14s 72ms/step - loss: 0.9842 - acc: 0.6606 - val_loss: 1.1344 - val_acc: 0.5986\n",
      "Epoch 9/10\n",
      "200/200 [==============================] - 14s 71ms/step - loss: 0.9634 - acc: 0.6741 - val_loss: 1.3499 - val_acc: 0.6401\n",
      "Epoch 10/10\n",
      "200/200 [==============================] - 14s 71ms/step - loss: 0.9606 - acc: 0.6902 - val_loss: 1.1439 - val_acc: 0.6907\n",
      "\n",
      "---Now testing the model for one audio file---\n",
      "The model predicts: country, and ground truth is: country.\n",
      "\n",
      "\n"
     ]
    },
    {
     "data": {
      "text/html": [
       "Waiting for W&B process to finish... <strong style=\"color:green\">(success).</strong>"
      ],
      "text/plain": [
       "<IPython.core.display.HTML object>"
      ]
     },
     "metadata": {},
     "output_type": "display_data"
    },
    {
     "data": {
      "application/vnd.jupyter.widget-view+json": {
       "model_id": "",
       "version_major": 2,
       "version_minor": 0
      },
      "text/plain": [
       "VBox(children=(Label(value='0.965 MB of 0.965 MB uploaded (0.000 MB deduped)\\r'), FloatProgress(value=1.0, max…"
      ]
     },
     "metadata": {},
     "output_type": "display_data"
    },
    {
     "data": {
      "text/html": [
       "<style>\n",
       "    table.wandb td:nth-child(1) { padding: 0 10px; text-align: right }\n",
       "    .wandb-row { display: flex; flex-direction: row; flex-wrap: wrap; width: 100% }\n",
       "    .wandb-col { display: flex; flex-direction: column; flex-basis: 100%; flex: 1; padding: 10px; }\n",
       "    </style>\n",
       "<div class=\"wandb-row\"><div class=\"wandb-col\"><h3>Run history:</h3><br/><table class=\"wandb\"><tr><td>acc</td><td>▁▃▅▆▆▇▇███</td></tr><tr><td>epoch</td><td>▁▂▃▃▄▅▆▆▇█</td></tr><tr><td>loss</td><td>█▄▃▃▂▂▂▁▁▁</td></tr><tr><td>val_acc</td><td>▁▂▆▆▄▇▆▇▇█</td></tr><tr><td>val_loss</td><td>█▅▁▁▁▁▁▁▁▁</td></tr></table><br/></div><div class=\"wandb-col\"><h3>Run summary:</h3><br/><table class=\"wandb\"><tr><td>acc</td><td>0.68137</td></tr><tr><td>best_epoch</td><td>7</td></tr><tr><td>best_val_loss</td><td>1.13445</td></tr><tr><td>epoch</td><td>9</td></tr><tr><td>loss</td><td>0.97743</td></tr><tr><td>val_acc</td><td>0.69069</td></tr><tr><td>val_loss</td><td>1.14389</td></tr></table><br/></div></div>"
      ],
      "text/plain": [
       "<IPython.core.display.HTML object>"
      ]
     },
     "metadata": {},
     "output_type": "display_data"
    },
    {
     "data": {
      "text/html": [
       "Synced <strong style=\"color:#cdcd00\">olive-sweep-43</strong>: <a href=\"https://wandb.ai/msaintfelix/Sweeps-Genre-Classifier/runs/gza8bqx0\" target=\"_blank\">https://wandb.ai/msaintfelix/Sweeps-Genre-Classifier/runs/gza8bqx0</a><br/>Synced 6 W&B file(s), 1 media file(s), 0 artifact file(s) and 1 other file(s)"
      ],
      "text/plain": [
       "<IPython.core.display.HTML object>"
      ]
     },
     "metadata": {},
     "output_type": "display_data"
    },
    {
     "data": {
      "text/html": [
       "Find logs at: <code>./wandb/run-20220829_212325-gza8bqx0/logs</code>"
      ],
      "text/plain": [
       "<IPython.core.display.HTML object>"
      ]
     },
     "metadata": {},
     "output_type": "display_data"
    },
    {
     "name": "stderr",
     "output_type": "stream",
     "text": [
      "\u001b[34m\u001b[1mwandb\u001b[0m: Agent Starting Run: lzrg0q12 with config:\n",
      "\u001b[34m\u001b[1mwandb\u001b[0m: \tbatch_size: 64\n",
      "\u001b[34m\u001b[1mwandb\u001b[0m: \tconv_layer_size: 16\n",
      "\u001b[34m\u001b[1mwandb\u001b[0m: \tdropout: 0.3\n",
      "\u001b[34m\u001b[1mwandb\u001b[0m: \tepochs: 5\n",
      "\u001b[34m\u001b[1mwandb\u001b[0m: \tlearning_rate: 0.0003\n"
     ]
    },
    {
     "data": {
      "text/html": [
       "wandb version 0.13.2 is available!  To upgrade, please run:\n",
       " $ pip install wandb --upgrade"
      ],
      "text/plain": [
       "<IPython.core.display.HTML object>"
      ]
     },
     "metadata": {},
     "output_type": "display_data"
    },
    {
     "data": {
      "text/html": [
       "Tracking run with wandb version 0.12.11"
      ],
      "text/plain": [
       "<IPython.core.display.HTML object>"
      ]
     },
     "metadata": {},
     "output_type": "display_data"
    },
    {
     "data": {
      "text/html": [
       "Run data is saved locally in <code>/Users/msf/GitHub/TensorFlow_MusicGenre_Classifier/wandb/run-20220829_212619-lzrg0q12</code>"
      ],
      "text/plain": [
       "<IPython.core.display.HTML object>"
      ]
     },
     "metadata": {},
     "output_type": "display_data"
    },
    {
     "data": {
      "text/html": [
       "Syncing run <strong><a href=\"https://wandb.ai/msaintfelix/Sweeps-Genre-Classifier/runs/lzrg0q12\" target=\"_blank\">toasty-sweep-44</a></strong> to <a href=\"https://wandb.ai/msaintfelix/Sweeps-Genre-Classifier\" target=\"_blank\">Weights & Biases</a> (<a href=\"https://wandb.me/run\" target=\"_blank\">docs</a>)<br/>Sweep page:  <a href=\"https://wandb.ai/msaintfelix/Sweeps-Genre-Classifier/sweeps/e7xdbkpy\" target=\"_blank\">https://wandb.ai/msaintfelix/Sweeps-Genre-Classifier/sweeps/e7xdbkpy</a>"
      ],
      "text/plain": [
       "<IPython.core.display.HTML object>"
      ]
     },
     "metadata": {},
     "output_type": "display_data"
    },
    {
     "name": "stdout",
     "output_type": "stream",
     "text": [
      "(9990, 125, 13)\n",
      "Model: \"sequential\"\n",
      "_________________________________________________________________\n",
      "Layer (type)                 Output Shape              Param #   \n",
      "=================================================================\n",
      "conv2d (Conv2D)              (None, 123, 11, 16)       160       \n",
      "_________________________________________________________________\n",
      "max_pooling2d (MaxPooling2D) (None, 62, 6, 16)         0         \n",
      "_________________________________________________________________\n",
      "batch_normalization (BatchNo (None, 62, 6, 16)         64        \n",
      "_________________________________________________________________\n",
      "conv2d_1 (Conv2D)            (None, 60, 4, 16)         2320      \n",
      "_________________________________________________________________\n",
      "max_pooling2d_1 (MaxPooling2 (None, 30, 2, 16)         0         \n",
      "_________________________________________________________________\n",
      "batch_normalization_1 (Batch (None, 30, 2, 16)         64        \n",
      "_________________________________________________________________\n",
      "conv2d_2 (Conv2D)            (None, 29, 1, 16)         1040      \n",
      "_________________________________________________________________\n",
      "max_pooling2d_2 (MaxPooling2 (None, 15, 1, 16)         0         \n",
      "_________________________________________________________________\n",
      "batch_normalization_2 (Batch (None, 15, 1, 16)         64        \n",
      "_________________________________________________________________\n",
      "dropout (Dropout)            (None, 15, 1, 16)         0         \n",
      "_________________________________________________________________\n",
      "flatten (Flatten)            (None, 240)               0         \n",
      "_________________________________________________________________\n",
      "dense (Dense)                (None, 64)                15424     \n",
      "_________________________________________________________________\n",
      "dense_1 (Dense)              (None, 10)                650       \n",
      "=================================================================\n",
      "Total params: 19,786\n",
      "Trainable params: 19,690\n",
      "Non-trainable params: 96\n",
      "_________________________________________________________________\n",
      "Epoch 1/5\n",
      "100/100 [==============================] - 5s 45ms/step - loss: 2.4704 - acc: 0.1862 - val_loss: 2.0150 - val_acc: 0.2828\n",
      "Epoch 2/5\n",
      "100/100 [==============================] - 4s 44ms/step - loss: 1.7560 - acc: 0.3792 - val_loss: 1.6860 - val_acc: 0.3889\n",
      "Epoch 3/5\n",
      "100/100 [==============================] - 4s 44ms/step - loss: 1.5281 - acc: 0.4421 - val_loss: 1.4556 - val_acc: 0.4760\n",
      "Epoch 4/5\n",
      "100/100 [==============================] - 4s 44ms/step - loss: 1.4127 - acc: 0.4725 - val_loss: 1.3461 - val_acc: 0.5075\n",
      "Epoch 5/5\n",
      "100/100 [==============================] - 4s 45ms/step - loss: 1.3515 - acc: 0.4949 - val_loss: 1.3454 - val_acc: 0.5120\n",
      "\n",
      "---Now testing the model for one audio file---\n",
      "The model predicts: metal, and ground truth is: metal.\n",
      "\n",
      "\n"
     ]
    },
    {
     "data": {
      "text/html": [
       "Waiting for W&B process to finish... <strong style=\"color:green\">(success).</strong>"
      ],
      "text/plain": [
       "<IPython.core.display.HTML object>"
      ]
     },
     "metadata": {},
     "output_type": "display_data"
    },
    {
     "data": {
      "application/vnd.jupyter.widget-view+json": {
       "model_id": "",
       "version_major": 2,
       "version_minor": 0
      },
      "text/plain": [
       "VBox(children=(Label(value='0.224 MB of 0.224 MB uploaded (0.000 MB deduped)\\r'), FloatProgress(value=1.0, max…"
      ]
     },
     "metadata": {},
     "output_type": "display_data"
    },
    {
     "data": {
      "text/html": [
       "<style>\n",
       "    table.wandb td:nth-child(1) { padding: 0 10px; text-align: right }\n",
       "    .wandb-row { display: flex; flex-direction: row; flex-wrap: wrap; width: 100% }\n",
       "    .wandb-col { display: flex; flex-direction: column; flex-basis: 100%; flex: 1; padding: 10px; }\n",
       "    </style>\n",
       "<div class=\"wandb-row\"><div class=\"wandb-col\"><h3>Run history:</h3><br/><table class=\"wandb\"><tr><td>acc</td><td>▁▅▆▇█</td></tr><tr><td>epoch</td><td>▁▃▅▆█</td></tr><tr><td>loss</td><td>█▄▂▂▁</td></tr><tr><td>val_acc</td><td>▁▄▇██</td></tr><tr><td>val_loss</td><td>█▅▂▁▁</td></tr></table><br/></div><div class=\"wandb-col\"><h3>Run summary:</h3><br/><table class=\"wandb\"><tr><td>acc</td><td>0.51431</td></tr><tr><td>best_epoch</td><td>4</td></tr><tr><td>best_val_loss</td><td>1.34536</td></tr><tr><td>epoch</td><td>4</td></tr><tr><td>loss</td><td>1.31584</td></tr><tr><td>val_acc</td><td>0.51201</td></tr><tr><td>val_loss</td><td>1.34536</td></tr></table><br/></div></div>"
      ],
      "text/plain": [
       "<IPython.core.display.HTML object>"
      ]
     },
     "metadata": {},
     "output_type": "display_data"
    },
    {
     "data": {
      "text/html": [
       "Synced <strong style=\"color:#cdcd00\">toasty-sweep-44</strong>: <a href=\"https://wandb.ai/msaintfelix/Sweeps-Genre-Classifier/runs/lzrg0q12\" target=\"_blank\">https://wandb.ai/msaintfelix/Sweeps-Genre-Classifier/runs/lzrg0q12</a><br/>Synced 6 W&B file(s), 1 media file(s), 0 artifact file(s) and 1 other file(s)"
      ],
      "text/plain": [
       "<IPython.core.display.HTML object>"
      ]
     },
     "metadata": {},
     "output_type": "display_data"
    },
    {
     "data": {
      "text/html": [
       "Find logs at: <code>./wandb/run-20220829_212619-lzrg0q12/logs</code>"
      ],
      "text/plain": [
       "<IPython.core.display.HTML object>"
      ]
     },
     "metadata": {},
     "output_type": "display_data"
    },
    {
     "name": "stderr",
     "output_type": "stream",
     "text": [
      "\u001b[34m\u001b[1mwandb\u001b[0m: Agent Starting Run: kgavd9po with config:\n",
      "\u001b[34m\u001b[1mwandb\u001b[0m: \tbatch_size: 64\n",
      "\u001b[34m\u001b[1mwandb\u001b[0m: \tconv_layer_size: 16\n",
      "\u001b[34m\u001b[1mwandb\u001b[0m: \tdropout: 0.3\n",
      "\u001b[34m\u001b[1mwandb\u001b[0m: \tepochs: 10\n",
      "\u001b[34m\u001b[1mwandb\u001b[0m: \tlearning_rate: 0.01\n"
     ]
    },
    {
     "data": {
      "text/html": [
       "wandb version 0.13.2 is available!  To upgrade, please run:\n",
       " $ pip install wandb --upgrade"
      ],
      "text/plain": [
       "<IPython.core.display.HTML object>"
      ]
     },
     "metadata": {},
     "output_type": "display_data"
    },
    {
     "data": {
      "text/html": [
       "Tracking run with wandb version 0.12.11"
      ],
      "text/plain": [
       "<IPython.core.display.HTML object>"
      ]
     },
     "metadata": {},
     "output_type": "display_data"
    },
    {
     "data": {
      "text/html": [
       "Run data is saved locally in <code>/Users/msf/GitHub/TensorFlow_MusicGenre_Classifier/wandb/run-20220829_212710-kgavd9po</code>"
      ],
      "text/plain": [
       "<IPython.core.display.HTML object>"
      ]
     },
     "metadata": {},
     "output_type": "display_data"
    },
    {
     "data": {
      "text/html": [
       "Syncing run <strong><a href=\"https://wandb.ai/msaintfelix/Sweeps-Genre-Classifier/runs/kgavd9po\" target=\"_blank\">electric-sweep-45</a></strong> to <a href=\"https://wandb.ai/msaintfelix/Sweeps-Genre-Classifier\" target=\"_blank\">Weights & Biases</a> (<a href=\"https://wandb.me/run\" target=\"_blank\">docs</a>)<br/>Sweep page:  <a href=\"https://wandb.ai/msaintfelix/Sweeps-Genre-Classifier/sweeps/e7xdbkpy\" target=\"_blank\">https://wandb.ai/msaintfelix/Sweeps-Genre-Classifier/sweeps/e7xdbkpy</a>"
      ],
      "text/plain": [
       "<IPython.core.display.HTML object>"
      ]
     },
     "metadata": {},
     "output_type": "display_data"
    },
    {
     "name": "stdout",
     "output_type": "stream",
     "text": [
      "(9990, 125, 13)\n",
      "Model: \"sequential\"\n",
      "_________________________________________________________________\n",
      "Layer (type)                 Output Shape              Param #   \n",
      "=================================================================\n",
      "conv2d (Conv2D)              (None, 123, 11, 16)       160       \n",
      "_________________________________________________________________\n",
      "max_pooling2d (MaxPooling2D) (None, 62, 6, 16)         0         \n",
      "_________________________________________________________________\n",
      "batch_normalization (BatchNo (None, 62, 6, 16)         64        \n",
      "_________________________________________________________________\n",
      "conv2d_1 (Conv2D)            (None, 60, 4, 16)         2320      \n",
      "_________________________________________________________________\n",
      "max_pooling2d_1 (MaxPooling2 (None, 30, 2, 16)         0         \n",
      "_________________________________________________________________\n",
      "batch_normalization_1 (Batch (None, 30, 2, 16)         64        \n",
      "_________________________________________________________________\n",
      "conv2d_2 (Conv2D)            (None, 29, 1, 16)         1040      \n",
      "_________________________________________________________________\n",
      "max_pooling2d_2 (MaxPooling2 (None, 15, 1, 16)         0         \n",
      "_________________________________________________________________\n",
      "batch_normalization_2 (Batch (None, 15, 1, 16)         64        \n",
      "_________________________________________________________________\n",
      "dropout (Dropout)            (None, 15, 1, 16)         0         \n",
      "_________________________________________________________________\n",
      "flatten (Flatten)            (None, 240)               0         \n",
      "_________________________________________________________________\n",
      "dense (Dense)                (None, 64)                15424     \n",
      "_________________________________________________________________\n",
      "dense_1 (Dense)              (None, 10)                650       \n",
      "=================================================================\n",
      "Total params: 19,786\n",
      "Trainable params: 19,690\n",
      "Non-trainable params: 96\n",
      "_________________________________________________________________\n",
      "Epoch 1/10\n",
      "100/100 [==============================] - 5s 44ms/step - loss: 2.1015 - acc: 0.3239 - val_loss: 2.3300 - val_acc: 0.3654\n",
      "Epoch 2/10\n",
      "100/100 [==============================] - 4s 44ms/step - loss: 1.3048 - acc: 0.5272 - val_loss: 2.4080 - val_acc: 0.3564\n",
      "Epoch 3/10\n",
      "100/100 [==============================] - 4s 44ms/step - loss: 1.1524 - acc: 0.5718 - val_loss: 1.7695 - val_acc: 0.4359\n",
      "Epoch 4/10\n",
      "100/100 [==============================] - 4s 44ms/step - loss: 1.0601 - acc: 0.6146 - val_loss: 2.5640 - val_acc: 0.3904\n",
      "Epoch 5/10\n",
      "100/100 [==============================] - 5s 46ms/step - loss: 1.0202 - acc: 0.6294 - val_loss: 1.6172 - val_acc: 0.5300\n",
      "Epoch 6/10\n",
      "100/100 [==============================] - 4s 44ms/step - loss: 0.9335 - acc: 0.6602 - val_loss: 1.1829 - val_acc: 0.6261\n",
      "Epoch 7/10\n",
      "100/100 [==============================] - 4s 45ms/step - loss: 0.8730 - acc: 0.6852 - val_loss: 1.2082 - val_acc: 0.5941\n",
      "Epoch 8/10\n",
      "100/100 [==============================] - 4s 44ms/step - loss: 0.8367 - acc: 0.6885 - val_loss: 1.2067 - val_acc: 0.6186\n",
      "Epoch 9/10\n",
      "100/100 [==============================] - 4s 45ms/step - loss: 0.8137 - acc: 0.7006 - val_loss: 1.4142 - val_acc: 0.5946\n",
      "Epoch 10/10\n",
      "100/100 [==============================] - 4s 45ms/step - loss: 0.7562 - acc: 0.7235 - val_loss: 1.1074 - val_acc: 0.6156\n",
      "\n",
      "---Now testing the model for one audio file---\n",
      "The model predicts: rock, and ground truth is: rock.\n",
      "\n",
      "\n"
     ]
    },
    {
     "data": {
      "text/html": [
       "Waiting for W&B process to finish... <strong style=\"color:green\">(success).</strong>"
      ],
      "text/plain": [
       "<IPython.core.display.HTML object>"
      ]
     },
     "metadata": {},
     "output_type": "display_data"
    },
    {
     "data": {
      "application/vnd.jupyter.widget-view+json": {
       "model_id": "",
       "version_major": 2,
       "version_minor": 0
      },
      "text/plain": [
       "VBox(children=(Label(value='0.224 MB of 0.224 MB uploaded (0.000 MB deduped)\\r'), FloatProgress(value=1.0, max…"
      ]
     },
     "metadata": {},
     "output_type": "display_data"
    },
    {
     "data": {
      "text/html": [
       "<style>\n",
       "    table.wandb td:nth-child(1) { padding: 0 10px; text-align: right }\n",
       "    .wandb-row { display: flex; flex-direction: row; flex-wrap: wrap; width: 100% }\n",
       "    .wandb-col { display: flex; flex-direction: column; flex-basis: 100%; flex: 1; padding: 10px; }\n",
       "    </style>\n",
       "<div class=\"wandb-row\"><div class=\"wandb-col\"><h3>Run history:</h3><br/><table class=\"wandb\"><tr><td>acc</td><td>▁▄▅▆▆▇▇███</td></tr><tr><td>epoch</td><td>▁▂▃▃▄▅▆▆▇█</td></tr><tr><td>loss</td><td>█▅▄▃▃▂▂▁▁▁</td></tr><tr><td>val_acc</td><td>▁▁▃▂▆█▇█▇█</td></tr><tr><td>val_loss</td><td>▇▇▄█▃▁▁▁▂▁</td></tr></table><br/></div><div class=\"wandb-col\"><h3>Run summary:</h3><br/><table class=\"wandb\"><tr><td>acc</td><td>0.71046</td></tr><tr><td>best_epoch</td><td>9</td></tr><tr><td>best_val_loss</td><td>1.10739</td></tr><tr><td>epoch</td><td>9</td></tr><tr><td>loss</td><td>0.79214</td></tr><tr><td>val_acc</td><td>0.61562</td></tr><tr><td>val_loss</td><td>1.10739</td></tr></table><br/></div></div>"
      ],
      "text/plain": [
       "<IPython.core.display.HTML object>"
      ]
     },
     "metadata": {},
     "output_type": "display_data"
    },
    {
     "data": {
      "text/html": [
       "Synced <strong style=\"color:#cdcd00\">electric-sweep-45</strong>: <a href=\"https://wandb.ai/msaintfelix/Sweeps-Genre-Classifier/runs/kgavd9po\" target=\"_blank\">https://wandb.ai/msaintfelix/Sweeps-Genre-Classifier/runs/kgavd9po</a><br/>Synced 6 W&B file(s), 1 media file(s), 0 artifact file(s) and 1 other file(s)"
      ],
      "text/plain": [
       "<IPython.core.display.HTML object>"
      ]
     },
     "metadata": {},
     "output_type": "display_data"
    },
    {
     "data": {
      "text/html": [
       "Find logs at: <code>./wandb/run-20220829_212710-kgavd9po/logs</code>"
      ],
      "text/plain": [
       "<IPython.core.display.HTML object>"
      ]
     },
     "metadata": {},
     "output_type": "display_data"
    },
    {
     "name": "stderr",
     "output_type": "stream",
     "text": [
      "\u001b[34m\u001b[1mwandb\u001b[0m: Sweep Agent: Waiting for job.\n",
      "\u001b[34m\u001b[1mwandb\u001b[0m: Job received.\n",
      "\u001b[34m\u001b[1mwandb\u001b[0m: Agent Starting Run: yd8ebehz with config:\n",
      "\u001b[34m\u001b[1mwandb\u001b[0m: \tbatch_size: 32\n",
      "\u001b[34m\u001b[1mwandb\u001b[0m: \tconv_layer_size: 32\n",
      "\u001b[34m\u001b[1mwandb\u001b[0m: \tdropout: 0.3\n",
      "\u001b[34m\u001b[1mwandb\u001b[0m: \tepochs: 5\n",
      "\u001b[34m\u001b[1mwandb\u001b[0m: \tlearning_rate: 3e-05\n"
     ]
    },
    {
     "data": {
      "text/html": [
       "wandb version 0.13.2 is available!  To upgrade, please run:\n",
       " $ pip install wandb --upgrade"
      ],
      "text/plain": [
       "<IPython.core.display.HTML object>"
      ]
     },
     "metadata": {},
     "output_type": "display_data"
    },
    {
     "data": {
      "text/html": [
       "Tracking run with wandb version 0.12.11"
      ],
      "text/plain": [
       "<IPython.core.display.HTML object>"
      ]
     },
     "metadata": {},
     "output_type": "display_data"
    },
    {
     "data": {
      "text/html": [
       "Run data is saved locally in <code>/Users/msf/GitHub/TensorFlow_MusicGenre_Classifier/wandb/run-20220829_212831-yd8ebehz</code>"
      ],
      "text/plain": [
       "<IPython.core.display.HTML object>"
      ]
     },
     "metadata": {},
     "output_type": "display_data"
    },
    {
     "data": {
      "text/html": [
       "Syncing run <strong><a href=\"https://wandb.ai/msaintfelix/Sweeps-Genre-Classifier/runs/yd8ebehz\" target=\"_blank\">dutiful-sweep-46</a></strong> to <a href=\"https://wandb.ai/msaintfelix/Sweeps-Genre-Classifier\" target=\"_blank\">Weights & Biases</a> (<a href=\"https://wandb.me/run\" target=\"_blank\">docs</a>)<br/>Sweep page:  <a href=\"https://wandb.ai/msaintfelix/Sweeps-Genre-Classifier/sweeps/e7xdbkpy\" target=\"_blank\">https://wandb.ai/msaintfelix/Sweeps-Genre-Classifier/sweeps/e7xdbkpy</a>"
      ],
      "text/plain": [
       "<IPython.core.display.HTML object>"
      ]
     },
     "metadata": {},
     "output_type": "display_data"
    },
    {
     "name": "stdout",
     "output_type": "stream",
     "text": [
      "(9990, 125, 13)\n",
      "Model: \"sequential\"\n",
      "_________________________________________________________________\n",
      "Layer (type)                 Output Shape              Param #   \n",
      "=================================================================\n",
      "conv2d (Conv2D)              (None, 123, 11, 32)       320       \n",
      "_________________________________________________________________\n",
      "max_pooling2d (MaxPooling2D) (None, 62, 6, 32)         0         \n",
      "_________________________________________________________________\n",
      "batch_normalization (BatchNo (None, 62, 6, 32)         128       \n",
      "_________________________________________________________________\n",
      "conv2d_1 (Conv2D)            (None, 60, 4, 32)         9248      \n",
      "_________________________________________________________________\n",
      "max_pooling2d_1 (MaxPooling2 (None, 30, 2, 32)         0         \n",
      "_________________________________________________________________\n",
      "batch_normalization_1 (Batch (None, 30, 2, 32)         128       \n",
      "_________________________________________________________________\n",
      "conv2d_2 (Conv2D)            (None, 29, 1, 32)         4128      \n",
      "_________________________________________________________________\n",
      "max_pooling2d_2 (MaxPooling2 (None, 15, 1, 32)         0         \n",
      "_________________________________________________________________\n",
      "batch_normalization_2 (Batch (None, 15, 1, 32)         128       \n",
      "_________________________________________________________________\n",
      "dropout (Dropout)            (None, 15, 1, 32)         0         \n",
      "_________________________________________________________________\n",
      "flatten (Flatten)            (None, 480)               0         \n",
      "_________________________________________________________________\n",
      "dense (Dense)                (None, 64)                30784     \n",
      "_________________________________________________________________\n",
      "dense_1 (Dense)              (None, 10)                650       \n",
      "=================================================================\n",
      "Total params: 45,514\n",
      "Trainable params: 45,322\n",
      "Non-trainable params: 192\n",
      "_________________________________________________________________\n",
      "Epoch 1/5\n",
      "200/200 [==============================] - 9s 40ms/step - loss: 2.7828 - acc: 0.1265 - val_loss: 2.1512 - val_acc: 0.2202\n",
      "Epoch 2/5\n",
      "200/200 [==============================] - 8s 39ms/step - loss: 2.2532 - acc: 0.2435 - val_loss: 1.9155 - val_acc: 0.3253\n",
      "Epoch 3/5\n",
      "200/200 [==============================] - 8s 40ms/step - loss: 1.9796 - acc: 0.3255 - val_loss: 1.7679 - val_acc: 0.3619\n",
      "Epoch 4/5\n",
      "200/200 [==============================] - 8s 39ms/step - loss: 1.8289 - acc: 0.3661 - val_loss: 1.6625 - val_acc: 0.3979\n",
      "Epoch 5/5\n",
      "200/200 [==============================] - 8s 38ms/step - loss: 1.7442 - acc: 0.3835 - val_loss: 1.5823 - val_acc: 0.4244\n",
      "\n",
      "---Now testing the model for one audio file---\n",
      "The model predicts: disco, and ground truth is: disco.\n",
      "\n",
      "\n"
     ]
    },
    {
     "data": {
      "text/html": [
       "Waiting for W&B process to finish... <strong style=\"color:green\">(success).</strong>"
      ],
      "text/plain": [
       "<IPython.core.display.HTML object>"
      ]
     },
     "metadata": {},
     "output_type": "display_data"
    },
    {
     "data": {
      "application/vnd.jupyter.widget-view+json": {
       "model_id": "",
       "version_major": 2,
       "version_minor": 0
      },
      "text/plain": [
       "VBox(children=(Label(value='0.419 MB of 0.419 MB uploaded (0.000 MB deduped)\\r'), FloatProgress(value=1.0, max…"
      ]
     },
     "metadata": {},
     "output_type": "display_data"
    },
    {
     "data": {
      "text/html": [
       "<style>\n",
       "    table.wandb td:nth-child(1) { padding: 0 10px; text-align: right }\n",
       "    .wandb-row { display: flex; flex-direction: row; flex-wrap: wrap; width: 100% }\n",
       "    .wandb-col { display: flex; flex-direction: column; flex-basis: 100%; flex: 1; padding: 10px; }\n",
       "    </style>\n",
       "<div class=\"wandb-row\"><div class=\"wandb-col\"><h3>Run history:</h3><br/><table class=\"wandb\"><tr><td>acc</td><td>▁▄▆▇█</td></tr><tr><td>epoch</td><td>▁▃▅▆█</td></tr><tr><td>loss</td><td>█▄▃▂▁</td></tr><tr><td>val_acc</td><td>▁▅▆▇█</td></tr><tr><td>val_loss</td><td>█▅▃▂▁</td></tr></table><br/></div><div class=\"wandb-col\"><h3>Run summary:</h3><br/><table class=\"wandb\"><tr><td>acc</td><td>0.39105</td></tr><tr><td>best_epoch</td><td>4</td></tr><tr><td>best_val_loss</td><td>1.58234</td></tr><tr><td>epoch</td><td>4</td></tr><tr><td>loss</td><td>1.72619</td></tr><tr><td>val_acc</td><td>0.42442</td></tr><tr><td>val_loss</td><td>1.58234</td></tr></table><br/></div></div>"
      ],
      "text/plain": [
       "<IPython.core.display.HTML object>"
      ]
     },
     "metadata": {},
     "output_type": "display_data"
    },
    {
     "data": {
      "text/html": [
       "Synced <strong style=\"color:#cdcd00\">dutiful-sweep-46</strong>: <a href=\"https://wandb.ai/msaintfelix/Sweeps-Genre-Classifier/runs/yd8ebehz\" target=\"_blank\">https://wandb.ai/msaintfelix/Sweeps-Genre-Classifier/runs/yd8ebehz</a><br/>Synced 6 W&B file(s), 1 media file(s), 0 artifact file(s) and 1 other file(s)"
      ],
      "text/plain": [
       "<IPython.core.display.HTML object>"
      ]
     },
     "metadata": {},
     "output_type": "display_data"
    },
    {
     "data": {
      "text/html": [
       "Find logs at: <code>./wandb/run-20220829_212831-yd8ebehz/logs</code>"
      ],
      "text/plain": [
       "<IPython.core.display.HTML object>"
      ]
     },
     "metadata": {},
     "output_type": "display_data"
    },
    {
     "name": "stderr",
     "output_type": "stream",
     "text": [
      "\u001b[34m\u001b[1mwandb\u001b[0m: Agent Starting Run: mtffqnmm with config:\n",
      "\u001b[34m\u001b[1mwandb\u001b[0m: \tbatch_size: 64\n",
      "\u001b[34m\u001b[1mwandb\u001b[0m: \tconv_layer_size: 64\n",
      "\u001b[34m\u001b[1mwandb\u001b[0m: \tdropout: 0.3\n",
      "\u001b[34m\u001b[1mwandb\u001b[0m: \tepochs: 10\n",
      "\u001b[34m\u001b[1mwandb\u001b[0m: \tlearning_rate: 0.001\n"
     ]
    },
    {
     "data": {
      "text/html": [
       "wandb version 0.13.2 is available!  To upgrade, please run:\n",
       " $ pip install wandb --upgrade"
      ],
      "text/plain": [
       "<IPython.core.display.HTML object>"
      ]
     },
     "metadata": {},
     "output_type": "display_data"
    },
    {
     "data": {
      "text/html": [
       "Tracking run with wandb version 0.12.11"
      ],
      "text/plain": [
       "<IPython.core.display.HTML object>"
      ]
     },
     "metadata": {},
     "output_type": "display_data"
    },
    {
     "data": {
      "text/html": [
       "Run data is saved locally in <code>/Users/msf/GitHub/TensorFlow_MusicGenre_Classifier/wandb/run-20220829_212937-mtffqnmm</code>"
      ],
      "text/plain": [
       "<IPython.core.display.HTML object>"
      ]
     },
     "metadata": {},
     "output_type": "display_data"
    },
    {
     "data": {
      "text/html": [
       "Syncing run <strong><a href=\"https://wandb.ai/msaintfelix/Sweeps-Genre-Classifier/runs/mtffqnmm\" target=\"_blank\">fine-sweep-47</a></strong> to <a href=\"https://wandb.ai/msaintfelix/Sweeps-Genre-Classifier\" target=\"_blank\">Weights & Biases</a> (<a href=\"https://wandb.me/run\" target=\"_blank\">docs</a>)<br/>Sweep page:  <a href=\"https://wandb.ai/msaintfelix/Sweeps-Genre-Classifier/sweeps/e7xdbkpy\" target=\"_blank\">https://wandb.ai/msaintfelix/Sweeps-Genre-Classifier/sweeps/e7xdbkpy</a>"
      ],
      "text/plain": [
       "<IPython.core.display.HTML object>"
      ]
     },
     "metadata": {},
     "output_type": "display_data"
    },
    {
     "name": "stdout",
     "output_type": "stream",
     "text": [
      "(9990, 125, 13)\n",
      "Model: \"sequential\"\n",
      "_________________________________________________________________\n",
      "Layer (type)                 Output Shape              Param #   \n",
      "=================================================================\n",
      "conv2d (Conv2D)              (None, 123, 11, 64)       640       \n",
      "_________________________________________________________________\n",
      "max_pooling2d (MaxPooling2D) (None, 62, 6, 64)         0         \n",
      "_________________________________________________________________\n",
      "batch_normalization (BatchNo (None, 62, 6, 64)         256       \n",
      "_________________________________________________________________\n",
      "conv2d_1 (Conv2D)            (None, 60, 4, 64)         36928     \n",
      "_________________________________________________________________\n",
      "max_pooling2d_1 (MaxPooling2 (None, 30, 2, 64)         0         \n",
      "_________________________________________________________________\n",
      "batch_normalization_1 (Batch (None, 30, 2, 64)         256       \n",
      "_________________________________________________________________\n",
      "conv2d_2 (Conv2D)            (None, 29, 1, 64)         16448     \n",
      "_________________________________________________________________\n",
      "max_pooling2d_2 (MaxPooling2 (None, 15, 1, 64)         0         \n",
      "_________________________________________________________________\n",
      "batch_normalization_2 (Batch (None, 15, 1, 64)         256       \n",
      "_________________________________________________________________\n",
      "dropout (Dropout)            (None, 15, 1, 64)         0         \n",
      "_________________________________________________________________\n",
      "flatten (Flatten)            (None, 960)               0         \n",
      "_________________________________________________________________\n",
      "dense (Dense)                (None, 64)                61504     \n",
      "_________________________________________________________________\n",
      "dense_1 (Dense)              (None, 10)                650       \n",
      "=================================================================\n",
      "Total params: 116,938\n",
      "Trainable params: 116,554\n",
      "Non-trainable params: 384\n",
      "_________________________________________________________________\n",
      "Epoch 1/10\n",
      "100/100 [==============================] - 14s 133ms/step - loss: 1.9528 - acc: 0.3837 - val_loss: 1.9299 - val_acc: 0.3393\n",
      "Epoch 2/10\n",
      "100/100 [==============================] - 13s 127ms/step - loss: 1.1246 - acc: 0.6058 - val_loss: 1.0685 - val_acc: 0.6246\n",
      "Epoch 3/10\n",
      "100/100 [==============================] - 13s 127ms/step - loss: 0.8869 - acc: 0.6890 - val_loss: 1.3287 - val_acc: 0.5981\n",
      "Epoch 4/10\n",
      "100/100 [==============================] - 13s 127ms/step - loss: 0.7275 - acc: 0.7398 - val_loss: 0.9348 - val_acc: 0.6922\n",
      "Epoch 5/10\n",
      "100/100 [==============================] - 13s 127ms/step - loss: 0.6153 - acc: 0.7884 - val_loss: 0.8273 - val_acc: 0.7237\n",
      "Epoch 6/10\n",
      "100/100 [==============================] - 13s 127ms/step - loss: 0.5196 - acc: 0.8200 - val_loss: 0.7287 - val_acc: 0.7593\n",
      "Epoch 7/10\n",
      "100/100 [==============================] - 13s 127ms/step - loss: 0.4542 - acc: 0.8384 - val_loss: 0.7313 - val_acc: 0.7643\n",
      "Epoch 8/10\n",
      "100/100 [==============================] - 13s 126ms/step - loss: 0.4029 - acc: 0.8551 - val_loss: 0.7182 - val_acc: 0.7773\n",
      "Epoch 9/10\n",
      "100/100 [==============================] - 13s 127ms/step - loss: 0.3561 - acc: 0.8709 - val_loss: 0.9664 - val_acc: 0.7102\n",
      "Epoch 10/10\n",
      "100/100 [==============================] - 13s 127ms/step - loss: 0.3148 - acc: 0.8841 - val_loss: 0.8781 - val_acc: 0.7462\n",
      "\n",
      "---Now testing the model for one audio file---\n",
      "The model predicts: hiphop, and ground truth is: metal.\n",
      "\n",
      "\n"
     ]
    },
    {
     "data": {
      "text/html": [
       "Waiting for W&B process to finish... <strong style=\"color:green\">(success).</strong>"
      ],
      "text/plain": [
       "<IPython.core.display.HTML object>"
      ]
     },
     "metadata": {},
     "output_type": "display_data"
    },
    {
     "data": {
      "application/vnd.jupyter.widget-view+json": {
       "model_id": "",
       "version_major": 2,
       "version_minor": 0
      },
      "text/plain": [
       "VBox(children=(Label(value='0.965 MB of 0.965 MB uploaded (0.000 MB deduped)\\r'), FloatProgress(value=1.0, max…"
      ]
     },
     "metadata": {},
     "output_type": "display_data"
    },
    {
     "data": {
      "text/html": [
       "<style>\n",
       "    table.wandb td:nth-child(1) { padding: 0 10px; text-align: right }\n",
       "    .wandb-row { display: flex; flex-direction: row; flex-wrap: wrap; width: 100% }\n",
       "    .wandb-col { display: flex; flex-direction: column; flex-basis: 100%; flex: 1; padding: 10px; }\n",
       "    </style>\n",
       "<div class=\"wandb-row\"><div class=\"wandb-col\"><h3>Run history:</h3><br/><table class=\"wandb\"><tr><td>acc</td><td>▁▄▅▆▆▇▇▇██</td></tr><tr><td>epoch</td><td>▁▂▃▃▄▅▆▆▇█</td></tr><tr><td>loss</td><td>█▅▄▃▃▂▂▁▁▁</td></tr><tr><td>val_acc</td><td>▁▆▅▇▇███▇█</td></tr><tr><td>val_loss</td><td>█▃▅▂▂▁▁▁▂▂</td></tr></table><br/></div><div class=\"wandb-col\"><h3>Run summary:</h3><br/><table class=\"wandb\"><tr><td>acc</td><td>0.88034</td></tr><tr><td>best_epoch</td><td>7</td></tr><tr><td>best_val_loss</td><td>0.7182</td></tr><tr><td>epoch</td><td>9</td></tr><tr><td>loss</td><td>0.33298</td></tr><tr><td>val_acc</td><td>0.74625</td></tr><tr><td>val_loss</td><td>0.87811</td></tr></table><br/></div></div>"
      ],
      "text/plain": [
       "<IPython.core.display.HTML object>"
      ]
     },
     "metadata": {},
     "output_type": "display_data"
    },
    {
     "data": {
      "text/html": [
       "Synced <strong style=\"color:#cdcd00\">fine-sweep-47</strong>: <a href=\"https://wandb.ai/msaintfelix/Sweeps-Genre-Classifier/runs/mtffqnmm\" target=\"_blank\">https://wandb.ai/msaintfelix/Sweeps-Genre-Classifier/runs/mtffqnmm</a><br/>Synced 6 W&B file(s), 1 media file(s), 0 artifact file(s) and 1 other file(s)"
      ],
      "text/plain": [
       "<IPython.core.display.HTML object>"
      ]
     },
     "metadata": {},
     "output_type": "display_data"
    },
    {
     "data": {
      "text/html": [
       "Find logs at: <code>./wandb/run-20220829_212937-mtffqnmm/logs</code>"
      ],
      "text/plain": [
       "<IPython.core.display.HTML object>"
      ]
     },
     "metadata": {},
     "output_type": "display_data"
    },
    {
     "name": "stderr",
     "output_type": "stream",
     "text": [
      "\u001b[34m\u001b[1mwandb\u001b[0m: Agent Starting Run: lgph5roc with config:\n",
      "\u001b[34m\u001b[1mwandb\u001b[0m: \tbatch_size: 32\n",
      "\u001b[34m\u001b[1mwandb\u001b[0m: \tconv_layer_size: 16\n",
      "\u001b[34m\u001b[1mwandb\u001b[0m: \tdropout: 0.5\n",
      "\u001b[34m\u001b[1mwandb\u001b[0m: \tepochs: 5\n",
      "\u001b[34m\u001b[1mwandb\u001b[0m: \tlearning_rate: 1e-05\n"
     ]
    },
    {
     "data": {
      "text/html": [
       "wandb version 0.13.2 is available!  To upgrade, please run:\n",
       " $ pip install wandb --upgrade"
      ],
      "text/plain": [
       "<IPython.core.display.HTML object>"
      ]
     },
     "metadata": {},
     "output_type": "display_data"
    },
    {
     "data": {
      "text/html": [
       "Tracking run with wandb version 0.12.11"
      ],
      "text/plain": [
       "<IPython.core.display.HTML object>"
      ]
     },
     "metadata": {},
     "output_type": "display_data"
    },
    {
     "data": {
      "text/html": [
       "Run data is saved locally in <code>/Users/msf/GitHub/TensorFlow_MusicGenre_Classifier/wandb/run-20220829_213210-lgph5roc</code>"
      ],
      "text/plain": [
       "<IPython.core.display.HTML object>"
      ]
     },
     "metadata": {},
     "output_type": "display_data"
    },
    {
     "data": {
      "text/html": [
       "Syncing run <strong><a href=\"https://wandb.ai/msaintfelix/Sweeps-Genre-Classifier/runs/lgph5roc\" target=\"_blank\">glamorous-sweep-48</a></strong> to <a href=\"https://wandb.ai/msaintfelix/Sweeps-Genre-Classifier\" target=\"_blank\">Weights & Biases</a> (<a href=\"https://wandb.me/run\" target=\"_blank\">docs</a>)<br/>Sweep page:  <a href=\"https://wandb.ai/msaintfelix/Sweeps-Genre-Classifier/sweeps/e7xdbkpy\" target=\"_blank\">https://wandb.ai/msaintfelix/Sweeps-Genre-Classifier/sweeps/e7xdbkpy</a>"
      ],
      "text/plain": [
       "<IPython.core.display.HTML object>"
      ]
     },
     "metadata": {},
     "output_type": "display_data"
    },
    {
     "name": "stdout",
     "output_type": "stream",
     "text": [
      "(9990, 125, 13)\n",
      "Model: \"sequential\"\n",
      "_________________________________________________________________\n",
      "Layer (type)                 Output Shape              Param #   \n",
      "=================================================================\n",
      "conv2d (Conv2D)              (None, 123, 11, 16)       160       \n",
      "_________________________________________________________________\n",
      "max_pooling2d (MaxPooling2D) (None, 62, 6, 16)         0         \n",
      "_________________________________________________________________\n",
      "batch_normalization (BatchNo (None, 62, 6, 16)         64        \n",
      "_________________________________________________________________\n",
      "conv2d_1 (Conv2D)            (None, 60, 4, 16)         2320      \n",
      "_________________________________________________________________\n",
      "max_pooling2d_1 (MaxPooling2 (None, 30, 2, 16)         0         \n",
      "_________________________________________________________________\n",
      "batch_normalization_1 (Batch (None, 30, 2, 16)         64        \n",
      "_________________________________________________________________\n",
      "conv2d_2 (Conv2D)            (None, 29, 1, 16)         1040      \n",
      "_________________________________________________________________\n",
      "max_pooling2d_2 (MaxPooling2 (None, 15, 1, 16)         0         \n",
      "_________________________________________________________________\n",
      "batch_normalization_2 (Batch (None, 15, 1, 16)         64        \n",
      "_________________________________________________________________\n",
      "dropout (Dropout)            (None, 15, 1, 16)         0         \n",
      "_________________________________________________________________\n",
      "flatten (Flatten)            (None, 240)               0         \n",
      "_________________________________________________________________\n",
      "dense (Dense)                (None, 64)                15424     \n",
      "_________________________________________________________________\n",
      "dense_1 (Dense)              (None, 10)                650       \n",
      "=================================================================\n",
      "Total params: 19,786\n",
      "Trainable params: 19,690\n",
      "Non-trainable params: 96\n",
      "_________________________________________________________________\n",
      "Epoch 1/5\n",
      "200/200 [==============================] - 6s 24ms/step - loss: 3.3288 - acc: 0.0902 - val_loss: 2.5567 - val_acc: 0.1116\n",
      "Epoch 2/5\n",
      "200/200 [==============================] - 5s 24ms/step - loss: 3.1601 - acc: 0.1154 - val_loss: 2.6035 - val_acc: 0.1336\n",
      "Epoch 3/5\n",
      "200/200 [==============================] - 5s 24ms/step - loss: 3.0582 - acc: 0.1155 - val_loss: 2.5744 - val_acc: 0.1517\n",
      "Epoch 4/5\n",
      "200/200 [==============================] - 5s 24ms/step - loss: 3.0135 - acc: 0.1281 - val_loss: 2.5153 - val_acc: 0.1632\n",
      "Epoch 5/5\n",
      "200/200 [==============================] - 5s 25ms/step - loss: 2.8945 - acc: 0.1369 - val_loss: 2.4517 - val_acc: 0.1802\n",
      "\n",
      "---Now testing the model for one audio file---\n",
      "The model predicts: jazz, and ground truth is: metal.\n",
      "\n",
      "\n"
     ]
    },
    {
     "data": {
      "text/html": [
       "Waiting for W&B process to finish... <strong style=\"color:green\">(success).</strong>"
      ],
      "text/plain": [
       "<IPython.core.display.HTML object>"
      ]
     },
     "metadata": {},
     "output_type": "display_data"
    },
    {
     "data": {
      "application/vnd.jupyter.widget-view+json": {
       "model_id": "",
       "version_major": 2,
       "version_minor": 0
      },
      "text/plain": [
       "VBox(children=(Label(value='0.224 MB of 0.224 MB uploaded (0.000 MB deduped)\\r'), FloatProgress(value=1.0, max…"
      ]
     },
     "metadata": {},
     "output_type": "display_data"
    },
    {
     "data": {
      "text/html": [
       "<style>\n",
       "    table.wandb td:nth-child(1) { padding: 0 10px; text-align: right }\n",
       "    .wandb-row { display: flex; flex-direction: row; flex-wrap: wrap; width: 100% }\n",
       "    .wandb-col { display: flex; flex-direction: column; flex-basis: 100%; flex: 1; padding: 10px; }\n",
       "    </style>\n",
       "<div class=\"wandb-row\"><div class=\"wandb-col\"><h3>Run history:</h3><br/><table class=\"wandb\"><tr><td>acc</td><td>▁▃▄▇█</td></tr><tr><td>epoch</td><td>▁▃▅▆█</td></tr><tr><td>loss</td><td>█▆▄▃▁</td></tr><tr><td>val_acc</td><td>▁▃▅▆█</td></tr><tr><td>val_loss</td><td>▆█▇▄▁</td></tr></table><br/></div><div class=\"wandb-col\"><h3>Run summary:</h3><br/><table class=\"wandb\"><tr><td>acc</td><td>0.14751</td></tr><tr><td>best_epoch</td><td>4</td></tr><tr><td>best_val_loss</td><td>2.45165</td></tr><tr><td>epoch</td><td>4</td></tr><tr><td>loss</td><td>2.83909</td></tr><tr><td>val_acc</td><td>0.18018</td></tr><tr><td>val_loss</td><td>2.45165</td></tr></table><br/></div></div>"
      ],
      "text/plain": [
       "<IPython.core.display.HTML object>"
      ]
     },
     "metadata": {},
     "output_type": "display_data"
    },
    {
     "data": {
      "text/html": [
       "Synced <strong style=\"color:#cdcd00\">glamorous-sweep-48</strong>: <a href=\"https://wandb.ai/msaintfelix/Sweeps-Genre-Classifier/runs/lgph5roc\" target=\"_blank\">https://wandb.ai/msaintfelix/Sweeps-Genre-Classifier/runs/lgph5roc</a><br/>Synced 6 W&B file(s), 1 media file(s), 0 artifact file(s) and 1 other file(s)"
      ],
      "text/plain": [
       "<IPython.core.display.HTML object>"
      ]
     },
     "metadata": {},
     "output_type": "display_data"
    },
    {
     "data": {
      "text/html": [
       "Find logs at: <code>./wandb/run-20220829_213210-lgph5roc/logs</code>"
      ],
      "text/plain": [
       "<IPython.core.display.HTML object>"
      ]
     },
     "metadata": {},
     "output_type": "display_data"
    },
    {
     "name": "stderr",
     "output_type": "stream",
     "text": [
      "\u001b[34m\u001b[1mwandb\u001b[0m: Agent Starting Run: w4plld22 with config:\n",
      "\u001b[34m\u001b[1mwandb\u001b[0m: \tbatch_size: 32\n",
      "\u001b[34m\u001b[1mwandb\u001b[0m: \tconv_layer_size: 32\n",
      "\u001b[34m\u001b[1mwandb\u001b[0m: \tdropout: 0.5\n",
      "\u001b[34m\u001b[1mwandb\u001b[0m: \tepochs: 10\n",
      "\u001b[34m\u001b[1mwandb\u001b[0m: \tlearning_rate: 0.01\n"
     ]
    },
    {
     "data": {
      "text/html": [
       "wandb version 0.13.2 is available!  To upgrade, please run:\n",
       " $ pip install wandb --upgrade"
      ],
      "text/plain": [
       "<IPython.core.display.HTML object>"
      ]
     },
     "metadata": {},
     "output_type": "display_data"
    },
    {
     "data": {
      "text/html": [
       "Tracking run with wandb version 0.12.11"
      ],
      "text/plain": [
       "<IPython.core.display.HTML object>"
      ]
     },
     "metadata": {},
     "output_type": "display_data"
    },
    {
     "data": {
      "text/html": [
       "Run data is saved locally in <code>/Users/msf/GitHub/TensorFlow_MusicGenre_Classifier/wandb/run-20220829_213300-w4plld22</code>"
      ],
      "text/plain": [
       "<IPython.core.display.HTML object>"
      ]
     },
     "metadata": {},
     "output_type": "display_data"
    },
    {
     "data": {
      "text/html": [
       "Syncing run <strong><a href=\"https://wandb.ai/msaintfelix/Sweeps-Genre-Classifier/runs/w4plld22\" target=\"_blank\">glamorous-sweep-49</a></strong> to <a href=\"https://wandb.ai/msaintfelix/Sweeps-Genre-Classifier\" target=\"_blank\">Weights & Biases</a> (<a href=\"https://wandb.me/run\" target=\"_blank\">docs</a>)<br/>Sweep page:  <a href=\"https://wandb.ai/msaintfelix/Sweeps-Genre-Classifier/sweeps/e7xdbkpy\" target=\"_blank\">https://wandb.ai/msaintfelix/Sweeps-Genre-Classifier/sweeps/e7xdbkpy</a>"
      ],
      "text/plain": [
       "<IPython.core.display.HTML object>"
      ]
     },
     "metadata": {},
     "output_type": "display_data"
    },
    {
     "name": "stdout",
     "output_type": "stream",
     "text": [
      "(9990, 125, 13)\n",
      "Model: \"sequential\"\n",
      "_________________________________________________________________\n",
      "Layer (type)                 Output Shape              Param #   \n",
      "=================================================================\n",
      "conv2d (Conv2D)              (None, 123, 11, 32)       320       \n",
      "_________________________________________________________________\n",
      "max_pooling2d (MaxPooling2D) (None, 62, 6, 32)         0         \n",
      "_________________________________________________________________\n",
      "batch_normalization (BatchNo (None, 62, 6, 32)         128       \n",
      "_________________________________________________________________\n",
      "conv2d_1 (Conv2D)            (None, 60, 4, 32)         9248      \n",
      "_________________________________________________________________\n",
      "max_pooling2d_1 (MaxPooling2 (None, 30, 2, 32)         0         \n",
      "_________________________________________________________________\n",
      "batch_normalization_1 (Batch (None, 30, 2, 32)         128       \n",
      "_________________________________________________________________\n",
      "conv2d_2 (Conv2D)            (None, 29, 1, 32)         4128      \n",
      "_________________________________________________________________\n",
      "max_pooling2d_2 (MaxPooling2 (None, 15, 1, 32)         0         \n",
      "_________________________________________________________________\n",
      "batch_normalization_2 (Batch (None, 15, 1, 32)         128       \n",
      "_________________________________________________________________\n",
      "dropout (Dropout)            (None, 15, 1, 32)         0         \n",
      "_________________________________________________________________\n",
      "flatten (Flatten)            (None, 480)               0         \n",
      "_________________________________________________________________\n",
      "dense (Dense)                (None, 64)                30784     \n",
      "_________________________________________________________________\n",
      "dense_1 (Dense)              (None, 10)                650       \n",
      "=================================================================\n",
      "Total params: 45,514\n",
      "Trainable params: 45,322\n",
      "Non-trainable params: 192\n",
      "_________________________________________________________________\n",
      "Epoch 1/10\n",
      "200/200 [==============================] - 9s 40ms/step - loss: 2.4036 - acc: 0.3078 - val_loss: 5.2580 - val_acc: 0.2663\n",
      "Epoch 2/10\n",
      "200/200 [==============================] - 8s 40ms/step - loss: 1.4752 - acc: 0.4584 - val_loss: 1.9933 - val_acc: 0.3734\n",
      "Epoch 3/10\n",
      "200/200 [==============================] - 8s 40ms/step - loss: 1.3269 - acc: 0.5119 - val_loss: 1.3717 - val_acc: 0.5115\n",
      "Epoch 4/10\n",
      "200/200 [==============================] - 8s 40ms/step - loss: 1.2175 - acc: 0.5554 - val_loss: 1.3894 - val_acc: 0.5380\n",
      "Epoch 5/10\n",
      "200/200 [==============================] - 8s 40ms/step - loss: 1.1530 - acc: 0.5922 - val_loss: 1.1330 - val_acc: 0.5761\n",
      "Epoch 6/10\n",
      "200/200 [==============================] - 8s 40ms/step - loss: 1.0928 - acc: 0.6116 - val_loss: 1.3555 - val_acc: 0.5470\n",
      "Epoch 7/10\n",
      "200/200 [==============================] - 8s 40ms/step - loss: 1.0467 - acc: 0.6273 - val_loss: 1.5049 - val_acc: 0.5626\n",
      "Epoch 8/10\n",
      "200/200 [==============================] - 8s 40ms/step - loss: 1.1015 - acc: 0.6393 - val_loss: 1.7702 - val_acc: 0.5711\n",
      "Epoch 9/10\n",
      "200/200 [==============================] - 8s 40ms/step - loss: 1.0147 - acc: 0.6609 - val_loss: 1.0861 - val_acc: 0.6246\n",
      "Epoch 10/10\n",
      "200/200 [==============================] - 8s 40ms/step - loss: 0.9788 - acc: 0.6638 - val_loss: 0.8384 - val_acc: 0.7147\n",
      "\n",
      "---Now testing the model for one audio file---\n",
      "The model predicts: classical, and ground truth is: classical.\n",
      "\n",
      "\n"
     ]
    },
    {
     "data": {
      "text/html": [
       "Waiting for W&B process to finish... <strong style=\"color:green\">(success).</strong>"
      ],
      "text/plain": [
       "<IPython.core.display.HTML object>"
      ]
     },
     "metadata": {},
     "output_type": "display_data"
    },
    {
     "data": {
      "application/vnd.jupyter.widget-view+json": {
       "model_id": "",
       "version_major": 2,
       "version_minor": 0
      },
      "text/plain": [
       "VBox(children=(Label(value='0.419 MB of 0.419 MB uploaded (0.000 MB deduped)\\r'), FloatProgress(value=1.0, max…"
      ]
     },
     "metadata": {},
     "output_type": "display_data"
    },
    {
     "data": {
      "text/html": [
       "<style>\n",
       "    table.wandb td:nth-child(1) { padding: 0 10px; text-align: right }\n",
       "    .wandb-row { display: flex; flex-direction: row; flex-wrap: wrap; width: 100% }\n",
       "    .wandb-col { display: flex; flex-direction: column; flex-basis: 100%; flex: 1; padding: 10px; }\n",
       "    </style>\n",
       "<div class=\"wandb-row\"><div class=\"wandb-col\"><h3>Run history:</h3><br/><table class=\"wandb\"><tr><td>acc</td><td>▁▄▄▅▆▇▇▇██</td></tr><tr><td>epoch</td><td>▁▂▃▃▄▅▆▆▇█</td></tr><tr><td>loss</td><td>█▄▄▃▂▂▂▂▁▁</td></tr><tr><td>val_acc</td><td>▁▃▅▅▆▅▆▆▇█</td></tr><tr><td>val_loss</td><td>█▃▂▂▁▂▂▂▁▁</td></tr></table><br/></div><div class=\"wandb-col\"><h3>Run summary:</h3><br/><table class=\"wandb\"><tr><td>acc</td><td>0.6662</td></tr><tr><td>best_epoch</td><td>9</td></tr><tr><td>best_val_loss</td><td>0.83842</td></tr><tr><td>epoch</td><td>9</td></tr><tr><td>loss</td><td>0.97985</td></tr><tr><td>val_acc</td><td>0.71471</td></tr><tr><td>val_loss</td><td>0.83842</td></tr></table><br/></div></div>"
      ],
      "text/plain": [
       "<IPython.core.display.HTML object>"
      ]
     },
     "metadata": {},
     "output_type": "display_data"
    },
    {
     "data": {
      "text/html": [
       "Synced <strong style=\"color:#cdcd00\">glamorous-sweep-49</strong>: <a href=\"https://wandb.ai/msaintfelix/Sweeps-Genre-Classifier/runs/w4plld22\" target=\"_blank\">https://wandb.ai/msaintfelix/Sweeps-Genre-Classifier/runs/w4plld22</a><br/>Synced 6 W&B file(s), 1 media file(s), 0 artifact file(s) and 1 other file(s)"
      ],
      "text/plain": [
       "<IPython.core.display.HTML object>"
      ]
     },
     "metadata": {},
     "output_type": "display_data"
    },
    {
     "data": {
      "text/html": [
       "Find logs at: <code>./wandb/run-20220829_213300-w4plld22/logs</code>"
      ],
      "text/plain": [
       "<IPython.core.display.HTML object>"
      ]
     },
     "metadata": {},
     "output_type": "display_data"
    },
    {
     "name": "stderr",
     "output_type": "stream",
     "text": [
      "\u001b[34m\u001b[1mwandb\u001b[0m: Agent Starting Run: ol7fzre3 with config:\n",
      "\u001b[34m\u001b[1mwandb\u001b[0m: \tbatch_size: 64\n",
      "\u001b[34m\u001b[1mwandb\u001b[0m: \tconv_layer_size: 16\n",
      "\u001b[34m\u001b[1mwandb\u001b[0m: \tdropout: 0.3\n",
      "\u001b[34m\u001b[1mwandb\u001b[0m: \tepochs: 15\n",
      "\u001b[34m\u001b[1mwandb\u001b[0m: \tlearning_rate: 0.001\n"
     ]
    },
    {
     "data": {
      "text/html": [
       "wandb version 0.13.2 is available!  To upgrade, please run:\n",
       " $ pip install wandb --upgrade"
      ],
      "text/plain": [
       "<IPython.core.display.HTML object>"
      ]
     },
     "metadata": {},
     "output_type": "display_data"
    },
    {
     "data": {
      "text/html": [
       "Tracking run with wandb version 0.12.11"
      ],
      "text/plain": [
       "<IPython.core.display.HTML object>"
      ]
     },
     "metadata": {},
     "output_type": "display_data"
    },
    {
     "data": {
      "text/html": [
       "Run data is saved locally in <code>/Users/msf/GitHub/TensorFlow_MusicGenre_Classifier/wandb/run-20220829_213448-ol7fzre3</code>"
      ],
      "text/plain": [
       "<IPython.core.display.HTML object>"
      ]
     },
     "metadata": {},
     "output_type": "display_data"
    },
    {
     "data": {
      "text/html": [
       "Syncing run <strong><a href=\"https://wandb.ai/msaintfelix/Sweeps-Genre-Classifier/runs/ol7fzre3\" target=\"_blank\">tough-sweep-50</a></strong> to <a href=\"https://wandb.ai/msaintfelix/Sweeps-Genre-Classifier\" target=\"_blank\">Weights & Biases</a> (<a href=\"https://wandb.me/run\" target=\"_blank\">docs</a>)<br/>Sweep page:  <a href=\"https://wandb.ai/msaintfelix/Sweeps-Genre-Classifier/sweeps/e7xdbkpy\" target=\"_blank\">https://wandb.ai/msaintfelix/Sweeps-Genre-Classifier/sweeps/e7xdbkpy</a>"
      ],
      "text/plain": [
       "<IPython.core.display.HTML object>"
      ]
     },
     "metadata": {},
     "output_type": "display_data"
    },
    {
     "name": "stdout",
     "output_type": "stream",
     "text": [
      "(9990, 125, 13)\n",
      "Model: \"sequential\"\n",
      "_________________________________________________________________\n",
      "Layer (type)                 Output Shape              Param #   \n",
      "=================================================================\n",
      "conv2d (Conv2D)              (None, 123, 11, 16)       160       \n",
      "_________________________________________________________________\n",
      "max_pooling2d (MaxPooling2D) (None, 62, 6, 16)         0         \n",
      "_________________________________________________________________\n",
      "batch_normalization (BatchNo (None, 62, 6, 16)         64        \n",
      "_________________________________________________________________\n",
      "conv2d_1 (Conv2D)            (None, 60, 4, 16)         2320      \n",
      "_________________________________________________________________\n",
      "max_pooling2d_1 (MaxPooling2 (None, 30, 2, 16)         0         \n",
      "_________________________________________________________________\n",
      "batch_normalization_1 (Batch (None, 30, 2, 16)         64        \n",
      "_________________________________________________________________\n",
      "conv2d_2 (Conv2D)            (None, 29, 1, 16)         1040      \n",
      "_________________________________________________________________\n",
      "max_pooling2d_2 (MaxPooling2 (None, 15, 1, 16)         0         \n",
      "_________________________________________________________________\n",
      "batch_normalization_2 (Batch (None, 15, 1, 16)         64        \n",
      "_________________________________________________________________\n",
      "dropout (Dropout)            (None, 15, 1, 16)         0         \n",
      "_________________________________________________________________\n",
      "flatten (Flatten)            (None, 240)               0         \n",
      "_________________________________________________________________\n",
      "dense (Dense)                (None, 64)                15424     \n",
      "_________________________________________________________________\n",
      "dense_1 (Dense)              (None, 10)                650       \n",
      "=================================================================\n",
      "Total params: 19,786\n",
      "Trainable params: 19,690\n",
      "Non-trainable params: 96\n",
      "_________________________________________________________________\n",
      "Epoch 1/15\n",
      "100/100 [==============================] - 5s 45ms/step - loss: 2.1146 - acc: 0.2821 - val_loss: 2.1025 - val_acc: 0.2342\n",
      "Epoch 2/15\n",
      "100/100 [==============================] - 4s 45ms/step - loss: 1.4178 - acc: 0.4788 - val_loss: 1.5092 - val_acc: 0.4610\n",
      "Epoch 3/15\n",
      "100/100 [==============================] - 4s 45ms/step - loss: 1.2314 - acc: 0.5449 - val_loss: 1.2845 - val_acc: 0.5240\n",
      "Epoch 4/15\n",
      "100/100 [==============================] - 5s 45ms/step - loss: 1.1157 - acc: 0.5856 - val_loss: 1.3281 - val_acc: 0.5385\n",
      "Epoch 5/15\n",
      "100/100 [==============================] - 5s 45ms/step - loss: 1.0198 - acc: 0.6309 - val_loss: 1.1589 - val_acc: 0.5981\n",
      "Epoch 6/15\n",
      "100/100 [==============================] - 5s 45ms/step - loss: 0.9540 - acc: 0.6629 - val_loss: 1.0350 - val_acc: 0.6241\n",
      "Epoch 7/15\n",
      "100/100 [==============================] - 4s 44ms/step - loss: 0.8916 - acc: 0.6815 - val_loss: 0.8854 - val_acc: 0.6947\n",
      "Epoch 8/15\n",
      "100/100 [==============================] - 4s 44ms/step - loss: 0.8213 - acc: 0.7138 - val_loss: 0.9169 - val_acc: 0.6782\n",
      "Epoch 9/15\n",
      "100/100 [==============================] - 4s 43ms/step - loss: 0.8012 - acc: 0.7158 - val_loss: 0.9975 - val_acc: 0.6572\n",
      "Epoch 10/15\n",
      "100/100 [==============================] - 4s 44ms/step - loss: 0.7676 - acc: 0.7270 - val_loss: 0.9283 - val_acc: 0.6807\n",
      "Epoch 11/15\n",
      "100/100 [==============================] - 4s 44ms/step - loss: 0.7039 - acc: 0.7532 - val_loss: 0.9755 - val_acc: 0.6682\n",
      "Epoch 12/15\n",
      "100/100 [==============================] - 4s 44ms/step - loss: 0.7028 - acc: 0.7527 - val_loss: 0.9363 - val_acc: 0.6797\n",
      "Epoch 13/15\n",
      "100/100 [==============================] - 4s 44ms/step - loss: 0.6942 - acc: 0.7569 - val_loss: 0.7996 - val_acc: 0.7232\n",
      "Epoch 14/15\n",
      "100/100 [==============================] - 4s 44ms/step - loss: 0.6552 - acc: 0.7677 - val_loss: 0.9040 - val_acc: 0.6982\n",
      "Epoch 15/15\n",
      "100/100 [==============================] - 4s 44ms/step - loss: 0.6514 - acc: 0.7704 - val_loss: 0.7604 - val_acc: 0.7357\n",
      "\n",
      "---Now testing the model for one audio file---\n",
      "The model predicts: jazz, and ground truth is: jazz.\n",
      "\n",
      "\n"
     ]
    },
    {
     "data": {
      "text/html": [
       "Waiting for W&B process to finish... <strong style=\"color:green\">(success).</strong>"
      ],
      "text/plain": [
       "<IPython.core.display.HTML object>"
      ]
     },
     "metadata": {},
     "output_type": "display_data"
    },
    {
     "data": {
      "application/vnd.jupyter.widget-view+json": {
       "model_id": "",
       "version_major": 2,
       "version_minor": 0
      },
      "text/plain": [
       "VBox(children=(Label(value='0.224 MB of 0.224 MB uploaded (0.000 MB deduped)\\r'), FloatProgress(value=1.0, max…"
      ]
     },
     "metadata": {},
     "output_type": "display_data"
    },
    {
     "data": {
      "text/html": [
       "<style>\n",
       "    table.wandb td:nth-child(1) { padding: 0 10px; text-align: right }\n",
       "    .wandb-row { display: flex; flex-direction: row; flex-wrap: wrap; width: 100% }\n",
       "    .wandb-col { display: flex; flex-direction: column; flex-basis: 100%; flex: 1; padding: 10px; }\n",
       "    </style>\n",
       "<div class=\"wandb-row\"><div class=\"wandb-col\"><h3>Run history:</h3><br/><table class=\"wandb\"><tr><td>acc</td><td>▁▃▄▅▆▆▆▇▇▇▇████</td></tr><tr><td>epoch</td><td>▁▁▂▃▃▃▄▅▅▅▆▇▇▇█</td></tr><tr><td>loss</td><td>█▅▄▄▃▃▃▂▂▂▂▁▁▁▁</td></tr><tr><td>val_acc</td><td>▁▄▅▅▆▆▇▇▇▇▇▇█▇█</td></tr><tr><td>val_loss</td><td>█▅▄▄▃▂▂▂▂▂▂▂▁▂▁</td></tr></table><br/></div><div class=\"wandb-col\"><h3>Run summary:</h3><br/><table class=\"wandb\"><tr><td>acc</td><td>0.77522</td></tr><tr><td>best_epoch</td><td>14</td></tr><tr><td>best_val_loss</td><td>0.76036</td></tr><tr><td>epoch</td><td>14</td></tr><tr><td>loss</td><td>0.64221</td></tr><tr><td>val_acc</td><td>0.73574</td></tr><tr><td>val_loss</td><td>0.76036</td></tr></table><br/></div></div>"
      ],
      "text/plain": [
       "<IPython.core.display.HTML object>"
      ]
     },
     "metadata": {},
     "output_type": "display_data"
    },
    {
     "data": {
      "text/html": [
       "Synced <strong style=\"color:#cdcd00\">tough-sweep-50</strong>: <a href=\"https://wandb.ai/msaintfelix/Sweeps-Genre-Classifier/runs/ol7fzre3\" target=\"_blank\">https://wandb.ai/msaintfelix/Sweeps-Genre-Classifier/runs/ol7fzre3</a><br/>Synced 6 W&B file(s), 1 media file(s), 0 artifact file(s) and 1 other file(s)"
      ],
      "text/plain": [
       "<IPython.core.display.HTML object>"
      ]
     },
     "metadata": {},
     "output_type": "display_data"
    },
    {
     "data": {
      "text/html": [
       "Find logs at: <code>./wandb/run-20220829_213448-ol7fzre3/logs</code>"
      ],
      "text/plain": [
       "<IPython.core.display.HTML object>"
      ]
     },
     "metadata": {},
     "output_type": "display_data"
    },
    {
     "name": "stderr",
     "output_type": "stream",
     "text": [
      "\u001b[34m\u001b[1mwandb\u001b[0m: Agent Starting Run: bhqsjxtn with config:\n",
      "\u001b[34m\u001b[1mwandb\u001b[0m: \tbatch_size: 32\n",
      "\u001b[34m\u001b[1mwandb\u001b[0m: \tconv_layer_size: 32\n",
      "\u001b[34m\u001b[1mwandb\u001b[0m: \tdropout: 0.5\n",
      "\u001b[34m\u001b[1mwandb\u001b[0m: \tepochs: 15\n",
      "\u001b[34m\u001b[1mwandb\u001b[0m: \tlearning_rate: 0.0003\n"
     ]
    },
    {
     "data": {
      "text/html": [
       "wandb version 0.13.2 is available!  To upgrade, please run:\n",
       " $ pip install wandb --upgrade"
      ],
      "text/plain": [
       "<IPython.core.display.HTML object>"
      ]
     },
     "metadata": {},
     "output_type": "display_data"
    },
    {
     "data": {
      "text/html": [
       "Tracking run with wandb version 0.12.11"
      ],
      "text/plain": [
       "<IPython.core.display.HTML object>"
      ]
     },
     "metadata": {},
     "output_type": "display_data"
    },
    {
     "data": {
      "text/html": [
       "Run data is saved locally in <code>/Users/msf/GitHub/TensorFlow_MusicGenre_Classifier/wandb/run-20220829_213625-bhqsjxtn</code>"
      ],
      "text/plain": [
       "<IPython.core.display.HTML object>"
      ]
     },
     "metadata": {},
     "output_type": "display_data"
    },
    {
     "data": {
      "text/html": [
       "Syncing run <strong><a href=\"https://wandb.ai/msaintfelix/Sweeps-Genre-Classifier/runs/bhqsjxtn\" target=\"_blank\">revived-sweep-51</a></strong> to <a href=\"https://wandb.ai/msaintfelix/Sweeps-Genre-Classifier\" target=\"_blank\">Weights & Biases</a> (<a href=\"https://wandb.me/run\" target=\"_blank\">docs</a>)<br/>Sweep page:  <a href=\"https://wandb.ai/msaintfelix/Sweeps-Genre-Classifier/sweeps/e7xdbkpy\" target=\"_blank\">https://wandb.ai/msaintfelix/Sweeps-Genre-Classifier/sweeps/e7xdbkpy</a>"
      ],
      "text/plain": [
       "<IPython.core.display.HTML object>"
      ]
     },
     "metadata": {},
     "output_type": "display_data"
    },
    {
     "name": "stdout",
     "output_type": "stream",
     "text": [
      "(9990, 125, 13)\n",
      "Model: \"sequential\"\n",
      "_________________________________________________________________\n",
      "Layer (type)                 Output Shape              Param #   \n",
      "=================================================================\n",
      "conv2d (Conv2D)              (None, 123, 11, 32)       320       \n",
      "_________________________________________________________________\n",
      "max_pooling2d (MaxPooling2D) (None, 62, 6, 32)         0         \n",
      "_________________________________________________________________\n",
      "batch_normalization (BatchNo (None, 62, 6, 32)         128       \n",
      "_________________________________________________________________\n",
      "conv2d_1 (Conv2D)            (None, 60, 4, 32)         9248      \n",
      "_________________________________________________________________\n",
      "max_pooling2d_1 (MaxPooling2 (None, 30, 2, 32)         0         \n",
      "_________________________________________________________________\n",
      "batch_normalization_1 (Batch (None, 30, 2, 32)         128       \n",
      "_________________________________________________________________\n",
      "conv2d_2 (Conv2D)            (None, 29, 1, 32)         4128      \n",
      "_________________________________________________________________\n",
      "max_pooling2d_2 (MaxPooling2 (None, 15, 1, 32)         0         \n",
      "_________________________________________________________________\n",
      "batch_normalization_2 (Batch (None, 15, 1, 32)         128       \n",
      "_________________________________________________________________\n",
      "dropout (Dropout)            (None, 15, 1, 32)         0         \n",
      "_________________________________________________________________\n",
      "flatten (Flatten)            (None, 480)               0         \n",
      "_________________________________________________________________\n",
      "dense (Dense)                (None, 64)                30784     \n",
      "_________________________________________________________________\n",
      "dense_1 (Dense)              (None, 10)                650       \n",
      "=================================================================\n",
      "Total params: 45,514\n",
      "Trainable params: 45,322\n",
      "Non-trainable params: 192\n",
      "_________________________________________________________________\n",
      "Epoch 1/15\n",
      "200/200 [==============================] - 9s 40ms/step - loss: 2.5252 - acc: 0.2392 - val_loss: 1.5935 - val_acc: 0.4199\n",
      "Epoch 2/15\n",
      "200/200 [==============================] - 8s 40ms/step - loss: 1.6367 - acc: 0.4281 - val_loss: 1.3112 - val_acc: 0.5210\n",
      "Epoch 3/15\n",
      "200/200 [==============================] - 8s 40ms/step - loss: 1.3623 - acc: 0.5189 - val_loss: 1.1978 - val_acc: 0.5636\n",
      "Epoch 4/15\n",
      "200/200 [==============================] - 8s 40ms/step - loss: 1.2919 - acc: 0.5500 - val_loss: 1.0825 - val_acc: 0.6101\n",
      "Epoch 5/15\n",
      "200/200 [==============================] - 8s 40ms/step - loss: 1.1668 - acc: 0.5924 - val_loss: 1.0496 - val_acc: 0.6231\n",
      "Epoch 6/15\n",
      "200/200 [==============================] - 8s 40ms/step - loss: 1.1157 - acc: 0.6049 - val_loss: 1.0230 - val_acc: 0.6386\n",
      "Epoch 7/15\n",
      "200/200 [==============================] - 8s 39ms/step - loss: 1.0231 - acc: 0.6380 - val_loss: 0.9569 - val_acc: 0.6667\n",
      "Epoch 8/15\n",
      "200/200 [==============================] - 8s 38ms/step - loss: 0.9824 - acc: 0.6498 - val_loss: 0.9159 - val_acc: 0.6722\n",
      "Epoch 9/15\n",
      "200/200 [==============================] - 8s 39ms/step - loss: 0.9132 - acc: 0.6753 - val_loss: 0.9005 - val_acc: 0.6857\n",
      "Epoch 10/15\n",
      "200/200 [==============================] - 8s 38ms/step - loss: 0.8581 - acc: 0.6966 - val_loss: 0.9006 - val_acc: 0.6902\n",
      "Epoch 11/15\n",
      "200/200 [==============================] - 8s 38ms/step - loss: 0.8170 - acc: 0.7183 - val_loss: 0.9029 - val_acc: 0.6792\n",
      "Epoch 12/15\n",
      "200/200 [==============================] - 8s 39ms/step - loss: 0.8077 - acc: 0.7092 - val_loss: 0.8176 - val_acc: 0.7257\n",
      "Epoch 13/15\n",
      "200/200 [==============================] - 8s 39ms/step - loss: 0.7674 - acc: 0.7290 - val_loss: 0.8668 - val_acc: 0.6957\n",
      "Epoch 14/15\n",
      "200/200 [==============================] - 8s 39ms/step - loss: 0.7283 - acc: 0.7404 - val_loss: 0.7879 - val_acc: 0.7302\n",
      "Epoch 15/15\n",
      "200/200 [==============================] - 8s 41ms/step - loss: 0.6873 - acc: 0.7584 - val_loss: 0.8106 - val_acc: 0.7162\n",
      "\n",
      "---Now testing the model for one audio file---\n",
      "The model predicts: disco, and ground truth is: disco.\n",
      "\n",
      "\n"
     ]
    },
    {
     "data": {
      "text/html": [
       "Waiting for W&B process to finish... <strong style=\"color:green\">(success).</strong>"
      ],
      "text/plain": [
       "<IPython.core.display.HTML object>"
      ]
     },
     "metadata": {},
     "output_type": "display_data"
    },
    {
     "data": {
      "application/vnd.jupyter.widget-view+json": {
       "model_id": "",
       "version_major": 2,
       "version_minor": 0
      },
      "text/plain": [
       "VBox(children=(Label(value='0.419 MB of 0.419 MB uploaded (0.000 MB deduped)\\r'), FloatProgress(value=1.0, max…"
      ]
     },
     "metadata": {},
     "output_type": "display_data"
    },
    {
     "data": {
      "text/html": [
       "<style>\n",
       "    table.wandb td:nth-child(1) { padding: 0 10px; text-align: right }\n",
       "    .wandb-row { display: flex; flex-direction: row; flex-wrap: wrap; width: 100% }\n",
       "    .wandb-col { display: flex; flex-direction: column; flex-basis: 100%; flex: 1; padding: 10px; }\n",
       "    </style>\n",
       "<div class=\"wandb-row\"><div class=\"wandb-col\"><h3>Run history:</h3><br/><table class=\"wandb\"><tr><td>acc</td><td>▁▃▄▅▅▆▆▇▇▇▇▇███</td></tr><tr><td>epoch</td><td>▁▁▂▃▃▃▄▅▅▅▆▇▇▇█</td></tr><tr><td>loss</td><td>█▅▄▄▃▃▂▂▂▂▁▁▁▁▁</td></tr><tr><td>val_acc</td><td>▁▃▄▅▆▆▇▇▇▇▇█▇██</td></tr><tr><td>val_loss</td><td>█▆▅▄▃▃▂▂▂▂▂▁▂▁▁</td></tr></table><br/></div><div class=\"wandb-col\"><h3>Run summary:</h3><br/><table class=\"wandb\"><tr><td>acc</td><td>0.75004</td></tr><tr><td>best_epoch</td><td>13</td></tr><tr><td>best_val_loss</td><td>0.7879</td></tr><tr><td>epoch</td><td>14</td></tr><tr><td>loss</td><td>0.7203</td></tr><tr><td>val_acc</td><td>0.71622</td></tr><tr><td>val_loss</td><td>0.81064</td></tr></table><br/></div></div>"
      ],
      "text/plain": [
       "<IPython.core.display.HTML object>"
      ]
     },
     "metadata": {},
     "output_type": "display_data"
    },
    {
     "data": {
      "text/html": [
       "Synced <strong style=\"color:#cdcd00\">revived-sweep-51</strong>: <a href=\"https://wandb.ai/msaintfelix/Sweeps-Genre-Classifier/runs/bhqsjxtn\" target=\"_blank\">https://wandb.ai/msaintfelix/Sweeps-Genre-Classifier/runs/bhqsjxtn</a><br/>Synced 6 W&B file(s), 1 media file(s), 0 artifact file(s) and 1 other file(s)"
      ],
      "text/plain": [
       "<IPython.core.display.HTML object>"
      ]
     },
     "metadata": {},
     "output_type": "display_data"
    },
    {
     "data": {
      "text/html": [
       "Find logs at: <code>./wandb/run-20220829_213625-bhqsjxtn/logs</code>"
      ],
      "text/plain": [
       "<IPython.core.display.HTML object>"
      ]
     },
     "metadata": {},
     "output_type": "display_data"
    },
    {
     "name": "stderr",
     "output_type": "stream",
     "text": [
      "\u001b[34m\u001b[1mwandb\u001b[0m: Sweep Agent: Waiting for job.\n",
      "\u001b[34m\u001b[1mwandb\u001b[0m: Job received.\n",
      "\u001b[34m\u001b[1mwandb\u001b[0m: Agent Starting Run: guqovl0q with config:\n",
      "\u001b[34m\u001b[1mwandb\u001b[0m: \tbatch_size: 32\n",
      "\u001b[34m\u001b[1mwandb\u001b[0m: \tconv_layer_size: 32\n",
      "\u001b[34m\u001b[1mwandb\u001b[0m: \tdropout: 0.5\n",
      "\u001b[34m\u001b[1mwandb\u001b[0m: \tepochs: 10\n",
      "\u001b[34m\u001b[1mwandb\u001b[0m: \tlearning_rate: 0.0001\n"
     ]
    },
    {
     "data": {
      "text/html": [
       "wandb version 0.13.2 is available!  To upgrade, please run:\n",
       " $ pip install wandb --upgrade"
      ],
      "text/plain": [
       "<IPython.core.display.HTML object>"
      ]
     },
     "metadata": {},
     "output_type": "display_data"
    },
    {
     "data": {
      "text/html": [
       "Tracking run with wandb version 0.12.11"
      ],
      "text/plain": [
       "<IPython.core.display.HTML object>"
      ]
     },
     "metadata": {},
     "output_type": "display_data"
    },
    {
     "data": {
      "text/html": [
       "Run data is saved locally in <code>/Users/msf/GitHub/TensorFlow_MusicGenre_Classifier/wandb/run-20220829_213858-guqovl0q</code>"
      ],
      "text/plain": [
       "<IPython.core.display.HTML object>"
      ]
     },
     "metadata": {},
     "output_type": "display_data"
    },
    {
     "data": {
      "text/html": [
       "Syncing run <strong><a href=\"https://wandb.ai/msaintfelix/Sweeps-Genre-Classifier/runs/guqovl0q\" target=\"_blank\">morning-sweep-52</a></strong> to <a href=\"https://wandb.ai/msaintfelix/Sweeps-Genre-Classifier\" target=\"_blank\">Weights & Biases</a> (<a href=\"https://wandb.me/run\" target=\"_blank\">docs</a>)<br/>Sweep page:  <a href=\"https://wandb.ai/msaintfelix/Sweeps-Genre-Classifier/sweeps/e7xdbkpy\" target=\"_blank\">https://wandb.ai/msaintfelix/Sweeps-Genre-Classifier/sweeps/e7xdbkpy</a>"
      ],
      "text/plain": [
       "<IPython.core.display.HTML object>"
      ]
     },
     "metadata": {},
     "output_type": "display_data"
    },
    {
     "name": "stdout",
     "output_type": "stream",
     "text": [
      "(9990, 125, 13)\n",
      "Model: \"sequential\"\n",
      "_________________________________________________________________\n",
      "Layer (type)                 Output Shape              Param #   \n",
      "=================================================================\n",
      "conv2d (Conv2D)              (None, 123, 11, 32)       320       \n",
      "_________________________________________________________________\n",
      "max_pooling2d (MaxPooling2D) (None, 62, 6, 32)         0         \n",
      "_________________________________________________________________\n",
      "batch_normalization (BatchNo (None, 62, 6, 32)         128       \n",
      "_________________________________________________________________\n",
      "conv2d_1 (Conv2D)            (None, 60, 4, 32)         9248      \n",
      "_________________________________________________________________\n",
      "max_pooling2d_1 (MaxPooling2 (None, 30, 2, 32)         0         \n",
      "_________________________________________________________________\n",
      "batch_normalization_1 (Batch (None, 30, 2, 32)         128       \n",
      "_________________________________________________________________\n",
      "conv2d_2 (Conv2D)            (None, 29, 1, 32)         4128      \n",
      "_________________________________________________________________\n",
      "max_pooling2d_2 (MaxPooling2 (None, 15, 1, 32)         0         \n",
      "_________________________________________________________________\n",
      "batch_normalization_2 (Batch (None, 15, 1, 32)         128       \n",
      "_________________________________________________________________\n",
      "dropout (Dropout)            (None, 15, 1, 32)         0         \n",
      "_________________________________________________________________\n",
      "flatten (Flatten)            (None, 480)               0         \n",
      "_________________________________________________________________\n",
      "dense (Dense)                (None, 64)                30784     \n",
      "_________________________________________________________________\n",
      "dense_1 (Dense)              (None, 10)                650       \n",
      "=================================================================\n",
      "Total params: 45,514\n",
      "Trainable params: 45,322\n",
      "Non-trainable params: 192\n",
      "_________________________________________________________________\n",
      "Epoch 1/10\n",
      "200/200 [==============================] - 8s 39ms/step - loss: 3.0150 - acc: 0.1349 - val_loss: 1.8733 - val_acc: 0.3398\n",
      "Epoch 2/10\n",
      "200/200 [==============================] - 8s 39ms/step - loss: 2.1316 - acc: 0.2979 - val_loss: 1.6421 - val_acc: 0.4019\n",
      "Epoch 3/10\n",
      "200/200 [==============================] - 8s 39ms/step - loss: 1.8295 - acc: 0.3741 - val_loss: 1.4984 - val_acc: 0.4545\n",
      "Epoch 4/10\n",
      "200/200 [==============================] - 8s 39ms/step - loss: 1.7208 - acc: 0.4007 - val_loss: 1.4063 - val_acc: 0.4865\n",
      "Epoch 5/10\n",
      "200/200 [==============================] - 8s 39ms/step - loss: 1.5914 - acc: 0.4270 - val_loss: 1.3363 - val_acc: 0.5245\n",
      "Epoch 6/10\n",
      "200/200 [==============================] - 8s 39ms/step - loss: 1.4690 - acc: 0.4688 - val_loss: 1.2961 - val_acc: 0.5300\n",
      "Epoch 7/10\n",
      "200/200 [==============================] - 8s 39ms/step - loss: 1.4192 - acc: 0.4965 - val_loss: 1.2614 - val_acc: 0.5360\n",
      "Epoch 8/10\n",
      "200/200 [==============================] - 8s 39ms/step - loss: 1.3482 - acc: 0.5077 - val_loss: 1.2016 - val_acc: 0.5721\n",
      "Epoch 9/10\n",
      "200/200 [==============================] - 8s 39ms/step - loss: 1.2708 - acc: 0.5392 - val_loss: 1.1828 - val_acc: 0.5806\n",
      "Epoch 10/10\n",
      "200/200 [==============================] - 8s 39ms/step - loss: 1.2430 - acc: 0.5472 - val_loss: 1.1382 - val_acc: 0.6006\n",
      "\n",
      "---Now testing the model for one audio file---\n",
      "The model predicts: disco, and ground truth is: disco.\n",
      "\n",
      "\n"
     ]
    },
    {
     "data": {
      "text/html": [
       "Waiting for W&B process to finish... <strong style=\"color:green\">(success).</strong>"
      ],
      "text/plain": [
       "<IPython.core.display.HTML object>"
      ]
     },
     "metadata": {},
     "output_type": "display_data"
    },
    {
     "data": {
      "application/vnd.jupyter.widget-view+json": {
       "model_id": "",
       "version_major": 2,
       "version_minor": 0
      },
      "text/plain": [
       "VBox(children=(Label(value='0.419 MB of 0.419 MB uploaded (0.000 MB deduped)\\r'), FloatProgress(value=1.0, max…"
      ]
     },
     "metadata": {},
     "output_type": "display_data"
    },
    {
     "data": {
      "text/html": [
       "<style>\n",
       "    table.wandb td:nth-child(1) { padding: 0 10px; text-align: right }\n",
       "    .wandb-row { display: flex; flex-direction: row; flex-wrap: wrap; width: 100% }\n",
       "    .wandb-col { display: flex; flex-direction: column; flex-basis: 100%; flex: 1; padding: 10px; }\n",
       "    </style>\n",
       "<div class=\"wandb-row\"><div class=\"wandb-col\"><h3>Run history:</h3><br/><table class=\"wandb\"><tr><td>acc</td><td>▁▄▅▆▆▇▇▇██</td></tr><tr><td>epoch</td><td>▁▂▃▃▄▅▆▆▇█</td></tr><tr><td>loss</td><td>█▅▄▃▂▂▂▁▁▁</td></tr><tr><td>val_acc</td><td>▁▃▄▅▆▆▆▇▇█</td></tr><tr><td>val_loss</td><td>█▆▄▄▃▃▂▂▁▁</td></tr></table><br/></div><div class=\"wandb-col\"><h3>Run summary:</h3><br/><table class=\"wandb\"><tr><td>acc</td><td>0.55029</td></tr><tr><td>best_epoch</td><td>9</td></tr><tr><td>best_val_loss</td><td>1.13823</td></tr><tr><td>epoch</td><td>9</td></tr><tr><td>loss</td><td>1.24645</td></tr><tr><td>val_acc</td><td>0.6006</td></tr><tr><td>val_loss</td><td>1.13823</td></tr></table><br/></div></div>"
      ],
      "text/plain": [
       "<IPython.core.display.HTML object>"
      ]
     },
     "metadata": {},
     "output_type": "display_data"
    },
    {
     "data": {
      "text/html": [
       "Synced <strong style=\"color:#cdcd00\">morning-sweep-52</strong>: <a href=\"https://wandb.ai/msaintfelix/Sweeps-Genre-Classifier/runs/guqovl0q\" target=\"_blank\">https://wandb.ai/msaintfelix/Sweeps-Genre-Classifier/runs/guqovl0q</a><br/>Synced 6 W&B file(s), 1 media file(s), 0 artifact file(s) and 1 other file(s)"
      ],
      "text/plain": [
       "<IPython.core.display.HTML object>"
      ]
     },
     "metadata": {},
     "output_type": "display_data"
    },
    {
     "data": {
      "text/html": [
       "Find logs at: <code>./wandb/run-20220829_213858-guqovl0q/logs</code>"
      ],
      "text/plain": [
       "<IPython.core.display.HTML object>"
      ]
     },
     "metadata": {},
     "output_type": "display_data"
    },
    {
     "name": "stderr",
     "output_type": "stream",
     "text": [
      "\u001b[34m\u001b[1mwandb\u001b[0m: Agent Starting Run: 00ch37z9 with config:\n",
      "\u001b[34m\u001b[1mwandb\u001b[0m: \tbatch_size: 32\n",
      "\u001b[34m\u001b[1mwandb\u001b[0m: \tconv_layer_size: 32\n",
      "\u001b[34m\u001b[1mwandb\u001b[0m: \tdropout: 0.3\n",
      "\u001b[34m\u001b[1mwandb\u001b[0m: \tepochs: 10\n",
      "\u001b[34m\u001b[1mwandb\u001b[0m: \tlearning_rate: 1e-05\n"
     ]
    },
    {
     "data": {
      "text/html": [
       "wandb version 0.13.2 is available!  To upgrade, please run:\n",
       " $ pip install wandb --upgrade"
      ],
      "text/plain": [
       "<IPython.core.display.HTML object>"
      ]
     },
     "metadata": {},
     "output_type": "display_data"
    },
    {
     "data": {
      "text/html": [
       "Tracking run with wandb version 0.12.11"
      ],
      "text/plain": [
       "<IPython.core.display.HTML object>"
      ]
     },
     "metadata": {},
     "output_type": "display_data"
    },
    {
     "data": {
      "text/html": [
       "Run data is saved locally in <code>/Users/msf/GitHub/TensorFlow_MusicGenre_Classifier/wandb/run-20220829_214046-00ch37z9</code>"
      ],
      "text/plain": [
       "<IPython.core.display.HTML object>"
      ]
     },
     "metadata": {},
     "output_type": "display_data"
    },
    {
     "data": {
      "text/html": [
       "Syncing run <strong><a href=\"https://wandb.ai/msaintfelix/Sweeps-Genre-Classifier/runs/00ch37z9\" target=\"_blank\">dark-sweep-53</a></strong> to <a href=\"https://wandb.ai/msaintfelix/Sweeps-Genre-Classifier\" target=\"_blank\">Weights & Biases</a> (<a href=\"https://wandb.me/run\" target=\"_blank\">docs</a>)<br/>Sweep page:  <a href=\"https://wandb.ai/msaintfelix/Sweeps-Genre-Classifier/sweeps/e7xdbkpy\" target=\"_blank\">https://wandb.ai/msaintfelix/Sweeps-Genre-Classifier/sweeps/e7xdbkpy</a>"
      ],
      "text/plain": [
       "<IPython.core.display.HTML object>"
      ]
     },
     "metadata": {},
     "output_type": "display_data"
    },
    {
     "name": "stdout",
     "output_type": "stream",
     "text": [
      "(9990, 125, 13)\n",
      "Model: \"sequential\"\n",
      "_________________________________________________________________\n",
      "Layer (type)                 Output Shape              Param #   \n",
      "=================================================================\n",
      "conv2d (Conv2D)              (None, 123, 11, 32)       320       \n",
      "_________________________________________________________________\n",
      "max_pooling2d (MaxPooling2D) (None, 62, 6, 32)         0         \n",
      "_________________________________________________________________\n",
      "batch_normalization (BatchNo (None, 62, 6, 32)         128       \n",
      "_________________________________________________________________\n",
      "conv2d_1 (Conv2D)            (None, 60, 4, 32)         9248      \n",
      "_________________________________________________________________\n",
      "max_pooling2d_1 (MaxPooling2 (None, 30, 2, 32)         0         \n",
      "_________________________________________________________________\n",
      "batch_normalization_1 (Batch (None, 30, 2, 32)         128       \n",
      "_________________________________________________________________\n",
      "conv2d_2 (Conv2D)            (None, 29, 1, 32)         4128      \n",
      "_________________________________________________________________\n",
      "max_pooling2d_2 (MaxPooling2 (None, 15, 1, 32)         0         \n",
      "_________________________________________________________________\n",
      "batch_normalization_2 (Batch (None, 15, 1, 32)         128       \n",
      "_________________________________________________________________\n",
      "dropout (Dropout)            (None, 15, 1, 32)         0         \n",
      "_________________________________________________________________\n",
      "flatten (Flatten)            (None, 480)               0         \n",
      "_________________________________________________________________\n",
      "dense (Dense)                (None, 64)                30784     \n",
      "_________________________________________________________________\n",
      "dense_1 (Dense)              (None, 10)                650       \n",
      "=================================================================\n",
      "Total params: 45,514\n",
      "Trainable params: 45,322\n",
      "Non-trainable params: 192\n",
      "_________________________________________________________________\n",
      "Epoch 1/10\n",
      "200/200 [==============================] - 8s 39ms/step - loss: 2.8120 - acc: 0.1211 - val_loss: 2.3845 - val_acc: 0.1461\n",
      "Epoch 2/10\n",
      "200/200 [==============================] - 8s 39ms/step - loss: 2.5725 - acc: 0.1518 - val_loss: 2.2290 - val_acc: 0.2072\n",
      "Epoch 3/10\n",
      "200/200 [==============================] - 8s 41ms/step - loss: 2.4331 - acc: 0.1805 - val_loss: 2.1112 - val_acc: 0.2588\n",
      "Epoch 4/10\n",
      "200/200 [==============================] - 8s 41ms/step - loss: 2.2700 - acc: 0.2286 - val_loss: 2.0097 - val_acc: 0.2923\n",
      "Epoch 5/10\n",
      "200/200 [==============================] - 8s 41ms/step - loss: 2.1507 - acc: 0.2641 - val_loss: 1.9266 - val_acc: 0.3253\n",
      "Epoch 6/10\n",
      "200/200 [==============================] - 8s 41ms/step - loss: 2.1005 - acc: 0.2814 - val_loss: 1.8581 - val_acc: 0.3468\n",
      "Epoch 7/10\n",
      "200/200 [==============================] - 8s 41ms/step - loss: 2.0185 - acc: 0.3072 - val_loss: 1.8018 - val_acc: 0.3619\n",
      "Epoch 8/10\n",
      "200/200 [==============================] - 8s 41ms/step - loss: 1.9141 - acc: 0.3413 - val_loss: 1.7539 - val_acc: 0.3774\n",
      "Epoch 9/10\n",
      "200/200 [==============================] - 8s 41ms/step - loss: 1.8788 - acc: 0.3507 - val_loss: 1.7119 - val_acc: 0.3814\n",
      "Epoch 10/10\n",
      "200/200 [==============================] - 8s 40ms/step - loss: 1.8442 - acc: 0.3454 - val_loss: 1.6732 - val_acc: 0.3924\n",
      "\n",
      "---Now testing the model for one audio file---\n",
      "The model predicts: blues, and ground truth is: rock.\n",
      "\n",
      "\n"
     ]
    },
    {
     "data": {
      "text/html": [
       "Waiting for W&B process to finish... <strong style=\"color:green\">(success).</strong>"
      ],
      "text/plain": [
       "<IPython.core.display.HTML object>"
      ]
     },
     "metadata": {},
     "output_type": "display_data"
    },
    {
     "data": {
      "application/vnd.jupyter.widget-view+json": {
       "model_id": "",
       "version_major": 2,
       "version_minor": 0
      },
      "text/plain": [
       "VBox(children=(Label(value='0.419 MB of 0.419 MB uploaded (0.000 MB deduped)\\r'), FloatProgress(value=1.0, max…"
      ]
     },
     "metadata": {},
     "output_type": "display_data"
    },
    {
     "data": {
      "text/html": [
       "<style>\n",
       "    table.wandb td:nth-child(1) { padding: 0 10px; text-align: right }\n",
       "    .wandb-row { display: flex; flex-direction: row; flex-wrap: wrap; width: 100% }\n",
       "    .wandb-col { display: flex; flex-direction: column; flex-basis: 100%; flex: 1; padding: 10px; }\n",
       "    </style>\n",
       "<div class=\"wandb-row\"><div class=\"wandb-col\"><h3>Run history:</h3><br/><table class=\"wandb\"><tr><td>acc</td><td>▁▂▃▄▅▆▇███</td></tr><tr><td>epoch</td><td>▁▂▃▃▄▅▆▆▇█</td></tr><tr><td>loss</td><td>█▆▅▄▃▃▂▂▁▁</td></tr><tr><td>val_acc</td><td>▁▃▄▅▆▇▇███</td></tr><tr><td>val_loss</td><td>█▆▅▄▃▃▂▂▁▁</td></tr></table><br/></div><div class=\"wandb-col\"><h3>Run summary:</h3><br/><table class=\"wandb\"><tr><td>acc</td><td>0.35085</td></tr><tr><td>best_epoch</td><td>9</td></tr><tr><td>best_val_loss</td><td>1.67317</td></tr><tr><td>epoch</td><td>9</td></tr><tr><td>loss</td><td>1.83869</td></tr><tr><td>val_acc</td><td>0.39239</td></tr><tr><td>val_loss</td><td>1.67317</td></tr></table><br/></div></div>"
      ],
      "text/plain": [
       "<IPython.core.display.HTML object>"
      ]
     },
     "metadata": {},
     "output_type": "display_data"
    },
    {
     "data": {
      "text/html": [
       "Synced <strong style=\"color:#cdcd00\">dark-sweep-53</strong>: <a href=\"https://wandb.ai/msaintfelix/Sweeps-Genre-Classifier/runs/00ch37z9\" target=\"_blank\">https://wandb.ai/msaintfelix/Sweeps-Genre-Classifier/runs/00ch37z9</a><br/>Synced 6 W&B file(s), 1 media file(s), 0 artifact file(s) and 1 other file(s)"
      ],
      "text/plain": [
       "<IPython.core.display.HTML object>"
      ]
     },
     "metadata": {},
     "output_type": "display_data"
    },
    {
     "data": {
      "text/html": [
       "Find logs at: <code>./wandb/run-20220829_214046-00ch37z9/logs</code>"
      ],
      "text/plain": [
       "<IPython.core.display.HTML object>"
      ]
     },
     "metadata": {},
     "output_type": "display_data"
    },
    {
     "name": "stderr",
     "output_type": "stream",
     "text": [
      "\u001b[34m\u001b[1mwandb\u001b[0m: Agent Starting Run: iyir453a with config:\n",
      "\u001b[34m\u001b[1mwandb\u001b[0m: \tbatch_size: 32\n",
      "\u001b[34m\u001b[1mwandb\u001b[0m: \tconv_layer_size: 32\n",
      "\u001b[34m\u001b[1mwandb\u001b[0m: \tdropout: 0.5\n",
      "\u001b[34m\u001b[1mwandb\u001b[0m: \tepochs: 5\n",
      "\u001b[34m\u001b[1mwandb\u001b[0m: \tlearning_rate: 0.001\n"
     ]
    },
    {
     "data": {
      "text/html": [
       "wandb version 0.13.2 is available!  To upgrade, please run:\n",
       " $ pip install wandb --upgrade"
      ],
      "text/plain": [
       "<IPython.core.display.HTML object>"
      ]
     },
     "metadata": {},
     "output_type": "display_data"
    },
    {
     "data": {
      "text/html": [
       "Tracking run with wandb version 0.12.11"
      ],
      "text/plain": [
       "<IPython.core.display.HTML object>"
      ]
     },
     "metadata": {},
     "output_type": "display_data"
    },
    {
     "data": {
      "text/html": [
       "Run data is saved locally in <code>/Users/msf/GitHub/TensorFlow_MusicGenre_Classifier/wandb/run-20220829_214235-iyir453a</code>"
      ],
      "text/plain": [
       "<IPython.core.display.HTML object>"
      ]
     },
     "metadata": {},
     "output_type": "display_data"
    },
    {
     "data": {
      "text/html": [
       "Syncing run <strong><a href=\"https://wandb.ai/msaintfelix/Sweeps-Genre-Classifier/runs/iyir453a\" target=\"_blank\">efficient-sweep-54</a></strong> to <a href=\"https://wandb.ai/msaintfelix/Sweeps-Genre-Classifier\" target=\"_blank\">Weights & Biases</a> (<a href=\"https://wandb.me/run\" target=\"_blank\">docs</a>)<br/>Sweep page:  <a href=\"https://wandb.ai/msaintfelix/Sweeps-Genre-Classifier/sweeps/e7xdbkpy\" target=\"_blank\">https://wandb.ai/msaintfelix/Sweeps-Genre-Classifier/sweeps/e7xdbkpy</a>"
      ],
      "text/plain": [
       "<IPython.core.display.HTML object>"
      ]
     },
     "metadata": {},
     "output_type": "display_data"
    },
    {
     "name": "stdout",
     "output_type": "stream",
     "text": [
      "(9990, 125, 13)\n",
      "Model: \"sequential\"\n",
      "_________________________________________________________________\n",
      "Layer (type)                 Output Shape              Param #   \n",
      "=================================================================\n",
      "conv2d (Conv2D)              (None, 123, 11, 32)       320       \n",
      "_________________________________________________________________\n",
      "max_pooling2d (MaxPooling2D) (None, 62, 6, 32)         0         \n",
      "_________________________________________________________________\n",
      "batch_normalization (BatchNo (None, 62, 6, 32)         128       \n",
      "_________________________________________________________________\n",
      "conv2d_1 (Conv2D)            (None, 60, 4, 32)         9248      \n",
      "_________________________________________________________________\n",
      "max_pooling2d_1 (MaxPooling2 (None, 30, 2, 32)         0         \n",
      "_________________________________________________________________\n",
      "batch_normalization_1 (Batch (None, 30, 2, 32)         128       \n",
      "_________________________________________________________________\n",
      "conv2d_2 (Conv2D)            (None, 29, 1, 32)         4128      \n",
      "_________________________________________________________________\n",
      "max_pooling2d_2 (MaxPooling2 (None, 15, 1, 32)         0         \n",
      "_________________________________________________________________\n",
      "batch_normalization_2 (Batch (None, 15, 1, 32)         128       \n",
      "_________________________________________________________________\n",
      "dropout (Dropout)            (None, 15, 1, 32)         0         \n",
      "_________________________________________________________________\n",
      "flatten (Flatten)            (None, 480)               0         \n",
      "_________________________________________________________________\n",
      "dense (Dense)                (None, 64)                30784     \n",
      "_________________________________________________________________\n",
      "dense_1 (Dense)              (None, 10)                650       \n",
      "=================================================================\n",
      "Total params: 45,514\n",
      "Trainable params: 45,322\n",
      "Non-trainable params: 192\n",
      "_________________________________________________________________\n",
      "Epoch 1/5\n",
      "200/200 [==============================] - 9s 39ms/step - loss: 2.1222 - acc: 0.3364 - val_loss: 1.4539 - val_acc: 0.4745\n",
      "Epoch 2/5\n",
      "200/200 [==============================] - 8s 40ms/step - loss: 1.3527 - acc: 0.5203 - val_loss: 1.1306 - val_acc: 0.6051\n",
      "Epoch 3/5\n",
      "200/200 [==============================] - 8s 40ms/step - loss: 1.0725 - acc: 0.6225 - val_loss: 1.1837 - val_acc: 0.5991\n",
      "Epoch 4/5\n",
      "200/200 [==============================] - 8s 40ms/step - loss: 0.9943 - acc: 0.6564 - val_loss: 0.9709 - val_acc: 0.6602\n",
      "Epoch 5/5\n",
      "200/200 [==============================] - 8s 39ms/step - loss: 0.8673 - acc: 0.6959 - val_loss: 0.8721 - val_acc: 0.6992\n",
      "\n",
      "---Now testing the model for one audio file---\n",
      "The model predicts: reggae, and ground truth is: metal.\n",
      "\n",
      "\n"
     ]
    },
    {
     "data": {
      "text/html": [
       "Waiting for W&B process to finish... <strong style=\"color:green\">(success).</strong>"
      ],
      "text/plain": [
       "<IPython.core.display.HTML object>"
      ]
     },
     "metadata": {},
     "output_type": "display_data"
    },
    {
     "data": {
      "application/vnd.jupyter.widget-view+json": {
       "model_id": "",
       "version_major": 2,
       "version_minor": 0
      },
      "text/plain": [
       "VBox(children=(Label(value='0.419 MB of 0.419 MB uploaded (0.000 MB deduped)\\r'), FloatProgress(value=1.0, max…"
      ]
     },
     "metadata": {},
     "output_type": "display_data"
    },
    {
     "data": {
      "text/html": [
       "<style>\n",
       "    table.wandb td:nth-child(1) { padding: 0 10px; text-align: right }\n",
       "    .wandb-row { display: flex; flex-direction: row; flex-wrap: wrap; width: 100% }\n",
       "    .wandb-col { display: flex; flex-direction: column; flex-basis: 100%; flex: 1; padding: 10px; }\n",
       "    </style>\n",
       "<div class=\"wandb-row\"><div class=\"wandb-col\"><h3>Run history:</h3><br/><table class=\"wandb\"><tr><td>acc</td><td>▁▄▆▇█</td></tr><tr><td>epoch</td><td>▁▃▅▆█</td></tr><tr><td>loss</td><td>█▄▃▂▁</td></tr><tr><td>val_acc</td><td>▁▅▅▇█</td></tr><tr><td>val_loss</td><td>█▄▅▂▁</td></tr></table><br/></div><div class=\"wandb-col\"><h3>Run summary:</h3><br/><table class=\"wandb\"><tr><td>acc</td><td>0.69717</td></tr><tr><td>best_epoch</td><td>4</td></tr><tr><td>best_val_loss</td><td>0.87211</td></tr><tr><td>epoch</td><td>4</td></tr><tr><td>loss</td><td>0.88138</td></tr><tr><td>val_acc</td><td>0.6992</td></tr><tr><td>val_loss</td><td>0.87211</td></tr></table><br/></div></div>"
      ],
      "text/plain": [
       "<IPython.core.display.HTML object>"
      ]
     },
     "metadata": {},
     "output_type": "display_data"
    },
    {
     "data": {
      "text/html": [
       "Synced <strong style=\"color:#cdcd00\">efficient-sweep-54</strong>: <a href=\"https://wandb.ai/msaintfelix/Sweeps-Genre-Classifier/runs/iyir453a\" target=\"_blank\">https://wandb.ai/msaintfelix/Sweeps-Genre-Classifier/runs/iyir453a</a><br/>Synced 6 W&B file(s), 1 media file(s), 0 artifact file(s) and 1 other file(s)"
      ],
      "text/plain": [
       "<IPython.core.display.HTML object>"
      ]
     },
     "metadata": {},
     "output_type": "display_data"
    },
    {
     "data": {
      "text/html": [
       "Find logs at: <code>./wandb/run-20220829_214235-iyir453a/logs</code>"
      ],
      "text/plain": [
       "<IPython.core.display.HTML object>"
      ]
     },
     "metadata": {},
     "output_type": "display_data"
    },
    {
     "name": "stderr",
     "output_type": "stream",
     "text": [
      "\u001b[34m\u001b[1mwandb\u001b[0m: Agent Starting Run: ebko498x with config:\n",
      "\u001b[34m\u001b[1mwandb\u001b[0m: \tbatch_size: 32\n",
      "\u001b[34m\u001b[1mwandb\u001b[0m: \tconv_layer_size: 32\n",
      "\u001b[34m\u001b[1mwandb\u001b[0m: \tdropout: 0.3\n",
      "\u001b[34m\u001b[1mwandb\u001b[0m: \tepochs: 15\n",
      "\u001b[34m\u001b[1mwandb\u001b[0m: \tlearning_rate: 1e-05\n"
     ]
    },
    {
     "data": {
      "text/html": [
       "wandb version 0.13.2 is available!  To upgrade, please run:\n",
       " $ pip install wandb --upgrade"
      ],
      "text/plain": [
       "<IPython.core.display.HTML object>"
      ]
     },
     "metadata": {},
     "output_type": "display_data"
    },
    {
     "data": {
      "text/html": [
       "Tracking run with wandb version 0.12.11"
      ],
      "text/plain": [
       "<IPython.core.display.HTML object>"
      ]
     },
     "metadata": {},
     "output_type": "display_data"
    },
    {
     "data": {
      "text/html": [
       "Run data is saved locally in <code>/Users/msf/GitHub/TensorFlow_MusicGenre_Classifier/wandb/run-20220829_214341-ebko498x</code>"
      ],
      "text/plain": [
       "<IPython.core.display.HTML object>"
      ]
     },
     "metadata": {},
     "output_type": "display_data"
    },
    {
     "data": {
      "text/html": [
       "Syncing run <strong><a href=\"https://wandb.ai/msaintfelix/Sweeps-Genre-Classifier/runs/ebko498x\" target=\"_blank\">smart-sweep-55</a></strong> to <a href=\"https://wandb.ai/msaintfelix/Sweeps-Genre-Classifier\" target=\"_blank\">Weights & Biases</a> (<a href=\"https://wandb.me/run\" target=\"_blank\">docs</a>)<br/>Sweep page:  <a href=\"https://wandb.ai/msaintfelix/Sweeps-Genre-Classifier/sweeps/e7xdbkpy\" target=\"_blank\">https://wandb.ai/msaintfelix/Sweeps-Genre-Classifier/sweeps/e7xdbkpy</a>"
      ],
      "text/plain": [
       "<IPython.core.display.HTML object>"
      ]
     },
     "metadata": {},
     "output_type": "display_data"
    },
    {
     "name": "stdout",
     "output_type": "stream",
     "text": [
      "(9990, 125, 13)\n",
      "Model: \"sequential\"\n",
      "_________________________________________________________________\n",
      "Layer (type)                 Output Shape              Param #   \n",
      "=================================================================\n",
      "conv2d (Conv2D)              (None, 123, 11, 32)       320       \n",
      "_________________________________________________________________\n",
      "max_pooling2d (MaxPooling2D) (None, 62, 6, 32)         0         \n",
      "_________________________________________________________________\n",
      "batch_normalization (BatchNo (None, 62, 6, 32)         128       \n",
      "_________________________________________________________________\n",
      "conv2d_1 (Conv2D)            (None, 60, 4, 32)         9248      \n",
      "_________________________________________________________________\n",
      "max_pooling2d_1 (MaxPooling2 (None, 30, 2, 32)         0         \n",
      "_________________________________________________________________\n",
      "batch_normalization_1 (Batch (None, 30, 2, 32)         128       \n",
      "_________________________________________________________________\n",
      "conv2d_2 (Conv2D)            (None, 29, 1, 32)         4128      \n",
      "_________________________________________________________________\n",
      "max_pooling2d_2 (MaxPooling2 (None, 15, 1, 32)         0         \n",
      "_________________________________________________________________\n",
      "batch_normalization_2 (Batch (None, 15, 1, 32)         128       \n",
      "_________________________________________________________________\n",
      "dropout (Dropout)            (None, 15, 1, 32)         0         \n",
      "_________________________________________________________________\n",
      "flatten (Flatten)            (None, 480)               0         \n",
      "_________________________________________________________________\n",
      "dense (Dense)                (None, 64)                30784     \n",
      "_________________________________________________________________\n",
      "dense_1 (Dense)              (None, 10)                650       \n",
      "=================================================================\n",
      "Total params: 45,514\n",
      "Trainable params: 45,322\n",
      "Non-trainable params: 192\n",
      "_________________________________________________________________\n",
      "Epoch 1/15\n",
      "200/200 [==============================] - 9s 39ms/step - loss: 3.1714 - acc: 0.1112 - val_loss: 2.4971 - val_acc: 0.1371\n",
      "Epoch 2/15\n",
      "200/200 [==============================] - 8s 40ms/step - loss: 2.9542 - acc: 0.1326 - val_loss: 2.4984 - val_acc: 0.1612\n",
      "Epoch 3/15\n",
      "200/200 [==============================] - 8s 39ms/step - loss: 2.8046 - acc: 0.1453 - val_loss: 2.4033 - val_acc: 0.1947\n",
      "Epoch 4/15\n",
      "200/200 [==============================] - 8s 39ms/step - loss: 2.6181 - acc: 0.1745 - val_loss: 2.2849 - val_acc: 0.2317\n",
      "Epoch 5/15\n",
      "200/200 [==============================] - 8s 40ms/step - loss: 2.5063 - acc: 0.1915 - val_loss: 2.1855 - val_acc: 0.2603\n",
      "Epoch 6/15\n",
      "200/200 [==============================] - 8s 39ms/step - loss: 2.3641 - acc: 0.2273 - val_loss: 2.1035 - val_acc: 0.2833\n",
      "Epoch 7/15\n",
      "200/200 [==============================] - 8s 39ms/step - loss: 2.2769 - acc: 0.2516 - val_loss: 2.0325 - val_acc: 0.3003\n",
      "Epoch 8/15\n",
      "200/200 [==============================] - 8s 38ms/step - loss: 2.2163 - acc: 0.2642 - val_loss: 1.9745 - val_acc: 0.3133\n",
      "Epoch 9/15\n",
      "200/200 [==============================] - 8s 39ms/step - loss: 2.1226 - acc: 0.2964 - val_loss: 1.9254 - val_acc: 0.3333\n",
      "Epoch 10/15\n",
      "200/200 [==============================] - 8s 39ms/step - loss: 2.0785 - acc: 0.3113 - val_loss: 1.8764 - val_acc: 0.3438\n",
      "Epoch 11/15\n",
      "200/200 [==============================] - 8s 39ms/step - loss: 2.0122 - acc: 0.3248 - val_loss: 1.8337 - val_acc: 0.3589\n",
      "Epoch 12/15\n",
      "200/200 [==============================] - 8s 40ms/step - loss: 1.9681 - acc: 0.3343 - val_loss: 1.7973 - val_acc: 0.3729\n",
      "Epoch 13/15\n",
      "200/200 [==============================] - 8s 40ms/step - loss: 1.9084 - acc: 0.3640 - val_loss: 1.7598 - val_acc: 0.3834\n",
      "Epoch 14/15\n",
      "200/200 [==============================] - 8s 39ms/step - loss: 1.8800 - acc: 0.3569 - val_loss: 1.7260 - val_acc: 0.3884\n",
      "Epoch 15/15\n",
      "200/200 [==============================] - 8s 39ms/step - loss: 1.8225 - acc: 0.3737 - val_loss: 1.6913 - val_acc: 0.3994\n",
      "\n",
      "---Now testing the model for one audio file---\n",
      "The model predicts: hiphop, and ground truth is: pop.\n",
      "\n",
      "\n"
     ]
    },
    {
     "data": {
      "text/html": [
       "Waiting for W&B process to finish... <strong style=\"color:green\">(success).</strong>"
      ],
      "text/plain": [
       "<IPython.core.display.HTML object>"
      ]
     },
     "metadata": {},
     "output_type": "display_data"
    },
    {
     "data": {
      "application/vnd.jupyter.widget-view+json": {
       "model_id": "",
       "version_major": 2,
       "version_minor": 0
      },
      "text/plain": [
       "VBox(children=(Label(value='0.419 MB of 0.419 MB uploaded (0.000 MB deduped)\\r'), FloatProgress(value=1.0, max…"
      ]
     },
     "metadata": {},
     "output_type": "display_data"
    },
    {
     "data": {
      "text/html": [
       "<style>\n",
       "    table.wandb td:nth-child(1) { padding: 0 10px; text-align: right }\n",
       "    .wandb-row { display: flex; flex-direction: row; flex-wrap: wrap; width: 100% }\n",
       "    .wandb-col { display: flex; flex-direction: column; flex-basis: 100%; flex: 1; padding: 10px; }\n",
       "    </style>\n",
       "<div class=\"wandb-row\"><div class=\"wandb-col\"><h3>Run history:</h3><br/><table class=\"wandb\"><tr><td>acc</td><td>▁▂▂▃▃▄▅▅▆▆▇▇▇██</td></tr><tr><td>epoch</td><td>▁▁▂▃▃▃▄▅▅▅▆▇▇▇█</td></tr><tr><td>loss</td><td>█▇▆▅▄▄▃▃▃▂▂▂▁▁▁</td></tr><tr><td>val_acc</td><td>▁▂▃▄▄▅▅▆▆▇▇▇███</td></tr><tr><td>val_loss</td><td>██▇▆▅▅▄▃▃▃▂▂▂▁▁</td></tr></table><br/></div><div class=\"wandb-col\"><h3>Run summary:</h3><br/><table class=\"wandb\"><tr><td>acc</td><td>0.37916</td></tr><tr><td>best_epoch</td><td>14</td></tr><tr><td>best_val_loss</td><td>1.69126</td></tr><tr><td>epoch</td><td>14</td></tr><tr><td>loss</td><td>1.81708</td></tr><tr><td>val_acc</td><td>0.3994</td></tr><tr><td>val_loss</td><td>1.69126</td></tr></table><br/></div></div>"
      ],
      "text/plain": [
       "<IPython.core.display.HTML object>"
      ]
     },
     "metadata": {},
     "output_type": "display_data"
    },
    {
     "data": {
      "text/html": [
       "Synced <strong style=\"color:#cdcd00\">smart-sweep-55</strong>: <a href=\"https://wandb.ai/msaintfelix/Sweeps-Genre-Classifier/runs/ebko498x\" target=\"_blank\">https://wandb.ai/msaintfelix/Sweeps-Genre-Classifier/runs/ebko498x</a><br/>Synced 6 W&B file(s), 1 media file(s), 0 artifact file(s) and 1 other file(s)"
      ],
      "text/plain": [
       "<IPython.core.display.HTML object>"
      ]
     },
     "metadata": {},
     "output_type": "display_data"
    },
    {
     "data": {
      "text/html": [
       "Find logs at: <code>./wandb/run-20220829_214341-ebko498x/logs</code>"
      ],
      "text/plain": [
       "<IPython.core.display.HTML object>"
      ]
     },
     "metadata": {},
     "output_type": "display_data"
    },
    {
     "name": "stderr",
     "output_type": "stream",
     "text": [
      "\u001b[34m\u001b[1mwandb\u001b[0m: Agent Starting Run: muq4j2qf with config:\n",
      "\u001b[34m\u001b[1mwandb\u001b[0m: \tbatch_size: 32\n",
      "\u001b[34m\u001b[1mwandb\u001b[0m: \tconv_layer_size: 32\n",
      "\u001b[34m\u001b[1mwandb\u001b[0m: \tdropout: 0.3\n",
      "\u001b[34m\u001b[1mwandb\u001b[0m: \tepochs: 15\n",
      "\u001b[34m\u001b[1mwandb\u001b[0m: \tlearning_rate: 0.0001\n"
     ]
    },
    {
     "data": {
      "text/html": [
       "wandb version 0.13.2 is available!  To upgrade, please run:\n",
       " $ pip install wandb --upgrade"
      ],
      "text/plain": [
       "<IPython.core.display.HTML object>"
      ]
     },
     "metadata": {},
     "output_type": "display_data"
    },
    {
     "data": {
      "text/html": [
       "Tracking run with wandb version 0.12.11"
      ],
      "text/plain": [
       "<IPython.core.display.HTML object>"
      ]
     },
     "metadata": {},
     "output_type": "display_data"
    },
    {
     "data": {
      "text/html": [
       "Run data is saved locally in <code>/Users/msf/GitHub/TensorFlow_MusicGenre_Classifier/wandb/run-20220829_214606-muq4j2qf</code>"
      ],
      "text/plain": [
       "<IPython.core.display.HTML object>"
      ]
     },
     "metadata": {},
     "output_type": "display_data"
    },
    {
     "data": {
      "text/html": [
       "Syncing run <strong><a href=\"https://wandb.ai/msaintfelix/Sweeps-Genre-Classifier/runs/muq4j2qf\" target=\"_blank\">fresh-sweep-56</a></strong> to <a href=\"https://wandb.ai/msaintfelix/Sweeps-Genre-Classifier\" target=\"_blank\">Weights & Biases</a> (<a href=\"https://wandb.me/run\" target=\"_blank\">docs</a>)<br/>Sweep page:  <a href=\"https://wandb.ai/msaintfelix/Sweeps-Genre-Classifier/sweeps/e7xdbkpy\" target=\"_blank\">https://wandb.ai/msaintfelix/Sweeps-Genre-Classifier/sweeps/e7xdbkpy</a>"
      ],
      "text/plain": [
       "<IPython.core.display.HTML object>"
      ]
     },
     "metadata": {},
     "output_type": "display_data"
    },
    {
     "name": "stdout",
     "output_type": "stream",
     "text": [
      "(9990, 125, 13)\n",
      "Model: \"sequential\"\n",
      "_________________________________________________________________\n",
      "Layer (type)                 Output Shape              Param #   \n",
      "=================================================================\n",
      "conv2d (Conv2D)              (None, 123, 11, 32)       320       \n",
      "_________________________________________________________________\n",
      "max_pooling2d (MaxPooling2D) (None, 62, 6, 32)         0         \n",
      "_________________________________________________________________\n",
      "batch_normalization (BatchNo (None, 62, 6, 32)         128       \n",
      "_________________________________________________________________\n",
      "conv2d_1 (Conv2D)            (None, 60, 4, 32)         9248      \n",
      "_________________________________________________________________\n",
      "max_pooling2d_1 (MaxPooling2 (None, 30, 2, 32)         0         \n",
      "_________________________________________________________________\n",
      "batch_normalization_1 (Batch (None, 30, 2, 32)         128       \n",
      "_________________________________________________________________\n",
      "conv2d_2 (Conv2D)            (None, 29, 1, 32)         4128      \n",
      "_________________________________________________________________\n",
      "max_pooling2d_2 (MaxPooling2 (None, 15, 1, 32)         0         \n",
      "_________________________________________________________________\n",
      "batch_normalization_2 (Batch (None, 15, 1, 32)         128       \n",
      "_________________________________________________________________\n",
      "dropout (Dropout)            (None, 15, 1, 32)         0         \n",
      "_________________________________________________________________\n",
      "flatten (Flatten)            (None, 480)               0         \n",
      "_________________________________________________________________\n",
      "dense (Dense)                (None, 64)                30784     \n",
      "_________________________________________________________________\n",
      "dense_1 (Dense)              (None, 10)                650       \n",
      "=================================================================\n",
      "Total params: 45,514\n",
      "Trainable params: 45,322\n",
      "Non-trainable params: 192\n",
      "_________________________________________________________________\n",
      "Epoch 1/15\n",
      "200/200 [==============================] - 9s 41ms/step - loss: 2.5723 - acc: 0.1817 - val_loss: 1.8541 - val_acc: 0.3569\n",
      "Epoch 2/15\n",
      "200/200 [==============================] - 8s 40ms/step - loss: 1.8229 - acc: 0.3647 - val_loss: 1.5741 - val_acc: 0.4474\n",
      "Epoch 3/15\n",
      "200/200 [==============================] - 8s 40ms/step - loss: 1.6049 - acc: 0.4310 - val_loss: 1.4340 - val_acc: 0.4780\n",
      "Epoch 4/15\n",
      "200/200 [==============================] - 8s 40ms/step - loss: 1.5007 - acc: 0.4576 - val_loss: 1.3514 - val_acc: 0.5060\n",
      "Epoch 5/15\n",
      "200/200 [==============================] - 8s 41ms/step - loss: 1.3685 - acc: 0.5059 - val_loss: 1.2796 - val_acc: 0.5195\n",
      "Epoch 6/15\n",
      "200/200 [==============================] - 8s 41ms/step - loss: 1.3017 - acc: 0.5223 - val_loss: 1.2231 - val_acc: 0.5546\n",
      "Epoch 7/15\n",
      "200/200 [==============================] - 8s 40ms/step - loss: 1.2452 - acc: 0.5392 - val_loss: 1.1897 - val_acc: 0.5731\n",
      "Epoch 8/15\n",
      "200/200 [==============================] - 8s 40ms/step - loss: 1.2047 - acc: 0.5698 - val_loss: 1.1890 - val_acc: 0.5786\n",
      "Epoch 9/15\n",
      "200/200 [==============================] - 8s 41ms/step - loss: 1.1404 - acc: 0.5795 - val_loss: 1.1278 - val_acc: 0.6026\n",
      "Epoch 10/15\n",
      "200/200 [==============================] - 8s 42ms/step - loss: 1.0792 - acc: 0.6160 - val_loss: 1.1254 - val_acc: 0.6016\n",
      "Epoch 11/15\n",
      "200/200 [==============================] - 8s 41ms/step - loss: 1.0653 - acc: 0.6203 - val_loss: 1.0661 - val_acc: 0.6196\n",
      "Epoch 12/15\n",
      "200/200 [==============================] - 8s 41ms/step - loss: 1.0095 - acc: 0.6433 - val_loss: 1.0356 - val_acc: 0.6401\n",
      "Epoch 13/15\n",
      "200/200 [==============================] - 8s 41ms/step - loss: 0.9861 - acc: 0.6480 - val_loss: 1.0230 - val_acc: 0.6512\n",
      "Epoch 14/15\n",
      "200/200 [==============================] - 8s 42ms/step - loss: 0.9425 - acc: 0.6617 - val_loss: 1.0037 - val_acc: 0.6491\n",
      "Epoch 15/15\n",
      "200/200 [==============================] - 8s 39ms/step - loss: 0.9282 - acc: 0.6652 - val_loss: 0.9973 - val_acc: 0.6567\n",
      "\n",
      "---Now testing the model for one audio file---\n",
      "The model predicts: blues, and ground truth is: blues.\n",
      "\n",
      "\n"
     ]
    },
    {
     "data": {
      "text/html": [
       "Waiting for W&B process to finish... <strong style=\"color:green\">(success).</strong>"
      ],
      "text/plain": [
       "<IPython.core.display.HTML object>"
      ]
     },
     "metadata": {},
     "output_type": "display_data"
    },
    {
     "data": {
      "application/vnd.jupyter.widget-view+json": {
       "model_id": "",
       "version_major": 2,
       "version_minor": 0
      },
      "text/plain": [
       "VBox(children=(Label(value='0.419 MB of 0.419 MB uploaded (0.000 MB deduped)\\r'), FloatProgress(value=1.0, max…"
      ]
     },
     "metadata": {},
     "output_type": "display_data"
    },
    {
     "data": {
      "text/html": [
       "<style>\n",
       "    table.wandb td:nth-child(1) { padding: 0 10px; text-align: right }\n",
       "    .wandb-row { display: flex; flex-direction: row; flex-wrap: wrap; width: 100% }\n",
       "    .wandb-col { display: flex; flex-direction: column; flex-basis: 100%; flex: 1; padding: 10px; }\n",
       "    </style>\n",
       "<div class=\"wandb-row\"><div class=\"wandb-col\"><h3>Run history:</h3><br/><table class=\"wandb\"><tr><td>acc</td><td>▁▃▄▅▅▆▆▆▇▇▇████</td></tr><tr><td>epoch</td><td>▁▁▂▃▃▃▄▅▅▅▆▇▇▇█</td></tr><tr><td>loss</td><td>█▅▄▄▃▃▃▂▂▂▂▁▁▁▁</td></tr><tr><td>val_acc</td><td>▁▃▄▄▅▆▆▆▇▇▇████</td></tr><tr><td>val_loss</td><td>█▆▅▄▃▃▃▃▂▂▂▁▁▁▁</td></tr></table><br/></div><div class=\"wandb-col\"><h3>Run summary:</h3><br/><table class=\"wandb\"><tr><td>acc</td><td>0.66792</td></tr><tr><td>best_epoch</td><td>14</td></tr><tr><td>best_val_loss</td><td>0.99728</td></tr><tr><td>epoch</td><td>14</td></tr><tr><td>loss</td><td>0.93146</td></tr><tr><td>val_acc</td><td>0.65666</td></tr><tr><td>val_loss</td><td>0.99728</td></tr></table><br/></div></div>"
      ],
      "text/plain": [
       "<IPython.core.display.HTML object>"
      ]
     },
     "metadata": {},
     "output_type": "display_data"
    },
    {
     "data": {
      "text/html": [
       "Synced <strong style=\"color:#cdcd00\">fresh-sweep-56</strong>: <a href=\"https://wandb.ai/msaintfelix/Sweeps-Genre-Classifier/runs/muq4j2qf\" target=\"_blank\">https://wandb.ai/msaintfelix/Sweeps-Genre-Classifier/runs/muq4j2qf</a><br/>Synced 6 W&B file(s), 1 media file(s), 0 artifact file(s) and 1 other file(s)"
      ],
      "text/plain": [
       "<IPython.core.display.HTML object>"
      ]
     },
     "metadata": {},
     "output_type": "display_data"
    },
    {
     "data": {
      "text/html": [
       "Find logs at: <code>./wandb/run-20220829_214606-muq4j2qf/logs</code>"
      ],
      "text/plain": [
       "<IPython.core.display.HTML object>"
      ]
     },
     "metadata": {},
     "output_type": "display_data"
    },
    {
     "name": "stderr",
     "output_type": "stream",
     "text": [
      "\u001b[34m\u001b[1mwandb\u001b[0m: Agent Starting Run: x35d628f with config:\n",
      "\u001b[34m\u001b[1mwandb\u001b[0m: \tbatch_size: 64\n",
      "\u001b[34m\u001b[1mwandb\u001b[0m: \tconv_layer_size: 16\n",
      "\u001b[34m\u001b[1mwandb\u001b[0m: \tdropout: 0.4\n",
      "\u001b[34m\u001b[1mwandb\u001b[0m: \tepochs: 5\n",
      "\u001b[34m\u001b[1mwandb\u001b[0m: \tlearning_rate: 1e-05\n"
     ]
    },
    {
     "data": {
      "text/html": [
       "wandb version 0.13.2 is available!  To upgrade, please run:\n",
       " $ pip install wandb --upgrade"
      ],
      "text/plain": [
       "<IPython.core.display.HTML object>"
      ]
     },
     "metadata": {},
     "output_type": "display_data"
    },
    {
     "data": {
      "text/html": [
       "Tracking run with wandb version 0.12.11"
      ],
      "text/plain": [
       "<IPython.core.display.HTML object>"
      ]
     },
     "metadata": {},
     "output_type": "display_data"
    },
    {
     "data": {
      "text/html": [
       "Run data is saved locally in <code>/Users/msf/GitHub/TensorFlow_MusicGenre_Classifier/wandb/run-20220829_214839-x35d628f</code>"
      ],
      "text/plain": [
       "<IPython.core.display.HTML object>"
      ]
     },
     "metadata": {},
     "output_type": "display_data"
    },
    {
     "data": {
      "text/html": [
       "Syncing run <strong><a href=\"https://wandb.ai/msaintfelix/Sweeps-Genre-Classifier/runs/x35d628f\" target=\"_blank\">wandering-sweep-57</a></strong> to <a href=\"https://wandb.ai/msaintfelix/Sweeps-Genre-Classifier\" target=\"_blank\">Weights & Biases</a> (<a href=\"https://wandb.me/run\" target=\"_blank\">docs</a>)<br/>Sweep page:  <a href=\"https://wandb.ai/msaintfelix/Sweeps-Genre-Classifier/sweeps/e7xdbkpy\" target=\"_blank\">https://wandb.ai/msaintfelix/Sweeps-Genre-Classifier/sweeps/e7xdbkpy</a>"
      ],
      "text/plain": [
       "<IPython.core.display.HTML object>"
      ]
     },
     "metadata": {},
     "output_type": "display_data"
    },
    {
     "name": "stdout",
     "output_type": "stream",
     "text": [
      "(9990, 125, 13)\n",
      "Model: \"sequential\"\n",
      "_________________________________________________________________\n",
      "Layer (type)                 Output Shape              Param #   \n",
      "=================================================================\n",
      "conv2d (Conv2D)              (None, 123, 11, 16)       160       \n",
      "_________________________________________________________________\n",
      "max_pooling2d (MaxPooling2D) (None, 62, 6, 16)         0         \n",
      "_________________________________________________________________\n",
      "batch_normalization (BatchNo (None, 62, 6, 16)         64        \n",
      "_________________________________________________________________\n",
      "conv2d_1 (Conv2D)            (None, 60, 4, 16)         2320      \n",
      "_________________________________________________________________\n",
      "max_pooling2d_1 (MaxPooling2 (None, 30, 2, 16)         0         \n",
      "_________________________________________________________________\n",
      "batch_normalization_1 (Batch (None, 30, 2, 16)         64        \n",
      "_________________________________________________________________\n",
      "conv2d_2 (Conv2D)            (None, 29, 1, 16)         1040      \n",
      "_________________________________________________________________\n",
      "max_pooling2d_2 (MaxPooling2 (None, 15, 1, 16)         0         \n",
      "_________________________________________________________________\n",
      "batch_normalization_2 (Batch (None, 15, 1, 16)         64        \n",
      "_________________________________________________________________\n",
      "dropout (Dropout)            (None, 15, 1, 16)         0         \n",
      "_________________________________________________________________\n",
      "flatten (Flatten)            (None, 240)               0         \n",
      "_________________________________________________________________\n",
      "dense (Dense)                (None, 64)                15424     \n",
      "_________________________________________________________________\n",
      "dense_1 (Dense)              (None, 10)                650       \n",
      "=================================================================\n",
      "Total params: 19,786\n",
      "Trainable params: 19,690\n",
      "Non-trainable params: 96\n",
      "_________________________________________________________________\n",
      "Epoch 1/5\n",
      "100/100 [==============================] - 5s 45ms/step - loss: 3.0459 - acc: 0.1143 - val_loss: 2.4759 - val_acc: 0.1181\n",
      "Epoch 2/5\n",
      "100/100 [==============================] - 5s 45ms/step - loss: 2.9475 - acc: 0.1293 - val_loss: 2.4299 - val_acc: 0.1572\n",
      "Epoch 3/5\n",
      "100/100 [==============================] - 5s 45ms/step - loss: 2.8248 - acc: 0.1366 - val_loss: 2.4248 - val_acc: 0.1797\n",
      "Epoch 4/5\n",
      "100/100 [==============================] - 4s 44ms/step - loss: 2.7489 - acc: 0.1522 - val_loss: 2.4027 - val_acc: 0.1942\n",
      "Epoch 5/5\n",
      "100/100 [==============================] - 4s 43ms/step - loss: 2.7171 - acc: 0.1580 - val_loss: 2.3654 - val_acc: 0.2212\n",
      "\n",
      "---Now testing the model for one audio file---\n",
      "The model predicts: blues, and ground truth is: blues.\n",
      "\n",
      "\n"
     ]
    },
    {
     "data": {
      "text/html": [
       "Waiting for W&B process to finish... <strong style=\"color:green\">(success).</strong>"
      ],
      "text/plain": [
       "<IPython.core.display.HTML object>"
      ]
     },
     "metadata": {},
     "output_type": "display_data"
    },
    {
     "data": {
      "application/vnd.jupyter.widget-view+json": {
       "model_id": "",
       "version_major": 2,
       "version_minor": 0
      },
      "text/plain": [
       "VBox(children=(Label(value='0.224 MB of 0.224 MB uploaded (0.000 MB deduped)\\r'), FloatProgress(value=1.0, max…"
      ]
     },
     "metadata": {},
     "output_type": "display_data"
    },
    {
     "data": {
      "text/html": [
       "<style>\n",
       "    table.wandb td:nth-child(1) { padding: 0 10px; text-align: right }\n",
       "    .wandb-row { display: flex; flex-direction: row; flex-wrap: wrap; width: 100% }\n",
       "    .wandb-col { display: flex; flex-direction: column; flex-basis: 100%; flex: 1; padding: 10px; }\n",
       "    </style>\n",
       "<div class=\"wandb-row\"><div class=\"wandb-col\"><h3>Run history:</h3><br/><table class=\"wandb\"><tr><td>acc</td><td>▁▂▃▇█</td></tr><tr><td>epoch</td><td>▁▃▅▆█</td></tr><tr><td>loss</td><td>█▆▄▂▁</td></tr><tr><td>val_acc</td><td>▁▄▅▆█</td></tr><tr><td>val_loss</td><td>█▅▅▃▁</td></tr></table><br/></div><div class=\"wandb-col\"><h3>Run summary:</h3><br/><table class=\"wandb\"><tr><td>acc</td><td>0.15767</td></tr><tr><td>best_epoch</td><td>4</td></tr><tr><td>best_val_loss</td><td>2.3654</td></tr><tr><td>epoch</td><td>4</td></tr><tr><td>loss</td><td>2.70417</td></tr><tr><td>val_acc</td><td>0.22122</td></tr><tr><td>val_loss</td><td>2.3654</td></tr></table><br/></div></div>"
      ],
      "text/plain": [
       "<IPython.core.display.HTML object>"
      ]
     },
     "metadata": {},
     "output_type": "display_data"
    },
    {
     "data": {
      "text/html": [
       "Synced <strong style=\"color:#cdcd00\">wandering-sweep-57</strong>: <a href=\"https://wandb.ai/msaintfelix/Sweeps-Genre-Classifier/runs/x35d628f\" target=\"_blank\">https://wandb.ai/msaintfelix/Sweeps-Genre-Classifier/runs/x35d628f</a><br/>Synced 6 W&B file(s), 1 media file(s), 0 artifact file(s) and 1 other file(s)"
      ],
      "text/plain": [
       "<IPython.core.display.HTML object>"
      ]
     },
     "metadata": {},
     "output_type": "display_data"
    },
    {
     "data": {
      "text/html": [
       "Find logs at: <code>./wandb/run-20220829_214839-x35d628f/logs</code>"
      ],
      "text/plain": [
       "<IPython.core.display.HTML object>"
      ]
     },
     "metadata": {},
     "output_type": "display_data"
    },
    {
     "name": "stderr",
     "output_type": "stream",
     "text": [
      "\u001b[34m\u001b[1mwandb\u001b[0m: Agent Starting Run: d7rdlic4 with config:\n",
      "\u001b[34m\u001b[1mwandb\u001b[0m: \tbatch_size: 32\n",
      "\u001b[34m\u001b[1mwandb\u001b[0m: \tconv_layer_size: 16\n",
      "\u001b[34m\u001b[1mwandb\u001b[0m: \tdropout: 0.5\n",
      "\u001b[34m\u001b[1mwandb\u001b[0m: \tepochs: 15\n",
      "\u001b[34m\u001b[1mwandb\u001b[0m: \tlearning_rate: 0.0003\n"
     ]
    },
    {
     "data": {
      "text/html": [
       "wandb version 0.13.2 is available!  To upgrade, please run:\n",
       " $ pip install wandb --upgrade"
      ],
      "text/plain": [
       "<IPython.core.display.HTML object>"
      ]
     },
     "metadata": {},
     "output_type": "display_data"
    },
    {
     "data": {
      "text/html": [
       "Tracking run with wandb version 0.12.11"
      ],
      "text/plain": [
       "<IPython.core.display.HTML object>"
      ]
     },
     "metadata": {},
     "output_type": "display_data"
    },
    {
     "data": {
      "text/html": [
       "Run data is saved locally in <code>/Users/msf/GitHub/TensorFlow_MusicGenre_Classifier/wandb/run-20220829_214930-d7rdlic4</code>"
      ],
      "text/plain": [
       "<IPython.core.display.HTML object>"
      ]
     },
     "metadata": {},
     "output_type": "display_data"
    },
    {
     "data": {
      "text/html": [
       "Syncing run <strong><a href=\"https://wandb.ai/msaintfelix/Sweeps-Genre-Classifier/runs/d7rdlic4\" target=\"_blank\">hardy-sweep-58</a></strong> to <a href=\"https://wandb.ai/msaintfelix/Sweeps-Genre-Classifier\" target=\"_blank\">Weights & Biases</a> (<a href=\"https://wandb.me/run\" target=\"_blank\">docs</a>)<br/>Sweep page:  <a href=\"https://wandb.ai/msaintfelix/Sweeps-Genre-Classifier/sweeps/e7xdbkpy\" target=\"_blank\">https://wandb.ai/msaintfelix/Sweeps-Genre-Classifier/sweeps/e7xdbkpy</a>"
      ],
      "text/plain": [
       "<IPython.core.display.HTML object>"
      ]
     },
     "metadata": {},
     "output_type": "display_data"
    },
    {
     "name": "stdout",
     "output_type": "stream",
     "text": [
      "(9990, 125, 13)\n",
      "Model: \"sequential\"\n",
      "_________________________________________________________________\n",
      "Layer (type)                 Output Shape              Param #   \n",
      "=================================================================\n",
      "conv2d (Conv2D)              (None, 123, 11, 16)       160       \n",
      "_________________________________________________________________\n",
      "max_pooling2d (MaxPooling2D) (None, 62, 6, 16)         0         \n",
      "_________________________________________________________________\n",
      "batch_normalization (BatchNo (None, 62, 6, 16)         64        \n",
      "_________________________________________________________________\n",
      "conv2d_1 (Conv2D)            (None, 60, 4, 16)         2320      \n",
      "_________________________________________________________________\n",
      "max_pooling2d_1 (MaxPooling2 (None, 30, 2, 16)         0         \n",
      "_________________________________________________________________\n",
      "batch_normalization_1 (Batch (None, 30, 2, 16)         64        \n",
      "_________________________________________________________________\n",
      "conv2d_2 (Conv2D)            (None, 29, 1, 16)         1040      \n",
      "_________________________________________________________________\n",
      "max_pooling2d_2 (MaxPooling2 (None, 15, 1, 16)         0         \n",
      "_________________________________________________________________\n",
      "batch_normalization_2 (Batch (None, 15, 1, 16)         64        \n",
      "_________________________________________________________________\n",
      "dropout (Dropout)            (None, 15, 1, 16)         0         \n",
      "_________________________________________________________________\n",
      "flatten (Flatten)            (None, 240)               0         \n",
      "_________________________________________________________________\n",
      "dense (Dense)                (None, 64)                15424     \n",
      "_________________________________________________________________\n",
      "dense_1 (Dense)              (None, 10)                650       \n",
      "=================================================================\n",
      "Total params: 19,786\n",
      "Trainable params: 19,690\n",
      "Non-trainable params: 96\n",
      "_________________________________________________________________\n",
      "Epoch 1/15\n",
      "200/200 [==============================] - 6s 24ms/step - loss: 2.5451 - acc: 0.1923 - val_loss: 1.6596 - val_acc: 0.4209\n",
      "Epoch 2/15\n",
      "200/200 [==============================] - 5s 24ms/step - loss: 1.7231 - acc: 0.3956 - val_loss: 1.4279 - val_acc: 0.4840\n",
      "Epoch 3/15\n",
      "200/200 [==============================] - 5s 24ms/step - loss: 1.5300 - acc: 0.4549 - val_loss: 1.3616 - val_acc: 0.5140\n",
      "Epoch 4/15\n",
      "200/200 [==============================] - 5s 24ms/step - loss: 1.4139 - acc: 0.4863 - val_loss: 1.2685 - val_acc: 0.5435\n",
      "Epoch 5/15\n",
      "200/200 [==============================] - 5s 24ms/step - loss: 1.3414 - acc: 0.5197 - val_loss: 1.2680 - val_acc: 0.5475\n",
      "Epoch 6/15\n",
      "200/200 [==============================] - 5s 24ms/step - loss: 1.2770 - acc: 0.5398 - val_loss: 1.1707 - val_acc: 0.5811\n",
      "Epoch 7/15\n",
      "200/200 [==============================] - 5s 24ms/step - loss: 1.2362 - acc: 0.5578 - val_loss: 1.1375 - val_acc: 0.5881\n",
      "Epoch 8/15\n",
      "200/200 [==============================] - 5s 24ms/step - loss: 1.1713 - acc: 0.5744 - val_loss: 1.1138 - val_acc: 0.6021\n",
      "Epoch 9/15\n",
      "200/200 [==============================] - 5s 24ms/step - loss: 1.1278 - acc: 0.5936 - val_loss: 1.0751 - val_acc: 0.6166\n",
      "Epoch 10/15\n",
      "200/200 [==============================] - 5s 24ms/step - loss: 1.1065 - acc: 0.6061 - val_loss: 1.0642 - val_acc: 0.6206\n",
      "Epoch 11/15\n",
      "200/200 [==============================] - 5s 24ms/step - loss: 1.1039 - acc: 0.6087 - val_loss: 1.0356 - val_acc: 0.6306\n",
      "Epoch 12/15\n",
      "200/200 [==============================] - 5s 24ms/step - loss: 1.0503 - acc: 0.6232 - val_loss: 1.0539 - val_acc: 0.6276\n",
      "Epoch 13/15\n",
      "200/200 [==============================] - 5s 24ms/step - loss: 1.0448 - acc: 0.6369 - val_loss: 1.0370 - val_acc: 0.6316\n",
      "Epoch 14/15\n",
      "200/200 [==============================] - 5s 24ms/step - loss: 0.9818 - acc: 0.6446 - val_loss: 1.0036 - val_acc: 0.6577\n",
      "Epoch 15/15\n",
      "200/200 [==============================] - 5s 24ms/step - loss: 0.9791 - acc: 0.6487 - val_loss: 0.9574 - val_acc: 0.6537\n",
      "\n",
      "---Now testing the model for one audio file---\n",
      "The model predicts: disco, and ground truth is: disco.\n",
      "\n",
      "\n"
     ]
    },
    {
     "data": {
      "text/html": [
       "Waiting for W&B process to finish... <strong style=\"color:green\">(success).</strong>"
      ],
      "text/plain": [
       "<IPython.core.display.HTML object>"
      ]
     },
     "metadata": {},
     "output_type": "display_data"
    },
    {
     "data": {
      "application/vnd.jupyter.widget-view+json": {
       "model_id": "",
       "version_major": 2,
       "version_minor": 0
      },
      "text/plain": [
       "VBox(children=(Label(value='0.224 MB of 0.224 MB uploaded (0.000 MB deduped)\\r'), FloatProgress(value=1.0, max…"
      ]
     },
     "metadata": {},
     "output_type": "display_data"
    },
    {
     "data": {
      "text/html": [
       "<style>\n",
       "    table.wandb td:nth-child(1) { padding: 0 10px; text-align: right }\n",
       "    .wandb-row { display: flex; flex-direction: row; flex-wrap: wrap; width: 100% }\n",
       "    .wandb-col { display: flex; flex-direction: column; flex-basis: 100%; flex: 1; padding: 10px; }\n",
       "    </style>\n",
       "<div class=\"wandb-row\"><div class=\"wandb-col\"><h3>Run history:</h3><br/><table class=\"wandb\"><tr><td>acc</td><td>▁▄▅▅▆▆▆▇▇▇█████</td></tr><tr><td>epoch</td><td>▁▁▂▃▃▃▄▅▅▅▆▇▇▇█</td></tr><tr><td>loss</td><td>█▅▄▃▃▃▂▂▂▂▂▁▁▁▁</td></tr><tr><td>val_acc</td><td>▁▃▄▅▅▆▆▆▇▇▇▇▇██</td></tr><tr><td>val_loss</td><td>█▆▅▄▄▃▃▃▂▂▂▂▂▁▁</td></tr></table><br/></div><div class=\"wandb-col\"><h3>Run summary:</h3><br/><table class=\"wandb\"><tr><td>acc</td><td>0.65009</td></tr><tr><td>best_epoch</td><td>14</td></tr><tr><td>best_val_loss</td><td>0.95735</td></tr><tr><td>epoch</td><td>14</td></tr><tr><td>loss</td><td>0.9794</td></tr><tr><td>val_acc</td><td>0.65365</td></tr><tr><td>val_loss</td><td>0.95735</td></tr></table><br/></div></div>"
      ],
      "text/plain": [
       "<IPython.core.display.HTML object>"
      ]
     },
     "metadata": {},
     "output_type": "display_data"
    },
    {
     "data": {
      "text/html": [
       "Synced <strong style=\"color:#cdcd00\">hardy-sweep-58</strong>: <a href=\"https://wandb.ai/msaintfelix/Sweeps-Genre-Classifier/runs/d7rdlic4\" target=\"_blank\">https://wandb.ai/msaintfelix/Sweeps-Genre-Classifier/runs/d7rdlic4</a><br/>Synced 6 W&B file(s), 1 media file(s), 0 artifact file(s) and 1 other file(s)"
      ],
      "text/plain": [
       "<IPython.core.display.HTML object>"
      ]
     },
     "metadata": {},
     "output_type": "display_data"
    },
    {
     "data": {
      "text/html": [
       "Find logs at: <code>./wandb/run-20220829_214930-d7rdlic4/logs</code>"
      ],
      "text/plain": [
       "<IPython.core.display.HTML object>"
      ]
     },
     "metadata": {},
     "output_type": "display_data"
    },
    {
     "name": "stderr",
     "output_type": "stream",
     "text": [
      "\u001b[34m\u001b[1mwandb\u001b[0m: Agent Starting Run: e24y0g71 with config:\n",
      "\u001b[34m\u001b[1mwandb\u001b[0m: \tbatch_size: 64\n",
      "\u001b[34m\u001b[1mwandb\u001b[0m: \tconv_layer_size: 16\n",
      "\u001b[34m\u001b[1mwandb\u001b[0m: \tdropout: 0.3\n",
      "\u001b[34m\u001b[1mwandb\u001b[0m: \tepochs: 5\n",
      "\u001b[34m\u001b[1mwandb\u001b[0m: \tlearning_rate: 1e-05\n"
     ]
    },
    {
     "data": {
      "text/html": [
       "wandb version 0.13.2 is available!  To upgrade, please run:\n",
       " $ pip install wandb --upgrade"
      ],
      "text/plain": [
       "<IPython.core.display.HTML object>"
      ]
     },
     "metadata": {},
     "output_type": "display_data"
    },
    {
     "data": {
      "text/html": [
       "Tracking run with wandb version 0.12.11"
      ],
      "text/plain": [
       "<IPython.core.display.HTML object>"
      ]
     },
     "metadata": {},
     "output_type": "display_data"
    },
    {
     "data": {
      "text/html": [
       "Run data is saved locally in <code>/Users/msf/GitHub/TensorFlow_MusicGenre_Classifier/wandb/run-20220829_215111-e24y0g71</code>"
      ],
      "text/plain": [
       "<IPython.core.display.HTML object>"
      ]
     },
     "metadata": {},
     "output_type": "display_data"
    },
    {
     "data": {
      "text/html": [
       "Syncing run <strong><a href=\"https://wandb.ai/msaintfelix/Sweeps-Genre-Classifier/runs/e24y0g71\" target=\"_blank\">twilight-sweep-59</a></strong> to <a href=\"https://wandb.ai/msaintfelix/Sweeps-Genre-Classifier\" target=\"_blank\">Weights & Biases</a> (<a href=\"https://wandb.me/run\" target=\"_blank\">docs</a>)<br/>Sweep page:  <a href=\"https://wandb.ai/msaintfelix/Sweeps-Genre-Classifier/sweeps/e7xdbkpy\" target=\"_blank\">https://wandb.ai/msaintfelix/Sweeps-Genre-Classifier/sweeps/e7xdbkpy</a>"
      ],
      "text/plain": [
       "<IPython.core.display.HTML object>"
      ]
     },
     "metadata": {},
     "output_type": "display_data"
    },
    {
     "name": "stdout",
     "output_type": "stream",
     "text": [
      "(9990, 125, 13)\n",
      "Model: \"sequential\"\n",
      "_________________________________________________________________\n",
      "Layer (type)                 Output Shape              Param #   \n",
      "=================================================================\n",
      "conv2d (Conv2D)              (None, 123, 11, 16)       160       \n",
      "_________________________________________________________________\n",
      "max_pooling2d (MaxPooling2D) (None, 62, 6, 16)         0         \n",
      "_________________________________________________________________\n",
      "batch_normalization (BatchNo (None, 62, 6, 16)         64        \n",
      "_________________________________________________________________\n",
      "conv2d_1 (Conv2D)            (None, 60, 4, 16)         2320      \n",
      "_________________________________________________________________\n",
      "max_pooling2d_1 (MaxPooling2 (None, 30, 2, 16)         0         \n",
      "_________________________________________________________________\n",
      "batch_normalization_1 (Batch (None, 30, 2, 16)         64        \n",
      "_________________________________________________________________\n",
      "conv2d_2 (Conv2D)            (None, 29, 1, 16)         1040      \n",
      "_________________________________________________________________\n",
      "max_pooling2d_2 (MaxPooling2 (None, 15, 1, 16)         0         \n",
      "_________________________________________________________________\n",
      "batch_normalization_2 (Batch (None, 15, 1, 16)         64        \n",
      "_________________________________________________________________\n",
      "dropout (Dropout)            (None, 15, 1, 16)         0         \n",
      "_________________________________________________________________\n",
      "flatten (Flatten)            (None, 240)               0         \n",
      "_________________________________________________________________\n",
      "dense (Dense)                (None, 64)                15424     \n",
      "_________________________________________________________________\n",
      "dense_1 (Dense)              (None, 10)                650       \n",
      "=================================================================\n",
      "Total params: 19,786\n",
      "Trainable params: 19,690\n",
      "Non-trainable params: 96\n",
      "_________________________________________________________________\n",
      "Epoch 1/5\n",
      "100/100 [==============================] - 5s 45ms/step - loss: 2.9453 - acc: 0.0989 - val_loss: 2.5461 - val_acc: 0.1061\n",
      "Epoch 2/5\n",
      "100/100 [==============================] - 4s 44ms/step - loss: 2.8306 - acc: 0.1100 - val_loss: 2.4903 - val_acc: 0.1131\n",
      "Epoch 3/5\n",
      "100/100 [==============================] - 5s 45ms/step - loss: 2.7286 - acc: 0.1214 - val_loss: 2.4635 - val_acc: 0.1221\n",
      "Epoch 4/5\n",
      "100/100 [==============================] - 5s 45ms/step - loss: 2.6769 - acc: 0.1330 - val_loss: 2.4210 - val_acc: 0.1411\n",
      "Epoch 5/5\n",
      "100/100 [==============================] - 4s 45ms/step - loss: 2.5904 - acc: 0.1345 - val_loss: 2.3713 - val_acc: 0.1572\n",
      "\n",
      "---Now testing the model for one audio file---\n",
      "The model predicts: metal, and ground truth is: reggae.\n",
      "\n",
      "\n"
     ]
    },
    {
     "data": {
      "text/html": [
       "Waiting for W&B process to finish... <strong style=\"color:green\">(success).</strong>"
      ],
      "text/plain": [
       "<IPython.core.display.HTML object>"
      ]
     },
     "metadata": {},
     "output_type": "display_data"
    },
    {
     "data": {
      "application/vnd.jupyter.widget-view+json": {
       "model_id": "",
       "version_major": 2,
       "version_minor": 0
      },
      "text/plain": [
       "VBox(children=(Label(value='0.224 MB of 0.224 MB uploaded (0.000 MB deduped)\\r'), FloatProgress(value=1.0, max…"
      ]
     },
     "metadata": {},
     "output_type": "display_data"
    },
    {
     "data": {
      "text/html": [
       "<style>\n",
       "    table.wandb td:nth-child(1) { padding: 0 10px; text-align: right }\n",
       "    .wandb-row { display: flex; flex-direction: row; flex-wrap: wrap; width: 100% }\n",
       "    .wandb-col { display: flex; flex-direction: column; flex-basis: 100%; flex: 1; padding: 10px; }\n",
       "    </style>\n",
       "<div class=\"wandb-row\"><div class=\"wandb-col\"><h3>Run history:</h3><br/><table class=\"wandb\"><tr><td>acc</td><td>▁▃▄██</td></tr><tr><td>epoch</td><td>▁▃▅▆█</td></tr><tr><td>loss</td><td>█▅▄▂▁</td></tr><tr><td>val_acc</td><td>▁▂▃▆█</td></tr><tr><td>val_loss</td><td>█▆▅▃▁</td></tr></table><br/></div><div class=\"wandb-col\"><h3>Run summary:</h3><br/><table class=\"wandb\"><tr><td>acc</td><td>0.13296</td></tr><tr><td>best_epoch</td><td>4</td></tr><tr><td>best_val_loss</td><td>2.37134</td></tr><tr><td>epoch</td><td>4</td></tr><tr><td>loss</td><td>2.58942</td></tr><tr><td>val_acc</td><td>0.15716</td></tr><tr><td>val_loss</td><td>2.37134</td></tr></table><br/></div></div>"
      ],
      "text/plain": [
       "<IPython.core.display.HTML object>"
      ]
     },
     "metadata": {},
     "output_type": "display_data"
    },
    {
     "data": {
      "text/html": [
       "Synced <strong style=\"color:#cdcd00\">twilight-sweep-59</strong>: <a href=\"https://wandb.ai/msaintfelix/Sweeps-Genre-Classifier/runs/e24y0g71\" target=\"_blank\">https://wandb.ai/msaintfelix/Sweeps-Genre-Classifier/runs/e24y0g71</a><br/>Synced 6 W&B file(s), 1 media file(s), 0 artifact file(s) and 1 other file(s)"
      ],
      "text/plain": [
       "<IPython.core.display.HTML object>"
      ]
     },
     "metadata": {},
     "output_type": "display_data"
    },
    {
     "data": {
      "text/html": [
       "Find logs at: <code>./wandb/run-20220829_215111-e24y0g71/logs</code>"
      ],
      "text/plain": [
       "<IPython.core.display.HTML object>"
      ]
     },
     "metadata": {},
     "output_type": "display_data"
    },
    {
     "name": "stderr",
     "output_type": "stream",
     "text": [
      "\u001b[34m\u001b[1mwandb\u001b[0m: Agent Starting Run: m0jj42u3 with config:\n",
      "\u001b[34m\u001b[1mwandb\u001b[0m: \tbatch_size: 32\n",
      "\u001b[34m\u001b[1mwandb\u001b[0m: \tconv_layer_size: 32\n",
      "\u001b[34m\u001b[1mwandb\u001b[0m: \tdropout: 0.5\n",
      "\u001b[34m\u001b[1mwandb\u001b[0m: \tepochs: 5\n",
      "\u001b[34m\u001b[1mwandb\u001b[0m: \tlearning_rate: 0.0001\n"
     ]
    },
    {
     "data": {
      "text/html": [
       "wandb version 0.13.2 is available!  To upgrade, please run:\n",
       " $ pip install wandb --upgrade"
      ],
      "text/plain": [
       "<IPython.core.display.HTML object>"
      ]
     },
     "metadata": {},
     "output_type": "display_data"
    },
    {
     "data": {
      "text/html": [
       "Tracking run with wandb version 0.12.11"
      ],
      "text/plain": [
       "<IPython.core.display.HTML object>"
      ]
     },
     "metadata": {},
     "output_type": "display_data"
    },
    {
     "data": {
      "text/html": [
       "Run data is saved locally in <code>/Users/msf/GitHub/TensorFlow_MusicGenre_Classifier/wandb/run-20220829_215204-m0jj42u3</code>"
      ],
      "text/plain": [
       "<IPython.core.display.HTML object>"
      ]
     },
     "metadata": {},
     "output_type": "display_data"
    },
    {
     "data": {
      "text/html": [
       "Syncing run <strong><a href=\"https://wandb.ai/msaintfelix/Sweeps-Genre-Classifier/runs/m0jj42u3\" target=\"_blank\">lilac-sweep-60</a></strong> to <a href=\"https://wandb.ai/msaintfelix/Sweeps-Genre-Classifier\" target=\"_blank\">Weights & Biases</a> (<a href=\"https://wandb.me/run\" target=\"_blank\">docs</a>)<br/>Sweep page:  <a href=\"https://wandb.ai/msaintfelix/Sweeps-Genre-Classifier/sweeps/e7xdbkpy\" target=\"_blank\">https://wandb.ai/msaintfelix/Sweeps-Genre-Classifier/sweeps/e7xdbkpy</a>"
      ],
      "text/plain": [
       "<IPython.core.display.HTML object>"
      ]
     },
     "metadata": {},
     "output_type": "display_data"
    },
    {
     "name": "stdout",
     "output_type": "stream",
     "text": [
      "(9990, 125, 13)\n",
      "Model: \"sequential\"\n",
      "_________________________________________________________________\n",
      "Layer (type)                 Output Shape              Param #   \n",
      "=================================================================\n",
      "conv2d (Conv2D)              (None, 123, 11, 32)       320       \n",
      "_________________________________________________________________\n",
      "max_pooling2d (MaxPooling2D) (None, 62, 6, 32)         0         \n",
      "_________________________________________________________________\n",
      "batch_normalization (BatchNo (None, 62, 6, 32)         128       \n",
      "_________________________________________________________________\n",
      "conv2d_1 (Conv2D)            (None, 60, 4, 32)         9248      \n",
      "_________________________________________________________________\n",
      "max_pooling2d_1 (MaxPooling2 (None, 30, 2, 32)         0         \n",
      "_________________________________________________________________\n",
      "batch_normalization_1 (Batch (None, 30, 2, 32)         128       \n",
      "_________________________________________________________________\n",
      "conv2d_2 (Conv2D)            (None, 29, 1, 32)         4128      \n",
      "_________________________________________________________________\n",
      "max_pooling2d_2 (MaxPooling2 (None, 15, 1, 32)         0         \n",
      "_________________________________________________________________\n",
      "batch_normalization_2 (Batch (None, 15, 1, 32)         128       \n",
      "_________________________________________________________________\n",
      "dropout (Dropout)            (None, 15, 1, 32)         0         \n",
      "_________________________________________________________________\n",
      "flatten (Flatten)            (None, 480)               0         \n",
      "_________________________________________________________________\n",
      "dense (Dense)                (None, 64)                30784     \n",
      "_________________________________________________________________\n",
      "dense_1 (Dense)              (None, 10)                650       \n",
      "=================================================================\n",
      "Total params: 45,514\n",
      "Trainable params: 45,322\n",
      "Non-trainable params: 192\n",
      "_________________________________________________________________\n",
      "Epoch 1/5\n",
      "200/200 [==============================] - 9s 39ms/step - loss: 3.0757 - acc: 0.1533 - val_loss: 1.9477 - val_acc: 0.2828\n",
      "Epoch 2/5\n",
      "200/200 [==============================] - 8s 39ms/step - loss: 2.0399 - acc: 0.3095 - val_loss: 1.5586 - val_acc: 0.4184\n",
      "Epoch 3/5\n",
      "200/200 [==============================] - 8s 40ms/step - loss: 1.7785 - acc: 0.3922 - val_loss: 1.4557 - val_acc: 0.4600\n",
      "Epoch 4/5\n",
      "200/200 [==============================] - 8s 40ms/step - loss: 1.6042 - acc: 0.4282 - val_loss: 1.3650 - val_acc: 0.4975\n",
      "Epoch 5/5\n",
      "200/200 [==============================] - 8s 40ms/step - loss: 1.5099 - acc: 0.4584 - val_loss: 1.3014 - val_acc: 0.5215\n",
      "\n",
      "---Now testing the model for one audio file---\n",
      "The model predicts: metal, and ground truth is: reggae.\n",
      "\n",
      "\n"
     ]
    },
    {
     "data": {
      "text/html": [
       "Waiting for W&B process to finish... <strong style=\"color:green\">(success).</strong>"
      ],
      "text/plain": [
       "<IPython.core.display.HTML object>"
      ]
     },
     "metadata": {},
     "output_type": "display_data"
    },
    {
     "data": {
      "application/vnd.jupyter.widget-view+json": {
       "model_id": "",
       "version_major": 2,
       "version_minor": 0
      },
      "text/plain": [
       "VBox(children=(Label(value='0.419 MB of 0.419 MB uploaded (0.000 MB deduped)\\r'), FloatProgress(value=1.0, max…"
      ]
     },
     "metadata": {},
     "output_type": "display_data"
    },
    {
     "data": {
      "text/html": [
       "<style>\n",
       "    table.wandb td:nth-child(1) { padding: 0 10px; text-align: right }\n",
       "    .wandb-row { display: flex; flex-direction: row; flex-wrap: wrap; width: 100% }\n",
       "    .wandb-col { display: flex; flex-direction: column; flex-basis: 100%; flex: 1; padding: 10px; }\n",
       "    </style>\n",
       "<div class=\"wandb-row\"><div class=\"wandb-col\"><h3>Run history:</h3><br/><table class=\"wandb\"><tr><td>acc</td><td>▁▄▆▇█</td></tr><tr><td>epoch</td><td>▁▃▅▆█</td></tr><tr><td>loss</td><td>█▄▂▁▁</td></tr><tr><td>val_acc</td><td>▁▅▆▇█</td></tr><tr><td>val_loss</td><td>█▄▃▂▁</td></tr></table><br/></div><div class=\"wandb-col\"><h3>Run summary:</h3><br/><table class=\"wandb\"><tr><td>acc</td><td>0.46567</td></tr><tr><td>best_epoch</td><td>4</td></tr><tr><td>best_val_loss</td><td>1.30141</td></tr><tr><td>epoch</td><td>4</td></tr><tr><td>loss</td><td>1.48933</td></tr><tr><td>val_acc</td><td>0.52152</td></tr><tr><td>val_loss</td><td>1.30141</td></tr></table><br/></div></div>"
      ],
      "text/plain": [
       "<IPython.core.display.HTML object>"
      ]
     },
     "metadata": {},
     "output_type": "display_data"
    },
    {
     "data": {
      "text/html": [
       "Synced <strong style=\"color:#cdcd00\">lilac-sweep-60</strong>: <a href=\"https://wandb.ai/msaintfelix/Sweeps-Genre-Classifier/runs/m0jj42u3\" target=\"_blank\">https://wandb.ai/msaintfelix/Sweeps-Genre-Classifier/runs/m0jj42u3</a><br/>Synced 6 W&B file(s), 1 media file(s), 0 artifact file(s) and 1 other file(s)"
      ],
      "text/plain": [
       "<IPython.core.display.HTML object>"
      ]
     },
     "metadata": {},
     "output_type": "display_data"
    },
    {
     "data": {
      "text/html": [
       "Find logs at: <code>./wandb/run-20220829_215204-m0jj42u3/logs</code>"
      ],
      "text/plain": [
       "<IPython.core.display.HTML object>"
      ]
     },
     "metadata": {},
     "output_type": "display_data"
    },
    {
     "name": "stderr",
     "output_type": "stream",
     "text": [
      "\u001b[34m\u001b[1mwandb\u001b[0m: Agent Starting Run: u0bj1hgi with config:\n",
      "\u001b[34m\u001b[1mwandb\u001b[0m: \tbatch_size: 64\n",
      "\u001b[34m\u001b[1mwandb\u001b[0m: \tconv_layer_size: 64\n",
      "\u001b[34m\u001b[1mwandb\u001b[0m: \tdropout: 0.3\n",
      "\u001b[34m\u001b[1mwandb\u001b[0m: \tepochs: 15\n",
      "\u001b[34m\u001b[1mwandb\u001b[0m: \tlearning_rate: 3e-05\n"
     ]
    },
    {
     "data": {
      "text/html": [
       "wandb version 0.13.2 is available!  To upgrade, please run:\n",
       " $ pip install wandb --upgrade"
      ],
      "text/plain": [
       "<IPython.core.display.HTML object>"
      ]
     },
     "metadata": {},
     "output_type": "display_data"
    },
    {
     "data": {
      "text/html": [
       "Tracking run with wandb version 0.12.11"
      ],
      "text/plain": [
       "<IPython.core.display.HTML object>"
      ]
     },
     "metadata": {},
     "output_type": "display_data"
    },
    {
     "data": {
      "text/html": [
       "Run data is saved locally in <code>/Users/msf/GitHub/TensorFlow_MusicGenre_Classifier/wandb/run-20220829_215310-u0bj1hgi</code>"
      ],
      "text/plain": [
       "<IPython.core.display.HTML object>"
      ]
     },
     "metadata": {},
     "output_type": "display_data"
    },
    {
     "data": {
      "text/html": [
       "Syncing run <strong><a href=\"https://wandb.ai/msaintfelix/Sweeps-Genre-Classifier/runs/u0bj1hgi\" target=\"_blank\">different-sweep-61</a></strong> to <a href=\"https://wandb.ai/msaintfelix/Sweeps-Genre-Classifier\" target=\"_blank\">Weights & Biases</a> (<a href=\"https://wandb.me/run\" target=\"_blank\">docs</a>)<br/>Sweep page:  <a href=\"https://wandb.ai/msaintfelix/Sweeps-Genre-Classifier/sweeps/e7xdbkpy\" target=\"_blank\">https://wandb.ai/msaintfelix/Sweeps-Genre-Classifier/sweeps/e7xdbkpy</a>"
      ],
      "text/plain": [
       "<IPython.core.display.HTML object>"
      ]
     },
     "metadata": {},
     "output_type": "display_data"
    },
    {
     "name": "stdout",
     "output_type": "stream",
     "text": [
      "(9990, 125, 13)\n",
      "Model: \"sequential\"\n",
      "_________________________________________________________________\n",
      "Layer (type)                 Output Shape              Param #   \n",
      "=================================================================\n",
      "conv2d (Conv2D)              (None, 123, 11, 64)       640       \n",
      "_________________________________________________________________\n",
      "max_pooling2d (MaxPooling2D) (None, 62, 6, 64)         0         \n",
      "_________________________________________________________________\n",
      "batch_normalization (BatchNo (None, 62, 6, 64)         256       \n",
      "_________________________________________________________________\n",
      "conv2d_1 (Conv2D)            (None, 60, 4, 64)         36928     \n",
      "_________________________________________________________________\n",
      "max_pooling2d_1 (MaxPooling2 (None, 30, 2, 64)         0         \n",
      "_________________________________________________________________\n",
      "batch_normalization_1 (Batch (None, 30, 2, 64)         256       \n",
      "_________________________________________________________________\n",
      "conv2d_2 (Conv2D)            (None, 29, 1, 64)         16448     \n",
      "_________________________________________________________________\n",
      "max_pooling2d_2 (MaxPooling2 (None, 15, 1, 64)         0         \n",
      "_________________________________________________________________\n",
      "batch_normalization_2 (Batch (None, 15, 1, 64)         256       \n",
      "_________________________________________________________________\n",
      "dropout (Dropout)            (None, 15, 1, 64)         0         \n",
      "_________________________________________________________________\n",
      "flatten (Flatten)            (None, 960)               0         \n",
      "_________________________________________________________________\n",
      "dense (Dense)                (None, 64)                61504     \n",
      "_________________________________________________________________\n",
      "dense_1 (Dense)              (None, 10)                650       \n",
      "=================================================================\n",
      "Total params: 116,938\n",
      "Trainable params: 116,554\n",
      "Non-trainable params: 384\n",
      "_________________________________________________________________\n",
      "Epoch 1/15\n",
      "100/100 [==============================] - 14s 129ms/step - loss: 2.7697 - acc: 0.1491 - val_loss: 2.3378 - val_acc: 0.1822\n",
      "Epoch 2/15\n",
      "100/100 [==============================] - 13s 131ms/step - loss: 2.1825 - acc: 0.2835 - val_loss: 1.8116 - val_acc: 0.3689\n",
      "Epoch 3/15\n",
      "100/100 [==============================] - 13s 129ms/step - loss: 1.8816 - acc: 0.3643 - val_loss: 1.6185 - val_acc: 0.4259\n",
      "Epoch 4/15\n",
      "100/100 [==============================] - 13s 125ms/step - loss: 1.7520 - acc: 0.3961 - val_loss: 1.5041 - val_acc: 0.4665\n",
      "Epoch 5/15\n",
      "100/100 [==============================] - 12s 123ms/step - loss: 1.5812 - acc: 0.4497 - val_loss: 1.4208 - val_acc: 0.4990\n",
      "Epoch 6/15\n",
      "100/100 [==============================] - 12s 124ms/step - loss: 1.4986 - acc: 0.4645 - val_loss: 1.3593 - val_acc: 0.5215\n",
      "Epoch 7/15\n",
      "100/100 [==============================] - 13s 125ms/step - loss: 1.4164 - acc: 0.4984 - val_loss: 1.3105 - val_acc: 0.5370\n",
      "Epoch 8/15\n",
      "100/100 [==============================] - 12s 124ms/step - loss: 1.3570 - acc: 0.5270 - val_loss: 1.2738 - val_acc: 0.5551\n",
      "Epoch 9/15\n",
      "100/100 [==============================] - 12s 124ms/step - loss: 1.3214 - acc: 0.5358 - val_loss: 1.2367 - val_acc: 0.5681\n",
      "Epoch 10/15\n",
      "100/100 [==============================] - 13s 125ms/step - loss: 1.2837 - acc: 0.5451 - val_loss: 1.2115 - val_acc: 0.5801\n",
      "Epoch 11/15\n",
      "100/100 [==============================] - 13s 126ms/step - loss: 1.2256 - acc: 0.5578 - val_loss: 1.1861 - val_acc: 0.5891\n",
      "Epoch 12/15\n",
      "100/100 [==============================] - 13s 125ms/step - loss: 1.1954 - acc: 0.5837 - val_loss: 1.1638 - val_acc: 0.5961\n",
      "Epoch 13/15\n",
      "100/100 [==============================] - 13s 126ms/step - loss: 1.1802 - acc: 0.5770 - val_loss: 1.1423 - val_acc: 0.6001\n",
      "Epoch 14/15\n",
      "100/100 [==============================] - 13s 126ms/step - loss: 1.1108 - acc: 0.6018 - val_loss: 1.1232 - val_acc: 0.6131\n",
      "Epoch 15/15\n",
      "100/100 [==============================] - 13s 127ms/step - loss: 1.0948 - acc: 0.6042 - val_loss: 1.1049 - val_acc: 0.6216\n",
      "\n",
      "---Now testing the model for one audio file---\n",
      "The model predicts: rock, and ground truth is: rock.\n",
      "\n",
      "\n"
     ]
    },
    {
     "data": {
      "text/html": [
       "Waiting for W&B process to finish... <strong style=\"color:green\">(success).</strong>"
      ],
      "text/plain": [
       "<IPython.core.display.HTML object>"
      ]
     },
     "metadata": {},
     "output_type": "display_data"
    },
    {
     "data": {
      "application/vnd.jupyter.widget-view+json": {
       "model_id": "",
       "version_major": 2,
       "version_minor": 0
      },
      "text/plain": [
       "VBox(children=(Label(value='0.965 MB of 0.965 MB uploaded (0.000 MB deduped)\\r'), FloatProgress(value=1.0, max…"
      ]
     },
     "metadata": {},
     "output_type": "display_data"
    },
    {
     "data": {
      "text/html": [
       "<style>\n",
       "    table.wandb td:nth-child(1) { padding: 0 10px; text-align: right }\n",
       "    .wandb-row { display: flex; flex-direction: row; flex-wrap: wrap; width: 100% }\n",
       "    .wandb-col { display: flex; flex-direction: column; flex-basis: 100%; flex: 1; padding: 10px; }\n",
       "    </style>\n",
       "<div class=\"wandb-row\"><div class=\"wandb-col\"><h3>Run history:</h3><br/><table class=\"wandb\"><tr><td>acc</td><td>▁▃▄▅▅▆▆▇▇▇▇████</td></tr><tr><td>epoch</td><td>▁▁▂▃▃▃▄▅▅▅▆▇▇▇█</td></tr><tr><td>loss</td><td>█▆▅▄▃▃▃▂▂▂▂▁▁▁▁</td></tr><tr><td>val_acc</td><td>▁▄▅▆▆▆▇▇▇▇▇████</td></tr><tr><td>val_loss</td><td>█▅▄▃▃▂▂▂▂▂▁▁▁▁▁</td></tr></table><br/></div><div class=\"wandb-col\"><h3>Run summary:</h3><br/><table class=\"wandb\"><tr><td>acc</td><td>0.603</td></tr><tr><td>best_epoch</td><td>14</td></tr><tr><td>best_val_loss</td><td>1.10494</td></tr><tr><td>epoch</td><td>14</td></tr><tr><td>loss</td><td>1.10686</td></tr><tr><td>val_acc</td><td>0.62162</td></tr><tr><td>val_loss</td><td>1.10494</td></tr></table><br/></div></div>"
      ],
      "text/plain": [
       "<IPython.core.display.HTML object>"
      ]
     },
     "metadata": {},
     "output_type": "display_data"
    },
    {
     "data": {
      "text/html": [
       "Synced <strong style=\"color:#cdcd00\">different-sweep-61</strong>: <a href=\"https://wandb.ai/msaintfelix/Sweeps-Genre-Classifier/runs/u0bj1hgi\" target=\"_blank\">https://wandb.ai/msaintfelix/Sweeps-Genre-Classifier/runs/u0bj1hgi</a><br/>Synced 6 W&B file(s), 1 media file(s), 0 artifact file(s) and 1 other file(s)"
      ],
      "text/plain": [
       "<IPython.core.display.HTML object>"
      ]
     },
     "metadata": {},
     "output_type": "display_data"
    },
    {
     "data": {
      "text/html": [
       "Find logs at: <code>./wandb/run-20220829_215310-u0bj1hgi/logs</code>"
      ],
      "text/plain": [
       "<IPython.core.display.HTML object>"
      ]
     },
     "metadata": {},
     "output_type": "display_data"
    },
    {
     "name": "stderr",
     "output_type": "stream",
     "text": [
      "\u001b[34m\u001b[1mwandb\u001b[0m: Agent Starting Run: 2ig4savg with config:\n",
      "\u001b[34m\u001b[1mwandb\u001b[0m: \tbatch_size: 64\n",
      "\u001b[34m\u001b[1mwandb\u001b[0m: \tconv_layer_size: 32\n",
      "\u001b[34m\u001b[1mwandb\u001b[0m: \tdropout: 0.3\n",
      "\u001b[34m\u001b[1mwandb\u001b[0m: \tepochs: 5\n",
      "\u001b[34m\u001b[1mwandb\u001b[0m: \tlearning_rate: 0.001\n"
     ]
    },
    {
     "data": {
      "text/html": [
       "wandb version 0.13.2 is available!  To upgrade, please run:\n",
       " $ pip install wandb --upgrade"
      ],
      "text/plain": [
       "<IPython.core.display.HTML object>"
      ]
     },
     "metadata": {},
     "output_type": "display_data"
    },
    {
     "data": {
      "text/html": [
       "Tracking run with wandb version 0.12.11"
      ],
      "text/plain": [
       "<IPython.core.display.HTML object>"
      ]
     },
     "metadata": {},
     "output_type": "display_data"
    },
    {
     "data": {
      "text/html": [
       "Run data is saved locally in <code>/Users/msf/GitHub/TensorFlow_MusicGenre_Classifier/wandb/run-20220829_215650-2ig4savg</code>"
      ],
      "text/plain": [
       "<IPython.core.display.HTML object>"
      ]
     },
     "metadata": {},
     "output_type": "display_data"
    },
    {
     "data": {
      "text/html": [
       "Syncing run <strong><a href=\"https://wandb.ai/msaintfelix/Sweeps-Genre-Classifier/runs/2ig4savg\" target=\"_blank\">quiet-sweep-62</a></strong> to <a href=\"https://wandb.ai/msaintfelix/Sweeps-Genre-Classifier\" target=\"_blank\">Weights & Biases</a> (<a href=\"https://wandb.me/run\" target=\"_blank\">docs</a>)<br/>Sweep page:  <a href=\"https://wandb.ai/msaintfelix/Sweeps-Genre-Classifier/sweeps/e7xdbkpy\" target=\"_blank\">https://wandb.ai/msaintfelix/Sweeps-Genre-Classifier/sweeps/e7xdbkpy</a>"
      ],
      "text/plain": [
       "<IPython.core.display.HTML object>"
      ]
     },
     "metadata": {},
     "output_type": "display_data"
    },
    {
     "name": "stdout",
     "output_type": "stream",
     "text": [
      "(9990, 125, 13)\n",
      "Model: \"sequential\"\n",
      "_________________________________________________________________\n",
      "Layer (type)                 Output Shape              Param #   \n",
      "=================================================================\n",
      "conv2d (Conv2D)              (None, 123, 11, 32)       320       \n",
      "_________________________________________________________________\n",
      "max_pooling2d (MaxPooling2D) (None, 62, 6, 32)         0         \n",
      "_________________________________________________________________\n",
      "batch_normalization (BatchNo (None, 62, 6, 32)         128       \n",
      "_________________________________________________________________\n",
      "conv2d_1 (Conv2D)            (None, 60, 4, 32)         9248      \n",
      "_________________________________________________________________\n",
      "max_pooling2d_1 (MaxPooling2 (None, 30, 2, 32)         0         \n",
      "_________________________________________________________________\n",
      "batch_normalization_1 (Batch (None, 30, 2, 32)         128       \n",
      "_________________________________________________________________\n",
      "conv2d_2 (Conv2D)            (None, 29, 1, 32)         4128      \n",
      "_________________________________________________________________\n",
      "max_pooling2d_2 (MaxPooling2 (None, 15, 1, 32)         0         \n",
      "_________________________________________________________________\n",
      "batch_normalization_2 (Batch (None, 15, 1, 32)         128       \n",
      "_________________________________________________________________\n",
      "dropout (Dropout)            (None, 15, 1, 32)         0         \n",
      "_________________________________________________________________\n",
      "flatten (Flatten)            (None, 480)               0         \n",
      "_________________________________________________________________\n",
      "dense (Dense)                (None, 64)                30784     \n",
      "_________________________________________________________________\n",
      "dense_1 (Dense)              (None, 10)                650       \n",
      "=================================================================\n",
      "Total params: 45,514\n",
      "Trainable params: 45,322\n",
      "Non-trainable params: 192\n",
      "_________________________________________________________________\n",
      "Epoch 1/5\n",
      "100/100 [==============================] - 8s 75ms/step - loss: 1.8621 - acc: 0.3498 - val_loss: 1.7723 - val_acc: 0.3659\n",
      "Epoch 2/5\n",
      "100/100 [==============================] - 7s 74ms/step - loss: 1.1782 - acc: 0.5761 - val_loss: 1.2947 - val_acc: 0.5285\n",
      "Epoch 3/5\n",
      "100/100 [==============================] - 7s 74ms/step - loss: 0.9845 - acc: 0.6442 - val_loss: 1.0071 - val_acc: 0.6416\n",
      "Epoch 4/5\n",
      "100/100 [==============================] - 7s 74ms/step - loss: 0.8494 - acc: 0.6950 - val_loss: 0.8943 - val_acc: 0.6837\n",
      "Epoch 5/5\n",
      "100/100 [==============================] - 7s 74ms/step - loss: 0.7810 - acc: 0.7226 - val_loss: 0.8619 - val_acc: 0.7092\n",
      "\n",
      "---Now testing the model for one audio file---\n",
      "The model predicts: disco, and ground truth is: disco.\n",
      "\n",
      "\n"
     ]
    },
    {
     "data": {
      "text/html": [
       "Waiting for W&B process to finish... <strong style=\"color:green\">(success).</strong>"
      ],
      "text/plain": [
       "<IPython.core.display.HTML object>"
      ]
     },
     "metadata": {},
     "output_type": "display_data"
    },
    {
     "data": {
      "application/vnd.jupyter.widget-view+json": {
       "model_id": "",
       "version_major": 2,
       "version_minor": 0
      },
      "text/plain": [
       "VBox(children=(Label(value='0.419 MB of 0.419 MB uploaded (0.000 MB deduped)\\r'), FloatProgress(value=1.0, max…"
      ]
     },
     "metadata": {},
     "output_type": "display_data"
    },
    {
     "data": {
      "text/html": [
       "<style>\n",
       "    table.wandb td:nth-child(1) { padding: 0 10px; text-align: right }\n",
       "    .wandb-row { display: flex; flex-direction: row; flex-wrap: wrap; width: 100% }\n",
       "    .wandb-col { display: flex; flex-direction: column; flex-basis: 100%; flex: 1; padding: 10px; }\n",
       "    </style>\n",
       "<div class=\"wandb-row\"><div class=\"wandb-col\"><h3>Run history:</h3><br/><table class=\"wandb\"><tr><td>acc</td><td>▁▅▆▇█</td></tr><tr><td>epoch</td><td>▁▃▅▆█</td></tr><tr><td>loss</td><td>█▄▃▂▁</td></tr><tr><td>val_acc</td><td>▁▄▇▇█</td></tr><tr><td>val_loss</td><td>█▄▂▁▁</td></tr></table><br/></div><div class=\"wandb-col\"><h3>Run summary:</h3><br/><table class=\"wandb\"><tr><td>acc</td><td>0.72908</td></tr><tr><td>best_epoch</td><td>4</td></tr><tr><td>best_val_loss</td><td>0.86185</td></tr><tr><td>epoch</td><td>4</td></tr><tr><td>loss</td><td>0.76699</td></tr><tr><td>val_acc</td><td>0.70921</td></tr><tr><td>val_loss</td><td>0.86185</td></tr></table><br/></div></div>"
      ],
      "text/plain": [
       "<IPython.core.display.HTML object>"
      ]
     },
     "metadata": {},
     "output_type": "display_data"
    },
    {
     "data": {
      "text/html": [
       "Synced <strong style=\"color:#cdcd00\">quiet-sweep-62</strong>: <a href=\"https://wandb.ai/msaintfelix/Sweeps-Genre-Classifier/runs/2ig4savg\" target=\"_blank\">https://wandb.ai/msaintfelix/Sweeps-Genre-Classifier/runs/2ig4savg</a><br/>Synced 6 W&B file(s), 1 media file(s), 0 artifact file(s) and 1 other file(s)"
      ],
      "text/plain": [
       "<IPython.core.display.HTML object>"
      ]
     },
     "metadata": {},
     "output_type": "display_data"
    },
    {
     "data": {
      "text/html": [
       "Find logs at: <code>./wandb/run-20220829_215650-2ig4savg/logs</code>"
      ],
      "text/plain": [
       "<IPython.core.display.HTML object>"
      ]
     },
     "metadata": {},
     "output_type": "display_data"
    },
    {
     "name": "stderr",
     "output_type": "stream",
     "text": [
      "\u001b[34m\u001b[1mwandb\u001b[0m: Agent Starting Run: 413h8j25 with config:\n",
      "\u001b[34m\u001b[1mwandb\u001b[0m: \tbatch_size: 64\n",
      "\u001b[34m\u001b[1mwandb\u001b[0m: \tconv_layer_size: 32\n",
      "\u001b[34m\u001b[1mwandb\u001b[0m: \tdropout: 0.4\n",
      "\u001b[34m\u001b[1mwandb\u001b[0m: \tepochs: 10\n",
      "\u001b[34m\u001b[1mwandb\u001b[0m: \tlearning_rate: 3e-05\n"
     ]
    },
    {
     "data": {
      "text/html": [
       "wandb version 0.13.2 is available!  To upgrade, please run:\n",
       " $ pip install wandb --upgrade"
      ],
      "text/plain": [
       "<IPython.core.display.HTML object>"
      ]
     },
     "metadata": {},
     "output_type": "display_data"
    },
    {
     "data": {
      "text/html": [
       "Tracking run with wandb version 0.12.11"
      ],
      "text/plain": [
       "<IPython.core.display.HTML object>"
      ]
     },
     "metadata": {},
     "output_type": "display_data"
    },
    {
     "data": {
      "text/html": [
       "Run data is saved locally in <code>/Users/msf/GitHub/TensorFlow_MusicGenre_Classifier/wandb/run-20220829_215756-413h8j25</code>"
      ],
      "text/plain": [
       "<IPython.core.display.HTML object>"
      ]
     },
     "metadata": {},
     "output_type": "display_data"
    },
    {
     "data": {
      "text/html": [
       "Syncing run <strong><a href=\"https://wandb.ai/msaintfelix/Sweeps-Genre-Classifier/runs/413h8j25\" target=\"_blank\">royal-sweep-63</a></strong> to <a href=\"https://wandb.ai/msaintfelix/Sweeps-Genre-Classifier\" target=\"_blank\">Weights & Biases</a> (<a href=\"https://wandb.me/run\" target=\"_blank\">docs</a>)<br/>Sweep page:  <a href=\"https://wandb.ai/msaintfelix/Sweeps-Genre-Classifier/sweeps/e7xdbkpy\" target=\"_blank\">https://wandb.ai/msaintfelix/Sweeps-Genre-Classifier/sweeps/e7xdbkpy</a>"
      ],
      "text/plain": [
       "<IPython.core.display.HTML object>"
      ]
     },
     "metadata": {},
     "output_type": "display_data"
    },
    {
     "name": "stdout",
     "output_type": "stream",
     "text": [
      "(9990, 125, 13)\n",
      "Model: \"sequential\"\n",
      "_________________________________________________________________\n",
      "Layer (type)                 Output Shape              Param #   \n",
      "=================================================================\n",
      "conv2d (Conv2D)              (None, 123, 11, 32)       320       \n",
      "_________________________________________________________________\n",
      "max_pooling2d (MaxPooling2D) (None, 62, 6, 32)         0         \n",
      "_________________________________________________________________\n",
      "batch_normalization (BatchNo (None, 62, 6, 32)         128       \n",
      "_________________________________________________________________\n",
      "conv2d_1 (Conv2D)            (None, 60, 4, 32)         9248      \n",
      "_________________________________________________________________\n",
      "max_pooling2d_1 (MaxPooling2 (None, 30, 2, 32)         0         \n",
      "_________________________________________________________________\n",
      "batch_normalization_1 (Batch (None, 30, 2, 32)         128       \n",
      "_________________________________________________________________\n",
      "conv2d_2 (Conv2D)            (None, 29, 1, 32)         4128      \n",
      "_________________________________________________________________\n",
      "max_pooling2d_2 (MaxPooling2 (None, 15, 1, 32)         0         \n",
      "_________________________________________________________________\n",
      "batch_normalization_2 (Batch (None, 15, 1, 32)         128       \n",
      "_________________________________________________________________\n",
      "dropout (Dropout)            (None, 15, 1, 32)         0         \n",
      "_________________________________________________________________\n",
      "flatten (Flatten)            (None, 480)               0         \n",
      "_________________________________________________________________\n",
      "dense (Dense)                (None, 64)                30784     \n",
      "_________________________________________________________________\n",
      "dense_1 (Dense)              (None, 10)                650       \n",
      "=================================================================\n",
      "Total params: 45,514\n",
      "Trainable params: 45,322\n",
      "Non-trainable params: 192\n",
      "_________________________________________________________________\n",
      "Epoch 1/10\n",
      "100/100 [==============================] - 8s 71ms/step - loss: 3.2136 - acc: 0.1033 - val_loss: 2.4795 - val_acc: 0.1191\n",
      "Epoch 2/10\n",
      "100/100 [==============================] - 7s 75ms/step - loss: 2.7368 - acc: 0.1435 - val_loss: 2.1493 - val_acc: 0.2342\n",
      "Epoch 3/10\n",
      "100/100 [==============================] - 8s 76ms/step - loss: 2.4374 - acc: 0.2045 - val_loss: 1.9957 - val_acc: 0.2988\n",
      "Epoch 4/10\n",
      "100/100 [==============================] - 8s 76ms/step - loss: 2.2603 - acc: 0.2558 - val_loss: 1.8746 - val_acc: 0.3348\n",
      "Epoch 5/10\n",
      "100/100 [==============================] - 8s 76ms/step - loss: 2.0832 - acc: 0.3046 - val_loss: 1.7790 - val_acc: 0.3619\n",
      "Epoch 6/10\n",
      "100/100 [==============================] - 8s 75ms/step - loss: 1.9629 - acc: 0.3290 - val_loss: 1.6950 - val_acc: 0.3839\n",
      "Epoch 7/10\n",
      "100/100 [==============================] - 7s 71ms/step - loss: 1.8474 - acc: 0.3579 - val_loss: 1.6182 - val_acc: 0.4039\n",
      "Epoch 8/10\n",
      "100/100 [==============================] - 7s 71ms/step - loss: 1.7935 - acc: 0.3665 - val_loss: 1.5503 - val_acc: 0.4274\n",
      "Epoch 9/10\n",
      "100/100 [==============================] - 7s 71ms/step - loss: 1.7518 - acc: 0.3787 - val_loss: 1.5101 - val_acc: 0.4479\n",
      "Epoch 10/10\n",
      "100/100 [==============================] - 7s 71ms/step - loss: 1.6583 - acc: 0.4092 - val_loss: 1.4612 - val_acc: 0.4700\n",
      "\n",
      "---Now testing the model for one audio file---\n",
      "The model predicts: jazz, and ground truth is: rock.\n",
      "\n",
      "\n"
     ]
    },
    {
     "data": {
      "text/html": [
       "Waiting for W&B process to finish... <strong style=\"color:green\">(success).</strong>"
      ],
      "text/plain": [
       "<IPython.core.display.HTML object>"
      ]
     },
     "metadata": {},
     "output_type": "display_data"
    },
    {
     "data": {
      "application/vnd.jupyter.widget-view+json": {
       "model_id": "",
       "version_major": 2,
       "version_minor": 0
      },
      "text/plain": [
       "VBox(children=(Label(value='0.419 MB of 0.419 MB uploaded (0.000 MB deduped)\\r'), FloatProgress(value=1.0, max…"
      ]
     },
     "metadata": {},
     "output_type": "display_data"
    },
    {
     "data": {
      "text/html": [
       "<style>\n",
       "    table.wandb td:nth-child(1) { padding: 0 10px; text-align: right }\n",
       "    .wandb-row { display: flex; flex-direction: row; flex-wrap: wrap; width: 100% }\n",
       "    .wandb-col { display: flex; flex-direction: column; flex-basis: 100%; flex: 1; padding: 10px; }\n",
       "    </style>\n",
       "<div class=\"wandb-row\"><div class=\"wandb-col\"><h3>Run history:</h3><br/><table class=\"wandb\"><tr><td>acc</td><td>▁▂▃▅▆▆▇▇██</td></tr><tr><td>epoch</td><td>▁▂▃▃▄▅▆▆▇█</td></tr><tr><td>loss</td><td>█▆▅▄▃▂▂▂▁▁</td></tr><tr><td>val_acc</td><td>▁▃▅▅▆▆▇▇██</td></tr><tr><td>val_loss</td><td>█▆▅▄▃▃▂▂▁▁</td></tr></table><br/></div><div class=\"wandb-col\"><h3>Run summary:</h3><br/><table class=\"wandb\"><tr><td>acc</td><td>0.40466</td></tr><tr><td>best_epoch</td><td>9</td></tr><tr><td>best_val_loss</td><td>1.46121</td></tr><tr><td>epoch</td><td>9</td></tr><tr><td>loss</td><td>1.67314</td></tr><tr><td>val_acc</td><td>0.46997</td></tr><tr><td>val_loss</td><td>1.46121</td></tr></table><br/></div></div>"
      ],
      "text/plain": [
       "<IPython.core.display.HTML object>"
      ]
     },
     "metadata": {},
     "output_type": "display_data"
    },
    {
     "data": {
      "text/html": [
       "Synced <strong style=\"color:#cdcd00\">royal-sweep-63</strong>: <a href=\"https://wandb.ai/msaintfelix/Sweeps-Genre-Classifier/runs/413h8j25\" target=\"_blank\">https://wandb.ai/msaintfelix/Sweeps-Genre-Classifier/runs/413h8j25</a><br/>Synced 6 W&B file(s), 1 media file(s), 0 artifact file(s) and 1 other file(s)"
      ],
      "text/plain": [
       "<IPython.core.display.HTML object>"
      ]
     },
     "metadata": {},
     "output_type": "display_data"
    },
    {
     "data": {
      "text/html": [
       "Find logs at: <code>./wandb/run-20220829_215756-413h8j25/logs</code>"
      ],
      "text/plain": [
       "<IPython.core.display.HTML object>"
      ]
     },
     "metadata": {},
     "output_type": "display_data"
    },
    {
     "name": "stderr",
     "output_type": "stream",
     "text": [
      "\u001b[34m\u001b[1mwandb\u001b[0m: Agent Starting Run: 3ag7sz19 with config:\n",
      "\u001b[34m\u001b[1mwandb\u001b[0m: \tbatch_size: 32\n",
      "\u001b[34m\u001b[1mwandb\u001b[0m: \tconv_layer_size: 64\n",
      "\u001b[34m\u001b[1mwandb\u001b[0m: \tdropout: 0.3\n",
      "\u001b[34m\u001b[1mwandb\u001b[0m: \tepochs: 5\n",
      "\u001b[34m\u001b[1mwandb\u001b[0m: \tlearning_rate: 1e-05\n"
     ]
    },
    {
     "data": {
      "text/html": [
       "wandb version 0.13.2 is available!  To upgrade, please run:\n",
       " $ pip install wandb --upgrade"
      ],
      "text/plain": [
       "<IPython.core.display.HTML object>"
      ]
     },
     "metadata": {},
     "output_type": "display_data"
    },
    {
     "data": {
      "text/html": [
       "Tracking run with wandb version 0.12.11"
      ],
      "text/plain": [
       "<IPython.core.display.HTML object>"
      ]
     },
     "metadata": {},
     "output_type": "display_data"
    },
    {
     "data": {
      "text/html": [
       "Run data is saved locally in <code>/Users/msf/GitHub/TensorFlow_MusicGenre_Classifier/wandb/run-20220829_215938-3ag7sz19</code>"
      ],
      "text/plain": [
       "<IPython.core.display.HTML object>"
      ]
     },
     "metadata": {},
     "output_type": "display_data"
    },
    {
     "data": {
      "text/html": [
       "Syncing run <strong><a href=\"https://wandb.ai/msaintfelix/Sweeps-Genre-Classifier/runs/3ag7sz19\" target=\"_blank\">copper-sweep-64</a></strong> to <a href=\"https://wandb.ai/msaintfelix/Sweeps-Genre-Classifier\" target=\"_blank\">Weights & Biases</a> (<a href=\"https://wandb.me/run\" target=\"_blank\">docs</a>)<br/>Sweep page:  <a href=\"https://wandb.ai/msaintfelix/Sweeps-Genre-Classifier/sweeps/e7xdbkpy\" target=\"_blank\">https://wandb.ai/msaintfelix/Sweeps-Genre-Classifier/sweeps/e7xdbkpy</a>"
      ],
      "text/plain": [
       "<IPython.core.display.HTML object>"
      ]
     },
     "metadata": {},
     "output_type": "display_data"
    },
    {
     "name": "stdout",
     "output_type": "stream",
     "text": [
      "(9990, 125, 13)\n",
      "Model: \"sequential\"\n",
      "_________________________________________________________________\n",
      "Layer (type)                 Output Shape              Param #   \n",
      "=================================================================\n",
      "conv2d (Conv2D)              (None, 123, 11, 64)       640       \n",
      "_________________________________________________________________\n",
      "max_pooling2d (MaxPooling2D) (None, 62, 6, 64)         0         \n",
      "_________________________________________________________________\n",
      "batch_normalization (BatchNo (None, 62, 6, 64)         256       \n",
      "_________________________________________________________________\n",
      "conv2d_1 (Conv2D)            (None, 60, 4, 64)         36928     \n",
      "_________________________________________________________________\n",
      "max_pooling2d_1 (MaxPooling2 (None, 30, 2, 64)         0         \n",
      "_________________________________________________________________\n",
      "batch_normalization_1 (Batch (None, 30, 2, 64)         256       \n",
      "_________________________________________________________________\n",
      "conv2d_2 (Conv2D)            (None, 29, 1, 64)         16448     \n",
      "_________________________________________________________________\n",
      "max_pooling2d_2 (MaxPooling2 (None, 15, 1, 64)         0         \n",
      "_________________________________________________________________\n",
      "batch_normalization_2 (Batch (None, 15, 1, 64)         256       \n",
      "_________________________________________________________________\n",
      "dropout (Dropout)            (None, 15, 1, 64)         0         \n",
      "_________________________________________________________________\n",
      "flatten (Flatten)            (None, 960)               0         \n",
      "_________________________________________________________________\n",
      "dense (Dense)                (None, 64)                61504     \n",
      "_________________________________________________________________\n",
      "dense_1 (Dense)              (None, 10)                650       \n",
      "=================================================================\n",
      "Total params: 116,938\n",
      "Trainable params: 116,554\n",
      "Non-trainable params: 384\n",
      "_________________________________________________________________\n",
      "Epoch 1/5\n",
      "200/200 [==============================] - 15s 72ms/step - loss: 2.9830 - acc: 0.0986 - val_loss: 2.2694 - val_acc: 0.1672\n",
      "Epoch 2/5\n",
      "200/200 [==============================] - 14s 72ms/step - loss: 2.4003 - acc: 0.1903 - val_loss: 1.9570 - val_acc: 0.3123\n",
      "Epoch 3/5\n",
      "200/200 [==============================] - 14s 71ms/step - loss: 2.0955 - acc: 0.2918 - val_loss: 1.8280 - val_acc: 0.3504\n",
      "Epoch 4/5\n",
      "200/200 [==============================] - 14s 72ms/step - loss: 1.9324 - acc: 0.3449 - val_loss: 1.7396 - val_acc: 0.3779\n",
      "Epoch 5/5\n",
      "200/200 [==============================] - 14s 72ms/step - loss: 1.8018 - acc: 0.3749 - val_loss: 1.6595 - val_acc: 0.4009\n",
      "\n",
      "---Now testing the model for one audio file---\n",
      "The model predicts: jazz, and ground truth is: jazz.\n",
      "\n",
      "\n"
     ]
    },
    {
     "data": {
      "text/html": [
       "Waiting for W&B process to finish... <strong style=\"color:green\">(success).</strong>"
      ],
      "text/plain": [
       "<IPython.core.display.HTML object>"
      ]
     },
     "metadata": {},
     "output_type": "display_data"
    },
    {
     "data": {
      "application/vnd.jupyter.widget-view+json": {
       "model_id": "",
       "version_major": 2,
       "version_minor": 0
      },
      "text/plain": [
       "VBox(children=(Label(value='0.965 MB of 0.965 MB uploaded (0.000 MB deduped)\\r'), FloatProgress(value=1.0, max…"
      ]
     },
     "metadata": {},
     "output_type": "display_data"
    },
    {
     "data": {
      "text/html": [
       "<style>\n",
       "    table.wandb td:nth-child(1) { padding: 0 10px; text-align: right }\n",
       "    .wandb-row { display: flex; flex-direction: row; flex-wrap: wrap; width: 100% }\n",
       "    .wandb-col { display: flex; flex-direction: column; flex-basis: 100%; flex: 1; padding: 10px; }\n",
       "    </style>\n",
       "<div class=\"wandb-row\"><div class=\"wandb-col\"><h3>Run history:</h3><br/><table class=\"wandb\"><tr><td>acc</td><td>▁▄▆▇█</td></tr><tr><td>epoch</td><td>▁▃▅▆█</td></tr><tr><td>loss</td><td>█▅▃▂▁</td></tr><tr><td>val_acc</td><td>▁▅▆▇█</td></tr><tr><td>val_loss</td><td>█▄▃▂▁</td></tr></table><br/></div><div class=\"wandb-col\"><h3>Run summary:</h3><br/><table class=\"wandb\"><tr><td>acc</td><td>0.37322</td></tr><tr><td>best_epoch</td><td>4</td></tr><tr><td>best_val_loss</td><td>1.65947</td></tr><tr><td>epoch</td><td>4</td></tr><tr><td>loss</td><td>1.81203</td></tr><tr><td>val_acc</td><td>0.4009</td></tr><tr><td>val_loss</td><td>1.65947</td></tr></table><br/></div></div>"
      ],
      "text/plain": [
       "<IPython.core.display.HTML object>"
      ]
     },
     "metadata": {},
     "output_type": "display_data"
    },
    {
     "data": {
      "text/html": [
       "Synced <strong style=\"color:#cdcd00\">copper-sweep-64</strong>: <a href=\"https://wandb.ai/msaintfelix/Sweeps-Genre-Classifier/runs/3ag7sz19\" target=\"_blank\">https://wandb.ai/msaintfelix/Sweeps-Genre-Classifier/runs/3ag7sz19</a><br/>Synced 6 W&B file(s), 1 media file(s), 0 artifact file(s) and 1 other file(s)"
      ],
      "text/plain": [
       "<IPython.core.display.HTML object>"
      ]
     },
     "metadata": {},
     "output_type": "display_data"
    },
    {
     "data": {
      "text/html": [
       "Find logs at: <code>./wandb/run-20220829_215938-3ag7sz19/logs</code>"
      ],
      "text/plain": [
       "<IPython.core.display.HTML object>"
      ]
     },
     "metadata": {},
     "output_type": "display_data"
    },
    {
     "name": "stderr",
     "output_type": "stream",
     "text": [
      "\u001b[34m\u001b[1mwandb\u001b[0m: Agent Starting Run: n0givt1o with config:\n",
      "\u001b[34m\u001b[1mwandb\u001b[0m: \tbatch_size: 64\n",
      "\u001b[34m\u001b[1mwandb\u001b[0m: \tconv_layer_size: 16\n",
      "\u001b[34m\u001b[1mwandb\u001b[0m: \tdropout: 0.3\n",
      "\u001b[34m\u001b[1mwandb\u001b[0m: \tepochs: 15\n",
      "\u001b[34m\u001b[1mwandb\u001b[0m: \tlearning_rate: 0.01\n"
     ]
    },
    {
     "data": {
      "text/html": [
       "wandb version 0.13.2 is available!  To upgrade, please run:\n",
       " $ pip install wandb --upgrade"
      ],
      "text/plain": [
       "<IPython.core.display.HTML object>"
      ]
     },
     "metadata": {},
     "output_type": "display_data"
    },
    {
     "data": {
      "text/html": [
       "Tracking run with wandb version 0.12.11"
      ],
      "text/plain": [
       "<IPython.core.display.HTML object>"
      ]
     },
     "metadata": {},
     "output_type": "display_data"
    },
    {
     "data": {
      "text/html": [
       "Run data is saved locally in <code>/Users/msf/GitHub/TensorFlow_MusicGenre_Classifier/wandb/run-20220829_220120-n0givt1o</code>"
      ],
      "text/plain": [
       "<IPython.core.display.HTML object>"
      ]
     },
     "metadata": {},
     "output_type": "display_data"
    },
    {
     "data": {
      "text/html": [
       "Syncing run <strong><a href=\"https://wandb.ai/msaintfelix/Sweeps-Genre-Classifier/runs/n0givt1o\" target=\"_blank\">rural-sweep-65</a></strong> to <a href=\"https://wandb.ai/msaintfelix/Sweeps-Genre-Classifier\" target=\"_blank\">Weights & Biases</a> (<a href=\"https://wandb.me/run\" target=\"_blank\">docs</a>)<br/>Sweep page:  <a href=\"https://wandb.ai/msaintfelix/Sweeps-Genre-Classifier/sweeps/e7xdbkpy\" target=\"_blank\">https://wandb.ai/msaintfelix/Sweeps-Genre-Classifier/sweeps/e7xdbkpy</a>"
      ],
      "text/plain": [
       "<IPython.core.display.HTML object>"
      ]
     },
     "metadata": {},
     "output_type": "display_data"
    },
    {
     "name": "stdout",
     "output_type": "stream",
     "text": [
      "(9990, 125, 13)\n",
      "Model: \"sequential\"\n",
      "_________________________________________________________________\n",
      "Layer (type)                 Output Shape              Param #   \n",
      "=================================================================\n",
      "conv2d (Conv2D)              (None, 123, 11, 16)       160       \n",
      "_________________________________________________________________\n",
      "max_pooling2d (MaxPooling2D) (None, 62, 6, 16)         0         \n",
      "_________________________________________________________________\n",
      "batch_normalization (BatchNo (None, 62, 6, 16)         64        \n",
      "_________________________________________________________________\n",
      "conv2d_1 (Conv2D)            (None, 60, 4, 16)         2320      \n",
      "_________________________________________________________________\n",
      "max_pooling2d_1 (MaxPooling2 (None, 30, 2, 16)         0         \n",
      "_________________________________________________________________\n",
      "batch_normalization_1 (Batch (None, 30, 2, 16)         64        \n",
      "_________________________________________________________________\n",
      "conv2d_2 (Conv2D)            (None, 29, 1, 16)         1040      \n",
      "_________________________________________________________________\n",
      "max_pooling2d_2 (MaxPooling2 (None, 15, 1, 16)         0         \n",
      "_________________________________________________________________\n",
      "batch_normalization_2 (Batch (None, 15, 1, 16)         64        \n",
      "_________________________________________________________________\n",
      "dropout (Dropout)            (None, 15, 1, 16)         0         \n",
      "_________________________________________________________________\n",
      "flatten (Flatten)            (None, 240)               0         \n",
      "_________________________________________________________________\n",
      "dense (Dense)                (None, 64)                15424     \n",
      "_________________________________________________________________\n",
      "dense_1 (Dense)              (None, 10)                650       \n",
      "=================================================================\n",
      "Total params: 19,786\n",
      "Trainable params: 19,690\n",
      "Non-trainable params: 96\n",
      "_________________________________________________________________\n",
      "Epoch 1/15\n",
      "100/100 [==============================] - 5s 46ms/step - loss: 2.1632 - acc: 0.3169 - val_loss: 5.0274 - val_acc: 0.3043\n",
      "Epoch 2/15\n",
      "100/100 [==============================] - 4s 43ms/step - loss: 1.3516 - acc: 0.5070 - val_loss: 4.2874 - val_acc: 0.3609\n",
      "Epoch 3/15\n",
      "100/100 [==============================] - 4s 44ms/step - loss: 1.1919 - acc: 0.5586 - val_loss: 2.8257 - val_acc: 0.4119\n",
      "Epoch 4/15\n",
      "100/100 [==============================] - 5s 45ms/step - loss: 1.0812 - acc: 0.6065 - val_loss: 1.6343 - val_acc: 0.5270\n",
      "Epoch 5/15\n",
      "100/100 [==============================] - 5s 46ms/step - loss: 1.0193 - acc: 0.6247 - val_loss: 1.8548 - val_acc: 0.4895\n",
      "Epoch 6/15\n",
      "100/100 [==============================] - 5s 46ms/step - loss: 0.9633 - acc: 0.6560 - val_loss: 1.3815 - val_acc: 0.5971\n",
      "Epoch 7/15\n",
      "100/100 [==============================] - 5s 46ms/step - loss: 0.9699 - acc: 0.6557 - val_loss: 1.5959 - val_acc: 0.5290\n",
      "Epoch 8/15\n",
      "100/100 [==============================] - 5s 48ms/step - loss: 0.9213 - acc: 0.6801 - val_loss: 1.2657 - val_acc: 0.5866\n",
      "Epoch 9/15\n",
      "100/100 [==============================] - 4s 44ms/step - loss: 0.8740 - acc: 0.6835 - val_loss: 1.0390 - val_acc: 0.6461\n",
      "Epoch 10/15\n",
      "100/100 [==============================] - 4s 44ms/step - loss: 0.8433 - acc: 0.7031 - val_loss: 1.6234 - val_acc: 0.5445\n",
      "Epoch 11/15\n",
      "100/100 [==============================] - 4s 44ms/step - loss: 0.8167 - acc: 0.7096 - val_loss: 1.3456 - val_acc: 0.5906\n",
      "Epoch 12/15\n",
      "100/100 [==============================] - 4s 44ms/step - loss: 0.7811 - acc: 0.7195 - val_loss: 1.4154 - val_acc: 0.6296\n",
      "Epoch 13/15\n",
      "100/100 [==============================] - 4s 44ms/step - loss: 0.7571 - acc: 0.7290 - val_loss: 1.2966 - val_acc: 0.6211\n",
      "Epoch 14/15\n",
      "100/100 [==============================] - 4s 44ms/step - loss: 0.7481 - acc: 0.7310 - val_loss: 1.4006 - val_acc: 0.6011\n",
      "Epoch 15/15\n",
      "100/100 [==============================] - 4s 44ms/step - loss: 0.7212 - acc: 0.7473 - val_loss: 1.1036 - val_acc: 0.6411\n",
      "\n",
      "---Now testing the model for one audio file---\n",
      "The model predicts: blues, and ground truth is: metal.\n",
      "\n",
      "\n"
     ]
    },
    {
     "data": {
      "text/html": [
       "Waiting for W&B process to finish... <strong style=\"color:green\">(success).</strong>"
      ],
      "text/plain": [
       "<IPython.core.display.HTML object>"
      ]
     },
     "metadata": {},
     "output_type": "display_data"
    },
    {
     "data": {
      "application/vnd.jupyter.widget-view+json": {
       "model_id": "",
       "version_major": 2,
       "version_minor": 0
      },
      "text/plain": [
       "VBox(children=(Label(value='0.224 MB of 0.224 MB uploaded (0.000 MB deduped)\\r'), FloatProgress(value=1.0, max…"
      ]
     },
     "metadata": {},
     "output_type": "display_data"
    },
    {
     "data": {
      "text/html": [
       "<style>\n",
       "    table.wandb td:nth-child(1) { padding: 0 10px; text-align: right }\n",
       "    .wandb-row { display: flex; flex-direction: row; flex-wrap: wrap; width: 100% }\n",
       "    .wandb-col { display: flex; flex-direction: column; flex-basis: 100%; flex: 1; padding: 10px; }\n",
       "    </style>\n",
       "<div class=\"wandb-row\"><div class=\"wandb-col\"><h3>Run history:</h3><br/><table class=\"wandb\"><tr><td>acc</td><td>▁▄▅▅▆▆▇▇▇▇▇████</td></tr><tr><td>epoch</td><td>▁▁▂▃▃▃▄▅▅▅▆▇▇▇█</td></tr><tr><td>loss</td><td>█▅▄▃▃▃▂▂▂▂▁▁▁▁▁</td></tr><tr><td>val_acc</td><td>▁▂▃▆▅▇▆▇█▆▇█▇▇█</td></tr><tr><td>val_loss</td><td>█▇▄▂▂▂▂▁▁▂▂▂▁▂▁</td></tr></table><br/></div><div class=\"wandb-col\"><h3>Run summary:</h3><br/><table class=\"wandb\"><tr><td>acc</td><td>0.73315</td></tr><tr><td>best_epoch</td><td>8</td></tr><tr><td>best_val_loss</td><td>1.03902</td></tr><tr><td>epoch</td><td>14</td></tr><tr><td>loss</td><td>0.75285</td></tr><tr><td>val_acc</td><td>0.64114</td></tr><tr><td>val_loss</td><td>1.10364</td></tr></table><br/></div></div>"
      ],
      "text/plain": [
       "<IPython.core.display.HTML object>"
      ]
     },
     "metadata": {},
     "output_type": "display_data"
    },
    {
     "data": {
      "text/html": [
       "Synced <strong style=\"color:#cdcd00\">rural-sweep-65</strong>: <a href=\"https://wandb.ai/msaintfelix/Sweeps-Genre-Classifier/runs/n0givt1o\" target=\"_blank\">https://wandb.ai/msaintfelix/Sweeps-Genre-Classifier/runs/n0givt1o</a><br/>Synced 6 W&B file(s), 1 media file(s), 0 artifact file(s) and 1 other file(s)"
      ],
      "text/plain": [
       "<IPython.core.display.HTML object>"
      ]
     },
     "metadata": {},
     "output_type": "display_data"
    },
    {
     "data": {
      "text/html": [
       "Find logs at: <code>./wandb/run-20220829_220120-n0givt1o/logs</code>"
      ],
      "text/plain": [
       "<IPython.core.display.HTML object>"
      ]
     },
     "metadata": {},
     "output_type": "display_data"
    },
    {
     "name": "stderr",
     "output_type": "stream",
     "text": [
      "\u001b[34m\u001b[1mwandb\u001b[0m: Agent Starting Run: xe9sbkks with config:\n",
      "\u001b[34m\u001b[1mwandb\u001b[0m: \tbatch_size: 64\n",
      "\u001b[34m\u001b[1mwandb\u001b[0m: \tconv_layer_size: 32\n",
      "\u001b[34m\u001b[1mwandb\u001b[0m: \tdropout: 0.3\n",
      "\u001b[34m\u001b[1mwandb\u001b[0m: \tepochs: 15\n",
      "\u001b[34m\u001b[1mwandb\u001b[0m: \tlearning_rate: 0.001\n"
     ]
    },
    {
     "data": {
      "text/html": [
       "wandb version 0.13.2 is available!  To upgrade, please run:\n",
       " $ pip install wandb --upgrade"
      ],
      "text/plain": [
       "<IPython.core.display.HTML object>"
      ]
     },
     "metadata": {},
     "output_type": "display_data"
    },
    {
     "data": {
      "text/html": [
       "Tracking run with wandb version 0.12.11"
      ],
      "text/plain": [
       "<IPython.core.display.HTML object>"
      ]
     },
     "metadata": {},
     "output_type": "display_data"
    },
    {
     "data": {
      "text/html": [
       "Run data is saved locally in <code>/Users/msf/GitHub/TensorFlow_MusicGenre_Classifier/wandb/run-20220829_220257-xe9sbkks</code>"
      ],
      "text/plain": [
       "<IPython.core.display.HTML object>"
      ]
     },
     "metadata": {},
     "output_type": "display_data"
    },
    {
     "data": {
      "text/html": [
       "Syncing run <strong><a href=\"https://wandb.ai/msaintfelix/Sweeps-Genre-Classifier/runs/xe9sbkks\" target=\"_blank\">robust-sweep-66</a></strong> to <a href=\"https://wandb.ai/msaintfelix/Sweeps-Genre-Classifier\" target=\"_blank\">Weights & Biases</a> (<a href=\"https://wandb.me/run\" target=\"_blank\">docs</a>)<br/>Sweep page:  <a href=\"https://wandb.ai/msaintfelix/Sweeps-Genre-Classifier/sweeps/e7xdbkpy\" target=\"_blank\">https://wandb.ai/msaintfelix/Sweeps-Genre-Classifier/sweeps/e7xdbkpy</a>"
      ],
      "text/plain": [
       "<IPython.core.display.HTML object>"
      ]
     },
     "metadata": {},
     "output_type": "display_data"
    },
    {
     "name": "stdout",
     "output_type": "stream",
     "text": [
      "(9990, 125, 13)\n",
      "Model: \"sequential\"\n",
      "_________________________________________________________________\n",
      "Layer (type)                 Output Shape              Param #   \n",
      "=================================================================\n",
      "conv2d (Conv2D)              (None, 123, 11, 32)       320       \n",
      "_________________________________________________________________\n",
      "max_pooling2d (MaxPooling2D) (None, 62, 6, 32)         0         \n",
      "_________________________________________________________________\n",
      "batch_normalization (BatchNo (None, 62, 6, 32)         128       \n",
      "_________________________________________________________________\n",
      "conv2d_1 (Conv2D)            (None, 60, 4, 32)         9248      \n",
      "_________________________________________________________________\n",
      "max_pooling2d_1 (MaxPooling2 (None, 30, 2, 32)         0         \n",
      "_________________________________________________________________\n",
      "batch_normalization_1 (Batch (None, 30, 2, 32)         128       \n",
      "_________________________________________________________________\n",
      "conv2d_2 (Conv2D)            (None, 29, 1, 32)         4128      \n",
      "_________________________________________________________________\n",
      "max_pooling2d_2 (MaxPooling2 (None, 15, 1, 32)         0         \n",
      "_________________________________________________________________\n",
      "batch_normalization_2 (Batch (None, 15, 1, 32)         128       \n",
      "_________________________________________________________________\n",
      "dropout (Dropout)            (None, 15, 1, 32)         0         \n",
      "_________________________________________________________________\n",
      "flatten (Flatten)            (None, 480)               0         \n",
      "_________________________________________________________________\n",
      "dense (Dense)                (None, 64)                30784     \n",
      "_________________________________________________________________\n",
      "dense_1 (Dense)              (None, 10)                650       \n",
      "=================================================================\n",
      "Total params: 45,514\n",
      "Trainable params: 45,322\n",
      "Non-trainable params: 192\n",
      "_________________________________________________________________\n",
      "Epoch 1/15\n",
      "100/100 [==============================] - 8s 73ms/step - loss: 1.9387 - acc: 0.3535 - val_loss: 1.9796 - val_acc: 0.3273\n",
      "Epoch 2/15\n",
      "100/100 [==============================] - 7s 73ms/step - loss: 1.1861 - acc: 0.5770 - val_loss: 1.2211 - val_acc: 0.5490\n",
      "Epoch 3/15\n",
      "100/100 [==============================] - 7s 72ms/step - loss: 0.9938 - acc: 0.6423 - val_loss: 1.2550 - val_acc: 0.5641\n",
      "Epoch 4/15\n",
      "100/100 [==============================] - 7s 74ms/step - loss: 0.8913 - acc: 0.6916 - val_loss: 0.8445 - val_acc: 0.7122\n",
      "Epoch 5/15\n",
      "100/100 [==============================] - 7s 72ms/step - loss: 0.7773 - acc: 0.7319 - val_loss: 0.8567 - val_acc: 0.7052\n",
      "Epoch 6/15\n",
      "100/100 [==============================] - 7s 73ms/step - loss: 0.6926 - acc: 0.7647 - val_loss: 0.7627 - val_acc: 0.7327\n",
      "Epoch 7/15\n",
      "100/100 [==============================] - 7s 73ms/step - loss: 0.6298 - acc: 0.7901 - val_loss: 0.7426 - val_acc: 0.7472\n",
      "Epoch 8/15\n",
      "100/100 [==============================] - 7s 73ms/step - loss: 0.6063 - acc: 0.7904 - val_loss: 0.8350 - val_acc: 0.7217\n",
      "Epoch 9/15\n",
      "100/100 [==============================] - 7s 72ms/step - loss: 0.5304 - acc: 0.8196 - val_loss: 0.7474 - val_acc: 0.7402\n",
      "Epoch 10/15\n",
      "100/100 [==============================] - 7s 73ms/step - loss: 0.5184 - acc: 0.8250 - val_loss: 0.7939 - val_acc: 0.7312\n",
      "Epoch 11/15\n",
      "100/100 [==============================] - 7s 73ms/step - loss: 0.5123 - acc: 0.8152 - val_loss: 0.8575 - val_acc: 0.7077\n",
      "Epoch 12/15\n",
      "100/100 [==============================] - 7s 73ms/step - loss: 0.4468 - acc: 0.8435 - val_loss: 0.8236 - val_acc: 0.7357\n",
      "Epoch 13/15\n",
      "100/100 [==============================] - 8s 85ms/step - loss: 0.4111 - acc: 0.8590 - val_loss: 0.7089 - val_acc: 0.7623\n",
      "Epoch 14/15\n",
      "100/100 [==============================] - 7s 73ms/step - loss: 0.3856 - acc: 0.8667 - val_loss: 0.7070 - val_acc: 0.7703\n",
      "Epoch 15/15\n",
      "100/100 [==============================] - 7s 73ms/step - loss: 0.3701 - acc: 0.8729 - val_loss: 0.7736 - val_acc: 0.7598\n",
      "\n",
      "---Now testing the model for one audio file---\n",
      "The model predicts: rock, and ground truth is: reggae.\n",
      "\n",
      "\n"
     ]
    },
    {
     "data": {
      "text/html": [
       "Waiting for W&B process to finish... <strong style=\"color:green\">(success).</strong>"
      ],
      "text/plain": [
       "<IPython.core.display.HTML object>"
      ]
     },
     "metadata": {},
     "output_type": "display_data"
    },
    {
     "data": {
      "application/vnd.jupyter.widget-view+json": {
       "model_id": "",
       "version_major": 2,
       "version_minor": 0
      },
      "text/plain": [
       "VBox(children=(Label(value='0.419 MB of 0.419 MB uploaded (0.000 MB deduped)\\r'), FloatProgress(value=1.0, max…"
      ]
     },
     "metadata": {},
     "output_type": "display_data"
    },
    {
     "data": {
      "text/html": [
       "<style>\n",
       "    table.wandb td:nth-child(1) { padding: 0 10px; text-align: right }\n",
       "    .wandb-row { display: flex; flex-direction: row; flex-wrap: wrap; width: 100% }\n",
       "    .wandb-col { display: flex; flex-direction: column; flex-basis: 100%; flex: 1; padding: 10px; }\n",
       "    </style>\n",
       "<div class=\"wandb-row\"><div class=\"wandb-col\"><h3>Run history:</h3><br/><table class=\"wandb\"><tr><td>acc</td><td>▁▃▄▅▆▆▇▇▇▇▇████</td></tr><tr><td>epoch</td><td>▁▁▂▃▃▃▄▅▅▅▆▇▇▇█</td></tr><tr><td>loss</td><td>█▅▄▄▃▃▂▂▂▂▂▁▁▁▁</td></tr><tr><td>val_acc</td><td>▁▅▅▇▇▇█▇█▇▇▇███</td></tr><tr><td>val_loss</td><td>█▄▄▂▂▁▁▂▁▁▂▂▁▁▁</td></tr></table><br/></div><div class=\"wandb-col\"><h3>Run summary:</h3><br/><table class=\"wandb\"><tr><td>acc</td><td>0.86548</td></tr><tr><td>best_epoch</td><td>13</td></tr><tr><td>best_val_loss</td><td>0.70703</td></tr><tr><td>epoch</td><td>14</td></tr><tr><td>loss</td><td>0.38697</td></tr><tr><td>val_acc</td><td>0.75976</td></tr><tr><td>val_loss</td><td>0.77361</td></tr></table><br/></div></div>"
      ],
      "text/plain": [
       "<IPython.core.display.HTML object>"
      ]
     },
     "metadata": {},
     "output_type": "display_data"
    },
    {
     "data": {
      "text/html": [
       "Synced <strong style=\"color:#cdcd00\">robust-sweep-66</strong>: <a href=\"https://wandb.ai/msaintfelix/Sweeps-Genre-Classifier/runs/xe9sbkks\" target=\"_blank\">https://wandb.ai/msaintfelix/Sweeps-Genre-Classifier/runs/xe9sbkks</a><br/>Synced 6 W&B file(s), 1 media file(s), 0 artifact file(s) and 1 other file(s)"
      ],
      "text/plain": [
       "<IPython.core.display.HTML object>"
      ]
     },
     "metadata": {},
     "output_type": "display_data"
    },
    {
     "data": {
      "text/html": [
       "Find logs at: <code>./wandb/run-20220829_220257-xe9sbkks/logs</code>"
      ],
      "text/plain": [
       "<IPython.core.display.HTML object>"
      ]
     },
     "metadata": {},
     "output_type": "display_data"
    },
    {
     "name": "stderr",
     "output_type": "stream",
     "text": [
      "\u001b[34m\u001b[1mwandb\u001b[0m: Agent Starting Run: 5wdoib7f with config:\n",
      "\u001b[34m\u001b[1mwandb\u001b[0m: \tbatch_size: 32\n",
      "\u001b[34m\u001b[1mwandb\u001b[0m: \tconv_layer_size: 64\n",
      "\u001b[34m\u001b[1mwandb\u001b[0m: \tdropout: 0.5\n",
      "\u001b[34m\u001b[1mwandb\u001b[0m: \tepochs: 5\n",
      "\u001b[34m\u001b[1mwandb\u001b[0m: \tlearning_rate: 0.01\n"
     ]
    },
    {
     "data": {
      "text/html": [
       "wandb version 0.13.2 is available!  To upgrade, please run:\n",
       " $ pip install wandb --upgrade"
      ],
      "text/plain": [
       "<IPython.core.display.HTML object>"
      ]
     },
     "metadata": {},
     "output_type": "display_data"
    },
    {
     "data": {
      "text/html": [
       "Tracking run with wandb version 0.12.11"
      ],
      "text/plain": [
       "<IPython.core.display.HTML object>"
      ]
     },
     "metadata": {},
     "output_type": "display_data"
    },
    {
     "data": {
      "text/html": [
       "Run data is saved locally in <code>/Users/msf/GitHub/TensorFlow_MusicGenre_Classifier/wandb/run-20220829_220516-5wdoib7f</code>"
      ],
      "text/plain": [
       "<IPython.core.display.HTML object>"
      ]
     },
     "metadata": {},
     "output_type": "display_data"
    },
    {
     "data": {
      "text/html": [
       "Syncing run <strong><a href=\"https://wandb.ai/msaintfelix/Sweeps-Genre-Classifier/runs/5wdoib7f\" target=\"_blank\">dazzling-sweep-67</a></strong> to <a href=\"https://wandb.ai/msaintfelix/Sweeps-Genre-Classifier\" target=\"_blank\">Weights & Biases</a> (<a href=\"https://wandb.me/run\" target=\"_blank\">docs</a>)<br/>Sweep page:  <a href=\"https://wandb.ai/msaintfelix/Sweeps-Genre-Classifier/sweeps/e7xdbkpy\" target=\"_blank\">https://wandb.ai/msaintfelix/Sweeps-Genre-Classifier/sweeps/e7xdbkpy</a>"
      ],
      "text/plain": [
       "<IPython.core.display.HTML object>"
      ]
     },
     "metadata": {},
     "output_type": "display_data"
    },
    {
     "name": "stdout",
     "output_type": "stream",
     "text": [
      "(9990, 125, 13)\n",
      "Model: \"sequential\"\n",
      "_________________________________________________________________\n",
      "Layer (type)                 Output Shape              Param #   \n",
      "=================================================================\n",
      "conv2d (Conv2D)              (None, 123, 11, 64)       640       \n",
      "_________________________________________________________________\n",
      "max_pooling2d (MaxPooling2D) (None, 62, 6, 64)         0         \n",
      "_________________________________________________________________\n",
      "batch_normalization (BatchNo (None, 62, 6, 64)         256       \n",
      "_________________________________________________________________\n",
      "conv2d_1 (Conv2D)            (None, 60, 4, 64)         36928     \n",
      "_________________________________________________________________\n",
      "max_pooling2d_1 (MaxPooling2 (None, 30, 2, 64)         0         \n",
      "_________________________________________________________________\n",
      "batch_normalization_1 (Batch (None, 30, 2, 64)         256       \n",
      "_________________________________________________________________\n",
      "conv2d_2 (Conv2D)            (None, 29, 1, 64)         16448     \n",
      "_________________________________________________________________\n",
      "max_pooling2d_2 (MaxPooling2 (None, 15, 1, 64)         0         \n",
      "_________________________________________________________________\n",
      "batch_normalization_2 (Batch (None, 15, 1, 64)         256       \n",
      "_________________________________________________________________\n",
      "dropout (Dropout)            (None, 15, 1, 64)         0         \n",
      "_________________________________________________________________\n",
      "flatten (Flatten)            (None, 960)               0         \n",
      "_________________________________________________________________\n",
      "dense (Dense)                (None, 64)                61504     \n",
      "_________________________________________________________________\n",
      "dense_1 (Dense)              (None, 10)                650       \n",
      "=================================================================\n",
      "Total params: 116,938\n",
      "Trainable params: 116,554\n",
      "Non-trainable params: 384\n",
      "_________________________________________________________________\n",
      "Epoch 1/5\n",
      "200/200 [==============================] - 15s 72ms/step - loss: 3.0180 - acc: 0.2948 - val_loss: 49.3560 - val_acc: 0.1537\n",
      "Epoch 2/5\n",
      "200/200 [==============================] - 15s 73ms/step - loss: 1.5482 - acc: 0.4358 - val_loss: 1.7935 - val_acc: 0.4685\n",
      "Epoch 3/5\n",
      "200/200 [==============================] - 14s 72ms/step - loss: 1.3657 - acc: 0.5199 - val_loss: 2.4411 - val_acc: 0.4660\n",
      "Epoch 4/5\n",
      "200/200 [==============================] - 15s 77ms/step - loss: 1.2231 - acc: 0.5634 - val_loss: 1.4593 - val_acc: 0.5245\n",
      "Epoch 5/5\n",
      "200/200 [==============================] - 15s 77ms/step - loss: 1.2345 - acc: 0.5703 - val_loss: 1.2838 - val_acc: 0.5485\n",
      "\n",
      "---Now testing the model for one audio file---\n",
      "The model predicts: hiphop, and ground truth is: hiphop.\n",
      "\n",
      "\n"
     ]
    },
    {
     "data": {
      "text/html": [
       "Waiting for W&B process to finish... <strong style=\"color:green\">(success).</strong>"
      ],
      "text/plain": [
       "<IPython.core.display.HTML object>"
      ]
     },
     "metadata": {},
     "output_type": "display_data"
    },
    {
     "data": {
      "application/vnd.jupyter.widget-view+json": {
       "model_id": "",
       "version_major": 2,
       "version_minor": 0
      },
      "text/plain": [
       "VBox(children=(Label(value='0.965 MB of 0.965 MB uploaded (0.000 MB deduped)\\r'), FloatProgress(value=1.0, max…"
      ]
     },
     "metadata": {},
     "output_type": "display_data"
    },
    {
     "data": {
      "text/html": [
       "<style>\n",
       "    table.wandb td:nth-child(1) { padding: 0 10px; text-align: right }\n",
       "    .wandb-row { display: flex; flex-direction: row; flex-wrap: wrap; width: 100% }\n",
       "    .wandb-col { display: flex; flex-direction: column; flex-basis: 100%; flex: 1; padding: 10px; }\n",
       "    </style>\n",
       "<div class=\"wandb-row\"><div class=\"wandb-col\"><h3>Run history:</h3><br/><table class=\"wandb\"><tr><td>acc</td><td>▁▄▆▇█</td></tr><tr><td>epoch</td><td>▁▃▅▆█</td></tr><tr><td>loss</td><td>█▃▂▁▁</td></tr><tr><td>val_acc</td><td>▁▇▇██</td></tr><tr><td>val_loss</td><td>█▁▁▁▁</td></tr></table><br/></div><div class=\"wandb-col\"><h3>Run summary:</h3><br/><table class=\"wandb\"><tr><td>acc</td><td>0.5797</td></tr><tr><td>best_epoch</td><td>4</td></tr><tr><td>best_val_loss</td><td>1.28383</td></tr><tr><td>epoch</td><td>4</td></tr><tr><td>loss</td><td>1.2051</td></tr><tr><td>val_acc</td><td>0.54855</td></tr><tr><td>val_loss</td><td>1.28383</td></tr></table><br/></div></div>"
      ],
      "text/plain": [
       "<IPython.core.display.HTML object>"
      ]
     },
     "metadata": {},
     "output_type": "display_data"
    },
    {
     "data": {
      "text/html": [
       "Synced <strong style=\"color:#cdcd00\">dazzling-sweep-67</strong>: <a href=\"https://wandb.ai/msaintfelix/Sweeps-Genre-Classifier/runs/5wdoib7f\" target=\"_blank\">https://wandb.ai/msaintfelix/Sweeps-Genre-Classifier/runs/5wdoib7f</a><br/>Synced 6 W&B file(s), 1 media file(s), 0 artifact file(s) and 1 other file(s)"
      ],
      "text/plain": [
       "<IPython.core.display.HTML object>"
      ]
     },
     "metadata": {},
     "output_type": "display_data"
    },
    {
     "data": {
      "text/html": [
       "Find logs at: <code>./wandb/run-20220829_220516-5wdoib7f/logs</code>"
      ],
      "text/plain": [
       "<IPython.core.display.HTML object>"
      ]
     },
     "metadata": {},
     "output_type": "display_data"
    },
    {
     "name": "stderr",
     "output_type": "stream",
     "text": [
      "\u001b[34m\u001b[1mwandb\u001b[0m: Agent Starting Run: 3wutrpnj with config:\n",
      "\u001b[34m\u001b[1mwandb\u001b[0m: \tbatch_size: 64\n",
      "\u001b[34m\u001b[1mwandb\u001b[0m: \tconv_layer_size: 32\n",
      "\u001b[34m\u001b[1mwandb\u001b[0m: \tdropout: 0.4\n",
      "\u001b[34m\u001b[1mwandb\u001b[0m: \tepochs: 10\n",
      "\u001b[34m\u001b[1mwandb\u001b[0m: \tlearning_rate: 0.0001\n"
     ]
    },
    {
     "data": {
      "text/html": [
       "wandb version 0.13.2 is available!  To upgrade, please run:\n",
       " $ pip install wandb --upgrade"
      ],
      "text/plain": [
       "<IPython.core.display.HTML object>"
      ]
     },
     "metadata": {},
     "output_type": "display_data"
    },
    {
     "data": {
      "text/html": [
       "Tracking run with wandb version 0.12.11"
      ],
      "text/plain": [
       "<IPython.core.display.HTML object>"
      ]
     },
     "metadata": {},
     "output_type": "display_data"
    },
    {
     "data": {
      "text/html": [
       "Run data is saved locally in <code>/Users/msf/GitHub/TensorFlow_MusicGenre_Classifier/wandb/run-20220829_220701-3wutrpnj</code>"
      ],
      "text/plain": [
       "<IPython.core.display.HTML object>"
      ]
     },
     "metadata": {},
     "output_type": "display_data"
    },
    {
     "data": {
      "text/html": [
       "Syncing run <strong><a href=\"https://wandb.ai/msaintfelix/Sweeps-Genre-Classifier/runs/3wutrpnj\" target=\"_blank\">ethereal-sweep-68</a></strong> to <a href=\"https://wandb.ai/msaintfelix/Sweeps-Genre-Classifier\" target=\"_blank\">Weights & Biases</a> (<a href=\"https://wandb.me/run\" target=\"_blank\">docs</a>)<br/>Sweep page:  <a href=\"https://wandb.ai/msaintfelix/Sweeps-Genre-Classifier/sweeps/e7xdbkpy\" target=\"_blank\">https://wandb.ai/msaintfelix/Sweeps-Genre-Classifier/sweeps/e7xdbkpy</a>"
      ],
      "text/plain": [
       "<IPython.core.display.HTML object>"
      ]
     },
     "metadata": {},
     "output_type": "display_data"
    },
    {
     "name": "stdout",
     "output_type": "stream",
     "text": [
      "(9990, 125, 13)\n",
      "Model: \"sequential\"\n",
      "_________________________________________________________________\n",
      "Layer (type)                 Output Shape              Param #   \n",
      "=================================================================\n",
      "conv2d (Conv2D)              (None, 123, 11, 32)       320       \n",
      "_________________________________________________________________\n",
      "max_pooling2d (MaxPooling2D) (None, 62, 6, 32)         0         \n",
      "_________________________________________________________________\n",
      "batch_normalization (BatchNo (None, 62, 6, 32)         128       \n",
      "_________________________________________________________________\n",
      "conv2d_1 (Conv2D)            (None, 60, 4, 32)         9248      \n",
      "_________________________________________________________________\n",
      "max_pooling2d_1 (MaxPooling2 (None, 30, 2, 32)         0         \n",
      "_________________________________________________________________\n",
      "batch_normalization_1 (Batch (None, 30, 2, 32)         128       \n",
      "_________________________________________________________________\n",
      "conv2d_2 (Conv2D)            (None, 29, 1, 32)         4128      \n",
      "_________________________________________________________________\n",
      "max_pooling2d_2 (MaxPooling2 (None, 15, 1, 32)         0         \n",
      "_________________________________________________________________\n",
      "batch_normalization_2 (Batch (None, 15, 1, 32)         128       \n",
      "_________________________________________________________________\n",
      "dropout (Dropout)            (None, 15, 1, 32)         0         \n",
      "_________________________________________________________________\n",
      "flatten (Flatten)            (None, 480)               0         \n",
      "_________________________________________________________________\n",
      "dense (Dense)                (None, 64)                30784     \n",
      "_________________________________________________________________\n",
      "dense_1 (Dense)              (None, 10)                650       \n",
      "=================================================================\n",
      "Total params: 45,514\n",
      "Trainable params: 45,322\n",
      "Non-trainable params: 192\n",
      "_________________________________________________________________\n",
      "Epoch 1/10\n",
      "100/100 [==============================] - 8s 72ms/step - loss: 2.9871 - acc: 0.1582 - val_loss: 2.1618 - val_acc: 0.2788\n",
      "Epoch 2/10\n",
      "100/100 [==============================] - 7s 72ms/step - loss: 2.1929 - acc: 0.3062 - val_loss: 1.7331 - val_acc: 0.3779\n",
      "Epoch 3/10\n",
      "100/100 [==============================] - 7s 72ms/step - loss: 1.8303 - acc: 0.3832 - val_loss: 1.5428 - val_acc: 0.4359\n",
      "Epoch 4/10\n",
      "100/100 [==============================] - 7s 72ms/step - loss: 1.6733 - acc: 0.4237 - val_loss: 1.4248 - val_acc: 0.4730\n",
      "Epoch 5/10\n",
      "100/100 [==============================] - 7s 72ms/step - loss: 1.5316 - acc: 0.4678 - val_loss: 1.3593 - val_acc: 0.5060\n",
      "Epoch 6/10\n",
      "100/100 [==============================] - 7s 71ms/step - loss: 1.4759 - acc: 0.4764 - val_loss: 1.3056 - val_acc: 0.5265\n",
      "Epoch 7/10\n",
      "100/100 [==============================] - 7s 72ms/step - loss: 1.3772 - acc: 0.4979 - val_loss: 1.2743 - val_acc: 0.5285\n",
      "Epoch 8/10\n",
      "100/100 [==============================] - 7s 72ms/step - loss: 1.3439 - acc: 0.5250 - val_loss: 1.2328 - val_acc: 0.5440\n",
      "Epoch 9/10\n",
      "100/100 [==============================] - 7s 73ms/step - loss: 1.2885 - acc: 0.5429 - val_loss: 1.1944 - val_acc: 0.5646\n",
      "Epoch 10/10\n",
      "100/100 [==============================] - 7s 73ms/step - loss: 1.2398 - acc: 0.5668 - val_loss: 1.1647 - val_acc: 0.5731\n",
      "\n",
      "---Now testing the model for one audio file---\n",
      "The model predicts: reggae, and ground truth is: reggae.\n",
      "\n",
      "\n"
     ]
    },
    {
     "data": {
      "text/html": [
       "Waiting for W&B process to finish... <strong style=\"color:green\">(success).</strong>"
      ],
      "text/plain": [
       "<IPython.core.display.HTML object>"
      ]
     },
     "metadata": {},
     "output_type": "display_data"
    },
    {
     "data": {
      "application/vnd.jupyter.widget-view+json": {
       "model_id": "",
       "version_major": 2,
       "version_minor": 0
      },
      "text/plain": [
       "VBox(children=(Label(value='0.419 MB of 0.419 MB uploaded (0.000 MB deduped)\\r'), FloatProgress(value=1.0, max…"
      ]
     },
     "metadata": {},
     "output_type": "display_data"
    },
    {
     "data": {
      "text/html": [
       "<style>\n",
       "    table.wandb td:nth-child(1) { padding: 0 10px; text-align: right }\n",
       "    .wandb-row { display: flex; flex-direction: row; flex-wrap: wrap; width: 100% }\n",
       "    .wandb-col { display: flex; flex-direction: column; flex-basis: 100%; flex: 1; padding: 10px; }\n",
       "    </style>\n",
       "<div class=\"wandb-row\"><div class=\"wandb-col\"><h3>Run history:</h3><br/><table class=\"wandb\"><tr><td>acc</td><td>▁▃▅▅▆▇▇▇██</td></tr><tr><td>epoch</td><td>▁▂▃▃▄▅▆▆▇█</td></tr><tr><td>loss</td><td>█▅▄▃▂▂▂▁▁▁</td></tr><tr><td>val_acc</td><td>▁▃▅▆▆▇▇▇██</td></tr><tr><td>val_loss</td><td>█▅▄▃▂▂▂▁▁▁</td></tr></table><br/></div><div class=\"wandb-col\"><h3>Run summary:</h3><br/><table class=\"wandb\"><tr><td>acc</td><td>0.56312</td></tr><tr><td>best_epoch</td><td>9</td></tr><tr><td>best_val_loss</td><td>1.16472</td></tr><tr><td>epoch</td><td>9</td></tr><tr><td>loss</td><td>1.23034</td></tr><tr><td>val_acc</td><td>0.57307</td></tr><tr><td>val_loss</td><td>1.16472</td></tr></table><br/></div></div>"
      ],
      "text/plain": [
       "<IPython.core.display.HTML object>"
      ]
     },
     "metadata": {},
     "output_type": "display_data"
    },
    {
     "data": {
      "text/html": [
       "Synced <strong style=\"color:#cdcd00\">ethereal-sweep-68</strong>: <a href=\"https://wandb.ai/msaintfelix/Sweeps-Genre-Classifier/runs/3wutrpnj\" target=\"_blank\">https://wandb.ai/msaintfelix/Sweeps-Genre-Classifier/runs/3wutrpnj</a><br/>Synced 6 W&B file(s), 1 media file(s), 0 artifact file(s) and 1 other file(s)"
      ],
      "text/plain": [
       "<IPython.core.display.HTML object>"
      ]
     },
     "metadata": {},
     "output_type": "display_data"
    },
    {
     "data": {
      "text/html": [
       "Find logs at: <code>./wandb/run-20220829_220701-3wutrpnj/logs</code>"
      ],
      "text/plain": [
       "<IPython.core.display.HTML object>"
      ]
     },
     "metadata": {},
     "output_type": "display_data"
    },
    {
     "name": "stderr",
     "output_type": "stream",
     "text": [
      "\u001b[34m\u001b[1mwandb\u001b[0m: Agent Starting Run: jxk61129 with config:\n",
      "\u001b[34m\u001b[1mwandb\u001b[0m: \tbatch_size: 32\n",
      "\u001b[34m\u001b[1mwandb\u001b[0m: \tconv_layer_size: 32\n",
      "\u001b[34m\u001b[1mwandb\u001b[0m: \tdropout: 0.4\n",
      "\u001b[34m\u001b[1mwandb\u001b[0m: \tepochs: 5\n",
      "\u001b[34m\u001b[1mwandb\u001b[0m: \tlearning_rate: 0.0001\n"
     ]
    },
    {
     "data": {
      "text/html": [
       "wandb version 0.13.2 is available!  To upgrade, please run:\n",
       " $ pip install wandb --upgrade"
      ],
      "text/plain": [
       "<IPython.core.display.HTML object>"
      ]
     },
     "metadata": {},
     "output_type": "display_data"
    },
    {
     "data": {
      "text/html": [
       "Tracking run with wandb version 0.12.11"
      ],
      "text/plain": [
       "<IPython.core.display.HTML object>"
      ]
     },
     "metadata": {},
     "output_type": "display_data"
    },
    {
     "data": {
      "text/html": [
       "Run data is saved locally in <code>/Users/msf/GitHub/TensorFlow_MusicGenre_Classifier/wandb/run-20220829_220843-jxk61129</code>"
      ],
      "text/plain": [
       "<IPython.core.display.HTML object>"
      ]
     },
     "metadata": {},
     "output_type": "display_data"
    },
    {
     "data": {
      "text/html": [
       "Syncing run <strong><a href=\"https://wandb.ai/msaintfelix/Sweeps-Genre-Classifier/runs/jxk61129\" target=\"_blank\">lively-sweep-69</a></strong> to <a href=\"https://wandb.ai/msaintfelix/Sweeps-Genre-Classifier\" target=\"_blank\">Weights & Biases</a> (<a href=\"https://wandb.me/run\" target=\"_blank\">docs</a>)<br/>Sweep page:  <a href=\"https://wandb.ai/msaintfelix/Sweeps-Genre-Classifier/sweeps/e7xdbkpy\" target=\"_blank\">https://wandb.ai/msaintfelix/Sweeps-Genre-Classifier/sweeps/e7xdbkpy</a>"
      ],
      "text/plain": [
       "<IPython.core.display.HTML object>"
      ]
     },
     "metadata": {},
     "output_type": "display_data"
    },
    {
     "name": "stdout",
     "output_type": "stream",
     "text": [
      "(9990, 125, 13)\n",
      "Model: \"sequential\"\n",
      "_________________________________________________________________\n",
      "Layer (type)                 Output Shape              Param #   \n",
      "=================================================================\n",
      "conv2d (Conv2D)              (None, 123, 11, 32)       320       \n",
      "_________________________________________________________________\n",
      "max_pooling2d (MaxPooling2D) (None, 62, 6, 32)         0         \n",
      "_________________________________________________________________\n",
      "batch_normalization (BatchNo (None, 62, 6, 32)         128       \n",
      "_________________________________________________________________\n",
      "conv2d_1 (Conv2D)            (None, 60, 4, 32)         9248      \n",
      "_________________________________________________________________\n",
      "max_pooling2d_1 (MaxPooling2 (None, 30, 2, 32)         0         \n",
      "_________________________________________________________________\n",
      "batch_normalization_1 (Batch (None, 30, 2, 32)         128       \n",
      "_________________________________________________________________\n",
      "conv2d_2 (Conv2D)            (None, 29, 1, 32)         4128      \n",
      "_________________________________________________________________\n",
      "max_pooling2d_2 (MaxPooling2 (None, 15, 1, 32)         0         \n",
      "_________________________________________________________________\n",
      "batch_normalization_2 (Batch (None, 15, 1, 32)         128       \n",
      "_________________________________________________________________\n",
      "dropout (Dropout)            (None, 15, 1, 32)         0         \n",
      "_________________________________________________________________\n",
      "flatten (Flatten)            (None, 480)               0         \n",
      "_________________________________________________________________\n",
      "dense (Dense)                (None, 64)                30784     \n",
      "_________________________________________________________________\n",
      "dense_1 (Dense)              (None, 10)                650       \n",
      "=================================================================\n",
      "Total params: 45,514\n",
      "Trainable params: 45,322\n",
      "Non-trainable params: 192\n",
      "_________________________________________________________________\n",
      "Epoch 1/5\n",
      "200/200 [==============================] - 9s 39ms/step - loss: 2.7108 - acc: 0.1677 - val_loss: 1.7729 - val_acc: 0.3774\n",
      "Epoch 2/5\n",
      "200/200 [==============================] - 8s 39ms/step - loss: 1.8667 - acc: 0.3500 - val_loss: 1.4999 - val_acc: 0.4630\n",
      "Epoch 3/5\n",
      "200/200 [==============================] - 8s 40ms/step - loss: 1.6092 - acc: 0.4299 - val_loss: 1.3682 - val_acc: 0.4985\n",
      "Epoch 4/5\n",
      "200/200 [==============================] - 8s 41ms/step - loss: 1.4887 - acc: 0.4576 - val_loss: 1.2935 - val_acc: 0.5205\n",
      "Epoch 5/5\n",
      "200/200 [==============================] - 8s 39ms/step - loss: 1.3870 - acc: 0.4940 - val_loss: 1.2334 - val_acc: 0.5516\n",
      "\n",
      "---Now testing the model for one audio file---\n",
      "The model predicts: pop, and ground truth is: pop.\n",
      "\n",
      "\n"
     ]
    },
    {
     "data": {
      "text/html": [
       "Waiting for W&B process to finish... <strong style=\"color:green\">(success).</strong>"
      ],
      "text/plain": [
       "<IPython.core.display.HTML object>"
      ]
     },
     "metadata": {},
     "output_type": "display_data"
    },
    {
     "data": {
      "application/vnd.jupyter.widget-view+json": {
       "model_id": "",
       "version_major": 2,
       "version_minor": 0
      },
      "text/plain": [
       "VBox(children=(Label(value='0.419 MB of 0.419 MB uploaded (0.000 MB deduped)\\r'), FloatProgress(value=1.0, max…"
      ]
     },
     "metadata": {},
     "output_type": "display_data"
    },
    {
     "data": {
      "text/html": [
       "<style>\n",
       "    table.wandb td:nth-child(1) { padding: 0 10px; text-align: right }\n",
       "    .wandb-row { display: flex; flex-direction: row; flex-wrap: wrap; width: 100% }\n",
       "    .wandb-col { display: flex; flex-direction: column; flex-basis: 100%; flex: 1; padding: 10px; }\n",
       "    </style>\n",
       "<div class=\"wandb-row\"><div class=\"wandb-col\"><h3>Run history:</h3><br/><table class=\"wandb\"><tr><td>acc</td><td>▁▅▆▇█</td></tr><tr><td>epoch</td><td>▁▃▅▆█</td></tr><tr><td>loss</td><td>█▄▂▂▁</td></tr><tr><td>val_acc</td><td>▁▄▆▇█</td></tr><tr><td>val_loss</td><td>█▄▃▂▁</td></tr></table><br/></div><div class=\"wandb-col\"><h3>Run summary:</h3><br/><table class=\"wandb\"><tr><td>acc</td><td>0.5007</td></tr><tr><td>best_epoch</td><td>4</td></tr><tr><td>best_val_loss</td><td>1.2334</td></tr><tr><td>epoch</td><td>4</td></tr><tr><td>loss</td><td>1.37221</td></tr><tr><td>val_acc</td><td>0.55155</td></tr><tr><td>val_loss</td><td>1.2334</td></tr></table><br/></div></div>"
      ],
      "text/plain": [
       "<IPython.core.display.HTML object>"
      ]
     },
     "metadata": {},
     "output_type": "display_data"
    },
    {
     "data": {
      "text/html": [
       "Synced <strong style=\"color:#cdcd00\">lively-sweep-69</strong>: <a href=\"https://wandb.ai/msaintfelix/Sweeps-Genre-Classifier/runs/jxk61129\" target=\"_blank\">https://wandb.ai/msaintfelix/Sweeps-Genre-Classifier/runs/jxk61129</a><br/>Synced 6 W&B file(s), 1 media file(s), 0 artifact file(s) and 1 other file(s)"
      ],
      "text/plain": [
       "<IPython.core.display.HTML object>"
      ]
     },
     "metadata": {},
     "output_type": "display_data"
    },
    {
     "data": {
      "text/html": [
       "Find logs at: <code>./wandb/run-20220829_220843-jxk61129/logs</code>"
      ],
      "text/plain": [
       "<IPython.core.display.HTML object>"
      ]
     },
     "metadata": {},
     "output_type": "display_data"
    },
    {
     "name": "stderr",
     "output_type": "stream",
     "text": [
      "\u001b[34m\u001b[1mwandb\u001b[0m: Agent Starting Run: plrwybvq with config:\n",
      "\u001b[34m\u001b[1mwandb\u001b[0m: \tbatch_size: 64\n",
      "\u001b[34m\u001b[1mwandb\u001b[0m: \tconv_layer_size: 16\n",
      "\u001b[34m\u001b[1mwandb\u001b[0m: \tdropout: 0.4\n",
      "\u001b[34m\u001b[1mwandb\u001b[0m: \tepochs: 10\n",
      "\u001b[34m\u001b[1mwandb\u001b[0m: \tlearning_rate: 3e-05\n"
     ]
    },
    {
     "data": {
      "text/html": [
       "wandb version 0.13.2 is available!  To upgrade, please run:\n",
       " $ pip install wandb --upgrade"
      ],
      "text/plain": [
       "<IPython.core.display.HTML object>"
      ]
     },
     "metadata": {},
     "output_type": "display_data"
    },
    {
     "data": {
      "text/html": [
       "Tracking run with wandb version 0.12.11"
      ],
      "text/plain": [
       "<IPython.core.display.HTML object>"
      ]
     },
     "metadata": {},
     "output_type": "display_data"
    },
    {
     "data": {
      "text/html": [
       "Run data is saved locally in <code>/Users/msf/GitHub/TensorFlow_MusicGenre_Classifier/wandb/run-20220829_220949-plrwybvq</code>"
      ],
      "text/plain": [
       "<IPython.core.display.HTML object>"
      ]
     },
     "metadata": {},
     "output_type": "display_data"
    },
    {
     "data": {
      "text/html": [
       "Syncing run <strong><a href=\"https://wandb.ai/msaintfelix/Sweeps-Genre-Classifier/runs/plrwybvq\" target=\"_blank\">tough-sweep-70</a></strong> to <a href=\"https://wandb.ai/msaintfelix/Sweeps-Genre-Classifier\" target=\"_blank\">Weights & Biases</a> (<a href=\"https://wandb.me/run\" target=\"_blank\">docs</a>)<br/>Sweep page:  <a href=\"https://wandb.ai/msaintfelix/Sweeps-Genre-Classifier/sweeps/e7xdbkpy\" target=\"_blank\">https://wandb.ai/msaintfelix/Sweeps-Genre-Classifier/sweeps/e7xdbkpy</a>"
      ],
      "text/plain": [
       "<IPython.core.display.HTML object>"
      ]
     },
     "metadata": {},
     "output_type": "display_data"
    },
    {
     "name": "stdout",
     "output_type": "stream",
     "text": [
      "(9990, 125, 13)\n",
      "Model: \"sequential\"\n",
      "_________________________________________________________________\n",
      "Layer (type)                 Output Shape              Param #   \n",
      "=================================================================\n",
      "conv2d (Conv2D)              (None, 123, 11, 16)       160       \n",
      "_________________________________________________________________\n",
      "max_pooling2d (MaxPooling2D) (None, 62, 6, 16)         0         \n",
      "_________________________________________________________________\n",
      "batch_normalization (BatchNo (None, 62, 6, 16)         64        \n",
      "_________________________________________________________________\n",
      "conv2d_1 (Conv2D)            (None, 60, 4, 16)         2320      \n",
      "_________________________________________________________________\n",
      "max_pooling2d_1 (MaxPooling2 (None, 30, 2, 16)         0         \n",
      "_________________________________________________________________\n",
      "batch_normalization_1 (Batch (None, 30, 2, 16)         64        \n",
      "_________________________________________________________________\n",
      "conv2d_2 (Conv2D)            (None, 29, 1, 16)         1040      \n",
      "_________________________________________________________________\n",
      "max_pooling2d_2 (MaxPooling2 (None, 15, 1, 16)         0         \n",
      "_________________________________________________________________\n",
      "batch_normalization_2 (Batch (None, 15, 1, 16)         64        \n",
      "_________________________________________________________________\n",
      "dropout (Dropout)            (None, 15, 1, 16)         0         \n",
      "_________________________________________________________________\n",
      "flatten (Flatten)            (None, 240)               0         \n",
      "_________________________________________________________________\n",
      "dense (Dense)                (None, 64)                15424     \n",
      "_________________________________________________________________\n",
      "dense_1 (Dense)              (None, 10)                650       \n",
      "=================================================================\n",
      "Total params: 19,786\n",
      "Trainable params: 19,690\n",
      "Non-trainable params: 96\n",
      "_________________________________________________________________\n",
      "Epoch 1/10\n",
      "100/100 [==============================] - 5s 45ms/step - loss: 3.0462 - acc: 0.1090 - val_loss: 2.4076 - val_acc: 0.1196\n",
      "Epoch 2/10\n",
      "100/100 [==============================] - 4s 43ms/step - loss: 2.7431 - acc: 0.1364 - val_loss: 2.2001 - val_acc: 0.2057\n",
      "Epoch 3/10\n",
      "100/100 [==============================] - 4s 43ms/step - loss: 2.5414 - acc: 0.1691 - val_loss: 2.0880 - val_acc: 0.2748\n",
      "Epoch 4/10\n",
      "100/100 [==============================] - 4s 44ms/step - loss: 2.3785 - acc: 0.2152 - val_loss: 1.9920 - val_acc: 0.3098\n",
      "Epoch 5/10\n",
      "100/100 [==============================] - 4s 43ms/step - loss: 2.2106 - acc: 0.2571 - val_loss: 1.9147 - val_acc: 0.3223\n",
      "Epoch 6/10\n",
      "100/100 [==============================] - 4s 43ms/step - loss: 2.1242 - acc: 0.2837 - val_loss: 1.8456 - val_acc: 0.3448\n",
      "Epoch 7/10\n",
      "100/100 [==============================] - 4s 44ms/step - loss: 2.0650 - acc: 0.2980 - val_loss: 1.7934 - val_acc: 0.3644\n",
      "Epoch 8/10\n",
      "100/100 [==============================] - 4s 44ms/step - loss: 1.9368 - acc: 0.3412 - val_loss: 1.7484 - val_acc: 0.3754\n",
      "Epoch 9/10\n",
      "100/100 [==============================] - 4s 44ms/step - loss: 1.9417 - acc: 0.3363 - val_loss: 1.7076 - val_acc: 0.3859\n",
      "Epoch 10/10\n",
      "100/100 [==============================] - 4s 44ms/step - loss: 1.8495 - acc: 0.3576 - val_loss: 1.6711 - val_acc: 0.3984\n",
      "\n",
      "---Now testing the model for one audio file---\n",
      "The model predicts: blues, and ground truth is: blues.\n",
      "\n",
      "\n"
     ]
    },
    {
     "data": {
      "text/html": [
       "Waiting for W&B process to finish... <strong style=\"color:green\">(success).</strong>"
      ],
      "text/plain": [
       "<IPython.core.display.HTML object>"
      ]
     },
     "metadata": {},
     "output_type": "display_data"
    },
    {
     "data": {
      "application/vnd.jupyter.widget-view+json": {
       "model_id": "",
       "version_major": 2,
       "version_minor": 0
      },
      "text/plain": [
       "VBox(children=(Label(value='0.140 MB of 0.140 MB uploaded (0.000 MB deduped)\\r'), FloatProgress(value=1.0, max…"
      ]
     },
     "metadata": {},
     "output_type": "display_data"
    },
    {
     "data": {
      "text/html": [
       "<style>\n",
       "    table.wandb td:nth-child(1) { padding: 0 10px; text-align: right }\n",
       "    .wandb-row { display: flex; flex-direction: row; flex-wrap: wrap; width: 100% }\n",
       "    .wandb-col { display: flex; flex-direction: column; flex-basis: 100%; flex: 1; padding: 10px; }\n",
       "    </style>\n",
       "<div class=\"wandb-row\"><div class=\"wandb-col\"><h3>Run history:</h3><br/><table class=\"wandb\"><tr><td>acc</td><td>▁▂▃▄▅▆▇▇██</td></tr><tr><td>epoch</td><td>▁▂▃▃▄▅▆▆▇█</td></tr><tr><td>loss</td><td>█▆▅▄▃▃▂▂▁▁</td></tr><tr><td>val_acc</td><td>▁▃▅▆▆▇▇▇██</td></tr><tr><td>val_loss</td><td>█▆▅▄▃▃▂▂▁▁</td></tr></table><br/></div><div class=\"wandb-col\"><h3>Run summary:</h3><br/><table class=\"wandb\"><tr><td>acc</td><td>0.35977</td></tr><tr><td>best_epoch</td><td>9</td></tr><tr><td>best_val_loss</td><td>1.67113</td></tr><tr><td>epoch</td><td>9</td></tr><tr><td>loss</td><td>1.85242</td></tr><tr><td>val_acc</td><td>0.3984</td></tr><tr><td>val_loss</td><td>1.67113</td></tr></table><br/></div></div>"
      ],
      "text/plain": [
       "<IPython.core.display.HTML object>"
      ]
     },
     "metadata": {},
     "output_type": "display_data"
    },
    {
     "data": {
      "text/html": [
       "Synced <strong style=\"color:#cdcd00\">tough-sweep-70</strong>: <a href=\"https://wandb.ai/msaintfelix/Sweeps-Genre-Classifier/runs/plrwybvq\" target=\"_blank\">https://wandb.ai/msaintfelix/Sweeps-Genre-Classifier/runs/plrwybvq</a><br/>Synced 6 W&B file(s), 1 media file(s), 0 artifact file(s) and 1 other file(s)"
      ],
      "text/plain": [
       "<IPython.core.display.HTML object>"
      ]
     },
     "metadata": {},
     "output_type": "display_data"
    },
    {
     "data": {
      "text/html": [
       "Find logs at: <code>./wandb/run-20220829_220949-plrwybvq/logs</code>"
      ],
      "text/plain": [
       "<IPython.core.display.HTML object>"
      ]
     },
     "metadata": {},
     "output_type": "display_data"
    },
    {
     "name": "stderr",
     "output_type": "stream",
     "text": [
      "\u001b[34m\u001b[1mwandb\u001b[0m: Agent Starting Run: fv3bikpz with config:\n",
      "\u001b[34m\u001b[1mwandb\u001b[0m: \tbatch_size: 32\n",
      "\u001b[34m\u001b[1mwandb\u001b[0m: \tconv_layer_size: 16\n",
      "\u001b[34m\u001b[1mwandb\u001b[0m: \tdropout: 0.5\n",
      "\u001b[34m\u001b[1mwandb\u001b[0m: \tepochs: 15\n",
      "\u001b[34m\u001b[1mwandb\u001b[0m: \tlearning_rate: 0.001\n"
     ]
    },
    {
     "data": {
      "text/html": [
       "wandb version 0.13.2 is available!  To upgrade, please run:\n",
       " $ pip install wandb --upgrade"
      ],
      "text/plain": [
       "<IPython.core.display.HTML object>"
      ]
     },
     "metadata": {},
     "output_type": "display_data"
    },
    {
     "data": {
      "text/html": [
       "Tracking run with wandb version 0.12.11"
      ],
      "text/plain": [
       "<IPython.core.display.HTML object>"
      ]
     },
     "metadata": {},
     "output_type": "display_data"
    },
    {
     "data": {
      "text/html": [
       "Run data is saved locally in <code>/Users/msf/GitHub/TensorFlow_MusicGenre_Classifier/wandb/run-20220829_221101-fv3bikpz</code>"
      ],
      "text/plain": [
       "<IPython.core.display.HTML object>"
      ]
     },
     "metadata": {},
     "output_type": "display_data"
    },
    {
     "data": {
      "text/html": [
       "Syncing run <strong><a href=\"https://wandb.ai/msaintfelix/Sweeps-Genre-Classifier/runs/fv3bikpz\" target=\"_blank\">glad-sweep-71</a></strong> to <a href=\"https://wandb.ai/msaintfelix/Sweeps-Genre-Classifier\" target=\"_blank\">Weights & Biases</a> (<a href=\"https://wandb.me/run\" target=\"_blank\">docs</a>)<br/>Sweep page:  <a href=\"https://wandb.ai/msaintfelix/Sweeps-Genre-Classifier/sweeps/e7xdbkpy\" target=\"_blank\">https://wandb.ai/msaintfelix/Sweeps-Genre-Classifier/sweeps/e7xdbkpy</a>"
      ],
      "text/plain": [
       "<IPython.core.display.HTML object>"
      ]
     },
     "metadata": {},
     "output_type": "display_data"
    },
    {
     "name": "stdout",
     "output_type": "stream",
     "text": [
      "(9990, 125, 13)\n",
      "Model: \"sequential\"\n",
      "_________________________________________________________________\n",
      "Layer (type)                 Output Shape              Param #   \n",
      "=================================================================\n",
      "conv2d (Conv2D)              (None, 123, 11, 16)       160       \n",
      "_________________________________________________________________\n",
      "max_pooling2d (MaxPooling2D) (None, 62, 6, 16)         0         \n",
      "_________________________________________________________________\n",
      "batch_normalization (BatchNo (None, 62, 6, 16)         64        \n",
      "_________________________________________________________________\n",
      "conv2d_1 (Conv2D)            (None, 60, 4, 16)         2320      \n",
      "_________________________________________________________________\n",
      "max_pooling2d_1 (MaxPooling2 (None, 30, 2, 16)         0         \n",
      "_________________________________________________________________\n",
      "batch_normalization_1 (Batch (None, 30, 2, 16)         64        \n",
      "_________________________________________________________________\n",
      "conv2d_2 (Conv2D)            (None, 29, 1, 16)         1040      \n",
      "_________________________________________________________________\n",
      "max_pooling2d_2 (MaxPooling2 (None, 15, 1, 16)         0         \n",
      "_________________________________________________________________\n",
      "batch_normalization_2 (Batch (None, 15, 1, 16)         64        \n",
      "_________________________________________________________________\n",
      "dropout (Dropout)            (None, 15, 1, 16)         0         \n",
      "_________________________________________________________________\n",
      "flatten (Flatten)            (None, 240)               0         \n",
      "_________________________________________________________________\n",
      "dense (Dense)                (None, 64)                15424     \n",
      "_________________________________________________________________\n",
      "dense_1 (Dense)              (None, 10)                650       \n",
      "=================================================================\n",
      "Total params: 19,786\n",
      "Trainable params: 19,690\n",
      "Non-trainable params: 96\n",
      "_________________________________________________________________\n",
      "Epoch 1/15\n",
      "200/200 [==============================] - 6s 25ms/step - loss: 2.2717 - acc: 0.2760 - val_loss: 1.4519 - val_acc: 0.4800\n",
      "Epoch 2/15\n",
      "200/200 [==============================] - 5s 24ms/step - loss: 1.5270 - acc: 0.4479 - val_loss: 1.4063 - val_acc: 0.5150\n",
      "Epoch 3/15\n",
      "200/200 [==============================] - 5s 24ms/step - loss: 1.3382 - acc: 0.5231 - val_loss: 1.3679 - val_acc: 0.5205\n",
      "Epoch 4/15\n",
      "200/200 [==============================] - 5s 24ms/step - loss: 1.1975 - acc: 0.5681 - val_loss: 1.0932 - val_acc: 0.6031\n",
      "Epoch 5/15\n",
      "200/200 [==============================] - 5s 24ms/step - loss: 1.1161 - acc: 0.6052 - val_loss: 1.1722 - val_acc: 0.5936\n",
      "Epoch 6/15\n",
      "200/200 [==============================] - 5s 24ms/step - loss: 1.0502 - acc: 0.6309 - val_loss: 1.1296 - val_acc: 0.5936\n",
      "Epoch 7/15\n",
      "200/200 [==============================] - 5s 23ms/step - loss: 0.9875 - acc: 0.6513 - val_loss: 1.0149 - val_acc: 0.6466\n",
      "Epoch 8/15\n",
      "200/200 [==============================] - 5s 24ms/step - loss: 0.9467 - acc: 0.6692 - val_loss: 0.9531 - val_acc: 0.6822\n",
      "Epoch 9/15\n",
      "200/200 [==============================] - 5s 24ms/step - loss: 0.9036 - acc: 0.6782 - val_loss: 1.1776 - val_acc: 0.6071\n",
      "Epoch 10/15\n",
      "200/200 [==============================] - 5s 24ms/step - loss: 0.8668 - acc: 0.6886 - val_loss: 0.9356 - val_acc: 0.6832\n",
      "Epoch 11/15\n",
      "200/200 [==============================] - 5s 24ms/step - loss: 0.8711 - acc: 0.7025 - val_loss: 0.8989 - val_acc: 0.6877\n",
      "Epoch 12/15\n",
      "200/200 [==============================] - 5s 25ms/step - loss: 0.8294 - acc: 0.7052 - val_loss: 0.9625 - val_acc: 0.6702\n",
      "Epoch 13/15\n",
      "200/200 [==============================] - 5s 24ms/step - loss: 0.8227 - acc: 0.7116 - val_loss: 0.9323 - val_acc: 0.6757\n",
      "Epoch 14/15\n",
      "200/200 [==============================] - 5s 24ms/step - loss: 0.8059 - acc: 0.7130 - val_loss: 1.0323 - val_acc: 0.6682\n",
      "Epoch 15/15\n",
      "200/200 [==============================] - 5s 24ms/step - loss: 0.7764 - acc: 0.7266 - val_loss: 0.8581 - val_acc: 0.7062\n",
      "\n",
      "---Now testing the model for one audio file---\n",
      "The model predicts: blues, and ground truth is: blues.\n",
      "\n",
      "\n"
     ]
    },
    {
     "data": {
      "text/html": [
       "Waiting for W&B process to finish... <strong style=\"color:green\">(success).</strong>"
      ],
      "text/plain": [
       "<IPython.core.display.HTML object>"
      ]
     },
     "metadata": {},
     "output_type": "display_data"
    },
    {
     "data": {
      "application/vnd.jupyter.widget-view+json": {
       "model_id": "",
       "version_major": 2,
       "version_minor": 0
      },
      "text/plain": [
       "VBox(children=(Label(value='0.224 MB of 0.224 MB uploaded (0.000 MB deduped)\\r'), FloatProgress(value=1.0, max…"
      ]
     },
     "metadata": {},
     "output_type": "display_data"
    },
    {
     "data": {
      "text/html": [
       "<style>\n",
       "    table.wandb td:nth-child(1) { padding: 0 10px; text-align: right }\n",
       "    .wandb-row { display: flex; flex-direction: row; flex-wrap: wrap; width: 100% }\n",
       "    .wandb-col { display: flex; flex-direction: column; flex-basis: 100%; flex: 1; padding: 10px; }\n",
       "    </style>\n",
       "<div class=\"wandb-row\"><div class=\"wandb-col\"><h3>Run history:</h3><br/><table class=\"wandb\"><tr><td>acc</td><td>▁▃▅▅▆▆▇▇▇▇█████</td></tr><tr><td>epoch</td><td>▁▁▂▃▃▃▄▅▅▅▆▇▇▇█</td></tr><tr><td>loss</td><td>█▅▄▃▃▃▂▂▂▂▂▁▁▁▁</td></tr><tr><td>val_acc</td><td>▁▂▂▅▅▅▆▇▅▇▇▇▇▇█</td></tr><tr><td>val_loss</td><td>█▇▇▄▅▄▃▂▅▂▁▂▂▃▁</td></tr></table><br/></div><div class=\"wandb-col\"><h3>Run summary:</h3><br/><table class=\"wandb\"><tr><td>acc</td><td>0.72079</td></tr><tr><td>best_epoch</td><td>14</td></tr><tr><td>best_val_loss</td><td>0.85807</td></tr><tr><td>epoch</td><td>14</td></tr><tr><td>loss</td><td>0.79044</td></tr><tr><td>val_acc</td><td>0.70621</td></tr><tr><td>val_loss</td><td>0.85807</td></tr></table><br/></div></div>"
      ],
      "text/plain": [
       "<IPython.core.display.HTML object>"
      ]
     },
     "metadata": {},
     "output_type": "display_data"
    },
    {
     "data": {
      "text/html": [
       "Synced <strong style=\"color:#cdcd00\">glad-sweep-71</strong>: <a href=\"https://wandb.ai/msaintfelix/Sweeps-Genre-Classifier/runs/fv3bikpz\" target=\"_blank\">https://wandb.ai/msaintfelix/Sweeps-Genre-Classifier/runs/fv3bikpz</a><br/>Synced 6 W&B file(s), 1 media file(s), 0 artifact file(s) and 1 other file(s)"
      ],
      "text/plain": [
       "<IPython.core.display.HTML object>"
      ]
     },
     "metadata": {},
     "output_type": "display_data"
    },
    {
     "data": {
      "text/html": [
       "Find logs at: <code>./wandb/run-20220829_221101-fv3bikpz/logs</code>"
      ],
      "text/plain": [
       "<IPython.core.display.HTML object>"
      ]
     },
     "metadata": {},
     "output_type": "display_data"
    },
    {
     "name": "stderr",
     "output_type": "stream",
     "text": [
      "\u001b[34m\u001b[1mwandb\u001b[0m: Agent Starting Run: kt4prfw7 with config:\n",
      "\u001b[34m\u001b[1mwandb\u001b[0m: \tbatch_size: 64\n",
      "\u001b[34m\u001b[1mwandb\u001b[0m: \tconv_layer_size: 32\n",
      "\u001b[34m\u001b[1mwandb\u001b[0m: \tdropout: 0.4\n",
      "\u001b[34m\u001b[1mwandb\u001b[0m: \tepochs: 15\n",
      "\u001b[34m\u001b[1mwandb\u001b[0m: \tlearning_rate: 1e-05\n"
     ]
    },
    {
     "data": {
      "text/html": [
       "wandb version 0.13.2 is available!  To upgrade, please run:\n",
       " $ pip install wandb --upgrade"
      ],
      "text/plain": [
       "<IPython.core.display.HTML object>"
      ]
     },
     "metadata": {},
     "output_type": "display_data"
    },
    {
     "data": {
      "text/html": [
       "Tracking run with wandb version 0.12.11"
      ],
      "text/plain": [
       "<IPython.core.display.HTML object>"
      ]
     },
     "metadata": {},
     "output_type": "display_data"
    },
    {
     "data": {
      "text/html": [
       "Run data is saved locally in <code>/Users/msf/GitHub/TensorFlow_MusicGenre_Classifier/wandb/run-20220829_221243-kt4prfw7</code>"
      ],
      "text/plain": [
       "<IPython.core.display.HTML object>"
      ]
     },
     "metadata": {},
     "output_type": "display_data"
    },
    {
     "data": {
      "text/html": [
       "Syncing run <strong><a href=\"https://wandb.ai/msaintfelix/Sweeps-Genre-Classifier/runs/kt4prfw7\" target=\"_blank\">celestial-sweep-72</a></strong> to <a href=\"https://wandb.ai/msaintfelix/Sweeps-Genre-Classifier\" target=\"_blank\">Weights & Biases</a> (<a href=\"https://wandb.me/run\" target=\"_blank\">docs</a>)<br/>Sweep page:  <a href=\"https://wandb.ai/msaintfelix/Sweeps-Genre-Classifier/sweeps/e7xdbkpy\" target=\"_blank\">https://wandb.ai/msaintfelix/Sweeps-Genre-Classifier/sweeps/e7xdbkpy</a>"
      ],
      "text/plain": [
       "<IPython.core.display.HTML object>"
      ]
     },
     "metadata": {},
     "output_type": "display_data"
    },
    {
     "name": "stdout",
     "output_type": "stream",
     "text": [
      "(9990, 125, 13)\n",
      "Model: \"sequential\"\n",
      "_________________________________________________________________\n",
      "Layer (type)                 Output Shape              Param #   \n",
      "=================================================================\n",
      "conv2d (Conv2D)              (None, 123, 11, 32)       320       \n",
      "_________________________________________________________________\n",
      "max_pooling2d (MaxPooling2D) (None, 62, 6, 32)         0         \n",
      "_________________________________________________________________\n",
      "batch_normalization (BatchNo (None, 62, 6, 32)         128       \n",
      "_________________________________________________________________\n",
      "conv2d_1 (Conv2D)            (None, 60, 4, 32)         9248      \n",
      "_________________________________________________________________\n",
      "max_pooling2d_1 (MaxPooling2 (None, 30, 2, 32)         0         \n",
      "_________________________________________________________________\n",
      "batch_normalization_1 (Batch (None, 30, 2, 32)         128       \n",
      "_________________________________________________________________\n",
      "conv2d_2 (Conv2D)            (None, 29, 1, 32)         4128      \n",
      "_________________________________________________________________\n",
      "max_pooling2d_2 (MaxPooling2 (None, 15, 1, 32)         0         \n",
      "_________________________________________________________________\n",
      "batch_normalization_2 (Batch (None, 15, 1, 32)         128       \n",
      "_________________________________________________________________\n",
      "dropout (Dropout)            (None, 15, 1, 32)         0         \n",
      "_________________________________________________________________\n",
      "flatten (Flatten)            (None, 480)               0         \n",
      "_________________________________________________________________\n",
      "dense (Dense)                (None, 64)                30784     \n",
      "_________________________________________________________________\n",
      "dense_1 (Dense)              (None, 10)                650       \n",
      "=================================================================\n",
      "Total params: 45,514\n",
      "Trainable params: 45,322\n",
      "Non-trainable params: 192\n",
      "_________________________________________________________________\n",
      "Epoch 1/15\n",
      "100/100 [==============================] - 8s 73ms/step - loss: 3.3171 - acc: 0.1024 - val_loss: 2.9834 - val_acc: 0.0876\n",
      "Epoch 2/15\n",
      "100/100 [==============================] - 7s 73ms/step - loss: 3.0428 - acc: 0.1363 - val_loss: 2.5303 - val_acc: 0.1471\n",
      "Epoch 3/15\n",
      "100/100 [==============================] - 7s 72ms/step - loss: 2.9372 - acc: 0.1501 - val_loss: 2.4118 - val_acc: 0.1887\n",
      "Epoch 4/15\n",
      "100/100 [==============================] - 7s 72ms/step - loss: 2.7796 - acc: 0.1755 - val_loss: 2.3230 - val_acc: 0.2312\n",
      "Epoch 5/15\n",
      "100/100 [==============================] - 8s 75ms/step - loss: 2.6840 - acc: 0.1852 - val_loss: 2.2360 - val_acc: 0.2573\n",
      "Epoch 6/15\n",
      "100/100 [==============================] - 8s 76ms/step - loss: 2.5499 - acc: 0.2056 - val_loss: 2.1606 - val_acc: 0.2753\n",
      "Epoch 7/15\n",
      "100/100 [==============================] - 8s 76ms/step - loss: 2.4668 - acc: 0.2279 - val_loss: 2.0949 - val_acc: 0.2988\n",
      "Epoch 8/15\n",
      "100/100 [==============================] - 8s 76ms/step - loss: 2.4099 - acc: 0.2479 - val_loss: 2.0398 - val_acc: 0.3158\n",
      "Epoch 9/15\n",
      "100/100 [==============================] - 8s 75ms/step - loss: 2.3359 - acc: 0.2539 - val_loss: 1.9879 - val_acc: 0.3283\n",
      "Epoch 10/15\n",
      "100/100 [==============================] - 8s 76ms/step - loss: 2.2926 - acc: 0.2644 - val_loss: 1.9445 - val_acc: 0.3398\n",
      "Epoch 11/15\n",
      "100/100 [==============================] - 8s 76ms/step - loss: 2.2239 - acc: 0.2897 - val_loss: 1.9031 - val_acc: 0.3579\n",
      "Epoch 12/15\n",
      "100/100 [==============================] - 8s 75ms/step - loss: 2.1752 - acc: 0.3054 - val_loss: 1.8699 - val_acc: 0.3634\n",
      "Epoch 13/15\n",
      "100/100 [==============================] - 7s 74ms/step - loss: 2.1600 - acc: 0.2970 - val_loss: 1.8361 - val_acc: 0.3714\n",
      "Epoch 14/15\n",
      "100/100 [==============================] - 7s 74ms/step - loss: 2.1214 - acc: 0.2995 - val_loss: 1.8057 - val_acc: 0.3814\n",
      "Epoch 15/15\n",
      "100/100 [==============================] - 7s 74ms/step - loss: 2.0902 - acc: 0.3125 - val_loss: 1.7803 - val_acc: 0.3844\n",
      "\n",
      "---Now testing the model for one audio file---\n",
      "The model predicts: classical, and ground truth is: metal.\n",
      "\n",
      "\n"
     ]
    },
    {
     "data": {
      "text/html": [
       "Waiting for W&B process to finish... <strong style=\"color:green\">(success).</strong>"
      ],
      "text/plain": [
       "<IPython.core.display.HTML object>"
      ]
     },
     "metadata": {},
     "output_type": "display_data"
    },
    {
     "data": {
      "application/vnd.jupyter.widget-view+json": {
       "model_id": "",
       "version_major": 2,
       "version_minor": 0
      },
      "text/plain": [
       "VBox(children=(Label(value='0.419 MB of 0.419 MB uploaded (0.000 MB deduped)\\r'), FloatProgress(value=1.0, max…"
      ]
     },
     "metadata": {},
     "output_type": "display_data"
    },
    {
     "data": {
      "text/html": [
       "<style>\n",
       "    table.wandb td:nth-child(1) { padding: 0 10px; text-align: right }\n",
       "    .wandb-row { display: flex; flex-direction: row; flex-wrap: wrap; width: 100% }\n",
       "    .wandb-col { display: flex; flex-direction: column; flex-basis: 100%; flex: 1; padding: 10px; }\n",
       "    </style>\n",
       "<div class=\"wandb-row\"><div class=\"wandb-col\"><h3>Run history:</h3><br/><table class=\"wandb\"><tr><td>acc</td><td>▁▂▂▃▄▄▅▆▆▇▇▇▇██</td></tr><tr><td>epoch</td><td>▁▁▂▃▃▃▄▅▅▅▆▇▇▇█</td></tr><tr><td>loss</td><td>█▇▆▅▄▄▃▃▃▂▂▂▂▁▁</td></tr><tr><td>val_acc</td><td>▁▂▃▄▅▅▆▆▇▇▇████</td></tr><tr><td>val_loss</td><td>█▅▅▄▄▃▃▃▂▂▂▂▁▁▁</td></tr></table><br/></div><div class=\"wandb-col\"><h3>Run summary:</h3><br/><table class=\"wandb\"><tr><td>acc</td><td>0.31816</td></tr><tr><td>best_epoch</td><td>14</td></tr><tr><td>best_val_loss</td><td>1.78032</td></tr><tr><td>epoch</td><td>14</td></tr><tr><td>loss</td><td>2.0572</td></tr><tr><td>val_acc</td><td>0.38438</td></tr><tr><td>val_loss</td><td>1.78032</td></tr></table><br/></div></div>"
      ],
      "text/plain": [
       "<IPython.core.display.HTML object>"
      ]
     },
     "metadata": {},
     "output_type": "display_data"
    },
    {
     "data": {
      "text/html": [
       "Synced <strong style=\"color:#cdcd00\">celestial-sweep-72</strong>: <a href=\"https://wandb.ai/msaintfelix/Sweeps-Genre-Classifier/runs/kt4prfw7\" target=\"_blank\">https://wandb.ai/msaintfelix/Sweeps-Genre-Classifier/runs/kt4prfw7</a><br/>Synced 6 W&B file(s), 1 media file(s), 0 artifact file(s) and 1 other file(s)"
      ],
      "text/plain": [
       "<IPython.core.display.HTML object>"
      ]
     },
     "metadata": {},
     "output_type": "display_data"
    },
    {
     "data": {
      "text/html": [
       "Find logs at: <code>./wandb/run-20220829_221243-kt4prfw7/logs</code>"
      ],
      "text/plain": [
       "<IPython.core.display.HTML object>"
      ]
     },
     "metadata": {},
     "output_type": "display_data"
    },
    {
     "name": "stderr",
     "output_type": "stream",
     "text": [
      "\u001b[34m\u001b[1mwandb\u001b[0m: Agent Starting Run: c72g8xrk with config:\n",
      "\u001b[34m\u001b[1mwandb\u001b[0m: \tbatch_size: 32\n",
      "\u001b[34m\u001b[1mwandb\u001b[0m: \tconv_layer_size: 16\n",
      "\u001b[34m\u001b[1mwandb\u001b[0m: \tdropout: 0.3\n",
      "\u001b[34m\u001b[1mwandb\u001b[0m: \tepochs: 5\n",
      "\u001b[34m\u001b[1mwandb\u001b[0m: \tlearning_rate: 0.0003\n"
     ]
    },
    {
     "data": {
      "text/html": [
       "wandb version 0.13.2 is available!  To upgrade, please run:\n",
       " $ pip install wandb --upgrade"
      ],
      "text/plain": [
       "<IPython.core.display.HTML object>"
      ]
     },
     "metadata": {},
     "output_type": "display_data"
    },
    {
     "data": {
      "text/html": [
       "Tracking run with wandb version 0.12.11"
      ],
      "text/plain": [
       "<IPython.core.display.HTML object>"
      ]
     },
     "metadata": {},
     "output_type": "display_data"
    },
    {
     "data": {
      "text/html": [
       "Run data is saved locally in <code>/Users/msf/GitHub/TensorFlow_MusicGenre_Classifier/wandb/run-20220829_221501-c72g8xrk</code>"
      ],
      "text/plain": [
       "<IPython.core.display.HTML object>"
      ]
     },
     "metadata": {},
     "output_type": "display_data"
    },
    {
     "data": {
      "text/html": [
       "Syncing run <strong><a href=\"https://wandb.ai/msaintfelix/Sweeps-Genre-Classifier/runs/c72g8xrk\" target=\"_blank\">rich-sweep-73</a></strong> to <a href=\"https://wandb.ai/msaintfelix/Sweeps-Genre-Classifier\" target=\"_blank\">Weights & Biases</a> (<a href=\"https://wandb.me/run\" target=\"_blank\">docs</a>)<br/>Sweep page:  <a href=\"https://wandb.ai/msaintfelix/Sweeps-Genre-Classifier/sweeps/e7xdbkpy\" target=\"_blank\">https://wandb.ai/msaintfelix/Sweeps-Genre-Classifier/sweeps/e7xdbkpy</a>"
      ],
      "text/plain": [
       "<IPython.core.display.HTML object>"
      ]
     },
     "metadata": {},
     "output_type": "display_data"
    },
    {
     "name": "stdout",
     "output_type": "stream",
     "text": [
      "(9990, 125, 13)\n",
      "Model: \"sequential\"\n",
      "_________________________________________________________________\n",
      "Layer (type)                 Output Shape              Param #   \n",
      "=================================================================\n",
      "conv2d (Conv2D)              (None, 123, 11, 16)       160       \n",
      "_________________________________________________________________\n",
      "max_pooling2d (MaxPooling2D) (None, 62, 6, 16)         0         \n",
      "_________________________________________________________________\n",
      "batch_normalization (BatchNo (None, 62, 6, 16)         64        \n",
      "_________________________________________________________________\n",
      "conv2d_1 (Conv2D)            (None, 60, 4, 16)         2320      \n",
      "_________________________________________________________________\n",
      "max_pooling2d_1 (MaxPooling2 (None, 30, 2, 16)         0         \n",
      "_________________________________________________________________\n",
      "batch_normalization_1 (Batch (None, 30, 2, 16)         64        \n",
      "_________________________________________________________________\n",
      "conv2d_2 (Conv2D)            (None, 29, 1, 16)         1040      \n",
      "_________________________________________________________________\n",
      "max_pooling2d_2 (MaxPooling2 (None, 15, 1, 16)         0         \n",
      "_________________________________________________________________\n",
      "batch_normalization_2 (Batch (None, 15, 1, 16)         64        \n",
      "_________________________________________________________________\n",
      "dropout (Dropout)            (None, 15, 1, 16)         0         \n",
      "_________________________________________________________________\n",
      "flatten (Flatten)            (None, 240)               0         \n",
      "_________________________________________________________________\n",
      "dense (Dense)                (None, 64)                15424     \n",
      "_________________________________________________________________\n",
      "dense_1 (Dense)              (None, 10)                650       \n",
      "=================================================================\n",
      "Total params: 19,786\n",
      "Trainable params: 19,690\n",
      "Non-trainable params: 96\n",
      "_________________________________________________________________\n",
      "Epoch 1/5\n",
      "200/200 [==============================] - 6s 24ms/step - loss: 2.4032 - acc: 0.2124 - val_loss: 1.7265 - val_acc: 0.3744\n",
      "Epoch 2/5\n",
      "200/200 [==============================] - 5s 24ms/step - loss: 1.6540 - acc: 0.3976 - val_loss: 1.4138 - val_acc: 0.4860\n",
      "Epoch 3/5\n",
      "200/200 [==============================] - 5s 24ms/step - loss: 1.4366 - acc: 0.4815 - val_loss: 1.2894 - val_acc: 0.5235\n",
      "Epoch 4/5\n",
      "200/200 [==============================] - 5s 24ms/step - loss: 1.3098 - acc: 0.5145 - val_loss: 1.1909 - val_acc: 0.5591\n",
      "Epoch 5/5\n",
      "200/200 [==============================] - 5s 24ms/step - loss: 1.2325 - acc: 0.5313 - val_loss: 1.1602 - val_acc: 0.5781\n",
      "\n",
      "---Now testing the model for one audio file---\n",
      "The model predicts: hiphop, and ground truth is: hiphop.\n",
      "\n",
      "\n"
     ]
    },
    {
     "data": {
      "text/html": [
       "Waiting for W&B process to finish... <strong style=\"color:green\">(success).</strong>"
      ],
      "text/plain": [
       "<IPython.core.display.HTML object>"
      ]
     },
     "metadata": {},
     "output_type": "display_data"
    },
    {
     "data": {
      "application/vnd.jupyter.widget-view+json": {
       "model_id": "",
       "version_major": 2,
       "version_minor": 0
      },
      "text/plain": [
       "VBox(children=(Label(value='0.224 MB of 0.224 MB uploaded (0.000 MB deduped)\\r'), FloatProgress(value=1.0, max…"
      ]
     },
     "metadata": {},
     "output_type": "display_data"
    },
    {
     "data": {
      "text/html": [
       "<style>\n",
       "    table.wandb td:nth-child(1) { padding: 0 10px; text-align: right }\n",
       "    .wandb-row { display: flex; flex-direction: row; flex-wrap: wrap; width: 100% }\n",
       "    .wandb-col { display: flex; flex-direction: column; flex-basis: 100%; flex: 1; padding: 10px; }\n",
       "    </style>\n",
       "<div class=\"wandb-row\"><div class=\"wandb-col\"><h3>Run history:</h3><br/><table class=\"wandb\"><tr><td>acc</td><td>▁▅▇▇█</td></tr><tr><td>epoch</td><td>▁▃▅▆█</td></tr><tr><td>loss</td><td>█▄▂▂▁</td></tr><tr><td>val_acc</td><td>▁▅▆▇█</td></tr><tr><td>val_loss</td><td>█▄▃▁▁</td></tr></table><br/></div><div class=\"wandb-col\"><h3>Run summary:</h3><br/><table class=\"wandb\"><tr><td>acc</td><td>0.53762</td></tr><tr><td>best_epoch</td><td>4</td></tr><tr><td>best_val_loss</td><td>1.16022</td></tr><tr><td>epoch</td><td>4</td></tr><tr><td>loss</td><td>1.22932</td></tr><tr><td>val_acc</td><td>0.57808</td></tr><tr><td>val_loss</td><td>1.16022</td></tr></table><br/></div></div>"
      ],
      "text/plain": [
       "<IPython.core.display.HTML object>"
      ]
     },
     "metadata": {},
     "output_type": "display_data"
    },
    {
     "data": {
      "text/html": [
       "Synced <strong style=\"color:#cdcd00\">rich-sweep-73</strong>: <a href=\"https://wandb.ai/msaintfelix/Sweeps-Genre-Classifier/runs/c72g8xrk\" target=\"_blank\">https://wandb.ai/msaintfelix/Sweeps-Genre-Classifier/runs/c72g8xrk</a><br/>Synced 6 W&B file(s), 1 media file(s), 0 artifact file(s) and 1 other file(s)"
      ],
      "text/plain": [
       "<IPython.core.display.HTML object>"
      ]
     },
     "metadata": {},
     "output_type": "display_data"
    },
    {
     "data": {
      "text/html": [
       "Find logs at: <code>./wandb/run-20220829_221501-c72g8xrk/logs</code>"
      ],
      "text/plain": [
       "<IPython.core.display.HTML object>"
      ]
     },
     "metadata": {},
     "output_type": "display_data"
    },
    {
     "name": "stderr",
     "output_type": "stream",
     "text": [
      "\u001b[34m\u001b[1mwandb\u001b[0m: Agent Starting Run: dz32srqf with config:\n",
      "\u001b[34m\u001b[1mwandb\u001b[0m: \tbatch_size: 64\n",
      "\u001b[34m\u001b[1mwandb\u001b[0m: \tconv_layer_size: 32\n",
      "\u001b[34m\u001b[1mwandb\u001b[0m: \tdropout: 0.3\n",
      "\u001b[34m\u001b[1mwandb\u001b[0m: \tepochs: 15\n",
      "\u001b[34m\u001b[1mwandb\u001b[0m: \tlearning_rate: 0.01\n"
     ]
    },
    {
     "data": {
      "text/html": [
       "wandb version 0.13.2 is available!  To upgrade, please run:\n",
       " $ pip install wandb --upgrade"
      ],
      "text/plain": [
       "<IPython.core.display.HTML object>"
      ]
     },
     "metadata": {},
     "output_type": "display_data"
    },
    {
     "data": {
      "text/html": [
       "Tracking run with wandb version 0.12.11"
      ],
      "text/plain": [
       "<IPython.core.display.HTML object>"
      ]
     },
     "metadata": {},
     "output_type": "display_data"
    },
    {
     "data": {
      "text/html": [
       "Run data is saved locally in <code>/Users/msf/GitHub/TensorFlow_MusicGenre_Classifier/wandb/run-20220829_221551-dz32srqf</code>"
      ],
      "text/plain": [
       "<IPython.core.display.HTML object>"
      ]
     },
     "metadata": {},
     "output_type": "display_data"
    },
    {
     "data": {
      "text/html": [
       "Syncing run <strong><a href=\"https://wandb.ai/msaintfelix/Sweeps-Genre-Classifier/runs/dz32srqf\" target=\"_blank\">lemon-sweep-74</a></strong> to <a href=\"https://wandb.ai/msaintfelix/Sweeps-Genre-Classifier\" target=\"_blank\">Weights & Biases</a> (<a href=\"https://wandb.me/run\" target=\"_blank\">docs</a>)<br/>Sweep page:  <a href=\"https://wandb.ai/msaintfelix/Sweeps-Genre-Classifier/sweeps/e7xdbkpy\" target=\"_blank\">https://wandb.ai/msaintfelix/Sweeps-Genre-Classifier/sweeps/e7xdbkpy</a>"
      ],
      "text/plain": [
       "<IPython.core.display.HTML object>"
      ]
     },
     "metadata": {},
     "output_type": "display_data"
    },
    {
     "name": "stdout",
     "output_type": "stream",
     "text": [
      "(9990, 125, 13)\n",
      "Model: \"sequential\"\n",
      "_________________________________________________________________\n",
      "Layer (type)                 Output Shape              Param #   \n",
      "=================================================================\n",
      "conv2d (Conv2D)              (None, 123, 11, 32)       320       \n",
      "_________________________________________________________________\n",
      "max_pooling2d (MaxPooling2D) (None, 62, 6, 32)         0         \n",
      "_________________________________________________________________\n",
      "batch_normalization (BatchNo (None, 62, 6, 32)         128       \n",
      "_________________________________________________________________\n",
      "conv2d_1 (Conv2D)            (None, 60, 4, 32)         9248      \n",
      "_________________________________________________________________\n",
      "max_pooling2d_1 (MaxPooling2 (None, 30, 2, 32)         0         \n",
      "_________________________________________________________________\n",
      "batch_normalization_1 (Batch (None, 30, 2, 32)         128       \n",
      "_________________________________________________________________\n",
      "conv2d_2 (Conv2D)            (None, 29, 1, 32)         4128      \n",
      "_________________________________________________________________\n",
      "max_pooling2d_2 (MaxPooling2 (None, 15, 1, 32)         0         \n",
      "_________________________________________________________________\n",
      "batch_normalization_2 (Batch (None, 15, 1, 32)         128       \n",
      "_________________________________________________________________\n",
      "dropout (Dropout)            (None, 15, 1, 32)         0         \n",
      "_________________________________________________________________\n",
      "flatten (Flatten)            (None, 480)               0         \n",
      "_________________________________________________________________\n",
      "dense (Dense)                (None, 64)                30784     \n",
      "_________________________________________________________________\n",
      "dense_1 (Dense)              (None, 10)                650       \n",
      "=================================================================\n",
      "Total params: 45,514\n",
      "Trainable params: 45,322\n",
      "Non-trainable params: 192\n",
      "_________________________________________________________________\n",
      "Epoch 1/15\n",
      "100/100 [==============================] - 8s 75ms/step - loss: 2.8407 - acc: 0.2923 - val_loss: 14.2758 - val_acc: 0.1316\n",
      "Epoch 2/15\n",
      "100/100 [==============================] - 7s 74ms/step - loss: 1.3670 - acc: 0.4932 - val_loss: 2.2756 - val_acc: 0.4069\n",
      "Epoch 3/15\n",
      "100/100 [==============================] - 7s 75ms/step - loss: 1.1660 - acc: 0.5822 - val_loss: 1.9565 - val_acc: 0.5010\n",
      "Epoch 4/15\n",
      "100/100 [==============================] - 8s 77ms/step - loss: 1.0453 - acc: 0.6214 - val_loss: 2.5526 - val_acc: 0.4034\n",
      "Epoch 5/15\n",
      "100/100 [==============================] - 8s 76ms/step - loss: 0.9656 - acc: 0.6563 - val_loss: 1.0785 - val_acc: 0.6291\n",
      "Epoch 6/15\n",
      "100/100 [==============================] - 7s 75ms/step - loss: 0.9038 - acc: 0.6901 - val_loss: 1.2146 - val_acc: 0.6577\n",
      "Epoch 7/15\n",
      "100/100 [==============================] - 7s 74ms/step - loss: 0.8569 - acc: 0.7070 - val_loss: 1.0973 - val_acc: 0.6537\n",
      "Epoch 8/15\n",
      "100/100 [==============================] - 7s 75ms/step - loss: 0.7788 - acc: 0.7292 - val_loss: 1.0355 - val_acc: 0.6827\n",
      "Epoch 9/15\n",
      "100/100 [==============================] - 8s 75ms/step - loss: 0.7689 - acc: 0.7342 - val_loss: 1.3932 - val_acc: 0.6326\n",
      "Epoch 10/15\n",
      "100/100 [==============================] - 8s 75ms/step - loss: 0.7502 - acc: 0.7419 - val_loss: 0.9008 - val_acc: 0.6912\n",
      "Epoch 11/15\n",
      "100/100 [==============================] - 7s 75ms/step - loss: 0.6813 - acc: 0.7658 - val_loss: 1.4191 - val_acc: 0.6662\n",
      "Epoch 12/15\n",
      "100/100 [==============================] - 7s 75ms/step - loss: 0.6914 - acc: 0.7629 - val_loss: 20.4889 - val_acc: 0.5035\n",
      "Epoch 13/15\n",
      "100/100 [==============================] - 8s 75ms/step - loss: 0.7038 - acc: 0.7694 - val_loss: 1.2277 - val_acc: 0.6867\n",
      "Epoch 14/15\n",
      "100/100 [==============================] - 7s 75ms/step - loss: 0.6399 - acc: 0.7759 - val_loss: 0.9628 - val_acc: 0.6977\n",
      "Epoch 15/15\n",
      "100/100 [==============================] - 7s 75ms/step - loss: 0.5764 - acc: 0.8051 - val_loss: 1.0582 - val_acc: 0.6867\n",
      "\n",
      "---Now testing the model for one audio file---\n",
      "The model predicts: hiphop, and ground truth is: pop.\n",
      "\n",
      "\n"
     ]
    },
    {
     "data": {
      "text/html": [
       "Waiting for W&B process to finish... <strong style=\"color:green\">(success).</strong>"
      ],
      "text/plain": [
       "<IPython.core.display.HTML object>"
      ]
     },
     "metadata": {},
     "output_type": "display_data"
    },
    {
     "data": {
      "application/vnd.jupyter.widget-view+json": {
       "model_id": "",
       "version_major": 2,
       "version_minor": 0
      },
      "text/plain": [
       "VBox(children=(Label(value='0.419 MB of 0.419 MB uploaded (0.000 MB deduped)\\r'), FloatProgress(value=1.0, max…"
      ]
     },
     "metadata": {},
     "output_type": "display_data"
    },
    {
     "data": {
      "text/html": [
       "<style>\n",
       "    table.wandb td:nth-child(1) { padding: 0 10px; text-align: right }\n",
       "    .wandb-row { display: flex; flex-direction: row; flex-wrap: wrap; width: 100% }\n",
       "    .wandb-col { display: flex; flex-direction: column; flex-basis: 100%; flex: 1; padding: 10px; }\n",
       "    </style>\n",
       "<div class=\"wandb-row\"><div class=\"wandb-col\"><h3>Run history:</h3><br/><table class=\"wandb\"><tr><td>acc</td><td>▁▃▅▅▆▆▇▇▇▇▇████</td></tr><tr><td>epoch</td><td>▁▁▂▃▃▃▄▅▅▅▆▇▇▇█</td></tr><tr><td>loss</td><td>█▄▄▃▃▂▂▂▂▂▁▁▁▁▁</td></tr><tr><td>val_acc</td><td>▁▄▆▄▇█▇█▇██▆███</td></tr><tr><td>val_loss</td><td>▆▁▁▂▁▁▁▁▁▁▁█▁▁▁</td></tr></table><br/></div><div class=\"wandb-col\"><h3>Run summary:</h3><br/><table class=\"wandb\"><tr><td>acc</td><td>0.79509</td></tr><tr><td>best_epoch</td><td>9</td></tr><tr><td>best_val_loss</td><td>0.90082</td></tr><tr><td>epoch</td><td>14</td></tr><tr><td>loss</td><td>0.61941</td></tr><tr><td>val_acc</td><td>0.68669</td></tr><tr><td>val_loss</td><td>1.05818</td></tr></table><br/></div></div>"
      ],
      "text/plain": [
       "<IPython.core.display.HTML object>"
      ]
     },
     "metadata": {},
     "output_type": "display_data"
    },
    {
     "data": {
      "text/html": [
       "Synced <strong style=\"color:#cdcd00\">lemon-sweep-74</strong>: <a href=\"https://wandb.ai/msaintfelix/Sweeps-Genre-Classifier/runs/dz32srqf\" target=\"_blank\">https://wandb.ai/msaintfelix/Sweeps-Genre-Classifier/runs/dz32srqf</a><br/>Synced 6 W&B file(s), 1 media file(s), 0 artifact file(s) and 1 other file(s)"
      ],
      "text/plain": [
       "<IPython.core.display.HTML object>"
      ]
     },
     "metadata": {},
     "output_type": "display_data"
    },
    {
     "data": {
      "text/html": [
       "Find logs at: <code>./wandb/run-20220829_221551-dz32srqf/logs</code>"
      ],
      "text/plain": [
       "<IPython.core.display.HTML object>"
      ]
     },
     "metadata": {},
     "output_type": "display_data"
    },
    {
     "name": "stderr",
     "output_type": "stream",
     "text": [
      "\u001b[34m\u001b[1mwandb\u001b[0m: Sweep Agent: Waiting for job.\n",
      "\u001b[34m\u001b[1mwandb\u001b[0m: Job received.\n",
      "\u001b[34m\u001b[1mwandb\u001b[0m: Agent Starting Run: rv1zeh8b with config:\n",
      "\u001b[34m\u001b[1mwandb\u001b[0m: \tbatch_size: 32\n",
      "\u001b[34m\u001b[1mwandb\u001b[0m: \tconv_layer_size: 16\n",
      "\u001b[34m\u001b[1mwandb\u001b[0m: \tdropout: 0.3\n",
      "\u001b[34m\u001b[1mwandb\u001b[0m: \tepochs: 10\n",
      "\u001b[34m\u001b[1mwandb\u001b[0m: \tlearning_rate: 0.0003\n"
     ]
    },
    {
     "data": {
      "text/html": [
       "wandb version 0.13.2 is available!  To upgrade, please run:\n",
       " $ pip install wandb --upgrade"
      ],
      "text/plain": [
       "<IPython.core.display.HTML object>"
      ]
     },
     "metadata": {},
     "output_type": "display_data"
    },
    {
     "data": {
      "text/html": [
       "Tracking run with wandb version 0.12.11"
      ],
      "text/plain": [
       "<IPython.core.display.HTML object>"
      ]
     },
     "metadata": {},
     "output_type": "display_data"
    },
    {
     "data": {
      "text/html": [
       "Run data is saved locally in <code>/Users/msf/GitHub/TensorFlow_MusicGenre_Classifier/wandb/run-20220829_221819-rv1zeh8b</code>"
      ],
      "text/plain": [
       "<IPython.core.display.HTML object>"
      ]
     },
     "metadata": {},
     "output_type": "display_data"
    },
    {
     "data": {
      "text/html": [
       "Syncing run <strong><a href=\"https://wandb.ai/msaintfelix/Sweeps-Genre-Classifier/runs/rv1zeh8b\" target=\"_blank\">logical-sweep-75</a></strong> to <a href=\"https://wandb.ai/msaintfelix/Sweeps-Genre-Classifier\" target=\"_blank\">Weights & Biases</a> (<a href=\"https://wandb.me/run\" target=\"_blank\">docs</a>)<br/>Sweep page:  <a href=\"https://wandb.ai/msaintfelix/Sweeps-Genre-Classifier/sweeps/e7xdbkpy\" target=\"_blank\">https://wandb.ai/msaintfelix/Sweeps-Genre-Classifier/sweeps/e7xdbkpy</a>"
      ],
      "text/plain": [
       "<IPython.core.display.HTML object>"
      ]
     },
     "metadata": {},
     "output_type": "display_data"
    },
    {
     "name": "stdout",
     "output_type": "stream",
     "text": [
      "(9990, 125, 13)\n",
      "Model: \"sequential\"\n",
      "_________________________________________________________________\n",
      "Layer (type)                 Output Shape              Param #   \n",
      "=================================================================\n",
      "conv2d (Conv2D)              (None, 123, 11, 16)       160       \n",
      "_________________________________________________________________\n",
      "max_pooling2d (MaxPooling2D) (None, 62, 6, 16)         0         \n",
      "_________________________________________________________________\n",
      "batch_normalization (BatchNo (None, 62, 6, 16)         64        \n",
      "_________________________________________________________________\n",
      "conv2d_1 (Conv2D)            (None, 60, 4, 16)         2320      \n",
      "_________________________________________________________________\n",
      "max_pooling2d_1 (MaxPooling2 (None, 30, 2, 16)         0         \n",
      "_________________________________________________________________\n",
      "batch_normalization_1 (Batch (None, 30, 2, 16)         64        \n",
      "_________________________________________________________________\n",
      "conv2d_2 (Conv2D)            (None, 29, 1, 16)         1040      \n",
      "_________________________________________________________________\n",
      "max_pooling2d_2 (MaxPooling2 (None, 15, 1, 16)         0         \n",
      "_________________________________________________________________\n",
      "batch_normalization_2 (Batch (None, 15, 1, 16)         64        \n",
      "_________________________________________________________________\n",
      "dropout (Dropout)            (None, 15, 1, 16)         0         \n",
      "_________________________________________________________________\n",
      "flatten (Flatten)            (None, 240)               0         \n",
      "_________________________________________________________________\n",
      "dense (Dense)                (None, 64)                15424     \n",
      "_________________________________________________________________\n",
      "dense_1 (Dense)              (None, 10)                650       \n",
      "=================================================================\n",
      "Total params: 19,786\n",
      "Trainable params: 19,690\n",
      "Non-trainable params: 96\n",
      "_________________________________________________________________\n",
      "Epoch 1/10\n",
      "200/200 [==============================] - 6s 25ms/step - loss: 2.2803 - acc: 0.2464 - val_loss: 1.7007 - val_acc: 0.3804\n",
      "Epoch 2/10\n",
      "200/200 [==============================] - 5s 24ms/step - loss: 1.5971 - acc: 0.4303 - val_loss: 1.3586 - val_acc: 0.4960\n",
      "Epoch 3/10\n",
      "200/200 [==============================] - 5s 24ms/step - loss: 1.4337 - acc: 0.4805 - val_loss: 1.3022 - val_acc: 0.5180\n",
      "Epoch 4/10\n",
      "200/200 [==============================] - 5s 25ms/step - loss: 1.3354 - acc: 0.5170 - val_loss: 1.1891 - val_acc: 0.5561\n",
      "Epoch 5/10\n",
      "200/200 [==============================] - 5s 24ms/step - loss: 1.2450 - acc: 0.5553 - val_loss: 1.1157 - val_acc: 0.5966\n",
      "Epoch 6/10\n",
      "200/200 [==============================] - 5s 24ms/step - loss: 1.1694 - acc: 0.5730 - val_loss: 1.1709 - val_acc: 0.5611\n",
      "Epoch 7/10\n",
      "200/200 [==============================] - 5s 24ms/step - loss: 1.1093 - acc: 0.5916 - val_loss: 1.0867 - val_acc: 0.6056\n",
      "Epoch 8/10\n",
      "200/200 [==============================] - 5s 24ms/step - loss: 1.0809 - acc: 0.6008 - val_loss: 1.0132 - val_acc: 0.6311\n",
      "Epoch 9/10\n",
      "200/200 [==============================] - 5s 24ms/step - loss: 1.0462 - acc: 0.6137 - val_loss: 0.9588 - val_acc: 0.6602\n",
      "Epoch 10/10\n",
      "200/200 [==============================] - 5s 24ms/step - loss: 0.9886 - acc: 0.6444 - val_loss: 0.9705 - val_acc: 0.6461\n",
      "\n",
      "---Now testing the model for one audio file---\n",
      "The model predicts: classical, and ground truth is: classical.\n",
      "\n",
      "\n"
     ]
    },
    {
     "data": {
      "text/html": [
       "Waiting for W&B process to finish... <strong style=\"color:green\">(success).</strong>"
      ],
      "text/plain": [
       "<IPython.core.display.HTML object>"
      ]
     },
     "metadata": {},
     "output_type": "display_data"
    },
    {
     "data": {
      "application/vnd.jupyter.widget-view+json": {
       "model_id": "",
       "version_major": 2,
       "version_minor": 0
      },
      "text/plain": [
       "VBox(children=(Label(value='0.224 MB of 0.224 MB uploaded (0.000 MB deduped)\\r'), FloatProgress(value=1.0, max…"
      ]
     },
     "metadata": {},
     "output_type": "display_data"
    },
    {
     "data": {
      "text/html": [
       "<style>\n",
       "    table.wandb td:nth-child(1) { padding: 0 10px; text-align: right }\n",
       "    .wandb-row { display: flex; flex-direction: row; flex-wrap: wrap; width: 100% }\n",
       "    .wandb-col { display: flex; flex-direction: column; flex-basis: 100%; flex: 1; padding: 10px; }\n",
       "    </style>\n",
       "<div class=\"wandb-row\"><div class=\"wandb-col\"><h3>Run history:</h3><br/><table class=\"wandb\"><tr><td>acc</td><td>▁▄▅▅▆▆▇▇██</td></tr><tr><td>epoch</td><td>▁▂▃▃▄▅▆▆▇█</td></tr><tr><td>loss</td><td>█▅▄▃▃▂▂▂▁▁</td></tr><tr><td>val_acc</td><td>▁▄▄▅▆▆▇▇██</td></tr><tr><td>val_loss</td><td>█▅▄▃▂▃▂▂▁▁</td></tr></table><br/></div><div class=\"wandb-col\"><h3>Run summary:</h3><br/><table class=\"wandb\"><tr><td>acc</td><td>0.64649</td></tr><tr><td>best_epoch</td><td>8</td></tr><tr><td>best_val_loss</td><td>0.9588</td></tr><tr><td>epoch</td><td>9</td></tr><tr><td>loss</td><td>0.98594</td></tr><tr><td>val_acc</td><td>0.64615</td></tr><tr><td>val_loss</td><td>0.97047</td></tr></table><br/></div></div>"
      ],
      "text/plain": [
       "<IPython.core.display.HTML object>"
      ]
     },
     "metadata": {},
     "output_type": "display_data"
    },
    {
     "data": {
      "text/html": [
       "Synced <strong style=\"color:#cdcd00\">logical-sweep-75</strong>: <a href=\"https://wandb.ai/msaintfelix/Sweeps-Genre-Classifier/runs/rv1zeh8b\" target=\"_blank\">https://wandb.ai/msaintfelix/Sweeps-Genre-Classifier/runs/rv1zeh8b</a><br/>Synced 6 W&B file(s), 1 media file(s), 0 artifact file(s) and 1 other file(s)"
      ],
      "text/plain": [
       "<IPython.core.display.HTML object>"
      ]
     },
     "metadata": {},
     "output_type": "display_data"
    },
    {
     "data": {
      "text/html": [
       "Find logs at: <code>./wandb/run-20220829_221819-rv1zeh8b/logs</code>"
      ],
      "text/plain": [
       "<IPython.core.display.HTML object>"
      ]
     },
     "metadata": {},
     "output_type": "display_data"
    },
    {
     "name": "stderr",
     "output_type": "stream",
     "text": [
      "\u001b[34m\u001b[1mwandb\u001b[0m: Agent Starting Run: 72iz42qo with config:\n",
      "\u001b[34m\u001b[1mwandb\u001b[0m: \tbatch_size: 32\n",
      "\u001b[34m\u001b[1mwandb\u001b[0m: \tconv_layer_size: 64\n",
      "\u001b[34m\u001b[1mwandb\u001b[0m: \tdropout: 0.3\n",
      "\u001b[34m\u001b[1mwandb\u001b[0m: \tepochs: 5\n",
      "\u001b[34m\u001b[1mwandb\u001b[0m: \tlearning_rate: 3e-05\n"
     ]
    },
    {
     "data": {
      "text/html": [
       "wandb version 0.13.2 is available!  To upgrade, please run:\n",
       " $ pip install wandb --upgrade"
      ],
      "text/plain": [
       "<IPython.core.display.HTML object>"
      ]
     },
     "metadata": {},
     "output_type": "display_data"
    },
    {
     "data": {
      "text/html": [
       "Tracking run with wandb version 0.12.11"
      ],
      "text/plain": [
       "<IPython.core.display.HTML object>"
      ]
     },
     "metadata": {},
     "output_type": "display_data"
    },
    {
     "data": {
      "text/html": [
       "Run data is saved locally in <code>/Users/msf/GitHub/TensorFlow_MusicGenre_Classifier/wandb/run-20220829_221935-72iz42qo</code>"
      ],
      "text/plain": [
       "<IPython.core.display.HTML object>"
      ]
     },
     "metadata": {},
     "output_type": "display_data"
    },
    {
     "data": {
      "text/html": [
       "Syncing run <strong><a href=\"https://wandb.ai/msaintfelix/Sweeps-Genre-Classifier/runs/72iz42qo\" target=\"_blank\">devoted-sweep-76</a></strong> to <a href=\"https://wandb.ai/msaintfelix/Sweeps-Genre-Classifier\" target=\"_blank\">Weights & Biases</a> (<a href=\"https://wandb.me/run\" target=\"_blank\">docs</a>)<br/>Sweep page:  <a href=\"https://wandb.ai/msaintfelix/Sweeps-Genre-Classifier/sweeps/e7xdbkpy\" target=\"_blank\">https://wandb.ai/msaintfelix/Sweeps-Genre-Classifier/sweeps/e7xdbkpy</a>"
      ],
      "text/plain": [
       "<IPython.core.display.HTML object>"
      ]
     },
     "metadata": {},
     "output_type": "display_data"
    },
    {
     "name": "stdout",
     "output_type": "stream",
     "text": [
      "(9990, 125, 13)\n",
      "Model: \"sequential\"\n",
      "_________________________________________________________________\n",
      "Layer (type)                 Output Shape              Param #   \n",
      "=================================================================\n",
      "conv2d (Conv2D)              (None, 123, 11, 64)       640       \n",
      "_________________________________________________________________\n",
      "max_pooling2d (MaxPooling2D) (None, 62, 6, 64)         0         \n",
      "_________________________________________________________________\n",
      "batch_normalization (BatchNo (None, 62, 6, 64)         256       \n",
      "_________________________________________________________________\n",
      "conv2d_1 (Conv2D)            (None, 60, 4, 64)         36928     \n",
      "_________________________________________________________________\n",
      "max_pooling2d_1 (MaxPooling2 (None, 30, 2, 64)         0         \n",
      "_________________________________________________________________\n",
      "batch_normalization_1 (Batch (None, 30, 2, 64)         256       \n",
      "_________________________________________________________________\n",
      "conv2d_2 (Conv2D)            (None, 29, 1, 64)         16448     \n",
      "_________________________________________________________________\n",
      "max_pooling2d_2 (MaxPooling2 (None, 15, 1, 64)         0         \n",
      "_________________________________________________________________\n",
      "batch_normalization_2 (Batch (None, 15, 1, 64)         256       \n",
      "_________________________________________________________________\n",
      "dropout (Dropout)            (None, 15, 1, 64)         0         \n",
      "_________________________________________________________________\n",
      "flatten (Flatten)            (None, 960)               0         \n",
      "_________________________________________________________________\n",
      "dense (Dense)                (None, 64)                61504     \n",
      "_________________________________________________________________\n",
      "dense_1 (Dense)              (None, 10)                650       \n",
      "=================================================================\n",
      "Total params: 116,938\n",
      "Trainable params: 116,554\n",
      "Non-trainable params: 384\n",
      "_________________________________________________________________\n",
      "Epoch 1/5\n",
      "200/200 [==============================] - 16s 75ms/step - loss: 2.6127 - acc: 0.2101 - val_loss: 1.8862 - val_acc: 0.3554\n",
      "Epoch 2/5\n",
      "200/200 [==============================] - 15s 76ms/step - loss: 2.0028 - acc: 0.3479 - val_loss: 1.6503 - val_acc: 0.4174\n",
      "Epoch 3/5\n",
      "200/200 [==============================] - 15s 76ms/step - loss: 1.7136 - acc: 0.4195 - val_loss: 1.5071 - val_acc: 0.4660\n",
      "Epoch 4/5\n",
      "200/200 [==============================] - 15s 75ms/step - loss: 1.5613 - acc: 0.4538 - val_loss: 1.4023 - val_acc: 0.5045\n",
      "Epoch 5/5\n",
      "200/200 [==============================] - 15s 75ms/step - loss: 1.4241 - acc: 0.4963 - val_loss: 1.3214 - val_acc: 0.5375\n",
      "\n",
      "---Now testing the model for one audio file---\n",
      "The model predicts: blues, and ground truth is: blues.\n",
      "\n",
      "\n"
     ]
    },
    {
     "data": {
      "text/html": [
       "Waiting for W&B process to finish... <strong style=\"color:green\">(success).</strong>"
      ],
      "text/plain": [
       "<IPython.core.display.HTML object>"
      ]
     },
     "metadata": {},
     "output_type": "display_data"
    },
    {
     "data": {
      "application/vnd.jupyter.widget-view+json": {
       "model_id": "",
       "version_major": 2,
       "version_minor": 0
      },
      "text/plain": [
       "VBox(children=(Label(value='0.965 MB of 0.965 MB uploaded (0.000 MB deduped)\\r'), FloatProgress(value=1.0, max…"
      ]
     },
     "metadata": {},
     "output_type": "display_data"
    },
    {
     "data": {
      "text/html": [
       "<style>\n",
       "    table.wandb td:nth-child(1) { padding: 0 10px; text-align: right }\n",
       "    .wandb-row { display: flex; flex-direction: row; flex-wrap: wrap; width: 100% }\n",
       "    .wandb-col { display: flex; flex-direction: column; flex-basis: 100%; flex: 1; padding: 10px; }\n",
       "    </style>\n",
       "<div class=\"wandb-row\"><div class=\"wandb-col\"><h3>Run history:</h3><br/><table class=\"wandb\"><tr><td>acc</td><td>▁▄▆▇█</td></tr><tr><td>epoch</td><td>▁▃▅▆█</td></tr><tr><td>loss</td><td>█▅▃▂▁</td></tr><tr><td>val_acc</td><td>▁▃▅▇█</td></tr><tr><td>val_loss</td><td>█▅▃▂▁</td></tr></table><br/></div><div class=\"wandb-col\"><h3>Run summary:</h3><br/><table class=\"wandb\"><tr><td>acc</td><td>0.49617</td></tr><tr><td>best_epoch</td><td>4</td></tr><tr><td>best_val_loss</td><td>1.32145</td></tr><tr><td>epoch</td><td>4</td></tr><tr><td>loss</td><td>1.43056</td></tr><tr><td>val_acc</td><td>0.53754</td></tr><tr><td>val_loss</td><td>1.32145</td></tr></table><br/></div></div>"
      ],
      "text/plain": [
       "<IPython.core.display.HTML object>"
      ]
     },
     "metadata": {},
     "output_type": "display_data"
    },
    {
     "data": {
      "text/html": [
       "Synced <strong style=\"color:#cdcd00\">devoted-sweep-76</strong>: <a href=\"https://wandb.ai/msaintfelix/Sweeps-Genre-Classifier/runs/72iz42qo\" target=\"_blank\">https://wandb.ai/msaintfelix/Sweeps-Genre-Classifier/runs/72iz42qo</a><br/>Synced 6 W&B file(s), 1 media file(s), 0 artifact file(s) and 1 other file(s)"
      ],
      "text/plain": [
       "<IPython.core.display.HTML object>"
      ]
     },
     "metadata": {},
     "output_type": "display_data"
    },
    {
     "data": {
      "text/html": [
       "Find logs at: <code>./wandb/run-20220829_221935-72iz42qo/logs</code>"
      ],
      "text/plain": [
       "<IPython.core.display.HTML object>"
      ]
     },
     "metadata": {},
     "output_type": "display_data"
    },
    {
     "name": "stderr",
     "output_type": "stream",
     "text": [
      "\u001b[34m\u001b[1mwandb\u001b[0m: Agent Starting Run: d0y7ih4j with config:\n",
      "\u001b[34m\u001b[1mwandb\u001b[0m: \tbatch_size: 64\n",
      "\u001b[34m\u001b[1mwandb\u001b[0m: \tconv_layer_size: 64\n",
      "\u001b[34m\u001b[1mwandb\u001b[0m: \tdropout: 0.5\n",
      "\u001b[34m\u001b[1mwandb\u001b[0m: \tepochs: 15\n",
      "\u001b[34m\u001b[1mwandb\u001b[0m: \tlearning_rate: 3e-05\n"
     ]
    },
    {
     "data": {
      "text/html": [
       "wandb version 0.13.2 is available!  To upgrade, please run:\n",
       " $ pip install wandb --upgrade"
      ],
      "text/plain": [
       "<IPython.core.display.HTML object>"
      ]
     },
     "metadata": {},
     "output_type": "display_data"
    },
    {
     "data": {
      "text/html": [
       "Tracking run with wandb version 0.12.11"
      ],
      "text/plain": [
       "<IPython.core.display.HTML object>"
      ]
     },
     "metadata": {},
     "output_type": "display_data"
    },
    {
     "data": {
      "text/html": [
       "Run data is saved locally in <code>/Users/msf/GitHub/TensorFlow_MusicGenre_Classifier/wandb/run-20220829_222117-d0y7ih4j</code>"
      ],
      "text/plain": [
       "<IPython.core.display.HTML object>"
      ]
     },
     "metadata": {},
     "output_type": "display_data"
    },
    {
     "data": {
      "text/html": [
       "Syncing run <strong><a href=\"https://wandb.ai/msaintfelix/Sweeps-Genre-Classifier/runs/d0y7ih4j\" target=\"_blank\">ancient-sweep-77</a></strong> to <a href=\"https://wandb.ai/msaintfelix/Sweeps-Genre-Classifier\" target=\"_blank\">Weights & Biases</a> (<a href=\"https://wandb.me/run\" target=\"_blank\">docs</a>)<br/>Sweep page:  <a href=\"https://wandb.ai/msaintfelix/Sweeps-Genre-Classifier/sweeps/e7xdbkpy\" target=\"_blank\">https://wandb.ai/msaintfelix/Sweeps-Genre-Classifier/sweeps/e7xdbkpy</a>"
      ],
      "text/plain": [
       "<IPython.core.display.HTML object>"
      ]
     },
     "metadata": {},
     "output_type": "display_data"
    },
    {
     "name": "stdout",
     "output_type": "stream",
     "text": [
      "(9990, 125, 13)\n",
      "Model: \"sequential\"\n",
      "_________________________________________________________________\n",
      "Layer (type)                 Output Shape              Param #   \n",
      "=================================================================\n",
      "conv2d (Conv2D)              (None, 123, 11, 64)       640       \n",
      "_________________________________________________________________\n",
      "max_pooling2d (MaxPooling2D) (None, 62, 6, 64)         0         \n",
      "_________________________________________________________________\n",
      "batch_normalization (BatchNo (None, 62, 6, 64)         256       \n",
      "_________________________________________________________________\n",
      "conv2d_1 (Conv2D)            (None, 60, 4, 64)         36928     \n",
      "_________________________________________________________________\n",
      "max_pooling2d_1 (MaxPooling2 (None, 30, 2, 64)         0         \n",
      "_________________________________________________________________\n",
      "batch_normalization_1 (Batch (None, 30, 2, 64)         256       \n",
      "_________________________________________________________________\n",
      "conv2d_2 (Conv2D)            (None, 29, 1, 64)         16448     \n",
      "_________________________________________________________________\n",
      "max_pooling2d_2 (MaxPooling2 (None, 15, 1, 64)         0         \n",
      "_________________________________________________________________\n",
      "batch_normalization_2 (Batch (None, 15, 1, 64)         256       \n",
      "_________________________________________________________________\n",
      "dropout (Dropout)            (None, 15, 1, 64)         0         \n",
      "_________________________________________________________________\n",
      "flatten (Flatten)            (None, 960)               0         \n",
      "_________________________________________________________________\n",
      "dense (Dense)                (None, 64)                61504     \n",
      "_________________________________________________________________\n",
      "dense_1 (Dense)              (None, 10)                650       \n",
      "=================================================================\n",
      "Total params: 116,938\n",
      "Trainable params: 116,554\n",
      "Non-trainable params: 384\n",
      "_________________________________________________________________\n",
      "Epoch 1/15\n",
      "100/100 [==============================] - 14s 131ms/step - loss: 3.1772 - acc: 0.1387 - val_loss: 2.5675 - val_acc: 0.1867\n",
      "Epoch 2/15\n",
      "100/100 [==============================] - 13s 127ms/step - loss: 2.5053 - acc: 0.2280 - val_loss: 1.9347 - val_acc: 0.3193\n",
      "Epoch 3/15\n",
      "100/100 [==============================] - 13s 126ms/step - loss: 2.1526 - acc: 0.3138 - val_loss: 1.7144 - val_acc: 0.3894\n",
      "Epoch 4/15\n",
      "100/100 [==============================] - 13s 128ms/step - loss: 1.9577 - acc: 0.3537 - val_loss: 1.5997 - val_acc: 0.4139\n",
      "Epoch 5/15\n",
      "100/100 [==============================] - 13s 126ms/step - loss: 1.8462 - acc: 0.3889 - val_loss: 1.5276 - val_acc: 0.4449\n",
      "Epoch 6/15\n",
      "100/100 [==============================] - 13s 127ms/step - loss: 1.7853 - acc: 0.4013 - val_loss: 1.4624 - val_acc: 0.4755\n",
      "Epoch 7/15\n",
      "100/100 [==============================] - 13s 127ms/step - loss: 1.6734 - acc: 0.4258 - val_loss: 1.4170 - val_acc: 0.4990\n",
      "Epoch 8/15\n",
      "100/100 [==============================] - 13s 126ms/step - loss: 1.6078 - acc: 0.4542 - val_loss: 1.3689 - val_acc: 0.5065\n",
      "Epoch 9/15\n",
      "100/100 [==============================] - 13s 127ms/step - loss: 1.5582 - acc: 0.4585 - val_loss: 1.3269 - val_acc: 0.5170\n",
      "Epoch 10/15\n",
      "100/100 [==============================] - 13s 126ms/step - loss: 1.5139 - acc: 0.4827 - val_loss: 1.3083 - val_acc: 0.5305\n",
      "Epoch 11/15\n",
      "100/100 [==============================] - 13s 127ms/step - loss: 1.4493 - acc: 0.4973 - val_loss: 1.2773 - val_acc: 0.5390\n",
      "Epoch 12/15\n",
      "100/100 [==============================] - 13s 126ms/step - loss: 1.4220 - acc: 0.5094 - val_loss: 1.2424 - val_acc: 0.5526\n",
      "Epoch 13/15\n",
      "100/100 [==============================] - 13s 127ms/step - loss: 1.3898 - acc: 0.5161 - val_loss: 1.2287 - val_acc: 0.5571\n",
      "Epoch 14/15\n",
      "100/100 [==============================] - 13s 126ms/step - loss: 1.3460 - acc: 0.5221 - val_loss: 1.1956 - val_acc: 0.5716\n",
      "Epoch 15/15\n",
      "100/100 [==============================] - 13s 126ms/step - loss: 1.2853 - acc: 0.5478 - val_loss: 1.1712 - val_acc: 0.5761\n",
      "\n",
      "---Now testing the model for one audio file---\n",
      "The model predicts: classical, and ground truth is: metal.\n",
      "\n",
      "\n"
     ]
    },
    {
     "data": {
      "text/html": [
       "Waiting for W&B process to finish... <strong style=\"color:green\">(success).</strong>"
      ],
      "text/plain": [
       "<IPython.core.display.HTML object>"
      ]
     },
     "metadata": {},
     "output_type": "display_data"
    },
    {
     "data": {
      "application/vnd.jupyter.widget-view+json": {
       "model_id": "",
       "version_major": 2,
       "version_minor": 0
      },
      "text/plain": [
       "VBox(children=(Label(value='0.965 MB of 0.965 MB uploaded (0.000 MB deduped)\\r'), FloatProgress(value=1.0, max…"
      ]
     },
     "metadata": {},
     "output_type": "display_data"
    },
    {
     "data": {
      "text/html": [
       "<style>\n",
       "    table.wandb td:nth-child(1) { padding: 0 10px; text-align: right }\n",
       "    .wandb-row { display: flex; flex-direction: row; flex-wrap: wrap; width: 100% }\n",
       "    .wandb-col { display: flex; flex-direction: column; flex-basis: 100%; flex: 1; padding: 10px; }\n",
       "    </style>\n",
       "<div class=\"wandb-row\"><div class=\"wandb-col\"><h3>Run history:</h3><br/><table class=\"wandb\"><tr><td>acc</td><td>▁▃▄▅▅▆▆▆▆▇▇▇███</td></tr><tr><td>epoch</td><td>▁▁▂▃▃▃▄▅▅▅▆▇▇▇█</td></tr><tr><td>loss</td><td>█▆▄▄▃▃▃▂▂▂▂▁▁▁▁</td></tr><tr><td>val_acc</td><td>▁▃▅▅▆▆▇▇▇▇▇████</td></tr><tr><td>val_loss</td><td>█▅▄▃▃▂▂▂▂▂▂▁▁▁▁</td></tr></table><br/></div><div class=\"wandb-col\"><h3>Run summary:</h3><br/><table class=\"wandb\"><tr><td>acc</td><td>0.54622</td></tr><tr><td>best_epoch</td><td>14</td></tr><tr><td>best_val_loss</td><td>1.17116</td></tr><tr><td>epoch</td><td>14</td></tr><tr><td>loss</td><td>1.29607</td></tr><tr><td>val_acc</td><td>0.57608</td></tr><tr><td>val_loss</td><td>1.17116</td></tr></table><br/></div></div>"
      ],
      "text/plain": [
       "<IPython.core.display.HTML object>"
      ]
     },
     "metadata": {},
     "output_type": "display_data"
    },
    {
     "data": {
      "text/html": [
       "Synced <strong style=\"color:#cdcd00\">ancient-sweep-77</strong>: <a href=\"https://wandb.ai/msaintfelix/Sweeps-Genre-Classifier/runs/d0y7ih4j\" target=\"_blank\">https://wandb.ai/msaintfelix/Sweeps-Genre-Classifier/runs/d0y7ih4j</a><br/>Synced 6 W&B file(s), 1 media file(s), 0 artifact file(s) and 1 other file(s)"
      ],
      "text/plain": [
       "<IPython.core.display.HTML object>"
      ]
     },
     "metadata": {},
     "output_type": "display_data"
    },
    {
     "data": {
      "text/html": [
       "Find logs at: <code>./wandb/run-20220829_222117-d0y7ih4j/logs</code>"
      ],
      "text/plain": [
       "<IPython.core.display.HTML object>"
      ]
     },
     "metadata": {},
     "output_type": "display_data"
    },
    {
     "name": "stderr",
     "output_type": "stream",
     "text": [
      "\u001b[34m\u001b[1mwandb\u001b[0m: Agent Starting Run: q5bmqi2d with config:\n",
      "\u001b[34m\u001b[1mwandb\u001b[0m: \tbatch_size: 32\n",
      "\u001b[34m\u001b[1mwandb\u001b[0m: \tconv_layer_size: 64\n",
      "\u001b[34m\u001b[1mwandb\u001b[0m: \tdropout: 0.4\n",
      "\u001b[34m\u001b[1mwandb\u001b[0m: \tepochs: 10\n",
      "\u001b[34m\u001b[1mwandb\u001b[0m: \tlearning_rate: 0.0003\n"
     ]
    },
    {
     "data": {
      "text/html": [
       "wandb version 0.13.2 is available!  To upgrade, please run:\n",
       " $ pip install wandb --upgrade"
      ],
      "text/plain": [
       "<IPython.core.display.HTML object>"
      ]
     },
     "metadata": {},
     "output_type": "display_data"
    },
    {
     "data": {
      "text/html": [
       "Tracking run with wandb version 0.12.11"
      ],
      "text/plain": [
       "<IPython.core.display.HTML object>"
      ]
     },
     "metadata": {},
     "output_type": "display_data"
    },
    {
     "data": {
      "text/html": [
       "Run data is saved locally in <code>/Users/msf/GitHub/TensorFlow_MusicGenre_Classifier/wandb/run-20220829_222458-q5bmqi2d</code>"
      ],
      "text/plain": [
       "<IPython.core.display.HTML object>"
      ]
     },
     "metadata": {},
     "output_type": "display_data"
    },
    {
     "data": {
      "text/html": [
       "Syncing run <strong><a href=\"https://wandb.ai/msaintfelix/Sweeps-Genre-Classifier/runs/q5bmqi2d\" target=\"_blank\">scarlet-sweep-78</a></strong> to <a href=\"https://wandb.ai/msaintfelix/Sweeps-Genre-Classifier\" target=\"_blank\">Weights & Biases</a> (<a href=\"https://wandb.me/run\" target=\"_blank\">docs</a>)<br/>Sweep page:  <a href=\"https://wandb.ai/msaintfelix/Sweeps-Genre-Classifier/sweeps/e7xdbkpy\" target=\"_blank\">https://wandb.ai/msaintfelix/Sweeps-Genre-Classifier/sweeps/e7xdbkpy</a>"
      ],
      "text/plain": [
       "<IPython.core.display.HTML object>"
      ]
     },
     "metadata": {},
     "output_type": "display_data"
    },
    {
     "name": "stdout",
     "output_type": "stream",
     "text": [
      "(9990, 125, 13)\n",
      "Model: \"sequential\"\n",
      "_________________________________________________________________\n",
      "Layer (type)                 Output Shape              Param #   \n",
      "=================================================================\n",
      "conv2d (Conv2D)              (None, 123, 11, 64)       640       \n",
      "_________________________________________________________________\n",
      "max_pooling2d (MaxPooling2D) (None, 62, 6, 64)         0         \n",
      "_________________________________________________________________\n",
      "batch_normalization (BatchNo (None, 62, 6, 64)         256       \n",
      "_________________________________________________________________\n",
      "conv2d_1 (Conv2D)            (None, 60, 4, 64)         36928     \n",
      "_________________________________________________________________\n",
      "max_pooling2d_1 (MaxPooling2 (None, 30, 2, 64)         0         \n",
      "_________________________________________________________________\n",
      "batch_normalization_1 (Batch (None, 30, 2, 64)         256       \n",
      "_________________________________________________________________\n",
      "conv2d_2 (Conv2D)            (None, 29, 1, 64)         16448     \n",
      "_________________________________________________________________\n",
      "max_pooling2d_2 (MaxPooling2 (None, 15, 1, 64)         0         \n",
      "_________________________________________________________________\n",
      "batch_normalization_2 (Batch (None, 15, 1, 64)         256       \n",
      "_________________________________________________________________\n",
      "dropout (Dropout)            (None, 15, 1, 64)         0         \n",
      "_________________________________________________________________\n",
      "flatten (Flatten)            (None, 960)               0         \n",
      "_________________________________________________________________\n",
      "dense (Dense)                (None, 64)                61504     \n",
      "_________________________________________________________________\n",
      "dense_1 (Dense)              (None, 10)                650       \n",
      "=================================================================\n",
      "Total params: 116,938\n",
      "Trainable params: 116,554\n",
      "Non-trainable params: 384\n",
      "_________________________________________________________________\n",
      "Epoch 1/10\n",
      "200/200 [==============================] - 15s 73ms/step - loss: 2.0045 - acc: 0.3431 - val_loss: 1.2470 - val_acc: 0.5400\n",
      "Epoch 2/10\n",
      "200/200 [==============================] - 15s 73ms/step - loss: 1.2583 - acc: 0.5494 - val_loss: 1.0424 - val_acc: 0.6321\n",
      "Epoch 3/10\n",
      "200/200 [==============================] - 14s 71ms/step - loss: 1.0386 - acc: 0.6335 - val_loss: 1.0241 - val_acc: 0.6281\n",
      "Epoch 4/10\n",
      "200/200 [==============================] - 14s 72ms/step - loss: 0.9259 - acc: 0.6785 - val_loss: 0.9592 - val_acc: 0.6717\n",
      "Epoch 5/10\n",
      "200/200 [==============================] - 14s 72ms/step - loss: 0.8165 - acc: 0.7162 - val_loss: 1.2665 - val_acc: 0.6326\n",
      "Epoch 6/10\n",
      "200/200 [==============================] - 15s 73ms/step - loss: 0.7407 - acc: 0.7387 - val_loss: 0.8513 - val_acc: 0.6977\n",
      "Epoch 7/10\n",
      "200/200 [==============================] - 14s 72ms/step - loss: 0.6671 - acc: 0.7650 - val_loss: 0.8266 - val_acc: 0.7187\n",
      "Epoch 8/10\n",
      "200/200 [==============================] - 14s 72ms/step - loss: 0.6194 - acc: 0.7747 - val_loss: 0.7963 - val_acc: 0.7207\n",
      "Epoch 9/10\n",
      "200/200 [==============================] - 14s 72ms/step - loss: 0.5943 - acc: 0.7925 - val_loss: 0.8202 - val_acc: 0.7242\n",
      "Epoch 10/10\n",
      "200/200 [==============================] - 14s 72ms/step - loss: 0.5117 - acc: 0.8241 - val_loss: 0.8110 - val_acc: 0.7347\n",
      "\n",
      "---Now testing the model for one audio file---\n",
      "The model predicts: hiphop, and ground truth is: hiphop.\n",
      "\n",
      "\n"
     ]
    },
    {
     "data": {
      "text/html": [
       "Waiting for W&B process to finish... <strong style=\"color:green\">(success).</strong>"
      ],
      "text/plain": [
       "<IPython.core.display.HTML object>"
      ]
     },
     "metadata": {},
     "output_type": "display_data"
    },
    {
     "data": {
      "application/vnd.jupyter.widget-view+json": {
       "model_id": "",
       "version_major": 2,
       "version_minor": 0
      },
      "text/plain": [
       "VBox(children=(Label(value='0.965 MB of 0.965 MB uploaded (0.000 MB deduped)\\r'), FloatProgress(value=1.0, max…"
      ]
     },
     "metadata": {},
     "output_type": "display_data"
    },
    {
     "data": {
      "text/html": [
       "<style>\n",
       "    table.wandb td:nth-child(1) { padding: 0 10px; text-align: right }\n",
       "    .wandb-row { display: flex; flex-direction: row; flex-wrap: wrap; width: 100% }\n",
       "    .wandb-col { display: flex; flex-direction: column; flex-basis: 100%; flex: 1; padding: 10px; }\n",
       "    </style>\n",
       "<div class=\"wandb-row\"><div class=\"wandb-col\"><h3>Run history:</h3><br/><table class=\"wandb\"><tr><td>acc</td><td>▁▄▅▆▆▇▇▇██</td></tr><tr><td>epoch</td><td>▁▂▃▃▄▅▆▆▇█</td></tr><tr><td>loss</td><td>█▅▄▃▃▂▂▂▁▁</td></tr><tr><td>val_acc</td><td>▁▄▄▆▄▇▇▇██</td></tr><tr><td>val_loss</td><td>█▅▄▃█▂▁▁▁▁</td></tr></table><br/></div><div class=\"wandb-col\"><h3>Run summary:</h3><br/><table class=\"wandb\"><tr><td>acc</td><td>0.81777</td></tr><tr><td>best_epoch</td><td>7</td></tr><tr><td>best_val_loss</td><td>0.7963</td></tr><tr><td>epoch</td><td>9</td></tr><tr><td>loss</td><td>0.52474</td></tr><tr><td>val_acc</td><td>0.73473</td></tr><tr><td>val_loss</td><td>0.81096</td></tr></table><br/></div></div>"
      ],
      "text/plain": [
       "<IPython.core.display.HTML object>"
      ]
     },
     "metadata": {},
     "output_type": "display_data"
    },
    {
     "data": {
      "text/html": [
       "Synced <strong style=\"color:#cdcd00\">scarlet-sweep-78</strong>: <a href=\"https://wandb.ai/msaintfelix/Sweeps-Genre-Classifier/runs/q5bmqi2d\" target=\"_blank\">https://wandb.ai/msaintfelix/Sweeps-Genre-Classifier/runs/q5bmqi2d</a><br/>Synced 6 W&B file(s), 1 media file(s), 0 artifact file(s) and 1 other file(s)"
      ],
      "text/plain": [
       "<IPython.core.display.HTML object>"
      ]
     },
     "metadata": {},
     "output_type": "display_data"
    },
    {
     "data": {
      "text/html": [
       "Find logs at: <code>./wandb/run-20220829_222458-q5bmqi2d/logs</code>"
      ],
      "text/plain": [
       "<IPython.core.display.HTML object>"
      ]
     },
     "metadata": {},
     "output_type": "display_data"
    },
    {
     "name": "stderr",
     "output_type": "stream",
     "text": [
      "\u001b[34m\u001b[1mwandb\u001b[0m: Agent Starting Run: lx0i4ozq with config:\n",
      "\u001b[34m\u001b[1mwandb\u001b[0m: \tbatch_size: 64\n",
      "\u001b[34m\u001b[1mwandb\u001b[0m: \tconv_layer_size: 16\n",
      "\u001b[34m\u001b[1mwandb\u001b[0m: \tdropout: 0.3\n",
      "\u001b[34m\u001b[1mwandb\u001b[0m: \tepochs: 5\n",
      "\u001b[34m\u001b[1mwandb\u001b[0m: \tlearning_rate: 1e-05\n"
     ]
    },
    {
     "data": {
      "text/html": [
       "wandb version 0.13.2 is available!  To upgrade, please run:\n",
       " $ pip install wandb --upgrade"
      ],
      "text/plain": [
       "<IPython.core.display.HTML object>"
      ]
     },
     "metadata": {},
     "output_type": "display_data"
    },
    {
     "data": {
      "text/html": [
       "Tracking run with wandb version 0.12.11"
      ],
      "text/plain": [
       "<IPython.core.display.HTML object>"
      ]
     },
     "metadata": {},
     "output_type": "display_data"
    },
    {
     "data": {
      "text/html": [
       "Run data is saved locally in <code>/Users/msf/GitHub/TensorFlow_MusicGenre_Classifier/wandb/run-20220829_222751-lx0i4ozq</code>"
      ],
      "text/plain": [
       "<IPython.core.display.HTML object>"
      ]
     },
     "metadata": {},
     "output_type": "display_data"
    },
    {
     "data": {
      "text/html": [
       "Syncing run <strong><a href=\"https://wandb.ai/msaintfelix/Sweeps-Genre-Classifier/runs/lx0i4ozq\" target=\"_blank\">winter-sweep-79</a></strong> to <a href=\"https://wandb.ai/msaintfelix/Sweeps-Genre-Classifier\" target=\"_blank\">Weights & Biases</a> (<a href=\"https://wandb.me/run\" target=\"_blank\">docs</a>)<br/>Sweep page:  <a href=\"https://wandb.ai/msaintfelix/Sweeps-Genre-Classifier/sweeps/e7xdbkpy\" target=\"_blank\">https://wandb.ai/msaintfelix/Sweeps-Genre-Classifier/sweeps/e7xdbkpy</a>"
      ],
      "text/plain": [
       "<IPython.core.display.HTML object>"
      ]
     },
     "metadata": {},
     "output_type": "display_data"
    },
    {
     "name": "stdout",
     "output_type": "stream",
     "text": [
      "(9990, 125, 13)\n",
      "Model: \"sequential\"\n",
      "_________________________________________________________________\n",
      "Layer (type)                 Output Shape              Param #   \n",
      "=================================================================\n",
      "conv2d (Conv2D)              (None, 123, 11, 16)       160       \n",
      "_________________________________________________________________\n",
      "max_pooling2d (MaxPooling2D) (None, 62, 6, 16)         0         \n",
      "_________________________________________________________________\n",
      "batch_normalization (BatchNo (None, 62, 6, 16)         64        \n",
      "_________________________________________________________________\n",
      "conv2d_1 (Conv2D)            (None, 60, 4, 16)         2320      \n",
      "_________________________________________________________________\n",
      "max_pooling2d_1 (MaxPooling2 (None, 30, 2, 16)         0         \n",
      "_________________________________________________________________\n",
      "batch_normalization_1 (Batch (None, 30, 2, 16)         64        \n",
      "_________________________________________________________________\n",
      "conv2d_2 (Conv2D)            (None, 29, 1, 16)         1040      \n",
      "_________________________________________________________________\n",
      "max_pooling2d_2 (MaxPooling2 (None, 15, 1, 16)         0         \n",
      "_________________________________________________________________\n",
      "batch_normalization_2 (Batch (None, 15, 1, 16)         64        \n",
      "_________________________________________________________________\n",
      "dropout (Dropout)            (None, 15, 1, 16)         0         \n",
      "_________________________________________________________________\n",
      "flatten (Flatten)            (None, 240)               0         \n",
      "_________________________________________________________________\n",
      "dense (Dense)                (None, 64)                15424     \n",
      "_________________________________________________________________\n",
      "dense_1 (Dense)              (None, 10)                650       \n",
      "=================================================================\n",
      "Total params: 19,786\n",
      "Trainable params: 19,690\n",
      "Non-trainable params: 96\n",
      "_________________________________________________________________\n",
      "Epoch 1/5\n",
      "100/100 [==============================] - 5s 46ms/step - loss: 3.1838 - acc: 0.1097 - val_loss: 2.6630 - val_acc: 0.1221\n",
      "Epoch 2/5\n",
      "100/100 [==============================] - 4s 45ms/step - loss: 3.0725 - acc: 0.1055 - val_loss: 2.5991 - val_acc: 0.1181\n",
      "Epoch 3/5\n",
      "100/100 [==============================] - 4s 45ms/step - loss: 2.9455 - acc: 0.1195 - val_loss: 2.5868 - val_acc: 0.1226\n",
      "Epoch 4/5\n",
      "100/100 [==============================] - 5s 45ms/step - loss: 2.8569 - acc: 0.1202 - val_loss: 2.5584 - val_acc: 0.1381\n",
      "Epoch 5/5\n",
      "100/100 [==============================] - 5s 46ms/step - loss: 2.7986 - acc: 0.1238 - val_loss: 2.5121 - val_acc: 0.1461\n",
      "\n",
      "---Now testing the model for one audio file---\n",
      "The model predicts: hiphop, and ground truth is: classical.\n",
      "\n",
      "\n"
     ]
    },
    {
     "data": {
      "text/html": [
       "Waiting for W&B process to finish... <strong style=\"color:green\">(success).</strong>"
      ],
      "text/plain": [
       "<IPython.core.display.HTML object>"
      ]
     },
     "metadata": {},
     "output_type": "display_data"
    },
    {
     "data": {
      "application/vnd.jupyter.widget-view+json": {
       "model_id": "",
       "version_major": 2,
       "version_minor": 0
      },
      "text/plain": [
       "VBox(children=(Label(value='0.224 MB of 0.224 MB uploaded (0.000 MB deduped)\\r'), FloatProgress(value=1.0, max…"
      ]
     },
     "metadata": {},
     "output_type": "display_data"
    },
    {
     "data": {
      "text/html": [
       "<style>\n",
       "    table.wandb td:nth-child(1) { padding: 0 10px; text-align: right }\n",
       "    .wandb-row { display: flex; flex-direction: row; flex-wrap: wrap; width: 100% }\n",
       "    .wandb-col { display: flex; flex-direction: column; flex-basis: 100%; flex: 1; padding: 10px; }\n",
       "    </style>\n",
       "<div class=\"wandb-row\"><div class=\"wandb-col\"><h3>Run history:</h3><br/><table class=\"wandb\"><tr><td>acc</td><td>▁▃▅▇█</td></tr><tr><td>epoch</td><td>▁▃▅▆█</td></tr><tr><td>loss</td><td>█▆▄▂▁</td></tr><tr><td>val_acc</td><td>▂▁▂▆█</td></tr><tr><td>val_loss</td><td>█▅▄▃▁</td></tr></table><br/></div><div class=\"wandb-col\"><h3>Run summary:</h3><br/><table class=\"wandb\"><tr><td>acc</td><td>0.12342</td></tr><tr><td>best_epoch</td><td>4</td></tr><tr><td>best_val_loss</td><td>2.51206</td></tr><tr><td>epoch</td><td>4</td></tr><tr><td>loss</td><td>2.7903</td></tr><tr><td>val_acc</td><td>0.14615</td></tr><tr><td>val_loss</td><td>2.51206</td></tr></table><br/></div></div>"
      ],
      "text/plain": [
       "<IPython.core.display.HTML object>"
      ]
     },
     "metadata": {},
     "output_type": "display_data"
    },
    {
     "data": {
      "text/html": [
       "Synced <strong style=\"color:#cdcd00\">winter-sweep-79</strong>: <a href=\"https://wandb.ai/msaintfelix/Sweeps-Genre-Classifier/runs/lx0i4ozq\" target=\"_blank\">https://wandb.ai/msaintfelix/Sweeps-Genre-Classifier/runs/lx0i4ozq</a><br/>Synced 6 W&B file(s), 1 media file(s), 0 artifact file(s) and 1 other file(s)"
      ],
      "text/plain": [
       "<IPython.core.display.HTML object>"
      ]
     },
     "metadata": {},
     "output_type": "display_data"
    },
    {
     "data": {
      "text/html": [
       "Find logs at: <code>./wandb/run-20220829_222751-lx0i4ozq/logs</code>"
      ],
      "text/plain": [
       "<IPython.core.display.HTML object>"
      ]
     },
     "metadata": {},
     "output_type": "display_data"
    },
    {
     "name": "stderr",
     "output_type": "stream",
     "text": [
      "\u001b[34m\u001b[1mwandb\u001b[0m: Agent Starting Run: rciu0e3f with config:\n",
      "\u001b[34m\u001b[1mwandb\u001b[0m: \tbatch_size: 64\n",
      "\u001b[34m\u001b[1mwandb\u001b[0m: \tconv_layer_size: 16\n",
      "\u001b[34m\u001b[1mwandb\u001b[0m: \tdropout: 0.4\n",
      "\u001b[34m\u001b[1mwandb\u001b[0m: \tepochs: 5\n",
      "\u001b[34m\u001b[1mwandb\u001b[0m: \tlearning_rate: 3e-05\n"
     ]
    },
    {
     "data": {
      "text/html": [
       "wandb version 0.13.2 is available!  To upgrade, please run:\n",
       " $ pip install wandb --upgrade"
      ],
      "text/plain": [
       "<IPython.core.display.HTML object>"
      ]
     },
     "metadata": {},
     "output_type": "display_data"
    },
    {
     "data": {
      "text/html": [
       "Tracking run with wandb version 0.12.11"
      ],
      "text/plain": [
       "<IPython.core.display.HTML object>"
      ]
     },
     "metadata": {},
     "output_type": "display_data"
    },
    {
     "data": {
      "text/html": [
       "Run data is saved locally in <code>/Users/msf/GitHub/TensorFlow_MusicGenre_Classifier/wandb/run-20220829_222841-rciu0e3f</code>"
      ],
      "text/plain": [
       "<IPython.core.display.HTML object>"
      ]
     },
     "metadata": {},
     "output_type": "display_data"
    },
    {
     "data": {
      "text/html": [
       "Syncing run <strong><a href=\"https://wandb.ai/msaintfelix/Sweeps-Genre-Classifier/runs/rciu0e3f\" target=\"_blank\">devoted-sweep-80</a></strong> to <a href=\"https://wandb.ai/msaintfelix/Sweeps-Genre-Classifier\" target=\"_blank\">Weights & Biases</a> (<a href=\"https://wandb.me/run\" target=\"_blank\">docs</a>)<br/>Sweep page:  <a href=\"https://wandb.ai/msaintfelix/Sweeps-Genre-Classifier/sweeps/e7xdbkpy\" target=\"_blank\">https://wandb.ai/msaintfelix/Sweeps-Genre-Classifier/sweeps/e7xdbkpy</a>"
      ],
      "text/plain": [
       "<IPython.core.display.HTML object>"
      ]
     },
     "metadata": {},
     "output_type": "display_data"
    },
    {
     "name": "stdout",
     "output_type": "stream",
     "text": [
      "(9990, 125, 13)\n",
      "Model: \"sequential\"\n",
      "_________________________________________________________________\n",
      "Layer (type)                 Output Shape              Param #   \n",
      "=================================================================\n",
      "conv2d (Conv2D)              (None, 123, 11, 16)       160       \n",
      "_________________________________________________________________\n",
      "max_pooling2d (MaxPooling2D) (None, 62, 6, 16)         0         \n",
      "_________________________________________________________________\n",
      "batch_normalization (BatchNo (None, 62, 6, 16)         64        \n",
      "_________________________________________________________________\n",
      "conv2d_1 (Conv2D)            (None, 60, 4, 16)         2320      \n",
      "_________________________________________________________________\n",
      "max_pooling2d_1 (MaxPooling2 (None, 30, 2, 16)         0         \n",
      "_________________________________________________________________\n",
      "batch_normalization_1 (Batch (None, 30, 2, 16)         64        \n",
      "_________________________________________________________________\n",
      "conv2d_2 (Conv2D)            (None, 29, 1, 16)         1040      \n",
      "_________________________________________________________________\n",
      "max_pooling2d_2 (MaxPooling2 (None, 15, 1, 16)         0         \n",
      "_________________________________________________________________\n",
      "batch_normalization_2 (Batch (None, 15, 1, 16)         64        \n",
      "_________________________________________________________________\n",
      "dropout (Dropout)            (None, 15, 1, 16)         0         \n",
      "_________________________________________________________________\n",
      "flatten (Flatten)            (None, 240)               0         \n",
      "_________________________________________________________________\n",
      "dense (Dense)                (None, 64)                15424     \n",
      "_________________________________________________________________\n",
      "dense_1 (Dense)              (None, 10)                650       \n",
      "=================================================================\n",
      "Total params: 19,786\n",
      "Trainable params: 19,690\n",
      "Non-trainable params: 96\n",
      "_________________________________________________________________\n",
      "Epoch 1/5\n",
      "100/100 [==============================] - 5s 45ms/step - loss: 2.8017 - acc: 0.1474 - val_loss: 2.4042 - val_acc: 0.1687\n",
      "Epoch 2/5\n",
      "100/100 [==============================] - 4s 44ms/step - loss: 2.5159 - acc: 0.1902 - val_loss: 2.1941 - val_acc: 0.2397\n",
      "Epoch 3/5\n",
      "100/100 [==============================] - 4s 43ms/step - loss: 2.3862 - acc: 0.2119 - val_loss: 2.0741 - val_acc: 0.2733\n",
      "Epoch 4/5\n",
      "100/100 [==============================] - 4s 43ms/step - loss: 2.2906 - acc: 0.2441 - val_loss: 1.9882 - val_acc: 0.2883\n",
      "Epoch 5/5\n",
      "100/100 [==============================] - 4s 43ms/step - loss: 2.1703 - acc: 0.2647 - val_loss: 1.9199 - val_acc: 0.3163\n",
      "\n",
      "---Now testing the model for one audio file---\n",
      "The model predicts: pop, and ground truth is: country.\n",
      "\n",
      "\n"
     ]
    },
    {
     "data": {
      "text/html": [
       "Waiting for W&B process to finish... <strong style=\"color:green\">(success).</strong>"
      ],
      "text/plain": [
       "<IPython.core.display.HTML object>"
      ]
     },
     "metadata": {},
     "output_type": "display_data"
    },
    {
     "data": {
      "application/vnd.jupyter.widget-view+json": {
       "model_id": "",
       "version_major": 2,
       "version_minor": 0
      },
      "text/plain": [
       "VBox(children=(Label(value='0.224 MB of 0.224 MB uploaded (0.000 MB deduped)\\r'), FloatProgress(value=1.0, max…"
      ]
     },
     "metadata": {},
     "output_type": "display_data"
    },
    {
     "data": {
      "text/html": [
       "<style>\n",
       "    table.wandb td:nth-child(1) { padding: 0 10px; text-align: right }\n",
       "    .wandb-row { display: flex; flex-direction: row; flex-wrap: wrap; width: 100% }\n",
       "    .wandb-col { display: flex; flex-direction: column; flex-basis: 100%; flex: 1; padding: 10px; }\n",
       "    </style>\n",
       "<div class=\"wandb-row\"><div class=\"wandb-col\"><h3>Run history:</h3><br/><table class=\"wandb\"><tr><td>acc</td><td>▁▃▅▇█</td></tr><tr><td>epoch</td><td>▁▃▅▆█</td></tr><tr><td>loss</td><td>█▅▄▂▁</td></tr><tr><td>val_acc</td><td>▁▄▆▇█</td></tr><tr><td>val_loss</td><td>█▅▃▂▁</td></tr></table><br/></div><div class=\"wandb-col\"><h3>Run summary:</h3><br/><table class=\"wandb\"><tr><td>acc</td><td>0.27374</td></tr><tr><td>best_epoch</td><td>4</td></tr><tr><td>best_val_loss</td><td>1.91985</td></tr><tr><td>epoch</td><td>4</td></tr><tr><td>loss</td><td>2.13905</td></tr><tr><td>val_acc</td><td>0.31632</td></tr><tr><td>val_loss</td><td>1.91985</td></tr></table><br/></div></div>"
      ],
      "text/plain": [
       "<IPython.core.display.HTML object>"
      ]
     },
     "metadata": {},
     "output_type": "display_data"
    },
    {
     "data": {
      "text/html": [
       "Synced <strong style=\"color:#cdcd00\">devoted-sweep-80</strong>: <a href=\"https://wandb.ai/msaintfelix/Sweeps-Genre-Classifier/runs/rciu0e3f\" target=\"_blank\">https://wandb.ai/msaintfelix/Sweeps-Genre-Classifier/runs/rciu0e3f</a><br/>Synced 6 W&B file(s), 1 media file(s), 0 artifact file(s) and 1 other file(s)"
      ],
      "text/plain": [
       "<IPython.core.display.HTML object>"
      ]
     },
     "metadata": {},
     "output_type": "display_data"
    },
    {
     "data": {
      "text/html": [
       "Find logs at: <code>./wandb/run-20220829_222841-rciu0e3f/logs</code>"
      ],
      "text/plain": [
       "<IPython.core.display.HTML object>"
      ]
     },
     "metadata": {},
     "output_type": "display_data"
    },
    {
     "name": "stderr",
     "output_type": "stream",
     "text": [
      "\u001b[34m\u001b[1mwandb\u001b[0m: Sweep Agent: Waiting for job.\n",
      "\u001b[34m\u001b[1mwandb\u001b[0m: Job received.\n",
      "\u001b[34m\u001b[1mwandb\u001b[0m: Agent Starting Run: cimjrn6n with config:\n",
      "\u001b[34m\u001b[1mwandb\u001b[0m: \tbatch_size: 32\n",
      "\u001b[34m\u001b[1mwandb\u001b[0m: \tconv_layer_size: 64\n",
      "\u001b[34m\u001b[1mwandb\u001b[0m: \tdropout: 0.3\n",
      "\u001b[34m\u001b[1mwandb\u001b[0m: \tepochs: 5\n",
      "\u001b[34m\u001b[1mwandb\u001b[0m: \tlearning_rate: 1e-05\n"
     ]
    },
    {
     "data": {
      "text/html": [
       "wandb version 0.13.2 is available!  To upgrade, please run:\n",
       " $ pip install wandb --upgrade"
      ],
      "text/plain": [
       "<IPython.core.display.HTML object>"
      ]
     },
     "metadata": {},
     "output_type": "display_data"
    },
    {
     "data": {
      "text/html": [
       "Tracking run with wandb version 0.12.11"
      ],
      "text/plain": [
       "<IPython.core.display.HTML object>"
      ]
     },
     "metadata": {},
     "output_type": "display_data"
    },
    {
     "data": {
      "text/html": [
       "Run data is saved locally in <code>/Users/msf/GitHub/TensorFlow_MusicGenre_Classifier/wandb/run-20220829_222940-cimjrn6n</code>"
      ],
      "text/plain": [
       "<IPython.core.display.HTML object>"
      ]
     },
     "metadata": {},
     "output_type": "display_data"
    },
    {
     "data": {
      "text/html": [
       "Syncing run <strong><a href=\"https://wandb.ai/msaintfelix/Sweeps-Genre-Classifier/runs/cimjrn6n\" target=\"_blank\">dauntless-sweep-81</a></strong> to <a href=\"https://wandb.ai/msaintfelix/Sweeps-Genre-Classifier\" target=\"_blank\">Weights & Biases</a> (<a href=\"https://wandb.me/run\" target=\"_blank\">docs</a>)<br/>Sweep page:  <a href=\"https://wandb.ai/msaintfelix/Sweeps-Genre-Classifier/sweeps/e7xdbkpy\" target=\"_blank\">https://wandb.ai/msaintfelix/Sweeps-Genre-Classifier/sweeps/e7xdbkpy</a>"
      ],
      "text/plain": [
       "<IPython.core.display.HTML object>"
      ]
     },
     "metadata": {},
     "output_type": "display_data"
    },
    {
     "name": "stdout",
     "output_type": "stream",
     "text": [
      "(9990, 125, 13)\n",
      "Model: \"sequential\"\n",
      "_________________________________________________________________\n",
      "Layer (type)                 Output Shape              Param #   \n",
      "=================================================================\n",
      "conv2d (Conv2D)              (None, 123, 11, 64)       640       \n",
      "_________________________________________________________________\n",
      "max_pooling2d (MaxPooling2D) (None, 62, 6, 64)         0         \n",
      "_________________________________________________________________\n",
      "batch_normalization (BatchNo (None, 62, 6, 64)         256       \n",
      "_________________________________________________________________\n",
      "conv2d_1 (Conv2D)            (None, 60, 4, 64)         36928     \n",
      "_________________________________________________________________\n",
      "max_pooling2d_1 (MaxPooling2 (None, 30, 2, 64)         0         \n",
      "_________________________________________________________________\n",
      "batch_normalization_1 (Batch (None, 30, 2, 64)         256       \n",
      "_________________________________________________________________\n",
      "conv2d_2 (Conv2D)            (None, 29, 1, 64)         16448     \n",
      "_________________________________________________________________\n",
      "max_pooling2d_2 (MaxPooling2 (None, 15, 1, 64)         0         \n",
      "_________________________________________________________________\n",
      "batch_normalization_2 (Batch (None, 15, 1, 64)         256       \n",
      "_________________________________________________________________\n",
      "dropout (Dropout)            (None, 15, 1, 64)         0         \n",
      "_________________________________________________________________\n",
      "flatten (Flatten)            (None, 960)               0         \n",
      "_________________________________________________________________\n",
      "dense (Dense)                (None, 64)                61504     \n",
      "_________________________________________________________________\n",
      "dense_1 (Dense)              (None, 10)                650       \n",
      "=================================================================\n",
      "Total params: 116,938\n",
      "Trainable params: 116,554\n",
      "Non-trainable params: 384\n",
      "_________________________________________________________________\n",
      "Epoch 1/5\n",
      "200/200 [==============================] - 16s 77ms/step - loss: 3.0341 - acc: 0.1084 - val_loss: 2.2948 - val_acc: 0.1807\n",
      "Epoch 2/5\n",
      "200/200 [==============================] - 15s 73ms/step - loss: 2.5221 - acc: 0.1932 - val_loss: 2.1045 - val_acc: 0.2763\n",
      "Epoch 3/5\n",
      "200/200 [==============================] - 14s 72ms/step - loss: 2.2412 - acc: 0.2539 - val_loss: 1.9634 - val_acc: 0.3173\n",
      "Epoch 4/5\n",
      "200/200 [==============================] - 14s 72ms/step - loss: 2.0812 - acc: 0.3130 - val_loss: 1.8467 - val_acc: 0.3468\n",
      "Epoch 5/5\n",
      "200/200 [==============================] - 14s 72ms/step - loss: 1.9623 - acc: 0.3302 - val_loss: 1.7529 - val_acc: 0.3779\n",
      "\n",
      "---Now testing the model for one audio file---\n",
      "The model predicts: disco, and ground truth is: classical.\n",
      "\n",
      "\n"
     ]
    },
    {
     "data": {
      "text/html": [
       "Waiting for W&B process to finish... <strong style=\"color:green\">(success).</strong>"
      ],
      "text/plain": [
       "<IPython.core.display.HTML object>"
      ]
     },
     "metadata": {},
     "output_type": "display_data"
    },
    {
     "data": {
      "application/vnd.jupyter.widget-view+json": {
       "model_id": "",
       "version_major": 2,
       "version_minor": 0
      },
      "text/plain": [
       "VBox(children=(Label(value='0.965 MB of 0.965 MB uploaded (0.000 MB deduped)\\r'), FloatProgress(value=1.0, max…"
      ]
     },
     "metadata": {},
     "output_type": "display_data"
    },
    {
     "data": {
      "text/html": [
       "<style>\n",
       "    table.wandb td:nth-child(1) { padding: 0 10px; text-align: right }\n",
       "    .wandb-row { display: flex; flex-direction: row; flex-wrap: wrap; width: 100% }\n",
       "    .wandb-col { display: flex; flex-direction: column; flex-basis: 100%; flex: 1; padding: 10px; }\n",
       "    </style>\n",
       "<div class=\"wandb-row\"><div class=\"wandb-col\"><h3>Run history:</h3><br/><table class=\"wandb\"><tr><td>acc</td><td>▁▄▆▇█</td></tr><tr><td>epoch</td><td>▁▃▅▆█</td></tr><tr><td>loss</td><td>█▅▃▂▁</td></tr><tr><td>val_acc</td><td>▁▄▆▇█</td></tr><tr><td>val_loss</td><td>█▆▄▂▁</td></tr></table><br/></div><div class=\"wandb-col\"><h3>Run summary:</h3><br/><table class=\"wandb\"><tr><td>acc</td><td>0.33818</td></tr><tr><td>best_epoch</td><td>4</td></tr><tr><td>best_val_loss</td><td>1.75288</td></tr><tr><td>epoch</td><td>4</td></tr><tr><td>loss</td><td>1.93596</td></tr><tr><td>val_acc</td><td>0.37788</td></tr><tr><td>val_loss</td><td>1.75288</td></tr></table><br/></div></div>"
      ],
      "text/plain": [
       "<IPython.core.display.HTML object>"
      ]
     },
     "metadata": {},
     "output_type": "display_data"
    },
    {
     "data": {
      "text/html": [
       "Synced <strong style=\"color:#cdcd00\">dauntless-sweep-81</strong>: <a href=\"https://wandb.ai/msaintfelix/Sweeps-Genre-Classifier/runs/cimjrn6n\" target=\"_blank\">https://wandb.ai/msaintfelix/Sweeps-Genre-Classifier/runs/cimjrn6n</a><br/>Synced 6 W&B file(s), 1 media file(s), 0 artifact file(s) and 1 other file(s)"
      ],
      "text/plain": [
       "<IPython.core.display.HTML object>"
      ]
     },
     "metadata": {},
     "output_type": "display_data"
    },
    {
     "data": {
      "text/html": [
       "Find logs at: <code>./wandb/run-20220829_222940-cimjrn6n/logs</code>"
      ],
      "text/plain": [
       "<IPython.core.display.HTML object>"
      ]
     },
     "metadata": {},
     "output_type": "display_data"
    },
    {
     "name": "stderr",
     "output_type": "stream",
     "text": [
      "\u001b[34m\u001b[1mwandb\u001b[0m: Agent Starting Run: 093uvqau with config:\n",
      "\u001b[34m\u001b[1mwandb\u001b[0m: \tbatch_size: 64\n",
      "\u001b[34m\u001b[1mwandb\u001b[0m: \tconv_layer_size: 32\n",
      "\u001b[34m\u001b[1mwandb\u001b[0m: \tdropout: 0.5\n",
      "\u001b[34m\u001b[1mwandb\u001b[0m: \tepochs: 10\n",
      "\u001b[34m\u001b[1mwandb\u001b[0m: \tlearning_rate: 0.001\n"
     ]
    },
    {
     "data": {
      "text/html": [
       "wandb version 0.13.2 is available!  To upgrade, please run:\n",
       " $ pip install wandb --upgrade"
      ],
      "text/plain": [
       "<IPython.core.display.HTML object>"
      ]
     },
     "metadata": {},
     "output_type": "display_data"
    },
    {
     "data": {
      "text/html": [
       "Tracking run with wandb version 0.12.11"
      ],
      "text/plain": [
       "<IPython.core.display.HTML object>"
      ]
     },
     "metadata": {},
     "output_type": "display_data"
    },
    {
     "data": {
      "text/html": [
       "Run data is saved locally in <code>/Users/msf/GitHub/TensorFlow_MusicGenre_Classifier/wandb/run-20220829_223121-093uvqau</code>"
      ],
      "text/plain": [
       "<IPython.core.display.HTML object>"
      ]
     },
     "metadata": {},
     "output_type": "display_data"
    },
    {
     "data": {
      "text/html": [
       "Syncing run <strong><a href=\"https://wandb.ai/msaintfelix/Sweeps-Genre-Classifier/runs/093uvqau\" target=\"_blank\">dry-sweep-82</a></strong> to <a href=\"https://wandb.ai/msaintfelix/Sweeps-Genre-Classifier\" target=\"_blank\">Weights & Biases</a> (<a href=\"https://wandb.me/run\" target=\"_blank\">docs</a>)<br/>Sweep page:  <a href=\"https://wandb.ai/msaintfelix/Sweeps-Genre-Classifier/sweeps/e7xdbkpy\" target=\"_blank\">https://wandb.ai/msaintfelix/Sweeps-Genre-Classifier/sweeps/e7xdbkpy</a>"
      ],
      "text/plain": [
       "<IPython.core.display.HTML object>"
      ]
     },
     "metadata": {},
     "output_type": "display_data"
    },
    {
     "name": "stdout",
     "output_type": "stream",
     "text": [
      "(9990, 125, 13)\n",
      "Model: \"sequential\"\n",
      "_________________________________________________________________\n",
      "Layer (type)                 Output Shape              Param #   \n",
      "=================================================================\n",
      "conv2d (Conv2D)              (None, 123, 11, 32)       320       \n",
      "_________________________________________________________________\n",
      "max_pooling2d (MaxPooling2D) (None, 62, 6, 32)         0         \n",
      "_________________________________________________________________\n",
      "batch_normalization (BatchNo (None, 62, 6, 32)         128       \n",
      "_________________________________________________________________\n",
      "conv2d_1 (Conv2D)            (None, 60, 4, 32)         9248      \n",
      "_________________________________________________________________\n",
      "max_pooling2d_1 (MaxPooling2 (None, 30, 2, 32)         0         \n",
      "_________________________________________________________________\n",
      "batch_normalization_1 (Batch (None, 30, 2, 32)         128       \n",
      "_________________________________________________________________\n",
      "conv2d_2 (Conv2D)            (None, 29, 1, 32)         4128      \n",
      "_________________________________________________________________\n",
      "max_pooling2d_2 (MaxPooling2 (None, 15, 1, 32)         0         \n",
      "_________________________________________________________________\n",
      "batch_normalization_2 (Batch (None, 15, 1, 32)         128       \n",
      "_________________________________________________________________\n",
      "dropout (Dropout)            (None, 15, 1, 32)         0         \n",
      "_________________________________________________________________\n",
      "flatten (Flatten)            (None, 480)               0         \n",
      "_________________________________________________________________\n",
      "dense (Dense)                (None, 64)                30784     \n",
      "_________________________________________________________________\n",
      "dense_1 (Dense)              (None, 10)                650       \n",
      "=================================================================\n",
      "Total params: 45,514\n",
      "Trainable params: 45,322\n",
      "Non-trainable params: 192\n",
      "_________________________________________________________________\n",
      "Epoch 1/10\n",
      "100/100 [==============================] - 8s 75ms/step - loss: 2.1176 - acc: 0.3243 - val_loss: 2.1960 - val_acc: 0.3353\n",
      "Epoch 2/10\n",
      "100/100 [==============================] - 7s 72ms/step - loss: 1.3627 - acc: 0.5103 - val_loss: 1.3979 - val_acc: 0.4995\n",
      "Epoch 3/10\n",
      "100/100 [==============================] - 7s 71ms/step - loss: 1.1579 - acc: 0.5853 - val_loss: 1.0676 - val_acc: 0.6116\n",
      "Epoch 4/10\n",
      "100/100 [==============================] - 7s 72ms/step - loss: 0.9776 - acc: 0.6552 - val_loss: 1.0213 - val_acc: 0.6657\n",
      "Epoch 5/10\n",
      "100/100 [==============================] - 7s 73ms/step - loss: 0.9093 - acc: 0.6847 - val_loss: 1.0570 - val_acc: 0.6251\n",
      "Epoch 6/10\n",
      "100/100 [==============================] - 7s 71ms/step - loss: 0.8241 - acc: 0.7106 - val_loss: 0.7966 - val_acc: 0.7297\n",
      "Epoch 7/10\n",
      "100/100 [==============================] - 7s 71ms/step - loss: 0.7894 - acc: 0.7219 - val_loss: 0.7603 - val_acc: 0.7553\n",
      "Epoch 8/10\n",
      "100/100 [==============================] - 7s 72ms/step - loss: 0.7517 - acc: 0.7300 - val_loss: 0.8897 - val_acc: 0.6897\n",
      "Epoch 9/10\n",
      "100/100 [==============================] - 7s 72ms/step - loss: 0.6752 - acc: 0.7605 - val_loss: 0.8341 - val_acc: 0.7332\n",
      "Epoch 10/10\n",
      "100/100 [==============================] - 7s 71ms/step - loss: 0.6444 - acc: 0.7742 - val_loss: 0.7857 - val_acc: 0.7207\n",
      "\n",
      "---Now testing the model for one audio file---\n",
      "The model predicts: rock, and ground truth is: rock.\n",
      "\n",
      "\n"
     ]
    },
    {
     "data": {
      "text/html": [
       "Waiting for W&B process to finish... <strong style=\"color:green\">(success).</strong>"
      ],
      "text/plain": [
       "<IPython.core.display.HTML object>"
      ]
     },
     "metadata": {},
     "output_type": "display_data"
    },
    {
     "data": {
      "application/vnd.jupyter.widget-view+json": {
       "model_id": "",
       "version_major": 2,
       "version_minor": 0
      },
      "text/plain": [
       "VBox(children=(Label(value='0.419 MB of 0.419 MB uploaded (0.000 MB deduped)\\r'), FloatProgress(value=1.0, max…"
      ]
     },
     "metadata": {},
     "output_type": "display_data"
    },
    {
     "data": {
      "text/html": [
       "<style>\n",
       "    table.wandb td:nth-child(1) { padding: 0 10px; text-align: right }\n",
       "    .wandb-row { display: flex; flex-direction: row; flex-wrap: wrap; width: 100% }\n",
       "    .wandb-col { display: flex; flex-direction: column; flex-basis: 100%; flex: 1; padding: 10px; }\n",
       "    </style>\n",
       "<div class=\"wandb-row\"><div class=\"wandb-col\"><h3>Run history:</h3><br/><table class=\"wandb\"><tr><td>acc</td><td>▁▃▅▆▆▇▇▇██</td></tr><tr><td>epoch</td><td>▁▂▃▃▄▅▆▆▇█</td></tr><tr><td>loss</td><td>█▅▄▃▃▂▂▁▁▁</td></tr><tr><td>val_acc</td><td>▁▄▆▇▆██▇█▇</td></tr><tr><td>val_loss</td><td>█▄▂▂▂▁▁▂▁▁</td></tr></table><br/></div><div class=\"wandb-col\"><h3>Run summary:</h3><br/><table class=\"wandb\"><tr><td>acc</td><td>0.76865</td></tr><tr><td>best_epoch</td><td>6</td></tr><tr><td>best_val_loss</td><td>0.76027</td></tr><tr><td>epoch</td><td>9</td></tr><tr><td>loss</td><td>0.65174</td></tr><tr><td>val_acc</td><td>0.72072</td></tr><tr><td>val_loss</td><td>0.78569</td></tr></table><br/></div></div>"
      ],
      "text/plain": [
       "<IPython.core.display.HTML object>"
      ]
     },
     "metadata": {},
     "output_type": "display_data"
    },
    {
     "data": {
      "text/html": [
       "Synced <strong style=\"color:#cdcd00\">dry-sweep-82</strong>: <a href=\"https://wandb.ai/msaintfelix/Sweeps-Genre-Classifier/runs/093uvqau\" target=\"_blank\">https://wandb.ai/msaintfelix/Sweeps-Genre-Classifier/runs/093uvqau</a><br/>Synced 6 W&B file(s), 1 media file(s), 0 artifact file(s) and 1 other file(s)"
      ],
      "text/plain": [
       "<IPython.core.display.HTML object>"
      ]
     },
     "metadata": {},
     "output_type": "display_data"
    },
    {
     "data": {
      "text/html": [
       "Find logs at: <code>./wandb/run-20220829_223121-093uvqau/logs</code>"
      ],
      "text/plain": [
       "<IPython.core.display.HTML object>"
      ]
     },
     "metadata": {},
     "output_type": "display_data"
    },
    {
     "name": "stderr",
     "output_type": "stream",
     "text": [
      "\u001b[34m\u001b[1mwandb\u001b[0m: Agent Starting Run: rznjafgy with config:\n",
      "\u001b[34m\u001b[1mwandb\u001b[0m: \tbatch_size: 32\n",
      "\u001b[34m\u001b[1mwandb\u001b[0m: \tconv_layer_size: 64\n",
      "\u001b[34m\u001b[1mwandb\u001b[0m: \tdropout: 0.5\n",
      "\u001b[34m\u001b[1mwandb\u001b[0m: \tepochs: 10\n",
      "\u001b[34m\u001b[1mwandb\u001b[0m: \tlearning_rate: 0.001\n"
     ]
    },
    {
     "data": {
      "text/html": [
       "wandb version 0.13.2 is available!  To upgrade, please run:\n",
       " $ pip install wandb --upgrade"
      ],
      "text/plain": [
       "<IPython.core.display.HTML object>"
      ]
     },
     "metadata": {},
     "output_type": "display_data"
    },
    {
     "data": {
      "text/html": [
       "Tracking run with wandb version 0.12.11"
      ],
      "text/plain": [
       "<IPython.core.display.HTML object>"
      ]
     },
     "metadata": {},
     "output_type": "display_data"
    },
    {
     "data": {
      "text/html": [
       "Run data is saved locally in <code>/Users/msf/GitHub/TensorFlow_MusicGenre_Classifier/wandb/run-20220829_223303-rznjafgy</code>"
      ],
      "text/plain": [
       "<IPython.core.display.HTML object>"
      ]
     },
     "metadata": {},
     "output_type": "display_data"
    },
    {
     "data": {
      "text/html": [
       "Syncing run <strong><a href=\"https://wandb.ai/msaintfelix/Sweeps-Genre-Classifier/runs/rznjafgy\" target=\"_blank\">jumping-sweep-83</a></strong> to <a href=\"https://wandb.ai/msaintfelix/Sweeps-Genre-Classifier\" target=\"_blank\">Weights & Biases</a> (<a href=\"https://wandb.me/run\" target=\"_blank\">docs</a>)<br/>Sweep page:  <a href=\"https://wandb.ai/msaintfelix/Sweeps-Genre-Classifier/sweeps/e7xdbkpy\" target=\"_blank\">https://wandb.ai/msaintfelix/Sweeps-Genre-Classifier/sweeps/e7xdbkpy</a>"
      ],
      "text/plain": [
       "<IPython.core.display.HTML object>"
      ]
     },
     "metadata": {},
     "output_type": "display_data"
    },
    {
     "name": "stdout",
     "output_type": "stream",
     "text": [
      "(9990, 125, 13)\n",
      "Model: \"sequential\"\n",
      "_________________________________________________________________\n",
      "Layer (type)                 Output Shape              Param #   \n",
      "=================================================================\n",
      "conv2d (Conv2D)              (None, 123, 11, 64)       640       \n",
      "_________________________________________________________________\n",
      "max_pooling2d (MaxPooling2D) (None, 62, 6, 64)         0         \n",
      "_________________________________________________________________\n",
      "batch_normalization (BatchNo (None, 62, 6, 64)         256       \n",
      "_________________________________________________________________\n",
      "conv2d_1 (Conv2D)            (None, 60, 4, 64)         36928     \n",
      "_________________________________________________________________\n",
      "max_pooling2d_1 (MaxPooling2 (None, 30, 2, 64)         0         \n",
      "_________________________________________________________________\n",
      "batch_normalization_1 (Batch (None, 30, 2, 64)         256       \n",
      "_________________________________________________________________\n",
      "conv2d_2 (Conv2D)            (None, 29, 1, 64)         16448     \n",
      "_________________________________________________________________\n",
      "max_pooling2d_2 (MaxPooling2 (None, 15, 1, 64)         0         \n",
      "_________________________________________________________________\n",
      "batch_normalization_2 (Batch (None, 15, 1, 64)         256       \n",
      "_________________________________________________________________\n",
      "dropout (Dropout)            (None, 15, 1, 64)         0         \n",
      "_________________________________________________________________\n",
      "flatten (Flatten)            (None, 960)               0         \n",
      "_________________________________________________________________\n",
      "dense (Dense)                (None, 64)                61504     \n",
      "_________________________________________________________________\n",
      "dense_1 (Dense)              (None, 10)                650       \n",
      "=================================================================\n",
      "Total params: 116,938\n",
      "Trainable params: 116,554\n",
      "Non-trainable params: 384\n",
      "_________________________________________________________________\n",
      "Epoch 1/10\n",
      "200/200 [==============================] - 16s 75ms/step - loss: 2.0446 - acc: 0.3649 - val_loss: 1.6650 - val_acc: 0.4735\n",
      "Epoch 2/10\n",
      "200/200 [==============================] - 15s 75ms/step - loss: 1.3614 - acc: 0.5331 - val_loss: 1.4629 - val_acc: 0.5385\n",
      "Epoch 3/10\n",
      "200/200 [==============================] - 15s 75ms/step - loss: 1.0652 - acc: 0.6328 - val_loss: 0.9291 - val_acc: 0.6887\n",
      "Epoch 4/10\n",
      "200/200 [==============================] - 15s 75ms/step - loss: 0.9352 - acc: 0.6730 - val_loss: 1.3348 - val_acc: 0.5601\n",
      "Epoch 5/10\n",
      "200/200 [==============================] - 15s 75ms/step - loss: 0.8465 - acc: 0.7073 - val_loss: 0.8784 - val_acc: 0.6987\n",
      "Epoch 6/10\n",
      "200/200 [==============================] - 15s 75ms/step - loss: 0.7135 - acc: 0.7504 - val_loss: 0.8112 - val_acc: 0.7267\n",
      "Epoch 7/10\n",
      "200/200 [==============================] - 15s 75ms/step - loss: 0.6956 - acc: 0.7616 - val_loss: 0.8420 - val_acc: 0.7307\n",
      "Epoch 8/10\n",
      "200/200 [==============================] - 15s 75ms/step - loss: 0.6358 - acc: 0.7779 - val_loss: 0.9693 - val_acc: 0.6962\n",
      "Epoch 9/10\n",
      "200/200 [==============================] - 15s 77ms/step - loss: 0.5652 - acc: 0.8038 - val_loss: 0.7270 - val_acc: 0.7623\n",
      "Epoch 10/10\n",
      "200/200 [==============================] - 14s 72ms/step - loss: 0.5312 - acc: 0.8194 - val_loss: 0.8316 - val_acc: 0.7397\n",
      "\n",
      "---Now testing the model for one audio file---\n",
      "The model predicts: disco, and ground truth is: disco.\n",
      "\n",
      "\n"
     ]
    },
    {
     "data": {
      "text/html": [
       "Waiting for W&B process to finish... <strong style=\"color:green\">(success).</strong>"
      ],
      "text/plain": [
       "<IPython.core.display.HTML object>"
      ]
     },
     "metadata": {},
     "output_type": "display_data"
    },
    {
     "data": {
      "application/vnd.jupyter.widget-view+json": {
       "model_id": "",
       "version_major": 2,
       "version_minor": 0
      },
      "text/plain": [
       "VBox(children=(Label(value='0.965 MB of 0.965 MB uploaded (0.000 MB deduped)\\r'), FloatProgress(value=1.0, max…"
      ]
     },
     "metadata": {},
     "output_type": "display_data"
    },
    {
     "data": {
      "text/html": [
       "<style>\n",
       "    table.wandb td:nth-child(1) { padding: 0 10px; text-align: right }\n",
       "    .wandb-row { display: flex; flex-direction: row; flex-wrap: wrap; width: 100% }\n",
       "    .wandb-col { display: flex; flex-direction: column; flex-basis: 100%; flex: 1; padding: 10px; }\n",
       "    </style>\n",
       "<div class=\"wandb-row\"><div class=\"wandb-col\"><h3>Run history:</h3><br/><table class=\"wandb\"><tr><td>acc</td><td>▁▃▅▆▆▇▇███</td></tr><tr><td>epoch</td><td>▁▂▃▃▄▅▆▆▇█</td></tr><tr><td>loss</td><td>█▅▄▃▃▂▂▁▁▁</td></tr><tr><td>val_acc</td><td>▁▃▆▃▆▇▇▆█▇</td></tr><tr><td>val_loss</td><td>█▆▃▆▂▂▂▃▁▂</td></tr></table><br/></div><div class=\"wandb-col\"><h3>Run summary:</h3><br/><table class=\"wandb\"><tr><td>acc</td><td>0.8087</td></tr><tr><td>best_epoch</td><td>8</td></tr><tr><td>best_val_loss</td><td>0.727</td></tr><tr><td>epoch</td><td>9</td></tr><tr><td>loss</td><td>0.55673</td></tr><tr><td>val_acc</td><td>0.73974</td></tr><tr><td>val_loss</td><td>0.83165</td></tr></table><br/></div></div>"
      ],
      "text/plain": [
       "<IPython.core.display.HTML object>"
      ]
     },
     "metadata": {},
     "output_type": "display_data"
    },
    {
     "data": {
      "text/html": [
       "Synced <strong style=\"color:#cdcd00\">jumping-sweep-83</strong>: <a href=\"https://wandb.ai/msaintfelix/Sweeps-Genre-Classifier/runs/rznjafgy\" target=\"_blank\">https://wandb.ai/msaintfelix/Sweeps-Genre-Classifier/runs/rznjafgy</a><br/>Synced 6 W&B file(s), 1 media file(s), 0 artifact file(s) and 1 other file(s)"
      ],
      "text/plain": [
       "<IPython.core.display.HTML object>"
      ]
     },
     "metadata": {},
     "output_type": "display_data"
    },
    {
     "data": {
      "text/html": [
       "Find logs at: <code>./wandb/run-20220829_223303-rznjafgy/logs</code>"
      ],
      "text/plain": [
       "<IPython.core.display.HTML object>"
      ]
     },
     "metadata": {},
     "output_type": "display_data"
    },
    {
     "name": "stderr",
     "output_type": "stream",
     "text": [
      "\u001b[34m\u001b[1mwandb\u001b[0m: Agent Starting Run: mybuy1rf with config:\n",
      "\u001b[34m\u001b[1mwandb\u001b[0m: \tbatch_size: 64\n",
      "\u001b[34m\u001b[1mwandb\u001b[0m: \tconv_layer_size: 16\n",
      "\u001b[34m\u001b[1mwandb\u001b[0m: \tdropout: 0.4\n",
      "\u001b[34m\u001b[1mwandb\u001b[0m: \tepochs: 15\n",
      "\u001b[34m\u001b[1mwandb\u001b[0m: \tlearning_rate: 0.0003\n"
     ]
    },
    {
     "data": {
      "text/html": [
       "wandb version 0.13.2 is available!  To upgrade, please run:\n",
       " $ pip install wandb --upgrade"
      ],
      "text/plain": [
       "<IPython.core.display.HTML object>"
      ]
     },
     "metadata": {},
     "output_type": "display_data"
    },
    {
     "data": {
      "text/html": [
       "Tracking run with wandb version 0.12.11"
      ],
      "text/plain": [
       "<IPython.core.display.HTML object>"
      ]
     },
     "metadata": {},
     "output_type": "display_data"
    },
    {
     "data": {
      "text/html": [
       "Run data is saved locally in <code>/Users/msf/GitHub/TensorFlow_MusicGenre_Classifier/wandb/run-20220829_223601-mybuy1rf</code>"
      ],
      "text/plain": [
       "<IPython.core.display.HTML object>"
      ]
     },
     "metadata": {},
     "output_type": "display_data"
    },
    {
     "data": {
      "text/html": [
       "Syncing run <strong><a href=\"https://wandb.ai/msaintfelix/Sweeps-Genre-Classifier/runs/mybuy1rf\" target=\"_blank\">giddy-sweep-84</a></strong> to <a href=\"https://wandb.ai/msaintfelix/Sweeps-Genre-Classifier\" target=\"_blank\">Weights & Biases</a> (<a href=\"https://wandb.me/run\" target=\"_blank\">docs</a>)<br/>Sweep page:  <a href=\"https://wandb.ai/msaintfelix/Sweeps-Genre-Classifier/sweeps/e7xdbkpy\" target=\"_blank\">https://wandb.ai/msaintfelix/Sweeps-Genre-Classifier/sweeps/e7xdbkpy</a>"
      ],
      "text/plain": [
       "<IPython.core.display.HTML object>"
      ]
     },
     "metadata": {},
     "output_type": "display_data"
    },
    {
     "name": "stdout",
     "output_type": "stream",
     "text": [
      "(9990, 125, 13)\n",
      "Model: \"sequential\"\n",
      "_________________________________________________________________\n",
      "Layer (type)                 Output Shape              Param #   \n",
      "=================================================================\n",
      "conv2d (Conv2D)              (None, 123, 11, 16)       160       \n",
      "_________________________________________________________________\n",
      "max_pooling2d (MaxPooling2D) (None, 62, 6, 16)         0         \n",
      "_________________________________________________________________\n",
      "batch_normalization (BatchNo (None, 62, 6, 16)         64        \n",
      "_________________________________________________________________\n",
      "conv2d_1 (Conv2D)            (None, 60, 4, 16)         2320      \n",
      "_________________________________________________________________\n",
      "max_pooling2d_1 (MaxPooling2 (None, 30, 2, 16)         0         \n",
      "_________________________________________________________________\n",
      "batch_normalization_1 (Batch (None, 30, 2, 16)         64        \n",
      "_________________________________________________________________\n",
      "conv2d_2 (Conv2D)            (None, 29, 1, 16)         1040      \n",
      "_________________________________________________________________\n",
      "max_pooling2d_2 (MaxPooling2 (None, 15, 1, 16)         0         \n",
      "_________________________________________________________________\n",
      "batch_normalization_2 (Batch (None, 15, 1, 16)         64        \n",
      "_________________________________________________________________\n",
      "dropout (Dropout)            (None, 15, 1, 16)         0         \n",
      "_________________________________________________________________\n",
      "flatten (Flatten)            (None, 240)               0         \n",
      "_________________________________________________________________\n",
      "dense (Dense)                (None, 64)                15424     \n",
      "_________________________________________________________________\n",
      "dense_1 (Dense)              (None, 10)                650       \n",
      "=================================================================\n",
      "Total params: 19,786\n",
      "Trainable params: 19,690\n",
      "Non-trainable params: 96\n",
      "_________________________________________________________________\n",
      "Epoch 1/15\n",
      "100/100 [==============================] - 5s 46ms/step - loss: 2.6442 - acc: 0.1917 - val_loss: 2.0111 - val_acc: 0.2948\n",
      "Epoch 2/15\n",
      "100/100 [==============================] - 4s 45ms/step - loss: 1.8613 - acc: 0.3457 - val_loss: 1.6245 - val_acc: 0.4029\n",
      "Epoch 3/15\n",
      "100/100 [==============================] - 5s 45ms/step - loss: 1.6168 - acc: 0.4111 - val_loss: 1.4883 - val_acc: 0.4424\n",
      "Epoch 4/15\n",
      "100/100 [==============================] - 5s 45ms/step - loss: 1.4781 - acc: 0.4655 - val_loss: 1.3115 - val_acc: 0.5190\n",
      "Epoch 5/15\n",
      "100/100 [==============================] - 5s 46ms/step - loss: 1.3891 - acc: 0.4916 - val_loss: 1.3042 - val_acc: 0.5185\n",
      "Epoch 6/15\n",
      "100/100 [==============================] - 5s 45ms/step - loss: 1.2884 - acc: 0.5257 - val_loss: 1.1880 - val_acc: 0.5776\n",
      "Epoch 7/15\n",
      "100/100 [==============================] - 4s 45ms/step - loss: 1.2628 - acc: 0.5354 - val_loss: 1.1495 - val_acc: 0.5811\n",
      "Epoch 8/15\n",
      "100/100 [==============================] - 4s 45ms/step - loss: 1.1869 - acc: 0.5720 - val_loss: 1.1070 - val_acc: 0.6006\n",
      "Epoch 9/15\n",
      "100/100 [==============================] - 4s 45ms/step - loss: 1.1533 - acc: 0.5793 - val_loss: 1.1041 - val_acc: 0.6046\n",
      "Epoch 10/15\n",
      "100/100 [==============================] - 4s 45ms/step - loss: 1.1451 - acc: 0.5876 - val_loss: 1.0788 - val_acc: 0.6081\n",
      "Epoch 11/15\n",
      "100/100 [==============================] - 5s 45ms/step - loss: 1.0800 - acc: 0.6068 - val_loss: 1.0481 - val_acc: 0.6176\n",
      "Epoch 12/15\n",
      "100/100 [==============================] - 5s 45ms/step - loss: 1.0737 - acc: 0.6147 - val_loss: 1.0389 - val_acc: 0.6206\n",
      "Epoch 13/15\n",
      "100/100 [==============================] - 4s 45ms/step - loss: 1.0465 - acc: 0.6224 - val_loss: 1.0365 - val_acc: 0.6276\n",
      "Epoch 14/15\n",
      "100/100 [==============================] - 5s 45ms/step - loss: 1.0372 - acc: 0.6274 - val_loss: 0.9676 - val_acc: 0.6507\n",
      "Epoch 15/15\n",
      "100/100 [==============================] - 5s 45ms/step - loss: 1.0082 - acc: 0.6462 - val_loss: 0.9978 - val_acc: 0.6346\n",
      "\n",
      "---Now testing the model for one audio file---\n",
      "The model predicts: classical, and ground truth is: classical.\n",
      "\n",
      "\n"
     ]
    },
    {
     "data": {
      "text/html": [
       "Waiting for W&B process to finish... <strong style=\"color:green\">(success).</strong>"
      ],
      "text/plain": [
       "<IPython.core.display.HTML object>"
      ]
     },
     "metadata": {},
     "output_type": "display_data"
    },
    {
     "data": {
      "application/vnd.jupyter.widget-view+json": {
       "model_id": "",
       "version_major": 2,
       "version_minor": 0
      },
      "text/plain": [
       "VBox(children=(Label(value='0.224 MB of 0.224 MB uploaded (0.000 MB deduped)\\r'), FloatProgress(value=1.0, max…"
      ]
     },
     "metadata": {},
     "output_type": "display_data"
    },
    {
     "data": {
      "text/html": [
       "<style>\n",
       "    table.wandb td:nth-child(1) { padding: 0 10px; text-align: right }\n",
       "    .wandb-row { display: flex; flex-direction: row; flex-wrap: wrap; width: 100% }\n",
       "    .wandb-col { display: flex; flex-direction: column; flex-basis: 100%; flex: 1; padding: 10px; }\n",
       "    </style>\n",
       "<div class=\"wandb-row\"><div class=\"wandb-col\"><h3>Run history:</h3><br/><table class=\"wandb\"><tr><td>acc</td><td>▁▃▄▅▅▆▆▇▇▇▇▇███</td></tr><tr><td>epoch</td><td>▁▁▂▃▃▃▄▅▅▅▆▇▇▇█</td></tr><tr><td>loss</td><td>█▅▄▃▃▂▂▂▂▂▁▁▁▁▁</td></tr><tr><td>val_acc</td><td>▁▃▄▅▅▇▇▇▇▇▇▇███</td></tr><tr><td>val_loss</td><td>█▅▄▃▃▂▂▂▂▂▂▁▁▁▁</td></tr></table><br/></div><div class=\"wandb-col\"><h3>Run summary:</h3><br/><table class=\"wandb\"><tr><td>acc</td><td>0.64618</td></tr><tr><td>best_epoch</td><td>13</td></tr><tr><td>best_val_loss</td><td>0.96763</td></tr><tr><td>epoch</td><td>14</td></tr><tr><td>loss</td><td>1.00051</td></tr><tr><td>val_acc</td><td>0.63463</td></tr><tr><td>val_loss</td><td>0.9978</td></tr></table><br/></div></div>"
      ],
      "text/plain": [
       "<IPython.core.display.HTML object>"
      ]
     },
     "metadata": {},
     "output_type": "display_data"
    },
    {
     "data": {
      "text/html": [
       "Synced <strong style=\"color:#cdcd00\">giddy-sweep-84</strong>: <a href=\"https://wandb.ai/msaintfelix/Sweeps-Genre-Classifier/runs/mybuy1rf\" target=\"_blank\">https://wandb.ai/msaintfelix/Sweeps-Genre-Classifier/runs/mybuy1rf</a><br/>Synced 6 W&B file(s), 1 media file(s), 0 artifact file(s) and 1 other file(s)"
      ],
      "text/plain": [
       "<IPython.core.display.HTML object>"
      ]
     },
     "metadata": {},
     "output_type": "display_data"
    },
    {
     "data": {
      "text/html": [
       "Find logs at: <code>./wandb/run-20220829_223601-mybuy1rf/logs</code>"
      ],
      "text/plain": [
       "<IPython.core.display.HTML object>"
      ]
     },
     "metadata": {},
     "output_type": "display_data"
    },
    {
     "name": "stderr",
     "output_type": "stream",
     "text": [
      "\u001b[34m\u001b[1mwandb\u001b[0m: Agent Starting Run: pfzig3fy with config:\n",
      "\u001b[34m\u001b[1mwandb\u001b[0m: \tbatch_size: 32\n",
      "\u001b[34m\u001b[1mwandb\u001b[0m: \tconv_layer_size: 64\n",
      "\u001b[34m\u001b[1mwandb\u001b[0m: \tdropout: 0.5\n",
      "\u001b[34m\u001b[1mwandb\u001b[0m: \tepochs: 10\n",
      "\u001b[34m\u001b[1mwandb\u001b[0m: \tlearning_rate: 1e-05\n"
     ]
    },
    {
     "data": {
      "text/html": [
       "wandb version 0.13.2 is available!  To upgrade, please run:\n",
       " $ pip install wandb --upgrade"
      ],
      "text/plain": [
       "<IPython.core.display.HTML object>"
      ]
     },
     "metadata": {},
     "output_type": "display_data"
    },
    {
     "data": {
      "text/html": [
       "Tracking run with wandb version 0.12.11"
      ],
      "text/plain": [
       "<IPython.core.display.HTML object>"
      ]
     },
     "metadata": {},
     "output_type": "display_data"
    },
    {
     "data": {
      "text/html": [
       "Run data is saved locally in <code>/Users/msf/GitHub/TensorFlow_MusicGenre_Classifier/wandb/run-20220829_223737-pfzig3fy</code>"
      ],
      "text/plain": [
       "<IPython.core.display.HTML object>"
      ]
     },
     "metadata": {},
     "output_type": "display_data"
    },
    {
     "data": {
      "text/html": [
       "Syncing run <strong><a href=\"https://wandb.ai/msaintfelix/Sweeps-Genre-Classifier/runs/pfzig3fy\" target=\"_blank\">flowing-sweep-85</a></strong> to <a href=\"https://wandb.ai/msaintfelix/Sweeps-Genre-Classifier\" target=\"_blank\">Weights & Biases</a> (<a href=\"https://wandb.me/run\" target=\"_blank\">docs</a>)<br/>Sweep page:  <a href=\"https://wandb.ai/msaintfelix/Sweeps-Genre-Classifier/sweeps/e7xdbkpy\" target=\"_blank\">https://wandb.ai/msaintfelix/Sweeps-Genre-Classifier/sweeps/e7xdbkpy</a>"
      ],
      "text/plain": [
       "<IPython.core.display.HTML object>"
      ]
     },
     "metadata": {},
     "output_type": "display_data"
    },
    {
     "name": "stdout",
     "output_type": "stream",
     "text": [
      "(9990, 125, 13)\n",
      "Model: \"sequential\"\n",
      "_________________________________________________________________\n",
      "Layer (type)                 Output Shape              Param #   \n",
      "=================================================================\n",
      "conv2d (Conv2D)              (None, 123, 11, 64)       640       \n",
      "_________________________________________________________________\n",
      "max_pooling2d (MaxPooling2D) (None, 62, 6, 64)         0         \n",
      "_________________________________________________________________\n",
      "batch_normalization (BatchNo (None, 62, 6, 64)         256       \n",
      "_________________________________________________________________\n",
      "conv2d_1 (Conv2D)            (None, 60, 4, 64)         36928     \n",
      "_________________________________________________________________\n",
      "max_pooling2d_1 (MaxPooling2 (None, 30, 2, 64)         0         \n",
      "_________________________________________________________________\n",
      "batch_normalization_1 (Batch (None, 30, 2, 64)         256       \n",
      "_________________________________________________________________\n",
      "conv2d_2 (Conv2D)            (None, 29, 1, 64)         16448     \n",
      "_________________________________________________________________\n",
      "max_pooling2d_2 (MaxPooling2 (None, 15, 1, 64)         0         \n",
      "_________________________________________________________________\n",
      "batch_normalization_2 (Batch (None, 15, 1, 64)         256       \n",
      "_________________________________________________________________\n",
      "dropout (Dropout)            (None, 15, 1, 64)         0         \n",
      "_________________________________________________________________\n",
      "flatten (Flatten)            (None, 960)               0         \n",
      "_________________________________________________________________\n",
      "dense (Dense)                (None, 64)                61504     \n",
      "_________________________________________________________________\n",
      "dense_1 (Dense)              (None, 10)                650       \n",
      "=================================================================\n",
      "Total params: 116,938\n",
      "Trainable params: 116,554\n",
      "Non-trainable params: 384\n",
      "_________________________________________________________________\n",
      "Epoch 1/10\n",
      "200/200 [==============================] - 16s 75ms/step - loss: 3.2797 - acc: 0.1128 - val_loss: 2.2315 - val_acc: 0.2037\n",
      "Epoch 2/10\n",
      "200/200 [==============================] - 15s 76ms/step - loss: 2.8034 - acc: 0.1608 - val_loss: 2.1025 - val_acc: 0.2808\n",
      "Epoch 3/10\n",
      "200/200 [==============================] - 15s 76ms/step - loss: 2.5218 - acc: 0.2163 - val_loss: 1.9748 - val_acc: 0.3273\n",
      "Epoch 4/10\n",
      "200/200 [==============================] - 16s 78ms/step - loss: 2.3900 - acc: 0.2501 - val_loss: 1.8579 - val_acc: 0.3554\n",
      "Epoch 5/10\n",
      "200/200 [==============================] - 14s 71ms/step - loss: 2.2610 - acc: 0.2889 - val_loss: 1.7717 - val_acc: 0.3789\n",
      "Epoch 6/10\n",
      "200/200 [==============================] - 14s 71ms/step - loss: 2.1192 - acc: 0.3257 - val_loss: 1.6934 - val_acc: 0.4069\n",
      "Epoch 7/10\n",
      "200/200 [==============================] - 14s 72ms/step - loss: 2.0059 - acc: 0.3475 - val_loss: 1.6345 - val_acc: 0.4314\n",
      "Epoch 8/10\n",
      "200/200 [==============================] - 14s 72ms/step - loss: 1.9591 - acc: 0.3612 - val_loss: 1.5781 - val_acc: 0.4515\n",
      "Epoch 9/10\n",
      "200/200 [==============================] - 14s 71ms/step - loss: 1.8705 - acc: 0.3792 - val_loss: 1.5300 - val_acc: 0.4660\n",
      "Epoch 10/10\n",
      "200/200 [==============================] - 14s 72ms/step - loss: 1.8198 - acc: 0.3793 - val_loss: 1.4947 - val_acc: 0.4760\n",
      "\n",
      "---Now testing the model for one audio file---\n",
      "The model predicts: country, and ground truth is: disco.\n",
      "\n",
      "\n"
     ]
    },
    {
     "data": {
      "text/html": [
       "Waiting for W&B process to finish... <strong style=\"color:green\">(success).</strong>"
      ],
      "text/plain": [
       "<IPython.core.display.HTML object>"
      ]
     },
     "metadata": {},
     "output_type": "display_data"
    },
    {
     "data": {
      "application/vnd.jupyter.widget-view+json": {
       "model_id": "",
       "version_major": 2,
       "version_minor": 0
      },
      "text/plain": [
       "VBox(children=(Label(value='0.965 MB of 0.965 MB uploaded (0.000 MB deduped)\\r'), FloatProgress(value=1.0, max…"
      ]
     },
     "metadata": {},
     "output_type": "display_data"
    },
    {
     "data": {
      "text/html": [
       "<style>\n",
       "    table.wandb td:nth-child(1) { padding: 0 10px; text-align: right }\n",
       "    .wandb-row { display: flex; flex-direction: row; flex-wrap: wrap; width: 100% }\n",
       "    .wandb-col { display: flex; flex-direction: column; flex-basis: 100%; flex: 1; padding: 10px; }\n",
       "    </style>\n",
       "<div class=\"wandb-row\"><div class=\"wandb-col\"><h3>Run history:</h3><br/><table class=\"wandb\"><tr><td>acc</td><td>▁▃▄▅▆▇▇▇██</td></tr><tr><td>epoch</td><td>▁▂▃▃▄▅▆▆▇█</td></tr><tr><td>loss</td><td>█▆▅▄▃▂▂▂▁▁</td></tr><tr><td>val_acc</td><td>▁▃▄▅▆▆▇▇██</td></tr><tr><td>val_loss</td><td>█▇▆▄▄▃▂▂▁▁</td></tr></table><br/></div><div class=\"wandb-col\"><h3>Run summary:</h3><br/><table class=\"wandb\"><tr><td>acc</td><td>0.38777</td></tr><tr><td>best_epoch</td><td>9</td></tr><tr><td>best_val_loss</td><td>1.4947</td></tr><tr><td>epoch</td><td>9</td></tr><tr><td>loss</td><td>1.80686</td></tr><tr><td>val_acc</td><td>0.47598</td></tr><tr><td>val_loss</td><td>1.4947</td></tr></table><br/></div></div>"
      ],
      "text/plain": [
       "<IPython.core.display.HTML object>"
      ]
     },
     "metadata": {},
     "output_type": "display_data"
    },
    {
     "data": {
      "text/html": [
       "Synced <strong style=\"color:#cdcd00\">flowing-sweep-85</strong>: <a href=\"https://wandb.ai/msaintfelix/Sweeps-Genre-Classifier/runs/pfzig3fy\" target=\"_blank\">https://wandb.ai/msaintfelix/Sweeps-Genre-Classifier/runs/pfzig3fy</a><br/>Synced 6 W&B file(s), 1 media file(s), 0 artifact file(s) and 1 other file(s)"
      ],
      "text/plain": [
       "<IPython.core.display.HTML object>"
      ]
     },
     "metadata": {},
     "output_type": "display_data"
    },
    {
     "data": {
      "text/html": [
       "Find logs at: <code>./wandb/run-20220829_223737-pfzig3fy/logs</code>"
      ],
      "text/plain": [
       "<IPython.core.display.HTML object>"
      ]
     },
     "metadata": {},
     "output_type": "display_data"
    },
    {
     "name": "stderr",
     "output_type": "stream",
     "text": [
      "\u001b[34m\u001b[1mwandb\u001b[0m: Agent Starting Run: 25q8vtug with config:\n",
      "\u001b[34m\u001b[1mwandb\u001b[0m: \tbatch_size: 32\n",
      "\u001b[34m\u001b[1mwandb\u001b[0m: \tconv_layer_size: 64\n",
      "\u001b[34m\u001b[1mwandb\u001b[0m: \tdropout: 0.4\n",
      "\u001b[34m\u001b[1mwandb\u001b[0m: \tepochs: 10\n",
      "\u001b[34m\u001b[1mwandb\u001b[0m: \tlearning_rate: 3e-05\n"
     ]
    },
    {
     "data": {
      "text/html": [
       "wandb version 0.13.2 is available!  To upgrade, please run:\n",
       " $ pip install wandb --upgrade"
      ],
      "text/plain": [
       "<IPython.core.display.HTML object>"
      ]
     },
     "metadata": {},
     "output_type": "display_data"
    },
    {
     "data": {
      "text/html": [
       "Tracking run with wandb version 0.12.11"
      ],
      "text/plain": [
       "<IPython.core.display.HTML object>"
      ]
     },
     "metadata": {},
     "output_type": "display_data"
    },
    {
     "data": {
      "text/html": [
       "Run data is saved locally in <code>/Users/msf/GitHub/TensorFlow_MusicGenre_Classifier/wandb/run-20220829_224031-25q8vtug</code>"
      ],
      "text/plain": [
       "<IPython.core.display.HTML object>"
      ]
     },
     "metadata": {},
     "output_type": "display_data"
    },
    {
     "data": {
      "text/html": [
       "Syncing run <strong><a href=\"https://wandb.ai/msaintfelix/Sweeps-Genre-Classifier/runs/25q8vtug\" target=\"_blank\">vague-sweep-86</a></strong> to <a href=\"https://wandb.ai/msaintfelix/Sweeps-Genre-Classifier\" target=\"_blank\">Weights & Biases</a> (<a href=\"https://wandb.me/run\" target=\"_blank\">docs</a>)<br/>Sweep page:  <a href=\"https://wandb.ai/msaintfelix/Sweeps-Genre-Classifier/sweeps/e7xdbkpy\" target=\"_blank\">https://wandb.ai/msaintfelix/Sweeps-Genre-Classifier/sweeps/e7xdbkpy</a>"
      ],
      "text/plain": [
       "<IPython.core.display.HTML object>"
      ]
     },
     "metadata": {},
     "output_type": "display_data"
    },
    {
     "name": "stdout",
     "output_type": "stream",
     "text": [
      "(9990, 125, 13)\n",
      "Model: \"sequential\"\n",
      "_________________________________________________________________\n",
      "Layer (type)                 Output Shape              Param #   \n",
      "=================================================================\n",
      "conv2d (Conv2D)              (None, 123, 11, 64)       640       \n",
      "_________________________________________________________________\n",
      "max_pooling2d (MaxPooling2D) (None, 62, 6, 64)         0         \n",
      "_________________________________________________________________\n",
      "batch_normalization (BatchNo (None, 62, 6, 64)         256       \n",
      "_________________________________________________________________\n",
      "conv2d_1 (Conv2D)            (None, 60, 4, 64)         36928     \n",
      "_________________________________________________________________\n",
      "max_pooling2d_1 (MaxPooling2 (None, 30, 2, 64)         0         \n",
      "_________________________________________________________________\n",
      "batch_normalization_1 (Batch (None, 30, 2, 64)         256       \n",
      "_________________________________________________________________\n",
      "conv2d_2 (Conv2D)            (None, 29, 1, 64)         16448     \n",
      "_________________________________________________________________\n",
      "max_pooling2d_2 (MaxPooling2 (None, 15, 1, 64)         0         \n",
      "_________________________________________________________________\n",
      "batch_normalization_2 (Batch (None, 15, 1, 64)         256       \n",
      "_________________________________________________________________\n",
      "dropout (Dropout)            (None, 15, 1, 64)         0         \n",
      "_________________________________________________________________\n",
      "flatten (Flatten)            (None, 960)               0         \n",
      "_________________________________________________________________\n",
      "dense (Dense)                (None, 64)                61504     \n",
      "_________________________________________________________________\n",
      "dense_1 (Dense)              (None, 10)                650       \n",
      "=================================================================\n",
      "Total params: 116,938\n",
      "Trainable params: 116,554\n",
      "Non-trainable params: 384\n",
      "_________________________________________________________________\n",
      "Epoch 1/10\n",
      "200/200 [==============================] - 16s 77ms/step - loss: 2.6275 - acc: 0.1889 - val_loss: 1.8752 - val_acc: 0.3248\n",
      "Epoch 2/10\n",
      "200/200 [==============================] - 15s 73ms/step - loss: 2.0470 - acc: 0.3247 - val_loss: 1.6173 - val_acc: 0.4144\n",
      "Epoch 3/10\n",
      "200/200 [==============================] - 14s 71ms/step - loss: 1.8606 - acc: 0.3673 - val_loss: 1.4874 - val_acc: 0.4585\n",
      "Epoch 4/10\n",
      "200/200 [==============================] - 14s 72ms/step - loss: 1.6448 - acc: 0.4271 - val_loss: 1.3701 - val_acc: 0.4970\n",
      "Epoch 5/10\n",
      "200/200 [==============================] - 14s 71ms/step - loss: 1.5767 - acc: 0.4448 - val_loss: 1.3056 - val_acc: 0.5185\n",
      "Epoch 6/10\n",
      "200/200 [==============================] - 15s 75ms/step - loss: 1.4655 - acc: 0.4775 - val_loss: 1.2444 - val_acc: 0.5400\n",
      "Epoch 7/10\n",
      "200/200 [==============================] - 15s 73ms/step - loss: 1.3660 - acc: 0.5111 - val_loss: 1.1919 - val_acc: 0.5576\n",
      "Epoch 8/10\n",
      "200/200 [==============================] - 14s 72ms/step - loss: 1.3100 - acc: 0.5260 - val_loss: 1.1562 - val_acc: 0.5671\n",
      "Epoch 9/10\n",
      "200/200 [==============================] - 14s 72ms/step - loss: 1.2650 - acc: 0.5404 - val_loss: 1.1395 - val_acc: 0.5831\n",
      "Epoch 10/10\n",
      "200/200 [==============================] - 14s 72ms/step - loss: 1.2296 - acc: 0.5473 - val_loss: 1.0933 - val_acc: 0.5916\n",
      "\n",
      "---Now testing the model for one audio file---\n",
      "The model predicts: hiphop, and ground truth is: pop.\n",
      "\n",
      "\n"
     ]
    },
    {
     "data": {
      "text/html": [
       "Waiting for W&B process to finish... <strong style=\"color:green\">(success).</strong>"
      ],
      "text/plain": [
       "<IPython.core.display.HTML object>"
      ]
     },
     "metadata": {},
     "output_type": "display_data"
    },
    {
     "data": {
      "application/vnd.jupyter.widget-view+json": {
       "model_id": "",
       "version_major": 2,
       "version_minor": 0
      },
      "text/plain": [
       "VBox(children=(Label(value='0.965 MB of 0.965 MB uploaded (0.000 MB deduped)\\r'), FloatProgress(value=1.0, max…"
      ]
     },
     "metadata": {},
     "output_type": "display_data"
    },
    {
     "data": {
      "text/html": [
       "<style>\n",
       "    table.wandb td:nth-child(1) { padding: 0 10px; text-align: right }\n",
       "    .wandb-row { display: flex; flex-direction: row; flex-wrap: wrap; width: 100% }\n",
       "    .wandb-col { display: flex; flex-direction: column; flex-basis: 100%; flex: 1; padding: 10px; }\n",
       "    </style>\n",
       "<div class=\"wandb-row\"><div class=\"wandb-col\"><h3>Run history:</h3><br/><table class=\"wandb\"><tr><td>acc</td><td>▁▃▄▅▆▆▇▇██</td></tr><tr><td>epoch</td><td>▁▂▃▃▄▅▆▆▇█</td></tr><tr><td>loss</td><td>█▅▄▃▃▂▂▂▁▁</td></tr><tr><td>val_acc</td><td>▁▃▅▆▆▇▇▇██</td></tr><tr><td>val_loss</td><td>█▆▅▃▃▂▂▂▁▁</td></tr></table><br/></div><div class=\"wandb-col\"><h3>Run summary:</h3><br/><table class=\"wandb\"><tr><td>acc</td><td>0.55248</td></tr><tr><td>best_epoch</td><td>9</td></tr><tr><td>best_val_loss</td><td>1.09326</td></tr><tr><td>epoch</td><td>9</td></tr><tr><td>loss</td><td>1.22764</td></tr><tr><td>val_acc</td><td>0.59159</td></tr><tr><td>val_loss</td><td>1.09326</td></tr></table><br/></div></div>"
      ],
      "text/plain": [
       "<IPython.core.display.HTML object>"
      ]
     },
     "metadata": {},
     "output_type": "display_data"
    },
    {
     "data": {
      "text/html": [
       "Synced <strong style=\"color:#cdcd00\">vague-sweep-86</strong>: <a href=\"https://wandb.ai/msaintfelix/Sweeps-Genre-Classifier/runs/25q8vtug\" target=\"_blank\">https://wandb.ai/msaintfelix/Sweeps-Genre-Classifier/runs/25q8vtug</a><br/>Synced 6 W&B file(s), 1 media file(s), 0 artifact file(s) and 1 other file(s)"
      ],
      "text/plain": [
       "<IPython.core.display.HTML object>"
      ]
     },
     "metadata": {},
     "output_type": "display_data"
    },
    {
     "data": {
      "text/html": [
       "Find logs at: <code>./wandb/run-20220829_224031-25q8vtug/logs</code>"
      ],
      "text/plain": [
       "<IPython.core.display.HTML object>"
      ]
     },
     "metadata": {},
     "output_type": "display_data"
    },
    {
     "name": "stderr",
     "output_type": "stream",
     "text": [
      "\u001b[34m\u001b[1mwandb\u001b[0m: Agent Starting Run: t2vj14t4 with config:\n",
      "\u001b[34m\u001b[1mwandb\u001b[0m: \tbatch_size: 64\n",
      "\u001b[34m\u001b[1mwandb\u001b[0m: \tconv_layer_size: 64\n",
      "\u001b[34m\u001b[1mwandb\u001b[0m: \tdropout: 0.3\n",
      "\u001b[34m\u001b[1mwandb\u001b[0m: \tepochs: 15\n",
      "\u001b[34m\u001b[1mwandb\u001b[0m: \tlearning_rate: 1e-05\n"
     ]
    },
    {
     "data": {
      "text/html": [
       "wandb version 0.13.2 is available!  To upgrade, please run:\n",
       " $ pip install wandb --upgrade"
      ],
      "text/plain": [
       "<IPython.core.display.HTML object>"
      ]
     },
     "metadata": {},
     "output_type": "display_data"
    },
    {
     "data": {
      "text/html": [
       "Tracking run with wandb version 0.12.11"
      ],
      "text/plain": [
       "<IPython.core.display.HTML object>"
      ]
     },
     "metadata": {},
     "output_type": "display_data"
    },
    {
     "data": {
      "text/html": [
       "Run data is saved locally in <code>/Users/msf/GitHub/TensorFlow_MusicGenre_Classifier/wandb/run-20220829_224326-t2vj14t4</code>"
      ],
      "text/plain": [
       "<IPython.core.display.HTML object>"
      ]
     },
     "metadata": {},
     "output_type": "display_data"
    },
    {
     "data": {
      "text/html": [
       "Syncing run <strong><a href=\"https://wandb.ai/msaintfelix/Sweeps-Genre-Classifier/runs/t2vj14t4\" target=\"_blank\">distinctive-sweep-87</a></strong> to <a href=\"https://wandb.ai/msaintfelix/Sweeps-Genre-Classifier\" target=\"_blank\">Weights & Biases</a> (<a href=\"https://wandb.me/run\" target=\"_blank\">docs</a>)<br/>Sweep page:  <a href=\"https://wandb.ai/msaintfelix/Sweeps-Genre-Classifier/sweeps/e7xdbkpy\" target=\"_blank\">https://wandb.ai/msaintfelix/Sweeps-Genre-Classifier/sweeps/e7xdbkpy</a>"
      ],
      "text/plain": [
       "<IPython.core.display.HTML object>"
      ]
     },
     "metadata": {},
     "output_type": "display_data"
    },
    {
     "name": "stdout",
     "output_type": "stream",
     "text": [
      "(9990, 125, 13)\n",
      "Model: \"sequential\"\n",
      "_________________________________________________________________\n",
      "Layer (type)                 Output Shape              Param #   \n",
      "=================================================================\n",
      "conv2d (Conv2D)              (None, 123, 11, 64)       640       \n",
      "_________________________________________________________________\n",
      "max_pooling2d (MaxPooling2D) (None, 62, 6, 64)         0         \n",
      "_________________________________________________________________\n",
      "batch_normalization (BatchNo (None, 62, 6, 64)         256       \n",
      "_________________________________________________________________\n",
      "conv2d_1 (Conv2D)            (None, 60, 4, 64)         36928     \n",
      "_________________________________________________________________\n",
      "max_pooling2d_1 (MaxPooling2 (None, 30, 2, 64)         0         \n",
      "_________________________________________________________________\n",
      "batch_normalization_1 (Batch (None, 30, 2, 64)         256       \n",
      "_________________________________________________________________\n",
      "conv2d_2 (Conv2D)            (None, 29, 1, 64)         16448     \n",
      "_________________________________________________________________\n",
      "max_pooling2d_2 (MaxPooling2 (None, 15, 1, 64)         0         \n",
      "_________________________________________________________________\n",
      "batch_normalization_2 (Batch (None, 15, 1, 64)         256       \n",
      "_________________________________________________________________\n",
      "dropout (Dropout)            (None, 15, 1, 64)         0         \n",
      "_________________________________________________________________\n",
      "flatten (Flatten)            (None, 960)               0         \n",
      "_________________________________________________________________\n",
      "dense (Dense)                (None, 64)                61504     \n",
      "_________________________________________________________________\n",
      "dense_1 (Dense)              (None, 10)                650       \n",
      "=================================================================\n",
      "Total params: 116,938\n",
      "Trainable params: 116,554\n",
      "Non-trainable params: 384\n",
      "_________________________________________________________________\n",
      "Epoch 1/15\n",
      "100/100 [==============================] - 14s 131ms/step - loss: 3.1408 - acc: 0.0920 - val_loss: 2.5952 - val_acc: 0.1186\n",
      "Epoch 2/15\n",
      "100/100 [==============================] - 13s 127ms/step - loss: 2.7402 - acc: 0.1539 - val_loss: 2.2179 - val_acc: 0.2107\n",
      "Epoch 3/15\n",
      "100/100 [==============================] - 13s 127ms/step - loss: 2.4284 - acc: 0.2163 - val_loss: 2.0722 - val_acc: 0.2658\n",
      "Epoch 4/15\n",
      "100/100 [==============================] - 13s 126ms/step - loss: 2.2986 - acc: 0.2419 - val_loss: 1.9859 - val_acc: 0.3123\n",
      "Epoch 5/15\n",
      "100/100 [==============================] - 13s 126ms/step - loss: 2.1168 - acc: 0.2895 - val_loss: 1.9100 - val_acc: 0.3368\n",
      "Epoch 6/15\n",
      "100/100 [==============================] - 13s 126ms/step - loss: 2.0457 - acc: 0.3021 - val_loss: 1.8408 - val_acc: 0.3574\n",
      "Epoch 7/15\n",
      "100/100 [==============================] - 13s 128ms/step - loss: 1.9493 - acc: 0.3390 - val_loss: 1.7768 - val_acc: 0.3764\n",
      "Epoch 8/15\n",
      "100/100 [==============================] - 14s 139ms/step - loss: 1.8816 - acc: 0.3452 - val_loss: 1.7176 - val_acc: 0.3919\n",
      "Epoch 9/15\n",
      "100/100 [==============================] - 13s 132ms/step - loss: 1.8177 - acc: 0.3636 - val_loss: 1.6703 - val_acc: 0.4039\n",
      "Epoch 10/15\n",
      "100/100 [==============================] - 13s 130ms/step - loss: 1.7709 - acc: 0.3762 - val_loss: 1.6239 - val_acc: 0.4214\n",
      "Epoch 11/15\n",
      "100/100 [==============================] - 13s 129ms/step - loss: 1.7443 - acc: 0.3796 - val_loss: 1.5848 - val_acc: 0.4354\n",
      "Epoch 12/15\n",
      "100/100 [==============================] - 13s 129ms/step - loss: 1.7053 - acc: 0.3982 - val_loss: 1.5476 - val_acc: 0.4444\n",
      "Epoch 13/15\n",
      "100/100 [==============================] - 13s 129ms/step - loss: 1.6285 - acc: 0.4252 - val_loss: 1.5132 - val_acc: 0.4585\n",
      "Epoch 14/15\n",
      "100/100 [==============================] - 13s 129ms/step - loss: 1.6304 - acc: 0.4171 - val_loss: 1.4827 - val_acc: 0.4690\n",
      "Epoch 15/15\n",
      "100/100 [==============================] - 13s 129ms/step - loss: 1.5687 - acc: 0.4490 - val_loss: 1.4554 - val_acc: 0.4830\n",
      "\n",
      "---Now testing the model for one audio file---\n",
      "The model predicts: reggae, and ground truth is: reggae.\n",
      "\n",
      "\n"
     ]
    },
    {
     "data": {
      "text/html": [
       "Waiting for W&B process to finish... <strong style=\"color:green\">(success).</strong>"
      ],
      "text/plain": [
       "<IPython.core.display.HTML object>"
      ]
     },
     "metadata": {},
     "output_type": "display_data"
    },
    {
     "data": {
      "application/vnd.jupyter.widget-view+json": {
       "model_id": "",
       "version_major": 2,
       "version_minor": 0
      },
      "text/plain": [
       "VBox(children=(Label(value='0.965 MB of 0.965 MB uploaded (0.000 MB deduped)\\r'), FloatProgress(value=1.0, max…"
      ]
     },
     "metadata": {},
     "output_type": "display_data"
    },
    {
     "data": {
      "text/html": [
       "<style>\n",
       "    table.wandb td:nth-child(1) { padding: 0 10px; text-align: right }\n",
       "    .wandb-row { display: flex; flex-direction: row; flex-wrap: wrap; width: 100% }\n",
       "    .wandb-col { display: flex; flex-direction: column; flex-basis: 100%; flex: 1; padding: 10px; }\n",
       "    </style>\n",
       "<div class=\"wandb-row\"><div class=\"wandb-col\"><h3>Run history:</h3><br/><table class=\"wandb\"><tr><td>acc</td><td>▁▂▃▄▅▅▆▆▆▇▇▇▇██</td></tr><tr><td>epoch</td><td>▁▁▂▃▃▃▄▅▅▅▆▇▇▇█</td></tr><tr><td>loss</td><td>█▆▅▄▄▃▃▃▂▂▂▂▁▁▁</td></tr><tr><td>val_acc</td><td>▁▃▄▅▅▆▆▆▆▇▇▇███</td></tr><tr><td>val_loss</td><td>█▆▅▄▄▃▃▃▂▂▂▂▁▁▁</td></tr></table><br/></div><div class=\"wandb-col\"><h3>Run summary:</h3><br/><table class=\"wandb\"><tr><td>acc</td><td>0.44971</td></tr><tr><td>best_epoch</td><td>14</td></tr><tr><td>best_val_loss</td><td>1.45543</td></tr><tr><td>epoch</td><td>14</td></tr><tr><td>loss</td><td>1.55871</td></tr><tr><td>val_acc</td><td>0.48298</td></tr><tr><td>val_loss</td><td>1.45543</td></tr></table><br/></div></div>"
      ],
      "text/plain": [
       "<IPython.core.display.HTML object>"
      ]
     },
     "metadata": {},
     "output_type": "display_data"
    },
    {
     "data": {
      "text/html": [
       "Synced <strong style=\"color:#cdcd00\">distinctive-sweep-87</strong>: <a href=\"https://wandb.ai/msaintfelix/Sweeps-Genre-Classifier/runs/t2vj14t4\" target=\"_blank\">https://wandb.ai/msaintfelix/Sweeps-Genre-Classifier/runs/t2vj14t4</a><br/>Synced 6 W&B file(s), 1 media file(s), 0 artifact file(s) and 1 other file(s)"
      ],
      "text/plain": [
       "<IPython.core.display.HTML object>"
      ]
     },
     "metadata": {},
     "output_type": "display_data"
    },
    {
     "data": {
      "text/html": [
       "Find logs at: <code>./wandb/run-20220829_224326-t2vj14t4/logs</code>"
      ],
      "text/plain": [
       "<IPython.core.display.HTML object>"
      ]
     },
     "metadata": {},
     "output_type": "display_data"
    },
    {
     "name": "stderr",
     "output_type": "stream",
     "text": [
      "\u001b[34m\u001b[1mwandb\u001b[0m: Agent Starting Run: bcjsqc7d with config:\n",
      "\u001b[34m\u001b[1mwandb\u001b[0m: \tbatch_size: 32\n",
      "\u001b[34m\u001b[1mwandb\u001b[0m: \tconv_layer_size: 64\n",
      "\u001b[34m\u001b[1mwandb\u001b[0m: \tdropout: 0.4\n",
      "\u001b[34m\u001b[1mwandb\u001b[0m: \tepochs: 15\n",
      "\u001b[34m\u001b[1mwandb\u001b[0m: \tlearning_rate: 0.0003\n"
     ]
    },
    {
     "data": {
      "text/html": [
       "wandb version 0.13.2 is available!  To upgrade, please run:\n",
       " $ pip install wandb --upgrade"
      ],
      "text/plain": [
       "<IPython.core.display.HTML object>"
      ]
     },
     "metadata": {},
     "output_type": "display_data"
    },
    {
     "data": {
      "text/html": [
       "Tracking run with wandb version 0.12.11"
      ],
      "text/plain": [
       "<IPython.core.display.HTML object>"
      ]
     },
     "metadata": {},
     "output_type": "display_data"
    },
    {
     "data": {
      "text/html": [
       "Run data is saved locally in <code>/Users/msf/GitHub/TensorFlow_MusicGenre_Classifier/wandb/run-20220829_224711-bcjsqc7d</code>"
      ],
      "text/plain": [
       "<IPython.core.display.HTML object>"
      ]
     },
     "metadata": {},
     "output_type": "display_data"
    },
    {
     "data": {
      "text/html": [
       "Syncing run <strong><a href=\"https://wandb.ai/msaintfelix/Sweeps-Genre-Classifier/runs/bcjsqc7d\" target=\"_blank\">stoic-sweep-88</a></strong> to <a href=\"https://wandb.ai/msaintfelix/Sweeps-Genre-Classifier\" target=\"_blank\">Weights & Biases</a> (<a href=\"https://wandb.me/run\" target=\"_blank\">docs</a>)<br/>Sweep page:  <a href=\"https://wandb.ai/msaintfelix/Sweeps-Genre-Classifier/sweeps/e7xdbkpy\" target=\"_blank\">https://wandb.ai/msaintfelix/Sweeps-Genre-Classifier/sweeps/e7xdbkpy</a>"
      ],
      "text/plain": [
       "<IPython.core.display.HTML object>"
      ]
     },
     "metadata": {},
     "output_type": "display_data"
    },
    {
     "name": "stdout",
     "output_type": "stream",
     "text": [
      "(9990, 125, 13)\n",
      "Model: \"sequential\"\n",
      "_________________________________________________________________\n",
      "Layer (type)                 Output Shape              Param #   \n",
      "=================================================================\n",
      "conv2d (Conv2D)              (None, 123, 11, 64)       640       \n",
      "_________________________________________________________________\n",
      "max_pooling2d (MaxPooling2D) (None, 62, 6, 64)         0         \n",
      "_________________________________________________________________\n",
      "batch_normalization (BatchNo (None, 62, 6, 64)         256       \n",
      "_________________________________________________________________\n",
      "conv2d_1 (Conv2D)            (None, 60, 4, 64)         36928     \n",
      "_________________________________________________________________\n",
      "max_pooling2d_1 (MaxPooling2 (None, 30, 2, 64)         0         \n",
      "_________________________________________________________________\n",
      "batch_normalization_1 (Batch (None, 30, 2, 64)         256       \n",
      "_________________________________________________________________\n",
      "conv2d_2 (Conv2D)            (None, 29, 1, 64)         16448     \n",
      "_________________________________________________________________\n",
      "max_pooling2d_2 (MaxPooling2 (None, 15, 1, 64)         0         \n",
      "_________________________________________________________________\n",
      "batch_normalization_2 (Batch (None, 15, 1, 64)         256       \n",
      "_________________________________________________________________\n",
      "dropout (Dropout)            (None, 15, 1, 64)         0         \n",
      "_________________________________________________________________\n",
      "flatten (Flatten)            (None, 960)               0         \n",
      "_________________________________________________________________\n",
      "dense (Dense)                (None, 64)                61504     \n",
      "_________________________________________________________________\n",
      "dense_1 (Dense)              (None, 10)                650       \n",
      "=================================================================\n",
      "Total params: 116,938\n",
      "Trainable params: 116,554\n",
      "Non-trainable params: 384\n",
      "_________________________________________________________________\n",
      "Epoch 1/15\n",
      "200/200 [==============================] - 17s 81ms/step - loss: 2.0292 - acc: 0.3331 - val_loss: 1.4627 - val_acc: 0.4479\n",
      "Epoch 2/15\n",
      "200/200 [==============================] - 15s 73ms/step - loss: 1.3130 - acc: 0.5337 - val_loss: 1.1186 - val_acc: 0.6036\n",
      "Epoch 3/15\n",
      "200/200 [==============================] - 14s 72ms/step - loss: 1.1296 - acc: 0.6113 - val_loss: 1.0834 - val_acc: 0.6201\n",
      "Epoch 4/15\n",
      "200/200 [==============================] - 14s 72ms/step - loss: 0.9977 - acc: 0.6447 - val_loss: 0.9074 - val_acc: 0.6932\n",
      "Epoch 5/15\n",
      "200/200 [==============================] - 14s 72ms/step - loss: 0.8907 - acc: 0.6852 - val_loss: 0.8298 - val_acc: 0.7067\n",
      "Epoch 6/15\n",
      "200/200 [==============================] - 15s 74ms/step - loss: 0.8021 - acc: 0.7189 - val_loss: 0.9887 - val_acc: 0.6702\n",
      "Epoch 7/15\n",
      "200/200 [==============================] - 14s 72ms/step - loss: 0.7383 - acc: 0.7352 - val_loss: 0.8593 - val_acc: 0.6972\n",
      "Epoch 8/15\n",
      "200/200 [==============================] - 14s 72ms/step - loss: 0.6491 - acc: 0.7657 - val_loss: 0.7340 - val_acc: 0.7583\n",
      "Epoch 9/15\n",
      "200/200 [==============================] - 14s 72ms/step - loss: 0.5976 - acc: 0.7881 - val_loss: 0.6883 - val_acc: 0.7683\n",
      "Epoch 10/15\n",
      "200/200 [==============================] - 14s 72ms/step - loss: 0.5660 - acc: 0.7969 - val_loss: 0.8331 - val_acc: 0.7187\n",
      "Epoch 11/15\n",
      "200/200 [==============================] - 14s 72ms/step - loss: 0.5275 - acc: 0.8189 - val_loss: 0.6993 - val_acc: 0.7688\n",
      "Epoch 12/15\n",
      "200/200 [==============================] - 14s 72ms/step - loss: 0.4619 - acc: 0.8362 - val_loss: 0.7680 - val_acc: 0.7412\n",
      "Epoch 13/15\n",
      "200/200 [==============================] - 14s 72ms/step - loss: 0.4554 - acc: 0.8350 - val_loss: 0.6633 - val_acc: 0.7813\n",
      "Epoch 14/15\n",
      "200/200 [==============================] - 14s 72ms/step - loss: 0.4123 - acc: 0.8510 - val_loss: 0.6486 - val_acc: 0.7773\n",
      "Epoch 15/15\n",
      "200/200 [==============================] - 15s 73ms/step - loss: 0.3923 - acc: 0.8616 - val_loss: 0.6735 - val_acc: 0.7718\n",
      "\n",
      "---Now testing the model for one audio file---\n",
      "The model predicts: disco, and ground truth is: disco.\n",
      "\n",
      "\n"
     ]
    },
    {
     "data": {
      "text/html": [
       "Waiting for W&B process to finish... <strong style=\"color:green\">(success).</strong>"
      ],
      "text/plain": [
       "<IPython.core.display.HTML object>"
      ]
     },
     "metadata": {},
     "output_type": "display_data"
    },
    {
     "data": {
      "application/vnd.jupyter.widget-view+json": {
       "model_id": "",
       "version_major": 2,
       "version_minor": 0
      },
      "text/plain": [
       "VBox(children=(Label(value='0.965 MB of 0.965 MB uploaded (0.000 MB deduped)\\r'), FloatProgress(value=1.0, max…"
      ]
     },
     "metadata": {},
     "output_type": "display_data"
    },
    {
     "data": {
      "text/html": [
       "<style>\n",
       "    table.wandb td:nth-child(1) { padding: 0 10px; text-align: right }\n",
       "    .wandb-row { display: flex; flex-direction: row; flex-wrap: wrap; width: 100% }\n",
       "    .wandb-col { display: flex; flex-direction: column; flex-basis: 100%; flex: 1; padding: 10px; }\n",
       "    </style>\n",
       "<div class=\"wandb-row\"><div class=\"wandb-col\"><h3>Run history:</h3><br/><table class=\"wandb\"><tr><td>acc</td><td>▁▃▄▅▅▆▆▇▇▇▇████</td></tr><tr><td>epoch</td><td>▁▁▂▃▃▃▄▅▅▅▆▇▇▇█</td></tr><tr><td>loss</td><td>█▆▅▄▄▃▃▂▂▂▂▁▁▁▁</td></tr><tr><td>val_acc</td><td>▁▄▅▆▆▆▆██▇█▇███</td></tr><tr><td>val_loss</td><td>█▅▅▃▃▄▃▂▁▃▁▂▁▁▁</td></tr></table><br/></div><div class=\"wandb-col\"><h3>Run summary:</h3><br/><table class=\"wandb\"><tr><td>acc</td><td>0.85828</td></tr><tr><td>best_epoch</td><td>13</td></tr><tr><td>best_val_loss</td><td>0.6486</td></tr><tr><td>epoch</td><td>14</td></tr><tr><td>loss</td><td>0.40032</td></tr><tr><td>val_acc</td><td>0.77177</td></tr><tr><td>val_loss</td><td>0.67351</td></tr></table><br/></div></div>"
      ],
      "text/plain": [
       "<IPython.core.display.HTML object>"
      ]
     },
     "metadata": {},
     "output_type": "display_data"
    },
    {
     "data": {
      "text/html": [
       "Synced <strong style=\"color:#cdcd00\">stoic-sweep-88</strong>: <a href=\"https://wandb.ai/msaintfelix/Sweeps-Genre-Classifier/runs/bcjsqc7d\" target=\"_blank\">https://wandb.ai/msaintfelix/Sweeps-Genre-Classifier/runs/bcjsqc7d</a><br/>Synced 6 W&B file(s), 1 media file(s), 0 artifact file(s) and 1 other file(s)"
      ],
      "text/plain": [
       "<IPython.core.display.HTML object>"
      ]
     },
     "metadata": {},
     "output_type": "display_data"
    },
    {
     "data": {
      "text/html": [
       "Find logs at: <code>./wandb/run-20220829_224711-bcjsqc7d/logs</code>"
      ],
      "text/plain": [
       "<IPython.core.display.HTML object>"
      ]
     },
     "metadata": {},
     "output_type": "display_data"
    },
    {
     "name": "stderr",
     "output_type": "stream",
     "text": [
      "\u001b[34m\u001b[1mwandb\u001b[0m: Agent Starting Run: jza73q8p with config:\n",
      "\u001b[34m\u001b[1mwandb\u001b[0m: \tbatch_size: 64\n",
      "\u001b[34m\u001b[1mwandb\u001b[0m: \tconv_layer_size: 64\n",
      "\u001b[34m\u001b[1mwandb\u001b[0m: \tdropout: 0.5\n",
      "\u001b[34m\u001b[1mwandb\u001b[0m: \tepochs: 15\n",
      "\u001b[34m\u001b[1mwandb\u001b[0m: \tlearning_rate: 3e-05\n"
     ]
    },
    {
     "data": {
      "text/html": [
       "wandb version 0.13.2 is available!  To upgrade, please run:\n",
       " $ pip install wandb --upgrade"
      ],
      "text/plain": [
       "<IPython.core.display.HTML object>"
      ]
     },
     "metadata": {},
     "output_type": "display_data"
    },
    {
     "data": {
      "text/html": [
       "Tracking run with wandb version 0.12.11"
      ],
      "text/plain": [
       "<IPython.core.display.HTML object>"
      ]
     },
     "metadata": {},
     "output_type": "display_data"
    },
    {
     "data": {
      "text/html": [
       "Run data is saved locally in <code>/Users/msf/GitHub/TensorFlow_MusicGenre_Classifier/wandb/run-20220829_225122-jza73q8p</code>"
      ],
      "text/plain": [
       "<IPython.core.display.HTML object>"
      ]
     },
     "metadata": {},
     "output_type": "display_data"
    },
    {
     "data": {
      "text/html": [
       "Syncing run <strong><a href=\"https://wandb.ai/msaintfelix/Sweeps-Genre-Classifier/runs/jza73q8p\" target=\"_blank\">eternal-sweep-89</a></strong> to <a href=\"https://wandb.ai/msaintfelix/Sweeps-Genre-Classifier\" target=\"_blank\">Weights & Biases</a> (<a href=\"https://wandb.me/run\" target=\"_blank\">docs</a>)<br/>Sweep page:  <a href=\"https://wandb.ai/msaintfelix/Sweeps-Genre-Classifier/sweeps/e7xdbkpy\" target=\"_blank\">https://wandb.ai/msaintfelix/Sweeps-Genre-Classifier/sweeps/e7xdbkpy</a>"
      ],
      "text/plain": [
       "<IPython.core.display.HTML object>"
      ]
     },
     "metadata": {},
     "output_type": "display_data"
    },
    {
     "name": "stdout",
     "output_type": "stream",
     "text": [
      "(9990, 125, 13)\n",
      "Model: \"sequential\"\n",
      "_________________________________________________________________\n",
      "Layer (type)                 Output Shape              Param #   \n",
      "=================================================================\n",
      "conv2d (Conv2D)              (None, 123, 11, 64)       640       \n",
      "_________________________________________________________________\n",
      "max_pooling2d (MaxPooling2D) (None, 62, 6, 64)         0         \n",
      "_________________________________________________________________\n",
      "batch_normalization (BatchNo (None, 62, 6, 64)         256       \n",
      "_________________________________________________________________\n",
      "conv2d_1 (Conv2D)            (None, 60, 4, 64)         36928     \n",
      "_________________________________________________________________\n",
      "max_pooling2d_1 (MaxPooling2 (None, 30, 2, 64)         0         \n",
      "_________________________________________________________________\n",
      "batch_normalization_1 (Batch (None, 30, 2, 64)         256       \n",
      "_________________________________________________________________\n",
      "conv2d_2 (Conv2D)            (None, 29, 1, 64)         16448     \n",
      "_________________________________________________________________\n",
      "max_pooling2d_2 (MaxPooling2 (None, 15, 1, 64)         0         \n",
      "_________________________________________________________________\n",
      "batch_normalization_2 (Batch (None, 15, 1, 64)         256       \n",
      "_________________________________________________________________\n",
      "dropout (Dropout)            (None, 15, 1, 64)         0         \n",
      "_________________________________________________________________\n",
      "flatten (Flatten)            (None, 960)               0         \n",
      "_________________________________________________________________\n",
      "dense (Dense)                (None, 64)                61504     \n",
      "_________________________________________________________________\n",
      "dense_1 (Dense)              (None, 10)                650       \n",
      "=================================================================\n",
      "Total params: 116,938\n",
      "Trainable params: 116,554\n",
      "Non-trainable params: 384\n",
      "_________________________________________________________________\n",
      "Epoch 1/15\n",
      "100/100 [==============================] - 14s 132ms/step - loss: 3.5178 - acc: 0.1475 - val_loss: 2.2323 - val_acc: 0.2327\n",
      "Epoch 2/15\n",
      "100/100 [==============================] - 13s 128ms/step - loss: 2.7938 - acc: 0.2201 - val_loss: 1.8840 - val_acc: 0.3519\n",
      "Epoch 3/15\n",
      "100/100 [==============================] - 13s 129ms/step - loss: 2.3915 - acc: 0.2856 - val_loss: 1.7275 - val_acc: 0.4029\n",
      "Epoch 4/15\n",
      "100/100 [==============================] - 13s 127ms/step - loss: 2.0823 - acc: 0.3294 - val_loss: 1.6365 - val_acc: 0.4299\n",
      "Epoch 5/15\n",
      "100/100 [==============================] - 13s 127ms/step - loss: 1.9286 - acc: 0.3693 - val_loss: 1.5575 - val_acc: 0.4535\n",
      "Epoch 6/15\n",
      "100/100 [==============================] - 13s 126ms/step - loss: 1.8049 - acc: 0.3938 - val_loss: 1.4931 - val_acc: 0.4805\n",
      "Epoch 7/15\n",
      "100/100 [==============================] - 13s 126ms/step - loss: 1.7172 - acc: 0.4148 - val_loss: 1.4270 - val_acc: 0.5050\n",
      "Epoch 8/15\n",
      "100/100 [==============================] - 14s 136ms/step - loss: 1.6754 - acc: 0.4341 - val_loss: 1.4018 - val_acc: 0.5130\n",
      "Epoch 9/15\n",
      "100/100 [==============================] - 20s 200ms/step - loss: 1.5694 - acc: 0.4629 - val_loss: 1.3564 - val_acc: 0.5270\n",
      "Epoch 10/15\n",
      "100/100 [==============================] - 18s 181ms/step - loss: 1.5303 - acc: 0.4767 - val_loss: 1.3140 - val_acc: 0.5445\n",
      "Epoch 11/15\n",
      "100/100 [==============================] - 18s 180ms/step - loss: 1.4845 - acc: 0.4867 - val_loss: 1.2700 - val_acc: 0.5501\n",
      "Epoch 12/15\n",
      "100/100 [==============================] - 16s 157ms/step - loss: 1.4169 - acc: 0.5023 - val_loss: 1.2393 - val_acc: 0.5596\n",
      "Epoch 13/15\n",
      "100/100 [==============================] - 18s 179ms/step - loss: 1.3720 - acc: 0.5198 - val_loss: 1.2291 - val_acc: 0.5686\n",
      "Epoch 14/15\n",
      "100/100 [==============================] - 17s 168ms/step - loss: 1.3348 - acc: 0.5351 - val_loss: 1.1904 - val_acc: 0.5831\n",
      "Epoch 15/15\n",
      "100/100 [==============================] - 15s 150ms/step - loss: 1.2979 - acc: 0.5501 - val_loss: 1.1621 - val_acc: 0.5866\n",
      "\n",
      "---Now testing the model for one audio file---\n",
      "The model predicts: rock, and ground truth is: rock.\n",
      "\n",
      "\n"
     ]
    },
    {
     "data": {
      "text/html": [
       "Waiting for W&B process to finish... <strong style=\"color:green\">(success).</strong>"
      ],
      "text/plain": [
       "<IPython.core.display.HTML object>"
      ]
     },
     "metadata": {},
     "output_type": "display_data"
    },
    {
     "data": {
      "application/vnd.jupyter.widget-view+json": {
       "model_id": "",
       "version_major": 2,
       "version_minor": 0
      },
      "text/plain": [
       "VBox(children=(Label(value='0.965 MB of 0.965 MB uploaded (0.000 MB deduped)\\r'), FloatProgress(value=1.0, max…"
      ]
     },
     "metadata": {},
     "output_type": "display_data"
    },
    {
     "data": {
      "text/html": [
       "<style>\n",
       "    table.wandb td:nth-child(1) { padding: 0 10px; text-align: right }\n",
       "    .wandb-row { display: flex; flex-direction: row; flex-wrap: wrap; width: 100% }\n",
       "    .wandb-col { display: flex; flex-direction: column; flex-basis: 100%; flex: 1; padding: 10px; }\n",
       "    </style>\n",
       "<div class=\"wandb-row\"><div class=\"wandb-col\"><h3>Run history:</h3><br/><table class=\"wandb\"><tr><td>acc</td><td>▁▂▃▄▅▅▆▆▆▇▇▇███</td></tr><tr><td>epoch</td><td>▁▁▂▃▃▃▄▅▅▅▆▇▇▇█</td></tr><tr><td>loss</td><td>█▆▅▄▃▃▂▂▂▂▂▁▁▁▁</td></tr><tr><td>val_acc</td><td>▁▃▄▅▅▆▆▇▇▇▇▇███</td></tr><tr><td>val_loss</td><td>█▆▅▄▄▃▃▃▂▂▂▂▁▁▁</td></tr></table><br/></div><div class=\"wandb-col\"><h3>Run summary:</h3><br/><table class=\"wandb\"><tr><td>acc</td><td>0.5481</td></tr><tr><td>best_epoch</td><td>14</td></tr><tr><td>best_val_loss</td><td>1.16206</td></tr><tr><td>epoch</td><td>14</td></tr><tr><td>loss</td><td>1.29423</td></tr><tr><td>val_acc</td><td>0.58659</td></tr><tr><td>val_loss</td><td>1.16206</td></tr></table><br/></div></div>"
      ],
      "text/plain": [
       "<IPython.core.display.HTML object>"
      ]
     },
     "metadata": {},
     "output_type": "display_data"
    },
    {
     "data": {
      "text/html": [
       "Synced <strong style=\"color:#cdcd00\">eternal-sweep-89</strong>: <a href=\"https://wandb.ai/msaintfelix/Sweeps-Genre-Classifier/runs/jza73q8p\" target=\"_blank\">https://wandb.ai/msaintfelix/Sweeps-Genre-Classifier/runs/jza73q8p</a><br/>Synced 6 W&B file(s), 1 media file(s), 0 artifact file(s) and 1 other file(s)"
      ],
      "text/plain": [
       "<IPython.core.display.HTML object>"
      ]
     },
     "metadata": {},
     "output_type": "display_data"
    },
    {
     "data": {
      "text/html": [
       "Find logs at: <code>./wandb/run-20220829_225122-jza73q8p/logs</code>"
      ],
      "text/plain": [
       "<IPython.core.display.HTML object>"
      ]
     },
     "metadata": {},
     "output_type": "display_data"
    },
    {
     "name": "stderr",
     "output_type": "stream",
     "text": [
      "\u001b[34m\u001b[1mwandb\u001b[0m: Agent Starting Run: 6oy2t1k8 with config:\n",
      "\u001b[34m\u001b[1mwandb\u001b[0m: \tbatch_size: 64\n",
      "\u001b[34m\u001b[1mwandb\u001b[0m: \tconv_layer_size: 16\n",
      "\u001b[34m\u001b[1mwandb\u001b[0m: \tdropout: 0.4\n",
      "\u001b[34m\u001b[1mwandb\u001b[0m: \tepochs: 5\n",
      "\u001b[34m\u001b[1mwandb\u001b[0m: \tlearning_rate: 0.0003\n",
      "\u001b[34m\u001b[1mwandb\u001b[0m: Ctrl + C detected. Stopping sweep.\n"
     ]
    }
   ],
   "source": [
    "wandb.agent(sweep_id, train)"
   ]
  },
  {
   "cell_type": "code",
   "execution_count": null,
   "metadata": {},
   "outputs": [],
   "source": []
  }
 ],
 "metadata": {
  "kernelspec": {
   "display_name": "Python 3",
   "language": "python",
   "name": "python3"
  },
  "language_info": {
   "codemirror_mode": {
    "name": "ipython",
    "version": 3
   },
   "file_extension": ".py",
   "mimetype": "text/x-python",
   "name": "python",
   "nbconvert_exporter": "python",
   "pygments_lexer": "ipython3",
   "version": "3.8.5"
  }
 },
 "nbformat": 4,
 "nbformat_minor": 4
}
