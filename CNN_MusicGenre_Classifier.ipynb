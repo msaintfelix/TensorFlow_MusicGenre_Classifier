{
 "cells": [
  {
   "cell_type": "markdown",
   "metadata": {},
   "source": [
    "## Music genre classifier with TensorFlow"
   ]
  },
  {
   "cell_type": "markdown",
   "metadata": {},
   "source": [
    "The objective of this project is to classify 30 sec wav files by genre using a TensorFlow CNN model. The GTZAN dataset can be found here:\n",
    "\n",
    "https://www.kaggle.com/andradaolteanu/gtzan-dataset-music-genre-classification\n",
    "\n",
    "To classify audio samples, we will preprocess them by calculating their MFCC, which is a temporal representation of the energy for each perceived frequency band. In this case, we are choosing 13 bands."
   ]
  },
  {
   "cell_type": "code",
   "execution_count": 1,
   "metadata": {},
   "outputs": [],
   "source": [
    "import os\n",
    "import json\n",
    "import numpy as np\n",
    "import librosa\n",
    "import matplotlib.pyplot as plt\n",
    "from sklearn.model_selection import train_test_split\n",
    "import tensorflow as tf"
   ]
  },
  {
   "cell_type": "code",
   "execution_count": 2,
   "metadata": {},
   "outputs": [],
   "source": [
    "# Dataset location\n",
    "SOURCE_PATH = '/Users/msf/Datasets/GTZAN_Dataset/genres_original/'\n",
    "\n",
    "# Path to labels and processed data file, json format.\n",
    "JSON_PATH = '/Users/msf/GitHub/TensorFlow_MusicGenre_Classifier/data.json'\n",
    "\n",
    "# Sampling rate.\n",
    "sr = 22050\n",
    "\n",
    "# Let's make sure all files have the same amount of samples, pick a duration right under 30 seconds.\n",
    "TOTAL_SAMPLES = 29 * sr\n",
    "\n",
    "# The dataset contains 999 files. Lets make it bigger. \n",
    "# X amount of slices => X times more training examples.\n",
    "NUM_SLICES = 10\n",
    "SAMPLES_PER_SLICE = int(TOTAL_SAMPLES / NUM_SLICES)"
   ]
  },
  {
   "cell_type": "code",
   "execution_count": 3,
   "metadata": {},
   "outputs": [],
   "source": [
    "def preprocess_data(source_path, json_path):\n",
    "\n",
    "    # Let's create a dictionary of labels and processed data.\n",
    "    mydict = {\n",
    "        \"labels\": [],\n",
    "        \"mfcc\": []\n",
    "        }\n",
    "\n",
    "    # Let's browse each file, slice it and generate the 13 band mfcc for each slice.\n",
    "    for i, (dirpath, dirnames, filenames) in enumerate(os.walk(source_path)):\n",
    "\n",
    "        for file in filenames:\n",
    "            song, sr = librosa.load(os.path.join(dirpath, file), duration=29)\n",
    "\n",
    "            for s in range(NUM_SLICES):\n",
    "                start_sample = SAMPLES_PER_SLICE * s\n",
    "                end_sample = start_sample + SAMPLES_PER_SLICE\n",
    "                mfcc = librosa.feature.mfcc(y=song[start_sample:end_sample], sr=sr, n_mfcc=13)\n",
    "                mfcc = mfcc.T\n",
    "                mydict[\"labels\"].append(i-1)\n",
    "                mydict[\"mfcc\"].append(mfcc.tolist())\n",
    "\n",
    "    # Let's write the dictionary in a json file.    \n",
    "    with open(json_path, 'w') as f:\n",
    "        json.dump(mydict, f)\n",
    "    f.close()"
   ]
  },
  {
   "cell_type": "code",
   "execution_count": 4,
   "metadata": {},
   "outputs": [],
   "source": [
    "def load_data(json_path):\n",
    "\n",
    "    with open(json_path, 'r') as f:\n",
    "        data = json.load(f)\n",
    "    f.close()\n",
    "\n",
    "    # Let's load our data into numpy arrays for TensorFlow compatibility.\n",
    "    X = np.array(data[\"mfcc\"])\n",
    "    y = np.array(data[\"labels\"])\n",
    "\n",
    "    return X, y"
   ]
  },
  {
   "cell_type": "code",
   "execution_count": 5,
   "metadata": {},
   "outputs": [],
   "source": [
    "def prepare_datasets(inputs, targets, split_size):\n",
    "    \n",
    "    # Creating a validation set and a test set.\n",
    "    inputs_train, inputs_val, targets_train, targets_val = train_test_split(inputs, targets, test_size=split_size)\n",
    "    inputs_train, inputs_test, targets_train, targets_test = train_test_split(inputs_train, targets_train, test_size=split_size)\n",
    "    \n",
    "    # Our CNN model expects 3D input shape.\n",
    "    inputs_train = inputs_train[..., np.newaxis]\n",
    "    inputs_val = inputs_val[..., np.newaxis]\n",
    "    inputs_test = inputs_test[..., np.newaxis]\n",
    "    \n",
    "    return inputs_train, inputs_val, inputs_test, targets_train, targets_val, targets_test"
   ]
  },
  {
   "cell_type": "code",
   "execution_count": 6,
   "metadata": {},
   "outputs": [],
   "source": [
    "def design_model(input_shape):\n",
    "\n",
    "    # Let's design the model architecture.\n",
    "    model = tf.keras.models.Sequential([\n",
    "        \n",
    "        tf.keras.layers.Conv2D(32, (3,3), activation='relu', input_shape=input_shape),\n",
    "        tf.keras.layers.MaxPooling2D((3,3), strides=(2,2), padding='same'),\n",
    "        tf.keras.layers.BatchNormalization(),\n",
    "        \n",
    "        tf.keras.layers.Conv2D(32, (3,3), activation='relu'),\n",
    "        tf.keras.layers.MaxPooling2D((3,3), strides=(2,2), padding='same'),\n",
    "        tf.keras.layers.BatchNormalization(),\n",
    "        \n",
    "        tf.keras.layers.Conv2D(32, (2,2), activation='relu'),\n",
    "        tf.keras.layers.MaxPooling2D((3,3), strides=(2,2), padding='same'),\n",
    "        tf.keras.layers.BatchNormalization(),\n",
    "        tf.keras.layers.Dropout(0.3),\n",
    "        \n",
    "        tf.keras.layers.Flatten(),\n",
    "        tf.keras.layers.Dense(64, activation='relu'), \n",
    "        tf.keras.layers.Dense(len(np.unique(targets)), activation='softmax')\n",
    "    ])\n",
    "\n",
    "    return model"
   ]
  },
  {
   "cell_type": "code",
   "execution_count": 19,
   "metadata": {},
   "outputs": [],
   "source": [
    "def make_prediction(model, X, y, idx):\n",
    "    \n",
    "    genre_dict = {\n",
    "        0 : \"blues\",\n",
    "        1 : \"classical\",\n",
    "        2 : \"country\",\n",
    "        3 : \"disco\",\n",
    "        4 : \"hiphop\",\n",
    "        5 : \"jazz\",\n",
    "        6 : \"metal\",\n",
    "        7 : \"pop\",\n",
    "        8 : \"reggae\",\n",
    "        9 : \"rock\",\n",
    "        }\n",
    "        \n",
    "    predictions = model.predict(X)\n",
    "    genre = np.argmax(predictions[idx])\n",
    "    \n",
    "    print(\"\\n---Now testing the model for one audio file---\\nThe model predicts: {}, and ground truth is: {}.\\n\".format(genre_dict[genre], genre_dict[y[idx]]))"
   ]
  },
  {
   "cell_type": "code",
   "execution_count": 8,
   "metadata": {},
   "outputs": [],
   "source": [
    "def plot_performance(hist):\n",
    "    \n",
    "    acc = hist.history['acc']\n",
    "    val_acc = hist.history['val_acc']\n",
    "    loss = hist.history['loss']\n",
    "    val_loss = hist.history['val_loss']\n",
    "\n",
    "    epochs = range(len(acc))\n",
    "\n",
    "    plt.plot(epochs, acc, 'r', label='Training accuracy')\n",
    "    plt.plot(epochs, val_acc, 'b', label='Validation accuracy')\n",
    "    plt.title('Training and validation accuracy')\n",
    "    plt.legend()\n",
    "    plt.figure()\n",
    "\n",
    "    plt.plot(epochs, loss, 'r', label='Training Loss')\n",
    "    plt.plot(epochs, val_loss, 'b', label='Validation Loss')\n",
    "    plt.title('Training and validation loss')\n",
    "    plt.legend()\n",
    "\n",
    "    plt.show()"
   ]
  },
  {
   "cell_type": "code",
   "execution_count": 21,
   "metadata": {},
   "outputs": [
    {
     "name": "stdout",
     "output_type": "stream",
     "text": [
      "Model: \"sequential_1\"\n",
      "_________________________________________________________________\n",
      "Layer (type)                 Output Shape              Param #   \n",
      "=================================================================\n",
      "conv2d_3 (Conv2D)            (None, 123, 11, 32)       320       \n",
      "_________________________________________________________________\n",
      "max_pooling2d_3 (MaxPooling2 (None, 62, 6, 32)         0         \n",
      "_________________________________________________________________\n",
      "batch_normalization_3 (Batch (None, 62, 6, 32)         128       \n",
      "_________________________________________________________________\n",
      "conv2d_4 (Conv2D)            (None, 60, 4, 32)         9248      \n",
      "_________________________________________________________________\n",
      "max_pooling2d_4 (MaxPooling2 (None, 30, 2, 32)         0         \n",
      "_________________________________________________________________\n",
      "batch_normalization_4 (Batch (None, 30, 2, 32)         128       \n",
      "_________________________________________________________________\n",
      "conv2d_5 (Conv2D)            (None, 29, 1, 32)         4128      \n",
      "_________________________________________________________________\n",
      "max_pooling2d_5 (MaxPooling2 (None, 15, 1, 32)         0         \n",
      "_________________________________________________________________\n",
      "batch_normalization_5 (Batch (None, 15, 1, 32)         128       \n",
      "_________________________________________________________________\n",
      "dropout_1 (Dropout)          (None, 15, 1, 32)         0         \n",
      "_________________________________________________________________\n",
      "flatten_1 (Flatten)          (None, 480)               0         \n",
      "_________________________________________________________________\n",
      "dense_2 (Dense)              (None, 64)                30784     \n",
      "_________________________________________________________________\n",
      "dense_3 (Dense)              (None, 10)                650       \n",
      "=================================================================\n",
      "Total params: 45,514\n",
      "Trainable params: 45,322\n",
      "Non-trainable params: 192\n",
      "_________________________________________________________________\n",
      "Epoch 1/30\n",
      "200/200 [==============================] - 12s 55ms/step - loss: 1.8627 - acc: 0.3743 - val_loss: 1.9830 - val_acc: 0.3483\n",
      "Epoch 2/30\n",
      "200/200 [==============================] - 10s 49ms/step - loss: 1.2251 - acc: 0.5675 - val_loss: 1.0674 - val_acc: 0.6206\n",
      "Epoch 3/30\n",
      "200/200 [==============================] - 9s 43ms/step - loss: 1.0189 - acc: 0.6326 - val_loss: 1.1919 - val_acc: 0.5791\n",
      "Epoch 4/30\n",
      "200/200 [==============================] - 8s 41ms/step - loss: 0.8940 - acc: 0.6796 - val_loss: 0.9772 - val_acc: 0.6792\n",
      "Epoch 5/30\n",
      "200/200 [==============================] - 8s 42ms/step - loss: 0.8137 - acc: 0.7159 - val_loss: 0.8923 - val_acc: 0.7007\n",
      "Epoch 6/30\n",
      "200/200 [==============================] - 9s 43ms/step - loss: 0.7368 - acc: 0.7445 - val_loss: 0.9229 - val_acc: 0.6817\n",
      "Epoch 7/30\n",
      "200/200 [==============================] - 9s 44ms/step - loss: 0.6561 - acc: 0.7723 - val_loss: 0.8371 - val_acc: 0.7392\n",
      "Epoch 8/30\n",
      "200/200 [==============================] - 8s 42ms/step - loss: 0.6134 - acc: 0.7866 - val_loss: 0.8488 - val_acc: 0.7182\n",
      "Epoch 9/30\n",
      "200/200 [==============================] - 9s 45ms/step - loss: 0.5653 - acc: 0.8024 - val_loss: 0.9214 - val_acc: 0.7007\n",
      "Epoch 10/30\n",
      "200/200 [==============================] - 9s 47ms/step - loss: 0.5215 - acc: 0.8156 - val_loss: 0.8648 - val_acc: 0.7117\n",
      "Epoch 11/30\n",
      "200/200 [==============================] - 8s 41ms/step - loss: 0.4966 - acc: 0.8221 - val_loss: 0.9513 - val_acc: 0.6927\n",
      "Epoch 12/30\n",
      "200/200 [==============================] - 9s 47ms/step - loss: 0.4633 - acc: 0.8293 - val_loss: 0.8115 - val_acc: 0.7513\n",
      "Epoch 13/30\n",
      "200/200 [==============================] - 9s 45ms/step - loss: 0.4293 - acc: 0.8433 - val_loss: 0.8898 - val_acc: 0.7347\n",
      "Epoch 14/30\n",
      "200/200 [==============================] - 12s 62ms/step - loss: 0.4128 - acc: 0.8551 - val_loss: 0.7498 - val_acc: 0.7683\n",
      "Epoch 15/30\n",
      "200/200 [==============================] - 9s 47ms/step - loss: 0.4134 - acc: 0.8506 - val_loss: 0.9649 - val_acc: 0.7182\n",
      "Epoch 16/30\n",
      "200/200 [==============================] - 12s 59ms/step - loss: 0.3831 - acc: 0.8720 - val_loss: 0.7937 - val_acc: 0.7648\n",
      "Epoch 17/30\n",
      "200/200 [==============================] - 9s 45ms/step - loss: 0.3739 - acc: 0.8618 - val_loss: 0.8105 - val_acc: 0.7713\n",
      "Epoch 18/30\n",
      "200/200 [==============================] - 9s 46ms/step - loss: 0.3365 - acc: 0.8802 - val_loss: 0.8402 - val_acc: 0.7508\n",
      "Epoch 19/30\n",
      "200/200 [==============================] - 8s 42ms/step - loss: 0.3232 - acc: 0.8793 - val_loss: 0.9146 - val_acc: 0.7272\n",
      "Epoch 20/30\n",
      "200/200 [==============================] - 9s 43ms/step - loss: 0.3048 - acc: 0.8874 - val_loss: 0.8490 - val_acc: 0.7633\n",
      "Epoch 21/30\n",
      "200/200 [==============================] - 8s 41ms/step - loss: 0.2869 - acc: 0.8983 - val_loss: 0.8732 - val_acc: 0.7588\n",
      "Epoch 22/30\n",
      "200/200 [==============================] - 9s 45ms/step - loss: 0.2861 - acc: 0.8999 - val_loss: 0.8502 - val_acc: 0.7643\n",
      "Epoch 23/30\n",
      "200/200 [==============================] - 12s 58ms/step - loss: 0.2648 - acc: 0.9068 - val_loss: 0.8676 - val_acc: 0.7523\n",
      "Epoch 24/30\n",
      "200/200 [==============================] - 12s 59ms/step - loss: 0.2753 - acc: 0.8997 - val_loss: 0.9551 - val_acc: 0.7533\n",
      "Epoch 25/30\n",
      "200/200 [==============================] - 12s 58ms/step - loss: 0.2557 - acc: 0.9075 - val_loss: 0.8008 - val_acc: 0.7823\n",
      "Epoch 26/30\n",
      "200/200 [==============================] - 8s 42ms/step - loss: 0.2547 - acc: 0.9095 - val_loss: 0.7913 - val_acc: 0.7943\n",
      "Epoch 27/30\n",
      "200/200 [==============================] - 9s 47ms/step - loss: 0.2415 - acc: 0.9161 - val_loss: 0.8493 - val_acc: 0.7743\n",
      "Epoch 28/30\n",
      "200/200 [==============================] - 12s 58ms/step - loss: 0.2206 - acc: 0.9223 - val_loss: 0.9509 - val_acc: 0.7538\n",
      "Epoch 29/30\n",
      "200/200 [==============================] - 9s 43ms/step - loss: 0.2402 - acc: 0.9198 - val_loss: 0.8855 - val_acc: 0.7733\n",
      "Epoch 30/30\n",
      "200/200 [==============================] - 9s 43ms/step - loss: 0.2219 - acc: 0.9224 - val_loss: 0.8658 - val_acc: 0.7783\n"
     ]
    },
    {
     "data": {
      "image/png": "[encoded data removed]",
      "text/plain": [
       "<Figure size 432x288 with 1 Axes>"
      ]
     },
     "metadata": {
      "needs_background": "light"
     },
     "output_type": "display_data"
    },
    {
     "data": {
      "image/png": "[encoded data removed]",
      "text/plain": [
       "<Figure size 432x288 with 1 Axes>"
      ]
     },
     "metadata": {
      "needs_background": "light"
     },
     "output_type": "display_data"
    },
    {
     "name": "stdout",
     "output_type": "stream",
     "text": [
      "\n",
      "---Now testing the model for one audio file---\n",
      "The model predicts: blues, and ground truth is: blues.\n",
      "\n"
     ]
    }
   ],
   "source": [
    "\n",
    "if __name__ == \"__main__\":\n",
    "\n",
    "    preprocess_data(source_path=SOURCE_PATH, json_path=JSON_PATH)\n",
    "    \n",
    "    inputs, targets = load_data(json_path=JSON_PATH)\n",
    "    \n",
    "    Xtrain, Xval, Xtest, ytrain, yval, ytest = prepare_datasets(inputs, targets, 0.2)\n",
    "\n",
    "    input_shape = (Xtrain.shape[1], Xtrain.shape[2], 1)\n",
    "    model = design_model(input_shape)\n",
    "\n",
    "    # Selection of the optimizer, loss type and metrics for performance evaluation.\n",
    "    model.compile(optimizer = tf.keras.optimizers.RMSprop(lr=0.001),\n",
    "                     loss='sparse_categorical_crossentropy',\n",
    "                     metrics = ['acc']\n",
    "                     )\n",
    "\n",
    "    model.summary()\n",
    "\n",
    "    #Training the model.\n",
    "    history = model.fit(Xtrain, ytrain,\n",
    "                        validation_data=(Xval, yval),\n",
    "                        epochs=30,\n",
    "                        batch_size=32\n",
    "                        )\n",
    "\n",
    "    plot_performance(history)\n",
    "\n",
    "    # Testing the model on never seen before data.\n",
    "    make_prediction(model, Xtest, ytest, 24)\n"
   ]
  }
 ],
 "metadata": {
  "kernelspec": {
   "display_name": "Python 3",
   "language": "python",
   "name": "python3"
  },
  "language_info": {
   "codemirror_mode": {
    "name": "ipython",
    "version": 3
   },
   "file_extension": ".py",
   "mimetype": "text/x-python",
   "name": "python",
   "nbconvert_exporter": "python",
   "pygments_lexer": "ipython3",
   "version": "3.8.5"
  }
 },
 "nbformat": 4,
 "nbformat_minor": 4
}
