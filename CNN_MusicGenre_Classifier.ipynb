{
 "cells": [
  {
   "cell_type": "markdown",
   "metadata": {},
   "source": [
    "## Music genre classifier with TensorFlow"
   ]
  },
  {
   "cell_type": "markdown",
   "metadata": {},
   "source": [
    "The objective of this project is to classify 30 sec wav files by genre using a TensorFlow CNN model. The GTZAN dataset can be found here:\n",
    "\n",
    "https://www.kaggle.com/andradaolteanu/gtzan-dataset-music-genre-classification\n",
    "\n",
    "To classify audio samples, we will preprocess them by calculating their MFCC, which is a temporal representation of the energy for each perceived frequency band. In this case, we are choosing 13 bands."
   ]
  },
  {
   "cell_type": "code",
   "execution_count": 1,
   "metadata": {},
   "outputs": [],
   "source": [
    "import os\n",
    "import json\n",
    "import numpy as np\n",
    "import librosa\n",
    "import matplotlib.pyplot as plt\n",
    "from sklearn.model_selection import train_test_split\n",
    "import tensorflow as tf"
   ]
  },
  {
   "cell_type": "code",
   "execution_count": 2,
   "metadata": {},
   "outputs": [],
   "source": [
    "# Dataset location\n",
    "SOURCE_PATH = 'Dataset/genres_original/'\n",
    "\n",
    "# Path to labels and processed data file, json format.\n",
    "JSON_PATH = 'data.json'\n",
    "\n",
    "# Sampling rate.\n",
    "sr = 22050\n",
    "\n",
    "# Let's make sure all files have the same amount of samples, pick a duration right under 30 seconds.\n",
    "TOTAL_SAMPLES = 29 * sr\n",
    "\n",
    "# The dataset contains 999 files. Lets make it bigger. \n",
    "# X amount of slices => X times more training examples.\n",
    "NUM_SLICES = 10\n",
    "SAMPLES_PER_SLICE = int(TOTAL_SAMPLES / NUM_SLICES)"
   ]
  },
  {
   "cell_type": "code",
   "execution_count": 3,
   "metadata": {},
   "outputs": [],
   "source": [
    "def preprocess_data(source_path, json_path):\n",
    "\n",
    "    # Let's create a dictionary of labels and processed data.\n",
    "    mydict = {\n",
    "        \"labels\": [],\n",
    "        \"mfcc\": []\n",
    "        }\n",
    "\n",
    "    # Let's browse each file, slice it and generate the 13 band mfcc for each slice.\n",
    "    for i, (dirpath, dirnames, filenames) in enumerate(os.walk(source_path)):\n",
    "\n",
    "        for file in filenames:\n",
    "            song, sr = librosa.load(os.path.join(dirpath, file), duration=29)\n",
    "\n",
    "            for s in range(NUM_SLICES):\n",
    "                start_sample = SAMPLES_PER_SLICE * s\n",
    "                end_sample = start_sample + SAMPLES_PER_SLICE\n",
    "                mfcc = librosa.feature.mfcc(y=song[start_sample:end_sample], sr=sr, n_mfcc=13)\n",
    "                mfcc = mfcc.T\n",
    "                mydict[\"labels\"].append(i-1)\n",
    "                mydict[\"mfcc\"].append(mfcc.tolist())\n",
    "\n",
    "    # Let's write the dictionary in a json file.    \n",
    "    with open(json_path, 'w') as f:\n",
    "        json.dump(mydict, f)\n",
    "    f.close()"
   ]
  },
  {
   "cell_type": "code",
   "execution_count": 4,
   "metadata": {},
   "outputs": [],
   "source": [
    "def load_data(json_path):\n",
    "\n",
    "    with open(json_path, 'r') as f:\n",
    "        data = json.load(f)\n",
    "    f.close()\n",
    "\n",
    "    # Let's load our data into numpy arrays for TensorFlow compatibility.\n",
    "    X = np.array(data[\"mfcc\"])\n",
    "    y = np.array(data[\"labels\"])\n",
    "    print(X.shape)\n",
    "\n",
    "    return X, y"
   ]
  },
  {
   "cell_type": "code",
   "execution_count": 5,
   "metadata": {},
   "outputs": [],
   "source": [
    "def prepare_datasets(inputs, targets, split_size):\n",
    "    \n",
    "    # Creating a validation set and a test set.\n",
    "    inputs_train, inputs_val, targets_train, targets_val = train_test_split(inputs, targets, test_size=split_size)\n",
    "    inputs_train, inputs_test, targets_train, targets_test = train_test_split(inputs_train, targets_train, test_size=split_size)\n",
    "    \n",
    "    # Our CNN model expects 3D input shape.\n",
    "    inputs_train = inputs_train[..., np.newaxis]\n",
    "    inputs_val = inputs_val[..., np.newaxis]\n",
    "    inputs_test = inputs_test[..., np.newaxis]\n",
    "    \n",
    "    return inputs_train, inputs_val, inputs_test, targets_train, targets_val, targets_test"
   ]
  },
  {
   "cell_type": "code",
   "execution_count": 6,
   "metadata": {},
   "outputs": [],
   "source": [
    "def design_model(input_shape):\n",
    "\n",
    "    # Let's design the model architecture.\n",
    "    model = tf.keras.models.Sequential([\n",
    "        \n",
    "        tf.keras.layers.Conv2D(32, (3,3), activation='relu', input_shape=input_shape),\n",
    "        tf.keras.layers.MaxPooling2D((3,3), strides=(2,2), padding='same'),\n",
    "        tf.keras.layers.BatchNormalization(),\n",
    "        \n",
    "        tf.keras.layers.Conv2D(32, (3,3), activation='relu'),\n",
    "        tf.keras.layers.MaxPooling2D((3,3), strides=(2,2), padding='same'),\n",
    "        tf.keras.layers.BatchNormalization(),\n",
    "        \n",
    "        tf.keras.layers.Conv2D(32, (2,2), activation='relu'),\n",
    "        tf.keras.layers.MaxPooling2D((3,3), strides=(2,2), padding='same'),\n",
    "        tf.keras.layers.BatchNormalization(),\n",
    "        tf.keras.layers.Dropout(0.3),\n",
    "        \n",
    "        tf.keras.layers.Flatten(),\n",
    "        tf.keras.layers.Dense(64, activation='relu'), \n",
    "        tf.keras.layers.Dense(len(np.unique(targets)), activation='softmax')\n",
    "    ])\n",
    "\n",
    "    return model"
   ]
  },
  {
   "cell_type": "code",
   "execution_count": 7,
   "metadata": {},
   "outputs": [],
   "source": [
    "def make_prediction(model, X, y, idx):\n",
    "    \n",
    "    genre_dict = {\n",
    "        0 : \"blues\",\n",
    "        1 : \"classical\",\n",
    "        2 : \"country\",\n",
    "        3 : \"disco\",\n",
    "        4 : \"hiphop\",\n",
    "        5 : \"jazz\",\n",
    "        6 : \"metal\",\n",
    "        7 : \"pop\",\n",
    "        8 : \"reggae\",\n",
    "        9 : \"rock\",\n",
    "        }\n",
    "        \n",
    "    predictions = model.predict(X)\n",
    "    genre = np.argmax(predictions[idx])\n",
    "    \n",
    "    print(\"\\n---Now testing the model for one audio file---\\nThe model predicts: {}, and ground truth is: {}.\\n\".format(genre_dict[genre], genre_dict[y[idx]]))"
   ]
  },
  {
   "cell_type": "code",
   "execution_count": 8,
   "metadata": {},
   "outputs": [],
   "source": [
    "def plot_performance(hist):\n",
    "    \n",
    "    acc = hist.history['acc']\n",
    "    val_acc = hist.history['val_acc']\n",
    "    loss = hist.history['loss']\n",
    "    val_loss = hist.history['val_loss']\n",
    "\n",
    "    epochs = range(len(acc))\n",
    "\n",
    "    plt.plot(epochs, acc, 'r', label='Training accuracy')\n",
    "    plt.plot(epochs, val_acc, 'b', label='Validation accuracy')\n",
    "    plt.title('Training and validation accuracy')\n",
    "    plt.legend()\n",
    "    plt.figure()\n",
    "\n",
    "    plt.plot(epochs, loss, 'r', label='Training Loss')\n",
    "    plt.plot(epochs, val_loss, 'b', label='Validation Loss')\n",
    "    plt.title('Training and validation loss')\n",
    "    plt.legend()\n",
    "\n",
    "    plt.show()"
   ]
  },
  {
   "cell_type": "code",
   "execution_count": 9,
   "metadata": {},
   "outputs": [
    {
     "name": "stdout",
     "output_type": "stream",
     "text": [
      "(9990, 125, 13)\n",
      "Model: \"sequential\"\n",
      "_________________________________________________________________\n",
      "Layer (type)                 Output Shape              Param #   \n",
      "=================================================================\n",
      "conv2d (Conv2D)              (None, 123, 11, 32)       320       \n",
      "_________________________________________________________________\n",
      "max_pooling2d (MaxPooling2D) (None, 62, 6, 32)         0         \n",
      "_________________________________________________________________\n",
      "batch_normalization (BatchNo (None, 62, 6, 32)         128       \n",
      "_________________________________________________________________\n",
      "conv2d_1 (Conv2D)            (None, 60, 4, 32)         9248      \n",
      "_________________________________________________________________\n",
      "max_pooling2d_1 (MaxPooling2 (None, 30, 2, 32)         0         \n",
      "_________________________________________________________________\n",
      "batch_normalization_1 (Batch (None, 30, 2, 32)         128       \n",
      "_________________________________________________________________\n",
      "conv2d_2 (Conv2D)            (None, 29, 1, 32)         4128      \n",
      "_________________________________________________________________\n",
      "max_pooling2d_2 (MaxPooling2 (None, 15, 1, 32)         0         \n",
      "_________________________________________________________________\n",
      "batch_normalization_2 (Batch (None, 15, 1, 32)         128       \n",
      "_________________________________________________________________\n",
      "dropout (Dropout)            (None, 15, 1, 32)         0         \n",
      "_________________________________________________________________\n",
      "flatten (Flatten)            (None, 480)               0         \n",
      "_________________________________________________________________\n",
      "dense (Dense)                (None, 64)                30784     \n",
      "_________________________________________________________________\n",
      "dense_1 (Dense)              (None, 10)                650       \n",
      "=================================================================\n",
      "Total params: 45,514\n",
      "Trainable params: 45,322\n",
      "Non-trainable params: 192\n",
      "_________________________________________________________________\n",
      "Epoch 1/30\n",
      "200/200 [==============================] - 12s 52ms/step - loss: 1.9316 - acc: 0.3544 - val_loss: 1.4975 - val_acc: 0.4364\n",
      "Epoch 2/30\n",
      "200/200 [==============================] - 10s 49ms/step - loss: 1.2744 - acc: 0.5297 - val_loss: 1.1400 - val_acc: 0.5926\n",
      "Epoch 3/30\n",
      "200/200 [==============================] - 11s 56ms/step - loss: 1.0427 - acc: 0.6210 - val_loss: 0.9977 - val_acc: 0.6557\n",
      "Epoch 4/30\n",
      "200/200 [==============================] - 11s 53ms/step - loss: 0.8793 - acc: 0.6885 - val_loss: 0.9951 - val_acc: 0.6562\n",
      "Epoch 5/30\n",
      "200/200 [==============================] - 10s 51ms/step - loss: 0.7776 - acc: 0.7274 - val_loss: 1.0323 - val_acc: 0.6652\n",
      "Epoch 6/30\n",
      "200/200 [==============================] - 11s 54ms/step - loss: 0.7299 - acc: 0.7513 - val_loss: 0.9243 - val_acc: 0.6812\n",
      "Epoch 7/30\n",
      "200/200 [==============================] - 9s 43ms/step - loss: 0.6758 - acc: 0.7550 - val_loss: 0.9323 - val_acc: 0.6867\n",
      "Epoch 8/30\n",
      "200/200 [==============================] - 10s 51ms/step - loss: 0.6234 - acc: 0.7797 - val_loss: 1.0385 - val_acc: 0.6532\n",
      "Epoch 9/30\n",
      "200/200 [==============================] - 10s 50ms/step - loss: 0.5865 - acc: 0.7933 - val_loss: 0.9993 - val_acc: 0.6877\n",
      "Epoch 10/30\n",
      "200/200 [==============================] - 12s 58ms/step - loss: 0.5216 - acc: 0.8137 - val_loss: 0.7947 - val_acc: 0.7427\n",
      "Epoch 11/30\n",
      "200/200 [==============================] - 10s 50ms/step - loss: 0.5011 - acc: 0.8170 - val_loss: 0.8419 - val_acc: 0.7232\n",
      "Epoch 12/30\n",
      "200/200 [==============================] - 11s 56ms/step - loss: 0.4471 - acc: 0.8464 - val_loss: 0.9845 - val_acc: 0.7002\n",
      "Epoch 13/30\n",
      "200/200 [==============================] - 12s 60ms/step - loss: 0.4422 - acc: 0.8380 - val_loss: 0.9056 - val_acc: 0.7207\n",
      "Epoch 14/30\n",
      "200/200 [==============================] - 12s 62ms/step - loss: 0.4332 - acc: 0.8530 - val_loss: 0.7262 - val_acc: 0.7683\n",
      "Epoch 15/30\n",
      "200/200 [==============================] - 12s 58ms/step - loss: 0.3886 - acc: 0.8601 - val_loss: 0.7960 - val_acc: 0.7588\n",
      "Epoch 16/30\n",
      "200/200 [==============================] - 12s 58ms/step - loss: 0.3789 - acc: 0.8640 - val_loss: 0.7889 - val_acc: 0.7648\n",
      "Epoch 17/30\n",
      "200/200 [==============================] - 12s 61ms/step - loss: 0.3383 - acc: 0.8738 - val_loss: 0.7382 - val_acc: 0.7758\n",
      "Epoch 18/30\n",
      "200/200 [==============================] - 13s 66ms/step - loss: 0.3334 - acc: 0.8795 - val_loss: 0.8140 - val_acc: 0.7492\n",
      "Epoch 19/30\n",
      "200/200 [==============================] - 11s 54ms/step - loss: 0.3250 - acc: 0.8872 - val_loss: 0.9328 - val_acc: 0.7337\n",
      "Epoch 20/30\n",
      "200/200 [==============================] - 11s 54ms/step - loss: 0.3148 - acc: 0.8841 - val_loss: 0.8386 - val_acc: 0.7528\n",
      "Epoch 21/30\n",
      "200/200 [==============================] - 10s 50ms/step - loss: 0.3020 - acc: 0.8922 - val_loss: 0.8397 - val_acc: 0.7688\n",
      "Epoch 22/30\n",
      "200/200 [==============================] - 10s 49ms/step - loss: 0.2898 - acc: 0.8961 - val_loss: 1.0448 - val_acc: 0.7287\n",
      "Epoch 23/30\n",
      "200/200 [==============================] - 11s 53ms/step - loss: 0.2784 - acc: 0.9028 - val_loss: 0.6878 - val_acc: 0.7893\n",
      "Epoch 24/30\n",
      "200/200 [==============================] - 11s 53ms/step - loss: 0.2859 - acc: 0.9034 - val_loss: 0.8531 - val_acc: 0.7487\n",
      "Epoch 25/30\n",
      "200/200 [==============================] - 10s 51ms/step - loss: 0.2651 - acc: 0.9066 - val_loss: 0.7811 - val_acc: 0.7788\n",
      "Epoch 26/30\n",
      "200/200 [==============================] - 10s 50ms/step - loss: 0.2433 - acc: 0.9081 - val_loss: 0.9463 - val_acc: 0.7583\n",
      "Epoch 27/30\n",
      "200/200 [==============================] - 10s 51ms/step - loss: 0.2542 - acc: 0.9082 - val_loss: 1.0550 - val_acc: 0.7297\n",
      "Epoch 28/30\n",
      "200/200 [==============================] - 9s 46ms/step - loss: 0.2472 - acc: 0.9101 - val_loss: 0.7508 - val_acc: 0.7888\n",
      "Epoch 29/30\n",
      "200/200 [==============================] - 10s 51ms/step - loss: 0.2464 - acc: 0.9135 - val_loss: 0.8013 - val_acc: 0.7823\n",
      "Epoch 30/30\n",
      "200/200 [==============================] - 9s 46ms/step - loss: 0.2210 - acc: 0.9188 - val_loss: 0.9531 - val_acc: 0.7563\n"
     ]
    },
    {
     "data": {
      "image/png": "[encoded data removed]",
      "text/plain": [
       "<Figure size 432x288 with 1 Axes>"
      ]
     },
     "metadata": {
      "needs_background": "light"
     },
     "output_type": "display_data"
    },
    {
     "data": {
      "image/png": "[encoded data removed]",
      "text/plain": [
       "<Figure size 432x288 with 1 Axes>"
      ]
     },
     "metadata": {
      "needs_background": "light"
     },
     "output_type": "display_data"
    },
    {
     "name": "stdout",
     "output_type": "stream",
     "text": [
      "\n",
      "---Now testing the model for one audio file---\n",
      "The model predicts: hiphop, and ground truth is: hiphop.\n",
      "\n"
     ]
    }
   ],
   "source": [
    "\n",
    "if __name__ == \"__main__\":\n",
    "\n",
    "    preprocess_data(source_path=SOURCE_PATH, json_path=JSON_PATH)\n",
    "    \n",
    "    inputs, targets = load_data(json_path=JSON_PATH)\n",
    "        \n",
    "    Xtrain, Xval, Xtest, ytrain, yval, ytest = prepare_datasets(inputs, targets, 0.2)\n",
    "\n",
    "    input_shape = (Xtrain.shape[1], Xtrain.shape[2], 1)\n",
    "    model = design_model(input_shape)\n",
    "\n",
    "    # Selection of the optimizer, loss type and metrics for performance evaluation.\n",
    "    model.compile(optimizer = tf.keras.optimizers.RMSprop(lr=0.001),\n",
    "                     loss='sparse_categorical_crossentropy',\n",
    "                     metrics = ['acc']\n",
    "                     )\n",
    "\n",
    "    model.summary()\n",
    "\n",
    "    # Training the model.\n",
    "    history = model.fit(Xtrain, ytrain,\n",
    "                        validation_data=(Xval, yval),\n",
    "                        epochs=30,\n",
    "                        batch_size=32\n",
    "                        )\n",
    "\n",
    "    plot_performance(history)\n",
    "\n",
    "    # Testing the model on never seen before data.\n",
    "    make_prediction(model, Xtest, ytest, 24)"
   ]
  }
 ],
 "metadata": {
  "kernelspec": {
   "display_name": "Python 3",
   "language": "python",
   "name": "python3"
  },
  "language_info": {
   "codemirror_mode": {
    "name": "ipython",
    "version": 3
   },
   "file_extension": ".py",
   "mimetype": "text/x-python",
   "name": "python",
   "nbconvert_exporter": "python",
   "pygments_lexer": "ipython3",
   "version": "3.8.5"
  }
 },
 "nbformat": 4,
 "nbformat_minor": 4
}
