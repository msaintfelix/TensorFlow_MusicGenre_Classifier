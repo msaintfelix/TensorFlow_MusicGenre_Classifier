{
 "cells": [
  {
   "cell_type": "markdown",
   "metadata": {},
   "source": [
    "## Music genre classifier with TensorFlow"
   ]
  },
  {
   "cell_type": "markdown",
   "metadata": {},
   "source": [
    "The objective of this project is to classify 3O sec wav files by genre using a TensorFLow MLP model. The GTZAN dataset can be found here:\n",
    "\n",
    "https://www.kaggle.com/andradaolteanu/gtzan-dataset-music-genre-classification\n",
    "\n",
    "To classify audio samples, we will preprocess them by calculating their MFCC, which is a temporal representation of the energy for each perceived frequency band. In this case, we are choosing 13 bands."
   ]
  },
  {
   "cell_type": "code",
   "execution_count": 1,
   "metadata": {},
   "outputs": [],
   "source": [
    "import os\n",
    "import json\n",
    "import numpy as np\n",
    "import librosa\n",
    "import matplotlib.pyplot as plt\n",
    "from sklearn.model_selection import train_test_split\n",
    "import tensorflow as tf"
   ]
  },
  {
   "cell_type": "code",
   "execution_count": 2,
   "metadata": {},
   "outputs": [],
   "source": [
    "# Dataset location\n",
    "SOURCE_PATH = '/Users/msf/Datasets/GTZAN_Dataset/genres_original'\n",
    "\n",
    "# Path to labels and processed data file, json format.\n",
    "JSON = '/Users/msf/GitHub/TF_MusicGenre/data.json'\n",
    "\n",
    "# Sampling rate.\n",
    "sr = 22050\n",
    "\n",
    "# Let's make sure all files have the same amount of samples, pick a duration under 30 seconds.\n",
    "TOTAL_SAMPLES = 29 * sr\n",
    "\n",
    "# The dataset contains 999 files. Lets make it bigger! \n",
    "# X amount of slices => X times more training examples.\n",
    "NUM_SLICES = 10\n",
    "\n",
    "SAMPLES_PER_SLICE = int(TOTAL_SAMPLES / NUM_SLICES)"
   ]
  },
  {
   "cell_type": "code",
   "execution_count": 3,
   "metadata": {},
   "outputs": [],
   "source": [
    "# Let's create a dictionary of labels and processed data.\n",
    "mydict = {\n",
    "    \"labels\": [],\n",
    "    \"mfcc\": []\n",
    "    }\n",
    "\n",
    "# Let's browse each file, slice it and generate the mfcc for each slice.\n",
    "for i, (dirpath, dirnames, filenames) in enumerate(os.walk(SOURCE_PATH)):\n",
    "    \n",
    "    for file in filenames:\n",
    "        song, sr = librosa.load(os.path.join(dirpath, file), duration=29)\n",
    "        \n",
    "        for s in range(NUM_SLICES):\n",
    "            start_sample = SAMPLES_PER_SLICE * s\n",
    "            end_sample = start_sample + SAMPLES_PER_SLICE\n",
    "            mfcc = librosa.feature.mfcc(y=song[start_sample:end_sample], sr=sr, n_mfcc=13)\n",
    "            mfcc = mfcc.T\n",
    "            mydict[\"labels\"].append(i-1)\n",
    "            mydict[\"mfcc\"].append(mfcc.tolist())\n",
    "\n",
    "# Let's write the dictionary in a json file.\n",
    "with open(JSON, 'w') as fp:\n",
    "    json.dump(mydict, fp)"
   ]
  },
  {
   "cell_type": "code",
   "execution_count": 4,
   "metadata": {},
   "outputs": [],
   "source": [
    "with open(JSON) as f:\n",
    "    data = json.load(f)\n",
    "fp.close()\n",
    "\n",
    "# Let's load our data into numpy arrays for TensorFlow compatibility.\n",
    "inputs = np.array(data[\"mfcc\"])\n",
    "targets = np.array(data[\"labels\"])"
   ]
  },
  {
   "cell_type": "code",
   "execution_count": 5,
   "metadata": {},
   "outputs": [
    {
     "data": {
      "text/plain": [
       "(9990, 125, 13)"
      ]
     },
     "execution_count": 5,
     "metadata": {},
     "output_type": "execute_result"
    }
   ],
   "source": [
    "# 9990 mfcc, 13 coefficients, 125 time frames per mfcc.\n",
    "inputs.shape"
   ]
  },
  {
   "cell_type": "code",
   "execution_count": 6,
   "metadata": {},
   "outputs": [],
   "source": [
    "inputs_train, inputs_test, targets_train, targets_test = train_test_split(inputs, targets, test_size=0.3)"
   ]
  },
  {
   "cell_type": "code",
   "execution_count": 7,
   "metadata": {},
   "outputs": [],
   "source": [
    "# Let's design the model architecture.\n",
    "model = tf.keras.models.Sequential([\n",
    "    tf.keras.layers.Flatten(input_shape=(inputs.shape[1], inputs.shape[2])),\n",
    "    tf.keras.layers.Dense(512, activation='relu'),\n",
    "    tf.keras.layers.Dense(512, activation='relu'),\n",
    "    tf.keras.layers.Dense(256, activation='relu'),\n",
    "    tf.keras.layers.Dense(128, activation='relu'), \n",
    "    tf.keras.layers.Dense(64, activation='relu'), \n",
    "    tf.keras.layers.Dense(len(np.unique(targets)), activation='softmax')\n",
    "])"
   ]
  },
  {
   "cell_type": "code",
   "execution_count": 8,
   "metadata": {},
   "outputs": [],
   "source": [
    "# Selection of the optimizer, loss type and metrics for performance evaluation.\n",
    "model.compile(optimizer = tf.keras.optimizers.RMSprop(lr=0.001),\n",
    "             loss='sparse_categorical_crossentropy',\n",
    "              metrics = ['acc']\n",
    "             )"
   ]
  },
  {
   "cell_type": "code",
   "execution_count": 9,
   "metadata": {},
   "outputs": [
    {
     "name": "stdout",
     "output_type": "stream",
     "text": [
      "Model: \"sequential\"\n",
      "_________________________________________________________________\n",
      "Layer (type)                 Output Shape              Param #   \n",
      "=================================================================\n",
      "flatten (Flatten)            (None, 1625)              0         \n",
      "_________________________________________________________________\n",
      "dense (Dense)                (None, 512)               832512    \n",
      "_________________________________________________________________\n",
      "dense_1 (Dense)              (None, 512)               262656    \n",
      "_________________________________________________________________\n",
      "dense_2 (Dense)              (None, 256)               131328    \n",
      "_________________________________________________________________\n",
      "dense_3 (Dense)              (None, 128)               32896     \n",
      "_________________________________________________________________\n",
      "dense_4 (Dense)              (None, 64)                8256      \n",
      "_________________________________________________________________\n",
      "dense_5 (Dense)              (None, 10)                650       \n",
      "=================================================================\n",
      "Total params: 1,268,298\n",
      "Trainable params: 1,268,298\n",
      "Non-trainable params: 0\n",
      "_________________________________________________________________\n"
     ]
    }
   ],
   "source": [
    "model.summary()"
   ]
  },
  {
   "cell_type": "code",
   "execution_count": 10,
   "metadata": {},
   "outputs": [
    {
     "name": "stdout",
     "output_type": "stream",
     "text": [
      "Epoch 1/50\n",
      "219/219 [==============================] - 5s 18ms/step - loss: 16.2269 - acc: 0.2343 - val_loss: 1.9457 - val_acc: 0.3360\n",
      "Epoch 2/50\n",
      "219/219 [==============================] - 3s 13ms/step - loss: 1.8863 - acc: 0.3598 - val_loss: 1.8402 - val_acc: 0.3687\n",
      "Epoch 3/50\n",
      "219/219 [==============================] - 3s 13ms/step - loss: 1.6080 - acc: 0.4270 - val_loss: 1.6047 - val_acc: 0.4401\n",
      "Epoch 4/50\n",
      "219/219 [==============================] - 3s 13ms/step - loss: 1.4477 - acc: 0.4842 - val_loss: 1.5104 - val_acc: 0.4848\n",
      "Epoch 5/50\n",
      "219/219 [==============================] - 3s 13ms/step - loss: 1.3677 - acc: 0.5211 - val_loss: 1.7689 - val_acc: 0.3984\n",
      "Epoch 6/50\n",
      "219/219 [==============================] - 3s 13ms/step - loss: 1.3219 - acc: 0.5267 - val_loss: 2.0521 - val_acc: 0.4388\n",
      "Epoch 7/50\n",
      "219/219 [==============================] - 3s 13ms/step - loss: 1.3004 - acc: 0.5634 - val_loss: 1.6318 - val_acc: 0.5449\n",
      "Epoch 8/50\n",
      "219/219 [==============================] - 3s 13ms/step - loss: 1.2207 - acc: 0.5884 - val_loss: 1.5886 - val_acc: 0.5289\n",
      "Epoch 9/50\n",
      "219/219 [==============================] - 3s 13ms/step - loss: 1.1587 - acc: 0.6016 - val_loss: 2.0766 - val_acc: 0.5205\n",
      "Epoch 10/50\n",
      "219/219 [==============================] - 3s 12ms/step - loss: 1.0867 - acc: 0.6255 - val_loss: 1.9290 - val_acc: 0.5616\n",
      "Epoch 11/50\n",
      "219/219 [==============================] - 3s 12ms/step - loss: 1.0679 - acc: 0.6349 - val_loss: 2.3087 - val_acc: 0.5629\n",
      "Epoch 12/50\n",
      "219/219 [==============================] - 3s 13ms/step - loss: 1.0665 - acc: 0.6479 - val_loss: 2.2314 - val_acc: 0.5365\n",
      "Epoch 13/50\n",
      "219/219 [==============================] - 3s 13ms/step - loss: 0.9763 - acc: 0.6691 - val_loss: 2.5170 - val_acc: 0.5816\n",
      "Epoch 14/50\n",
      "219/219 [==============================] - 3s 13ms/step - loss: 0.9718 - acc: 0.6770 - val_loss: 2.8439 - val_acc: 0.5415\n",
      "Epoch 15/50\n",
      "219/219 [==============================] - 3s 13ms/step - loss: 0.9478 - acc: 0.6822 - val_loss: 3.4078 - val_acc: 0.5576\n",
      "Epoch 16/50\n",
      "219/219 [==============================] - 3s 13ms/step - loss: 0.9229 - acc: 0.7047 - val_loss: 2.4568 - val_acc: 0.5229\n",
      "Epoch 17/50\n",
      "219/219 [==============================] - 3s 13ms/step - loss: 0.8765 - acc: 0.7092 - val_loss: 2.6585 - val_acc: 0.6136\n",
      "Epoch 18/50\n",
      "219/219 [==============================] - 3s 13ms/step - loss: 0.8481 - acc: 0.7245 - val_loss: 2.3872 - val_acc: 0.6049\n",
      "Epoch 19/50\n",
      "219/219 [==============================] - 3s 13ms/step - loss: 0.8510 - acc: 0.7130 - val_loss: 3.0822 - val_acc: 0.5689\n",
      "Epoch 20/50\n",
      "219/219 [==============================] - 3s 13ms/step - loss: 0.8530 - acc: 0.7238 - val_loss: 3.8719 - val_acc: 0.5666\n",
      "Epoch 21/50\n",
      "219/219 [==============================] - 3s 13ms/step - loss: 0.8602 - acc: 0.7309 - val_loss: 2.6899 - val_acc: 0.5599\n",
      "Epoch 22/50\n",
      "219/219 [==============================] - 3s 12ms/step - loss: 0.8750 - acc: 0.7296 - val_loss: 3.9302 - val_acc: 0.5843\n",
      "Epoch 23/50\n",
      "219/219 [==============================] - 4s 16ms/step - loss: 0.8527 - acc: 0.7257 - val_loss: 2.7596 - val_acc: 0.6183\n",
      "Epoch 24/50\n",
      "219/219 [==============================] - 3s 13ms/step - loss: 0.8257 - acc: 0.7510 - val_loss: 3.2541 - val_acc: 0.5355\n",
      "Epoch 25/50\n",
      "219/219 [==============================] - 3s 12ms/step - loss: 0.8176 - acc: 0.7320 - val_loss: 3.7754 - val_acc: 0.5709\n",
      "Epoch 26/50\n",
      "219/219 [==============================] - 3s 13ms/step - loss: 0.8080 - acc: 0.7507 - val_loss: 3.4354 - val_acc: 0.6023\n",
      "Epoch 27/50\n",
      "219/219 [==============================] - 3s 13ms/step - loss: 0.7326 - acc: 0.7631 - val_loss: 4.5225 - val_acc: 0.5622\n",
      "Epoch 28/50\n",
      "219/219 [==============================] - 3s 14ms/step - loss: 0.8366 - acc: 0.7493 - val_loss: 6.4082 - val_acc: 0.5305\n",
      "Epoch 29/50\n",
      "219/219 [==============================] - 3s 13ms/step - loss: 0.8384 - acc: 0.7369 - val_loss: 4.7352 - val_acc: 0.5839\n",
      "Epoch 30/50\n",
      "219/219 [==============================] - 3s 13ms/step - loss: 0.8927 - acc: 0.7356 - val_loss: 6.7227 - val_acc: 0.4892\n",
      "Epoch 31/50\n",
      "219/219 [==============================] - 3s 13ms/step - loss: 0.8312 - acc: 0.7374 - val_loss: 7.0040 - val_acc: 0.6129\n",
      "Epoch 32/50\n",
      "219/219 [==============================] - 3s 13ms/step - loss: 0.8233 - acc: 0.7538 - val_loss: 8.0271 - val_acc: 0.6240\n",
      "Epoch 33/50\n",
      "219/219 [==============================] - 3s 13ms/step - loss: 0.9030 - acc: 0.7643 - val_loss: 6.3158 - val_acc: 0.5913\n",
      "Epoch 34/50\n",
      "219/219 [==============================] - 3s 13ms/step - loss: 0.8318 - acc: 0.7599 - val_loss: 5.4795 - val_acc: 0.5799\n",
      "Epoch 35/50\n",
      "219/219 [==============================] - 3s 13ms/step - loss: 0.8397 - acc: 0.7478 - val_loss: 5.9056 - val_acc: 0.5729\n",
      "Epoch 36/50\n",
      "219/219 [==============================] - 3s 13ms/step - loss: 0.7760 - acc: 0.7639 - val_loss: 8.4099 - val_acc: 0.5779\n",
      "Epoch 37/50\n",
      "219/219 [==============================] - 3s 13ms/step - loss: 0.7979 - acc: 0.7751 - val_loss: 6.7721 - val_acc: 0.5485\n",
      "Epoch 38/50\n",
      "219/219 [==============================] - 3s 13ms/step - loss: 0.7951 - acc: 0.7679 - val_loss: 4.5069 - val_acc: 0.5802\n",
      "Epoch 39/50\n",
      "219/219 [==============================] - 3s 12ms/step - loss: 0.8191 - acc: 0.7736 - val_loss: 7.5963 - val_acc: 0.5556\n",
      "Epoch 40/50\n",
      "219/219 [==============================] - 3s 13ms/step - loss: 0.9090 - acc: 0.7477 - val_loss: 5.8991 - val_acc: 0.6203\n",
      "Epoch 41/50\n",
      "219/219 [==============================] - 3s 12ms/step - loss: 0.8559 - acc: 0.7747 - val_loss: 7.9430 - val_acc: 0.6276\n",
      "Epoch 42/50\n",
      "219/219 [==============================] - 3s 13ms/step - loss: 0.7997 - acc: 0.7890 - val_loss: 25.8189 - val_acc: 0.5582\n",
      "Epoch 43/50\n",
      "219/219 [==============================] - 3s 13ms/step - loss: 0.8540 - acc: 0.7924 - val_loss: 7.9452 - val_acc: 0.6013\n",
      "Epoch 44/50\n",
      "219/219 [==============================] - 3s 13ms/step - loss: 0.8565 - acc: 0.7662 - val_loss: 6.4758 - val_acc: 0.5873\n",
      "Epoch 45/50\n",
      "219/219 [==============================] - 3s 13ms/step - loss: 0.8286 - acc: 0.7748 - val_loss: 6.2148 - val_acc: 0.5596\n",
      "Epoch 46/50\n",
      "219/219 [==============================] - 3s 13ms/step - loss: 0.8945 - acc: 0.7624 - val_loss: 6.2818 - val_acc: 0.4868\n",
      "Epoch 47/50\n",
      "219/219 [==============================] - 3s 13ms/step - loss: 0.8186 - acc: 0.7561 - val_loss: 7.7762 - val_acc: 0.6230\n",
      "Epoch 48/50\n",
      "219/219 [==============================] - 3s 13ms/step - loss: 0.7873 - acc: 0.7810 - val_loss: 12.5454 - val_acc: 0.5996\n",
      "Epoch 49/50\n",
      "219/219 [==============================] - 3s 14ms/step - loss: 0.8326 - acc: 0.7701 - val_loss: 10.4637 - val_acc: 0.5726\n",
      "Epoch 50/50\n",
      "219/219 [==============================] - 3s 14ms/step - loss: 0.8833 - acc: 0.7673 - val_loss: 9.8544 - val_acc: 0.5986\n"
     ]
    }
   ],
   "source": [
    "#Training the model.\n",
    "history = model.fit(inputs_train, targets_train, \n",
    "                    validation_data=(inputs_test, targets_test), \n",
    "                    epochs=50,\n",
    "                    batch_size=32\n",
    "                   )"
   ]
  },
  {
   "cell_type": "code",
   "execution_count": 11,
   "metadata": {},
   "outputs": [
    {
     "data": {
      "image/png": "[encoded data removed]",
      "text/plain": [
       "<Figure size 432x288 with 1 Axes>"
      ]
     },
     "metadata": {
      "needs_background": "light"
     },
     "output_type": "display_data"
    },
    {
     "data": {
      "image/png": "[encoded data removed]",
      "text/plain": [
       "<Figure size 432x288 with 1 Axes>"
      ]
     },
     "metadata": {
      "needs_background": "light"
     },
     "output_type": "display_data"
    }
   ],
   "source": [
    "acc = history.history['acc']\n",
    "val_acc = history.history['val_acc']\n",
    "loss = history.history['loss']\n",
    "val_loss = history.history['val_loss']\n",
    "\n",
    "epochs = range(len(acc))\n",
    "\n",
    "plt.plot(epochs, acc, 'r', label='Training accuracy')\n",
    "plt.plot(epochs, val_acc, 'b', label='Validation accuracy')\n",
    "plt.title('Training and validation accuracy')\n",
    "plt.legend()\n",
    "plt.figure()\n",
    "\n",
    "plt.plot(epochs, loss, 'r', label='Training Loss')\n",
    "plt.plot(epochs, val_loss, 'b', label='Validation Loss')\n",
    "plt.title('Training and validation loss')\n",
    "plt.legend()\n",
    "\n",
    "plt.show()"
   ]
  }
 ],
 "metadata": {
  "kernelspec": {
   "display_name": "Python 3",
   "language": "python",
   "name": "python3"
  },
  "language_info": {
   "codemirror_mode": {
    "name": "ipython",
    "version": 3
   },
   "file_extension": ".py",
   "mimetype": "text/x-python",
   "name": "python",
   "nbconvert_exporter": "python",
   "pygments_lexer": "ipython3",
   "version": "3.8.5"
  }
 },
 "nbformat": 4,
 "nbformat_minor": 4
}
