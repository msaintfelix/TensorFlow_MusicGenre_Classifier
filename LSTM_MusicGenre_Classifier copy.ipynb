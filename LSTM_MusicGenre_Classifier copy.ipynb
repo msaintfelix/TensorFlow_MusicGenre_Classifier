{
 "cells": [
  {
   "cell_type": "markdown",
   "metadata": {},
   "source": [
    "## Music genre classifier with TensorFlow"
   ]
  },
  {
   "cell_type": "markdown",
   "metadata": {},
   "source": [
    "The objective of this project is to classify 30 sec wav files by genre using a TensorFLow LSTM model. The GTZAN dataset can be found here:\n",
    "\n",
    "https://www.kaggle.com/andradaolteanu/gtzan-dataset-music-genre-classification\n",
    "\n",
    "To classify audio samples, we will preprocess them by calculating their MFCC, which is a temporal representation of the energy for each perceived frequency band. In this case, we are choosing 13 bands."
   ]
  },
  {
   "cell_type": "code",
   "execution_count": 1,
   "metadata": {},
   "outputs": [],
   "source": [
    "import os\n",
    "import json\n",
    "import numpy as np\n",
    "import librosa\n",
    "import matplotlib.pyplot as plt\n",
    "from sklearn.model_selection import train_test_split\n",
    "import tensorflow as tf"
   ]
  },
  {
   "cell_type": "code",
   "execution_count": 2,
   "metadata": {},
   "outputs": [],
   "source": [
    "# Dataset location\n",
    "SOURCE_PATH = '/Users/msf/Datasets/GTZAN_Dataset/genres_original/'\n",
    "\n",
    "# Path to labels and processed data file, json format.\n",
    "JSON_PATH = '/Users/msf/GitHub/TensorFlow_MusicGenre_Classifier/data.json'\n",
    "\n",
    "# Sampling rate.\n",
    "sr = 22050\n",
    "\n",
    "# Let's make sure all files have the same amount of samples, pick a duration right under 30 seconds.\n",
    "TOTAL_SAMPLES = 29 * sr\n",
    "\n",
    "# The dataset contains 999 files. Lets make it bigger. \n",
    "# X amount of slices => X times more training examples.\n",
    "NUM_SLICES = 10\n",
    "SAMPLES_PER_SLICE = int(TOTAL_SAMPLES / NUM_SLICES)"
   ]
  },
  {
   "cell_type": "code",
   "execution_count": 3,
   "metadata": {},
   "outputs": [],
   "source": [
    "def preprocess_data(source_path, json_path):\n",
    "\n",
    "    # Let's create a dictionary of labels and processed data.\n",
    "    mydict = {\n",
    "        \"labels\": [],\n",
    "        \"mfcc\": []\n",
    "        }\n",
    "\n",
    "    # Let's browse each file, slice it and generate the 13 band mfcc for each slice.\n",
    "    for i, (dirpath, dirnames, filenames) in enumerate(os.walk(source_path)):\n",
    "\n",
    "        for file in filenames:\n",
    "            song, sr = librosa.load(os.path.join(dirpath, file), duration=29)\n",
    "\n",
    "            for s in range(NUM_SLICES):\n",
    "                start_sample = SAMPLES_PER_SLICE * s\n",
    "                end_sample = start_sample + SAMPLES_PER_SLICE\n",
    "                mfcc = librosa.feature.mfcc(y=song[start_sample:end_sample], sr=sr, n_mfcc=13)\n",
    "                mfcc = mfcc.T\n",
    "                mydict[\"labels\"].append(i-1)\n",
    "                mydict[\"mfcc\"].append(mfcc.tolist())\n",
    "\n",
    "    # Let's write the dictionary in a json file.    \n",
    "    with open(json_path, 'w') as f:\n",
    "        json.dump(mydict, f)\n",
    "    f.close()"
   ]
  },
  {
   "cell_type": "code",
   "execution_count": 4,
   "metadata": {},
   "outputs": [],
   "source": [
    "def load_data(json_path):\n",
    "\n",
    "    with open(json_path, 'r') as f:\n",
    "        data = json.load(f)\n",
    "    f.close()\n",
    "\n",
    "    # Let's load our data into numpy arrays for TensorFlow compatibility.\n",
    "    X = np.array(data[\"mfcc\"])\n",
    "    y = np.array(data[\"labels\"])\n",
    "\n",
    "    return X, y"
   ]
  },
  {
   "cell_type": "code",
   "execution_count": 5,
   "metadata": {},
   "outputs": [],
   "source": [
    "def prepare_datasets(inputs, targets, split_size):\n",
    "    \n",
    "    # Creating a validation set and a test set.\n",
    "    inputs_train, inputs_val, targets_train, targets_val = train_test_split(inputs, targets, test_size=split_size)\n",
    "    inputs_train, inputs_test, targets_train, targets_test = train_test_split(inputs_train, targets_train, test_size=split_size)\n",
    "        \n",
    "    return inputs_train, inputs_val, inputs_test, targets_train, targets_val, targets_test"
   ]
  },
  {
   "cell_type": "code",
   "execution_count": 6,
   "metadata": {},
   "outputs": [],
   "source": [
    "def design_model(input_shape):\n",
    "\n",
    "    # Let's design the model architecture.\n",
    "    model = tf.keras.models.Sequential([\n",
    "        tf.keras.layers.LSTM(64, input_shape= input_shape, return_sequences=True),\n",
    "        tf.keras.layers.LSTM(64),\n",
    "        \n",
    "        tf.keras.layers.Dense(64, activation='relu'), \n",
    "        tf.keras.layers.Dropout(0.3),\n",
    "\n",
    "\n",
    "        tf.keras.layers.Dense(len(np.unique(targets)), activation='softmax')\n",
    "    ])\n",
    "\n",
    "    return model"
   ]
  },
  {
   "cell_type": "code",
   "execution_count": 7,
   "metadata": {},
   "outputs": [],
   "source": [
    "def make_prediction(model, X, y, idx):\n",
    "    \n",
    "    genre_dict = {\n",
    "        0 : \"blues\",\n",
    "        1 : \"classical\",\n",
    "        2 : \"country\",\n",
    "        3 : \"disco\",\n",
    "        4 : \"hiphop\",\n",
    "        5 : \"jazz\",\n",
    "        6 : \"metal\",\n",
    "        7 : \"pop\",\n",
    "        8 : \"reggae\",\n",
    "        9 : \"rock\",\n",
    "        }\n",
    "        \n",
    "    predictions = model.predict(X)\n",
    "    genre = np.argmax(predictions[idx])\n",
    "    \n",
    "    print(\"\\n---Now testing the model for one audio file---\\nThe model predicts: {}, and ground truth is: {}.\\n\".format(genre_dict[genre], genre_dict[y[idx]]))"
   ]
  },
  {
   "cell_type": "code",
   "execution_count": 8,
   "metadata": {},
   "outputs": [],
   "source": [
    "def plot_performance(hist):\n",
    "    \n",
    "    acc = hist.history['acc']\n",
    "    val_acc = hist.history['val_acc']\n",
    "    loss = hist.history['loss']\n",
    "    val_loss = hist.history['val_loss']\n",
    "\n",
    "    epochs = range(len(acc))\n",
    "\n",
    "    plt.plot(epochs, acc, 'r', label='Training accuracy')\n",
    "    plt.plot(epochs, val_acc, 'b', label='Validation accuracy')\n",
    "    plt.title('Training and validation accuracy')\n",
    "    plt.legend()\n",
    "    plt.figure()\n",
    "\n",
    "    plt.plot(epochs, loss, 'r', label='Training Loss')\n",
    "    plt.plot(epochs, val_loss, 'b', label='Validation Loss')\n",
    "    plt.title('Training and validation loss')\n",
    "    plt.legend()\n",
    "\n",
    "    plt.show()"
   ]
  },
  {
   "cell_type": "code",
   "execution_count": 9,
   "metadata": {},
   "outputs": [
    {
     "name": "stdout",
     "output_type": "stream",
     "text": [
      "Model: \"sequential\"\n",
      "_________________________________________________________________\n",
      "Layer (type)                 Output Shape              Param #   \n",
      "=================================================================\n",
      "lstm (LSTM)                  (None, 125, 64)           19968     \n",
      "_________________________________________________________________\n",
      "lstm_1 (LSTM)                (None, 64)                33024     \n",
      "_________________________________________________________________\n",
      "dense (Dense)                (None, 64)                4160      \n",
      "_________________________________________________________________\n",
      "dropout (Dropout)            (None, 64)                0         \n",
      "_________________________________________________________________\n",
      "dense_1 (Dense)              (None, 10)                650       \n",
      "=================================================================\n",
      "Total params: 57,802\n",
      "Trainable params: 57,802\n",
      "Non-trainable params: 0\n",
      "_________________________________________________________________\n",
      "Epoch 1/30\n",
      "200/200 [==============================] - 26s 111ms/step - loss: 1.8957 - acc: 0.3254 - val_loss: 1.4244 - val_acc: 0.4815\n",
      "Epoch 2/30\n",
      "200/200 [==============================] - 21s 103ms/step - loss: 1.4296 - acc: 0.4910 - val_loss: 1.2731 - val_acc: 0.5425\n",
      "Epoch 3/30\n",
      "200/200 [==============================] - 21s 104ms/step - loss: 1.2927 - acc: 0.5450 - val_loss: 1.2631 - val_acc: 0.5420\n",
      "Epoch 4/30\n",
      "200/200 [==============================] - 20s 98ms/step - loss: 1.2159 - acc: 0.5779 - val_loss: 1.1698 - val_acc: 0.5846\n",
      "Epoch 5/30\n",
      "200/200 [==============================] - 19s 97ms/step - loss: 1.0907 - acc: 0.6183 - val_loss: 1.1409 - val_acc: 0.6026\n",
      "Epoch 6/30\n",
      "200/200 [==============================] - 20s 100ms/step - loss: 1.0144 - acc: 0.6541 - val_loss: 1.0346 - val_acc: 0.6301\n",
      "Epoch 7/30\n",
      "200/200 [==============================] - 19s 97ms/step - loss: 0.9399 - acc: 0.6863 - val_loss: 1.0214 - val_acc: 0.6341\n",
      "Epoch 8/30\n",
      "200/200 [==============================] - 19s 97ms/step - loss: 0.8898 - acc: 0.7053 - val_loss: 1.0015 - val_acc: 0.6642\n",
      "Epoch 9/30\n",
      "200/200 [==============================] - 20s 100ms/step - loss: 0.8538 - acc: 0.7034 - val_loss: 0.9556 - val_acc: 0.6742\n",
      "Epoch 10/30\n",
      "200/200 [==============================] - 19s 97ms/step - loss: 0.8182 - acc: 0.7324 - val_loss: 0.9243 - val_acc: 0.6857\n",
      "Epoch 11/30\n",
      "200/200 [==============================] - 20s 99ms/step - loss: 0.7458 - acc: 0.7513 - val_loss: 0.9283 - val_acc: 0.6817\n",
      "Epoch 12/30\n",
      "200/200 [==============================] - 20s 98ms/step - loss: 0.7214 - acc: 0.7520 - val_loss: 0.8977 - val_acc: 0.6952\n",
      "Epoch 13/30\n",
      "200/200 [==============================] - 19s 97ms/step - loss: 0.7224 - acc: 0.7569 - val_loss: 0.8798 - val_acc: 0.6957\n",
      "Epoch 14/30\n",
      "200/200 [==============================] - 20s 98ms/step - loss: 0.6535 - acc: 0.7790 - val_loss: 0.8503 - val_acc: 0.7187\n",
      "Epoch 15/30\n",
      "200/200 [==============================] - 20s 97ms/step - loss: 0.6265 - acc: 0.7932 - val_loss: 0.8241 - val_acc: 0.7187\n",
      "Epoch 16/30\n",
      "200/200 [==============================] - 19s 97ms/step - loss: 0.6014 - acc: 0.7888 - val_loss: 0.8846 - val_acc: 0.7077\n",
      "Epoch 17/30\n",
      "200/200 [==============================] - 20s 98ms/step - loss: 0.5612 - acc: 0.8069 - val_loss: 0.8400 - val_acc: 0.7397\n",
      "Epoch 18/30\n",
      "200/200 [==============================] - 20s 98ms/step - loss: 0.5371 - acc: 0.8174 - val_loss: 0.8565 - val_acc: 0.7282\n",
      "Epoch 19/30\n",
      "200/200 [==============================] - 20s 98ms/step - loss: 0.5317 - acc: 0.8181 - val_loss: 0.8435 - val_acc: 0.7432\n",
      "Epoch 20/30\n",
      "200/200 [==============================] - 20s 99ms/step - loss: 0.5128 - acc: 0.8300 - val_loss: 0.7957 - val_acc: 0.7412\n",
      "Epoch 21/30\n",
      "200/200 [==============================] - 20s 100ms/step - loss: 0.4656 - acc: 0.8444 - val_loss: 0.8179 - val_acc: 0.7422\n",
      "Epoch 22/30\n",
      "200/200 [==============================] - 19s 97ms/step - loss: 0.4572 - acc: 0.8474 - val_loss: 0.8153 - val_acc: 0.7508\n",
      "Epoch 23/30\n",
      "200/200 [==============================] - 20s 100ms/step - loss: 0.4136 - acc: 0.8597 - val_loss: 0.8495 - val_acc: 0.7518\n",
      "Epoch 24/30\n",
      "200/200 [==============================] - 20s 99ms/step - loss: 0.4263 - acc: 0.8564 - val_loss: 0.8593 - val_acc: 0.7513\n",
      "Epoch 25/30\n",
      "200/200 [==============================] - 20s 98ms/step - loss: 0.3879 - acc: 0.8705 - val_loss: 0.8490 - val_acc: 0.7578\n",
      "Epoch 26/30\n",
      "200/200 [==============================] - 20s 98ms/step - loss: 0.3766 - acc: 0.8701 - val_loss: 0.8021 - val_acc: 0.7648\n",
      "Epoch 27/30\n",
      "200/200 [==============================] - 20s 98ms/step - loss: 0.3497 - acc: 0.8835 - val_loss: 1.0243 - val_acc: 0.7292\n",
      "Epoch 28/30\n",
      "200/200 [==============================] - 20s 98ms/step - loss: 0.3268 - acc: 0.8916 - val_loss: 0.8524 - val_acc: 0.7638\n",
      "Epoch 29/30\n",
      "200/200 [==============================] - 20s 99ms/step - loss: 0.3126 - acc: 0.8941 - val_loss: 0.8551 - val_acc: 0.7593\n",
      "Epoch 30/30\n",
      "200/200 [==============================] - 20s 99ms/step - loss: 0.3114 - acc: 0.9022 - val_loss: 0.8521 - val_acc: 0.7668\n"
     ]
    },
    {
     "data": {
      "image/png": "[encoded data removed]",
      "text/plain": [
       "<Figure size 432x288 with 1 Axes>"
      ]
     },
     "metadata": {
      "needs_background": "light"
     },
     "output_type": "display_data"
    },
    {
     "data": {
      "image/png": "[encoded data removed]",
      "text/plain": [
       "<Figure size 432x288 with 1 Axes>"
      ]
     },
     "metadata": {
      "needs_background": "light"
     },
     "output_type": "display_data"
    },
    {
     "name": "stdout",
     "output_type": "stream",
     "text": [
      "\n",
      "---Now testing the model for one audio file---\n",
      "The model predicts: metal, and ground truth is: metal.\n",
      "\n"
     ]
    }
   ],
   "source": [
    "\n",
    "if __name__ == \"__main__\":\n",
    "\n",
    "    preprocess_data(source_path=SOURCE_PATH, json_path=JSON_PATH)\n",
    "    \n",
    "    inputs, targets = load_data(json_path=JSON_PATH)\n",
    "    \n",
    "    Xtrain, Xval, Xtest, ytrain, yval, ytest = prepare_datasets(inputs, targets, 0.2)\n",
    "\n",
    "    input_shape = (Xtrain.shape[1], Xtrain.shape[2])\n",
    "    model = design_model(input_shape)\n",
    "\n",
    "    # Selection of the optimizer, loss type and metrics for performance evaluation.\n",
    "    model.compile(optimizer = tf.keras.optimizers.RMSprop(lr=0.001),\n",
    "                     loss='sparse_categorical_crossentropy',\n",
    "                     metrics = ['acc']\n",
    "                     )\n",
    "\n",
    "    model.summary()\n",
    "\n",
    "    #Training the model.\n",
    "    history = model.fit(Xtrain, ytrain,\n",
    "                        validation_data=(Xval, yval),\n",
    "                        epochs=30,\n",
    "                        batch_size=32\n",
    "                        )\n",
    "\n",
    "    plot_performance(history)\n",
    "\n",
    "    # Testing the model on never seen before data.\n",
    "    make_prediction(model, Xtest, ytest, 24)\n"
   ]
  },
  {
   "cell_type": "code",
   "execution_count": null,
   "metadata": {},
   "outputs": [],
   "source": []
  }
 ],
 "metadata": {
  "kernelspec": {
   "display_name": "Python 3",
   "language": "python",
   "name": "python3"
  },
  "language_info": {
   "codemirror_mode": {
    "name": "ipython",
    "version": 3
   },
   "file_extension": ".py",
   "mimetype": "text/x-python",
   "name": "python",
   "nbconvert_exporter": "python",
   "pygments_lexer": "ipython3",
   "version": "3.8.5"
  }
 },
 "nbformat": 4,
 "nbformat_minor": 4
}
