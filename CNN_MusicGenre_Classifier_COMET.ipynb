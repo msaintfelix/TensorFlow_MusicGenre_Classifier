{
 "cells": [
  {
   "cell_type": "markdown",
   "metadata": {},
   "source": [
    "## Music genre classifier with TensorFlow"
   ]
  },
  {
   "cell_type": "markdown",
   "metadata": {},
   "source": [
    "The objective of this project is to classify 30 sec wav files by genre using a TensorFlow CNN model. The GTZAN dataset can be found here:\n",
    "\n",
    "https://www.kaggle.com/andradaolteanu/gtzan-dataset-music-genre-classification\n",
    "\n",
    "To classify audio samples, we will preprocess them by calculating their MFCC, which is a temporal representation of the energy for each perceived frequency band. In this case, we are choosing 13 bands."
   ]
  },
  {
   "cell_type": "code",
   "execution_count": 11,
   "metadata": {},
   "outputs": [],
   "source": [
    "import os\n",
    "import json\n",
    "import numpy as np\n",
    "import librosa\n",
    "import matplotlib.pyplot as plt\n",
    "from sklearn.model_selection import train_test_split\n",
    "import tensorflow as tf"
   ]
  },
  {
   "cell_type": "code",
   "execution_count": 12,
   "metadata": {},
   "outputs": [],
   "source": [
    "# Dataset location\n",
    "SOURCE_PATH = 'Dataset/genres_original/'\n",
    "\n",
    "# Path to labels and processed data file, json format.\n",
    "JSON_PATH = 'data.json'\n",
    "\n",
    "# Sampling rate.\n",
    "sr = 22050\n",
    "\n",
    "# Let's make sure all files have the same amount of samples, pick a duration right under 30 seconds.\n",
    "TOTAL_SAMPLES = 29 * sr\n",
    "\n",
    "# The dataset contains 999 files. Lets make it bigger. \n",
    "# X amount of slices => X times more training examples.\n",
    "NUM_SLICES = 10\n",
    "SAMPLES_PER_SLICE = int(TOTAL_SAMPLES / NUM_SLICES)"
   ]
  },
  {
   "cell_type": "code",
   "execution_count": 13,
   "metadata": {},
   "outputs": [],
   "source": [
    "def preprocess_data(source_path, json_path):\n",
    "\n",
    "    # Let's create a dictionary of labels and processed data.\n",
    "    mydict = {\n",
    "        \"labels\": [],\n",
    "        \"mfcc\": []\n",
    "        }\n",
    "\n",
    "    # Let's browse each file, slice it and generate the 13 band mfcc for each slice.\n",
    "    for i, (dirpath, dirnames, filenames) in enumerate(os.walk(source_path)):\n",
    "\n",
    "        for file in filenames:\n",
    "            song, sr = librosa.load(os.path.join(dirpath, file), duration=29)\n",
    "\n",
    "            for s in range(NUM_SLICES):\n",
    "                start_sample = SAMPLES_PER_SLICE * s\n",
    "                end_sample = start_sample + SAMPLES_PER_SLICE\n",
    "                mfcc = librosa.feature.mfcc(y=song[start_sample:end_sample], sr=sr, n_mfcc=13)\n",
    "                mfcc = mfcc.T\n",
    "                mydict[\"labels\"].append(i-1)\n",
    "                mydict[\"mfcc\"].append(mfcc.tolist())\n",
    "\n",
    "    # Let's write the dictionary in a json file.    \n",
    "    with open(json_path, 'w') as f:\n",
    "        json.dump(mydict, f)\n",
    "    f.close()"
   ]
  },
  {
   "cell_type": "code",
   "execution_count": 14,
   "metadata": {},
   "outputs": [],
   "source": [
    "def load_data(json_path):\n",
    "\n",
    "    with open(json_path, 'r') as f:\n",
    "        data = json.load(f)\n",
    "    f.close()\n",
    "\n",
    "    # Let's load our data into numpy arrays for TensorFlow compatibility.\n",
    "    X = np.array(data[\"mfcc\"])\n",
    "    y = np.array(data[\"labels\"])\n",
    "    print(X.shape)\n",
    "\n",
    "    return X, y"
   ]
  },
  {
   "cell_type": "code",
   "execution_count": 15,
   "metadata": {},
   "outputs": [],
   "source": [
    "def prepare_datasets(inputs, targets, split_size):\n",
    "    \n",
    "    # Creating a validation set and a test set.\n",
    "    inputs_train, inputs_val, targets_train, targets_val = train_test_split(inputs, targets, test_size=split_size)\n",
    "    inputs_train, inputs_test, targets_train, targets_test = train_test_split(inputs_train, targets_train, test_size=split_size)\n",
    "    \n",
    "    # Our CNN model expects 3D input shape.\n",
    "    inputs_train = inputs_train[..., np.newaxis]\n",
    "    inputs_val = inputs_val[..., np.newaxis]\n",
    "    inputs_test = inputs_test[..., np.newaxis]\n",
    "    \n",
    "    return inputs_train, inputs_val, inputs_test, targets_train, targets_val, targets_test"
   ]
  },
  {
   "cell_type": "code",
   "execution_count": 16,
   "metadata": {},
   "outputs": [],
   "source": [
    "def design_model(input_shape):\n",
    "\n",
    "    # Let's design the model architecture.\n",
    "    model = tf.keras.models.Sequential([\n",
    "        \n",
    "        tf.keras.layers.Conv2D(32, (3,3), activation='relu', input_shape=input_shape),\n",
    "        tf.keras.layers.MaxPooling2D((3,3), strides=(2,2), padding='same'),\n",
    "        tf.keras.layers.BatchNormalization(),\n",
    "        \n",
    "        tf.keras.layers.Conv2D(32, (3,3), activation='relu'),\n",
    "        tf.keras.layers.MaxPooling2D((3,3), strides=(2,2), padding='same'),\n",
    "        tf.keras.layers.BatchNormalization(),\n",
    "        \n",
    "        tf.keras.layers.Conv2D(32, (2,2), activation='relu'),\n",
    "        tf.keras.layers.MaxPooling2D((3,3), strides=(2,2), padding='same'),\n",
    "        tf.keras.layers.BatchNormalization(),\n",
    "        tf.keras.layers.Dropout(0.3),\n",
    "        \n",
    "        tf.keras.layers.Flatten(),\n",
    "        tf.keras.layers.Dense(64, activation='relu'), \n",
    "        tf.keras.layers.Dense(len(np.unique(targets)), activation='softmax')\n",
    "    ])\n",
    "\n",
    "    return model"
   ]
  },
  {
   "cell_type": "code",
   "execution_count": 17,
   "metadata": {},
   "outputs": [],
   "source": [
    "def make_prediction(model, X, y, idx):\n",
    "    \n",
    "    genre_dict = {\n",
    "        0 : \"blues\",\n",
    "        1 : \"classical\",\n",
    "        2 : \"country\",\n",
    "        3 : \"disco\",\n",
    "        4 : \"hiphop\",\n",
    "        5 : \"jazz\",\n",
    "        6 : \"metal\",\n",
    "        7 : \"pop\",\n",
    "        8 : \"reggae\",\n",
    "        9 : \"rock\",\n",
    "        }\n",
    "        \n",
    "    predictions = model.predict(X)\n",
    "    genre = np.argmax(predictions[idx])\n",
    "    \n",
    "    print(\"\\n---Now testing the model for one audio file---\\nThe model predicts: {}, and ground truth is: {}.\\n\".format(genre_dict[genre], genre_dict[y[idx]]))"
   ]
  },
  {
   "cell_type": "code",
   "execution_count": 18,
   "metadata": {},
   "outputs": [],
   "source": [
    "def plot_performance(hist):\n",
    "    \n",
    "    acc = hist.history['acc']\n",
    "    val_acc = hist.history['val_acc']\n",
    "    loss = hist.history['loss']\n",
    "    val_loss = hist.history['val_loss']\n",
    "\n",
    "    epochs = range(len(acc))\n",
    "    \n",
    "    experiment.log_metric(\"accuracy\", acc)\n",
    "\n",
    "    plt.plot(epochs, acc, 'r', label='Training accuracy')\n",
    "    plt.plot(epochs, val_acc, 'b', label='Validation accuracy')\n",
    "    plt.title('Training and validation accuracy')\n",
    "    plt.legend()\n",
    "    plt.figure()\n",
    "\n",
    "    plt.plot(epochs, loss, 'r', label='Training Loss')\n",
    "    plt.plot(epochs, val_loss, 'b', label='Validation Loss')\n",
    "    plt.title('Training and validation loss')\n",
    "    plt.legend()\n",
    "\n",
    "    plt.show()"
   ]
  },
  {
   "cell_type": "code",
   "execution_count": null,
   "metadata": {},
   "outputs": [
    {
     "name": "stdout",
     "output_type": "stream",
     "text": [
      "Please enter your Comet API key from https://www.comet-ml.com/api/my/settings/\n",
      "(api key may not show as you type)\n",
      "Comet API key: ········\n"
     ]
    },
    {
     "name": "stderr",
     "output_type": "stream",
     "text": [
      "COMET INFO: Comet API key is valid\n",
      "COMET INFO: Comet API key saved in /Users/msf/.comet.config\n"
     ]
    },
    {
     "name": "stdout",
     "output_type": "stream",
     "text": [
      "(9990, 125, 13)\n"
     ]
    },
    {
     "name": "stderr",
     "output_type": "stream",
     "text": [
      "COMET WARNING: Comet has disabled auto-logging functionality as it has been imported after the following ML modules: tensorboard, tensorflow, sklearn. Metrics and hyperparameters can still be logged using comet_ml.log_metrics() and comet_ml.log_parameters()\n",
      "COMET WARNING: As you are running in a Jupyter environment, you will need to call `experiment.end()` when finished to ensure all metrics and code are logged before exiting.\n"
     ]
    },
    {
     "name": "stdout",
     "output_type": "stream",
     "text": [
      "Model: \"sequential_2\"\n",
      "_________________________________________________________________\n",
      "Layer (type)                 Output Shape              Param #   \n",
      "=================================================================\n",
      "conv2d_6 (Conv2D)            (None, 123, 11, 32)       320       \n",
      "_________________________________________________________________\n",
      "max_pooling2d_6 (MaxPooling2 (None, 62, 6, 32)         0         \n",
      "_________________________________________________________________\n",
      "batch_normalization_6 (Batch (None, 62, 6, 32)         128       \n",
      "_________________________________________________________________\n",
      "conv2d_7 (Conv2D)            (None, 60, 4, 32)         9248      \n",
      "_________________________________________________________________\n",
      "max_pooling2d_7 (MaxPooling2 (None, 30, 2, 32)         0         \n",
      "_________________________________________________________________\n",
      "batch_normalization_7 (Batch (None, 30, 2, 32)         128       \n",
      "_________________________________________________________________\n",
      "conv2d_8 (Conv2D)            (None, 29, 1, 32)         4128      \n",
      "_________________________________________________________________\n",
      "max_pooling2d_8 (MaxPooling2 (None, 15, 1, 32)         0         \n",
      "_________________________________________________________________\n",
      "batch_normalization_8 (Batch (None, 15, 1, 32)         128       \n",
      "_________________________________________________________________\n",
      "dropout_2 (Dropout)          (None, 15, 1, 32)         0         \n",
      "_________________________________________________________________\n",
      "flatten_2 (Flatten)          (None, 480)               0         \n",
      "_________________________________________________________________\n",
      "dense_4 (Dense)              (None, 64)                30784     \n",
      "_________________________________________________________________\n",
      "dense_5 (Dense)              (None, 10)                650       \n",
      "=================================================================\n",
      "Total params: 45,514\n",
      "Trainable params: 45,322\n",
      "Non-trainable params: 192\n",
      "_________________________________________________________________\n"
     ]
    },
    {
     "name": "stderr",
     "output_type": "stream",
     "text": [
      "COMET INFO: Experiment is live on comet.ml https://www.comet.ml/msaintfelix/audio-classification/a78440010a7841c2afb6d8644124c00e\n",
      "\n"
     ]
    },
    {
     "name": "stdout",
     "output_type": "stream",
     "text": [
      "Epoch 1/30\n",
      "200/200 [==============================] - 10s 45ms/step - loss: 1.8962 - acc: 0.3522 - val_loss: 1.4422 - val_acc: 0.4885\n",
      "Epoch 2/30\n",
      "200/200 [==============================] - 8s 38ms/step - loss: 1.1894 - acc: 0.5726 - val_loss: 1.0835 - val_acc: 0.6066\n",
      "Epoch 3/30\n",
      "200/200 [==============================] - 9s 44ms/step - loss: 1.0012 - acc: 0.6598 - val_loss: 0.9759 - val_acc: 0.6542\n",
      "Epoch 4/30\n",
      "200/200 [==============================] - 9s 44ms/step - loss: 0.8983 - acc: 0.6941 - val_loss: 0.9594 - val_acc: 0.6637\n",
      "Epoch 5/30\n",
      "200/200 [==============================] - 8s 42ms/step - loss: 0.7653 - acc: 0.7335 - val_loss: 0.9529 - val_acc: 0.6692\n",
      "Epoch 6/30\n",
      "200/200 [==============================] - 10s 49ms/step - loss: 0.7122 - acc: 0.7520 - val_loss: 0.8445 - val_acc: 0.7247\n",
      "Epoch 7/30\n",
      "200/200 [==============================] - 9s 43ms/step - loss: 0.6696 - acc: 0.7629 - val_loss: 1.0033 - val_acc: 0.6451\n",
      "Epoch 8/30\n",
      "200/200 [==============================] - 10s 47ms/step - loss: 0.6120 - acc: 0.7854 - val_loss: 0.8583 - val_acc: 0.7177\n",
      "Epoch 9/30\n",
      "200/200 [==============================] - 11s 54ms/step - loss: 0.5796 - acc: 0.8012 - val_loss: 0.8396 - val_acc: 0.7257\n",
      "Epoch 10/30\n",
      "200/200 [==============================] - 9s 43ms/step - loss: 0.5245 - acc: 0.8181 - val_loss: 0.7063 - val_acc: 0.7653\n",
      "Epoch 11/30\n",
      "200/200 [==============================] - 9s 46ms/step - loss: 0.5004 - acc: 0.8278 - val_loss: 0.8042 - val_acc: 0.7192\n",
      "Epoch 12/30\n",
      "200/200 [==============================] - 10s 49ms/step - loss: 0.4714 - acc: 0.8283 - val_loss: 0.7395 - val_acc: 0.7683\n",
      "Epoch 13/30\n",
      "200/200 [==============================] - 9s 47ms/step - loss: 0.4725 - acc: 0.8323 - val_loss: 0.8792 - val_acc: 0.7327\n",
      "Epoch 14/30\n",
      "200/200 [==============================] - 9s 43ms/step - loss: 0.4294 - acc: 0.8465 - val_loss: 0.7475 - val_acc: 0.7658\n",
      "Epoch 15/30\n",
      "200/200 [==============================] - 8s 39ms/step - loss: 0.4176 - acc: 0.8510 - val_loss: 0.7523 - val_acc: 0.7733\n",
      "Epoch 16/30\n",
      "200/200 [==============================] - 8s 39ms/step - loss: 0.3853 - acc: 0.8643 - val_loss: 0.8046 - val_acc: 0.7432\n",
      "Epoch 17/30\n",
      "200/200 [==============================] - 8s 39ms/step - loss: 0.3540 - acc: 0.8690 - val_loss: 0.7069 - val_acc: 0.7763\n",
      "Epoch 18/30\n",
      "200/200 [==============================] - 8s 40ms/step - loss: 0.3513 - acc: 0.8767 - val_loss: 0.7491 - val_acc: 0.7748\n",
      "Epoch 19/30\n",
      "200/200 [==============================] - 8s 40ms/step - loss: 0.3393 - acc: 0.8781 - val_loss: 0.8286 - val_acc: 0.7573\n",
      "Epoch 20/30\n",
      "200/200 [==============================] - 8s 41ms/step - loss: 0.3193 - acc: 0.8915 - val_loss: 0.7717 - val_acc: 0.7738\n",
      "Epoch 21/30\n",
      "200/200 [==============================] - 9s 46ms/step - loss: 0.2893 - acc: 0.8957 - val_loss: 0.7825 - val_acc: 0.7738\n",
      "Epoch 22/30\n",
      "200/200 [==============================] - 11s 53ms/step - loss: 0.3008 - acc: 0.8933 - val_loss: 0.7386 - val_acc: 0.7878\n",
      "Epoch 23/30\n",
      "200/200 [==============================] - 10s 50ms/step - loss: 0.3043 - acc: 0.8922 - val_loss: 0.9777 - val_acc: 0.7342\n",
      "Epoch 24/30\n",
      "200/200 [==============================] - 10s 51ms/step - loss: 0.3182 - acc: 0.8837 - val_loss: 0.7943 - val_acc: 0.7713\n",
      "Epoch 25/30\n",
      "200/200 [==============================] - 8s 41ms/step - loss: 0.2767 - acc: 0.9031 - val_loss: 0.7303 - val_acc: 0.7823\n",
      "Epoch 26/30\n",
      "200/200 [==============================] - 9s 47ms/step - loss: 0.2611 - acc: 0.9125 - val_loss: 0.7747 - val_acc: 0.7838\n",
      "Epoch 27/30\n",
      "200/200 [==============================] - 10s 48ms/step - loss: 0.2618 - acc: 0.9106 - val_loss: 0.8321 - val_acc: 0.7728\n",
      "Epoch 28/30\n",
      "120/200 [=================>............] - ETA: 3s - loss: 0.2257 - acc: 0.9308"
     ]
    }
   ],
   "source": [
    "\n",
    "if __name__ == \"__main__\":\n",
    "    \n",
    "    import comet_ml\n",
    "    comet_ml.init(project_name='audio_classification')\n",
    "\n",
    "    preprocess_data(source_path=SOURCE_PATH, json_path=JSON_PATH)\n",
    "    \n",
    "    inputs, targets = load_data(json_path=JSON_PATH)\n",
    "        \n",
    "    Xtrain, Xval, Xtest, ytrain, yval, ytest = prepare_datasets(inputs, targets, 0.2)\n",
    "\n",
    "    input_shape = (Xtrain.shape[1], Xtrain.shape[2], 1)\n",
    "    model = design_model(input_shape)\n",
    "\n",
    "    # Selection of the optimizer, loss type and metrics for performance evaluation.\n",
    "    model.compile(optimizer = tf.keras.optimizers.RMSprop(lr=0.001),\n",
    "                     loss='sparse_categorical_crossentropy',\n",
    "                     metrics = ['acc']\n",
    "                     )\n",
    "\n",
    "    model.summary()\n",
    "    \n",
    "    from comet_ml import Experiment\n",
    "    experiment = Experiment(\n",
    "    auto_metric_logging=True,\n",
    "    auto_param_logging=True,\n",
    "    auto_histogram_weight_logging=True,\n",
    "    auto_histogram_gradient_logging=True,\n",
    "    auto_histogram_activation_logging=True,\n",
    "    )\n",
    "\n",
    "    # Training the model.\n",
    "    history = model.fit(Xtrain, ytrain,\n",
    "                        validation_data=(Xval, yval),\n",
    "                        epochs=30,\n",
    "                        batch_size=32\n",
    "                        )\n",
    "\n",
    "    plot_performance(history)\n",
    "\n",
    "    # Testing the model on never seen before data.\n",
    "    make_prediction(model, Xtest, ytest, 24)\n",
    "\n",
    "    experiment.end()"
   ]
  },
  {
   "cell_type": "code",
   "execution_count": null,
   "metadata": {},
   "outputs": [],
   "source": []
  }
 ],
 "metadata": {
  "kernelspec": {
   "display_name": "Python 3",
   "language": "python",
   "name": "python3"
  },
  "language_info": {
   "codemirror_mode": {
    "name": "ipython",
    "version": 3
   },
   "file_extension": ".py",
   "mimetype": "text/x-python",
   "name": "python",
   "nbconvert_exporter": "python",
   "pygments_lexer": "ipython3",
   "version": "3.8.5"
  }
 },
 "nbformat": 4,
 "nbformat_minor": 4
}
