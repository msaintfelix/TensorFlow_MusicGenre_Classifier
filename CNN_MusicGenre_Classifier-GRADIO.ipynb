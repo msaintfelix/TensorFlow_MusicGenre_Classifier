{
 "cells": [
  {
   "cell_type": "markdown",
   "metadata": {},
   "source": [
    "## Music genre classifier with TensorFlow"
   ]
  },
  {
   "cell_type": "markdown",
   "metadata": {},
   "source": [
    "The objective of this project is to classify 30 sec wav files by genre using a TensorFlow CNN model. The GTZAN dataset can be found here:\n",
    "\n",
    "https://www.kaggle.com/andradaolteanu/gtzan-dataset-music-genre-classification\n",
    "\n",
    "To classify audio samples, we will preprocess them by calculating their MFCC, which is a temporal representation of the energy for each perceived frequency band. In this case, we are choosing 13 bands."
   ]
  },
  {
   "cell_type": "code",
   "execution_count": 1,
   "metadata": {},
   "outputs": [],
   "source": [
    "import os\n",
    "import json\n",
    "import numpy as np\n",
    "import librosa\n",
    "import matplotlib.pyplot as plt\n",
    "from sklearn.model_selection import train_test_split\n",
    "import tensorflow as tf"
   ]
  },
  {
   "cell_type": "code",
   "execution_count": 2,
   "metadata": {},
   "outputs": [],
   "source": [
    "# Dataset location\n",
    "SOURCE_PATH = 'Dataset/genres_original/'\n",
    "\n",
    "# Path to labels and processed data file, json format.\n",
    "JSON_PATH = 'data.json'\n",
    "\n",
    "# Sampling rate.\n",
    "sr = 22050\n",
    "\n",
    "# Let's make sure all files have the same amount of samples, pick a duration right under 30 seconds.\n",
    "TOTAL_SAMPLES = 29 * sr\n",
    "\n",
    "# The dataset contains 999 files. Lets make it bigger. \n",
    "# X amount of slices => X times more training examples.\n",
    "NUM_SLICES = 10\n",
    "SAMPLES_PER_SLICE = int(TOTAL_SAMPLES / NUM_SLICES)"
   ]
  },
  {
   "cell_type": "code",
   "execution_count": 3,
   "metadata": {},
   "outputs": [],
   "source": [
    "def preprocess_data(source_path, json_path):\n",
    "\n",
    "    # Let's create a dictionary of labels and processed data.\n",
    "    mydict = {\n",
    "        \"labels\": [],\n",
    "        \"mfcc\": []\n",
    "        }\n",
    "\n",
    "    # Let's browse each file, slice it and generate the 13 band mfcc for each slice.\n",
    "    for i, (dirpath, dirnames, filenames) in enumerate(os.walk(source_path)):\n",
    "\n",
    "        for file in filenames:\n",
    "            song, sr = librosa.load(os.path.join(dirpath, file), duration=29)\n",
    "\n",
    "            for s in range(NUM_SLICES):\n",
    "                start_sample = SAMPLES_PER_SLICE * s\n",
    "                end_sample = start_sample + SAMPLES_PER_SLICE\n",
    "                mfcc = librosa.feature.mfcc(y=song[start_sample:end_sample], sr=sr, n_mfcc=13)\n",
    "                mfcc = mfcc.T\n",
    "                mydict[\"labels\"].append(i-1)\n",
    "                mydict[\"mfcc\"].append(mfcc.tolist())\n",
    "\n",
    "    # Let's write the dictionary in a json file.    \n",
    "    with open(json_path, 'w') as f:\n",
    "        json.dump(mydict, f)\n",
    "    f.close()"
   ]
  },
  {
   "cell_type": "code",
   "execution_count": 4,
   "metadata": {},
   "outputs": [],
   "source": [
    "def load_data(json_path):\n",
    "\n",
    "    with open(json_path, 'r') as f:\n",
    "        data = json.load(f)\n",
    "    f.close()\n",
    "\n",
    "    # Let's load our data into numpy arrays for TensorFlow compatibility.\n",
    "    X = np.array(data[\"mfcc\"])\n",
    "    y = np.array(data[\"labels\"])\n",
    "\n",
    "    return X, y"
   ]
  },
  {
   "cell_type": "code",
   "execution_count": 5,
   "metadata": {},
   "outputs": [],
   "source": [
    "def prepare_datasets(inputs, targets, split_size):\n",
    "    \n",
    "    # Creating a validation set and a test set.\n",
    "    inputs_train, inputs_val, targets_train, targets_val = train_test_split(inputs, targets, test_size=split_size)\n",
    "    inputs_train, inputs_test, targets_train, targets_test = train_test_split(inputs_train, targets_train, test_size=split_size)\n",
    "    \n",
    "    # Our CNN model expects 3D input shape.\n",
    "    inputs_train = inputs_train[..., np.newaxis]\n",
    "    inputs_val = inputs_val[..., np.newaxis]\n",
    "    inputs_test = inputs_test[..., np.newaxis]\n",
    "    \n",
    "    return inputs_train, inputs_val, inputs_test, targets_train, targets_val, targets_test"
   ]
  },
  {
   "cell_type": "code",
   "execution_count": 6,
   "metadata": {},
   "outputs": [],
   "source": [
    "def design_model(input_shape):\n",
    "\n",
    "    # Let's design the model architecture.\n",
    "    model = tf.keras.models.Sequential([\n",
    "        \n",
    "        tf.keras.layers.Conv2D(32, (3,3), activation='relu', input_shape=input_shape),\n",
    "        tf.keras.layers.MaxPooling2D((3,3), strides=(2,2), padding='same'),\n",
    "        tf.keras.layers.BatchNormalization(),\n",
    "        \n",
    "        tf.keras.layers.Conv2D(32, (3,3), activation='relu'),\n",
    "        tf.keras.layers.MaxPooling2D((3,3), strides=(2,2), padding='same'),\n",
    "        tf.keras.layers.BatchNormalization(),\n",
    "        \n",
    "        tf.keras.layers.Conv2D(32, (2,2), activation='relu'),\n",
    "        tf.keras.layers.MaxPooling2D((3,3), strides=(2,2), padding='same'),\n",
    "        tf.keras.layers.BatchNormalization(),\n",
    "        tf.keras.layers.Dropout(0.3),\n",
    "        \n",
    "        tf.keras.layers.Flatten(),\n",
    "        tf.keras.layers.Dense(64, activation='relu'), \n",
    "        tf.keras.layers.Dense(len(np.unique(targets)), activation='softmax')\n",
    "    ])\n",
    "\n",
    "    return model"
   ]
  },
  {
   "cell_type": "code",
   "execution_count": 7,
   "metadata": {},
   "outputs": [],
   "source": [
    "def make_prediction(model, X, y, idx):\n",
    "    \n",
    "    genre_dict = {\n",
    "        0 : \"blues\",\n",
    "        1 : \"classical\",\n",
    "        2 : \"country\",\n",
    "        3 : \"disco\",\n",
    "        4 : \"hiphop\",\n",
    "        5 : \"jazz\",\n",
    "        6 : \"metal\",\n",
    "        7 : \"pop\",\n",
    "        8 : \"reggae\",\n",
    "        9 : \"rock\",\n",
    "        }\n",
    "        \n",
    "    predictions = model.predict(X)\n",
    "    genre = np.argmax(predictions[idx])\n",
    "    \n",
    "    print(\"\\n---Now testing the model for one audio file---\\nThe model predicts: {}, and ground truth is: {}.\\n\".format(genre_dict[genre], genre_dict[y[idx]]))"
   ]
  },
  {
   "cell_type": "code",
   "execution_count": 8,
   "metadata": {},
   "outputs": [],
   "source": [
    "def plot_performance(hist):\n",
    "    \n",
    "    acc = hist.history['acc']\n",
    "    val_acc = hist.history['val_acc']\n",
    "    loss = hist.history['loss']\n",
    "    val_loss = hist.history['val_loss']\n",
    "\n",
    "    epochs = range(len(acc))\n",
    "\n",
    "    plt.plot(epochs, acc, 'r', label='Training accuracy')\n",
    "    plt.plot(epochs, val_acc, 'b', label='Validation accuracy')\n",
    "    plt.title('Training and validation accuracy')\n",
    "    plt.legend()\n",
    "    plt.figure()\n",
    "\n",
    "    plt.plot(epochs, loss, 'r', label='Training Loss')\n",
    "    plt.plot(epochs, val_loss, 'b', label='Validation Loss')\n",
    "    plt.title('Training and validation loss')\n",
    "    plt.legend()\n",
    "\n",
    "    plt.show()"
   ]
  },
  {
   "cell_type": "code",
   "execution_count": 14,
   "metadata": {},
   "outputs": [
    {
     "name": "stdout",
     "output_type": "stream",
     "text": [
      "Model: \"sequential_5\"\n",
      "_________________________________________________________________\n",
      "Layer (type)                 Output Shape              Param #   \n",
      "=================================================================\n",
      "conv2d_15 (Conv2D)           (None, 123, 11, 32)       320       \n",
      "_________________________________________________________________\n",
      "max_pooling2d_15 (MaxPooling (None, 62, 6, 32)         0         \n",
      "_________________________________________________________________\n",
      "batch_normalization_15 (Batc (None, 62, 6, 32)         128       \n",
      "_________________________________________________________________\n",
      "conv2d_16 (Conv2D)           (None, 60, 4, 32)         9248      \n",
      "_________________________________________________________________\n",
      "max_pooling2d_16 (MaxPooling (None, 30, 2, 32)         0         \n",
      "_________________________________________________________________\n",
      "batch_normalization_16 (Batc (None, 30, 2, 32)         128       \n",
      "_________________________________________________________________\n",
      "conv2d_17 (Conv2D)           (None, 29, 1, 32)         4128      \n",
      "_________________________________________________________________\n",
      "max_pooling2d_17 (MaxPooling (None, 15, 1, 32)         0         \n",
      "_________________________________________________________________\n",
      "batch_normalization_17 (Batc (None, 15, 1, 32)         128       \n",
      "_________________________________________________________________\n",
      "dropout_5 (Dropout)          (None, 15, 1, 32)         0         \n",
      "_________________________________________________________________\n",
      "flatten_5 (Flatten)          (None, 480)               0         \n",
      "_________________________________________________________________\n",
      "dense_10 (Dense)             (None, 64)                30784     \n",
      "_________________________________________________________________\n",
      "dense_11 (Dense)             (None, 10)                650       \n",
      "=================================================================\n",
      "Total params: 45,514\n",
      "Trainable params: 45,322\n",
      "Non-trainable params: 192\n",
      "_________________________________________________________________\n",
      "Epoch 1/25\n",
      "200/200 [==============================] - 10s 46ms/step - loss: 1.8999 - acc: 0.3578 - val_loss: 1.3704 - val_acc: 0.4965\n",
      "Epoch 2/25\n",
      "200/200 [==============================] - 9s 47ms/step - loss: 1.2050 - acc: 0.5681 - val_loss: 1.3918 - val_acc: 0.5045\n",
      "Epoch 3/25\n",
      "200/200 [==============================] - 10s 50ms/step - loss: 1.0522 - acc: 0.6182 - val_loss: 1.0307 - val_acc: 0.6331\n",
      "Epoch 4/25\n",
      "200/200 [==============================] - 8s 40ms/step - loss: 0.9185 - acc: 0.6627 - val_loss: 0.9896 - val_acc: 0.6612\n",
      "Epoch 5/25\n",
      "200/200 [==============================] - 11s 53ms/step - loss: 0.8026 - acc: 0.7137 - val_loss: 0.9706 - val_acc: 0.6637\n",
      "Epoch 6/25\n",
      "200/200 [==============================] - 10s 50ms/step - loss: 0.7563 - acc: 0.7299 - val_loss: 0.7791 - val_acc: 0.7282\n",
      "Epoch 7/25\n",
      "200/200 [==============================] - 9s 46ms/step - loss: 0.6765 - acc: 0.7653 - val_loss: 0.9874 - val_acc: 0.6486\n",
      "Epoch 8/25\n",
      "200/200 [==============================] - 8s 42ms/step - loss: 0.6214 - acc: 0.7741 - val_loss: 0.8645 - val_acc: 0.7007\n",
      "Epoch 9/25\n",
      "200/200 [==============================] - 9s 43ms/step - loss: 0.5602 - acc: 0.7974 - val_loss: 0.7727 - val_acc: 0.7427\n",
      "Epoch 10/25\n",
      "200/200 [==============================] - 8s 40ms/step - loss: 0.5637 - acc: 0.8014 - val_loss: 0.8329 - val_acc: 0.7207\n",
      "Epoch 11/25\n",
      "200/200 [==============================] - 8s 40ms/step - loss: 0.5090 - acc: 0.8222 - val_loss: 1.0702 - val_acc: 0.6642\n",
      "Epoch 12/25\n",
      "200/200 [==============================] - 8s 39ms/step - loss: 0.4770 - acc: 0.8321 - val_loss: 0.7402 - val_acc: 0.7643\n",
      "Epoch 13/25\n",
      "200/200 [==============================] - 8s 39ms/step - loss: 0.4512 - acc: 0.8424 - val_loss: 0.8014 - val_acc: 0.7387\n",
      "Epoch 14/25\n",
      "200/200 [==============================] - 8s 41ms/step - loss: 0.4315 - acc: 0.8420 - val_loss: 0.8516 - val_acc: 0.7482\n",
      "Epoch 15/25\n",
      "200/200 [==============================] - 8s 40ms/step - loss: 0.4077 - acc: 0.8547 - val_loss: 0.8372 - val_acc: 0.7352\n",
      "Epoch 16/25\n",
      "200/200 [==============================] - 8s 39ms/step - loss: 0.4120 - acc: 0.8563 - val_loss: 0.8760 - val_acc: 0.7247\n",
      "Epoch 17/25\n",
      "200/200 [==============================] - 8s 40ms/step - loss: 0.3831 - acc: 0.8602 - val_loss: 0.8106 - val_acc: 0.7487\n",
      "Epoch 18/25\n",
      "200/200 [==============================] - 8s 42ms/step - loss: 0.3590 - acc: 0.8798 - val_loss: 0.9858 - val_acc: 0.7182\n",
      "Epoch 19/25\n",
      "200/200 [==============================] - 9s 44ms/step - loss: 0.3330 - acc: 0.8815 - val_loss: 0.7254 - val_acc: 0.7753\n",
      "Epoch 20/25\n",
      "200/200 [==============================] - 9s 43ms/step - loss: 0.3312 - acc: 0.8805 - val_loss: 0.7202 - val_acc: 0.7733\n",
      "Epoch 21/25\n",
      "200/200 [==============================] - 8s 42ms/step - loss: 0.3214 - acc: 0.8870 - val_loss: 0.8176 - val_acc: 0.7563\n",
      "Epoch 22/25\n",
      "200/200 [==============================] - 8s 39ms/step - loss: 0.3242 - acc: 0.8853 - val_loss: 0.6942 - val_acc: 0.7818\n",
      "Epoch 23/25\n",
      "200/200 [==============================] - 8s 41ms/step - loss: 0.3006 - acc: 0.8932 - val_loss: 0.7702 - val_acc: 0.7668\n",
      "Epoch 24/25\n",
      "200/200 [==============================] - 9s 44ms/step - loss: 0.2752 - acc: 0.8972 - val_loss: 1.1262 - val_acc: 0.6967\n",
      "Epoch 25/25\n",
      "200/200 [==============================] - 9s 44ms/step - loss: 0.2829 - acc: 0.8936 - val_loss: 0.7313 - val_acc: 0.7783\n"
     ]
    },
    {
     "data": {
      "image/png": "[encoded data removed]",
      "text/plain": [
       "<Figure size 432x288 with 1 Axes>"
      ]
     },
     "metadata": {
      "needs_background": "light"
     },
     "output_type": "display_data"
    },
    {
     "data": {
      "image/png": "[encoded data removed]",
      "text/plain": [
       "<Figure size 432x288 with 1 Axes>"
      ]
     },
     "metadata": {
      "needs_background": "light"
     },
     "output_type": "display_data"
    },
    {
     "name": "stdout",
     "output_type": "stream",
     "text": [
      "\n",
      "---Now testing the model for one audio file---\n",
      "The model predicts: metal, and ground truth is: hiphop.\n",
      "\n"
     ]
    }
   ],
   "source": [
    "\n",
    "if __name__ == \"__main__\":\n",
    "\n",
    "    #preprocess_data(source_path=SOURCE_PATH, json_path=JSON_PATH)\n",
    "    \n",
    "    inputs, targets = load_data(json_path=JSON_PATH)\n",
    "        \n",
    "    Xtrain, Xval, Xtest, ytrain, yval, ytest = prepare_datasets(inputs, targets, 0.2)\n",
    "\n",
    "    input_shape = (Xtrain.shape[1], Xtrain.shape[2], 1)\n",
    "    model = design_model(input_shape)\n",
    "\n",
    "    # Selection of the optimizer, loss type and metrics for performance evaluation.\n",
    "    model.compile(optimizer = tf.keras.optimizers.RMSprop(lr=0.001),\n",
    "                     loss='sparse_categorical_crossentropy',\n",
    "                     metrics = ['acc']\n",
    "                     )\n",
    "\n",
    "    model.summary()\n",
    "\n",
    "    # Training the model.\n",
    "    history = model.fit(Xtrain, ytrain,\n",
    "                        validation_data=(Xval, yval),\n",
    "                        epochs=25,\n",
    "                        batch_size=32\n",
    "                        )\n",
    "    \n",
    "    model.save_weights('/Users/msf/GitHub/TensorFlow_MusicGenre_Classifier/MyModel.h5')\n",
    "\n",
    "    plot_performance(history)\n",
    "\n",
    "    # Testing the model on never seen before data.\n",
    "    make_prediction(model, Xtest, ytest, 24)"
   ]
  },
  {
   "cell_type": "code",
   "execution_count": null,
   "metadata": {},
   "outputs": [],
   "source": []
  }
 ],
 "metadata": {
  "kernelspec": {
   "display_name": "Python 3",
   "language": "python",
   "name": "python3"
  },
  "language_info": {
   "codemirror_mode": {
    "name": "ipython",
    "version": 3
   },
   "file_extension": ".py",
   "mimetype": "text/x-python",
   "name": "python",
   "nbconvert_exporter": "python",
   "pygments_lexer": "ipython3",
   "version": "3.8.5"
  }
 },
 "nbformat": 4,
 "nbformat_minor": 4
}
